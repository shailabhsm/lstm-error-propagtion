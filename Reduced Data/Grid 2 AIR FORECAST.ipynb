{
 "cells": [
  {
   "cell_type": "code",
   "execution_count": 30,
   "metadata": {},
   "outputs": [],
   "source": [
    "import pandas as pd\n",
    "import numpy as np\n",
    "import matplotlib.pyplot as plt\n",
    "from keras.models import Sequential\n",
    "from keras.layers import Dense, LSTM, Dropout\n",
    "from keras.preprocessing.sequence import TimeseriesGenerator\n",
    "from statsmodels.tsa.seasonal import seasonal_decompose\n",
    "from sklearn.preprocessing import MinMaxScaler\n",
    "from sklearn.metrics import mean_squared_error\n",
    "from math import sqrt\n",
    "import warnings\n",
    "\n",
    "warnings.filterwarnings(\"ignore\")"
   ]
  },
  {
   "cell_type": "code",
   "execution_count": 31,
   "metadata": {},
   "outputs": [],
   "source": [
    "df = pd.read_csv('C:/Users/shail/Desktop/project/raw data/Device-2.csv')\n",
    "\n",
    "df.columns = ['SNo','temp','hum','co','no2','pm2_5','pm10','date']\n",
    "date = df['date']\n",
    "df = df.drop([\"SNo\"],axis=1)\n",
    "df['date'] = pd.to_datetime(df['date'])"
   ]
  },
  {
   "cell_type": "code",
   "execution_count": 32,
   "metadata": {},
   "outputs": [
    {
     "data": {
      "text/html": [
       "<div>\n",
       "<style scoped>\n",
       "    .dataframe tbody tr th:only-of-type {\n",
       "        vertical-align: middle;\n",
       "    }\n",
       "\n",
       "    .dataframe tbody tr th {\n",
       "        vertical-align: top;\n",
       "    }\n",
       "\n",
       "    .dataframe thead th {\n",
       "        text-align: right;\n",
       "    }\n",
       "</style>\n",
       "<table border=\"1\" class=\"dataframe\">\n",
       "  <thead>\n",
       "    <tr style=\"text-align: right;\">\n",
       "      <th></th>\n",
       "      <th>temp</th>\n",
       "      <th>hum</th>\n",
       "      <th>co</th>\n",
       "      <th>no2</th>\n",
       "      <th>pm2_5</th>\n",
       "      <th>pm10</th>\n",
       "      <th>date</th>\n",
       "    </tr>\n",
       "  </thead>\n",
       "  <tbody>\n",
       "    <tr>\n",
       "      <th>0</th>\n",
       "      <td>18</td>\n",
       "      <td>50</td>\n",
       "      <td>41</td>\n",
       "      <td>1.49</td>\n",
       "      <td>59</td>\n",
       "      <td>82</td>\n",
       "      <td>2020-01-11 17:07:49</td>\n",
       "    </tr>\n",
       "    <tr>\n",
       "      <th>1</th>\n",
       "      <td>18</td>\n",
       "      <td>50</td>\n",
       "      <td>41</td>\n",
       "      <td>1.50</td>\n",
       "      <td>59</td>\n",
       "      <td>82</td>\n",
       "      <td>2020-01-11 17:07:43</td>\n",
       "    </tr>\n",
       "    <tr>\n",
       "      <th>2</th>\n",
       "      <td>18</td>\n",
       "      <td>50</td>\n",
       "      <td>41</td>\n",
       "      <td>1.50</td>\n",
       "      <td>59</td>\n",
       "      <td>82</td>\n",
       "      <td>2020-01-11 17:07:39</td>\n",
       "    </tr>\n",
       "    <tr>\n",
       "      <th>3</th>\n",
       "      <td>18</td>\n",
       "      <td>50</td>\n",
       "      <td>41</td>\n",
       "      <td>1.50</td>\n",
       "      <td>60</td>\n",
       "      <td>83</td>\n",
       "      <td>2020-01-11 17:07:28</td>\n",
       "    </tr>\n",
       "    <tr>\n",
       "      <th>4</th>\n",
       "      <td>18</td>\n",
       "      <td>50</td>\n",
       "      <td>41</td>\n",
       "      <td>1.50</td>\n",
       "      <td>60</td>\n",
       "      <td>83</td>\n",
       "      <td>2020-01-11 17:07:24</td>\n",
       "    </tr>\n",
       "  </tbody>\n",
       "</table>\n",
       "</div>"
      ],
      "text/plain": [
       "   temp  hum  co   no2  pm2_5  pm10                date\n",
       "0    18   50  41  1.49     59    82 2020-01-11 17:07:49\n",
       "1    18   50  41  1.50     59    82 2020-01-11 17:07:43\n",
       "2    18   50  41  1.50     59    82 2020-01-11 17:07:39\n",
       "3    18   50  41  1.50     60    83 2020-01-11 17:07:28\n",
       "4    18   50  41  1.50     60    83 2020-01-11 17:07:24"
      ]
     },
     "execution_count": 32,
     "metadata": {},
     "output_type": "execute_result"
    }
   ],
   "source": [
    "df.head()"
   ]
  },
  {
   "cell_type": "code",
   "execution_count": 33,
   "metadata": {},
   "outputs": [
    {
     "name": "stdout",
     "output_type": "stream",
     "text": [
      "<class 'pandas.core.frame.DataFrame'>\n",
      "RangeIndex: 1089280 entries, 0 to 1089279\n",
      "Data columns (total 7 columns):\n",
      " #   Column  Non-Null Count    Dtype         \n",
      "---  ------  --------------    -----         \n",
      " 0   temp    1089280 non-null  int64         \n",
      " 1   hum     1089280 non-null  int64         \n",
      " 2   co      1089280 non-null  int64         \n",
      " 3   no2     1089280 non-null  float64       \n",
      " 4   pm2_5   1089280 non-null  int64         \n",
      " 5   pm10    1089280 non-null  int64         \n",
      " 6   date    1089280 non-null  datetime64[ns]\n",
      "dtypes: datetime64[ns](1), float64(1), int64(5)\n",
      "memory usage: 58.2 MB\n"
     ]
    }
   ],
   "source": [
    "df.info()"
   ]
  },
  {
   "cell_type": "code",
   "execution_count": 34,
   "metadata": {},
   "outputs": [],
   "source": [
    "df = df[(df['co'] > 0) & (df['no2'] > 0) & (df['pm2_5'] > 0) & (df['pm10'] > 0)]"
   ]
  },
  {
   "cell_type": "code",
   "execution_count": 35,
   "metadata": {},
   "outputs": [
    {
     "data": {
      "text/html": [
       "<div>\n",
       "<style scoped>\n",
       "    .dataframe tbody tr th:only-of-type {\n",
       "        vertical-align: middle;\n",
       "    }\n",
       "\n",
       "    .dataframe tbody tr th {\n",
       "        vertical-align: top;\n",
       "    }\n",
       "\n",
       "    .dataframe thead th {\n",
       "        text-align: right;\n",
       "    }\n",
       "</style>\n",
       "<table border=\"1\" class=\"dataframe\">\n",
       "  <thead>\n",
       "    <tr style=\"text-align: right;\">\n",
       "      <th></th>\n",
       "      <th>TEMP</th>\n",
       "      <th>HUM</th>\n",
       "      <th>CO</th>\n",
       "      <th>NO2</th>\n",
       "      <th>PM2.5</th>\n",
       "      <th>PM10</th>\n",
       "    </tr>\n",
       "    <tr>\n",
       "      <th>date</th>\n",
       "      <th></th>\n",
       "      <th></th>\n",
       "      <th></th>\n",
       "      <th></th>\n",
       "      <th></th>\n",
       "      <th></th>\n",
       "    </tr>\n",
       "  </thead>\n",
       "  <tbody>\n",
       "    <tr>\n",
       "      <th>2019-09-13 05:00:00</th>\n",
       "      <td>23.00</td>\n",
       "      <td>89.00</td>\n",
       "      <td>15.76</td>\n",
       "      <td>19.25</td>\n",
       "      <td>28.34</td>\n",
       "      <td>39.31</td>\n",
       "    </tr>\n",
       "    <tr>\n",
       "      <th>2019-09-13 06:00:00</th>\n",
       "      <td>23.14</td>\n",
       "      <td>87.31</td>\n",
       "      <td>16.27</td>\n",
       "      <td>19.25</td>\n",
       "      <td>32.36</td>\n",
       "      <td>44.94</td>\n",
       "    </tr>\n",
       "    <tr>\n",
       "      <th>2019-09-13 07:00:00</th>\n",
       "      <td>24.23</td>\n",
       "      <td>83.01</td>\n",
       "      <td>16.25</td>\n",
       "      <td>19.26</td>\n",
       "      <td>58.58</td>\n",
       "      <td>82.12</td>\n",
       "    </tr>\n",
       "    <tr>\n",
       "      <th>2019-09-13 08:00:00</th>\n",
       "      <td>25.45</td>\n",
       "      <td>76.43</td>\n",
       "      <td>16.15</td>\n",
       "      <td>19.26</td>\n",
       "      <td>43.30</td>\n",
       "      <td>60.28</td>\n",
       "    </tr>\n",
       "    <tr>\n",
       "      <th>2019-09-13 09:00:00</th>\n",
       "      <td>27.85</td>\n",
       "      <td>66.55</td>\n",
       "      <td>16.39</td>\n",
       "      <td>19.25</td>\n",
       "      <td>48.00</td>\n",
       "      <td>66.76</td>\n",
       "    </tr>\n",
       "    <tr>\n",
       "      <th>...</th>\n",
       "      <td>...</td>\n",
       "      <td>...</td>\n",
       "      <td>...</td>\n",
       "      <td>...</td>\n",
       "      <td>...</td>\n",
       "      <td>...</td>\n",
       "    </tr>\n",
       "    <tr>\n",
       "      <th>2020-01-11 13:00:00</th>\n",
       "      <td>18.88</td>\n",
       "      <td>48.85</td>\n",
       "      <td>41.00</td>\n",
       "      <td>1.38</td>\n",
       "      <td>89.39</td>\n",
       "      <td>124.32</td>\n",
       "    </tr>\n",
       "    <tr>\n",
       "      <th>2020-01-11 14:00:00</th>\n",
       "      <td>19.03</td>\n",
       "      <td>47.54</td>\n",
       "      <td>41.00</td>\n",
       "      <td>1.43</td>\n",
       "      <td>77.89</td>\n",
       "      <td>108.28</td>\n",
       "    </tr>\n",
       "    <tr>\n",
       "      <th>2020-01-11 15:00:00</th>\n",
       "      <td>19.00</td>\n",
       "      <td>46.44</td>\n",
       "      <td>41.00</td>\n",
       "      <td>1.47</td>\n",
       "      <td>64.70</td>\n",
       "      <td>89.90</td>\n",
       "    </tr>\n",
       "    <tr>\n",
       "      <th>2020-01-11 16:00:00</th>\n",
       "      <td>18.39</td>\n",
       "      <td>48.06</td>\n",
       "      <td>41.00</td>\n",
       "      <td>1.48</td>\n",
       "      <td>64.13</td>\n",
       "      <td>89.20</td>\n",
       "    </tr>\n",
       "    <tr>\n",
       "      <th>2020-01-11 17:00:00</th>\n",
       "      <td>18.00</td>\n",
       "      <td>49.74</td>\n",
       "      <td>41.00</td>\n",
       "      <td>1.48</td>\n",
       "      <td>60.89</td>\n",
       "      <td>84.70</td>\n",
       "    </tr>\n",
       "  </tbody>\n",
       "</table>\n",
       "<p>2893 rows × 6 columns</p>\n",
       "</div>"
      ],
      "text/plain": [
       "                      TEMP    HUM     CO    NO2  PM2.5    PM10\n",
       "date                                                          \n",
       "2019-09-13 05:00:00  23.00  89.00  15.76  19.25  28.34   39.31\n",
       "2019-09-13 06:00:00  23.14  87.31  16.27  19.25  32.36   44.94\n",
       "2019-09-13 07:00:00  24.23  83.01  16.25  19.26  58.58   82.12\n",
       "2019-09-13 08:00:00  25.45  76.43  16.15  19.26  43.30   60.28\n",
       "2019-09-13 09:00:00  27.85  66.55  16.39  19.25  48.00   66.76\n",
       "...                    ...    ...    ...    ...    ...     ...\n",
       "2020-01-11 13:00:00  18.88  48.85  41.00   1.38  89.39  124.32\n",
       "2020-01-11 14:00:00  19.03  47.54  41.00   1.43  77.89  108.28\n",
       "2020-01-11 15:00:00  19.00  46.44  41.00   1.47  64.70   89.90\n",
       "2020-01-11 16:00:00  18.39  48.06  41.00   1.48  64.13   89.20\n",
       "2020-01-11 17:00:00  18.00  49.74  41.00   1.48  60.89   84.70\n",
       "\n",
       "[2893 rows x 6 columns]"
      ]
     },
     "execution_count": 35,
     "metadata": {},
     "output_type": "execute_result"
    }
   ],
   "source": [
    "temp_one_hr = round(df.resample('60min',on='date').temp.mean(),2)\n",
    "hum_one_hr = round(df.resample('60min',on='date').hum.mean(),2)\n",
    "co_one_hr = round(df.resample('60min',on='date').co.mean(),2)\n",
    "no2_one_hr = round(df.resample('60min',on='date').no2.mean(),2)\n",
    "pm2_5_one_hr = round(df.resample('60min',on='date').pm2_5.mean(),2)\n",
    "pm10_one_hr = round(df.resample('60min',on='date').pm10.mean(),2)\n",
    "\n",
    "one_hr_sample = pd.DataFrame({\n",
    "    \"TEMP\":temp_one_hr,\n",
    "    \"HUM\":hum_one_hr,\n",
    "    \"CO\":co_one_hr,\n",
    "    \"NO2\":no2_one_hr,\n",
    "    \"PM2.5\":pm2_5_one_hr,\n",
    "    \"PM10\":pm10_one_hr\n",
    "})\n",
    "\n",
    "one_hr_sample"
   ]
  },
  {
   "cell_type": "code",
   "execution_count": 36,
   "metadata": {},
   "outputs": [],
   "source": [
    "pm = one_hr_sample[['PM2.5']].copy()"
   ]
  },
  {
   "cell_type": "code",
   "execution_count": 37,
   "metadata": {},
   "outputs": [
    {
     "data": {
      "text/html": [
       "<div>\n",
       "<style scoped>\n",
       "    .dataframe tbody tr th:only-of-type {\n",
       "        vertical-align: middle;\n",
       "    }\n",
       "\n",
       "    .dataframe tbody tr th {\n",
       "        vertical-align: top;\n",
       "    }\n",
       "\n",
       "    .dataframe thead th {\n",
       "        text-align: right;\n",
       "    }\n",
       "</style>\n",
       "<table border=\"1\" class=\"dataframe\">\n",
       "  <thead>\n",
       "    <tr style=\"text-align: right;\">\n",
       "      <th></th>\n",
       "      <th>PM2.5</th>\n",
       "    </tr>\n",
       "    <tr>\n",
       "      <th>date</th>\n",
       "      <th></th>\n",
       "    </tr>\n",
       "  </thead>\n",
       "  <tbody>\n",
       "    <tr>\n",
       "      <th>2019-09-13 05:00:00</th>\n",
       "      <td>28.34</td>\n",
       "    </tr>\n",
       "    <tr>\n",
       "      <th>2019-09-13 06:00:00</th>\n",
       "      <td>32.36</td>\n",
       "    </tr>\n",
       "    <tr>\n",
       "      <th>2019-09-13 07:00:00</th>\n",
       "      <td>58.58</td>\n",
       "    </tr>\n",
       "    <tr>\n",
       "      <th>2019-09-13 08:00:00</th>\n",
       "      <td>43.30</td>\n",
       "    </tr>\n",
       "    <tr>\n",
       "      <th>2019-09-13 09:00:00</th>\n",
       "      <td>48.00</td>\n",
       "    </tr>\n",
       "    <tr>\n",
       "      <th>...</th>\n",
       "      <td>...</td>\n",
       "    </tr>\n",
       "    <tr>\n",
       "      <th>2020-01-11 13:00:00</th>\n",
       "      <td>89.39</td>\n",
       "    </tr>\n",
       "    <tr>\n",
       "      <th>2020-01-11 14:00:00</th>\n",
       "      <td>77.89</td>\n",
       "    </tr>\n",
       "    <tr>\n",
       "      <th>2020-01-11 15:00:00</th>\n",
       "      <td>64.70</td>\n",
       "    </tr>\n",
       "    <tr>\n",
       "      <th>2020-01-11 16:00:00</th>\n",
       "      <td>64.13</td>\n",
       "    </tr>\n",
       "    <tr>\n",
       "      <th>2020-01-11 17:00:00</th>\n",
       "      <td>60.89</td>\n",
       "    </tr>\n",
       "  </tbody>\n",
       "</table>\n",
       "<p>2893 rows × 1 columns</p>\n",
       "</div>"
      ],
      "text/plain": [
       "                     PM2.5\n",
       "date                      \n",
       "2019-09-13 05:00:00  28.34\n",
       "2019-09-13 06:00:00  32.36\n",
       "2019-09-13 07:00:00  58.58\n",
       "2019-09-13 08:00:00  43.30\n",
       "2019-09-13 09:00:00  48.00\n",
       "...                    ...\n",
       "2020-01-11 13:00:00  89.39\n",
       "2020-01-11 14:00:00  77.89\n",
       "2020-01-11 15:00:00  64.70\n",
       "2020-01-11 16:00:00  64.13\n",
       "2020-01-11 17:00:00  60.89\n",
       "\n",
       "[2893 rows x 1 columns]"
      ]
     },
     "execution_count": 37,
     "metadata": {},
     "output_type": "execute_result"
    }
   ],
   "source": [
    "pm"
   ]
  },
  {
   "cell_type": "code",
   "execution_count": 38,
   "metadata": {},
   "outputs": [],
   "source": [
    "df = pm.copy()"
   ]
  },
  {
   "cell_type": "code",
   "execution_count": 39,
   "metadata": {},
   "outputs": [
    {
     "data": {
      "text/html": [
       "<div>\n",
       "<style scoped>\n",
       "    .dataframe tbody tr th:only-of-type {\n",
       "        vertical-align: middle;\n",
       "    }\n",
       "\n",
       "    .dataframe tbody tr th {\n",
       "        vertical-align: top;\n",
       "    }\n",
       "\n",
       "    .dataframe thead th {\n",
       "        text-align: right;\n",
       "    }\n",
       "</style>\n",
       "<table border=\"1\" class=\"dataframe\">\n",
       "  <thead>\n",
       "    <tr style=\"text-align: right;\">\n",
       "      <th></th>\n",
       "      <th>PM2.5</th>\n",
       "    </tr>\n",
       "    <tr>\n",
       "      <th>date</th>\n",
       "      <th></th>\n",
       "    </tr>\n",
       "  </thead>\n",
       "  <tbody>\n",
       "    <tr>\n",
       "      <th>2019-12-11 18:00:00</th>\n",
       "      <td>NaN</td>\n",
       "    </tr>\n",
       "    <tr>\n",
       "      <th>2019-12-11 19:00:00</th>\n",
       "      <td>NaN</td>\n",
       "    </tr>\n",
       "    <tr>\n",
       "      <th>2019-12-11 20:00:00</th>\n",
       "      <td>NaN</td>\n",
       "    </tr>\n",
       "    <tr>\n",
       "      <th>2019-12-11 21:00:00</th>\n",
       "      <td>NaN</td>\n",
       "    </tr>\n",
       "    <tr>\n",
       "      <th>2019-12-11 22:00:00</th>\n",
       "      <td>NaN</td>\n",
       "    </tr>\n",
       "    <tr>\n",
       "      <th>...</th>\n",
       "      <td>...</td>\n",
       "    </tr>\n",
       "    <tr>\n",
       "      <th>2020-01-11 13:00:00</th>\n",
       "      <td>89.39</td>\n",
       "    </tr>\n",
       "    <tr>\n",
       "      <th>2020-01-11 14:00:00</th>\n",
       "      <td>77.89</td>\n",
       "    </tr>\n",
       "    <tr>\n",
       "      <th>2020-01-11 15:00:00</th>\n",
       "      <td>64.70</td>\n",
       "    </tr>\n",
       "    <tr>\n",
       "      <th>2020-01-11 16:00:00</th>\n",
       "      <td>64.13</td>\n",
       "    </tr>\n",
       "    <tr>\n",
       "      <th>2020-01-11 17:00:00</th>\n",
       "      <td>60.89</td>\n",
       "    </tr>\n",
       "  </tbody>\n",
       "</table>\n",
       "<p>744 rows × 1 columns</p>\n",
       "</div>"
      ],
      "text/plain": [
       "                     PM2.5\n",
       "date                      \n",
       "2019-12-11 18:00:00    NaN\n",
       "2019-12-11 19:00:00    NaN\n",
       "2019-12-11 20:00:00    NaN\n",
       "2019-12-11 21:00:00    NaN\n",
       "2019-12-11 22:00:00    NaN\n",
       "...                    ...\n",
       "2020-01-11 13:00:00  89.39\n",
       "2020-01-11 14:00:00  77.89\n",
       "2020-01-11 15:00:00  64.70\n",
       "2020-01-11 16:00:00  64.13\n",
       "2020-01-11 17:00:00  60.89\n",
       "\n",
       "[744 rows x 1 columns]"
      ]
     },
     "execution_count": 39,
     "metadata": {},
     "output_type": "execute_result"
    }
   ],
   "source": [
    "df = df[-744:]\n",
    "df"
   ]
  },
  {
   "cell_type": "code",
   "execution_count": 40,
   "metadata": {},
   "outputs": [
    {
     "data": {
      "text/plain": [
       "PM2.5    259\n",
       "dtype: int64"
      ]
     },
     "execution_count": 40,
     "metadata": {},
     "output_type": "execute_result"
    }
   ],
   "source": [
    "df.isna().sum()"
   ]
  },
  {
   "cell_type": "code",
   "execution_count": 41,
   "metadata": {},
   "outputs": [],
   "source": [
    "df = df.interpolate(method ='linear', limit_direction='both')"
   ]
  },
  {
   "cell_type": "code",
   "execution_count": 42,
   "metadata": {},
   "outputs": [
    {
     "data": {
      "text/plain": [
       "<AxesSubplot:xlabel='date'>"
      ]
     },
     "execution_count": 42,
     "metadata": {},
     "output_type": "execute_result"
    },
    {
     "data": {
      "image/png": "[encoded data removed]",
      "text/plain": [
       "<Figure size 432x288 with 1 Axes>"
      ]
     },
     "metadata": {
      "needs_background": "light"
     },
     "output_type": "display_data"
    }
   ],
   "source": [
    "df.plot()"
   ]
  },
  {
   "cell_type": "code",
   "execution_count": 43,
   "metadata": {},
   "outputs": [
    {
     "data": {
      "image/png": "[encoded data removed]",
      "text/plain": [
       "<Figure size 432x288 with 4 Axes>"
      ]
     },
     "execution_count": 43,
     "metadata": {},
     "output_type": "execute_result"
    },
    {
     "data": {
      "image/png": "[encoded data removed]",
      "text/plain": [
       "<Figure size 432x288 with 4 Axes>"
      ]
     },
     "metadata": {
      "needs_background": "light"
     },
     "output_type": "display_data"
    }
   ],
   "source": [
    "results = seasonal_decompose(df['PM2.5'], freq=24)\n",
    "results.plot()"
   ]
  },
  {
   "cell_type": "code",
   "execution_count": 44,
   "metadata": {},
   "outputs": [
    {
     "data": {
      "text/plain": [
       "744"
      ]
     },
     "execution_count": 44,
     "metadata": {},
     "output_type": "execute_result"
    }
   ],
   "source": [
    "len(df)"
   ]
  },
  {
   "cell_type": "code",
   "execution_count": 45,
   "metadata": {},
   "outputs": [],
   "source": [
    "train = df.iloc[:720]\n",
    "test = df.iloc[720:]\n",
    "\n",
    "scaler = MinMaxScaler()"
   ]
  },
  {
   "cell_type": "code",
   "execution_count": 46,
   "metadata": {},
   "outputs": [
    {
     "data": {
      "text/plain": [
       "(                      PM2.5\n",
       " date                       \n",
       " 2019-12-11 18:00:00  135.85\n",
       " 2019-12-11 19:00:00  135.85\n",
       " 2019-12-11 20:00:00  135.85\n",
       " 2019-12-11 21:00:00  135.85\n",
       " 2019-12-11 22:00:00  135.85,\n",
       "                      PM2.5\n",
       " date                      \n",
       " 2020-01-11 13:00:00  89.39\n",
       " 2020-01-11 14:00:00  77.89\n",
       " 2020-01-11 15:00:00  64.70\n",
       " 2020-01-11 16:00:00  64.13\n",
       " 2020-01-11 17:00:00  60.89)"
      ]
     },
     "execution_count": 46,
     "metadata": {},
     "output_type": "execute_result"
    }
   ],
   "source": [
    "df.head(), df.tail()"
   ]
  },
  {
   "cell_type": "code",
   "execution_count": 47,
   "metadata": {},
   "outputs": [
    {
     "data": {
      "text/plain": [
       "array([[0.20817028],\n",
       "       [0.20817028],\n",
       "       [0.20817028],\n",
       "       [0.20817028],\n",
       "       [0.20817028],\n",
       "       [0.20817028],\n",
       "       [0.20817028],\n",
       "       [0.20817028],\n",
       "       [0.20817028],\n",
       "       [0.20817028]])"
      ]
     },
     "execution_count": 47,
     "metadata": {},
     "output_type": "execute_result"
    }
   ],
   "source": [
    "scaler.fit(train)\n",
    "scaled_train = scaler.transform(train)\n",
    "scaled_test = scaler.transform(test)\n",
    "\n",
    "scaled_train[:10]"
   ]
  },
  {
   "cell_type": "markdown",
   "metadata": {},
   "source": [
    "# Recursive Strategy"
   ]
  },
  {
   "cell_type": "code",
   "execution_count": 48,
   "metadata": {},
   "outputs": [
    {
     "data": {
      "text/plain": [
       "(array([[[0.20817028],\n",
       "         [0.20817028],\n",
       "         [0.20817028],\n",
       "         [0.20817028],\n",
       "         [0.20817028],\n",
       "         [0.20817028],\n",
       "         [0.20817028],\n",
       "         [0.20817028],\n",
       "         [0.20817028],\n",
       "         [0.20817028],\n",
       "         [0.20817028],\n",
       "         [0.20817028],\n",
       "         [0.20817028],\n",
       "         [0.20817028],\n",
       "         [0.20817028],\n",
       "         [0.20817028],\n",
       "         [0.20817028],\n",
       "         [0.20817028],\n",
       "         [0.20817028],\n",
       "         [0.20817028],\n",
       "         [0.20817028],\n",
       "         [0.20817028],\n",
       "         [0.20817028],\n",
       "         [0.20817028]]]),\n",
       " array([[0.20817028]]))"
      ]
     },
     "execution_count": 48,
     "metadata": {},
     "output_type": "execute_result"
    }
   ],
   "source": [
    "n_input = 24\n",
    "n_features = 1\n",
    "generator = TimeseriesGenerator(scaled_train, scaled_train,length=n_input,batch_size=1)\n",
    "\n",
    "generator[0]"
   ]
  },
  {
   "cell_type": "code",
   "execution_count": 49,
   "metadata": {},
   "outputs": [
    {
     "name": "stdout",
     "output_type": "stream",
     "text": [
      "Model: \"sequential\"\n",
      "_________________________________________________________________\n",
      "Layer (type)                 Output Shape              Param #   \n",
      "=================================================================\n",
      "lstm (LSTM)                  (None, 200)               161600    \n",
      "_________________________________________________________________\n",
      "dense (Dense)                (None, 1)                 201       \n",
      "=================================================================\n",
      "Total params: 161,801\n",
      "Trainable params: 161,801\n",
      "Non-trainable params: 0\n",
      "_________________________________________________________________\n"
     ]
    }
   ],
   "source": [
    "model = Sequential()\n",
    "model.add(LSTM(200, activation='relu', input_shape=(n_input, n_features)))\n",
    "model.add(Dense(1))\n",
    "model.compile(optimizer='adam', loss='mse')\n",
    "\n",
    "model.summary()"
   ]
  },
  {
   "cell_type": "code",
   "execution_count": 50,
   "metadata": {},
   "outputs": [
    {
     "name": "stdout",
     "output_type": "stream",
     "text": [
      "Epoch 1/10\n",
      "696/696 [==============================] - 39s 11ms/step - loss: 0.0274\n",
      "Epoch 2/10\n",
      "696/696 [==============================] - 8s 11ms/step - loss: 0.0125\n",
      "Epoch 3/10\n",
      "696/696 [==============================] - 8s 12ms/step - loss: 0.0069\n",
      "Epoch 4/10\n",
      "696/696 [==============================] - 8s 11ms/step - loss: 0.0070\n",
      "Epoch 5/10\n",
      "696/696 [==============================] - 8s 11ms/step - loss: 0.0067\n",
      "Epoch 6/10\n",
      "696/696 [==============================] - 9s 13ms/step - loss: 0.0054\n",
      "Epoch 7/10\n",
      "696/696 [==============================] - 8s 12ms/step - loss: 0.0057\n",
      "Epoch 8/10\n",
      "696/696 [==============================] - 10s 15ms/step - loss: 0.0059\n",
      "Epoch 9/10\n",
      "696/696 [==============================] - 19s 27ms/step - loss: 0.0054\n",
      "Epoch 10/10\n",
      "696/696 [==============================] - 15s 22ms/step - loss: 0.0052\n"
     ]
    },
    {
     "data": {
      "text/plain": [
       "<keras.callbacks.History at 0x203ac584760>"
      ]
     },
     "execution_count": 50,
     "metadata": {},
     "output_type": "execute_result"
    }
   ],
   "source": [
    "model.fit(generator, epochs=10, verbose=1)"
   ]
  },
  {
   "cell_type": "code",
   "execution_count": 51,
   "metadata": {},
   "outputs": [
    {
     "data": {
      "text/plain": [
       "[<matplotlib.lines.Line2D at 0x203a7304760>]"
      ]
     },
     "execution_count": 51,
     "metadata": {},
     "output_type": "execute_result"
    },
    {
     "data": {
      "image/png": "[encoded data removed]",
      "text/plain": [
       "<Figure size 432x288 with 1 Axes>"
      ]
     },
     "metadata": {
      "needs_background": "light"
     },
     "output_type": "display_data"
    }
   ],
   "source": [
    "loss_per_epoch = model.history.history['loss']\n",
    "plt.plot(range(len(loss_per_epoch)), loss_per_epoch)"
   ]
  },
  {
   "cell_type": "code",
   "execution_count": 52,
   "metadata": {},
   "outputs": [
    {
     "data": {
      "text/plain": [
       "array([[0.2037776]], dtype=float32)"
      ]
     },
     "execution_count": 52,
     "metadata": {},
     "output_type": "execute_result"
    }
   ],
   "source": [
    "last_train_batch = scaled_train[-n_input:]\n",
    "\n",
    "last_train_batch = last_train_batch.reshape((1,n_input, n_features))\n",
    "\n",
    "model.predict(last_train_batch)"
   ]
  },
  {
   "cell_type": "code",
   "execution_count": 53,
   "metadata": {},
   "outputs": [
    {
     "data": {
      "text/plain": [
       "(array([0.35087065]), array([0.44305029]))"
      ]
     },
     "execution_count": 53,
     "metadata": {},
     "output_type": "execute_result"
    }
   ],
   "source": [
    "scaled_test[0], scaled_test[1]"
   ]
  },
  {
   "cell_type": "code",
   "execution_count": 54,
   "metadata": {},
   "outputs": [
    {
     "data": {
      "text/plain": [
       "[array([0.2037776], dtype=float32),\n",
       " array([0.22840962], dtype=float32),\n",
       " array([0.24509431], dtype=float32),\n",
       " array([0.25677198], dtype=float32),\n",
       " array([0.2643522], dtype=float32),\n",
       " array([0.2687517], dtype=float32),\n",
       " array([0.27207196], dtype=float32),\n",
       " array([0.27637112], dtype=float32),\n",
       " array([0.27494478], dtype=float32),\n",
       " array([0.27132145], dtype=float32),\n",
       " array([0.2680323], dtype=float32),\n",
       " array([0.26538783], dtype=float32),\n",
       " array([0.26406756], dtype=float32),\n",
       " array([0.26424646], dtype=float32),\n",
       " array([0.26425496], dtype=float32),\n",
       " array([0.26317903], dtype=float32),\n",
       " array([0.26199132], dtype=float32),\n",
       " array([0.26047677], dtype=float32),\n",
       " array([0.2588995], dtype=float32),\n",
       " array([0.2571807], dtype=float32),\n",
       " array([0.25562662], dtype=float32),\n",
       " array([0.25432527], dtype=float32),\n",
       " array([0.25329953], dtype=float32),\n",
       " array([0.25389016], dtype=float32)]"
      ]
     },
     "execution_count": 54,
     "metadata": {},
     "output_type": "execute_result"
    }
   ],
   "source": [
    "test_predictions = []\n",
    "\n",
    "first_eval_batch = scaled_train[-n_input:]\n",
    "current_batch = first_eval_batch.reshape((1, n_input, n_features))\n",
    "\n",
    "for i in range(len(test)):\n",
    "    current_pred = model.predict(current_batch)[0]\n",
    "    \n",
    "    test_predictions.append(current_pred)\n",
    "    \n",
    "    current_batch = np.append(current_batch[:,1:,:],[[current_pred]], axis=1)\n",
    "    \n",
    "test_predictions"
   ]
  },
  {
   "cell_type": "code",
   "execution_count": 55,
   "metadata": {},
   "outputs": [
    {
     "data": {
      "text/html": [
       "<div>\n",
       "<style scoped>\n",
       "    .dataframe tbody tr th:only-of-type {\n",
       "        vertical-align: middle;\n",
       "    }\n",
       "\n",
       "    .dataframe tbody tr th {\n",
       "        vertical-align: top;\n",
       "    }\n",
       "\n",
       "    .dataframe thead th {\n",
       "        text-align: right;\n",
       "    }\n",
       "</style>\n",
       "<table border=\"1\" class=\"dataframe\">\n",
       "  <thead>\n",
       "    <tr style=\"text-align: right;\">\n",
       "      <th></th>\n",
       "      <th>PM2.5</th>\n",
       "    </tr>\n",
       "    <tr>\n",
       "      <th>date</th>\n",
       "      <th></th>\n",
       "    </tr>\n",
       "  </thead>\n",
       "  <tbody>\n",
       "    <tr>\n",
       "      <th>2020-01-10 18:00:00</th>\n",
       "      <td>204.77</td>\n",
       "    </tr>\n",
       "    <tr>\n",
       "      <th>2020-01-10 19:00:00</th>\n",
       "      <td>249.29</td>\n",
       "    </tr>\n",
       "    <tr>\n",
       "      <th>2020-01-10 20:00:00</th>\n",
       "      <td>231.89</td>\n",
       "    </tr>\n",
       "    <tr>\n",
       "      <th>2020-01-10 21:00:00</th>\n",
       "      <td>131.43</td>\n",
       "    </tr>\n",
       "    <tr>\n",
       "      <th>2020-01-10 22:00:00</th>\n",
       "      <td>106.64</td>\n",
       "    </tr>\n",
       "  </tbody>\n",
       "</table>\n",
       "</div>"
      ],
      "text/plain": [
       "                      PM2.5\n",
       "date                       \n",
       "2020-01-10 18:00:00  204.77\n",
       "2020-01-10 19:00:00  249.29\n",
       "2020-01-10 20:00:00  231.89\n",
       "2020-01-10 21:00:00  131.43\n",
       "2020-01-10 22:00:00  106.64"
      ]
     },
     "execution_count": 55,
     "metadata": {},
     "output_type": "execute_result"
    }
   ],
   "source": [
    "test.head()"
   ]
  },
  {
   "cell_type": "code",
   "execution_count": 56,
   "metadata": {},
   "outputs": [],
   "source": [
    "true_predictions = scaler.inverse_transform(test_predictions)\n",
    "\n",
    "test['recursive_predict'] = true_predictions"
   ]
  },
  {
   "cell_type": "code",
   "execution_count": 57,
   "metadata": {},
   "outputs": [
    {
     "data": {
      "text/plain": [
       "<AxesSubplot:xlabel='date'>"
      ]
     },
     "execution_count": 57,
     "metadata": {},
     "output_type": "execute_result"
    },
    {
     "data": {
      "image/png": "[encoded data removed]",
      "text/plain": [
       "<Figure size 432x288 with 1 Axes>"
      ]
     },
     "metadata": {
      "needs_background": "light"
     },
     "output_type": "display_data"
    }
   ],
   "source": [
    "test.plot()"
   ]
  },
  {
   "cell_type": "code",
   "execution_count": 58,
   "metadata": {},
   "outputs": [
    {
     "name": "stdout",
     "output_type": "stream",
     "text": [
      "64.79172934026232\n"
     ]
    }
   ],
   "source": [
    "rmse = sqrt(mean_squared_error(test['PM2.5'], test['recursive_predict']))\n",
    "print(rmse)"
   ]
  },
  {
   "cell_type": "code",
   "execution_count": 59,
   "metadata": {},
   "outputs": [
    {
     "data": {
      "text/html": [
       "<div>\n",
       "<style scoped>\n",
       "    .dataframe tbody tr th:only-of-type {\n",
       "        vertical-align: middle;\n",
       "    }\n",
       "\n",
       "    .dataframe tbody tr th {\n",
       "        vertical-align: top;\n",
       "    }\n",
       "\n",
       "    .dataframe thead th {\n",
       "        text-align: right;\n",
       "    }\n",
       "</style>\n",
       "<table border=\"1\" class=\"dataframe\">\n",
       "  <thead>\n",
       "    <tr style=\"text-align: right;\">\n",
       "      <th></th>\n",
       "      <th>PM2.5</th>\n",
       "      <th>recursive_predict</th>\n",
       "    </tr>\n",
       "    <tr>\n",
       "      <th>date</th>\n",
       "      <th></th>\n",
       "      <th></th>\n",
       "    </tr>\n",
       "  </thead>\n",
       "  <tbody>\n",
       "    <tr>\n",
       "      <th>2020-01-10 18:00:00</th>\n",
       "      <td>204.77</td>\n",
       "      <td>133.728466</td>\n",
       "    </tr>\n",
       "    <tr>\n",
       "      <th>2020-01-10 19:00:00</th>\n",
       "      <td>249.29</td>\n",
       "      <td>145.624993</td>\n",
       "    </tr>\n",
       "    <tr>\n",
       "      <th>2020-01-10 20:00:00</th>\n",
       "      <td>231.89</td>\n",
       "      <td>153.683201</td>\n",
       "    </tr>\n",
       "    <tr>\n",
       "      <th>2020-01-10 21:00:00</th>\n",
       "      <td>131.43</td>\n",
       "      <td>159.323164</td>\n",
       "    </tr>\n",
       "    <tr>\n",
       "      <th>2020-01-10 22:00:00</th>\n",
       "      <td>106.64</td>\n",
       "      <td>162.984183</td>\n",
       "    </tr>\n",
       "    <tr>\n",
       "      <th>2020-01-10 23:00:00</th>\n",
       "      <td>101.65</td>\n",
       "      <td>165.109014</td>\n",
       "    </tr>\n",
       "    <tr>\n",
       "      <th>2020-01-11 00:00:00</th>\n",
       "      <td>99.95</td>\n",
       "      <td>166.712593</td>\n",
       "    </tr>\n",
       "    <tr>\n",
       "      <th>2020-01-11 01:00:00</th>\n",
       "      <td>100.23</td>\n",
       "      <td>168.788961</td>\n",
       "    </tr>\n",
       "    <tr>\n",
       "      <th>2020-01-11 02:00:00</th>\n",
       "      <td>105.74</td>\n",
       "      <td>168.100081</td>\n",
       "    </tr>\n",
       "    <tr>\n",
       "      <th>2020-01-11 03:00:00</th>\n",
       "      <td>149.26</td>\n",
       "      <td>166.350119</td>\n",
       "    </tr>\n",
       "    <tr>\n",
       "      <th>2020-01-11 04:00:00</th>\n",
       "      <td>151.59</td>\n",
       "      <td>164.761566</td>\n",
       "    </tr>\n",
       "    <tr>\n",
       "      <th>2020-01-11 05:00:00</th>\n",
       "      <td>186.50</td>\n",
       "      <td>163.484362</td>\n",
       "    </tr>\n",
       "    <tr>\n",
       "      <th>2020-01-11 06:00:00</th>\n",
       "      <td>174.40</td>\n",
       "      <td>162.846710</td>\n",
       "    </tr>\n",
       "    <tr>\n",
       "      <th>2020-01-11 07:00:00</th>\n",
       "      <td>241.11</td>\n",
       "      <td>162.933115</td>\n",
       "    </tr>\n",
       "    <tr>\n",
       "      <th>2020-01-11 08:00:00</th>\n",
       "      <td>174.19</td>\n",
       "      <td>162.937217</td>\n",
       "    </tr>\n",
       "    <tr>\n",
       "      <th>2020-01-11 09:00:00</th>\n",
       "      <td>120.95</td>\n",
       "      <td>162.417578</td>\n",
       "    </tr>\n",
       "    <tr>\n",
       "      <th>2020-01-11 10:00:00</th>\n",
       "      <td>109.48</td>\n",
       "      <td>161.843949</td>\n",
       "    </tr>\n",
       "    <tr>\n",
       "      <th>2020-01-11 11:00:00</th>\n",
       "      <td>99.97</td>\n",
       "      <td>161.112465</td>\n",
       "    </tr>\n",
       "    <tr>\n",
       "      <th>2020-01-11 12:00:00</th>\n",
       "      <td>97.94</td>\n",
       "      <td>160.350696</td>\n",
       "    </tr>\n",
       "    <tr>\n",
       "      <th>2020-01-11 13:00:00</th>\n",
       "      <td>89.39</td>\n",
       "      <td>159.520558</td>\n",
       "    </tr>\n",
       "    <tr>\n",
       "      <th>2020-01-11 14:00:00</th>\n",
       "      <td>77.89</td>\n",
       "      <td>158.769988</td>\n",
       "    </tr>\n",
       "    <tr>\n",
       "      <th>2020-01-11 15:00:00</th>\n",
       "      <td>64.70</td>\n",
       "      <td>158.141476</td>\n",
       "    </tr>\n",
       "    <tr>\n",
       "      <th>2020-01-11 16:00:00</th>\n",
       "      <td>64.13</td>\n",
       "      <td>157.646076</td>\n",
       "    </tr>\n",
       "    <tr>\n",
       "      <th>2020-01-11 17:00:00</th>\n",
       "      <td>60.89</td>\n",
       "      <td>157.931329</td>\n",
       "    </tr>\n",
       "  </tbody>\n",
       "</table>\n",
       "</div>"
      ],
      "text/plain": [
       "                      PM2.5  recursive_predict\n",
       "date                                          \n",
       "2020-01-10 18:00:00  204.77         133.728466\n",
       "2020-01-10 19:00:00  249.29         145.624993\n",
       "2020-01-10 20:00:00  231.89         153.683201\n",
       "2020-01-10 21:00:00  131.43         159.323164\n",
       "2020-01-10 22:00:00  106.64         162.984183\n",
       "2020-01-10 23:00:00  101.65         165.109014\n",
       "2020-01-11 00:00:00   99.95         166.712593\n",
       "2020-01-11 01:00:00  100.23         168.788961\n",
       "2020-01-11 02:00:00  105.74         168.100081\n",
       "2020-01-11 03:00:00  149.26         166.350119\n",
       "2020-01-11 04:00:00  151.59         164.761566\n",
       "2020-01-11 05:00:00  186.50         163.484362\n",
       "2020-01-11 06:00:00  174.40         162.846710\n",
       "2020-01-11 07:00:00  241.11         162.933115\n",
       "2020-01-11 08:00:00  174.19         162.937217\n",
       "2020-01-11 09:00:00  120.95         162.417578\n",
       "2020-01-11 10:00:00  109.48         161.843949\n",
       "2020-01-11 11:00:00   99.97         161.112465\n",
       "2020-01-11 12:00:00   97.94         160.350696\n",
       "2020-01-11 13:00:00   89.39         159.520558\n",
       "2020-01-11 14:00:00   77.89         158.769988\n",
       "2020-01-11 15:00:00   64.70         158.141476\n",
       "2020-01-11 16:00:00   64.13         157.646076\n",
       "2020-01-11 17:00:00   60.89         157.931329"
      ]
     },
     "execution_count": 59,
     "metadata": {},
     "output_type": "execute_result"
    }
   ],
   "source": [
    "test"
   ]
  },
  {
   "cell_type": "markdown",
   "metadata": {},
   "source": [
    "# Direct Startegy"
   ]
  },
  {
   "cell_type": "code",
   "execution_count": 60,
   "metadata": {},
   "outputs": [],
   "source": [
    "def generate_data(data, n_input, month):\n",
    "    X, y = [], []\n",
    "    for i in range(0,len(data)-(n_input+month)):\n",
    "            X.append(data[i:i+n_input])\n",
    "            y.append(data[i+n_input+(month-1)])\n",
    "    return np.array(X), np.array(y)"
   ]
  },
  {
   "cell_type": "code",
   "execution_count": 61,
   "metadata": {},
   "outputs": [],
   "source": [
    "def model_predict(m_no, train_data, n_input, n_features):\n",
    "    \n",
    "    model = Sequential()\n",
    "    model.add(LSTM(200, activation='relu', input_shape=(n_input, n_features)))\n",
    "    model.add(Dense(1))\n",
    "    model.compile(optimizer='adam', loss='mse')\n",
    "    \n",
    "    X, y = generate_data(train_data, n_input, m_no)\n",
    "    \n",
    "    #print(\"MODEL : \", m_no)\n",
    "    #print(X[0], y[0])\n",
    "    \n",
    "    model.fit(X, y, epochs=3, verbose=0)\n",
    "    \n",
    "    tX = train_data[-n_input:]\n",
    "    \n",
    "    tX = tX.reshape((1, n_input, n_features))\n",
    "    \n",
    "    res = model.predict(tX)\n",
    "    \n",
    "    return res[0]"
   ]
  },
  {
   "cell_type": "code",
   "execution_count": 62,
   "metadata": {},
   "outputs": [
    {
     "name": "stdout",
     "output_type": "stream",
     "text": [
      "WARNING:tensorflow:5 out of the last 29 calls to <function Model.make_predict_function.<locals>.predict_function at 0x00000203A697EE50> triggered tf.function retracing. Tracing is expensive and the excessive number of tracings could be due to (1) creating @tf.function repeatedly in a loop, (2) passing tensors with different shapes, (3) passing Python objects instead of tensors. For (1), please define your @tf.function outside of the loop. For (2), @tf.function has experimental_relax_shapes=True option that relaxes argument shapes that can avoid unnecessary retracing. For (3), please refer to https://www.tensorflow.org/guide/function#controlling_retracing and https://www.tensorflow.org/api_docs/python/tf/function for  more details.\n",
      "WARNING:tensorflow:6 out of the last 30 calls to <function Model.make_predict_function.<locals>.predict_function at 0x00000203A7A6B790> triggered tf.function retracing. Tracing is expensive and the excessive number of tracings could be due to (1) creating @tf.function repeatedly in a loop, (2) passing tensors with different shapes, (3) passing Python objects instead of tensors. For (1), please define your @tf.function outside of the loop. For (2), @tf.function has experimental_relax_shapes=True option that relaxes argument shapes that can avoid unnecessary retracing. For (3), please refer to https://www.tensorflow.org/guide/function#controlling_retracing and https://www.tensorflow.org/api_docs/python/tf/function for  more details.\n"
     ]
    },
    {
     "data": {
      "text/plain": [
       "[array([0.19500802], dtype=float32),\n",
       " array([0.20524038], dtype=float32),\n",
       " array([0.2266558], dtype=float32),\n",
       " array([0.21472184], dtype=float32),\n",
       " array([0.22468495], dtype=float32),\n",
       " array([0.24478033], dtype=float32),\n",
       " array([0.22560999], dtype=float32),\n",
       " array([0.22666274], dtype=float32),\n",
       " array([0.21643507], dtype=float32),\n",
       " array([0.25313112], dtype=float32),\n",
       " array([0.21256542], dtype=float32),\n",
       " array([0.24750528], dtype=float32),\n",
       " array([0.26019225], dtype=float32),\n",
       " array([0.24827155], dtype=float32),\n",
       " array([0.24651949], dtype=float32),\n",
       " array([0.26789093], dtype=float32),\n",
       " array([0.21673805], dtype=float32),\n",
       " array([0.22999421], dtype=float32),\n",
       " array([0.24383603], dtype=float32),\n",
       " array([0.19111298], dtype=float32),\n",
       " array([0.19738384], dtype=float32),\n",
       " array([0.22876795], dtype=float32),\n",
       " array([0.27867773], dtype=float32),\n",
       " array([0.24200073], dtype=float32)]"
      ]
     },
     "execution_count": 62,
     "metadata": {},
     "output_type": "execute_result"
    }
   ],
   "source": [
    "n_input = 24\n",
    "n_features = 1\n",
    "test_predictions = []\n",
    "\n",
    "for i in range(len(scaled_test)):\n",
    "    test_predictions.append(model_predict(i+1,scaled_train,n_input, n_features))\n",
    "    \n",
    "test_predictions"
   ]
  },
  {
   "cell_type": "code",
   "execution_count": 63,
   "metadata": {},
   "outputs": [],
   "source": [
    "true_predictions = scaler.inverse_transform(test_predictions)\n",
    "\n",
    "test['direct_predict'] = true_predictions"
   ]
  },
  {
   "cell_type": "code",
   "execution_count": 64,
   "metadata": {},
   "outputs": [
    {
     "data": {
      "text/plain": [
       "<AxesSubplot:xlabel='date'>"
      ]
     },
     "execution_count": 64,
     "metadata": {},
     "output_type": "execute_result"
    },
    {
     "data": {
      "image/png": "[encoded data removed]",
      "text/plain": [
       "<Figure size 432x288 with 1 Axes>"
      ]
     },
     "metadata": {
      "needs_background": "light"
     },
     "output_type": "display_data"
    }
   ],
   "source": [
    "test.plot()"
   ]
  },
  {
   "cell_type": "code",
   "execution_count": 65,
   "metadata": {},
   "outputs": [
    {
     "name": "stdout",
     "output_type": "stream",
     "text": [
      "58.90695107844079\n"
     ]
    }
   ],
   "source": [
    "rmse = sqrt(mean_squared_error(test['PM2.5'], test['direct_predict']))\n",
    "print(rmse)"
   ]
  },
  {
   "cell_type": "code",
   "execution_count": 66,
   "metadata": {},
   "outputs": [
    {
     "data": {
      "text/html": [
       "<div>\n",
       "<style scoped>\n",
       "    .dataframe tbody tr th:only-of-type {\n",
       "        vertical-align: middle;\n",
       "    }\n",
       "\n",
       "    .dataframe tbody tr th {\n",
       "        vertical-align: top;\n",
       "    }\n",
       "\n",
       "    .dataframe thead th {\n",
       "        text-align: right;\n",
       "    }\n",
       "</style>\n",
       "<table border=\"1\" class=\"dataframe\">\n",
       "  <thead>\n",
       "    <tr style=\"text-align: right;\">\n",
       "      <th></th>\n",
       "      <th>PM2.5</th>\n",
       "      <th>recursive_predict</th>\n",
       "      <th>direct_predict</th>\n",
       "    </tr>\n",
       "    <tr>\n",
       "      <th>date</th>\n",
       "      <th></th>\n",
       "      <th></th>\n",
       "      <th></th>\n",
       "    </tr>\n",
       "  </thead>\n",
       "  <tbody>\n",
       "    <tr>\n",
       "      <th>2020-01-10 18:00:00</th>\n",
       "      <td>204.77</td>\n",
       "      <td>133.728466</td>\n",
       "      <td>129.493026</td>\n",
       "    </tr>\n",
       "    <tr>\n",
       "      <th>2020-01-10 19:00:00</th>\n",
       "      <td>249.29</td>\n",
       "      <td>145.624993</td>\n",
       "      <td>134.434948</td>\n",
       "    </tr>\n",
       "    <tr>\n",
       "      <th>2020-01-10 20:00:00</th>\n",
       "      <td>231.89</td>\n",
       "      <td>153.683201</td>\n",
       "      <td>144.777950</td>\n",
       "    </tr>\n",
       "    <tr>\n",
       "      <th>2020-01-10 21:00:00</th>\n",
       "      <td>131.43</td>\n",
       "      <td>159.323164</td>\n",
       "      <td>139.014209</td>\n",
       "    </tr>\n",
       "    <tr>\n",
       "      <th>2020-01-10 22:00:00</th>\n",
       "      <td>106.64</td>\n",
       "      <td>162.984183</td>\n",
       "      <td>143.826092</td>\n",
       "    </tr>\n",
       "    <tr>\n",
       "      <th>2020-01-10 23:00:00</th>\n",
       "      <td>101.65</td>\n",
       "      <td>165.109014</td>\n",
       "      <td>153.531557</td>\n",
       "    </tr>\n",
       "    <tr>\n",
       "      <th>2020-01-11 00:00:00</th>\n",
       "      <td>99.95</td>\n",
       "      <td>166.712593</td>\n",
       "      <td>144.272856</td>\n",
       "    </tr>\n",
       "    <tr>\n",
       "      <th>2020-01-11 01:00:00</th>\n",
       "      <td>100.23</td>\n",
       "      <td>168.788961</td>\n",
       "      <td>144.781304</td>\n",
       "    </tr>\n",
       "    <tr>\n",
       "      <th>2020-01-11 02:00:00</th>\n",
       "      <td>105.74</td>\n",
       "      <td>168.100081</td>\n",
       "      <td>139.841648</td>\n",
       "    </tr>\n",
       "    <tr>\n",
       "      <th>2020-01-11 03:00:00</th>\n",
       "      <td>149.26</td>\n",
       "      <td>166.350119</td>\n",
       "      <td>157.564738</td>\n",
       "    </tr>\n",
       "    <tr>\n",
       "      <th>2020-01-11 04:00:00</th>\n",
       "      <td>151.59</td>\n",
       "      <td>164.761566</td>\n",
       "      <td>137.972722</td>\n",
       "    </tr>\n",
       "    <tr>\n",
       "      <th>2020-01-11 05:00:00</th>\n",
       "      <td>186.50</td>\n",
       "      <td>163.484362</td>\n",
       "      <td>154.847624</td>\n",
       "    </tr>\n",
       "    <tr>\n",
       "      <th>2020-01-11 06:00:00</th>\n",
       "      <td>174.40</td>\n",
       "      <td>162.846710</td>\n",
       "      <td>160.975049</td>\n",
       "    </tr>\n",
       "    <tr>\n",
       "      <th>2020-01-11 07:00:00</th>\n",
       "      <td>241.11</td>\n",
       "      <td>162.933115</td>\n",
       "      <td>155.217713</td>\n",
       "    </tr>\n",
       "    <tr>\n",
       "      <th>2020-01-11 08:00:00</th>\n",
       "      <td>174.19</td>\n",
       "      <td>162.937217</td>\n",
       "      <td>154.371519</td>\n",
       "    </tr>\n",
       "    <tr>\n",
       "      <th>2020-01-11 09:00:00</th>\n",
       "      <td>120.95</td>\n",
       "      <td>162.417578</td>\n",
       "      <td>164.693283</td>\n",
       "    </tr>\n",
       "    <tr>\n",
       "      <th>2020-01-11 10:00:00</th>\n",
       "      <td>109.48</td>\n",
       "      <td>161.843949</td>\n",
       "      <td>139.987974</td>\n",
       "    </tr>\n",
       "    <tr>\n",
       "      <th>2020-01-11 11:00:00</th>\n",
       "      <td>99.97</td>\n",
       "      <td>161.112465</td>\n",
       "      <td>146.390302</td>\n",
       "    </tr>\n",
       "    <tr>\n",
       "      <th>2020-01-11 12:00:00</th>\n",
       "      <td>97.94</td>\n",
       "      <td>160.350696</td>\n",
       "      <td>153.075488</td>\n",
       "    </tr>\n",
       "    <tr>\n",
       "      <th>2020-01-11 13:00:00</th>\n",
       "      <td>89.39</td>\n",
       "      <td>159.520558</td>\n",
       "      <td>127.611836</td>\n",
       "    </tr>\n",
       "    <tr>\n",
       "      <th>2020-01-11 14:00:00</th>\n",
       "      <td>77.89</td>\n",
       "      <td>158.769988</td>\n",
       "      <td>130.640471</td>\n",
       "    </tr>\n",
       "    <tr>\n",
       "      <th>2020-01-11 15:00:00</th>\n",
       "      <td>64.70</td>\n",
       "      <td>158.141476</td>\n",
       "      <td>145.798055</td>\n",
       "    </tr>\n",
       "    <tr>\n",
       "      <th>2020-01-11 16:00:00</th>\n",
       "      <td>64.13</td>\n",
       "      <td>157.646076</td>\n",
       "      <td>169.902984</td>\n",
       "    </tr>\n",
       "    <tr>\n",
       "      <th>2020-01-11 17:00:00</th>\n",
       "      <td>60.89</td>\n",
       "      <td>157.931329</td>\n",
       "      <td>152.189092</td>\n",
       "    </tr>\n",
       "  </tbody>\n",
       "</table>\n",
       "</div>"
      ],
      "text/plain": [
       "                      PM2.5  recursive_predict  direct_predict\n",
       "date                                                          \n",
       "2020-01-10 18:00:00  204.77         133.728466      129.493026\n",
       "2020-01-10 19:00:00  249.29         145.624993      134.434948\n",
       "2020-01-10 20:00:00  231.89         153.683201      144.777950\n",
       "2020-01-10 21:00:00  131.43         159.323164      139.014209\n",
       "2020-01-10 22:00:00  106.64         162.984183      143.826092\n",
       "2020-01-10 23:00:00  101.65         165.109014      153.531557\n",
       "2020-01-11 00:00:00   99.95         166.712593      144.272856\n",
       "2020-01-11 01:00:00  100.23         168.788961      144.781304\n",
       "2020-01-11 02:00:00  105.74         168.100081      139.841648\n",
       "2020-01-11 03:00:00  149.26         166.350119      157.564738\n",
       "2020-01-11 04:00:00  151.59         164.761566      137.972722\n",
       "2020-01-11 05:00:00  186.50         163.484362      154.847624\n",
       "2020-01-11 06:00:00  174.40         162.846710      160.975049\n",
       "2020-01-11 07:00:00  241.11         162.933115      155.217713\n",
       "2020-01-11 08:00:00  174.19         162.937217      154.371519\n",
       "2020-01-11 09:00:00  120.95         162.417578      164.693283\n",
       "2020-01-11 10:00:00  109.48         161.843949      139.987974\n",
       "2020-01-11 11:00:00   99.97         161.112465      146.390302\n",
       "2020-01-11 12:00:00   97.94         160.350696      153.075488\n",
       "2020-01-11 13:00:00   89.39         159.520558      127.611836\n",
       "2020-01-11 14:00:00   77.89         158.769988      130.640471\n",
       "2020-01-11 15:00:00   64.70         158.141476      145.798055\n",
       "2020-01-11 16:00:00   64.13         157.646076      169.902984\n",
       "2020-01-11 17:00:00   60.89         157.931329      152.189092"
      ]
     },
     "execution_count": 66,
     "metadata": {},
     "output_type": "execute_result"
    }
   ],
   "source": [
    "test"
   ]
  },
  {
   "cell_type": "markdown",
   "metadata": {},
   "source": [
    "# Direct Recursive Startegy"
   ]
  },
  {
   "cell_type": "code",
   "execution_count": 67,
   "metadata": {},
   "outputs": [],
   "source": [
    "def generate_data(data, n_input, month):\n",
    "    X, y = [], []\n",
    "    for i in range(0,len(data)-(n_input+month)):\n",
    "            X.append(data[i:i+n_input+(month-1)])\n",
    "            y.append(data[i+n_input+(month-1)])\n",
    "    return np.array(X), np.array(y)"
   ]
  },
  {
   "cell_type": "code",
   "execution_count": 68,
   "metadata": {},
   "outputs": [],
   "source": [
    "def model_predict(m_no, train_data, n_input, n_features):\n",
    "    \n",
    "    model = Sequential()\n",
    "    model.add(LSTM(200, activation='relu', input_shape=(n_input+(m_no - 1), n_features)))\n",
    "    model.add(Dense(1))\n",
    "    model.compile(optimizer='adam', loss='mse')\n",
    "    \n",
    "    X, y = generate_data(train_data, n_input, m_no)\n",
    "    #print(y.dtype)\n",
    "    \n",
    "    #print(\"Model No.  - \", m_no)\n",
    "    #print(X[0], y[0])\n",
    "    #print(\"SHAPE XY : \", X.shape, y.shape)\n",
    "    \n",
    "    model.fit(X, y, epochs=3, verbose=0)\n",
    "    \n",
    "    tX = train_data[-n_input:]\n",
    "    tP = np.array(test_predictions)\n",
    "    \n",
    "    tX = np.concatenate((tX, tP), axis=None)\n",
    "    \n",
    "    #print(\"TYPE : \", type(tX), type(tP))\n",
    "    \n",
    "    #print(\"TX : \", tX)\n",
    "        \n",
    "    #print(\"SHAPE : \" , tX.shape)\n",
    "    \n",
    "    tX = tX.reshape((1, tX.shape[0], n_features))\n",
    "    \n",
    "    res = model.predict(tX)\n",
    "    \n",
    "    return res[0]"
   ]
  },
  {
   "cell_type": "code",
   "execution_count": 69,
   "metadata": {},
   "outputs": [
    {
     "data": {
      "text/plain": [
       "[array([0.20540486], dtype=float32),\n",
       " array([0.19977652], dtype=float32),\n",
       " array([0.21011959], dtype=float32),\n",
       " array([0.22572972], dtype=float32),\n",
       " array([0.21575458], dtype=float32),\n",
       " array([0.2284969], dtype=float32),\n",
       " array([0.22634423], dtype=float32),\n",
       " array([0.25415042], dtype=float32),\n",
       " array([0.24200848], dtype=float32),\n",
       " array([0.25934738], dtype=float32),\n",
       " array([0.23445049], dtype=float32),\n",
       " array([0.25069433], dtype=float32),\n",
       " array([0.2718829], dtype=float32),\n",
       " array([0.2592009], dtype=float32),\n",
       " array([0.26990753], dtype=float32),\n",
       " array([0.25728735], dtype=float32),\n",
       " array([0.29379907], dtype=float32),\n",
       " array([0.28490555], dtype=float32),\n",
       " array([0.31273156], dtype=float32),\n",
       " array([0.2878201], dtype=float32),\n",
       " array([0.29853433], dtype=float32),\n",
       " array([0.30126914], dtype=float32),\n",
       " array([0.26562467], dtype=float32),\n",
       " array([0.29760987], dtype=float32)]"
      ]
     },
     "execution_count": 69,
     "metadata": {},
     "output_type": "execute_result"
    }
   ],
   "source": [
    "n_input = 24\n",
    "n_features = 1\n",
    "test_predictions = []\n",
    "\n",
    "for i in range(len(scaled_test)):\n",
    "    pred = model_predict(i+1,scaled_train,n_input, n_features)\n",
    "    test_predictions.append(pred)\n",
    "    \n",
    "test_predictions"
   ]
  },
  {
   "cell_type": "code",
   "execution_count": 70,
   "metadata": {},
   "outputs": [],
   "source": [
    "true_predictions = scaler.inverse_transform(test_predictions)\n",
    "\n",
    "test['direct_recursive_predict'] = true_predictions"
   ]
  },
  {
   "cell_type": "code",
   "execution_count": 71,
   "metadata": {},
   "outputs": [
    {
     "data": {
      "text/plain": [
       "<AxesSubplot:xlabel='date'>"
      ]
     },
     "execution_count": 71,
     "metadata": {},
     "output_type": "execute_result"
    },
    {
     "data": {
      "image/png": "[encoded data removed]",
      "text/plain": [
       "<Figure size 432x288 with 1 Axes>"
      ]
     },
     "metadata": {
      "needs_background": "light"
     },
     "output_type": "display_data"
    }
   ],
   "source": [
    "test.plot()"
   ]
  },
  {
   "cell_type": "code",
   "execution_count": 72,
   "metadata": {},
   "outputs": [
    {
     "name": "stdout",
     "output_type": "stream",
     "text": [
      "70.7787578490106\n"
     ]
    }
   ],
   "source": [
    "rmse = sqrt(mean_squared_error(test['PM2.5'], test['direct_recursive_predict']))\n",
    "print(rmse)"
   ]
  },
  {
   "cell_type": "code",
   "execution_count": 73,
   "metadata": {},
   "outputs": [
    {
     "data": {
      "text/html": [
       "<div>\n",
       "<style scoped>\n",
       "    .dataframe tbody tr th:only-of-type {\n",
       "        vertical-align: middle;\n",
       "    }\n",
       "\n",
       "    .dataframe tbody tr th {\n",
       "        vertical-align: top;\n",
       "    }\n",
       "\n",
       "    .dataframe thead th {\n",
       "        text-align: right;\n",
       "    }\n",
       "</style>\n",
       "<table border=\"1\" class=\"dataframe\">\n",
       "  <thead>\n",
       "    <tr style=\"text-align: right;\">\n",
       "      <th></th>\n",
       "      <th>PM2.5</th>\n",
       "      <th>recursive_predict</th>\n",
       "      <th>direct_predict</th>\n",
       "      <th>direct_recursive_predict</th>\n",
       "    </tr>\n",
       "    <tr>\n",
       "      <th>date</th>\n",
       "      <th></th>\n",
       "      <th></th>\n",
       "      <th></th>\n",
       "      <th></th>\n",
       "    </tr>\n",
       "  </thead>\n",
       "  <tbody>\n",
       "    <tr>\n",
       "      <th>2020-01-10 18:00:00</th>\n",
       "      <td>204.77</td>\n",
       "      <td>133.728466</td>\n",
       "      <td>129.493026</td>\n",
       "      <td>134.514387</td>\n",
       "    </tr>\n",
       "    <tr>\n",
       "      <th>2020-01-10 19:00:00</th>\n",
       "      <td>249.29</td>\n",
       "      <td>145.624993</td>\n",
       "      <td>134.434948</td>\n",
       "      <td>131.796064</td>\n",
       "    </tr>\n",
       "    <tr>\n",
       "      <th>2020-01-10 20:00:00</th>\n",
       "      <td>231.89</td>\n",
       "      <td>153.683201</td>\n",
       "      <td>144.777950</td>\n",
       "      <td>136.791458</td>\n",
       "    </tr>\n",
       "    <tr>\n",
       "      <th>2020-01-10 21:00:00</th>\n",
       "      <td>131.43</td>\n",
       "      <td>159.323164</td>\n",
       "      <td>139.014209</td>\n",
       "      <td>144.330682</td>\n",
       "    </tr>\n",
       "    <tr>\n",
       "      <th>2020-01-10 22:00:00</th>\n",
       "      <td>106.64</td>\n",
       "      <td>162.984183</td>\n",
       "      <td>143.826092</td>\n",
       "      <td>139.512991</td>\n",
       "    </tr>\n",
       "    <tr>\n",
       "      <th>2020-01-10 23:00:00</th>\n",
       "      <td>101.65</td>\n",
       "      <td>165.109014</td>\n",
       "      <td>153.531557</td>\n",
       "      <td>145.667145</td>\n",
       "    </tr>\n",
       "    <tr>\n",
       "      <th>2020-01-11 00:00:00</th>\n",
       "      <td>99.95</td>\n",
       "      <td>166.712593</td>\n",
       "      <td>144.272856</td>\n",
       "      <td>144.627472</td>\n",
       "    </tr>\n",
       "    <tr>\n",
       "      <th>2020-01-11 01:00:00</th>\n",
       "      <td>100.23</td>\n",
       "      <td>168.788961</td>\n",
       "      <td>144.781304</td>\n",
       "      <td>158.057029</td>\n",
       "    </tr>\n",
       "    <tr>\n",
       "      <th>2020-01-11 02:00:00</th>\n",
       "      <td>105.74</td>\n",
       "      <td>168.100081</td>\n",
       "      <td>139.841648</td>\n",
       "      <td>152.192834</td>\n",
       "    </tr>\n",
       "    <tr>\n",
       "      <th>2020-01-11 03:00:00</th>\n",
       "      <td>149.26</td>\n",
       "      <td>166.350119</td>\n",
       "      <td>157.564738</td>\n",
       "      <td>160.567004</td>\n",
       "    </tr>\n",
       "    <tr>\n",
       "      <th>2020-01-11 04:00:00</th>\n",
       "      <td>151.59</td>\n",
       "      <td>164.761566</td>\n",
       "      <td>137.972722</td>\n",
       "      <td>148.542553</td>\n",
       "    </tr>\n",
       "    <tr>\n",
       "      <th>2020-01-11 05:00:00</th>\n",
       "      <td>186.50</td>\n",
       "      <td>163.484362</td>\n",
       "      <td>154.847624</td>\n",
       "      <td>156.387843</td>\n",
       "    </tr>\n",
       "    <tr>\n",
       "      <th>2020-01-11 06:00:00</th>\n",
       "      <td>174.40</td>\n",
       "      <td>162.846710</td>\n",
       "      <td>160.975049</td>\n",
       "      <td>166.621280</td>\n",
       "    </tr>\n",
       "    <tr>\n",
       "      <th>2020-01-11 07:00:00</th>\n",
       "      <td>241.11</td>\n",
       "      <td>162.933115</td>\n",
       "      <td>155.217713</td>\n",
       "      <td>160.496259</td>\n",
       "    </tr>\n",
       "    <tr>\n",
       "      <th>2020-01-11 08:00:00</th>\n",
       "      <td>174.19</td>\n",
       "      <td>162.937217</td>\n",
       "      <td>154.371519</td>\n",
       "      <td>165.667242</td>\n",
       "    </tr>\n",
       "    <tr>\n",
       "      <th>2020-01-11 09:00:00</th>\n",
       "      <td>120.95</td>\n",
       "      <td>162.417578</td>\n",
       "      <td>164.693283</td>\n",
       "      <td>159.572073</td>\n",
       "    </tr>\n",
       "    <tr>\n",
       "      <th>2020-01-11 10:00:00</th>\n",
       "      <td>109.48</td>\n",
       "      <td>161.843949</td>\n",
       "      <td>139.987974</td>\n",
       "      <td>177.206138</td>\n",
       "    </tr>\n",
       "    <tr>\n",
       "      <th>2020-01-11 11:00:00</th>\n",
       "      <td>99.97</td>\n",
       "      <td>161.112465</td>\n",
       "      <td>146.390302</td>\n",
       "      <td>172.910835</td>\n",
       "    </tr>\n",
       "    <tr>\n",
       "      <th>2020-01-11 12:00:00</th>\n",
       "      <td>97.94</td>\n",
       "      <td>160.350696</td>\n",
       "      <td>153.075488</td>\n",
       "      <td>186.349963</td>\n",
       "    </tr>\n",
       "    <tr>\n",
       "      <th>2020-01-11 13:00:00</th>\n",
       "      <td>89.39</td>\n",
       "      <td>159.520558</td>\n",
       "      <td>127.611836</td>\n",
       "      <td>174.318474</td>\n",
       "    </tr>\n",
       "    <tr>\n",
       "      <th>2020-01-11 14:00:00</th>\n",
       "      <td>77.89</td>\n",
       "      <td>158.769988</td>\n",
       "      <td>130.640471</td>\n",
       "      <td>179.493127</td>\n",
       "    </tr>\n",
       "    <tr>\n",
       "      <th>2020-01-11 15:00:00</th>\n",
       "      <td>64.70</td>\n",
       "      <td>158.141476</td>\n",
       "      <td>145.798055</td>\n",
       "      <td>180.813958</td>\n",
       "    </tr>\n",
       "    <tr>\n",
       "      <th>2020-01-11 16:00:00</th>\n",
       "      <td>64.13</td>\n",
       "      <td>157.646076</td>\n",
       "      <td>169.902984</td>\n",
       "      <td>163.598748</td>\n",
       "    </tr>\n",
       "    <tr>\n",
       "      <th>2020-01-11 17:00:00</th>\n",
       "      <td>60.89</td>\n",
       "      <td>157.931329</td>\n",
       "      <td>152.189092</td>\n",
       "      <td>179.046637</td>\n",
       "    </tr>\n",
       "  </tbody>\n",
       "</table>\n",
       "</div>"
      ],
      "text/plain": [
       "                      PM2.5  recursive_predict  direct_predict  \\\n",
       "date                                                             \n",
       "2020-01-10 18:00:00  204.77         133.728466      129.493026   \n",
       "2020-01-10 19:00:00  249.29         145.624993      134.434948   \n",
       "2020-01-10 20:00:00  231.89         153.683201      144.777950   \n",
       "2020-01-10 21:00:00  131.43         159.323164      139.014209   \n",
       "2020-01-10 22:00:00  106.64         162.984183      143.826092   \n",
       "2020-01-10 23:00:00  101.65         165.109014      153.531557   \n",
       "2020-01-11 00:00:00   99.95         166.712593      144.272856   \n",
       "2020-01-11 01:00:00  100.23         168.788961      144.781304   \n",
       "2020-01-11 02:00:00  105.74         168.100081      139.841648   \n",
       "2020-01-11 03:00:00  149.26         166.350119      157.564738   \n",
       "2020-01-11 04:00:00  151.59         164.761566      137.972722   \n",
       "2020-01-11 05:00:00  186.50         163.484362      154.847624   \n",
       "2020-01-11 06:00:00  174.40         162.846710      160.975049   \n",
       "2020-01-11 07:00:00  241.11         162.933115      155.217713   \n",
       "2020-01-11 08:00:00  174.19         162.937217      154.371519   \n",
       "2020-01-11 09:00:00  120.95         162.417578      164.693283   \n",
       "2020-01-11 10:00:00  109.48         161.843949      139.987974   \n",
       "2020-01-11 11:00:00   99.97         161.112465      146.390302   \n",
       "2020-01-11 12:00:00   97.94         160.350696      153.075488   \n",
       "2020-01-11 13:00:00   89.39         159.520558      127.611836   \n",
       "2020-01-11 14:00:00   77.89         158.769988      130.640471   \n",
       "2020-01-11 15:00:00   64.70         158.141476      145.798055   \n",
       "2020-01-11 16:00:00   64.13         157.646076      169.902984   \n",
       "2020-01-11 17:00:00   60.89         157.931329      152.189092   \n",
       "\n",
       "                     direct_recursive_predict  \n",
       "date                                           \n",
       "2020-01-10 18:00:00                134.514387  \n",
       "2020-01-10 19:00:00                131.796064  \n",
       "2020-01-10 20:00:00                136.791458  \n",
       "2020-01-10 21:00:00                144.330682  \n",
       "2020-01-10 22:00:00                139.512991  \n",
       "2020-01-10 23:00:00                145.667145  \n",
       "2020-01-11 00:00:00                144.627472  \n",
       "2020-01-11 01:00:00                158.057029  \n",
       "2020-01-11 02:00:00                152.192834  \n",
       "2020-01-11 03:00:00                160.567004  \n",
       "2020-01-11 04:00:00                148.542553  \n",
       "2020-01-11 05:00:00                156.387843  \n",
       "2020-01-11 06:00:00                166.621280  \n",
       "2020-01-11 07:00:00                160.496259  \n",
       "2020-01-11 08:00:00                165.667242  \n",
       "2020-01-11 09:00:00                159.572073  \n",
       "2020-01-11 10:00:00                177.206138  \n",
       "2020-01-11 11:00:00                172.910835  \n",
       "2020-01-11 12:00:00                186.349963  \n",
       "2020-01-11 13:00:00                174.318474  \n",
       "2020-01-11 14:00:00                179.493127  \n",
       "2020-01-11 15:00:00                180.813958  \n",
       "2020-01-11 16:00:00                163.598748  \n",
       "2020-01-11 17:00:00                179.046637  "
      ]
     },
     "execution_count": 73,
     "metadata": {},
     "output_type": "execute_result"
    }
   ],
   "source": [
    "test"
   ]
  },
  {
   "cell_type": "markdown",
   "metadata": {},
   "source": [
    "# MIMO"
   ]
  },
  {
   "cell_type": "code",
   "execution_count": 74,
   "metadata": {},
   "outputs": [],
   "source": [
    "def generate_data(data, n_input, n_output):\n",
    "    X, y = [], []\n",
    "    for i in range(0,len(data)-(n_input+n_output)):\n",
    "            X.append(data[i:(i+n_input)])\n",
    "            y.append(data[i+n_input: i+n_input+n_output])\n",
    "    return np.array(X), np.array(y)"
   ]
  },
  {
   "cell_type": "code",
   "execution_count": 75,
   "metadata": {},
   "outputs": [],
   "source": [
    "n_input = 24\n",
    "n_features = 1\n",
    "n_output = len(scaled_test)\n",
    "\n",
    "X, y = generate_data(scaled_train, n_input, n_output)"
   ]
  },
  {
   "cell_type": "code",
   "execution_count": 76,
   "metadata": {},
   "outputs": [],
   "source": [
    "model = Sequential()\n",
    "model.add(LSTM(200, activation='relu', input_shape=(n_input, n_features)))\n",
    "model.add(Dense(n_output))\n",
    "model.compile(optimizer='adam', loss='mse')"
   ]
  },
  {
   "cell_type": "code",
   "execution_count": 77,
   "metadata": {},
   "outputs": [
    {
     "data": {
      "text/plain": [
       "<keras.callbacks.History at 0x203a8d94f70>"
      ]
     },
     "execution_count": 77,
     "metadata": {},
     "output_type": "execute_result"
    }
   ],
   "source": [
    "model.fit(X, y, epochs=3, verbose=0)"
   ]
  },
  {
   "cell_type": "code",
   "execution_count": 78,
   "metadata": {},
   "outputs": [
    {
     "name": "stdout",
     "output_type": "stream",
     "text": [
      "Model: \"sequential_49\"\n",
      "_________________________________________________________________\n",
      "Layer (type)                 Output Shape              Param #   \n",
      "=================================================================\n",
      "lstm_49 (LSTM)               (None, 200)               161600    \n",
      "_________________________________________________________________\n",
      "dense_49 (Dense)             (None, 24)                4824      \n",
      "=================================================================\n",
      "Total params: 166,424\n",
      "Trainable params: 166,424\n",
      "Non-trainable params: 0\n",
      "_________________________________________________________________\n"
     ]
    }
   ],
   "source": [
    "model.summary()"
   ]
  },
  {
   "cell_type": "code",
   "execution_count": 79,
   "metadata": {},
   "outputs": [],
   "source": [
    "tX = scaled_train[-n_input:]\n",
    "tX = tX.reshape((1, tX.shape[0], n_features))\n",
    "\n",
    "res = model.predict(tX)\n",
    "\n",
    "res = res.reshape((res.shape[1],1))"
   ]
  },
  {
   "cell_type": "code",
   "execution_count": 80,
   "metadata": {},
   "outputs": [
    {
     "data": {
      "text/plain": [
       "(24, 1)"
      ]
     },
     "execution_count": 80,
     "metadata": {},
     "output_type": "execute_result"
    }
   ],
   "source": [
    "res.shape"
   ]
  },
  {
   "cell_type": "code",
   "execution_count": 81,
   "metadata": {},
   "outputs": [],
   "source": [
    "true_predictions = scaler.inverse_transform(res)\n",
    "\n",
    "test['MIMO_predict'] = true_predictions"
   ]
  },
  {
   "cell_type": "code",
   "execution_count": 82,
   "metadata": {},
   "outputs": [
    {
     "data": {
      "text/html": [
       "<div>\n",
       "<style scoped>\n",
       "    .dataframe tbody tr th:only-of-type {\n",
       "        vertical-align: middle;\n",
       "    }\n",
       "\n",
       "    .dataframe tbody tr th {\n",
       "        vertical-align: top;\n",
       "    }\n",
       "\n",
       "    .dataframe thead th {\n",
       "        text-align: right;\n",
       "    }\n",
       "</style>\n",
       "<table border=\"1\" class=\"dataframe\">\n",
       "  <thead>\n",
       "    <tr style=\"text-align: right;\">\n",
       "      <th></th>\n",
       "      <th>PM2.5</th>\n",
       "      <th>recursive_predict</th>\n",
       "      <th>direct_predict</th>\n",
       "      <th>direct_recursive_predict</th>\n",
       "      <th>MIMO_predict</th>\n",
       "    </tr>\n",
       "    <tr>\n",
       "      <th>date</th>\n",
       "      <th></th>\n",
       "      <th></th>\n",
       "      <th></th>\n",
       "      <th></th>\n",
       "      <th></th>\n",
       "    </tr>\n",
       "  </thead>\n",
       "  <tbody>\n",
       "    <tr>\n",
       "      <th>2020-01-10 18:00:00</th>\n",
       "      <td>204.77</td>\n",
       "      <td>133.728466</td>\n",
       "      <td>129.493026</td>\n",
       "      <td>134.514387</td>\n",
       "      <td>150.718307</td>\n",
       "    </tr>\n",
       "    <tr>\n",
       "      <th>2020-01-10 19:00:00</th>\n",
       "      <td>249.29</td>\n",
       "      <td>145.624993</td>\n",
       "      <td>134.434948</td>\n",
       "      <td>131.796064</td>\n",
       "      <td>152.917358</td>\n",
       "    </tr>\n",
       "    <tr>\n",
       "      <th>2020-01-10 20:00:00</th>\n",
       "      <td>231.89</td>\n",
       "      <td>153.683201</td>\n",
       "      <td>144.777950</td>\n",
       "      <td>136.791458</td>\n",
       "      <td>156.510040</td>\n",
       "    </tr>\n",
       "    <tr>\n",
       "      <th>2020-01-10 21:00:00</th>\n",
       "      <td>131.43</td>\n",
       "      <td>159.323164</td>\n",
       "      <td>139.014209</td>\n",
       "      <td>144.330682</td>\n",
       "      <td>153.337051</td>\n",
       "    </tr>\n",
       "    <tr>\n",
       "      <th>2020-01-10 22:00:00</th>\n",
       "      <td>106.64</td>\n",
       "      <td>162.984183</td>\n",
       "      <td>143.826092</td>\n",
       "      <td>139.512991</td>\n",
       "      <td>152.706787</td>\n",
       "    </tr>\n",
       "    <tr>\n",
       "      <th>2020-01-10 23:00:00</th>\n",
       "      <td>101.65</td>\n",
       "      <td>165.109014</td>\n",
       "      <td>153.531557</td>\n",
       "      <td>145.667145</td>\n",
       "      <td>154.010254</td>\n",
       "    </tr>\n",
       "    <tr>\n",
       "      <th>2020-01-11 00:00:00</th>\n",
       "      <td>99.95</td>\n",
       "      <td>166.712593</td>\n",
       "      <td>144.272856</td>\n",
       "      <td>144.627472</td>\n",
       "      <td>150.856247</td>\n",
       "    </tr>\n",
       "    <tr>\n",
       "      <th>2020-01-11 01:00:00</th>\n",
       "      <td>100.23</td>\n",
       "      <td>168.788961</td>\n",
       "      <td>144.781304</td>\n",
       "      <td>158.057029</td>\n",
       "      <td>155.017349</td>\n",
       "    </tr>\n",
       "    <tr>\n",
       "      <th>2020-01-11 02:00:00</th>\n",
       "      <td>105.74</td>\n",
       "      <td>168.100081</td>\n",
       "      <td>139.841648</td>\n",
       "      <td>152.192834</td>\n",
       "      <td>150.105927</td>\n",
       "    </tr>\n",
       "    <tr>\n",
       "      <th>2020-01-11 03:00:00</th>\n",
       "      <td>149.26</td>\n",
       "      <td>166.350119</td>\n",
       "      <td>157.564738</td>\n",
       "      <td>160.567004</td>\n",
       "      <td>153.547348</td>\n",
       "    </tr>\n",
       "    <tr>\n",
       "      <th>2020-01-11 04:00:00</th>\n",
       "      <td>151.59</td>\n",
       "      <td>164.761566</td>\n",
       "      <td>137.972722</td>\n",
       "      <td>148.542553</td>\n",
       "      <td>161.223022</td>\n",
       "    </tr>\n",
       "    <tr>\n",
       "      <th>2020-01-11 05:00:00</th>\n",
       "      <td>186.50</td>\n",
       "      <td>163.484362</td>\n",
       "      <td>154.847624</td>\n",
       "      <td>156.387843</td>\n",
       "      <td>153.223618</td>\n",
       "    </tr>\n",
       "    <tr>\n",
       "      <th>2020-01-11 06:00:00</th>\n",
       "      <td>174.40</td>\n",
       "      <td>162.846710</td>\n",
       "      <td>160.975049</td>\n",
       "      <td>166.621280</td>\n",
       "      <td>149.691971</td>\n",
       "    </tr>\n",
       "    <tr>\n",
       "      <th>2020-01-11 07:00:00</th>\n",
       "      <td>241.11</td>\n",
       "      <td>162.933115</td>\n",
       "      <td>155.217713</td>\n",
       "      <td>160.496259</td>\n",
       "      <td>159.031265</td>\n",
       "    </tr>\n",
       "    <tr>\n",
       "      <th>2020-01-11 08:00:00</th>\n",
       "      <td>174.19</td>\n",
       "      <td>162.937217</td>\n",
       "      <td>154.371519</td>\n",
       "      <td>165.667242</td>\n",
       "      <td>149.588211</td>\n",
       "    </tr>\n",
       "    <tr>\n",
       "      <th>2020-01-11 09:00:00</th>\n",
       "      <td>120.95</td>\n",
       "      <td>162.417578</td>\n",
       "      <td>164.693283</td>\n",
       "      <td>159.572073</td>\n",
       "      <td>152.328918</td>\n",
       "    </tr>\n",
       "    <tr>\n",
       "      <th>2020-01-11 10:00:00</th>\n",
       "      <td>109.48</td>\n",
       "      <td>161.843949</td>\n",
       "      <td>139.987974</td>\n",
       "      <td>177.206138</td>\n",
       "      <td>156.085815</td>\n",
       "    </tr>\n",
       "    <tr>\n",
       "      <th>2020-01-11 11:00:00</th>\n",
       "      <td>99.97</td>\n",
       "      <td>161.112465</td>\n",
       "      <td>146.390302</td>\n",
       "      <td>172.910835</td>\n",
       "      <td>148.983841</td>\n",
       "    </tr>\n",
       "    <tr>\n",
       "      <th>2020-01-11 12:00:00</th>\n",
       "      <td>97.94</td>\n",
       "      <td>160.350696</td>\n",
       "      <td>153.075488</td>\n",
       "      <td>186.349963</td>\n",
       "      <td>149.160782</td>\n",
       "    </tr>\n",
       "    <tr>\n",
       "      <th>2020-01-11 13:00:00</th>\n",
       "      <td>89.39</td>\n",
       "      <td>159.520558</td>\n",
       "      <td>127.611836</td>\n",
       "      <td>174.318474</td>\n",
       "      <td>150.898880</td>\n",
       "    </tr>\n",
       "    <tr>\n",
       "      <th>2020-01-11 14:00:00</th>\n",
       "      <td>77.89</td>\n",
       "      <td>158.769988</td>\n",
       "      <td>130.640471</td>\n",
       "      <td>179.493127</td>\n",
       "      <td>144.671295</td>\n",
       "    </tr>\n",
       "    <tr>\n",
       "      <th>2020-01-11 15:00:00</th>\n",
       "      <td>64.70</td>\n",
       "      <td>158.141476</td>\n",
       "      <td>145.798055</td>\n",
       "      <td>180.813958</td>\n",
       "      <td>147.629196</td>\n",
       "    </tr>\n",
       "    <tr>\n",
       "      <th>2020-01-11 16:00:00</th>\n",
       "      <td>64.13</td>\n",
       "      <td>157.646076</td>\n",
       "      <td>169.902984</td>\n",
       "      <td>163.598748</td>\n",
       "      <td>145.825180</td>\n",
       "    </tr>\n",
       "    <tr>\n",
       "      <th>2020-01-11 17:00:00</th>\n",
       "      <td>60.89</td>\n",
       "      <td>157.931329</td>\n",
       "      <td>152.189092</td>\n",
       "      <td>179.046637</td>\n",
       "      <td>151.991638</td>\n",
       "    </tr>\n",
       "  </tbody>\n",
       "</table>\n",
       "</div>"
      ],
      "text/plain": [
       "                      PM2.5  recursive_predict  direct_predict  \\\n",
       "date                                                             \n",
       "2020-01-10 18:00:00  204.77         133.728466      129.493026   \n",
       "2020-01-10 19:00:00  249.29         145.624993      134.434948   \n",
       "2020-01-10 20:00:00  231.89         153.683201      144.777950   \n",
       "2020-01-10 21:00:00  131.43         159.323164      139.014209   \n",
       "2020-01-10 22:00:00  106.64         162.984183      143.826092   \n",
       "2020-01-10 23:00:00  101.65         165.109014      153.531557   \n",
       "2020-01-11 00:00:00   99.95         166.712593      144.272856   \n",
       "2020-01-11 01:00:00  100.23         168.788961      144.781304   \n",
       "2020-01-11 02:00:00  105.74         168.100081      139.841648   \n",
       "2020-01-11 03:00:00  149.26         166.350119      157.564738   \n",
       "2020-01-11 04:00:00  151.59         164.761566      137.972722   \n",
       "2020-01-11 05:00:00  186.50         163.484362      154.847624   \n",
       "2020-01-11 06:00:00  174.40         162.846710      160.975049   \n",
       "2020-01-11 07:00:00  241.11         162.933115      155.217713   \n",
       "2020-01-11 08:00:00  174.19         162.937217      154.371519   \n",
       "2020-01-11 09:00:00  120.95         162.417578      164.693283   \n",
       "2020-01-11 10:00:00  109.48         161.843949      139.987974   \n",
       "2020-01-11 11:00:00   99.97         161.112465      146.390302   \n",
       "2020-01-11 12:00:00   97.94         160.350696      153.075488   \n",
       "2020-01-11 13:00:00   89.39         159.520558      127.611836   \n",
       "2020-01-11 14:00:00   77.89         158.769988      130.640471   \n",
       "2020-01-11 15:00:00   64.70         158.141476      145.798055   \n",
       "2020-01-11 16:00:00   64.13         157.646076      169.902984   \n",
       "2020-01-11 17:00:00   60.89         157.931329      152.189092   \n",
       "\n",
       "                     direct_recursive_predict  MIMO_predict  \n",
       "date                                                         \n",
       "2020-01-10 18:00:00                134.514387    150.718307  \n",
       "2020-01-10 19:00:00                131.796064    152.917358  \n",
       "2020-01-10 20:00:00                136.791458    156.510040  \n",
       "2020-01-10 21:00:00                144.330682    153.337051  \n",
       "2020-01-10 22:00:00                139.512991    152.706787  \n",
       "2020-01-10 23:00:00                145.667145    154.010254  \n",
       "2020-01-11 00:00:00                144.627472    150.856247  \n",
       "2020-01-11 01:00:00                158.057029    155.017349  \n",
       "2020-01-11 02:00:00                152.192834    150.105927  \n",
       "2020-01-11 03:00:00                160.567004    153.547348  \n",
       "2020-01-11 04:00:00                148.542553    161.223022  \n",
       "2020-01-11 05:00:00                156.387843    153.223618  \n",
       "2020-01-11 06:00:00                166.621280    149.691971  \n",
       "2020-01-11 07:00:00                160.496259    159.031265  \n",
       "2020-01-11 08:00:00                165.667242    149.588211  \n",
       "2020-01-11 09:00:00                159.572073    152.328918  \n",
       "2020-01-11 10:00:00                177.206138    156.085815  \n",
       "2020-01-11 11:00:00                172.910835    148.983841  \n",
       "2020-01-11 12:00:00                186.349963    149.160782  \n",
       "2020-01-11 13:00:00                174.318474    150.898880  \n",
       "2020-01-11 14:00:00                179.493127    144.671295  \n",
       "2020-01-11 15:00:00                180.813958    147.629196  \n",
       "2020-01-11 16:00:00                163.598748    145.825180  \n",
       "2020-01-11 17:00:00                179.046637    151.991638  "
      ]
     },
     "execution_count": 82,
     "metadata": {},
     "output_type": "execute_result"
    }
   ],
   "source": [
    "test"
   ]
  },
  {
   "cell_type": "code",
   "execution_count": 83,
   "metadata": {},
   "outputs": [
    {
     "data": {
      "text/plain": [
       "<AxesSubplot:xlabel='date'>"
      ]
     },
     "execution_count": 83,
     "metadata": {},
     "output_type": "execute_result"
    },
    {
     "data": {
      "image/png": "[encoded data removed]",
      "text/plain": [
       "<Figure size 432x288 with 1 Axes>"
      ]
     },
     "metadata": {
      "needs_background": "light"
     },
     "output_type": "display_data"
    }
   ],
   "source": [
    "test.plot()"
   ]
  },
  {
   "cell_type": "code",
   "execution_count": 84,
   "metadata": {},
   "outputs": [
    {
     "name": "stdout",
     "output_type": "stream",
     "text": [
      "57.097966337442145\n"
     ]
    }
   ],
   "source": [
    "rmse = sqrt(mean_squared_error(test['PM2.5'], test['MIMO_predict']))\n",
    "print(rmse)"
   ]
  },
  {
   "cell_type": "markdown",
   "metadata": {},
   "source": [
    "# Direct MIMO"
   ]
  },
  {
   "cell_type": "code",
   "execution_count": 85,
   "metadata": {},
   "outputs": [],
   "source": [
    "def generate_data(data, n_input, q_no, n_output):\n",
    "    X, y = [], []\n",
    "    for i in range(0,len(data)-(n_input + ((q_no-1)*n_output) + n_output)):\n",
    "            X.append(data[i:(i+n_input)])\n",
    "            y.append(data[i+n_input+((q_no-1)*n_output): i+n_input+((q_no-1)*n_output) + n_output])\n",
    "    return np.array(X), np.array(y)"
   ]
  },
  {
   "cell_type": "code",
   "execution_count": 86,
   "metadata": {},
   "outputs": [],
   "source": [
    "def model_predict(train_data, n_input, n_features, q_no, n_output):\n",
    "    \n",
    "    model = Sequential()\n",
    "    model.add(LSTM(200, activation='relu', input_shape=(n_input, n_features)))\n",
    "    model.add(Dense(n_output))\n",
    "    model.compile(optimizer='adam', loss='mse')\n",
    "    \n",
    "    X, y = generate_data(train_data, n_input, q_no, n_output)\n",
    "    \n",
    "    model.fit(X, y, epochs=3, verbose=0)\n",
    "    \n",
    "    tX = train_data[-n_input:]\n",
    "    \n",
    "    tX = tX.reshape((1, n_input, n_features))\n",
    "    \n",
    "    res = model.predict(tX)\n",
    "    \n",
    "    return res"
   ]
  },
  {
   "cell_type": "code",
   "execution_count": 87,
   "metadata": {},
   "outputs": [
    {
     "data": {
      "text/plain": [
       "[array([[0.22549511, 0.22077158, 0.24801466, 0.242464  , 0.23763065,\n",
       "         0.24124986]], dtype=float32),\n",
       " array([[0.2507094 , 0.25591245, 0.25406978, 0.26152277, 0.26183084,\n",
       "         0.26710963]], dtype=float32),\n",
       " array([[0.22996125, 0.23558581, 0.23877689, 0.2365713 , 0.2381722 ,\n",
       "         0.23593211]], dtype=float32),\n",
       " array([[0.26336804, 0.26283878, 0.25020623, 0.25591174, 0.25966877,\n",
       "         0.2548711 ]], dtype=float32)]"
      ]
     },
     "execution_count": 87,
     "metadata": {},
     "output_type": "execute_result"
    }
   ],
   "source": [
    "n_input = 12\n",
    "n_features = 1\n",
    "test_predictions = []\n",
    "\n",
    "n_output = 6\n",
    "\n",
    "q = int(len(scaled_test)/n_output)\n",
    "\n",
    "\n",
    "for i in range(q):\n",
    "    pred = model_predict(scaled_train,n_input, n_features, i+1, n_output)\n",
    "    test_predictions.append(pred)\n",
    "\n",
    "test_predictions"
   ]
  },
  {
   "cell_type": "code",
   "execution_count": 88,
   "metadata": {},
   "outputs": [],
   "source": [
    "res = []\n",
    "\n",
    "for i in test_predictions:\n",
    "    for j in i:\n",
    "        for k in j:\n",
    "            res.append(k)"
   ]
  },
  {
   "cell_type": "code",
   "execution_count": 89,
   "metadata": {},
   "outputs": [
    {
     "data": {
      "text/plain": [
       "(24, 1)"
      ]
     },
     "execution_count": 89,
     "metadata": {},
     "output_type": "execute_result"
    }
   ],
   "source": [
    "res = np.array(res)\n",
    "res = res.reshape((res.shape[0],1))\n",
    "res.shape"
   ]
  },
  {
   "cell_type": "code",
   "execution_count": 90,
   "metadata": {},
   "outputs": [],
   "source": [
    "true_predictions = scaler.inverse_transform(res)\n",
    "\n",
    "test['Direct_MIMO_predict'] = true_predictions"
   ]
  },
  {
   "cell_type": "code",
   "execution_count": 91,
   "metadata": {},
   "outputs": [
    {
     "data": {
      "text/html": [
       "<div>\n",
       "<style scoped>\n",
       "    .dataframe tbody tr th:only-of-type {\n",
       "        vertical-align: middle;\n",
       "    }\n",
       "\n",
       "    .dataframe tbody tr th {\n",
       "        vertical-align: top;\n",
       "    }\n",
       "\n",
       "    .dataframe thead th {\n",
       "        text-align: right;\n",
       "    }\n",
       "</style>\n",
       "<table border=\"1\" class=\"dataframe\">\n",
       "  <thead>\n",
       "    <tr style=\"text-align: right;\">\n",
       "      <th></th>\n",
       "      <th>PM2.5</th>\n",
       "      <th>recursive_predict</th>\n",
       "      <th>direct_predict</th>\n",
       "      <th>direct_recursive_predict</th>\n",
       "      <th>MIMO_predict</th>\n",
       "      <th>Direct_MIMO_predict</th>\n",
       "    </tr>\n",
       "    <tr>\n",
       "      <th>date</th>\n",
       "      <th></th>\n",
       "      <th></th>\n",
       "      <th></th>\n",
       "      <th></th>\n",
       "      <th></th>\n",
       "      <th></th>\n",
       "    </tr>\n",
       "  </thead>\n",
       "  <tbody>\n",
       "    <tr>\n",
       "      <th>2020-01-10 18:00:00</th>\n",
       "      <td>204.77</td>\n",
       "      <td>133.728466</td>\n",
       "      <td>129.493026</td>\n",
       "      <td>134.514387</td>\n",
       "      <td>150.718307</td>\n",
       "      <td>144.217377</td>\n",
       "    </tr>\n",
       "    <tr>\n",
       "      <th>2020-01-10 19:00:00</th>\n",
       "      <td>249.29</td>\n",
       "      <td>145.624993</td>\n",
       "      <td>134.434948</td>\n",
       "      <td>131.796064</td>\n",
       "      <td>152.917358</td>\n",
       "      <td>141.936050</td>\n",
       "    </tr>\n",
       "    <tr>\n",
       "      <th>2020-01-10 20:00:00</th>\n",
       "      <td>231.89</td>\n",
       "      <td>153.683201</td>\n",
       "      <td>144.777950</td>\n",
       "      <td>136.791458</td>\n",
       "      <td>156.510040</td>\n",
       "      <td>155.093643</td>\n",
       "    </tr>\n",
       "    <tr>\n",
       "      <th>2020-01-10 21:00:00</th>\n",
       "      <td>131.43</td>\n",
       "      <td>159.323164</td>\n",
       "      <td>139.014209</td>\n",
       "      <td>144.330682</td>\n",
       "      <td>153.337051</td>\n",
       "      <td>152.412842</td>\n",
       "    </tr>\n",
       "    <tr>\n",
       "      <th>2020-01-10 22:00:00</th>\n",
       "      <td>106.64</td>\n",
       "      <td>162.984183</td>\n",
       "      <td>143.826092</td>\n",
       "      <td>139.512991</td>\n",
       "      <td>152.706787</td>\n",
       "      <td>150.078476</td>\n",
       "    </tr>\n",
       "    <tr>\n",
       "      <th>2020-01-10 23:00:00</th>\n",
       "      <td>101.65</td>\n",
       "      <td>165.109014</td>\n",
       "      <td>153.531557</td>\n",
       "      <td>145.667145</td>\n",
       "      <td>154.010254</td>\n",
       "      <td>151.826447</td>\n",
       "    </tr>\n",
       "    <tr>\n",
       "      <th>2020-01-11 00:00:00</th>\n",
       "      <td>99.95</td>\n",
       "      <td>166.712593</td>\n",
       "      <td>144.272856</td>\n",
       "      <td>144.627472</td>\n",
       "      <td>150.856247</td>\n",
       "      <td>156.395126</td>\n",
       "    </tr>\n",
       "    <tr>\n",
       "      <th>2020-01-11 01:00:00</th>\n",
       "      <td>100.23</td>\n",
       "      <td>168.788961</td>\n",
       "      <td>144.781304</td>\n",
       "      <td>158.057029</td>\n",
       "      <td>155.017349</td>\n",
       "      <td>158.908035</td>\n",
       "    </tr>\n",
       "    <tr>\n",
       "      <th>2020-01-11 02:00:00</th>\n",
       "      <td>105.74</td>\n",
       "      <td>168.100081</td>\n",
       "      <td>139.841648</td>\n",
       "      <td>152.192834</td>\n",
       "      <td>150.105927</td>\n",
       "      <td>158.018082</td>\n",
       "    </tr>\n",
       "    <tr>\n",
       "      <th>2020-01-11 03:00:00</th>\n",
       "      <td>149.26</td>\n",
       "      <td>166.350119</td>\n",
       "      <td>157.564738</td>\n",
       "      <td>160.567004</td>\n",
       "      <td>153.547348</td>\n",
       "      <td>161.617661</td>\n",
       "    </tr>\n",
       "    <tr>\n",
       "      <th>2020-01-11 04:00:00</th>\n",
       "      <td>151.59</td>\n",
       "      <td>164.761566</td>\n",
       "      <td>137.972722</td>\n",
       "      <td>148.542553</td>\n",
       "      <td>161.223022</td>\n",
       "      <td>161.766434</td>\n",
       "    </tr>\n",
       "    <tr>\n",
       "      <th>2020-01-11 05:00:00</th>\n",
       "      <td>186.50</td>\n",
       "      <td>163.484362</td>\n",
       "      <td>154.847624</td>\n",
       "      <td>156.387843</td>\n",
       "      <td>153.223618</td>\n",
       "      <td>164.315933</td>\n",
       "    </tr>\n",
       "    <tr>\n",
       "      <th>2020-01-11 06:00:00</th>\n",
       "      <td>174.40</td>\n",
       "      <td>162.846710</td>\n",
       "      <td>160.975049</td>\n",
       "      <td>166.621280</td>\n",
       "      <td>149.691971</td>\n",
       "      <td>146.374390</td>\n",
       "    </tr>\n",
       "    <tr>\n",
       "      <th>2020-01-11 07:00:00</th>\n",
       "      <td>241.11</td>\n",
       "      <td>162.933115</td>\n",
       "      <td>155.217713</td>\n",
       "      <td>160.496259</td>\n",
       "      <td>159.031265</td>\n",
       "      <td>149.090881</td>\n",
       "    </tr>\n",
       "    <tr>\n",
       "      <th>2020-01-11 08:00:00</th>\n",
       "      <td>174.19</td>\n",
       "      <td>162.937217</td>\n",
       "      <td>154.371519</td>\n",
       "      <td>165.667242</td>\n",
       "      <td>149.588211</td>\n",
       "      <td>150.632080</td>\n",
       "    </tr>\n",
       "    <tr>\n",
       "      <th>2020-01-11 09:00:00</th>\n",
       "      <td>120.95</td>\n",
       "      <td>162.417578</td>\n",
       "      <td>164.693283</td>\n",
       "      <td>159.572073</td>\n",
       "      <td>152.328918</td>\n",
       "      <td>149.566833</td>\n",
       "    </tr>\n",
       "    <tr>\n",
       "      <th>2020-01-11 10:00:00</th>\n",
       "      <td>109.48</td>\n",
       "      <td>161.843949</td>\n",
       "      <td>139.987974</td>\n",
       "      <td>177.206138</td>\n",
       "      <td>156.085815</td>\n",
       "      <td>150.340027</td>\n",
       "    </tr>\n",
       "    <tr>\n",
       "      <th>2020-01-11 11:00:00</th>\n",
       "      <td>99.97</td>\n",
       "      <td>161.112465</td>\n",
       "      <td>146.390302</td>\n",
       "      <td>172.910835</td>\n",
       "      <td>148.983841</td>\n",
       "      <td>149.258133</td>\n",
       "    </tr>\n",
       "    <tr>\n",
       "      <th>2020-01-11 12:00:00</th>\n",
       "      <td>97.94</td>\n",
       "      <td>160.350696</td>\n",
       "      <td>153.075488</td>\n",
       "      <td>186.349963</td>\n",
       "      <td>149.160782</td>\n",
       "      <td>162.508865</td>\n",
       "    </tr>\n",
       "    <tr>\n",
       "      <th>2020-01-11 13:00:00</th>\n",
       "      <td>89.39</td>\n",
       "      <td>159.520558</td>\n",
       "      <td>127.611836</td>\n",
       "      <td>174.318474</td>\n",
       "      <td>150.898880</td>\n",
       "      <td>162.253250</td>\n",
       "    </tr>\n",
       "    <tr>\n",
       "      <th>2020-01-11 14:00:00</th>\n",
       "      <td>77.89</td>\n",
       "      <td>158.769988</td>\n",
       "      <td>130.640471</td>\n",
       "      <td>179.493127</td>\n",
       "      <td>144.671295</td>\n",
       "      <td>156.152100</td>\n",
       "    </tr>\n",
       "    <tr>\n",
       "      <th>2020-01-11 15:00:00</th>\n",
       "      <td>64.70</td>\n",
       "      <td>158.141476</td>\n",
       "      <td>145.798055</td>\n",
       "      <td>180.813958</td>\n",
       "      <td>147.629196</td>\n",
       "      <td>158.907700</td>\n",
       "    </tr>\n",
       "    <tr>\n",
       "      <th>2020-01-11 16:00:00</th>\n",
       "      <td>64.13</td>\n",
       "      <td>157.646076</td>\n",
       "      <td>169.902984</td>\n",
       "      <td>163.598748</td>\n",
       "      <td>145.825180</td>\n",
       "      <td>160.722229</td>\n",
       "    </tr>\n",
       "    <tr>\n",
       "      <th>2020-01-11 17:00:00</th>\n",
       "      <td>60.89</td>\n",
       "      <td>157.931329</td>\n",
       "      <td>152.189092</td>\n",
       "      <td>179.046637</td>\n",
       "      <td>151.991638</td>\n",
       "      <td>158.405090</td>\n",
       "    </tr>\n",
       "  </tbody>\n",
       "</table>\n",
       "</div>"
      ],
      "text/plain": [
       "                      PM2.5  recursive_predict  direct_predict  \\\n",
       "date                                                             \n",
       "2020-01-10 18:00:00  204.77         133.728466      129.493026   \n",
       "2020-01-10 19:00:00  249.29         145.624993      134.434948   \n",
       "2020-01-10 20:00:00  231.89         153.683201      144.777950   \n",
       "2020-01-10 21:00:00  131.43         159.323164      139.014209   \n",
       "2020-01-10 22:00:00  106.64         162.984183      143.826092   \n",
       "2020-01-10 23:00:00  101.65         165.109014      153.531557   \n",
       "2020-01-11 00:00:00   99.95         166.712593      144.272856   \n",
       "2020-01-11 01:00:00  100.23         168.788961      144.781304   \n",
       "2020-01-11 02:00:00  105.74         168.100081      139.841648   \n",
       "2020-01-11 03:00:00  149.26         166.350119      157.564738   \n",
       "2020-01-11 04:00:00  151.59         164.761566      137.972722   \n",
       "2020-01-11 05:00:00  186.50         163.484362      154.847624   \n",
       "2020-01-11 06:00:00  174.40         162.846710      160.975049   \n",
       "2020-01-11 07:00:00  241.11         162.933115      155.217713   \n",
       "2020-01-11 08:00:00  174.19         162.937217      154.371519   \n",
       "2020-01-11 09:00:00  120.95         162.417578      164.693283   \n",
       "2020-01-11 10:00:00  109.48         161.843949      139.987974   \n",
       "2020-01-11 11:00:00   99.97         161.112465      146.390302   \n",
       "2020-01-11 12:00:00   97.94         160.350696      153.075488   \n",
       "2020-01-11 13:00:00   89.39         159.520558      127.611836   \n",
       "2020-01-11 14:00:00   77.89         158.769988      130.640471   \n",
       "2020-01-11 15:00:00   64.70         158.141476      145.798055   \n",
       "2020-01-11 16:00:00   64.13         157.646076      169.902984   \n",
       "2020-01-11 17:00:00   60.89         157.931329      152.189092   \n",
       "\n",
       "                     direct_recursive_predict  MIMO_predict  \\\n",
       "date                                                          \n",
       "2020-01-10 18:00:00                134.514387    150.718307   \n",
       "2020-01-10 19:00:00                131.796064    152.917358   \n",
       "2020-01-10 20:00:00                136.791458    156.510040   \n",
       "2020-01-10 21:00:00                144.330682    153.337051   \n",
       "2020-01-10 22:00:00                139.512991    152.706787   \n",
       "2020-01-10 23:00:00                145.667145    154.010254   \n",
       "2020-01-11 00:00:00                144.627472    150.856247   \n",
       "2020-01-11 01:00:00                158.057029    155.017349   \n",
       "2020-01-11 02:00:00                152.192834    150.105927   \n",
       "2020-01-11 03:00:00                160.567004    153.547348   \n",
       "2020-01-11 04:00:00                148.542553    161.223022   \n",
       "2020-01-11 05:00:00                156.387843    153.223618   \n",
       "2020-01-11 06:00:00                166.621280    149.691971   \n",
       "2020-01-11 07:00:00                160.496259    159.031265   \n",
       "2020-01-11 08:00:00                165.667242    149.588211   \n",
       "2020-01-11 09:00:00                159.572073    152.328918   \n",
       "2020-01-11 10:00:00                177.206138    156.085815   \n",
       "2020-01-11 11:00:00                172.910835    148.983841   \n",
       "2020-01-11 12:00:00                186.349963    149.160782   \n",
       "2020-01-11 13:00:00                174.318474    150.898880   \n",
       "2020-01-11 14:00:00                179.493127    144.671295   \n",
       "2020-01-11 15:00:00                180.813958    147.629196   \n",
       "2020-01-11 16:00:00                163.598748    145.825180   \n",
       "2020-01-11 17:00:00                179.046637    151.991638   \n",
       "\n",
       "                     Direct_MIMO_predict  \n",
       "date                                      \n",
       "2020-01-10 18:00:00           144.217377  \n",
       "2020-01-10 19:00:00           141.936050  \n",
       "2020-01-10 20:00:00           155.093643  \n",
       "2020-01-10 21:00:00           152.412842  \n",
       "2020-01-10 22:00:00           150.078476  \n",
       "2020-01-10 23:00:00           151.826447  \n",
       "2020-01-11 00:00:00           156.395126  \n",
       "2020-01-11 01:00:00           158.908035  \n",
       "2020-01-11 02:00:00           158.018082  \n",
       "2020-01-11 03:00:00           161.617661  \n",
       "2020-01-11 04:00:00           161.766434  \n",
       "2020-01-11 05:00:00           164.315933  \n",
       "2020-01-11 06:00:00           146.374390  \n",
       "2020-01-11 07:00:00           149.090881  \n",
       "2020-01-11 08:00:00           150.632080  \n",
       "2020-01-11 09:00:00           149.566833  \n",
       "2020-01-11 10:00:00           150.340027  \n",
       "2020-01-11 11:00:00           149.258133  \n",
       "2020-01-11 12:00:00           162.508865  \n",
       "2020-01-11 13:00:00           162.253250  \n",
       "2020-01-11 14:00:00           156.152100  \n",
       "2020-01-11 15:00:00           158.907700  \n",
       "2020-01-11 16:00:00           160.722229  \n",
       "2020-01-11 17:00:00           158.405090  "
      ]
     },
     "execution_count": 91,
     "metadata": {},
     "output_type": "execute_result"
    }
   ],
   "source": [
    "test"
   ]
  },
  {
   "cell_type": "code",
   "execution_count": 92,
   "metadata": {},
   "outputs": [
    {
     "data": {
      "text/plain": [
       "<AxesSubplot:xlabel='date'>"
      ]
     },
     "execution_count": 92,
     "metadata": {},
     "output_type": "execute_result"
    },
    {
     "data": {
      "image/png": "[encoded data removed]",
      "text/plain": [
       "<Figure size 432x288 with 1 Axes>"
      ]
     },
     "metadata": {
      "needs_background": "light"
     },
     "output_type": "display_data"
    }
   ],
   "source": [
    "test.plot()"
   ]
  },
  {
   "cell_type": "code",
   "execution_count": 93,
   "metadata": {},
   "outputs": [
    {
     "name": "stdout",
     "output_type": "stream",
     "text": [
      "62.61249799320998\n"
     ]
    }
   ],
   "source": [
    "rmse = sqrt(mean_squared_error(test['PM2.5'], test['Direct_MIMO_predict']))\n",
    "print(rmse)"
   ]
  },
  {
   "cell_type": "code",
   "execution_count": 94,
   "metadata": {},
   "outputs": [],
   "source": [
    "rec_err = abs(test['PM2.5'] - test['recursive_predict'])\n",
    "dir_err = abs(test['PM2.5'] - test['direct_predict'])\n",
    "dir_rec_err = abs(test['PM2.5'] - test['direct_recursive_predict'])\n",
    "mimo_err = abs(test['PM2.5'] - test['MIMO_predict'])\n",
    "dir_mimo_err = abs(test['PM2.5'] - test['Direct_MIMO_predict'])"
   ]
  },
  {
   "cell_type": "code",
   "execution_count": 95,
   "metadata": {},
   "outputs": [],
   "source": [
    "errors = pd.DataFrame({\n",
    "    'Recursive':rec_err,\n",
    "    'Direct':dir_err,\n",
    "    'Direct Recursive':dir_rec_err,\n",
    "    'MIMO':mimo_err,\n",
    "    'Direct MIMO':dir_mimo_err\n",
    "})"
   ]
  },
  {
   "cell_type": "code",
   "execution_count": 96,
   "metadata": {},
   "outputs": [
    {
     "data": {
      "text/html": [
       "<div>\n",
       "<style scoped>\n",
       "    .dataframe tbody tr th:only-of-type {\n",
       "        vertical-align: middle;\n",
       "    }\n",
       "\n",
       "    .dataframe tbody tr th {\n",
       "        vertical-align: top;\n",
       "    }\n",
       "\n",
       "    .dataframe thead th {\n",
       "        text-align: right;\n",
       "    }\n",
       "</style>\n",
       "<table border=\"1\" class=\"dataframe\">\n",
       "  <thead>\n",
       "    <tr style=\"text-align: right;\">\n",
       "      <th></th>\n",
       "      <th>Recursive</th>\n",
       "      <th>Direct</th>\n",
       "      <th>Direct Recursive</th>\n",
       "      <th>MIMO</th>\n",
       "      <th>Direct MIMO</th>\n",
       "    </tr>\n",
       "    <tr>\n",
       "      <th>date</th>\n",
       "      <th></th>\n",
       "      <th></th>\n",
       "      <th></th>\n",
       "      <th></th>\n",
       "      <th></th>\n",
       "    </tr>\n",
       "  </thead>\n",
       "  <tbody>\n",
       "    <tr>\n",
       "      <th>2020-01-10 18:00:00</th>\n",
       "      <td>71.041534</td>\n",
       "      <td>75.276974</td>\n",
       "      <td>70.255613</td>\n",
       "      <td>54.051693</td>\n",
       "      <td>60.552623</td>\n",
       "    </tr>\n",
       "    <tr>\n",
       "      <th>2020-01-10 19:00:00</th>\n",
       "      <td>103.665007</td>\n",
       "      <td>114.855052</td>\n",
       "      <td>117.493936</td>\n",
       "      <td>96.372642</td>\n",
       "      <td>107.353950</td>\n",
       "    </tr>\n",
       "    <tr>\n",
       "      <th>2020-01-10 20:00:00</th>\n",
       "      <td>78.206799</td>\n",
       "      <td>87.112050</td>\n",
       "      <td>95.098542</td>\n",
       "      <td>75.379960</td>\n",
       "      <td>76.796357</td>\n",
       "    </tr>\n",
       "    <tr>\n",
       "      <th>2020-01-10 21:00:00</th>\n",
       "      <td>27.893164</td>\n",
       "      <td>7.584209</td>\n",
       "      <td>12.900682</td>\n",
       "      <td>21.907051</td>\n",
       "      <td>20.982842</td>\n",
       "    </tr>\n",
       "    <tr>\n",
       "      <th>2020-01-10 22:00:00</th>\n",
       "      <td>56.344183</td>\n",
       "      <td>37.186092</td>\n",
       "      <td>32.872991</td>\n",
       "      <td>46.066787</td>\n",
       "      <td>43.438476</td>\n",
       "    </tr>\n",
       "    <tr>\n",
       "      <th>2020-01-10 23:00:00</th>\n",
       "      <td>63.459014</td>\n",
       "      <td>51.881557</td>\n",
       "      <td>44.017145</td>\n",
       "      <td>52.360254</td>\n",
       "      <td>50.176447</td>\n",
       "    </tr>\n",
       "    <tr>\n",
       "      <th>2020-01-11 00:00:00</th>\n",
       "      <td>66.762593</td>\n",
       "      <td>44.322856</td>\n",
       "      <td>44.677472</td>\n",
       "      <td>50.906247</td>\n",
       "      <td>56.445126</td>\n",
       "    </tr>\n",
       "    <tr>\n",
       "      <th>2020-01-11 01:00:00</th>\n",
       "      <td>68.558961</td>\n",
       "      <td>44.551304</td>\n",
       "      <td>57.827029</td>\n",
       "      <td>54.787349</td>\n",
       "      <td>58.678035</td>\n",
       "    </tr>\n",
       "    <tr>\n",
       "      <th>2020-01-11 02:00:00</th>\n",
       "      <td>62.360081</td>\n",
       "      <td>34.101648</td>\n",
       "      <td>46.452834</td>\n",
       "      <td>44.365927</td>\n",
       "      <td>52.278082</td>\n",
       "    </tr>\n",
       "    <tr>\n",
       "      <th>2020-01-11 03:00:00</th>\n",
       "      <td>17.090119</td>\n",
       "      <td>8.304738</td>\n",
       "      <td>11.307004</td>\n",
       "      <td>4.287348</td>\n",
       "      <td>12.357661</td>\n",
       "    </tr>\n",
       "    <tr>\n",
       "      <th>2020-01-11 04:00:00</th>\n",
       "      <td>13.171566</td>\n",
       "      <td>13.617278</td>\n",
       "      <td>3.047447</td>\n",
       "      <td>9.633022</td>\n",
       "      <td>10.176434</td>\n",
       "    </tr>\n",
       "    <tr>\n",
       "      <th>2020-01-11 05:00:00</th>\n",
       "      <td>23.015638</td>\n",
       "      <td>31.652376</td>\n",
       "      <td>30.112157</td>\n",
       "      <td>33.276382</td>\n",
       "      <td>22.184067</td>\n",
       "    </tr>\n",
       "    <tr>\n",
       "      <th>2020-01-11 06:00:00</th>\n",
       "      <td>11.553290</td>\n",
       "      <td>13.424951</td>\n",
       "      <td>7.778720</td>\n",
       "      <td>24.708029</td>\n",
       "      <td>28.025610</td>\n",
       "    </tr>\n",
       "    <tr>\n",
       "      <th>2020-01-11 07:00:00</th>\n",
       "      <td>78.176885</td>\n",
       "      <td>85.892287</td>\n",
       "      <td>80.613741</td>\n",
       "      <td>82.078735</td>\n",
       "      <td>92.019119</td>\n",
       "    </tr>\n",
       "    <tr>\n",
       "      <th>2020-01-11 08:00:00</th>\n",
       "      <td>11.252783</td>\n",
       "      <td>19.818481</td>\n",
       "      <td>8.522758</td>\n",
       "      <td>24.601789</td>\n",
       "      <td>23.557920</td>\n",
       "    </tr>\n",
       "    <tr>\n",
       "      <th>2020-01-11 09:00:00</th>\n",
       "      <td>41.467578</td>\n",
       "      <td>43.743283</td>\n",
       "      <td>38.622073</td>\n",
       "      <td>31.378918</td>\n",
       "      <td>28.616833</td>\n",
       "    </tr>\n",
       "    <tr>\n",
       "      <th>2020-01-11 10:00:00</th>\n",
       "      <td>52.363949</td>\n",
       "      <td>30.507974</td>\n",
       "      <td>67.726138</td>\n",
       "      <td>46.605815</td>\n",
       "      <td>40.860027</td>\n",
       "    </tr>\n",
       "    <tr>\n",
       "      <th>2020-01-11 11:00:00</th>\n",
       "      <td>61.142465</td>\n",
       "      <td>46.420302</td>\n",
       "      <td>72.940835</td>\n",
       "      <td>49.013841</td>\n",
       "      <td>49.288133</td>\n",
       "    </tr>\n",
       "    <tr>\n",
       "      <th>2020-01-11 12:00:00</th>\n",
       "      <td>62.410696</td>\n",
       "      <td>55.135488</td>\n",
       "      <td>88.409963</td>\n",
       "      <td>51.220782</td>\n",
       "      <td>64.568865</td>\n",
       "    </tr>\n",
       "    <tr>\n",
       "      <th>2020-01-11 13:00:00</th>\n",
       "      <td>70.130558</td>\n",
       "      <td>38.221836</td>\n",
       "      <td>84.928474</td>\n",
       "      <td>61.508880</td>\n",
       "      <td>72.863250</td>\n",
       "    </tr>\n",
       "    <tr>\n",
       "      <th>2020-01-11 14:00:00</th>\n",
       "      <td>80.879988</td>\n",
       "      <td>52.750471</td>\n",
       "      <td>101.603127</td>\n",
       "      <td>66.781295</td>\n",
       "      <td>78.262100</td>\n",
       "    </tr>\n",
       "    <tr>\n",
       "      <th>2020-01-11 15:00:00</th>\n",
       "      <td>93.441476</td>\n",
       "      <td>81.098055</td>\n",
       "      <td>116.113958</td>\n",
       "      <td>82.929196</td>\n",
       "      <td>94.207700</td>\n",
       "    </tr>\n",
       "    <tr>\n",
       "      <th>2020-01-11 16:00:00</th>\n",
       "      <td>93.516076</td>\n",
       "      <td>105.772984</td>\n",
       "      <td>99.468748</td>\n",
       "      <td>81.695180</td>\n",
       "      <td>96.592229</td>\n",
       "    </tr>\n",
       "    <tr>\n",
       "      <th>2020-01-11 17:00:00</th>\n",
       "      <td>97.041329</td>\n",
       "      <td>91.299092</td>\n",
       "      <td>118.156637</td>\n",
       "      <td>91.101638</td>\n",
       "      <td>97.515090</td>\n",
       "    </tr>\n",
       "  </tbody>\n",
       "</table>\n",
       "</div>"
      ],
      "text/plain": [
       "                      Recursive      Direct  Direct Recursive       MIMO  \\\n",
       "date                                                                       \n",
       "2020-01-10 18:00:00   71.041534   75.276974         70.255613  54.051693   \n",
       "2020-01-10 19:00:00  103.665007  114.855052        117.493936  96.372642   \n",
       "2020-01-10 20:00:00   78.206799   87.112050         95.098542  75.379960   \n",
       "2020-01-10 21:00:00   27.893164    7.584209         12.900682  21.907051   \n",
       "2020-01-10 22:00:00   56.344183   37.186092         32.872991  46.066787   \n",
       "2020-01-10 23:00:00   63.459014   51.881557         44.017145  52.360254   \n",
       "2020-01-11 00:00:00   66.762593   44.322856         44.677472  50.906247   \n",
       "2020-01-11 01:00:00   68.558961   44.551304         57.827029  54.787349   \n",
       "2020-01-11 02:00:00   62.360081   34.101648         46.452834  44.365927   \n",
       "2020-01-11 03:00:00   17.090119    8.304738         11.307004   4.287348   \n",
       "2020-01-11 04:00:00   13.171566   13.617278          3.047447   9.633022   \n",
       "2020-01-11 05:00:00   23.015638   31.652376         30.112157  33.276382   \n",
       "2020-01-11 06:00:00   11.553290   13.424951          7.778720  24.708029   \n",
       "2020-01-11 07:00:00   78.176885   85.892287         80.613741  82.078735   \n",
       "2020-01-11 08:00:00   11.252783   19.818481          8.522758  24.601789   \n",
       "2020-01-11 09:00:00   41.467578   43.743283         38.622073  31.378918   \n",
       "2020-01-11 10:00:00   52.363949   30.507974         67.726138  46.605815   \n",
       "2020-01-11 11:00:00   61.142465   46.420302         72.940835  49.013841   \n",
       "2020-01-11 12:00:00   62.410696   55.135488         88.409963  51.220782   \n",
       "2020-01-11 13:00:00   70.130558   38.221836         84.928474  61.508880   \n",
       "2020-01-11 14:00:00   80.879988   52.750471        101.603127  66.781295   \n",
       "2020-01-11 15:00:00   93.441476   81.098055        116.113958  82.929196   \n",
       "2020-01-11 16:00:00   93.516076  105.772984         99.468748  81.695180   \n",
       "2020-01-11 17:00:00   97.041329   91.299092        118.156637  91.101638   \n",
       "\n",
       "                     Direct MIMO  \n",
       "date                              \n",
       "2020-01-10 18:00:00    60.552623  \n",
       "2020-01-10 19:00:00   107.353950  \n",
       "2020-01-10 20:00:00    76.796357  \n",
       "2020-01-10 21:00:00    20.982842  \n",
       "2020-01-10 22:00:00    43.438476  \n",
       "2020-01-10 23:00:00    50.176447  \n",
       "2020-01-11 00:00:00    56.445126  \n",
       "2020-01-11 01:00:00    58.678035  \n",
       "2020-01-11 02:00:00    52.278082  \n",
       "2020-01-11 03:00:00    12.357661  \n",
       "2020-01-11 04:00:00    10.176434  \n",
       "2020-01-11 05:00:00    22.184067  \n",
       "2020-01-11 06:00:00    28.025610  \n",
       "2020-01-11 07:00:00    92.019119  \n",
       "2020-01-11 08:00:00    23.557920  \n",
       "2020-01-11 09:00:00    28.616833  \n",
       "2020-01-11 10:00:00    40.860027  \n",
       "2020-01-11 11:00:00    49.288133  \n",
       "2020-01-11 12:00:00    64.568865  \n",
       "2020-01-11 13:00:00    72.863250  \n",
       "2020-01-11 14:00:00    78.262100  \n",
       "2020-01-11 15:00:00    94.207700  \n",
       "2020-01-11 16:00:00    96.592229  \n",
       "2020-01-11 17:00:00    97.515090  "
      ]
     },
     "execution_count": 96,
     "metadata": {},
     "output_type": "execute_result"
    }
   ],
   "source": [
    "errors"
   ]
  },
  {
   "cell_type": "code",
   "execution_count": 97,
   "metadata": {},
   "outputs": [
    {
     "data": {
      "text/plain": [
       "<AxesSubplot:xlabel='date'>"
      ]
     },
     "execution_count": 97,
     "metadata": {},
     "output_type": "execute_result"
    },
    {
     "data": {
      "image/png": "[encoded data removed]",
      "text/plain": [
       "<Figure size 432x288 with 1 Axes>"
      ]
     },
     "metadata": {
      "needs_background": "light"
     },
     "output_type": "display_data"
    }
   ],
   "source": [
    "errors.plot()"
   ]
  },
  {
   "cell_type": "code",
   "execution_count": 98,
   "metadata": {},
   "outputs": [
    {
     "data": {
      "text/plain": [
       "24"
      ]
     },
     "execution_count": 98,
     "metadata": {},
     "output_type": "execute_result"
    }
   ],
   "source": [
    "len(scaled_test)"
   ]
  },
  {
   "cell_type": "code",
   "execution_count": null,
   "metadata": {},
   "outputs": [],
   "source": []
  }
 ],
 "metadata": {
  "kernelspec": {
   "display_name": "Python 3",
   "language": "python",
   "name": "python3"
  },
  "language_info": {
   "codemirror_mode": {
    "name": "ipython",
    "version": 3
   },
   "file_extension": ".py",
   "mimetype": "text/x-python",
   "name": "python",
   "nbconvert_exporter": "python",
   "pygments_lexer": "ipython3",
   "version": "3.8.5"
  }
 },
 "nbformat": 4,
 "nbformat_minor": 4
}
