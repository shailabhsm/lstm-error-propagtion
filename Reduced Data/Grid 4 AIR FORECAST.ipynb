{
 "cells": [
  {
   "cell_type": "code",
   "execution_count": 1,
   "metadata": {},
   "outputs": [],
   "source": [
    "import pandas as pd\n",
    "import numpy as np\n",
    "import matplotlib.pyplot as plt\n",
    "from keras.models import Sequential\n",
    "from keras.layers import Dense, LSTM, Dropout\n",
    "from keras.preprocessing.sequence import TimeseriesGenerator\n",
    "from statsmodels.tsa.seasonal import seasonal_decompose\n",
    "from sklearn.preprocessing import MinMaxScaler\n",
    "from sklearn.metrics import mean_squared_error\n",
    "from math import sqrt\n",
    "import warnings\n",
    "\n",
    "warnings.filterwarnings(\"ignore\")"
   ]
  },
  {
   "cell_type": "code",
   "execution_count": 2,
   "metadata": {},
   "outputs": [],
   "source": [
    "df = pd.read_csv('C:/Users/shail/Desktop/project/raw data/Device-4.csv')\n",
    "\n",
    "df.columns = ['SNo','temp','hum','co','no2','pm2_5','pm10','date']\n",
    "date = df['date']\n",
    "df = df.drop([\"SNo\"],axis=1)\n",
    "df['date'] = pd.to_datetime(df['date'])"
   ]
  },
  {
   "cell_type": "code",
   "execution_count": 3,
   "metadata": {},
   "outputs": [
    {
     "data": {
      "text/html": [
       "<div>\n",
       "<style scoped>\n",
       "    .dataframe tbody tr th:only-of-type {\n",
       "        vertical-align: middle;\n",
       "    }\n",
       "\n",
       "    .dataframe tbody tr th {\n",
       "        vertical-align: top;\n",
       "    }\n",
       "\n",
       "    .dataframe thead th {\n",
       "        text-align: right;\n",
       "    }\n",
       "</style>\n",
       "<table border=\"1\" class=\"dataframe\">\n",
       "  <thead>\n",
       "    <tr style=\"text-align: right;\">\n",
       "      <th></th>\n",
       "      <th>temp</th>\n",
       "      <th>hum</th>\n",
       "      <th>co</th>\n",
       "      <th>no2</th>\n",
       "      <th>pm2_5</th>\n",
       "      <th>pm10</th>\n",
       "      <th>date</th>\n",
       "    </tr>\n",
       "  </thead>\n",
       "  <tbody>\n",
       "    <tr>\n",
       "      <th>0</th>\n",
       "      <td>13</td>\n",
       "      <td>52</td>\n",
       "      <td>44</td>\n",
       "      <td>0.88</td>\n",
       "      <td>91</td>\n",
       "      <td>127</td>\n",
       "      <td>2020-01-11 17:07:49</td>\n",
       "    </tr>\n",
       "    <tr>\n",
       "      <th>1</th>\n",
       "      <td>13</td>\n",
       "      <td>52</td>\n",
       "      <td>44</td>\n",
       "      <td>0.88</td>\n",
       "      <td>91</td>\n",
       "      <td>127</td>\n",
       "      <td>2020-01-11 17:07:46</td>\n",
       "    </tr>\n",
       "    <tr>\n",
       "      <th>2</th>\n",
       "      <td>13</td>\n",
       "      <td>52</td>\n",
       "      <td>44</td>\n",
       "      <td>0.88</td>\n",
       "      <td>91</td>\n",
       "      <td>127</td>\n",
       "      <td>2020-01-11 17:07:39</td>\n",
       "    </tr>\n",
       "    <tr>\n",
       "      <th>3</th>\n",
       "      <td>13</td>\n",
       "      <td>52</td>\n",
       "      <td>44</td>\n",
       "      <td>0.90</td>\n",
       "      <td>91</td>\n",
       "      <td>127</td>\n",
       "      <td>2020-01-11 17:07:30</td>\n",
       "    </tr>\n",
       "    <tr>\n",
       "      <th>4</th>\n",
       "      <td>13</td>\n",
       "      <td>52</td>\n",
       "      <td>44</td>\n",
       "      <td>0.90</td>\n",
       "      <td>91</td>\n",
       "      <td>127</td>\n",
       "      <td>2020-01-11 17:07:24</td>\n",
       "    </tr>\n",
       "  </tbody>\n",
       "</table>\n",
       "</div>"
      ],
      "text/plain": [
       "   temp  hum  co   no2  pm2_5  pm10                date\n",
       "0    13   52  44  0.88     91   127 2020-01-11 17:07:49\n",
       "1    13   52  44  0.88     91   127 2020-01-11 17:07:46\n",
       "2    13   52  44  0.88     91   127 2020-01-11 17:07:39\n",
       "3    13   52  44  0.90     91   127 2020-01-11 17:07:30\n",
       "4    13   52  44  0.90     91   127 2020-01-11 17:07:24"
      ]
     },
     "execution_count": 3,
     "metadata": {},
     "output_type": "execute_result"
    }
   ],
   "source": [
    "df.head()"
   ]
  },
  {
   "cell_type": "code",
   "execution_count": 4,
   "metadata": {},
   "outputs": [
    {
     "name": "stdout",
     "output_type": "stream",
     "text": [
      "<class 'pandas.core.frame.DataFrame'>\n",
      "RangeIndex: 1121348 entries, 0 to 1121347\n",
      "Data columns (total 7 columns):\n",
      " #   Column  Non-Null Count    Dtype         \n",
      "---  ------  --------------    -----         \n",
      " 0   temp    1121348 non-null  int64         \n",
      " 1   hum     1121348 non-null  int64         \n",
      " 2   co      1121348 non-null  int64         \n",
      " 3   no2     1121348 non-null  float64       \n",
      " 4   pm2_5   1121348 non-null  int64         \n",
      " 5   pm10    1121348 non-null  int64         \n",
      " 6   date    1121348 non-null  datetime64[ns]\n",
      "dtypes: datetime64[ns](1), float64(1), int64(5)\n",
      "memory usage: 59.9 MB\n"
     ]
    }
   ],
   "source": [
    "df.info()"
   ]
  },
  {
   "cell_type": "code",
   "execution_count": 5,
   "metadata": {},
   "outputs": [],
   "source": [
    "df = df[(df['co'] > 0) & (df['no2'] > 0) & (df['pm2_5'] > 0) & (df['pm10'] > 0)]"
   ]
  },
  {
   "cell_type": "code",
   "execution_count": 6,
   "metadata": {},
   "outputs": [
    {
     "data": {
      "text/html": [
       "<div>\n",
       "<style scoped>\n",
       "    .dataframe tbody tr th:only-of-type {\n",
       "        vertical-align: middle;\n",
       "    }\n",
       "\n",
       "    .dataframe tbody tr th {\n",
       "        vertical-align: top;\n",
       "    }\n",
       "\n",
       "    .dataframe thead th {\n",
       "        text-align: right;\n",
       "    }\n",
       "</style>\n",
       "<table border=\"1\" class=\"dataframe\">\n",
       "  <thead>\n",
       "    <tr style=\"text-align: right;\">\n",
       "      <th></th>\n",
       "      <th>TEMP</th>\n",
       "      <th>HUM</th>\n",
       "      <th>CO</th>\n",
       "      <th>NO2</th>\n",
       "      <th>PM2.5</th>\n",
       "      <th>PM10</th>\n",
       "    </tr>\n",
       "    <tr>\n",
       "      <th>date</th>\n",
       "      <th></th>\n",
       "      <th></th>\n",
       "      <th></th>\n",
       "      <th></th>\n",
       "      <th></th>\n",
       "      <th></th>\n",
       "    </tr>\n",
       "  </thead>\n",
       "  <tbody>\n",
       "    <tr>\n",
       "      <th>2019-09-13 16:00:00</th>\n",
       "      <td>17.69</td>\n",
       "      <td>61.16</td>\n",
       "      <td>6.32</td>\n",
       "      <td>19.40</td>\n",
       "      <td>32.73</td>\n",
       "      <td>45.76</td>\n",
       "    </tr>\n",
       "    <tr>\n",
       "      <th>2019-09-13 17:00:00</th>\n",
       "      <td>16.80</td>\n",
       "      <td>67.48</td>\n",
       "      <td>6.43</td>\n",
       "      <td>19.40</td>\n",
       "      <td>38.32</td>\n",
       "      <td>53.31</td>\n",
       "    </tr>\n",
       "    <tr>\n",
       "      <th>2019-09-13 18:00:00</th>\n",
       "      <td>17.00</td>\n",
       "      <td>66.82</td>\n",
       "      <td>6.21</td>\n",
       "      <td>19.40</td>\n",
       "      <td>27.65</td>\n",
       "      <td>38.68</td>\n",
       "    </tr>\n",
       "    <tr>\n",
       "      <th>2019-09-13 19:00:00</th>\n",
       "      <td>16.40</td>\n",
       "      <td>63.55</td>\n",
       "      <td>5.78</td>\n",
       "      <td>19.39</td>\n",
       "      <td>22.28</td>\n",
       "      <td>31.30</td>\n",
       "    </tr>\n",
       "    <tr>\n",
       "      <th>2019-09-13 20:00:00</th>\n",
       "      <td>15.73</td>\n",
       "      <td>66.26</td>\n",
       "      <td>6.06</td>\n",
       "      <td>19.39</td>\n",
       "      <td>22.89</td>\n",
       "      <td>31.97</td>\n",
       "    </tr>\n",
       "    <tr>\n",
       "      <th>...</th>\n",
       "      <td>...</td>\n",
       "      <td>...</td>\n",
       "      <td>...</td>\n",
       "      <td>...</td>\n",
       "      <td>...</td>\n",
       "      <td>...</td>\n",
       "    </tr>\n",
       "    <tr>\n",
       "      <th>2020-01-11 13:00:00</th>\n",
       "      <td>16.18</td>\n",
       "      <td>44.28</td>\n",
       "      <td>44.00</td>\n",
       "      <td>1.32</td>\n",
       "      <td>78.92</td>\n",
       "      <td>109.69</td>\n",
       "    </tr>\n",
       "    <tr>\n",
       "      <th>2020-01-11 14:00:00</th>\n",
       "      <td>20.59</td>\n",
       "      <td>31.49</td>\n",
       "      <td>44.00</td>\n",
       "      <td>1.27</td>\n",
       "      <td>65.24</td>\n",
       "      <td>90.83</td>\n",
       "    </tr>\n",
       "    <tr>\n",
       "      <th>2020-01-11 15:00:00</th>\n",
       "      <td>19.94</td>\n",
       "      <td>31.55</td>\n",
       "      <td>44.00</td>\n",
       "      <td>1.20</td>\n",
       "      <td>54.23</td>\n",
       "      <td>75.30</td>\n",
       "    </tr>\n",
       "    <tr>\n",
       "      <th>2020-01-11 16:00:00</th>\n",
       "      <td>15.12</td>\n",
       "      <td>44.14</td>\n",
       "      <td>44.00</td>\n",
       "      <td>1.27</td>\n",
       "      <td>52.97</td>\n",
       "      <td>73.66</td>\n",
       "    </tr>\n",
       "    <tr>\n",
       "      <th>2020-01-11 17:00:00</th>\n",
       "      <td>13.61</td>\n",
       "      <td>48.00</td>\n",
       "      <td>44.00</td>\n",
       "      <td>1.13</td>\n",
       "      <td>77.85</td>\n",
       "      <td>108.38</td>\n",
       "    </tr>\n",
       "  </tbody>\n",
       "</table>\n",
       "<p>2882 rows × 6 columns</p>\n",
       "</div>"
      ],
      "text/plain": [
       "                      TEMP    HUM     CO    NO2  PM2.5    PM10\n",
       "date                                                          \n",
       "2019-09-13 16:00:00  17.69  61.16   6.32  19.40  32.73   45.76\n",
       "2019-09-13 17:00:00  16.80  67.48   6.43  19.40  38.32   53.31\n",
       "2019-09-13 18:00:00  17.00  66.82   6.21  19.40  27.65   38.68\n",
       "2019-09-13 19:00:00  16.40  63.55   5.78  19.39  22.28   31.30\n",
       "2019-09-13 20:00:00  15.73  66.26   6.06  19.39  22.89   31.97\n",
       "...                    ...    ...    ...    ...    ...     ...\n",
       "2020-01-11 13:00:00  16.18  44.28  44.00   1.32  78.92  109.69\n",
       "2020-01-11 14:00:00  20.59  31.49  44.00   1.27  65.24   90.83\n",
       "2020-01-11 15:00:00  19.94  31.55  44.00   1.20  54.23   75.30\n",
       "2020-01-11 16:00:00  15.12  44.14  44.00   1.27  52.97   73.66\n",
       "2020-01-11 17:00:00  13.61  48.00  44.00   1.13  77.85  108.38\n",
       "\n",
       "[2882 rows x 6 columns]"
      ]
     },
     "execution_count": 6,
     "metadata": {},
     "output_type": "execute_result"
    }
   ],
   "source": [
    "temp_one_hr = round(df.resample('60min',on='date').temp.mean(),2)\n",
    "hum_one_hr = round(df.resample('60min',on='date').hum.mean(),2)\n",
    "co_one_hr = round(df.resample('60min',on='date').co.mean(),2)\n",
    "no2_one_hr = round(df.resample('60min',on='date').no2.mean(),2)\n",
    "pm2_5_one_hr = round(df.resample('60min',on='date').pm2_5.mean(),2)\n",
    "pm10_one_hr = round(df.resample('60min',on='date').pm10.mean(),2)\n",
    "\n",
    "one_hr_sample = pd.DataFrame({\n",
    "    \"TEMP\":temp_one_hr,\n",
    "    \"HUM\":hum_one_hr,\n",
    "    \"CO\":co_one_hr,\n",
    "    \"NO2\":no2_one_hr,\n",
    "    \"PM2.5\":pm2_5_one_hr,\n",
    "    \"PM10\":pm10_one_hr\n",
    "})\n",
    "\n",
    "one_hr_sample"
   ]
  },
  {
   "cell_type": "code",
   "execution_count": 7,
   "metadata": {},
   "outputs": [],
   "source": [
    "pm = one_hr_sample[['PM2.5']].copy()"
   ]
  },
  {
   "cell_type": "code",
   "execution_count": 8,
   "metadata": {},
   "outputs": [
    {
     "data": {
      "text/html": [
       "<div>\n",
       "<style scoped>\n",
       "    .dataframe tbody tr th:only-of-type {\n",
       "        vertical-align: middle;\n",
       "    }\n",
       "\n",
       "    .dataframe tbody tr th {\n",
       "        vertical-align: top;\n",
       "    }\n",
       "\n",
       "    .dataframe thead th {\n",
       "        text-align: right;\n",
       "    }\n",
       "</style>\n",
       "<table border=\"1\" class=\"dataframe\">\n",
       "  <thead>\n",
       "    <tr style=\"text-align: right;\">\n",
       "      <th></th>\n",
       "      <th>PM2.5</th>\n",
       "    </tr>\n",
       "    <tr>\n",
       "      <th>date</th>\n",
       "      <th></th>\n",
       "    </tr>\n",
       "  </thead>\n",
       "  <tbody>\n",
       "    <tr>\n",
       "      <th>2019-09-13 16:00:00</th>\n",
       "      <td>32.73</td>\n",
       "    </tr>\n",
       "    <tr>\n",
       "      <th>2019-09-13 17:00:00</th>\n",
       "      <td>38.32</td>\n",
       "    </tr>\n",
       "    <tr>\n",
       "      <th>2019-09-13 18:00:00</th>\n",
       "      <td>27.65</td>\n",
       "    </tr>\n",
       "    <tr>\n",
       "      <th>2019-09-13 19:00:00</th>\n",
       "      <td>22.28</td>\n",
       "    </tr>\n",
       "    <tr>\n",
       "      <th>2019-09-13 20:00:00</th>\n",
       "      <td>22.89</td>\n",
       "    </tr>\n",
       "    <tr>\n",
       "      <th>...</th>\n",
       "      <td>...</td>\n",
       "    </tr>\n",
       "    <tr>\n",
       "      <th>2020-01-11 13:00:00</th>\n",
       "      <td>78.92</td>\n",
       "    </tr>\n",
       "    <tr>\n",
       "      <th>2020-01-11 14:00:00</th>\n",
       "      <td>65.24</td>\n",
       "    </tr>\n",
       "    <tr>\n",
       "      <th>2020-01-11 15:00:00</th>\n",
       "      <td>54.23</td>\n",
       "    </tr>\n",
       "    <tr>\n",
       "      <th>2020-01-11 16:00:00</th>\n",
       "      <td>52.97</td>\n",
       "    </tr>\n",
       "    <tr>\n",
       "      <th>2020-01-11 17:00:00</th>\n",
       "      <td>77.85</td>\n",
       "    </tr>\n",
       "  </tbody>\n",
       "</table>\n",
       "<p>2882 rows × 1 columns</p>\n",
       "</div>"
      ],
      "text/plain": [
       "                     PM2.5\n",
       "date                      \n",
       "2019-09-13 16:00:00  32.73\n",
       "2019-09-13 17:00:00  38.32\n",
       "2019-09-13 18:00:00  27.65\n",
       "2019-09-13 19:00:00  22.28\n",
       "2019-09-13 20:00:00  22.89\n",
       "...                    ...\n",
       "2020-01-11 13:00:00  78.92\n",
       "2020-01-11 14:00:00  65.24\n",
       "2020-01-11 15:00:00  54.23\n",
       "2020-01-11 16:00:00  52.97\n",
       "2020-01-11 17:00:00  77.85\n",
       "\n",
       "[2882 rows x 1 columns]"
      ]
     },
     "execution_count": 8,
     "metadata": {},
     "output_type": "execute_result"
    }
   ],
   "source": [
    "pm"
   ]
  },
  {
   "cell_type": "code",
   "execution_count": 9,
   "metadata": {},
   "outputs": [],
   "source": [
    "df = pm.copy()"
   ]
  },
  {
   "cell_type": "code",
   "execution_count": 10,
   "metadata": {},
   "outputs": [
    {
     "data": {
      "text/html": [
       "<div>\n",
       "<style scoped>\n",
       "    .dataframe tbody tr th:only-of-type {\n",
       "        vertical-align: middle;\n",
       "    }\n",
       "\n",
       "    .dataframe tbody tr th {\n",
       "        vertical-align: top;\n",
       "    }\n",
       "\n",
       "    .dataframe thead th {\n",
       "        text-align: right;\n",
       "    }\n",
       "</style>\n",
       "<table border=\"1\" class=\"dataframe\">\n",
       "  <thead>\n",
       "    <tr style=\"text-align: right;\">\n",
       "      <th></th>\n",
       "      <th>PM2.5</th>\n",
       "    </tr>\n",
       "    <tr>\n",
       "      <th>date</th>\n",
       "      <th></th>\n",
       "    </tr>\n",
       "  </thead>\n",
       "  <tbody>\n",
       "    <tr>\n",
       "      <th>2019-12-11 18:00:00</th>\n",
       "      <td>106.17</td>\n",
       "    </tr>\n",
       "    <tr>\n",
       "      <th>2019-12-11 19:00:00</th>\n",
       "      <td>104.72</td>\n",
       "    </tr>\n",
       "    <tr>\n",
       "      <th>2019-12-11 20:00:00</th>\n",
       "      <td>134.18</td>\n",
       "    </tr>\n",
       "    <tr>\n",
       "      <th>2019-12-11 21:00:00</th>\n",
       "      <td>153.91</td>\n",
       "    </tr>\n",
       "    <tr>\n",
       "      <th>2019-12-11 22:00:00</th>\n",
       "      <td>158.84</td>\n",
       "    </tr>\n",
       "    <tr>\n",
       "      <th>...</th>\n",
       "      <td>...</td>\n",
       "    </tr>\n",
       "    <tr>\n",
       "      <th>2020-01-11 13:00:00</th>\n",
       "      <td>78.92</td>\n",
       "    </tr>\n",
       "    <tr>\n",
       "      <th>2020-01-11 14:00:00</th>\n",
       "      <td>65.24</td>\n",
       "    </tr>\n",
       "    <tr>\n",
       "      <th>2020-01-11 15:00:00</th>\n",
       "      <td>54.23</td>\n",
       "    </tr>\n",
       "    <tr>\n",
       "      <th>2020-01-11 16:00:00</th>\n",
       "      <td>52.97</td>\n",
       "    </tr>\n",
       "    <tr>\n",
       "      <th>2020-01-11 17:00:00</th>\n",
       "      <td>77.85</td>\n",
       "    </tr>\n",
       "  </tbody>\n",
       "</table>\n",
       "<p>744 rows × 1 columns</p>\n",
       "</div>"
      ],
      "text/plain": [
       "                      PM2.5\n",
       "date                       \n",
       "2019-12-11 18:00:00  106.17\n",
       "2019-12-11 19:00:00  104.72\n",
       "2019-12-11 20:00:00  134.18\n",
       "2019-12-11 21:00:00  153.91\n",
       "2019-12-11 22:00:00  158.84\n",
       "...                     ...\n",
       "2020-01-11 13:00:00   78.92\n",
       "2020-01-11 14:00:00   65.24\n",
       "2020-01-11 15:00:00   54.23\n",
       "2020-01-11 16:00:00   52.97\n",
       "2020-01-11 17:00:00   77.85\n",
       "\n",
       "[744 rows x 1 columns]"
      ]
     },
     "execution_count": 10,
     "metadata": {},
     "output_type": "execute_result"
    }
   ],
   "source": [
    "df = df[-744:]\n",
    "df"
   ]
  },
  {
   "cell_type": "code",
   "execution_count": 11,
   "metadata": {},
   "outputs": [
    {
     "data": {
      "text/plain": [
       "PM2.5    289\n",
       "dtype: int64"
      ]
     },
     "execution_count": 11,
     "metadata": {},
     "output_type": "execute_result"
    }
   ],
   "source": [
    "df.isna().sum()"
   ]
  },
  {
   "cell_type": "code",
   "execution_count": 12,
   "metadata": {},
   "outputs": [],
   "source": [
    "df = df.interpolate(method ='linear', limit_direction='both')"
   ]
  },
  {
   "cell_type": "code",
   "execution_count": 13,
   "metadata": {},
   "outputs": [
    {
     "data": {
      "text/plain": [
       "<AxesSubplot:xlabel='date'>"
      ]
     },
     "execution_count": 13,
     "metadata": {},
     "output_type": "execute_result"
    },
    {
     "data": {
      "image/png": "[encoded data removed]",
      "text/plain": [
       "<Figure size 432x288 with 1 Axes>"
      ]
     },
     "metadata": {
      "needs_background": "light"
     },
     "output_type": "display_data"
    }
   ],
   "source": [
    "df.plot()"
   ]
  },
  {
   "cell_type": "code",
   "execution_count": 14,
   "metadata": {},
   "outputs": [
    {
     "data": {
      "image/png": "[encoded data removed]",
      "text/plain": [
       "<Figure size 432x288 with 4 Axes>"
      ]
     },
     "execution_count": 14,
     "metadata": {},
     "output_type": "execute_result"
    },
    {
     "data": {
      "image/png": "[encoded data removed]",
      "text/plain": [
       "<Figure size 432x288 with 4 Axes>"
      ]
     },
     "metadata": {
      "needs_background": "light"
     },
     "output_type": "display_data"
    }
   ],
   "source": [
    "results = seasonal_decompose(df['PM2.5'], freq=24)\n",
    "results.plot()"
   ]
  },
  {
   "cell_type": "code",
   "execution_count": 15,
   "metadata": {},
   "outputs": [
    {
     "data": {
      "text/plain": [
       "744"
      ]
     },
     "execution_count": 15,
     "metadata": {},
     "output_type": "execute_result"
    }
   ],
   "source": [
    "len(df)"
   ]
  },
  {
   "cell_type": "code",
   "execution_count": 16,
   "metadata": {},
   "outputs": [],
   "source": [
    "train = df.iloc[:720]\n",
    "test = df.iloc[720:]\n",
    "\n",
    "scaler = MinMaxScaler()"
   ]
  },
  {
   "cell_type": "code",
   "execution_count": 17,
   "metadata": {},
   "outputs": [
    {
     "data": {
      "text/plain": [
       "(                      PM2.5\n",
       " date                       \n",
       " 2019-12-11 18:00:00  106.17\n",
       " 2019-12-11 19:00:00  104.72\n",
       " 2019-12-11 20:00:00  134.18\n",
       " 2019-12-11 21:00:00  153.91\n",
       " 2019-12-11 22:00:00  158.84,\n",
       "                      PM2.5\n",
       " date                      \n",
       " 2020-01-11 13:00:00  78.92\n",
       " 2020-01-11 14:00:00  65.24\n",
       " 2020-01-11 15:00:00  54.23\n",
       " 2020-01-11 16:00:00  52.97\n",
       " 2020-01-11 17:00:00  77.85)"
      ]
     },
     "execution_count": 17,
     "metadata": {},
     "output_type": "execute_result"
    }
   ],
   "source": [
    "df.head(), df.tail()"
   ]
  },
  {
   "cell_type": "code",
   "execution_count": 18,
   "metadata": {},
   "outputs": [
    {
     "data": {
      "text/plain": [
       "array([[0.20019436],\n",
       "       [0.19516174],\n",
       "       [0.2974108 ],\n",
       "       [0.36588921],\n",
       "       [0.38300014],\n",
       "       [0.34874358],\n",
       "       [0.35710815],\n",
       "       [0.36668749],\n",
       "       [0.37397612],\n",
       "       [0.4123629 ]])"
      ]
     },
     "execution_count": 18,
     "metadata": {},
     "output_type": "execute_result"
    }
   ],
   "source": [
    "scaler.fit(train)\n",
    "scaled_train = scaler.transform(train)\n",
    "scaled_test = scaler.transform(test)\n",
    "\n",
    "scaled_train[:10]"
   ]
  },
  {
   "cell_type": "markdown",
   "metadata": {},
   "source": [
    "# Recursive Strategy"
   ]
  },
  {
   "cell_type": "code",
   "execution_count": 19,
   "metadata": {},
   "outputs": [
    {
     "data": {
      "text/plain": [
       "(array([[[0.20019436],\n",
       "         [0.19516174],\n",
       "         [0.2974108 ],\n",
       "         [0.36588921],\n",
       "         [0.38300014],\n",
       "         [0.34874358],\n",
       "         [0.35710815],\n",
       "         [0.36668749],\n",
       "         [0.37397612],\n",
       "         [0.4123629 ],\n",
       "         [0.42478828],\n",
       "         [0.41864501],\n",
       "         [0.42051923],\n",
       "         [0.43860197],\n",
       "         [0.40097876],\n",
       "         [0.35901708],\n",
       "         [0.28522838],\n",
       "         [0.19248924],\n",
       "         [0.11824934],\n",
       "         [0.13723449],\n",
       "         [0.12765514],\n",
       "         [0.12480911],\n",
       "         [0.13539497],\n",
       "         [0.1610093 ]]]),\n",
       " array([[0.24378731]]))"
      ]
     },
     "execution_count": 19,
     "metadata": {},
     "output_type": "execute_result"
    }
   ],
   "source": [
    "n_input = 24\n",
    "n_features = 1\n",
    "generator = TimeseriesGenerator(scaled_train, scaled_train,length=n_input,batch_size=1)\n",
    "\n",
    "generator[0]"
   ]
  },
  {
   "cell_type": "code",
   "execution_count": 20,
   "metadata": {},
   "outputs": [
    {
     "name": "stdout",
     "output_type": "stream",
     "text": [
      "Model: \"sequential\"\n",
      "_________________________________________________________________\n",
      "Layer (type)                 Output Shape              Param #   \n",
      "=================================================================\n",
      "lstm (LSTM)                  (None, 200)               161600    \n",
      "_________________________________________________________________\n",
      "dense (Dense)                (None, 1)                 201       \n",
      "=================================================================\n",
      "Total params: 161,801\n",
      "Trainable params: 161,801\n",
      "Non-trainable params: 0\n",
      "_________________________________________________________________\n"
     ]
    }
   ],
   "source": [
    "model = Sequential()\n",
    "model.add(LSTM(200, activation='relu', input_shape=(n_input, n_features)))\n",
    "model.add(Dense(1))\n",
    "model.compile(optimizer='adam', loss='mse')\n",
    "\n",
    "model.summary()"
   ]
  },
  {
   "cell_type": "code",
   "execution_count": 21,
   "metadata": {},
   "outputs": [
    {
     "name": "stdout",
     "output_type": "stream",
     "text": [
      "Epoch 1/10\n",
      "696/696 [==============================] - 128s 27ms/step - loss: 0.0241\n",
      "Epoch 2/10\n",
      "696/696 [==============================] - 10s 15ms/step - loss: 0.0098\n",
      "Epoch 3/10\n",
      "696/696 [==============================] - 11s 16ms/step - loss: 0.0055\n",
      "Epoch 4/10\n",
      "696/696 [==============================] - 12s 18ms/step - loss: 0.0049\n",
      "Epoch 5/10\n",
      "696/696 [==============================] - 11s 15ms/step - loss: 0.0049\n",
      "Epoch 6/10\n",
      "696/696 [==============================] - 10s 15ms/step - loss: 0.0040\n",
      "Epoch 7/10\n",
      "696/696 [==============================] - 12s 17ms/step - loss: 0.0034\n",
      "Epoch 8/10\n",
      "696/696 [==============================] - 11s 15ms/step - loss: 0.0040\n",
      "Epoch 9/10\n",
      "696/696 [==============================] - 10s 15ms/step - loss: 0.0048\n",
      "Epoch 10/10\n",
      "696/696 [==============================] - 12s 18ms/step - loss: 0.0027\n"
     ]
    },
    {
     "data": {
      "text/plain": [
       "<keras.callbacks.History at 0x1b0d3678790>"
      ]
     },
     "execution_count": 21,
     "metadata": {},
     "output_type": "execute_result"
    }
   ],
   "source": [
    "model.fit(generator, epochs=10, verbose=1)"
   ]
  },
  {
   "cell_type": "code",
   "execution_count": 22,
   "metadata": {},
   "outputs": [
    {
     "data": {
      "text/plain": [
       "[<matplotlib.lines.Line2D at 0x1b0d48a1220>]"
      ]
     },
     "execution_count": 22,
     "metadata": {},
     "output_type": "execute_result"
    },
    {
     "data": {
      "image/png": "[encoded data removed]",
      "text/plain": [
       "<Figure size 432x288 with 1 Axes>"
      ]
     },
     "metadata": {
      "needs_background": "light"
     },
     "output_type": "display_data"
    }
   ],
   "source": [
    "loss_per_epoch = model.history.history['loss']\n",
    "plt.plot(range(len(loss_per_epoch)), loss_per_epoch)"
   ]
  },
  {
   "cell_type": "code",
   "execution_count": 23,
   "metadata": {},
   "outputs": [
    {
     "data": {
      "text/plain": [
       "array([[0.13421299]], dtype=float32)"
      ]
     },
     "execution_count": 23,
     "metadata": {},
     "output_type": "execute_result"
    }
   ],
   "source": [
    "last_train_batch = scaled_train[-n_input:]\n",
    "\n",
    "last_train_batch = last_train_batch.reshape((1,n_input, n_features))\n",
    "\n",
    "model.predict(last_train_batch)"
   ]
  },
  {
   "cell_type": "code",
   "execution_count": 24,
   "metadata": {},
   "outputs": [
    {
     "data": {
      "text/plain": [
       "(array([0.26124531]), array([0.51159239]))"
      ]
     },
     "execution_count": 24,
     "metadata": {},
     "output_type": "execute_result"
    }
   ],
   "source": [
    "scaled_test[0], scaled_test[1]"
   ]
  },
  {
   "cell_type": "code",
   "execution_count": 25,
   "metadata": {},
   "outputs": [
    {
     "data": {
      "text/plain": [
       "[array([0.13421299], dtype=float32),\n",
       " array([0.16196424], dtype=float32),\n",
       " array([0.18495978], dtype=float32),\n",
       " array([0.20359842], dtype=float32),\n",
       " array([0.21826765], dtype=float32),\n",
       " array([0.22949712], dtype=float32),\n",
       " array([0.23793909], dtype=float32),\n",
       " array([0.24425894], dtype=float32),\n",
       " array([0.24878258], dtype=float32),\n",
       " array([0.25199428], dtype=float32),\n",
       " array([0.25434762], dtype=float32),\n",
       " array([0.25610295], dtype=float32),\n",
       " array([0.25745162], dtype=float32),\n",
       " array([0.2585274], dtype=float32),\n",
       " array([0.25941646], dtype=float32),\n",
       " array([0.26015347], dtype=float32),\n",
       " array([0.26078612], dtype=float32),\n",
       " array([0.26133868], dtype=float32),\n",
       " array([0.26183042], dtype=float32),\n",
       " array([0.26227006], dtype=float32),\n",
       " array([0.2626695], dtype=float32),\n",
       " array([0.26303428], dtype=float32),\n",
       " array([0.26336604], dtype=float32),\n",
       " array([0.26368862], dtype=float32)]"
      ]
     },
     "execution_count": 25,
     "metadata": {},
     "output_type": "execute_result"
    }
   ],
   "source": [
    "test_predictions = []\n",
    "\n",
    "first_eval_batch = scaled_train[-n_input:]\n",
    "current_batch = first_eval_batch.reshape((1, n_input, n_features))\n",
    "\n",
    "for i in range(len(test)):\n",
    "    current_pred = model.predict(current_batch)[0]\n",
    "    \n",
    "    test_predictions.append(current_pred)\n",
    "    \n",
    "    current_batch = np.append(current_batch[:,1:,:],[[current_pred]], axis=1)\n",
    "    \n",
    "test_predictions"
   ]
  },
  {
   "cell_type": "code",
   "execution_count": 26,
   "metadata": {},
   "outputs": [
    {
     "data": {
      "text/html": [
       "<div>\n",
       "<style scoped>\n",
       "    .dataframe tbody tr th:only-of-type {\n",
       "        vertical-align: middle;\n",
       "    }\n",
       "\n",
       "    .dataframe tbody tr th {\n",
       "        vertical-align: top;\n",
       "    }\n",
       "\n",
       "    .dataframe thead th {\n",
       "        text-align: right;\n",
       "    }\n",
       "</style>\n",
       "<table border=\"1\" class=\"dataframe\">\n",
       "  <thead>\n",
       "    <tr style=\"text-align: right;\">\n",
       "      <th></th>\n",
       "      <th>PM2.5</th>\n",
       "    </tr>\n",
       "    <tr>\n",
       "      <th>date</th>\n",
       "      <th></th>\n",
       "    </tr>\n",
       "  </thead>\n",
       "  <tbody>\n",
       "    <tr>\n",
       "      <th>2020-01-10 18:00:00</th>\n",
       "      <td>123.76</td>\n",
       "    </tr>\n",
       "    <tr>\n",
       "      <th>2020-01-10 19:00:00</th>\n",
       "      <td>195.89</td>\n",
       "    </tr>\n",
       "    <tr>\n",
       "      <th>2020-01-10 20:00:00</th>\n",
       "      <td>214.24</td>\n",
       "    </tr>\n",
       "    <tr>\n",
       "      <th>2020-01-10 21:00:00</th>\n",
       "      <td>141.64</td>\n",
       "    </tr>\n",
       "    <tr>\n",
       "      <th>2020-01-10 22:00:00</th>\n",
       "      <td>91.89</td>\n",
       "    </tr>\n",
       "  </tbody>\n",
       "</table>\n",
       "</div>"
      ],
      "text/plain": [
       "                      PM2.5\n",
       "date                       \n",
       "2020-01-10 18:00:00  123.76\n",
       "2020-01-10 19:00:00  195.89\n",
       "2020-01-10 20:00:00  214.24\n",
       "2020-01-10 21:00:00  141.64\n",
       "2020-01-10 22:00:00   91.89"
      ]
     },
     "execution_count": 26,
     "metadata": {},
     "output_type": "execute_result"
    }
   ],
   "source": [
    "test.head()"
   ]
  },
  {
   "cell_type": "code",
   "execution_count": 27,
   "metadata": {},
   "outputs": [],
   "source": [
    "true_predictions = scaler.inverse_transform(test_predictions)\n",
    "\n",
    "test['recursive_predict'] = true_predictions"
   ]
  },
  {
   "cell_type": "code",
   "execution_count": 28,
   "metadata": {},
   "outputs": [
    {
     "data": {
      "text/plain": [
       "<AxesSubplot:xlabel='date'>"
      ]
     },
     "execution_count": 28,
     "metadata": {},
     "output_type": "execute_result"
    },
    {
     "data": {
      "image/png": "[encoded data removed]",
      "text/plain": [
       "<Figure size 432x288 with 1 Axes>"
      ]
     },
     "metadata": {
      "needs_background": "light"
     },
     "output_type": "display_data"
    }
   ],
   "source": [
    "test.plot()"
   ]
  },
  {
   "cell_type": "code",
   "execution_count": 29,
   "metadata": {},
   "outputs": [
    {
     "name": "stdout",
     "output_type": "stream",
     "text": [
      "48.61768208706246\n"
     ]
    }
   ],
   "source": [
    "rmse = sqrt(mean_squared_error(test['PM2.5'], test['recursive_predict']))\n",
    "print(rmse)"
   ]
  },
  {
   "cell_type": "code",
   "execution_count": 30,
   "metadata": {},
   "outputs": [
    {
     "data": {
      "text/html": [
       "<div>\n",
       "<style scoped>\n",
       "    .dataframe tbody tr th:only-of-type {\n",
       "        vertical-align: middle;\n",
       "    }\n",
       "\n",
       "    .dataframe tbody tr th {\n",
       "        vertical-align: top;\n",
       "    }\n",
       "\n",
       "    .dataframe thead th {\n",
       "        text-align: right;\n",
       "    }\n",
       "</style>\n",
       "<table border=\"1\" class=\"dataframe\">\n",
       "  <thead>\n",
       "    <tr style=\"text-align: right;\">\n",
       "      <th></th>\n",
       "      <th>PM2.5</th>\n",
       "      <th>recursive_predict</th>\n",
       "    </tr>\n",
       "    <tr>\n",
       "      <th>date</th>\n",
       "      <th></th>\n",
       "      <th></th>\n",
       "    </tr>\n",
       "  </thead>\n",
       "  <tbody>\n",
       "    <tr>\n",
       "      <th>2020-01-10 18:00:00</th>\n",
       "      <td>123.76</td>\n",
       "      <td>87.159445</td>\n",
       "    </tr>\n",
       "    <tr>\n",
       "      <th>2020-01-10 19:00:00</th>\n",
       "      <td>195.89</td>\n",
       "      <td>95.155136</td>\n",
       "    </tr>\n",
       "    <tr>\n",
       "      <th>2020-01-10 20:00:00</th>\n",
       "      <td>214.24</td>\n",
       "      <td>101.780613</td>\n",
       "    </tr>\n",
       "    <tr>\n",
       "      <th>2020-01-10 21:00:00</th>\n",
       "      <td>141.64</td>\n",
       "      <td>107.150778</td>\n",
       "    </tr>\n",
       "    <tr>\n",
       "      <th>2020-01-10 22:00:00</th>\n",
       "      <td>91.89</td>\n",
       "      <td>111.377275</td>\n",
       "    </tr>\n",
       "    <tr>\n",
       "      <th>2020-01-10 23:00:00</th>\n",
       "      <td>87.37</td>\n",
       "      <td>114.612710</td>\n",
       "    </tr>\n",
       "    <tr>\n",
       "      <th>2020-01-11 00:00:00</th>\n",
       "      <td>83.57</td>\n",
       "      <td>117.045010</td>\n",
       "    </tr>\n",
       "    <tr>\n",
       "      <th>2020-01-11 01:00:00</th>\n",
       "      <td>84.33</td>\n",
       "      <td>118.865886</td>\n",
       "    </tr>\n",
       "    <tr>\n",
       "      <th>2020-01-11 02:00:00</th>\n",
       "      <td>90.69</td>\n",
       "      <td>120.169236</td>\n",
       "    </tr>\n",
       "    <tr>\n",
       "      <th>2020-01-11 03:00:00</th>\n",
       "      <td>108.71</td>\n",
       "      <td>121.094593</td>\n",
       "    </tr>\n",
       "    <tr>\n",
       "      <th>2020-01-11 04:00:00</th>\n",
       "      <td>125.15</td>\n",
       "      <td>121.772637</td>\n",
       "    </tr>\n",
       "    <tr>\n",
       "      <th>2020-01-11 05:00:00</th>\n",
       "      <td>144.42</td>\n",
       "      <td>122.278382</td>\n",
       "    </tr>\n",
       "    <tr>\n",
       "      <th>2020-01-11 06:00:00</th>\n",
       "      <td>140.14</td>\n",
       "      <td>122.666962</td>\n",
       "    </tr>\n",
       "    <tr>\n",
       "      <th>2020-01-11 07:00:00</th>\n",
       "      <td>163.75</td>\n",
       "      <td>122.976914</td>\n",
       "    </tr>\n",
       "    <tr>\n",
       "      <th>2020-01-11 08:00:00</th>\n",
       "      <td>148.61</td>\n",
       "      <td>123.233071</td>\n",
       "    </tr>\n",
       "    <tr>\n",
       "      <th>2020-01-11 09:00:00</th>\n",
       "      <td>96.82</td>\n",
       "      <td>123.445418</td>\n",
       "    </tr>\n",
       "    <tr>\n",
       "      <th>2020-01-11 10:00:00</th>\n",
       "      <td>88.51</td>\n",
       "      <td>123.627696</td>\n",
       "    </tr>\n",
       "    <tr>\n",
       "      <th>2020-01-11 11:00:00</th>\n",
       "      <td>82.18</td>\n",
       "      <td>123.786901</td>\n",
       "    </tr>\n",
       "    <tr>\n",
       "      <th>2020-01-11 12:00:00</th>\n",
       "      <td>74.20</td>\n",
       "      <td>123.928580</td>\n",
       "    </tr>\n",
       "    <tr>\n",
       "      <th>2020-01-11 13:00:00</th>\n",
       "      <td>78.92</td>\n",
       "      <td>124.055251</td>\n",
       "    </tr>\n",
       "    <tr>\n",
       "      <th>2020-01-11 14:00:00</th>\n",
       "      <td>65.24</td>\n",
       "      <td>124.170337</td>\n",
       "    </tr>\n",
       "    <tr>\n",
       "      <th>2020-01-11 15:00:00</th>\n",
       "      <td>54.23</td>\n",
       "      <td>124.275438</td>\n",
       "    </tr>\n",
       "    <tr>\n",
       "      <th>2020-01-11 16:00:00</th>\n",
       "      <td>52.97</td>\n",
       "      <td>124.371024</td>\n",
       "    </tr>\n",
       "    <tr>\n",
       "      <th>2020-01-11 17:00:00</th>\n",
       "      <td>77.85</td>\n",
       "      <td>124.463966</td>\n",
       "    </tr>\n",
       "  </tbody>\n",
       "</table>\n",
       "</div>"
      ],
      "text/plain": [
       "                      PM2.5  recursive_predict\n",
       "date                                          \n",
       "2020-01-10 18:00:00  123.76          87.159445\n",
       "2020-01-10 19:00:00  195.89          95.155136\n",
       "2020-01-10 20:00:00  214.24         101.780613\n",
       "2020-01-10 21:00:00  141.64         107.150778\n",
       "2020-01-10 22:00:00   91.89         111.377275\n",
       "2020-01-10 23:00:00   87.37         114.612710\n",
       "2020-01-11 00:00:00   83.57         117.045010\n",
       "2020-01-11 01:00:00   84.33         118.865886\n",
       "2020-01-11 02:00:00   90.69         120.169236\n",
       "2020-01-11 03:00:00  108.71         121.094593\n",
       "2020-01-11 04:00:00  125.15         121.772637\n",
       "2020-01-11 05:00:00  144.42         122.278382\n",
       "2020-01-11 06:00:00  140.14         122.666962\n",
       "2020-01-11 07:00:00  163.75         122.976914\n",
       "2020-01-11 08:00:00  148.61         123.233071\n",
       "2020-01-11 09:00:00   96.82         123.445418\n",
       "2020-01-11 10:00:00   88.51         123.627696\n",
       "2020-01-11 11:00:00   82.18         123.786901\n",
       "2020-01-11 12:00:00   74.20         123.928580\n",
       "2020-01-11 13:00:00   78.92         124.055251\n",
       "2020-01-11 14:00:00   65.24         124.170337\n",
       "2020-01-11 15:00:00   54.23         124.275438\n",
       "2020-01-11 16:00:00   52.97         124.371024\n",
       "2020-01-11 17:00:00   77.85         124.463966"
      ]
     },
     "execution_count": 30,
     "metadata": {},
     "output_type": "execute_result"
    }
   ],
   "source": [
    "test"
   ]
  },
  {
   "cell_type": "markdown",
   "metadata": {},
   "source": [
    "# Direct Startegy"
   ]
  },
  {
   "cell_type": "code",
   "execution_count": 31,
   "metadata": {},
   "outputs": [],
   "source": [
    "def generate_data(data, n_input, month):\n",
    "    X, y = [], []\n",
    "    for i in range(0,len(data)-(n_input+month)):\n",
    "            X.append(data[i:i+n_input])\n",
    "            y.append(data[i+n_input+(month-1)])\n",
    "    return np.array(X), np.array(y)"
   ]
  },
  {
   "cell_type": "code",
   "execution_count": 32,
   "metadata": {},
   "outputs": [],
   "source": [
    "def model_predict(m_no, train_data, n_input, n_features):\n",
    "    \n",
    "    model = Sequential()\n",
    "    model.add(LSTM(200, activation='relu', input_shape=(n_input, n_features)))\n",
    "    model.add(Dense(1))\n",
    "    model.compile(optimizer='adam', loss='mse')\n",
    "    \n",
    "    X, y = generate_data(train_data, n_input, m_no)\n",
    "    \n",
    "    #print(\"MODEL : \", m_no)\n",
    "    #print(X[0], y[0])\n",
    "    \n",
    "    model.fit(X, y, epochs=3, verbose=0)\n",
    "    \n",
    "    tX = train_data[-n_input:]\n",
    "    \n",
    "    tX = tX.reshape((1, n_input, n_features))\n",
    "    \n",
    "    res = model.predict(tX)\n",
    "    \n",
    "    return res[0]"
   ]
  },
  {
   "cell_type": "code",
   "execution_count": 33,
   "metadata": {},
   "outputs": [
    {
     "name": "stdout",
     "output_type": "stream",
     "text": [
      "WARNING:tensorflow:5 out of the last 29 calls to <function Model.make_predict_function.<locals>.predict_function at 0x000001B0E5DF1DC0> triggered tf.function retracing. Tracing is expensive and the excessive number of tracings could be due to (1) creating @tf.function repeatedly in a loop, (2) passing tensors with different shapes, (3) passing Python objects instead of tensors. For (1), please define your @tf.function outside of the loop. For (2), @tf.function has experimental_relax_shapes=True option that relaxes argument shapes that can avoid unnecessary retracing. For (3), please refer to https://www.tensorflow.org/guide/function#controlling_retracing and https://www.tensorflow.org/api_docs/python/tf/function for  more details.\n",
      "WARNING:tensorflow:6 out of the last 30 calls to <function Model.make_predict_function.<locals>.predict_function at 0x000001B0E11911F0> triggered tf.function retracing. Tracing is expensive and the excessive number of tracings could be due to (1) creating @tf.function repeatedly in a loop, (2) passing tensors with different shapes, (3) passing Python objects instead of tensors. For (1), please define your @tf.function outside of the loop. For (2), @tf.function has experimental_relax_shapes=True option that relaxes argument shapes that can avoid unnecessary retracing. For (3), please refer to https://www.tensorflow.org/guide/function#controlling_retracing and https://www.tensorflow.org/api_docs/python/tf/function for  more details.\n"
     ]
    },
    {
     "data": {
      "text/plain": [
       "[array([0.18197869], dtype=float32),\n",
       " array([0.1697245], dtype=float32),\n",
       " array([0.16731323], dtype=float32),\n",
       " array([0.18810941], dtype=float32),\n",
       " array([0.19145647], dtype=float32),\n",
       " array([0.19269995], dtype=float32),\n",
       " array([0.20470554], dtype=float32),\n",
       " array([0.19127917], dtype=float32),\n",
       " array([0.21407004], dtype=float32),\n",
       " array([0.20756488], dtype=float32),\n",
       " array([0.17577054], dtype=float32),\n",
       " array([0.24907935], dtype=float32),\n",
       " array([0.23075554], dtype=float32),\n",
       " array([0.19275157], dtype=float32),\n",
       " array([0.18620087], dtype=float32),\n",
       " array([0.20318139], dtype=float32),\n",
       " array([0.22888625], dtype=float32),\n",
       " array([0.22183251], dtype=float32),\n",
       " array([0.1870475], dtype=float32),\n",
       " array([0.21167956], dtype=float32),\n",
       " array([0.18092549], dtype=float32),\n",
       " array([0.2085982], dtype=float32),\n",
       " array([0.16328256], dtype=float32),\n",
       " array([0.18468149], dtype=float32)]"
      ]
     },
     "execution_count": 33,
     "metadata": {},
     "output_type": "execute_result"
    }
   ],
   "source": [
    "n_input = 24\n",
    "n_features = 1\n",
    "test_predictions = []\n",
    "\n",
    "for i in range(len(scaled_test)):\n",
    "    test_predictions.append(model_predict(i+1,scaled_train,n_input, n_features))\n",
    "    \n",
    "test_predictions"
   ]
  },
  {
   "cell_type": "code",
   "execution_count": 34,
   "metadata": {},
   "outputs": [],
   "source": [
    "true_predictions = scaler.inverse_transform(test_predictions)\n",
    "\n",
    "test['direct_predict'] = true_predictions"
   ]
  },
  {
   "cell_type": "code",
   "execution_count": 35,
   "metadata": {},
   "outputs": [
    {
     "data": {
      "text/plain": [
       "<AxesSubplot:xlabel='date'>"
      ]
     },
     "execution_count": 35,
     "metadata": {},
     "output_type": "execute_result"
    },
    {
     "data": {
      "image/png": "[encoded data removed]",
      "text/plain": [
       "<Figure size 432x288 with 1 Axes>"
      ]
     },
     "metadata": {
      "needs_background": "light"
     },
     "output_type": "display_data"
    }
   ],
   "source": [
    "test.plot()"
   ]
  },
  {
   "cell_type": "code",
   "execution_count": 36,
   "metadata": {},
   "outputs": [
    {
     "name": "stdout",
     "output_type": "stream",
     "text": [
      "43.263251649901285\n"
     ]
    }
   ],
   "source": [
    "rmse = sqrt(mean_squared_error(test['PM2.5'], test['direct_predict']))\n",
    "print(rmse)"
   ]
  },
  {
   "cell_type": "code",
   "execution_count": 37,
   "metadata": {},
   "outputs": [
    {
     "data": {
      "text/html": [
       "<div>\n",
       "<style scoped>\n",
       "    .dataframe tbody tr th:only-of-type {\n",
       "        vertical-align: middle;\n",
       "    }\n",
       "\n",
       "    .dataframe tbody tr th {\n",
       "        vertical-align: top;\n",
       "    }\n",
       "\n",
       "    .dataframe thead th {\n",
       "        text-align: right;\n",
       "    }\n",
       "</style>\n",
       "<table border=\"1\" class=\"dataframe\">\n",
       "  <thead>\n",
       "    <tr style=\"text-align: right;\">\n",
       "      <th></th>\n",
       "      <th>PM2.5</th>\n",
       "      <th>recursive_predict</th>\n",
       "      <th>direct_predict</th>\n",
       "    </tr>\n",
       "    <tr>\n",
       "      <th>date</th>\n",
       "      <th></th>\n",
       "      <th></th>\n",
       "      <th></th>\n",
       "    </tr>\n",
       "  </thead>\n",
       "  <tbody>\n",
       "    <tr>\n",
       "      <th>2020-01-10 18:00:00</th>\n",
       "      <td>123.76</td>\n",
       "      <td>87.159445</td>\n",
       "      <td>100.921699</td>\n",
       "    </tr>\n",
       "    <tr>\n",
       "      <th>2020-01-10 19:00:00</th>\n",
       "      <td>195.89</td>\n",
       "      <td>95.155136</td>\n",
       "      <td>97.391021</td>\n",
       "    </tr>\n",
       "    <tr>\n",
       "      <th>2020-01-10 20:00:00</th>\n",
       "      <td>214.24</td>\n",
       "      <td>101.780613</td>\n",
       "      <td>96.696289</td>\n",
       "    </tr>\n",
       "    <tr>\n",
       "      <th>2020-01-10 21:00:00</th>\n",
       "      <td>141.64</td>\n",
       "      <td>107.150778</td>\n",
       "      <td>102.688084</td>\n",
       "    </tr>\n",
       "    <tr>\n",
       "      <th>2020-01-10 22:00:00</th>\n",
       "      <td>91.89</td>\n",
       "      <td>111.377275</td>\n",
       "      <td>103.652437</td>\n",
       "    </tr>\n",
       "    <tr>\n",
       "      <th>2020-01-10 23:00:00</th>\n",
       "      <td>87.37</td>\n",
       "      <td>114.612710</td>\n",
       "      <td>104.010711</td>\n",
       "    </tr>\n",
       "    <tr>\n",
       "      <th>2020-01-11 00:00:00</th>\n",
       "      <td>83.57</td>\n",
       "      <td>117.045010</td>\n",
       "      <td>107.469759</td>\n",
       "    </tr>\n",
       "    <tr>\n",
       "      <th>2020-01-11 01:00:00</th>\n",
       "      <td>84.33</td>\n",
       "      <td>118.865886</td>\n",
       "      <td>103.601355</td>\n",
       "    </tr>\n",
       "    <tr>\n",
       "      <th>2020-01-11 02:00:00</th>\n",
       "      <td>90.69</td>\n",
       "      <td>120.169236</td>\n",
       "      <td>110.167859</td>\n",
       "    </tr>\n",
       "    <tr>\n",
       "      <th>2020-01-11 03:00:00</th>\n",
       "      <td>108.71</td>\n",
       "      <td>121.094593</td>\n",
       "      <td>108.293592</td>\n",
       "    </tr>\n",
       "    <tr>\n",
       "      <th>2020-01-11 04:00:00</th>\n",
       "      <td>125.15</td>\n",
       "      <td>121.772637</td>\n",
       "      <td>99.133007</td>\n",
       "    </tr>\n",
       "    <tr>\n",
       "      <th>2020-01-11 05:00:00</th>\n",
       "      <td>144.42</td>\n",
       "      <td>122.278382</td>\n",
       "      <td>120.254741</td>\n",
       "    </tr>\n",
       "    <tr>\n",
       "      <th>2020-01-11 06:00:00</th>\n",
       "      <td>140.14</td>\n",
       "      <td>122.666962</td>\n",
       "      <td>114.975286</td>\n",
       "    </tr>\n",
       "    <tr>\n",
       "      <th>2020-01-11 07:00:00</th>\n",
       "      <td>163.75</td>\n",
       "      <td>122.976914</td>\n",
       "      <td>104.025583</td>\n",
       "    </tr>\n",
       "    <tr>\n",
       "      <th>2020-01-11 08:00:00</th>\n",
       "      <td>148.61</td>\n",
       "      <td>123.233071</td>\n",
       "      <td>102.138195</td>\n",
       "    </tr>\n",
       "    <tr>\n",
       "      <th>2020-01-11 09:00:00</th>\n",
       "      <td>96.82</td>\n",
       "      <td>123.445418</td>\n",
       "      <td>107.030621</td>\n",
       "    </tr>\n",
       "    <tr>\n",
       "      <th>2020-01-11 10:00:00</th>\n",
       "      <td>88.51</td>\n",
       "      <td>123.627696</td>\n",
       "      <td>114.436705</td>\n",
       "    </tr>\n",
       "    <tr>\n",
       "      <th>2020-01-11 11:00:00</th>\n",
       "      <td>82.18</td>\n",
       "      <td>123.786901</td>\n",
       "      <td>112.404384</td>\n",
       "    </tr>\n",
       "    <tr>\n",
       "      <th>2020-01-11 12:00:00</th>\n",
       "      <td>74.20</td>\n",
       "      <td>123.928580</td>\n",
       "      <td>102.382125</td>\n",
       "    </tr>\n",
       "    <tr>\n",
       "      <th>2020-01-11 13:00:00</th>\n",
       "      <td>78.92</td>\n",
       "      <td>124.055251</td>\n",
       "      <td>109.479116</td>\n",
       "    </tr>\n",
       "    <tr>\n",
       "      <th>2020-01-11 14:00:00</th>\n",
       "      <td>65.24</td>\n",
       "      <td>124.170337</td>\n",
       "      <td>100.618252</td>\n",
       "    </tr>\n",
       "    <tr>\n",
       "      <th>2020-01-11 15:00:00</th>\n",
       "      <td>54.23</td>\n",
       "      <td>124.275438</td>\n",
       "      <td>108.591312</td>\n",
       "    </tr>\n",
       "    <tr>\n",
       "      <th>2020-01-11 16:00:00</th>\n",
       "      <td>52.97</td>\n",
       "      <td>124.371024</td>\n",
       "      <td>95.534971</td>\n",
       "    </tr>\n",
       "    <tr>\n",
       "      <th>2020-01-11 17:00:00</th>\n",
       "      <td>77.85</td>\n",
       "      <td>124.463966</td>\n",
       "      <td>101.700431</td>\n",
       "    </tr>\n",
       "  </tbody>\n",
       "</table>\n",
       "</div>"
      ],
      "text/plain": [
       "                      PM2.5  recursive_predict  direct_predict\n",
       "date                                                          \n",
       "2020-01-10 18:00:00  123.76          87.159445      100.921699\n",
       "2020-01-10 19:00:00  195.89          95.155136       97.391021\n",
       "2020-01-10 20:00:00  214.24         101.780613       96.696289\n",
       "2020-01-10 21:00:00  141.64         107.150778      102.688084\n",
       "2020-01-10 22:00:00   91.89         111.377275      103.652437\n",
       "2020-01-10 23:00:00   87.37         114.612710      104.010711\n",
       "2020-01-11 00:00:00   83.57         117.045010      107.469759\n",
       "2020-01-11 01:00:00   84.33         118.865886      103.601355\n",
       "2020-01-11 02:00:00   90.69         120.169236      110.167859\n",
       "2020-01-11 03:00:00  108.71         121.094593      108.293592\n",
       "2020-01-11 04:00:00  125.15         121.772637       99.133007\n",
       "2020-01-11 05:00:00  144.42         122.278382      120.254741\n",
       "2020-01-11 06:00:00  140.14         122.666962      114.975286\n",
       "2020-01-11 07:00:00  163.75         122.976914      104.025583\n",
       "2020-01-11 08:00:00  148.61         123.233071      102.138195\n",
       "2020-01-11 09:00:00   96.82         123.445418      107.030621\n",
       "2020-01-11 10:00:00   88.51         123.627696      114.436705\n",
       "2020-01-11 11:00:00   82.18         123.786901      112.404384\n",
       "2020-01-11 12:00:00   74.20         123.928580      102.382125\n",
       "2020-01-11 13:00:00   78.92         124.055251      109.479116\n",
       "2020-01-11 14:00:00   65.24         124.170337      100.618252\n",
       "2020-01-11 15:00:00   54.23         124.275438      108.591312\n",
       "2020-01-11 16:00:00   52.97         124.371024       95.534971\n",
       "2020-01-11 17:00:00   77.85         124.463966      101.700431"
      ]
     },
     "execution_count": 37,
     "metadata": {},
     "output_type": "execute_result"
    }
   ],
   "source": [
    "test"
   ]
  },
  {
   "cell_type": "markdown",
   "metadata": {},
   "source": [
    "# Direct Recursive Startegy"
   ]
  },
  {
   "cell_type": "code",
   "execution_count": 38,
   "metadata": {},
   "outputs": [],
   "source": [
    "def generate_data(data, n_input, month):\n",
    "    X, y = [], []\n",
    "    for i in range(0,len(data)-(n_input+month)):\n",
    "            X.append(data[i:i+n_input+(month-1)])\n",
    "            y.append(data[i+n_input+(month-1)])\n",
    "    return np.array(X), np.array(y)"
   ]
  },
  {
   "cell_type": "code",
   "execution_count": 39,
   "metadata": {},
   "outputs": [],
   "source": [
    "def model_predict(m_no, train_data, n_input, n_features):\n",
    "    \n",
    "    model = Sequential()\n",
    "    model.add(LSTM(200, activation='relu', input_shape=(n_input+(m_no - 1), n_features)))\n",
    "    model.add(Dense(1))\n",
    "    model.compile(optimizer='adam', loss='mse')\n",
    "    \n",
    "    X, y = generate_data(train_data, n_input, m_no)\n",
    "    #print(y.dtype)\n",
    "    \n",
    "    #print(\"Model No.  - \", m_no)\n",
    "    #print(X[0], y[0])\n",
    "    #print(\"SHAPE XY : \", X.shape, y.shape)\n",
    "    \n",
    "    model.fit(X, y, epochs=3, verbose=0)\n",
    "    \n",
    "    tX = train_data[-n_input:]\n",
    "    tP = np.array(test_predictions)\n",
    "    \n",
    "    tX = np.concatenate((tX, tP), axis=None)\n",
    "    \n",
    "    #print(\"TYPE : \", type(tX), type(tP))\n",
    "    \n",
    "    #print(\"TX : \", tX)\n",
    "        \n",
    "    #print(\"SHAPE : \" , tX.shape)\n",
    "    \n",
    "    tX = tX.reshape((1, tX.shape[0], n_features))\n",
    "    \n",
    "    res = model.predict(tX)\n",
    "    \n",
    "    return res[0]"
   ]
  },
  {
   "cell_type": "code",
   "execution_count": 40,
   "metadata": {},
   "outputs": [
    {
     "data": {
      "text/plain": [
       "[array([0.14965446], dtype=float32),\n",
       " array([0.17262103], dtype=float32),\n",
       " array([0.18598668], dtype=float32),\n",
       " array([0.18043476], dtype=float32),\n",
       " array([0.17936772], dtype=float32),\n",
       " array([0.23576961], dtype=float32),\n",
       " array([0.20628537], dtype=float32),\n",
       " array([0.18407686], dtype=float32),\n",
       " array([0.20061287], dtype=float32),\n",
       " array([0.21108742], dtype=float32),\n",
       " array([0.22552978], dtype=float32),\n",
       " array([0.21817651], dtype=float32),\n",
       " array([0.18892027], dtype=float32),\n",
       " array([0.1993644], dtype=float32),\n",
       " array([0.19852284], dtype=float32),\n",
       " array([0.21230859], dtype=float32),\n",
       " array([0.20504583], dtype=float32),\n",
       " array([0.2162423], dtype=float32),\n",
       " array([0.20489417], dtype=float32),\n",
       " array([0.19067752], dtype=float32),\n",
       " array([0.1873977], dtype=float32),\n",
       " array([0.21766241], dtype=float32),\n",
       " array([0.20399742], dtype=float32),\n",
       " array([0.19722532], dtype=float32)]"
      ]
     },
     "execution_count": 40,
     "metadata": {},
     "output_type": "execute_result"
    }
   ],
   "source": [
    "n_input = 24\n",
    "n_features = 1\n",
    "test_predictions = []\n",
    "\n",
    "for i in range(len(scaled_test)):\n",
    "    pred = model_predict(i+1,scaled_train,n_input, n_features)\n",
    "    test_predictions.append(pred)\n",
    "    \n",
    "test_predictions"
   ]
  },
  {
   "cell_type": "code",
   "execution_count": 41,
   "metadata": {},
   "outputs": [],
   "source": [
    "true_predictions = scaler.inverse_transform(test_predictions)\n",
    "\n",
    "test['direct_recursive_predict'] = true_predictions"
   ]
  },
  {
   "cell_type": "code",
   "execution_count": 42,
   "metadata": {},
   "outputs": [
    {
     "data": {
      "text/plain": [
       "<AxesSubplot:xlabel='date'>"
      ]
     },
     "execution_count": 42,
     "metadata": {},
     "output_type": "execute_result"
    },
    {
     "data": {
      "image/png": "[encoded data removed]",
      "text/plain": [
       "<Figure size 432x288 with 1 Axes>"
      ]
     },
     "metadata": {
      "needs_background": "light"
     },
     "output_type": "display_data"
    }
   ],
   "source": [
    "test.plot()"
   ]
  },
  {
   "cell_type": "code",
   "execution_count": 43,
   "metadata": {},
   "outputs": [
    {
     "name": "stdout",
     "output_type": "stream",
     "text": [
      "43.820622047699956\n"
     ]
    }
   ],
   "source": [
    "rmse = sqrt(mean_squared_error(test['PM2.5'], test['direct_recursive_predict']))\n",
    "print(rmse)"
   ]
  },
  {
   "cell_type": "code",
   "execution_count": 44,
   "metadata": {},
   "outputs": [
    {
     "data": {
      "text/html": [
       "<div>\n",
       "<style scoped>\n",
       "    .dataframe tbody tr th:only-of-type {\n",
       "        vertical-align: middle;\n",
       "    }\n",
       "\n",
       "    .dataframe tbody tr th {\n",
       "        vertical-align: top;\n",
       "    }\n",
       "\n",
       "    .dataframe thead th {\n",
       "        text-align: right;\n",
       "    }\n",
       "</style>\n",
       "<table border=\"1\" class=\"dataframe\">\n",
       "  <thead>\n",
       "    <tr style=\"text-align: right;\">\n",
       "      <th></th>\n",
       "      <th>PM2.5</th>\n",
       "      <th>recursive_predict</th>\n",
       "      <th>direct_predict</th>\n",
       "      <th>direct_recursive_predict</th>\n",
       "    </tr>\n",
       "    <tr>\n",
       "      <th>date</th>\n",
       "      <th></th>\n",
       "      <th></th>\n",
       "      <th></th>\n",
       "      <th></th>\n",
       "    </tr>\n",
       "  </thead>\n",
       "  <tbody>\n",
       "    <tr>\n",
       "      <th>2020-01-10 18:00:00</th>\n",
       "      <td>123.76</td>\n",
       "      <td>87.159445</td>\n",
       "      <td>100.921699</td>\n",
       "      <td>91.608444</td>\n",
       "    </tr>\n",
       "    <tr>\n",
       "      <th>2020-01-10 19:00:00</th>\n",
       "      <td>195.89</td>\n",
       "      <td>95.155136</td>\n",
       "      <td>97.391021</td>\n",
       "      <td>98.225570</td>\n",
       "    </tr>\n",
       "    <tr>\n",
       "      <th>2020-01-10 20:00:00</th>\n",
       "      <td>214.24</td>\n",
       "      <td>101.780613</td>\n",
       "      <td>96.696289</td>\n",
       "      <td>102.076483</td>\n",
       "    </tr>\n",
       "    <tr>\n",
       "      <th>2020-01-10 21:00:00</th>\n",
       "      <td>141.64</td>\n",
       "      <td>107.150778</td>\n",
       "      <td>102.688084</td>\n",
       "      <td>100.476864</td>\n",
       "    </tr>\n",
       "    <tr>\n",
       "      <th>2020-01-10 22:00:00</th>\n",
       "      <td>91.89</td>\n",
       "      <td>111.377275</td>\n",
       "      <td>103.652437</td>\n",
       "      <td>100.169428</td>\n",
       "    </tr>\n",
       "    <tr>\n",
       "      <th>2020-01-10 23:00:00</th>\n",
       "      <td>87.37</td>\n",
       "      <td>114.612710</td>\n",
       "      <td>104.010711</td>\n",
       "      <td>116.419941</td>\n",
       "    </tr>\n",
       "    <tr>\n",
       "      <th>2020-01-11 00:00:00</th>\n",
       "      <td>83.57</td>\n",
       "      <td>117.045010</td>\n",
       "      <td>107.469759</td>\n",
       "      <td>107.924941</td>\n",
       "    </tr>\n",
       "    <tr>\n",
       "      <th>2020-01-11 01:00:00</th>\n",
       "      <td>84.33</td>\n",
       "      <td>118.865886</td>\n",
       "      <td>103.601355</td>\n",
       "      <td>101.526225</td>\n",
       "    </tr>\n",
       "    <tr>\n",
       "      <th>2020-01-11 02:00:00</th>\n",
       "      <td>90.69</td>\n",
       "      <td>120.169236</td>\n",
       "      <td>110.167859</td>\n",
       "      <td>106.290581</td>\n",
       "    </tr>\n",
       "    <tr>\n",
       "      <th>2020-01-11 03:00:00</th>\n",
       "      <td>108.71</td>\n",
       "      <td>121.094593</td>\n",
       "      <td>108.293592</td>\n",
       "      <td>109.308508</td>\n",
       "    </tr>\n",
       "    <tr>\n",
       "      <th>2020-01-11 04:00:00</th>\n",
       "      <td>125.15</td>\n",
       "      <td>121.772637</td>\n",
       "      <td>99.133007</td>\n",
       "      <td>113.469639</td>\n",
       "    </tr>\n",
       "    <tr>\n",
       "      <th>2020-01-11 05:00:00</th>\n",
       "      <td>144.42</td>\n",
       "      <td>122.278382</td>\n",
       "      <td>120.254741</td>\n",
       "      <td>111.351017</td>\n",
       "    </tr>\n",
       "    <tr>\n",
       "      <th>2020-01-11 06:00:00</th>\n",
       "      <td>140.14</td>\n",
       "      <td>122.666962</td>\n",
       "      <td>114.975286</td>\n",
       "      <td>102.921709</td>\n",
       "    </tr>\n",
       "    <tr>\n",
       "      <th>2020-01-11 07:00:00</th>\n",
       "      <td>163.75</td>\n",
       "      <td>122.976914</td>\n",
       "      <td>104.025583</td>\n",
       "      <td>105.930869</td>\n",
       "    </tr>\n",
       "    <tr>\n",
       "      <th>2020-01-11 08:00:00</th>\n",
       "      <td>148.61</td>\n",
       "      <td>123.233071</td>\n",
       "      <td>102.138195</td>\n",
       "      <td>105.688399</td>\n",
       "    </tr>\n",
       "    <tr>\n",
       "      <th>2020-01-11 09:00:00</th>\n",
       "      <td>96.82</td>\n",
       "      <td>123.445418</td>\n",
       "      <td>107.030621</td>\n",
       "      <td>109.660350</td>\n",
       "    </tr>\n",
       "    <tr>\n",
       "      <th>2020-01-11 10:00:00</th>\n",
       "      <td>88.51</td>\n",
       "      <td>123.627696</td>\n",
       "      <td>114.436705</td>\n",
       "      <td>107.567806</td>\n",
       "    </tr>\n",
       "    <tr>\n",
       "      <th>2020-01-11 11:00:00</th>\n",
       "      <td>82.18</td>\n",
       "      <td>123.786901</td>\n",
       "      <td>112.404384</td>\n",
       "      <td>110.793731</td>\n",
       "    </tr>\n",
       "    <tr>\n",
       "      <th>2020-01-11 12:00:00</th>\n",
       "      <td>74.20</td>\n",
       "      <td>123.928580</td>\n",
       "      <td>102.382125</td>\n",
       "      <td>107.524108</td>\n",
       "    </tr>\n",
       "    <tr>\n",
       "      <th>2020-01-11 13:00:00</th>\n",
       "      <td>78.92</td>\n",
       "      <td>124.055251</td>\n",
       "      <td>109.479116</td>\n",
       "      <td>103.428008</td>\n",
       "    </tr>\n",
       "    <tr>\n",
       "      <th>2020-01-11 14:00:00</th>\n",
       "      <td>65.24</td>\n",
       "      <td>124.170337</td>\n",
       "      <td>100.618252</td>\n",
       "      <td>102.483026</td>\n",
       "    </tr>\n",
       "    <tr>\n",
       "      <th>2020-01-11 15:00:00</th>\n",
       "      <td>54.23</td>\n",
       "      <td>124.275438</td>\n",
       "      <td>108.591312</td>\n",
       "      <td>111.202893</td>\n",
       "    </tr>\n",
       "    <tr>\n",
       "      <th>2020-01-11 16:00:00</th>\n",
       "      <td>52.97</td>\n",
       "      <td>124.371024</td>\n",
       "      <td>95.534971</td>\n",
       "      <td>107.265736</td>\n",
       "    </tr>\n",
       "    <tr>\n",
       "      <th>2020-01-11 17:00:00</th>\n",
       "      <td>77.85</td>\n",
       "      <td>124.463966</td>\n",
       "      <td>101.700431</td>\n",
       "      <td>105.314558</td>\n",
       "    </tr>\n",
       "  </tbody>\n",
       "</table>\n",
       "</div>"
      ],
      "text/plain": [
       "                      PM2.5  recursive_predict  direct_predict  \\\n",
       "date                                                             \n",
       "2020-01-10 18:00:00  123.76          87.159445      100.921699   \n",
       "2020-01-10 19:00:00  195.89          95.155136       97.391021   \n",
       "2020-01-10 20:00:00  214.24         101.780613       96.696289   \n",
       "2020-01-10 21:00:00  141.64         107.150778      102.688084   \n",
       "2020-01-10 22:00:00   91.89         111.377275      103.652437   \n",
       "2020-01-10 23:00:00   87.37         114.612710      104.010711   \n",
       "2020-01-11 00:00:00   83.57         117.045010      107.469759   \n",
       "2020-01-11 01:00:00   84.33         118.865886      103.601355   \n",
       "2020-01-11 02:00:00   90.69         120.169236      110.167859   \n",
       "2020-01-11 03:00:00  108.71         121.094593      108.293592   \n",
       "2020-01-11 04:00:00  125.15         121.772637       99.133007   \n",
       "2020-01-11 05:00:00  144.42         122.278382      120.254741   \n",
       "2020-01-11 06:00:00  140.14         122.666962      114.975286   \n",
       "2020-01-11 07:00:00  163.75         122.976914      104.025583   \n",
       "2020-01-11 08:00:00  148.61         123.233071      102.138195   \n",
       "2020-01-11 09:00:00   96.82         123.445418      107.030621   \n",
       "2020-01-11 10:00:00   88.51         123.627696      114.436705   \n",
       "2020-01-11 11:00:00   82.18         123.786901      112.404384   \n",
       "2020-01-11 12:00:00   74.20         123.928580      102.382125   \n",
       "2020-01-11 13:00:00   78.92         124.055251      109.479116   \n",
       "2020-01-11 14:00:00   65.24         124.170337      100.618252   \n",
       "2020-01-11 15:00:00   54.23         124.275438      108.591312   \n",
       "2020-01-11 16:00:00   52.97         124.371024       95.534971   \n",
       "2020-01-11 17:00:00   77.85         124.463966      101.700431   \n",
       "\n",
       "                     direct_recursive_predict  \n",
       "date                                           \n",
       "2020-01-10 18:00:00                 91.608444  \n",
       "2020-01-10 19:00:00                 98.225570  \n",
       "2020-01-10 20:00:00                102.076483  \n",
       "2020-01-10 21:00:00                100.476864  \n",
       "2020-01-10 22:00:00                100.169428  \n",
       "2020-01-10 23:00:00                116.419941  \n",
       "2020-01-11 00:00:00                107.924941  \n",
       "2020-01-11 01:00:00                101.526225  \n",
       "2020-01-11 02:00:00                106.290581  \n",
       "2020-01-11 03:00:00                109.308508  \n",
       "2020-01-11 04:00:00                113.469639  \n",
       "2020-01-11 05:00:00                111.351017  \n",
       "2020-01-11 06:00:00                102.921709  \n",
       "2020-01-11 07:00:00                105.930869  \n",
       "2020-01-11 08:00:00                105.688399  \n",
       "2020-01-11 09:00:00                109.660350  \n",
       "2020-01-11 10:00:00                107.567806  \n",
       "2020-01-11 11:00:00                110.793731  \n",
       "2020-01-11 12:00:00                107.524108  \n",
       "2020-01-11 13:00:00                103.428008  \n",
       "2020-01-11 14:00:00                102.483026  \n",
       "2020-01-11 15:00:00                111.202893  \n",
       "2020-01-11 16:00:00                107.265736  \n",
       "2020-01-11 17:00:00                105.314558  "
      ]
     },
     "execution_count": 44,
     "metadata": {},
     "output_type": "execute_result"
    }
   ],
   "source": [
    "test"
   ]
  },
  {
   "cell_type": "markdown",
   "metadata": {},
   "source": [
    "# MIMO"
   ]
  },
  {
   "cell_type": "code",
   "execution_count": 45,
   "metadata": {},
   "outputs": [],
   "source": [
    "def generate_data(data, n_input, n_output):\n",
    "    X, y = [], []\n",
    "    for i in range(0,len(data)-(n_input+n_output)):\n",
    "            X.append(data[i:(i+n_input)])\n",
    "            y.append(data[i+n_input: i+n_input+n_output])\n",
    "    return np.array(X), np.array(y)"
   ]
  },
  {
   "cell_type": "code",
   "execution_count": 46,
   "metadata": {},
   "outputs": [],
   "source": [
    "n_input = 24\n",
    "n_features = 1\n",
    "n_output = len(scaled_test)\n",
    "\n",
    "X, y = generate_data(scaled_train, n_input, n_output)"
   ]
  },
  {
   "cell_type": "code",
   "execution_count": 47,
   "metadata": {},
   "outputs": [],
   "source": [
    "model = Sequential()\n",
    "model.add(LSTM(200, activation='relu', input_shape=(n_input, n_features)))\n",
    "model.add(Dense(n_output))\n",
    "model.compile(optimizer='adam', loss='mse')"
   ]
  },
  {
   "cell_type": "code",
   "execution_count": 48,
   "metadata": {},
   "outputs": [
    {
     "data": {
      "text/plain": [
       "<keras.callbacks.History at 0x1b0e498c7f0>"
      ]
     },
     "execution_count": 48,
     "metadata": {},
     "output_type": "execute_result"
    }
   ],
   "source": [
    "model.fit(X, y, epochs=3, verbose=0)"
   ]
  },
  {
   "cell_type": "code",
   "execution_count": 49,
   "metadata": {},
   "outputs": [
    {
     "name": "stdout",
     "output_type": "stream",
     "text": [
      "Model: \"sequential_49\"\n",
      "_________________________________________________________________\n",
      "Layer (type)                 Output Shape              Param #   \n",
      "=================================================================\n",
      "lstm_49 (LSTM)               (None, 200)               161600    \n",
      "_________________________________________________________________\n",
      "dense_49 (Dense)             (None, 24)                4824      \n",
      "=================================================================\n",
      "Total params: 166,424\n",
      "Trainable params: 166,424\n",
      "Non-trainable params: 0\n",
      "_________________________________________________________________\n"
     ]
    }
   ],
   "source": [
    "model.summary()"
   ]
  },
  {
   "cell_type": "code",
   "execution_count": 50,
   "metadata": {},
   "outputs": [],
   "source": [
    "tX = scaled_train[-n_input:]\n",
    "tX = tX.reshape((1, tX.shape[0], n_features))\n",
    "\n",
    "res = model.predict(tX)\n",
    "\n",
    "res = res.reshape((res.shape[1],1))"
   ]
  },
  {
   "cell_type": "code",
   "execution_count": 51,
   "metadata": {},
   "outputs": [
    {
     "data": {
      "text/plain": [
       "(24, 1)"
      ]
     },
     "execution_count": 51,
     "metadata": {},
     "output_type": "execute_result"
    }
   ],
   "source": [
    "res.shape"
   ]
  },
  {
   "cell_type": "code",
   "execution_count": 52,
   "metadata": {},
   "outputs": [],
   "source": [
    "true_predictions = scaler.inverse_transform(res)\n",
    "\n",
    "test['MIMO_predict'] = true_predictions"
   ]
  },
  {
   "cell_type": "code",
   "execution_count": 53,
   "metadata": {},
   "outputs": [
    {
     "data": {
      "text/html": [
       "<div>\n",
       "<style scoped>\n",
       "    .dataframe tbody tr th:only-of-type {\n",
       "        vertical-align: middle;\n",
       "    }\n",
       "\n",
       "    .dataframe tbody tr th {\n",
       "        vertical-align: top;\n",
       "    }\n",
       "\n",
       "    .dataframe thead th {\n",
       "        text-align: right;\n",
       "    }\n",
       "</style>\n",
       "<table border=\"1\" class=\"dataframe\">\n",
       "  <thead>\n",
       "    <tr style=\"text-align: right;\">\n",
       "      <th></th>\n",
       "      <th>PM2.5</th>\n",
       "      <th>recursive_predict</th>\n",
       "      <th>direct_predict</th>\n",
       "      <th>direct_recursive_predict</th>\n",
       "      <th>MIMO_predict</th>\n",
       "    </tr>\n",
       "    <tr>\n",
       "      <th>date</th>\n",
       "      <th></th>\n",
       "      <th></th>\n",
       "      <th></th>\n",
       "      <th></th>\n",
       "      <th></th>\n",
       "    </tr>\n",
       "  </thead>\n",
       "  <tbody>\n",
       "    <tr>\n",
       "      <th>2020-01-10 18:00:00</th>\n",
       "      <td>123.76</td>\n",
       "      <td>87.159445</td>\n",
       "      <td>100.921699</td>\n",
       "      <td>91.608444</td>\n",
       "      <td>116.700897</td>\n",
       "    </tr>\n",
       "    <tr>\n",
       "      <th>2020-01-10 19:00:00</th>\n",
       "      <td>195.89</td>\n",
       "      <td>95.155136</td>\n",
       "      <td>97.391021</td>\n",
       "      <td>98.225570</td>\n",
       "      <td>113.761826</td>\n",
       "    </tr>\n",
       "    <tr>\n",
       "      <th>2020-01-10 20:00:00</th>\n",
       "      <td>214.24</td>\n",
       "      <td>101.780613</td>\n",
       "      <td>96.696289</td>\n",
       "      <td>102.076483</td>\n",
       "      <td>118.658447</td>\n",
       "    </tr>\n",
       "    <tr>\n",
       "      <th>2020-01-10 21:00:00</th>\n",
       "      <td>141.64</td>\n",
       "      <td>107.150778</td>\n",
       "      <td>102.688084</td>\n",
       "      <td>100.476864</td>\n",
       "      <td>117.103912</td>\n",
       "    </tr>\n",
       "    <tr>\n",
       "      <th>2020-01-10 22:00:00</th>\n",
       "      <td>91.89</td>\n",
       "      <td>111.377275</td>\n",
       "      <td>103.652437</td>\n",
       "      <td>100.169428</td>\n",
       "      <td>116.582359</td>\n",
       "    </tr>\n",
       "    <tr>\n",
       "      <th>2020-01-10 23:00:00</th>\n",
       "      <td>87.37</td>\n",
       "      <td>114.612710</td>\n",
       "      <td>104.010711</td>\n",
       "      <td>116.419941</td>\n",
       "      <td>112.936287</td>\n",
       "    </tr>\n",
       "    <tr>\n",
       "      <th>2020-01-11 00:00:00</th>\n",
       "      <td>83.57</td>\n",
       "      <td>117.045010</td>\n",
       "      <td>107.469759</td>\n",
       "      <td>107.924941</td>\n",
       "      <td>116.396339</td>\n",
       "    </tr>\n",
       "    <tr>\n",
       "      <th>2020-01-11 01:00:00</th>\n",
       "      <td>84.33</td>\n",
       "      <td>118.865886</td>\n",
       "      <td>103.601355</td>\n",
       "      <td>101.526225</td>\n",
       "      <td>112.612396</td>\n",
       "    </tr>\n",
       "    <tr>\n",
       "      <th>2020-01-11 02:00:00</th>\n",
       "      <td>90.69</td>\n",
       "      <td>120.169236</td>\n",
       "      <td>110.167859</td>\n",
       "      <td>106.290581</td>\n",
       "      <td>113.624962</td>\n",
       "    </tr>\n",
       "    <tr>\n",
       "      <th>2020-01-11 03:00:00</th>\n",
       "      <td>108.71</td>\n",
       "      <td>121.094593</td>\n",
       "      <td>108.293592</td>\n",
       "      <td>109.308508</td>\n",
       "      <td>116.133835</td>\n",
       "    </tr>\n",
       "    <tr>\n",
       "      <th>2020-01-11 04:00:00</th>\n",
       "      <td>125.15</td>\n",
       "      <td>121.772637</td>\n",
       "      <td>99.133007</td>\n",
       "      <td>113.469639</td>\n",
       "      <td>118.550514</td>\n",
       "    </tr>\n",
       "    <tr>\n",
       "      <th>2020-01-11 05:00:00</th>\n",
       "      <td>144.42</td>\n",
       "      <td>122.278382</td>\n",
       "      <td>120.254741</td>\n",
       "      <td>111.351017</td>\n",
       "      <td>113.994362</td>\n",
       "    </tr>\n",
       "    <tr>\n",
       "      <th>2020-01-11 06:00:00</th>\n",
       "      <td>140.14</td>\n",
       "      <td>122.666962</td>\n",
       "      <td>114.975286</td>\n",
       "      <td>102.921709</td>\n",
       "      <td>115.710426</td>\n",
       "    </tr>\n",
       "    <tr>\n",
       "      <th>2020-01-11 07:00:00</th>\n",
       "      <td>163.75</td>\n",
       "      <td>122.976914</td>\n",
       "      <td>104.025583</td>\n",
       "      <td>105.930869</td>\n",
       "      <td>115.623352</td>\n",
       "    </tr>\n",
       "    <tr>\n",
       "      <th>2020-01-11 08:00:00</th>\n",
       "      <td>148.61</td>\n",
       "      <td>123.233071</td>\n",
       "      <td>102.138195</td>\n",
       "      <td>105.688399</td>\n",
       "      <td>117.157913</td>\n",
       "    </tr>\n",
       "    <tr>\n",
       "      <th>2020-01-11 09:00:00</th>\n",
       "      <td>96.82</td>\n",
       "      <td>123.445418</td>\n",
       "      <td>107.030621</td>\n",
       "      <td>109.660350</td>\n",
       "      <td>115.650246</td>\n",
       "    </tr>\n",
       "    <tr>\n",
       "      <th>2020-01-11 10:00:00</th>\n",
       "      <td>88.51</td>\n",
       "      <td>123.627696</td>\n",
       "      <td>114.436705</td>\n",
       "      <td>107.567806</td>\n",
       "      <td>118.116646</td>\n",
       "    </tr>\n",
       "    <tr>\n",
       "      <th>2020-01-11 11:00:00</th>\n",
       "      <td>82.18</td>\n",
       "      <td>123.786901</td>\n",
       "      <td>112.404384</td>\n",
       "      <td>110.793731</td>\n",
       "      <td>115.699326</td>\n",
       "    </tr>\n",
       "    <tr>\n",
       "      <th>2020-01-11 12:00:00</th>\n",
       "      <td>74.20</td>\n",
       "      <td>123.928580</td>\n",
       "      <td>102.382125</td>\n",
       "      <td>107.524108</td>\n",
       "      <td>116.961349</td>\n",
       "    </tr>\n",
       "    <tr>\n",
       "      <th>2020-01-11 13:00:00</th>\n",
       "      <td>78.92</td>\n",
       "      <td>124.055251</td>\n",
       "      <td>109.479116</td>\n",
       "      <td>103.428008</td>\n",
       "      <td>115.784050</td>\n",
       "    </tr>\n",
       "    <tr>\n",
       "      <th>2020-01-11 14:00:00</th>\n",
       "      <td>65.24</td>\n",
       "      <td>124.170337</td>\n",
       "      <td>100.618252</td>\n",
       "      <td>102.483026</td>\n",
       "      <td>113.134132</td>\n",
       "    </tr>\n",
       "    <tr>\n",
       "      <th>2020-01-11 15:00:00</th>\n",
       "      <td>54.23</td>\n",
       "      <td>124.275438</td>\n",
       "      <td>108.591312</td>\n",
       "      <td>111.202893</td>\n",
       "      <td>115.468719</td>\n",
       "    </tr>\n",
       "    <tr>\n",
       "      <th>2020-01-11 16:00:00</th>\n",
       "      <td>52.97</td>\n",
       "      <td>124.371024</td>\n",
       "      <td>95.534971</td>\n",
       "      <td>107.265736</td>\n",
       "      <td>115.035980</td>\n",
       "    </tr>\n",
       "    <tr>\n",
       "      <th>2020-01-11 17:00:00</th>\n",
       "      <td>77.85</td>\n",
       "      <td>124.463966</td>\n",
       "      <td>101.700431</td>\n",
       "      <td>105.314558</td>\n",
       "      <td>115.952599</td>\n",
       "    </tr>\n",
       "  </tbody>\n",
       "</table>\n",
       "</div>"
      ],
      "text/plain": [
       "                      PM2.5  recursive_predict  direct_predict  \\\n",
       "date                                                             \n",
       "2020-01-10 18:00:00  123.76          87.159445      100.921699   \n",
       "2020-01-10 19:00:00  195.89          95.155136       97.391021   \n",
       "2020-01-10 20:00:00  214.24         101.780613       96.696289   \n",
       "2020-01-10 21:00:00  141.64         107.150778      102.688084   \n",
       "2020-01-10 22:00:00   91.89         111.377275      103.652437   \n",
       "2020-01-10 23:00:00   87.37         114.612710      104.010711   \n",
       "2020-01-11 00:00:00   83.57         117.045010      107.469759   \n",
       "2020-01-11 01:00:00   84.33         118.865886      103.601355   \n",
       "2020-01-11 02:00:00   90.69         120.169236      110.167859   \n",
       "2020-01-11 03:00:00  108.71         121.094593      108.293592   \n",
       "2020-01-11 04:00:00  125.15         121.772637       99.133007   \n",
       "2020-01-11 05:00:00  144.42         122.278382      120.254741   \n",
       "2020-01-11 06:00:00  140.14         122.666962      114.975286   \n",
       "2020-01-11 07:00:00  163.75         122.976914      104.025583   \n",
       "2020-01-11 08:00:00  148.61         123.233071      102.138195   \n",
       "2020-01-11 09:00:00   96.82         123.445418      107.030621   \n",
       "2020-01-11 10:00:00   88.51         123.627696      114.436705   \n",
       "2020-01-11 11:00:00   82.18         123.786901      112.404384   \n",
       "2020-01-11 12:00:00   74.20         123.928580      102.382125   \n",
       "2020-01-11 13:00:00   78.92         124.055251      109.479116   \n",
       "2020-01-11 14:00:00   65.24         124.170337      100.618252   \n",
       "2020-01-11 15:00:00   54.23         124.275438      108.591312   \n",
       "2020-01-11 16:00:00   52.97         124.371024       95.534971   \n",
       "2020-01-11 17:00:00   77.85         124.463966      101.700431   \n",
       "\n",
       "                     direct_recursive_predict  MIMO_predict  \n",
       "date                                                         \n",
       "2020-01-10 18:00:00                 91.608444    116.700897  \n",
       "2020-01-10 19:00:00                 98.225570    113.761826  \n",
       "2020-01-10 20:00:00                102.076483    118.658447  \n",
       "2020-01-10 21:00:00                100.476864    117.103912  \n",
       "2020-01-10 22:00:00                100.169428    116.582359  \n",
       "2020-01-10 23:00:00                116.419941    112.936287  \n",
       "2020-01-11 00:00:00                107.924941    116.396339  \n",
       "2020-01-11 01:00:00                101.526225    112.612396  \n",
       "2020-01-11 02:00:00                106.290581    113.624962  \n",
       "2020-01-11 03:00:00                109.308508    116.133835  \n",
       "2020-01-11 04:00:00                113.469639    118.550514  \n",
       "2020-01-11 05:00:00                111.351017    113.994362  \n",
       "2020-01-11 06:00:00                102.921709    115.710426  \n",
       "2020-01-11 07:00:00                105.930869    115.623352  \n",
       "2020-01-11 08:00:00                105.688399    117.157913  \n",
       "2020-01-11 09:00:00                109.660350    115.650246  \n",
       "2020-01-11 10:00:00                107.567806    118.116646  \n",
       "2020-01-11 11:00:00                110.793731    115.699326  \n",
       "2020-01-11 12:00:00                107.524108    116.961349  \n",
       "2020-01-11 13:00:00                103.428008    115.784050  \n",
       "2020-01-11 14:00:00                102.483026    113.134132  \n",
       "2020-01-11 15:00:00                111.202893    115.468719  \n",
       "2020-01-11 16:00:00                107.265736    115.035980  \n",
       "2020-01-11 17:00:00                105.314558    115.952599  "
      ]
     },
     "execution_count": 53,
     "metadata": {},
     "output_type": "execute_result"
    }
   ],
   "source": [
    "test"
   ]
  },
  {
   "cell_type": "code",
   "execution_count": 54,
   "metadata": {},
   "outputs": [
    {
     "data": {
      "text/plain": [
       "<AxesSubplot:xlabel='date'>"
      ]
     },
     "execution_count": 54,
     "metadata": {},
     "output_type": "execute_result"
    },
    {
     "data": {
      "image/png": "[encoded data removed]",
      "text/plain": [
       "<Figure size 432x288 with 1 Axes>"
      ]
     },
     "metadata": {
      "needs_background": "light"
     },
     "output_type": "display_data"
    }
   ],
   "source": [
    "test.plot()"
   ]
  },
  {
   "cell_type": "code",
   "execution_count": 55,
   "metadata": {},
   "outputs": [
    {
     "name": "stdout",
     "output_type": "stream",
     "text": [
      "41.84113410142793\n"
     ]
    }
   ],
   "source": [
    "rmse = sqrt(mean_squared_error(test['PM2.5'], test['MIMO_predict']))\n",
    "print(rmse)"
   ]
  },
  {
   "cell_type": "markdown",
   "metadata": {},
   "source": [
    "# Direct MIMO"
   ]
  },
  {
   "cell_type": "code",
   "execution_count": 56,
   "metadata": {},
   "outputs": [],
   "source": [
    "def generate_data(data, n_input, q_no, n_output):\n",
    "    X, y = [], []\n",
    "    for i in range(0,len(data)-(n_input + ((q_no-1)*n_output) + n_output)):\n",
    "            X.append(data[i:(i+n_input)])\n",
    "            y.append(data[i+n_input+((q_no-1)*n_output): i+n_input+((q_no-1)*n_output) + n_output])\n",
    "    return np.array(X), np.array(y)"
   ]
  },
  {
   "cell_type": "code",
   "execution_count": 57,
   "metadata": {},
   "outputs": [],
   "source": [
    "def model_predict(train_data, n_input, n_features, q_no, n_output):\n",
    "    \n",
    "    model = Sequential()\n",
    "    model.add(LSTM(200, activation='relu', input_shape=(n_input, n_features)))\n",
    "    model.add(Dense(n_output))\n",
    "    model.compile(optimizer='adam', loss='mse')\n",
    "    \n",
    "    X, y = generate_data(train_data, n_input, q_no, n_output)\n",
    "    \n",
    "    model.fit(X, y, epochs=3, verbose=0)\n",
    "    \n",
    "    tX = train_data[-n_input:]\n",
    "    \n",
    "    tX = tX.reshape((1, n_input, n_features))\n",
    "    \n",
    "    res = model.predict(tX)\n",
    "    \n",
    "    return res"
   ]
  },
  {
   "cell_type": "code",
   "execution_count": 58,
   "metadata": {},
   "outputs": [
    {
     "data": {
      "text/plain": [
       "[array([[0.197003  , 0.20268299, 0.20694391, 0.20239373, 0.19905794,\n",
       "         0.20408729]], dtype=float32),\n",
       " array([[0.19882151, 0.20112637, 0.19389701, 0.20467241, 0.20888133,\n",
       "         0.19210143]], dtype=float32),\n",
       " array([[0.20722164, 0.20810717, 0.2106239 , 0.20474324, 0.21190552,\n",
       "         0.20871043]], dtype=float32),\n",
       " array([[0.22552577, 0.22424158, 0.2219946 , 0.22264098, 0.21646704,\n",
       "         0.22113968]], dtype=float32)]"
      ]
     },
     "execution_count": 58,
     "metadata": {},
     "output_type": "execute_result"
    }
   ],
   "source": [
    "n_input = 12\n",
    "n_features = 1\n",
    "test_predictions = []\n",
    "\n",
    "n_output = 6\n",
    "\n",
    "q = int(len(scaled_test)/n_output)\n",
    "\n",
    "for i in range(q):\n",
    "    pred = model_predict(scaled_train,n_input, n_features, i+1, n_output)\n",
    "    test_predictions.append(pred)\n",
    "\n",
    "test_predictions"
   ]
  },
  {
   "cell_type": "code",
   "execution_count": 59,
   "metadata": {},
   "outputs": [],
   "source": [
    "res = []\n",
    "\n",
    "for i in test_predictions:\n",
    "    for j in i:\n",
    "        for k in j:\n",
    "            res.append(k)"
   ]
  },
  {
   "cell_type": "code",
   "execution_count": 60,
   "metadata": {},
   "outputs": [
    {
     "data": {
      "text/plain": [
       "(24, 1)"
      ]
     },
     "execution_count": 60,
     "metadata": {},
     "output_type": "execute_result"
    }
   ],
   "source": [
    "res = np.array(res[:len(scaled_test)])\n",
    "res = res.reshape((res.shape[0],1))\n",
    "res.shape"
   ]
  },
  {
   "cell_type": "code",
   "execution_count": 61,
   "metadata": {},
   "outputs": [],
   "source": [
    "true_predictions = scaler.inverse_transform(res)\n",
    "\n",
    "test['Direct_MIMO_predict'] = true_predictions"
   ]
  },
  {
   "cell_type": "code",
   "execution_count": 62,
   "metadata": {},
   "outputs": [
    {
     "data": {
      "text/html": [
       "<div>\n",
       "<style scoped>\n",
       "    .dataframe tbody tr th:only-of-type {\n",
       "        vertical-align: middle;\n",
       "    }\n",
       "\n",
       "    .dataframe tbody tr th {\n",
       "        vertical-align: top;\n",
       "    }\n",
       "\n",
       "    .dataframe thead th {\n",
       "        text-align: right;\n",
       "    }\n",
       "</style>\n",
       "<table border=\"1\" class=\"dataframe\">\n",
       "  <thead>\n",
       "    <tr style=\"text-align: right;\">\n",
       "      <th></th>\n",
       "      <th>PM2.5</th>\n",
       "      <th>recursive_predict</th>\n",
       "      <th>direct_predict</th>\n",
       "      <th>direct_recursive_predict</th>\n",
       "      <th>MIMO_predict</th>\n",
       "      <th>Direct_MIMO_predict</th>\n",
       "    </tr>\n",
       "    <tr>\n",
       "      <th>date</th>\n",
       "      <th></th>\n",
       "      <th></th>\n",
       "      <th></th>\n",
       "      <th></th>\n",
       "      <th></th>\n",
       "      <th></th>\n",
       "    </tr>\n",
       "  </thead>\n",
       "  <tbody>\n",
       "    <tr>\n",
       "      <th>2020-01-10 18:00:00</th>\n",
       "      <td>123.76</td>\n",
       "      <td>87.159445</td>\n",
       "      <td>100.921699</td>\n",
       "      <td>91.608444</td>\n",
       "      <td>116.700897</td>\n",
       "      <td>105.250504</td>\n",
       "    </tr>\n",
       "    <tr>\n",
       "      <th>2020-01-10 19:00:00</th>\n",
       "      <td>195.89</td>\n",
       "      <td>95.155136</td>\n",
       "      <td>97.391021</td>\n",
       "      <td>98.225570</td>\n",
       "      <td>113.761826</td>\n",
       "      <td>106.887024</td>\n",
       "    </tr>\n",
       "    <tr>\n",
       "      <th>2020-01-10 20:00:00</th>\n",
       "      <td>214.24</td>\n",
       "      <td>101.780613</td>\n",
       "      <td>96.696289</td>\n",
       "      <td>102.076483</td>\n",
       "      <td>118.658447</td>\n",
       "      <td>108.114677</td>\n",
       "    </tr>\n",
       "    <tr>\n",
       "      <th>2020-01-10 21:00:00</th>\n",
       "      <td>141.64</td>\n",
       "      <td>107.150778</td>\n",
       "      <td>102.688084</td>\n",
       "      <td>100.476864</td>\n",
       "      <td>117.103912</td>\n",
       "      <td>106.803680</td>\n",
       "    </tr>\n",
       "    <tr>\n",
       "      <th>2020-01-10 22:00:00</th>\n",
       "      <td>91.89</td>\n",
       "      <td>111.377275</td>\n",
       "      <td>103.652437</td>\n",
       "      <td>100.169428</td>\n",
       "      <td>116.582359</td>\n",
       "      <td>105.842567</td>\n",
       "    </tr>\n",
       "    <tr>\n",
       "      <th>2020-01-10 23:00:00</th>\n",
       "      <td>87.37</td>\n",
       "      <td>114.612710</td>\n",
       "      <td>104.010711</td>\n",
       "      <td>116.419941</td>\n",
       "      <td>112.936287</td>\n",
       "      <td>107.291626</td>\n",
       "    </tr>\n",
       "    <tr>\n",
       "      <th>2020-01-11 00:00:00</th>\n",
       "      <td>83.57</td>\n",
       "      <td>117.045010</td>\n",
       "      <td>107.469759</td>\n",
       "      <td>107.924941</td>\n",
       "      <td>116.396339</td>\n",
       "      <td>105.774452</td>\n",
       "    </tr>\n",
       "    <tr>\n",
       "      <th>2020-01-11 01:00:00</th>\n",
       "      <td>84.33</td>\n",
       "      <td>118.865886</td>\n",
       "      <td>103.601355</td>\n",
       "      <td>101.526225</td>\n",
       "      <td>112.612396</td>\n",
       "      <td>106.438522</td>\n",
       "    </tr>\n",
       "    <tr>\n",
       "      <th>2020-01-11 02:00:00</th>\n",
       "      <td>90.69</td>\n",
       "      <td>120.169236</td>\n",
       "      <td>110.167859</td>\n",
       "      <td>106.290581</td>\n",
       "      <td>113.624962</td>\n",
       "      <td>104.355598</td>\n",
       "    </tr>\n",
       "    <tr>\n",
       "      <th>2020-01-11 03:00:00</th>\n",
       "      <td>108.71</td>\n",
       "      <td>121.094593</td>\n",
       "      <td>108.293592</td>\n",
       "      <td>109.308508</td>\n",
       "      <td>116.133835</td>\n",
       "      <td>107.460213</td>\n",
       "    </tr>\n",
       "    <tr>\n",
       "      <th>2020-01-11 04:00:00</th>\n",
       "      <td>125.15</td>\n",
       "      <td>121.772637</td>\n",
       "      <td>99.133007</td>\n",
       "      <td>113.469639</td>\n",
       "      <td>118.550514</td>\n",
       "      <td>108.672890</td>\n",
       "    </tr>\n",
       "    <tr>\n",
       "      <th>2020-01-11 05:00:00</th>\n",
       "      <td>144.42</td>\n",
       "      <td>122.278382</td>\n",
       "      <td>120.254741</td>\n",
       "      <td>111.351017</td>\n",
       "      <td>113.994362</td>\n",
       "      <td>103.838264</td>\n",
       "    </tr>\n",
       "    <tr>\n",
       "      <th>2020-01-11 06:00:00</th>\n",
       "      <td>140.14</td>\n",
       "      <td>122.666962</td>\n",
       "      <td>114.975286</td>\n",
       "      <td>102.921709</td>\n",
       "      <td>115.710426</td>\n",
       "      <td>108.194702</td>\n",
       "    </tr>\n",
       "    <tr>\n",
       "      <th>2020-01-11 07:00:00</th>\n",
       "      <td>163.75</td>\n",
       "      <td>122.976914</td>\n",
       "      <td>104.025583</td>\n",
       "      <td>105.930869</td>\n",
       "      <td>115.623352</td>\n",
       "      <td>108.449837</td>\n",
       "    </tr>\n",
       "    <tr>\n",
       "      <th>2020-01-11 08:00:00</th>\n",
       "      <td>148.61</td>\n",
       "      <td>123.233071</td>\n",
       "      <td>102.138195</td>\n",
       "      <td>105.688399</td>\n",
       "      <td>117.157913</td>\n",
       "      <td>109.174957</td>\n",
       "    </tr>\n",
       "    <tr>\n",
       "      <th>2020-01-11 09:00:00</th>\n",
       "      <td>96.82</td>\n",
       "      <td>123.445418</td>\n",
       "      <td>107.030621</td>\n",
       "      <td>109.660350</td>\n",
       "      <td>115.650246</td>\n",
       "      <td>107.480614</td>\n",
       "    </tr>\n",
       "    <tr>\n",
       "      <th>2020-01-11 10:00:00</th>\n",
       "      <td>88.51</td>\n",
       "      <td>123.627696</td>\n",
       "      <td>114.436705</td>\n",
       "      <td>107.567806</td>\n",
       "      <td>118.116646</td>\n",
       "      <td>109.544220</td>\n",
       "    </tr>\n",
       "    <tr>\n",
       "      <th>2020-01-11 11:00:00</th>\n",
       "      <td>82.18</td>\n",
       "      <td>123.786901</td>\n",
       "      <td>112.404384</td>\n",
       "      <td>110.793731</td>\n",
       "      <td>115.699326</td>\n",
       "      <td>108.623642</td>\n",
       "    </tr>\n",
       "    <tr>\n",
       "      <th>2020-01-11 12:00:00</th>\n",
       "      <td>74.20</td>\n",
       "      <td>123.928580</td>\n",
       "      <td>102.382125</td>\n",
       "      <td>107.524108</td>\n",
       "      <td>116.961349</td>\n",
       "      <td>113.468483</td>\n",
       "    </tr>\n",
       "    <tr>\n",
       "      <th>2020-01-11 13:00:00</th>\n",
       "      <td>78.92</td>\n",
       "      <td>124.055251</td>\n",
       "      <td>109.479116</td>\n",
       "      <td>103.428008</td>\n",
       "      <td>115.784050</td>\n",
       "      <td>113.098480</td>\n",
       "    </tr>\n",
       "    <tr>\n",
       "      <th>2020-01-11 14:00:00</th>\n",
       "      <td>65.24</td>\n",
       "      <td>124.170337</td>\n",
       "      <td>100.618252</td>\n",
       "      <td>102.483026</td>\n",
       "      <td>113.134132</td>\n",
       "      <td>112.451080</td>\n",
       "    </tr>\n",
       "    <tr>\n",
       "      <th>2020-01-11 15:00:00</th>\n",
       "      <td>54.23</td>\n",
       "      <td>124.275438</td>\n",
       "      <td>108.591312</td>\n",
       "      <td>111.202893</td>\n",
       "      <td>115.468719</td>\n",
       "      <td>112.637321</td>\n",
       "    </tr>\n",
       "    <tr>\n",
       "      <th>2020-01-11 16:00:00</th>\n",
       "      <td>52.97</td>\n",
       "      <td>124.371024</td>\n",
       "      <td>95.534971</td>\n",
       "      <td>107.265736</td>\n",
       "      <td>115.035980</td>\n",
       "      <td>110.858482</td>\n",
       "    </tr>\n",
       "    <tr>\n",
       "      <th>2020-01-11 17:00:00</th>\n",
       "      <td>77.85</td>\n",
       "      <td>124.463966</td>\n",
       "      <td>101.700431</td>\n",
       "      <td>105.314558</td>\n",
       "      <td>115.952599</td>\n",
       "      <td>112.204765</td>\n",
       "    </tr>\n",
       "  </tbody>\n",
       "</table>\n",
       "</div>"
      ],
      "text/plain": [
       "                      PM2.5  recursive_predict  direct_predict  \\\n",
       "date                                                             \n",
       "2020-01-10 18:00:00  123.76          87.159445      100.921699   \n",
       "2020-01-10 19:00:00  195.89          95.155136       97.391021   \n",
       "2020-01-10 20:00:00  214.24         101.780613       96.696289   \n",
       "2020-01-10 21:00:00  141.64         107.150778      102.688084   \n",
       "2020-01-10 22:00:00   91.89         111.377275      103.652437   \n",
       "2020-01-10 23:00:00   87.37         114.612710      104.010711   \n",
       "2020-01-11 00:00:00   83.57         117.045010      107.469759   \n",
       "2020-01-11 01:00:00   84.33         118.865886      103.601355   \n",
       "2020-01-11 02:00:00   90.69         120.169236      110.167859   \n",
       "2020-01-11 03:00:00  108.71         121.094593      108.293592   \n",
       "2020-01-11 04:00:00  125.15         121.772637       99.133007   \n",
       "2020-01-11 05:00:00  144.42         122.278382      120.254741   \n",
       "2020-01-11 06:00:00  140.14         122.666962      114.975286   \n",
       "2020-01-11 07:00:00  163.75         122.976914      104.025583   \n",
       "2020-01-11 08:00:00  148.61         123.233071      102.138195   \n",
       "2020-01-11 09:00:00   96.82         123.445418      107.030621   \n",
       "2020-01-11 10:00:00   88.51         123.627696      114.436705   \n",
       "2020-01-11 11:00:00   82.18         123.786901      112.404384   \n",
       "2020-01-11 12:00:00   74.20         123.928580      102.382125   \n",
       "2020-01-11 13:00:00   78.92         124.055251      109.479116   \n",
       "2020-01-11 14:00:00   65.24         124.170337      100.618252   \n",
       "2020-01-11 15:00:00   54.23         124.275438      108.591312   \n",
       "2020-01-11 16:00:00   52.97         124.371024       95.534971   \n",
       "2020-01-11 17:00:00   77.85         124.463966      101.700431   \n",
       "\n",
       "                     direct_recursive_predict  MIMO_predict  \\\n",
       "date                                                          \n",
       "2020-01-10 18:00:00                 91.608444    116.700897   \n",
       "2020-01-10 19:00:00                 98.225570    113.761826   \n",
       "2020-01-10 20:00:00                102.076483    118.658447   \n",
       "2020-01-10 21:00:00                100.476864    117.103912   \n",
       "2020-01-10 22:00:00                100.169428    116.582359   \n",
       "2020-01-10 23:00:00                116.419941    112.936287   \n",
       "2020-01-11 00:00:00                107.924941    116.396339   \n",
       "2020-01-11 01:00:00                101.526225    112.612396   \n",
       "2020-01-11 02:00:00                106.290581    113.624962   \n",
       "2020-01-11 03:00:00                109.308508    116.133835   \n",
       "2020-01-11 04:00:00                113.469639    118.550514   \n",
       "2020-01-11 05:00:00                111.351017    113.994362   \n",
       "2020-01-11 06:00:00                102.921709    115.710426   \n",
       "2020-01-11 07:00:00                105.930869    115.623352   \n",
       "2020-01-11 08:00:00                105.688399    117.157913   \n",
       "2020-01-11 09:00:00                109.660350    115.650246   \n",
       "2020-01-11 10:00:00                107.567806    118.116646   \n",
       "2020-01-11 11:00:00                110.793731    115.699326   \n",
       "2020-01-11 12:00:00                107.524108    116.961349   \n",
       "2020-01-11 13:00:00                103.428008    115.784050   \n",
       "2020-01-11 14:00:00                102.483026    113.134132   \n",
       "2020-01-11 15:00:00                111.202893    115.468719   \n",
       "2020-01-11 16:00:00                107.265736    115.035980   \n",
       "2020-01-11 17:00:00                105.314558    115.952599   \n",
       "\n",
       "                     Direct_MIMO_predict  \n",
       "date                                      \n",
       "2020-01-10 18:00:00           105.250504  \n",
       "2020-01-10 19:00:00           106.887024  \n",
       "2020-01-10 20:00:00           108.114677  \n",
       "2020-01-10 21:00:00           106.803680  \n",
       "2020-01-10 22:00:00           105.842567  \n",
       "2020-01-10 23:00:00           107.291626  \n",
       "2020-01-11 00:00:00           105.774452  \n",
       "2020-01-11 01:00:00           106.438522  \n",
       "2020-01-11 02:00:00           104.355598  \n",
       "2020-01-11 03:00:00           107.460213  \n",
       "2020-01-11 04:00:00           108.672890  \n",
       "2020-01-11 05:00:00           103.838264  \n",
       "2020-01-11 06:00:00           108.194702  \n",
       "2020-01-11 07:00:00           108.449837  \n",
       "2020-01-11 08:00:00           109.174957  \n",
       "2020-01-11 09:00:00           107.480614  \n",
       "2020-01-11 10:00:00           109.544220  \n",
       "2020-01-11 11:00:00           108.623642  \n",
       "2020-01-11 12:00:00           113.468483  \n",
       "2020-01-11 13:00:00           113.098480  \n",
       "2020-01-11 14:00:00           112.451080  \n",
       "2020-01-11 15:00:00           112.637321  \n",
       "2020-01-11 16:00:00           110.858482  \n",
       "2020-01-11 17:00:00           112.204765  "
      ]
     },
     "execution_count": 62,
     "metadata": {},
     "output_type": "execute_result"
    }
   ],
   "source": [
    "test"
   ]
  },
  {
   "cell_type": "code",
   "execution_count": 63,
   "metadata": {},
   "outputs": [
    {
     "data": {
      "text/plain": [
       "<AxesSubplot:xlabel='date'>"
      ]
     },
     "execution_count": 63,
     "metadata": {},
     "output_type": "execute_result"
    },
    {
     "data": {
      "image/png": "[encoded data removed]",
      "text/plain": [
       "<Figure size 432x288 with 1 Axes>"
      ]
     },
     "metadata": {
      "needs_background": "light"
     },
     "output_type": "display_data"
    }
   ],
   "source": [
    "test.plot()"
   ]
  },
  {
   "cell_type": "code",
   "execution_count": 64,
   "metadata": {},
   "outputs": [
    {
     "name": "stdout",
     "output_type": "stream",
     "text": [
      "42.91038776517978\n"
     ]
    }
   ],
   "source": [
    "rmse = sqrt(mean_squared_error(test['PM2.5'], test['Direct_MIMO_predict']))\n",
    "print(rmse)"
   ]
  },
  {
   "cell_type": "code",
   "execution_count": 65,
   "metadata": {},
   "outputs": [],
   "source": [
    "rec_err = abs(test['PM2.5'] - test['recursive_predict'])\n",
    "dir_err = abs(test['PM2.5'] - test['direct_predict'])\n",
    "dir_rec_err = abs(test['PM2.5'] - test['direct_recursive_predict'])\n",
    "mimo_err = abs(test['PM2.5'] - test['MIMO_predict'])\n",
    "dir_mimo_err = abs(test['PM2.5'] - test['Direct_MIMO_predict'])"
   ]
  },
  {
   "cell_type": "code",
   "execution_count": 66,
   "metadata": {},
   "outputs": [],
   "source": [
    "errors = pd.DataFrame({\n",
    "    'Recursive':rec_err,\n",
    "    'Direct':dir_err,\n",
    "    'Direct Recursive':dir_rec_err,\n",
    "    'MIMO':mimo_err,\n",
    "    'Direct MIMO':dir_mimo_err\n",
    "})"
   ]
  },
  {
   "cell_type": "code",
   "execution_count": 67,
   "metadata": {},
   "outputs": [
    {
     "data": {
      "text/html": [
       "<div>\n",
       "<style scoped>\n",
       "    .dataframe tbody tr th:only-of-type {\n",
       "        vertical-align: middle;\n",
       "    }\n",
       "\n",
       "    .dataframe tbody tr th {\n",
       "        vertical-align: top;\n",
       "    }\n",
       "\n",
       "    .dataframe thead th {\n",
       "        text-align: right;\n",
       "    }\n",
       "</style>\n",
       "<table border=\"1\" class=\"dataframe\">\n",
       "  <thead>\n",
       "    <tr style=\"text-align: right;\">\n",
       "      <th></th>\n",
       "      <th>Recursive</th>\n",
       "      <th>Direct</th>\n",
       "      <th>Direct Recursive</th>\n",
       "      <th>MIMO</th>\n",
       "      <th>Direct MIMO</th>\n",
       "    </tr>\n",
       "    <tr>\n",
       "      <th>date</th>\n",
       "      <th></th>\n",
       "      <th></th>\n",
       "      <th></th>\n",
       "      <th></th>\n",
       "      <th></th>\n",
       "    </tr>\n",
       "  </thead>\n",
       "  <tbody>\n",
       "    <tr>\n",
       "      <th>2020-01-10 18:00:00</th>\n",
       "      <td>36.600555</td>\n",
       "      <td>22.838301</td>\n",
       "      <td>32.151556</td>\n",
       "      <td>7.059103</td>\n",
       "      <td>18.509496</td>\n",
       "    </tr>\n",
       "    <tr>\n",
       "      <th>2020-01-10 19:00:00</th>\n",
       "      <td>100.734864</td>\n",
       "      <td>98.498979</td>\n",
       "      <td>97.664430</td>\n",
       "      <td>82.128174</td>\n",
       "      <td>89.002976</td>\n",
       "    </tr>\n",
       "    <tr>\n",
       "      <th>2020-01-10 20:00:00</th>\n",
       "      <td>112.459387</td>\n",
       "      <td>117.543711</td>\n",
       "      <td>112.163517</td>\n",
       "      <td>95.581553</td>\n",
       "      <td>106.125323</td>\n",
       "    </tr>\n",
       "    <tr>\n",
       "      <th>2020-01-10 21:00:00</th>\n",
       "      <td>34.489222</td>\n",
       "      <td>38.951916</td>\n",
       "      <td>41.163136</td>\n",
       "      <td>24.536088</td>\n",
       "      <td>34.836320</td>\n",
       "    </tr>\n",
       "    <tr>\n",
       "      <th>2020-01-10 22:00:00</th>\n",
       "      <td>19.487275</td>\n",
       "      <td>11.762437</td>\n",
       "      <td>8.279428</td>\n",
       "      <td>24.692359</td>\n",
       "      <td>13.952567</td>\n",
       "    </tr>\n",
       "    <tr>\n",
       "      <th>2020-01-10 23:00:00</th>\n",
       "      <td>27.242710</td>\n",
       "      <td>16.640711</td>\n",
       "      <td>29.049941</td>\n",
       "      <td>25.566287</td>\n",
       "      <td>19.921626</td>\n",
       "    </tr>\n",
       "    <tr>\n",
       "      <th>2020-01-11 00:00:00</th>\n",
       "      <td>33.475010</td>\n",
       "      <td>23.899759</td>\n",
       "      <td>24.354941</td>\n",
       "      <td>32.826339</td>\n",
       "      <td>22.204452</td>\n",
       "    </tr>\n",
       "    <tr>\n",
       "      <th>2020-01-11 01:00:00</th>\n",
       "      <td>34.535886</td>\n",
       "      <td>19.271355</td>\n",
       "      <td>17.196225</td>\n",
       "      <td>28.282396</td>\n",
       "      <td>22.108522</td>\n",
       "    </tr>\n",
       "    <tr>\n",
       "      <th>2020-01-11 02:00:00</th>\n",
       "      <td>29.479236</td>\n",
       "      <td>19.477859</td>\n",
       "      <td>15.600581</td>\n",
       "      <td>22.934962</td>\n",
       "      <td>13.665598</td>\n",
       "    </tr>\n",
       "    <tr>\n",
       "      <th>2020-01-11 03:00:00</th>\n",
       "      <td>12.384593</td>\n",
       "      <td>0.416408</td>\n",
       "      <td>0.598508</td>\n",
       "      <td>7.423835</td>\n",
       "      <td>1.249787</td>\n",
       "    </tr>\n",
       "    <tr>\n",
       "      <th>2020-01-11 04:00:00</th>\n",
       "      <td>3.377363</td>\n",
       "      <td>26.016993</td>\n",
       "      <td>11.680361</td>\n",
       "      <td>6.599486</td>\n",
       "      <td>16.477110</td>\n",
       "    </tr>\n",
       "    <tr>\n",
       "      <th>2020-01-11 05:00:00</th>\n",
       "      <td>22.141618</td>\n",
       "      <td>24.165259</td>\n",
       "      <td>33.068983</td>\n",
       "      <td>30.425638</td>\n",
       "      <td>40.581736</td>\n",
       "    </tr>\n",
       "    <tr>\n",
       "      <th>2020-01-11 06:00:00</th>\n",
       "      <td>17.473038</td>\n",
       "      <td>25.164714</td>\n",
       "      <td>37.218291</td>\n",
       "      <td>24.429574</td>\n",
       "      <td>31.945298</td>\n",
       "    </tr>\n",
       "    <tr>\n",
       "      <th>2020-01-11 07:00:00</th>\n",
       "      <td>40.773086</td>\n",
       "      <td>59.724417</td>\n",
       "      <td>57.819131</td>\n",
       "      <td>48.126648</td>\n",
       "      <td>55.300163</td>\n",
       "    </tr>\n",
       "    <tr>\n",
       "      <th>2020-01-11 08:00:00</th>\n",
       "      <td>25.376929</td>\n",
       "      <td>46.471805</td>\n",
       "      <td>42.921601</td>\n",
       "      <td>31.452087</td>\n",
       "      <td>39.435043</td>\n",
       "    </tr>\n",
       "    <tr>\n",
       "      <th>2020-01-11 09:00:00</th>\n",
       "      <td>26.625418</td>\n",
       "      <td>10.210621</td>\n",
       "      <td>12.840350</td>\n",
       "      <td>18.830246</td>\n",
       "      <td>10.660614</td>\n",
       "    </tr>\n",
       "    <tr>\n",
       "      <th>2020-01-11 10:00:00</th>\n",
       "      <td>35.117696</td>\n",
       "      <td>25.926705</td>\n",
       "      <td>19.057806</td>\n",
       "      <td>29.606646</td>\n",
       "      <td>21.034220</td>\n",
       "    </tr>\n",
       "    <tr>\n",
       "      <th>2020-01-11 11:00:00</th>\n",
       "      <td>41.606901</td>\n",
       "      <td>30.224384</td>\n",
       "      <td>28.613731</td>\n",
       "      <td>33.519326</td>\n",
       "      <td>26.443642</td>\n",
       "    </tr>\n",
       "    <tr>\n",
       "      <th>2020-01-11 12:00:00</th>\n",
       "      <td>49.728580</td>\n",
       "      <td>28.182125</td>\n",
       "      <td>33.324108</td>\n",
       "      <td>42.761349</td>\n",
       "      <td>39.268483</td>\n",
       "    </tr>\n",
       "    <tr>\n",
       "      <th>2020-01-11 13:00:00</th>\n",
       "      <td>45.135251</td>\n",
       "      <td>30.559116</td>\n",
       "      <td>24.508008</td>\n",
       "      <td>36.864050</td>\n",
       "      <td>34.178480</td>\n",
       "    </tr>\n",
       "    <tr>\n",
       "      <th>2020-01-11 14:00:00</th>\n",
       "      <td>58.930337</td>\n",
       "      <td>35.378252</td>\n",
       "      <td>37.243026</td>\n",
       "      <td>47.894132</td>\n",
       "      <td>47.211080</td>\n",
       "    </tr>\n",
       "    <tr>\n",
       "      <th>2020-01-11 15:00:00</th>\n",
       "      <td>70.045438</td>\n",
       "      <td>54.361312</td>\n",
       "      <td>56.972893</td>\n",
       "      <td>61.238719</td>\n",
       "      <td>58.407321</td>\n",
       "    </tr>\n",
       "    <tr>\n",
       "      <th>2020-01-11 16:00:00</th>\n",
       "      <td>71.401024</td>\n",
       "      <td>42.564971</td>\n",
       "      <td>54.295736</td>\n",
       "      <td>62.065980</td>\n",
       "      <td>57.888482</td>\n",
       "    </tr>\n",
       "    <tr>\n",
       "      <th>2020-01-11 17:00:00</th>\n",
       "      <td>46.613966</td>\n",
       "      <td>23.850431</td>\n",
       "      <td>27.464558</td>\n",
       "      <td>38.102599</td>\n",
       "      <td>34.354765</td>\n",
       "    </tr>\n",
       "  </tbody>\n",
       "</table>\n",
       "</div>"
      ],
      "text/plain": [
       "                      Recursive      Direct  Direct Recursive       MIMO  \\\n",
       "date                                                                       \n",
       "2020-01-10 18:00:00   36.600555   22.838301         32.151556   7.059103   \n",
       "2020-01-10 19:00:00  100.734864   98.498979         97.664430  82.128174   \n",
       "2020-01-10 20:00:00  112.459387  117.543711        112.163517  95.581553   \n",
       "2020-01-10 21:00:00   34.489222   38.951916         41.163136  24.536088   \n",
       "2020-01-10 22:00:00   19.487275   11.762437          8.279428  24.692359   \n",
       "2020-01-10 23:00:00   27.242710   16.640711         29.049941  25.566287   \n",
       "2020-01-11 00:00:00   33.475010   23.899759         24.354941  32.826339   \n",
       "2020-01-11 01:00:00   34.535886   19.271355         17.196225  28.282396   \n",
       "2020-01-11 02:00:00   29.479236   19.477859         15.600581  22.934962   \n",
       "2020-01-11 03:00:00   12.384593    0.416408          0.598508   7.423835   \n",
       "2020-01-11 04:00:00    3.377363   26.016993         11.680361   6.599486   \n",
       "2020-01-11 05:00:00   22.141618   24.165259         33.068983  30.425638   \n",
       "2020-01-11 06:00:00   17.473038   25.164714         37.218291  24.429574   \n",
       "2020-01-11 07:00:00   40.773086   59.724417         57.819131  48.126648   \n",
       "2020-01-11 08:00:00   25.376929   46.471805         42.921601  31.452087   \n",
       "2020-01-11 09:00:00   26.625418   10.210621         12.840350  18.830246   \n",
       "2020-01-11 10:00:00   35.117696   25.926705         19.057806  29.606646   \n",
       "2020-01-11 11:00:00   41.606901   30.224384         28.613731  33.519326   \n",
       "2020-01-11 12:00:00   49.728580   28.182125         33.324108  42.761349   \n",
       "2020-01-11 13:00:00   45.135251   30.559116         24.508008  36.864050   \n",
       "2020-01-11 14:00:00   58.930337   35.378252         37.243026  47.894132   \n",
       "2020-01-11 15:00:00   70.045438   54.361312         56.972893  61.238719   \n",
       "2020-01-11 16:00:00   71.401024   42.564971         54.295736  62.065980   \n",
       "2020-01-11 17:00:00   46.613966   23.850431         27.464558  38.102599   \n",
       "\n",
       "                     Direct MIMO  \n",
       "date                              \n",
       "2020-01-10 18:00:00    18.509496  \n",
       "2020-01-10 19:00:00    89.002976  \n",
       "2020-01-10 20:00:00   106.125323  \n",
       "2020-01-10 21:00:00    34.836320  \n",
       "2020-01-10 22:00:00    13.952567  \n",
       "2020-01-10 23:00:00    19.921626  \n",
       "2020-01-11 00:00:00    22.204452  \n",
       "2020-01-11 01:00:00    22.108522  \n",
       "2020-01-11 02:00:00    13.665598  \n",
       "2020-01-11 03:00:00     1.249787  \n",
       "2020-01-11 04:00:00    16.477110  \n",
       "2020-01-11 05:00:00    40.581736  \n",
       "2020-01-11 06:00:00    31.945298  \n",
       "2020-01-11 07:00:00    55.300163  \n",
       "2020-01-11 08:00:00    39.435043  \n",
       "2020-01-11 09:00:00    10.660614  \n",
       "2020-01-11 10:00:00    21.034220  \n",
       "2020-01-11 11:00:00    26.443642  \n",
       "2020-01-11 12:00:00    39.268483  \n",
       "2020-01-11 13:00:00    34.178480  \n",
       "2020-01-11 14:00:00    47.211080  \n",
       "2020-01-11 15:00:00    58.407321  \n",
       "2020-01-11 16:00:00    57.888482  \n",
       "2020-01-11 17:00:00    34.354765  "
      ]
     },
     "execution_count": 67,
     "metadata": {},
     "output_type": "execute_result"
    }
   ],
   "source": [
    "errors"
   ]
  },
  {
   "cell_type": "code",
   "execution_count": 68,
   "metadata": {},
   "outputs": [
    {
     "data": {
      "text/plain": [
       "<AxesSubplot:xlabel='date'>"
      ]
     },
     "execution_count": 68,
     "metadata": {},
     "output_type": "execute_result"
    },
    {
     "data": {
      "image/png": "[encoded data removed]",
      "text/plain": [
       "<Figure size 432x288 with 1 Axes>"
      ]
     },
     "metadata": {
      "needs_background": "light"
     },
     "output_type": "display_data"
    }
   ],
   "source": [
    "errors.plot()"
   ]
  },
  {
   "cell_type": "code",
   "execution_count": 69,
   "metadata": {},
   "outputs": [
    {
     "data": {
      "text/plain": [
       "24"
      ]
     },
     "execution_count": 69,
     "metadata": {},
     "output_type": "execute_result"
    }
   ],
   "source": [
    "len(scaled_test)"
   ]
  },
  {
   "cell_type": "code",
   "execution_count": null,
   "metadata": {},
   "outputs": [],
   "source": []
  }
 ],
 "metadata": {
  "kernelspec": {
   "display_name": "Python 3",
   "language": "python",
   "name": "python3"
  },
  "language_info": {
   "codemirror_mode": {
    "name": "ipython",
    "version": 3
   },
   "file_extension": ".py",
   "mimetype": "text/x-python",
   "name": "python",
   "nbconvert_exporter": "python",
   "pygments_lexer": "ipython3",
   "version": "3.8.5"
  }
 },
 "nbformat": 4,
 "nbformat_minor": 4
}
