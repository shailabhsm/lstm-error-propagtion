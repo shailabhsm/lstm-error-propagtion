{
 "cells": [
  {
   "cell_type": "code",
   "execution_count": 19,
   "metadata": {},
   "outputs": [],
   "source": [
    "import pandas as pd\n",
    "import numpy as np\n",
    "import matplotlib.pyplot as plt\n",
    "from keras.models import Sequential\n",
    "from keras.layers import Dense, LSTM, Dropout\n",
    "from keras.preprocessing.sequence import TimeseriesGenerator\n",
    "from statsmodels.tsa.seasonal import seasonal_decompose\n",
    "from sklearn.preprocessing import MinMaxScaler\n",
    "from sklearn.metrics import mean_squared_error\n",
    "from math import sqrt\n",
    "import warnings\n",
    "\n",
    "warnings.filterwarnings(\"ignore\")"
   ]
  },
  {
   "cell_type": "code",
   "execution_count": 20,
   "metadata": {},
   "outputs": [],
   "source": [
    "df = pd.read_csv('C:/Users/shail/Desktop/project/raw data/Device-3.csv')\n",
    "\n",
    "df.columns = ['SNo','temp','hum','co','no2','pm2_5','pm10','date']\n",
    "date = df['date']\n",
    "df = df.drop([\"SNo\"],axis=1)\n",
    "df['date'] = pd.to_datetime(df['date'])"
   ]
  },
  {
   "cell_type": "code",
   "execution_count": 21,
   "metadata": {},
   "outputs": [
    {
     "data": {
      "text/html": [
       "<div>\n",
       "<style scoped>\n",
       "    .dataframe tbody tr th:only-of-type {\n",
       "        vertical-align: middle;\n",
       "    }\n",
       "\n",
       "    .dataframe tbody tr th {\n",
       "        vertical-align: top;\n",
       "    }\n",
       "\n",
       "    .dataframe thead th {\n",
       "        text-align: right;\n",
       "    }\n",
       "</style>\n",
       "<table border=\"1\" class=\"dataframe\">\n",
       "  <thead>\n",
       "    <tr style=\"text-align: right;\">\n",
       "      <th></th>\n",
       "      <th>temp</th>\n",
       "      <th>hum</th>\n",
       "      <th>co</th>\n",
       "      <th>no2</th>\n",
       "      <th>pm2_5</th>\n",
       "      <th>pm10</th>\n",
       "      <th>date</th>\n",
       "    </tr>\n",
       "  </thead>\n",
       "  <tbody>\n",
       "    <tr>\n",
       "      <th>0</th>\n",
       "      <td>14</td>\n",
       "      <td>49</td>\n",
       "      <td>43</td>\n",
       "      <td>1.24</td>\n",
       "      <td>68</td>\n",
       "      <td>95</td>\n",
       "      <td>2020-01-11 17:08:37</td>\n",
       "    </tr>\n",
       "    <tr>\n",
       "      <th>1</th>\n",
       "      <td>14</td>\n",
       "      <td>49</td>\n",
       "      <td>43</td>\n",
       "      <td>1.22</td>\n",
       "      <td>68</td>\n",
       "      <td>95</td>\n",
       "      <td>2020-01-11 17:08:19</td>\n",
       "    </tr>\n",
       "    <tr>\n",
       "      <th>2</th>\n",
       "      <td>14</td>\n",
       "      <td>49</td>\n",
       "      <td>43</td>\n",
       "      <td>1.20</td>\n",
       "      <td>70</td>\n",
       "      <td>97</td>\n",
       "      <td>2020-01-11 17:07:39</td>\n",
       "    </tr>\n",
       "    <tr>\n",
       "      <th>3</th>\n",
       "      <td>14</td>\n",
       "      <td>49</td>\n",
       "      <td>43</td>\n",
       "      <td>1.18</td>\n",
       "      <td>70</td>\n",
       "      <td>97</td>\n",
       "      <td>2020-01-11 17:07:25</td>\n",
       "    </tr>\n",
       "    <tr>\n",
       "      <th>4</th>\n",
       "      <td>14</td>\n",
       "      <td>49</td>\n",
       "      <td>43</td>\n",
       "      <td>1.18</td>\n",
       "      <td>70</td>\n",
       "      <td>97</td>\n",
       "      <td>2020-01-11 17:06:55</td>\n",
       "    </tr>\n",
       "  </tbody>\n",
       "</table>\n",
       "</div>"
      ],
      "text/plain": [
       "   temp  hum  co   no2  pm2_5  pm10                date\n",
       "0    14   49  43  1.24     68    95 2020-01-11 17:08:37\n",
       "1    14   49  43  1.22     68    95 2020-01-11 17:08:19\n",
       "2    14   49  43  1.20     70    97 2020-01-11 17:07:39\n",
       "3    14   49  43  1.18     70    97 2020-01-11 17:07:25\n",
       "4    14   49  43  1.18     70    97 2020-01-11 17:06:55"
      ]
     },
     "execution_count": 21,
     "metadata": {},
     "output_type": "execute_result"
    }
   ],
   "source": [
    "df.head()"
   ]
  },
  {
   "cell_type": "code",
   "execution_count": 22,
   "metadata": {},
   "outputs": [
    {
     "name": "stdout",
     "output_type": "stream",
     "text": [
      "<class 'pandas.core.frame.DataFrame'>\n",
      "RangeIndex: 1096922 entries, 0 to 1096921\n",
      "Data columns (total 7 columns):\n",
      " #   Column  Non-Null Count    Dtype         \n",
      "---  ------  --------------    -----         \n",
      " 0   temp    1096922 non-null  int64         \n",
      " 1   hum     1096922 non-null  int64         \n",
      " 2   co      1096922 non-null  int64         \n",
      " 3   no2     1096922 non-null  float64       \n",
      " 4   pm2_5   1096922 non-null  int64         \n",
      " 5   pm10    1096922 non-null  int64         \n",
      " 6   date    1096922 non-null  datetime64[ns]\n",
      "dtypes: datetime64[ns](1), float64(1), int64(5)\n",
      "memory usage: 58.6 MB\n"
     ]
    }
   ],
   "source": [
    "df.info()"
   ]
  },
  {
   "cell_type": "code",
   "execution_count": 23,
   "metadata": {},
   "outputs": [],
   "source": [
    "df = df[(df['co'] > 0) & (df['no2'] > 0) & (df['pm2_5'] > 0) & (df['pm10'] > 0)]"
   ]
  },
  {
   "cell_type": "code",
   "execution_count": 24,
   "metadata": {},
   "outputs": [
    {
     "data": {
      "text/html": [
       "<div>\n",
       "<style scoped>\n",
       "    .dataframe tbody tr th:only-of-type {\n",
       "        vertical-align: middle;\n",
       "    }\n",
       "\n",
       "    .dataframe tbody tr th {\n",
       "        vertical-align: top;\n",
       "    }\n",
       "\n",
       "    .dataframe thead th {\n",
       "        text-align: right;\n",
       "    }\n",
       "</style>\n",
       "<table border=\"1\" class=\"dataframe\">\n",
       "  <thead>\n",
       "    <tr style=\"text-align: right;\">\n",
       "      <th></th>\n",
       "      <th>TEMP</th>\n",
       "      <th>HUM</th>\n",
       "      <th>CO</th>\n",
       "      <th>NO2</th>\n",
       "      <th>PM2.5</th>\n",
       "      <th>PM10</th>\n",
       "    </tr>\n",
       "    <tr>\n",
       "      <th>date</th>\n",
       "      <th></th>\n",
       "      <th></th>\n",
       "      <th></th>\n",
       "      <th></th>\n",
       "      <th></th>\n",
       "      <th></th>\n",
       "    </tr>\n",
       "  </thead>\n",
       "  <tbody>\n",
       "    <tr>\n",
       "      <th>2019-09-13 16:00:00</th>\n",
       "      <td>17.69</td>\n",
       "      <td>61.16</td>\n",
       "      <td>6.32</td>\n",
       "      <td>19.40</td>\n",
       "      <td>32.73</td>\n",
       "      <td>45.76</td>\n",
       "    </tr>\n",
       "    <tr>\n",
       "      <th>2019-09-13 17:00:00</th>\n",
       "      <td>16.80</td>\n",
       "      <td>67.48</td>\n",
       "      <td>6.43</td>\n",
       "      <td>19.40</td>\n",
       "      <td>38.32</td>\n",
       "      <td>53.31</td>\n",
       "    </tr>\n",
       "    <tr>\n",
       "      <th>2019-09-13 18:00:00</th>\n",
       "      <td>17.00</td>\n",
       "      <td>66.82</td>\n",
       "      <td>6.21</td>\n",
       "      <td>19.40</td>\n",
       "      <td>27.65</td>\n",
       "      <td>38.68</td>\n",
       "    </tr>\n",
       "    <tr>\n",
       "      <th>2019-09-13 19:00:00</th>\n",
       "      <td>16.40</td>\n",
       "      <td>63.55</td>\n",
       "      <td>5.78</td>\n",
       "      <td>19.39</td>\n",
       "      <td>22.28</td>\n",
       "      <td>31.30</td>\n",
       "    </tr>\n",
       "    <tr>\n",
       "      <th>2019-09-13 20:00:00</th>\n",
       "      <td>15.73</td>\n",
       "      <td>66.26</td>\n",
       "      <td>6.06</td>\n",
       "      <td>19.39</td>\n",
       "      <td>22.89</td>\n",
       "      <td>31.97</td>\n",
       "    </tr>\n",
       "    <tr>\n",
       "      <th>...</th>\n",
       "      <td>...</td>\n",
       "      <td>...</td>\n",
       "      <td>...</td>\n",
       "      <td>...</td>\n",
       "      <td>...</td>\n",
       "      <td>...</td>\n",
       "    </tr>\n",
       "    <tr>\n",
       "      <th>2020-01-11 13:00:00</th>\n",
       "      <td>23.58</td>\n",
       "      <td>28.62</td>\n",
       "      <td>41.87</td>\n",
       "      <td>1.08</td>\n",
       "      <td>93.57</td>\n",
       "      <td>130.05</td>\n",
       "    </tr>\n",
       "    <tr>\n",
       "      <th>2020-01-11 14:00:00</th>\n",
       "      <td>23.81</td>\n",
       "      <td>25.91</td>\n",
       "      <td>42.29</td>\n",
       "      <td>1.07</td>\n",
       "      <td>71.30</td>\n",
       "      <td>99.06</td>\n",
       "    </tr>\n",
       "    <tr>\n",
       "      <th>2020-01-11 15:00:00</th>\n",
       "      <td>19.66</td>\n",
       "      <td>33.67</td>\n",
       "      <td>43.16</td>\n",
       "      <td>1.30</td>\n",
       "      <td>68.58</td>\n",
       "      <td>95.50</td>\n",
       "    </tr>\n",
       "    <tr>\n",
       "      <th>2020-01-11 16:00:00</th>\n",
       "      <td>16.08</td>\n",
       "      <td>42.67</td>\n",
       "      <td>43.00</td>\n",
       "      <td>1.39</td>\n",
       "      <td>64.05</td>\n",
       "      <td>89.35</td>\n",
       "    </tr>\n",
       "    <tr>\n",
       "      <th>2020-01-11 17:00:00</th>\n",
       "      <td>14.01</td>\n",
       "      <td>49.81</td>\n",
       "      <td>43.00</td>\n",
       "      <td>1.22</td>\n",
       "      <td>70.56</td>\n",
       "      <td>97.91</td>\n",
       "    </tr>\n",
       "  </tbody>\n",
       "</table>\n",
       "<p>2882 rows × 6 columns</p>\n",
       "</div>"
      ],
      "text/plain": [
       "                      TEMP    HUM     CO    NO2  PM2.5    PM10\n",
       "date                                                          \n",
       "2019-09-13 16:00:00  17.69  61.16   6.32  19.40  32.73   45.76\n",
       "2019-09-13 17:00:00  16.80  67.48   6.43  19.40  38.32   53.31\n",
       "2019-09-13 18:00:00  17.00  66.82   6.21  19.40  27.65   38.68\n",
       "2019-09-13 19:00:00  16.40  63.55   5.78  19.39  22.28   31.30\n",
       "2019-09-13 20:00:00  15.73  66.26   6.06  19.39  22.89   31.97\n",
       "...                    ...    ...    ...    ...    ...     ...\n",
       "2020-01-11 13:00:00  23.58  28.62  41.87   1.08  93.57  130.05\n",
       "2020-01-11 14:00:00  23.81  25.91  42.29   1.07  71.30   99.06\n",
       "2020-01-11 15:00:00  19.66  33.67  43.16   1.30  68.58   95.50\n",
       "2020-01-11 16:00:00  16.08  42.67  43.00   1.39  64.05   89.35\n",
       "2020-01-11 17:00:00  14.01  49.81  43.00   1.22  70.56   97.91\n",
       "\n",
       "[2882 rows x 6 columns]"
      ]
     },
     "execution_count": 24,
     "metadata": {},
     "output_type": "execute_result"
    }
   ],
   "source": [
    "temp_one_hr = round(df.resample('60min',on='date').temp.mean(),2)\n",
    "hum_one_hr = round(df.resample('60min',on='date').hum.mean(),2)\n",
    "co_one_hr = round(df.resample('60min',on='date').co.mean(),2)\n",
    "no2_one_hr = round(df.resample('60min',on='date').no2.mean(),2)\n",
    "pm2_5_one_hr = round(df.resample('60min',on='date').pm2_5.mean(),2)\n",
    "pm10_one_hr = round(df.resample('60min',on='date').pm10.mean(),2)\n",
    "\n",
    "one_hr_sample = pd.DataFrame({\n",
    "    \"TEMP\":temp_one_hr,\n",
    "    \"HUM\":hum_one_hr,\n",
    "    \"CO\":co_one_hr,\n",
    "    \"NO2\":no2_one_hr,\n",
    "    \"PM2.5\":pm2_5_one_hr,\n",
    "    \"PM10\":pm10_one_hr\n",
    "})\n",
    "\n",
    "one_hr_sample"
   ]
  },
  {
   "cell_type": "code",
   "execution_count": 25,
   "metadata": {},
   "outputs": [],
   "source": [
    "pm = one_hr_sample[['PM2.5']].copy()"
   ]
  },
  {
   "cell_type": "code",
   "execution_count": 26,
   "metadata": {},
   "outputs": [
    {
     "data": {
      "text/html": [
       "<div>\n",
       "<style scoped>\n",
       "    .dataframe tbody tr th:only-of-type {\n",
       "        vertical-align: middle;\n",
       "    }\n",
       "\n",
       "    .dataframe tbody tr th {\n",
       "        vertical-align: top;\n",
       "    }\n",
       "\n",
       "    .dataframe thead th {\n",
       "        text-align: right;\n",
       "    }\n",
       "</style>\n",
       "<table border=\"1\" class=\"dataframe\">\n",
       "  <thead>\n",
       "    <tr style=\"text-align: right;\">\n",
       "      <th></th>\n",
       "      <th>PM2.5</th>\n",
       "    </tr>\n",
       "    <tr>\n",
       "      <th>date</th>\n",
       "      <th></th>\n",
       "    </tr>\n",
       "  </thead>\n",
       "  <tbody>\n",
       "    <tr>\n",
       "      <th>2019-09-13 16:00:00</th>\n",
       "      <td>32.73</td>\n",
       "    </tr>\n",
       "    <tr>\n",
       "      <th>2019-09-13 17:00:00</th>\n",
       "      <td>38.32</td>\n",
       "    </tr>\n",
       "    <tr>\n",
       "      <th>2019-09-13 18:00:00</th>\n",
       "      <td>27.65</td>\n",
       "    </tr>\n",
       "    <tr>\n",
       "      <th>2019-09-13 19:00:00</th>\n",
       "      <td>22.28</td>\n",
       "    </tr>\n",
       "    <tr>\n",
       "      <th>2019-09-13 20:00:00</th>\n",
       "      <td>22.89</td>\n",
       "    </tr>\n",
       "    <tr>\n",
       "      <th>...</th>\n",
       "      <td>...</td>\n",
       "    </tr>\n",
       "    <tr>\n",
       "      <th>2020-01-11 13:00:00</th>\n",
       "      <td>93.57</td>\n",
       "    </tr>\n",
       "    <tr>\n",
       "      <th>2020-01-11 14:00:00</th>\n",
       "      <td>71.30</td>\n",
       "    </tr>\n",
       "    <tr>\n",
       "      <th>2020-01-11 15:00:00</th>\n",
       "      <td>68.58</td>\n",
       "    </tr>\n",
       "    <tr>\n",
       "      <th>2020-01-11 16:00:00</th>\n",
       "      <td>64.05</td>\n",
       "    </tr>\n",
       "    <tr>\n",
       "      <th>2020-01-11 17:00:00</th>\n",
       "      <td>70.56</td>\n",
       "    </tr>\n",
       "  </tbody>\n",
       "</table>\n",
       "<p>2882 rows × 1 columns</p>\n",
       "</div>"
      ],
      "text/plain": [
       "                     PM2.5\n",
       "date                      \n",
       "2019-09-13 16:00:00  32.73\n",
       "2019-09-13 17:00:00  38.32\n",
       "2019-09-13 18:00:00  27.65\n",
       "2019-09-13 19:00:00  22.28\n",
       "2019-09-13 20:00:00  22.89\n",
       "...                    ...\n",
       "2020-01-11 13:00:00  93.57\n",
       "2020-01-11 14:00:00  71.30\n",
       "2020-01-11 15:00:00  68.58\n",
       "2020-01-11 16:00:00  64.05\n",
       "2020-01-11 17:00:00  70.56\n",
       "\n",
       "[2882 rows x 1 columns]"
      ]
     },
     "execution_count": 26,
     "metadata": {},
     "output_type": "execute_result"
    }
   ],
   "source": [
    "pm"
   ]
  },
  {
   "cell_type": "code",
   "execution_count": 27,
   "metadata": {},
   "outputs": [],
   "source": [
    "df = pm.copy()"
   ]
  },
  {
   "cell_type": "code",
   "execution_count": 28,
   "metadata": {},
   "outputs": [
    {
     "data": {
      "text/html": [
       "<div>\n",
       "<style scoped>\n",
       "    .dataframe tbody tr th:only-of-type {\n",
       "        vertical-align: middle;\n",
       "    }\n",
       "\n",
       "    .dataframe tbody tr th {\n",
       "        vertical-align: top;\n",
       "    }\n",
       "\n",
       "    .dataframe thead th {\n",
       "        text-align: right;\n",
       "    }\n",
       "</style>\n",
       "<table border=\"1\" class=\"dataframe\">\n",
       "  <thead>\n",
       "    <tr style=\"text-align: right;\">\n",
       "      <th></th>\n",
       "      <th>PM2.5</th>\n",
       "    </tr>\n",
       "    <tr>\n",
       "      <th>date</th>\n",
       "      <th></th>\n",
       "    </tr>\n",
       "  </thead>\n",
       "  <tbody>\n",
       "    <tr>\n",
       "      <th>2019-12-11 18:00:00</th>\n",
       "      <td>NaN</td>\n",
       "    </tr>\n",
       "    <tr>\n",
       "      <th>2019-12-11 19:00:00</th>\n",
       "      <td>NaN</td>\n",
       "    </tr>\n",
       "    <tr>\n",
       "      <th>2019-12-11 20:00:00</th>\n",
       "      <td>NaN</td>\n",
       "    </tr>\n",
       "    <tr>\n",
       "      <th>2019-12-11 21:00:00</th>\n",
       "      <td>NaN</td>\n",
       "    </tr>\n",
       "    <tr>\n",
       "      <th>2019-12-11 22:00:00</th>\n",
       "      <td>NaN</td>\n",
       "    </tr>\n",
       "    <tr>\n",
       "      <th>...</th>\n",
       "      <td>...</td>\n",
       "    </tr>\n",
       "    <tr>\n",
       "      <th>2020-01-11 13:00:00</th>\n",
       "      <td>93.57</td>\n",
       "    </tr>\n",
       "    <tr>\n",
       "      <th>2020-01-11 14:00:00</th>\n",
       "      <td>71.30</td>\n",
       "    </tr>\n",
       "    <tr>\n",
       "      <th>2020-01-11 15:00:00</th>\n",
       "      <td>68.58</td>\n",
       "    </tr>\n",
       "    <tr>\n",
       "      <th>2020-01-11 16:00:00</th>\n",
       "      <td>64.05</td>\n",
       "    </tr>\n",
       "    <tr>\n",
       "      <th>2020-01-11 17:00:00</th>\n",
       "      <td>70.56</td>\n",
       "    </tr>\n",
       "  </tbody>\n",
       "</table>\n",
       "<p>744 rows × 1 columns</p>\n",
       "</div>"
      ],
      "text/plain": [
       "                     PM2.5\n",
       "date                      \n",
       "2019-12-11 18:00:00    NaN\n",
       "2019-12-11 19:00:00    NaN\n",
       "2019-12-11 20:00:00    NaN\n",
       "2019-12-11 21:00:00    NaN\n",
       "2019-12-11 22:00:00    NaN\n",
       "...                    ...\n",
       "2020-01-11 13:00:00  93.57\n",
       "2020-01-11 14:00:00  71.30\n",
       "2020-01-11 15:00:00  68.58\n",
       "2020-01-11 16:00:00  64.05\n",
       "2020-01-11 17:00:00  70.56\n",
       "\n",
       "[744 rows x 1 columns]"
      ]
     },
     "execution_count": 28,
     "metadata": {},
     "output_type": "execute_result"
    }
   ],
   "source": [
    "df = df[-744:]\n",
    "df"
   ]
  },
  {
   "cell_type": "code",
   "execution_count": 29,
   "metadata": {},
   "outputs": [
    {
     "data": {
      "text/plain": [
       "PM2.5    276\n",
       "dtype: int64"
      ]
     },
     "execution_count": 29,
     "metadata": {},
     "output_type": "execute_result"
    }
   ],
   "source": [
    "df.isna().sum()"
   ]
  },
  {
   "cell_type": "code",
   "execution_count": 30,
   "metadata": {},
   "outputs": [],
   "source": [
    "df = df.interpolate(method ='linear', limit_direction='both')"
   ]
  },
  {
   "cell_type": "code",
   "execution_count": 31,
   "metadata": {},
   "outputs": [
    {
     "data": {
      "text/plain": [
       "<AxesSubplot:xlabel='date'>"
      ]
     },
     "execution_count": 31,
     "metadata": {},
     "output_type": "execute_result"
    },
    {
     "data": {
      "image/png": "[encoded data removed]",
      "text/plain": [
       "<Figure size 432x288 with 1 Axes>"
      ]
     },
     "metadata": {
      "needs_background": "light"
     },
     "output_type": "display_data"
    }
   ],
   "source": [
    "df.plot()"
   ]
  },
  {
   "cell_type": "code",
   "execution_count": 32,
   "metadata": {},
   "outputs": [
    {
     "data": {
      "image/png": "[encoded data removed]",
      "text/plain": [
       "<Figure size 432x288 with 4 Axes>"
      ]
     },
     "execution_count": 32,
     "metadata": {},
     "output_type": "execute_result"
    },
    {
     "data": {
      "image/png": "[encoded data removed]",
      "text/plain": [
       "<Figure size 432x288 with 4 Axes>"
      ]
     },
     "metadata": {
      "needs_background": "light"
     },
     "output_type": "display_data"
    }
   ],
   "source": [
    "results = seasonal_decompose(df['PM2.5'], freq=24)\n",
    "results.plot()"
   ]
  },
  {
   "cell_type": "code",
   "execution_count": 33,
   "metadata": {},
   "outputs": [
    {
     "data": {
      "text/plain": [
       "744"
      ]
     },
     "execution_count": 33,
     "metadata": {},
     "output_type": "execute_result"
    }
   ],
   "source": [
    "len(df)"
   ]
  },
  {
   "cell_type": "code",
   "execution_count": 34,
   "metadata": {},
   "outputs": [],
   "source": [
    "train = df.iloc[:720]\n",
    "test = df.iloc[720:]\n",
    "\n",
    "scaler = MinMaxScaler()"
   ]
  },
  {
   "cell_type": "code",
   "execution_count": 35,
   "metadata": {},
   "outputs": [
    {
     "data": {
      "text/plain": [
       "(                      PM2.5\n",
       " date                       \n",
       " 2019-12-11 18:00:00  209.72\n",
       " 2019-12-11 19:00:00  209.72\n",
       " 2019-12-11 20:00:00  209.72\n",
       " 2019-12-11 21:00:00  209.72\n",
       " 2019-12-11 22:00:00  209.72,\n",
       "                      PM2.5\n",
       " date                      \n",
       " 2020-01-11 13:00:00  93.57\n",
       " 2020-01-11 14:00:00  71.30\n",
       " 2020-01-11 15:00:00  68.58\n",
       " 2020-01-11 16:00:00  64.05\n",
       " 2020-01-11 17:00:00  70.56)"
      ]
     },
     "execution_count": 35,
     "metadata": {},
     "output_type": "execute_result"
    }
   ],
   "source": [
    "df.head(), df.tail()"
   ]
  },
  {
   "cell_type": "code",
   "execution_count": 36,
   "metadata": {},
   "outputs": [
    {
     "data": {
      "text/plain": [
       "array([[0.48221777],\n",
       "       [0.48221777],\n",
       "       [0.48221777],\n",
       "       [0.48221777],\n",
       "       [0.48221777],\n",
       "       [0.48221777],\n",
       "       [0.48221777],\n",
       "       [0.48221777],\n",
       "       [0.48221777],\n",
       "       [0.48221777]])"
      ]
     },
     "execution_count": 36,
     "metadata": {},
     "output_type": "execute_result"
    }
   ],
   "source": [
    "scaler.fit(train)\n",
    "scaled_train = scaler.transform(train)\n",
    "scaled_test = scaler.transform(test)\n",
    "\n",
    "scaled_train[:10]"
   ]
  },
  {
   "cell_type": "markdown",
   "metadata": {},
   "source": [
    "# Recursive Strategy"
   ]
  },
  {
   "cell_type": "code",
   "execution_count": 37,
   "metadata": {},
   "outputs": [
    {
     "data": {
      "text/plain": [
       "(array([[[0.48221777],\n",
       "         [0.48221777],\n",
       "         [0.48221777],\n",
       "         [0.48221777],\n",
       "         [0.48221777],\n",
       "         [0.48221777],\n",
       "         [0.48221777],\n",
       "         [0.48221777],\n",
       "         [0.48221777],\n",
       "         [0.48221777],\n",
       "         [0.48221777],\n",
       "         [0.48221777],\n",
       "         [0.48221777],\n",
       "         [0.48221777],\n",
       "         [0.48221777],\n",
       "         [0.48221777],\n",
       "         [0.48221777],\n",
       "         [0.48221777],\n",
       "         [0.48221777],\n",
       "         [0.48221777],\n",
       "         [0.48221777],\n",
       "         [0.48221777],\n",
       "         [0.48221777],\n",
       "         [0.48221777]]]),\n",
       " array([[0.48221777]]))"
      ]
     },
     "execution_count": 37,
     "metadata": {},
     "output_type": "execute_result"
    }
   ],
   "source": [
    "n_input = 24\n",
    "n_features = 1\n",
    "generator = TimeseriesGenerator(scaled_train, scaled_train,length=n_input,batch_size=1)\n",
    "\n",
    "generator[0]"
   ]
  },
  {
   "cell_type": "code",
   "execution_count": 38,
   "metadata": {},
   "outputs": [
    {
     "name": "stdout",
     "output_type": "stream",
     "text": [
      "Model: \"sequential\"\n",
      "_________________________________________________________________\n",
      "Layer (type)                 Output Shape              Param #   \n",
      "=================================================================\n",
      "lstm (LSTM)                  (None, 200)               161600    \n",
      "_________________________________________________________________\n",
      "dense (Dense)                (None, 1)                 201       \n",
      "=================================================================\n",
      "Total params: 161,801\n",
      "Trainable params: 161,801\n",
      "Non-trainable params: 0\n",
      "_________________________________________________________________\n"
     ]
    }
   ],
   "source": [
    "model = Sequential()\n",
    "model.add(LSTM(200, activation='relu', input_shape=(n_input, n_features)))\n",
    "model.add(Dense(1))\n",
    "model.compile(optimizer='adam', loss='mse')\n",
    "\n",
    "model.summary()"
   ]
  },
  {
   "cell_type": "code",
   "execution_count": 39,
   "metadata": {},
   "outputs": [
    {
     "name": "stdout",
     "output_type": "stream",
     "text": [
      "Epoch 1/10\n",
      "696/696 [==============================] - 80s 26ms/step - loss: 0.0205\n",
      "Epoch 2/10\n",
      "696/696 [==============================] - 17s 24ms/step - loss: 0.0084\n",
      "Epoch 3/10\n",
      "696/696 [==============================] - 10s 14ms/step - loss: 0.0058\n",
      "Epoch 4/10\n",
      "696/696 [==============================] - 12s 17ms/step - loss: 0.0051\n",
      "Epoch 5/10\n",
      "696/696 [==============================] - 11s 15ms/step - loss: 0.0042\n",
      "Epoch 6/10\n",
      "696/696 [==============================] - 11s 15ms/step - loss: 0.0049\n",
      "Epoch 7/10\n",
      "696/696 [==============================] - 12s 17ms/step - loss: 0.0038\n",
      "Epoch 8/10\n",
      "696/696 [==============================] - 12s 17ms/step - loss: 0.0052\n",
      "Epoch 9/10\n",
      "696/696 [==============================] - 12s 17ms/step - loss: 0.0042\n",
      "Epoch 10/10\n",
      "696/696 [==============================] - 18s 26ms/step - loss: 0.0036\n"
     ]
    },
    {
     "data": {
      "text/plain": [
       "<keras.callbacks.History at 0x235d1517160>"
      ]
     },
     "execution_count": 39,
     "metadata": {},
     "output_type": "execute_result"
    }
   ],
   "source": [
    "model.fit(generator, epochs=10, verbose=1)"
   ]
  },
  {
   "cell_type": "code",
   "execution_count": 40,
   "metadata": {},
   "outputs": [
    {
     "data": {
      "text/plain": [
       "[<matplotlib.lines.Line2D at 0x235d0cb6d90>]"
      ]
     },
     "execution_count": 40,
     "metadata": {},
     "output_type": "execute_result"
    },
    {
     "data": {
      "image/png": "[encoded data removed]",
      "text/plain": [
       "<Figure size 432x288 with 1 Axes>"
      ]
     },
     "metadata": {
      "needs_background": "light"
     },
     "output_type": "display_data"
    }
   ],
   "source": [
    "loss_per_epoch = model.history.history['loss']\n",
    "plt.plot(range(len(loss_per_epoch)), loss_per_epoch)"
   ]
  },
  {
   "cell_type": "code",
   "execution_count": 41,
   "metadata": {},
   "outputs": [
    {
     "data": {
      "text/plain": [
       "array([[0.19666964]], dtype=float32)"
      ]
     },
     "execution_count": 41,
     "metadata": {},
     "output_type": "execute_result"
    }
   ],
   "source": [
    "last_train_batch = scaled_train[-n_input:]\n",
    "\n",
    "last_train_batch = last_train_batch.reshape((1,n_input, n_features))\n",
    "\n",
    "model.predict(last_train_batch)"
   ]
  },
  {
   "cell_type": "code",
   "execution_count": 42,
   "metadata": {},
   "outputs": [
    {
     "data": {
      "text/plain": [
       "(array([0.32619485]), array([0.45487949]))"
      ]
     },
     "execution_count": 42,
     "metadata": {},
     "output_type": "execute_result"
    }
   ],
   "source": [
    "scaled_test[0], scaled_test[1]"
   ]
  },
  {
   "cell_type": "code",
   "execution_count": 43,
   "metadata": {},
   "outputs": [
    {
     "data": {
      "text/plain": [
       "[array([0.19666964], dtype=float32),\n",
       " array([0.23163569], dtype=float32),\n",
       " array([0.26238057], dtype=float32),\n",
       " array([0.28718626], dtype=float32),\n",
       " array([0.30547452], dtype=float32),\n",
       " array([0.3174287], dtype=float32),\n",
       " array([0.3238468], dtype=float32),\n",
       " array([0.32592192], dtype=float32),\n",
       " array([0.32499537], dtype=float32),\n",
       " array([0.32230783], dtype=float32),\n",
       " array([0.31891382], dtype=float32),\n",
       " array([0.3155864], dtype=float32),\n",
       " array([0.31282204], dtype=float32),\n",
       " array([0.3108448], dtype=float32),\n",
       " array([0.3096721], dtype=float32),\n",
       " array([0.30919966], dtype=float32),\n",
       " array([0.30925792], dtype=float32),\n",
       " array([0.3096691], dtype=float32),\n",
       " array([0.31028435], dtype=float32),\n",
       " array([0.31097507], dtype=float32),\n",
       " array([0.3116426], dtype=float32),\n",
       " array([0.31222203], dtype=float32),\n",
       " array([0.3126816], dtype=float32),\n",
       " array([0.31301513], dtype=float32)]"
      ]
     },
     "execution_count": 43,
     "metadata": {},
     "output_type": "execute_result"
    }
   ],
   "source": [
    "test_predictions = []\n",
    "\n",
    "first_eval_batch = scaled_train[-n_input:]\n",
    "current_batch = first_eval_batch.reshape((1, n_input, n_features))\n",
    "\n",
    "for i in range(len(test)):\n",
    "    current_pred = model.predict(current_batch)[0]\n",
    "    \n",
    "    test_predictions.append(current_pred)\n",
    "    \n",
    "    current_batch = np.append(current_batch[:,1:,:],[[current_pred]], axis=1)\n",
    "    \n",
    "test_predictions"
   ]
  },
  {
   "cell_type": "code",
   "execution_count": 44,
   "metadata": {},
   "outputs": [
    {
     "data": {
      "text/html": [
       "<div>\n",
       "<style scoped>\n",
       "    .dataframe tbody tr th:only-of-type {\n",
       "        vertical-align: middle;\n",
       "    }\n",
       "\n",
       "    .dataframe tbody tr th {\n",
       "        vertical-align: top;\n",
       "    }\n",
       "\n",
       "    .dataframe thead th {\n",
       "        text-align: right;\n",
       "    }\n",
       "</style>\n",
       "<table border=\"1\" class=\"dataframe\">\n",
       "  <thead>\n",
       "    <tr style=\"text-align: right;\">\n",
       "      <th></th>\n",
       "      <th>PM2.5</th>\n",
       "    </tr>\n",
       "    <tr>\n",
       "      <th>date</th>\n",
       "      <th></th>\n",
       "    </tr>\n",
       "  </thead>\n",
       "  <tbody>\n",
       "    <tr>\n",
       "      <th>2020-01-10 18:00:00</th>\n",
       "      <td>152.82</td>\n",
       "    </tr>\n",
       "    <tr>\n",
       "      <th>2020-01-10 19:00:00</th>\n",
       "      <td>199.75</td>\n",
       "    </tr>\n",
       "    <tr>\n",
       "      <th>2020-01-10 20:00:00</th>\n",
       "      <td>238.45</td>\n",
       "    </tr>\n",
       "    <tr>\n",
       "      <th>2020-01-10 21:00:00</th>\n",
       "      <td>173.36</td>\n",
       "    </tr>\n",
       "    <tr>\n",
       "      <th>2020-01-10 22:00:00</th>\n",
       "      <td>107.83</td>\n",
       "    </tr>\n",
       "  </tbody>\n",
       "</table>\n",
       "</div>"
      ],
      "text/plain": [
       "                      PM2.5\n",
       "date                       \n",
       "2020-01-10 18:00:00  152.82\n",
       "2020-01-10 19:00:00  199.75\n",
       "2020-01-10 20:00:00  238.45\n",
       "2020-01-10 21:00:00  173.36\n",
       "2020-01-10 22:00:00  107.83"
      ]
     },
     "execution_count": 44,
     "metadata": {},
     "output_type": "execute_result"
    }
   ],
   "source": [
    "test.head()"
   ]
  },
  {
   "cell_type": "code",
   "execution_count": 45,
   "metadata": {},
   "outputs": [],
   "source": [
    "true_predictions = scaler.inverse_transform(test_predictions)\n",
    "\n",
    "test['recursive_predict'] = true_predictions"
   ]
  },
  {
   "cell_type": "code",
   "execution_count": 46,
   "metadata": {},
   "outputs": [
    {
     "data": {
      "text/plain": [
       "<AxesSubplot:xlabel='date'>"
      ]
     },
     "execution_count": 46,
     "metadata": {},
     "output_type": "execute_result"
    },
    {
     "data": {
      "image/png": "[encoded data removed]",
      "text/plain": [
       "<Figure size 432x288 with 1 Axes>"
      ]
     },
     "metadata": {
      "needs_background": "light"
     },
     "output_type": "display_data"
    }
   ],
   "source": [
    "test.plot()"
   ]
  },
  {
   "cell_type": "code",
   "execution_count": 47,
   "metadata": {},
   "outputs": [
    {
     "name": "stdout",
     "output_type": "stream",
     "text": [
      "57.28138240378495\n"
     ]
    }
   ],
   "source": [
    "rmse = sqrt(mean_squared_error(test['PM2.5'], test['recursive_predict']))\n",
    "print(rmse)"
   ]
  },
  {
   "cell_type": "code",
   "execution_count": 48,
   "metadata": {},
   "outputs": [
    {
     "data": {
      "text/html": [
       "<div>\n",
       "<style scoped>\n",
       "    .dataframe tbody tr th:only-of-type {\n",
       "        vertical-align: middle;\n",
       "    }\n",
       "\n",
       "    .dataframe tbody tr th {\n",
       "        vertical-align: top;\n",
       "    }\n",
       "\n",
       "    .dataframe thead th {\n",
       "        text-align: right;\n",
       "    }\n",
       "</style>\n",
       "<table border=\"1\" class=\"dataframe\">\n",
       "  <thead>\n",
       "    <tr style=\"text-align: right;\">\n",
       "      <th></th>\n",
       "      <th>PM2.5</th>\n",
       "      <th>recursive_predict</th>\n",
       "    </tr>\n",
       "    <tr>\n",
       "      <th>date</th>\n",
       "      <th></th>\n",
       "      <th></th>\n",
       "    </tr>\n",
       "  </thead>\n",
       "  <tbody>\n",
       "    <tr>\n",
       "      <th>2020-01-10 18:00:00</th>\n",
       "      <td>152.82</td>\n",
       "      <td>105.583450</td>\n",
       "    </tr>\n",
       "    <tr>\n",
       "      <th>2020-01-10 19:00:00</th>\n",
       "      <td>199.75</td>\n",
       "      <td>118.335220</td>\n",
       "    </tr>\n",
       "    <tr>\n",
       "      <th>2020-01-10 20:00:00</th>\n",
       "      <td>238.45</td>\n",
       "      <td>129.547570</td>\n",
       "    </tr>\n",
       "    <tr>\n",
       "      <th>2020-01-10 21:00:00</th>\n",
       "      <td>173.36</td>\n",
       "      <td>138.593959</td>\n",
       "    </tr>\n",
       "    <tr>\n",
       "      <th>2020-01-10 22:00:00</th>\n",
       "      <td>107.83</td>\n",
       "      <td>145.263503</td>\n",
       "    </tr>\n",
       "    <tr>\n",
       "      <th>2020-01-10 23:00:00</th>\n",
       "      <td>99.25</td>\n",
       "      <td>149.623076</td>\n",
       "    </tr>\n",
       "    <tr>\n",
       "      <th>2020-01-11 00:00:00</th>\n",
       "      <td>96.39</td>\n",
       "      <td>151.963685</td>\n",
       "    </tr>\n",
       "    <tr>\n",
       "      <th>2020-01-11 01:00:00</th>\n",
       "      <td>95.48</td>\n",
       "      <td>152.720466</td>\n",
       "    </tr>\n",
       "    <tr>\n",
       "      <th>2020-01-11 02:00:00</th>\n",
       "      <td>101.92</td>\n",
       "      <td>152.382561</td>\n",
       "    </tr>\n",
       "    <tr>\n",
       "      <th>2020-01-11 03:00:00</th>\n",
       "      <td>119.98</td>\n",
       "      <td>151.402441</td>\n",
       "    </tr>\n",
       "    <tr>\n",
       "      <th>2020-01-11 04:00:00</th>\n",
       "      <td>145.35</td>\n",
       "      <td>150.164680</td>\n",
       "    </tr>\n",
       "    <tr>\n",
       "      <th>2020-01-11 05:00:00</th>\n",
       "      <td>152.75</td>\n",
       "      <td>148.951200</td>\n",
       "    </tr>\n",
       "    <tr>\n",
       "      <th>2020-01-11 06:00:00</th>\n",
       "      <td>174.82</td>\n",
       "      <td>147.943071</td>\n",
       "    </tr>\n",
       "    <tr>\n",
       "      <th>2020-01-11 07:00:00</th>\n",
       "      <td>214.31</td>\n",
       "      <td>147.221993</td>\n",
       "    </tr>\n",
       "    <tr>\n",
       "      <th>2020-01-11 08:00:00</th>\n",
       "      <td>185.48</td>\n",
       "      <td>146.794314</td>\n",
       "    </tr>\n",
       "    <tr>\n",
       "      <th>2020-01-11 09:00:00</th>\n",
       "      <td>122.03</td>\n",
       "      <td>146.622024</td>\n",
       "    </tr>\n",
       "    <tr>\n",
       "      <th>2020-01-11 10:00:00</th>\n",
       "      <td>104.61</td>\n",
       "      <td>146.643273</td>\n",
       "    </tr>\n",
       "    <tr>\n",
       "      <th>2020-01-11 11:00:00</th>\n",
       "      <td>92.43</td>\n",
       "      <td>146.793227</td>\n",
       "    </tr>\n",
       "    <tr>\n",
       "      <th>2020-01-11 12:00:00</th>\n",
       "      <td>93.04</td>\n",
       "      <td>147.017598</td>\n",
       "    </tr>\n",
       "    <tr>\n",
       "      <th>2020-01-11 13:00:00</th>\n",
       "      <td>93.57</td>\n",
       "      <td>147.269500</td>\n",
       "    </tr>\n",
       "    <tr>\n",
       "      <th>2020-01-11 14:00:00</th>\n",
       "      <td>71.30</td>\n",
       "      <td>147.512935</td>\n",
       "    </tr>\n",
       "    <tr>\n",
       "      <th>2020-01-11 15:00:00</th>\n",
       "      <td>68.58</td>\n",
       "      <td>147.724253</td>\n",
       "    </tr>\n",
       "    <tr>\n",
       "      <th>2020-01-11 16:00:00</th>\n",
       "      <td>64.05</td>\n",
       "      <td>147.891847</td>\n",
       "    </tr>\n",
       "    <tr>\n",
       "      <th>2020-01-11 17:00:00</th>\n",
       "      <td>70.56</td>\n",
       "      <td>148.013489</td>\n",
       "    </tr>\n",
       "  </tbody>\n",
       "</table>\n",
       "</div>"
      ],
      "text/plain": [
       "                      PM2.5  recursive_predict\n",
       "date                                          \n",
       "2020-01-10 18:00:00  152.82         105.583450\n",
       "2020-01-10 19:00:00  199.75         118.335220\n",
       "2020-01-10 20:00:00  238.45         129.547570\n",
       "2020-01-10 21:00:00  173.36         138.593959\n",
       "2020-01-10 22:00:00  107.83         145.263503\n",
       "2020-01-10 23:00:00   99.25         149.623076\n",
       "2020-01-11 00:00:00   96.39         151.963685\n",
       "2020-01-11 01:00:00   95.48         152.720466\n",
       "2020-01-11 02:00:00  101.92         152.382561\n",
       "2020-01-11 03:00:00  119.98         151.402441\n",
       "2020-01-11 04:00:00  145.35         150.164680\n",
       "2020-01-11 05:00:00  152.75         148.951200\n",
       "2020-01-11 06:00:00  174.82         147.943071\n",
       "2020-01-11 07:00:00  214.31         147.221993\n",
       "2020-01-11 08:00:00  185.48         146.794314\n",
       "2020-01-11 09:00:00  122.03         146.622024\n",
       "2020-01-11 10:00:00  104.61         146.643273\n",
       "2020-01-11 11:00:00   92.43         146.793227\n",
       "2020-01-11 12:00:00   93.04         147.017598\n",
       "2020-01-11 13:00:00   93.57         147.269500\n",
       "2020-01-11 14:00:00   71.30         147.512935\n",
       "2020-01-11 15:00:00   68.58         147.724253\n",
       "2020-01-11 16:00:00   64.05         147.891847\n",
       "2020-01-11 17:00:00   70.56         148.013489"
      ]
     },
     "execution_count": 48,
     "metadata": {},
     "output_type": "execute_result"
    }
   ],
   "source": [
    "test"
   ]
  },
  {
   "cell_type": "markdown",
   "metadata": {},
   "source": [
    "# Direct Startegy"
   ]
  },
  {
   "cell_type": "code",
   "execution_count": 49,
   "metadata": {},
   "outputs": [],
   "source": [
    "def generate_data(data, n_input, month):\n",
    "    X, y = [], []\n",
    "    for i in range(0,len(data)-(n_input+month)):\n",
    "            X.append(data[i:i+n_input])\n",
    "            y.append(data[i+n_input+(month-1)])\n",
    "    return np.array(X), np.array(y)"
   ]
  },
  {
   "cell_type": "code",
   "execution_count": 50,
   "metadata": {},
   "outputs": [],
   "source": [
    "def model_predict(m_no, train_data, n_input, n_features):\n",
    "    \n",
    "    model = Sequential()\n",
    "    model.add(LSTM(200, activation='relu', input_shape=(n_input, n_features)))\n",
    "    model.add(Dense(1))\n",
    "    model.compile(optimizer='adam', loss='mse')\n",
    "    \n",
    "    X, y = generate_data(train_data, n_input, m_no)\n",
    "    \n",
    "    #print(\"MODEL : \", m_no)\n",
    "    #print(X[0], y[0])\n",
    "    \n",
    "    model.fit(X, y, epochs=3, verbose=0)\n",
    "    \n",
    "    tX = train_data[-n_input:]\n",
    "    \n",
    "    tX = tX.reshape((1, n_input, n_features))\n",
    "    \n",
    "    res = model.predict(tX)\n",
    "    \n",
    "    return res[0]"
   ]
  },
  {
   "cell_type": "code",
   "execution_count": 51,
   "metadata": {},
   "outputs": [
    {
     "name": "stdout",
     "output_type": "stream",
     "text": [
      "WARNING:tensorflow:5 out of the last 29 calls to <function Model.make_predict_function.<locals>.predict_function at 0x00000235D0894820> triggered tf.function retracing. Tracing is expensive and the excessive number of tracings could be due to (1) creating @tf.function repeatedly in a loop, (2) passing tensors with different shapes, (3) passing Python objects instead of tensors. For (1), please define your @tf.function outside of the loop. For (2), @tf.function has experimental_relax_shapes=True option that relaxes argument shapes that can avoid unnecessary retracing. For (3), please refer to https://www.tensorflow.org/guide/function#controlling_retracing and https://www.tensorflow.org/api_docs/python/tf/function for  more details.\n",
      "WARNING:tensorflow:6 out of the last 30 calls to <function Model.make_predict_function.<locals>.predict_function at 0x00000235D37E9670> triggered tf.function retracing. Tracing is expensive and the excessive number of tracings could be due to (1) creating @tf.function repeatedly in a loop, (2) passing tensors with different shapes, (3) passing Python objects instead of tensors. For (1), please define your @tf.function outside of the loop. For (2), @tf.function has experimental_relax_shapes=True option that relaxes argument shapes that can avoid unnecessary retracing. For (3), please refer to https://www.tensorflow.org/guide/function#controlling_retracing and https://www.tensorflow.org/api_docs/python/tf/function for  more details.\n"
     ]
    },
    {
     "data": {
      "text/plain": [
       "[array([0.22042194], dtype=float32),\n",
       " array([0.23333642], dtype=float32),\n",
       " array([0.261517], dtype=float32),\n",
       " array([0.25187048], dtype=float32),\n",
       " array([0.25267157], dtype=float32),\n",
       " array([0.22953513], dtype=float32),\n",
       " array([0.27166337], dtype=float32),\n",
       " array([0.3072129], dtype=float32),\n",
       " array([0.27493113], dtype=float32),\n",
       " array([0.25255126], dtype=float32),\n",
       " array([0.25506714], dtype=float32),\n",
       " array([0.25862727], dtype=float32),\n",
       " array([0.27384382], dtype=float32),\n",
       " array([0.2720268], dtype=float32),\n",
       " array([0.30128428], dtype=float32),\n",
       " array([0.2445547], dtype=float32),\n",
       " array([0.29013294], dtype=float32),\n",
       " array([0.27117035], dtype=float32),\n",
       " array([0.23529252], dtype=float32),\n",
       " array([0.26365227], dtype=float32),\n",
       " array([0.26575094], dtype=float32),\n",
       " array([0.2607933], dtype=float32),\n",
       " array([0.23446308], dtype=float32),\n",
       " array([0.30083036], dtype=float32)]"
      ]
     },
     "execution_count": 51,
     "metadata": {},
     "output_type": "execute_result"
    }
   ],
   "source": [
    "n_input = 24\n",
    "n_features = 1\n",
    "test_predictions = []\n",
    "\n",
    "for i in range(len(scaled_test)):\n",
    "    test_predictions.append(model_predict(i+1,scaled_train,n_input, n_features))\n",
    "    \n",
    "test_predictions"
   ]
  },
  {
   "cell_type": "code",
   "execution_count": 52,
   "metadata": {},
   "outputs": [],
   "source": [
    "true_predictions = scaler.inverse_transform(test_predictions)\n",
    "\n",
    "test['direct_predict'] = true_predictions"
   ]
  },
  {
   "cell_type": "code",
   "execution_count": 53,
   "metadata": {},
   "outputs": [
    {
     "data": {
      "text/plain": [
       "<AxesSubplot:xlabel='date'>"
      ]
     },
     "execution_count": 53,
     "metadata": {},
     "output_type": "execute_result"
    },
    {
     "data": {
      "image/png": "[encoded data removed]",
      "text/plain": [
       "<Figure size 432x288 with 1 Axes>"
      ]
     },
     "metadata": {
      "needs_background": "light"
     },
     "output_type": "display_data"
    }
   ],
   "source": [
    "test.plot()"
   ]
  },
  {
   "cell_type": "code",
   "execution_count": 54,
   "metadata": {},
   "outputs": [
    {
     "name": "stdout",
     "output_type": "stream",
     "text": [
      "49.69697599678672\n"
     ]
    }
   ],
   "source": [
    "rmse = sqrt(mean_squared_error(test['PM2.5'], test['direct_predict']))\n",
    "print(rmse)"
   ]
  },
  {
   "cell_type": "code",
   "execution_count": 55,
   "metadata": {},
   "outputs": [
    {
     "data": {
      "text/html": [
       "<div>\n",
       "<style scoped>\n",
       "    .dataframe tbody tr th:only-of-type {\n",
       "        vertical-align: middle;\n",
       "    }\n",
       "\n",
       "    .dataframe tbody tr th {\n",
       "        vertical-align: top;\n",
       "    }\n",
       "\n",
       "    .dataframe thead th {\n",
       "        text-align: right;\n",
       "    }\n",
       "</style>\n",
       "<table border=\"1\" class=\"dataframe\">\n",
       "  <thead>\n",
       "    <tr style=\"text-align: right;\">\n",
       "      <th></th>\n",
       "      <th>PM2.5</th>\n",
       "      <th>recursive_predict</th>\n",
       "      <th>direct_predict</th>\n",
       "    </tr>\n",
       "    <tr>\n",
       "      <th>date</th>\n",
       "      <th></th>\n",
       "      <th></th>\n",
       "      <th></th>\n",
       "    </tr>\n",
       "  </thead>\n",
       "  <tbody>\n",
       "    <tr>\n",
       "      <th>2020-01-10 18:00:00</th>\n",
       "      <td>152.82</td>\n",
       "      <td>105.583450</td>\n",
       "      <td>114.245677</td>\n",
       "    </tr>\n",
       "    <tr>\n",
       "      <th>2020-01-10 19:00:00</th>\n",
       "      <td>199.75</td>\n",
       "      <td>118.335220</td>\n",
       "      <td>118.955459</td>\n",
       "    </tr>\n",
       "    <tr>\n",
       "      <th>2020-01-10 20:00:00</th>\n",
       "      <td>238.45</td>\n",
       "      <td>129.547570</td>\n",
       "      <td>129.232630</td>\n",
       "    </tr>\n",
       "    <tr>\n",
       "      <th>2020-01-10 21:00:00</th>\n",
       "      <td>173.36</td>\n",
       "      <td>138.593959</td>\n",
       "      <td>125.714647</td>\n",
       "    </tr>\n",
       "    <tr>\n",
       "      <th>2020-01-10 22:00:00</th>\n",
       "      <td>107.83</td>\n",
       "      <td>145.263503</td>\n",
       "      <td>126.006795</td>\n",
       "    </tr>\n",
       "    <tr>\n",
       "      <th>2020-01-10 23:00:00</th>\n",
       "      <td>99.25</td>\n",
       "      <td>149.623076</td>\n",
       "      <td>117.569168</td>\n",
       "    </tr>\n",
       "    <tr>\n",
       "      <th>2020-01-11 00:00:00</th>\n",
       "      <td>96.39</td>\n",
       "      <td>151.963685</td>\n",
       "      <td>132.932914</td>\n",
       "    </tr>\n",
       "    <tr>\n",
       "      <th>2020-01-11 01:00:00</th>\n",
       "      <td>95.48</td>\n",
       "      <td>152.720466</td>\n",
       "      <td>145.897469</td>\n",
       "    </tr>\n",
       "    <tr>\n",
       "      <th>2020-01-11 02:00:00</th>\n",
       "      <td>101.92</td>\n",
       "      <td>152.382561</td>\n",
       "      <td>134.124635</td>\n",
       "    </tr>\n",
       "    <tr>\n",
       "      <th>2020-01-11 03:00:00</th>\n",
       "      <td>119.98</td>\n",
       "      <td>151.402441</td>\n",
       "      <td>125.962918</td>\n",
       "    </tr>\n",
       "    <tr>\n",
       "      <th>2020-01-11 04:00:00</th>\n",
       "      <td>145.35</td>\n",
       "      <td>150.164680</td>\n",
       "      <td>126.880435</td>\n",
       "    </tr>\n",
       "    <tr>\n",
       "      <th>2020-01-11 05:00:00</th>\n",
       "      <td>152.75</td>\n",
       "      <td>148.951200</td>\n",
       "      <td>128.178778</td>\n",
       "    </tr>\n",
       "    <tr>\n",
       "      <th>2020-01-11 06:00:00</th>\n",
       "      <td>174.82</td>\n",
       "      <td>147.943071</td>\n",
       "      <td>133.728104</td>\n",
       "    </tr>\n",
       "    <tr>\n",
       "      <th>2020-01-11 07:00:00</th>\n",
       "      <td>214.31</td>\n",
       "      <td>147.221993</td>\n",
       "      <td>133.065456</td>\n",
       "    </tr>\n",
       "    <tr>\n",
       "      <th>2020-01-11 08:00:00</th>\n",
       "      <td>185.48</td>\n",
       "      <td>146.794314</td>\n",
       "      <td>143.735365</td>\n",
       "    </tr>\n",
       "    <tr>\n",
       "      <th>2020-01-11 09:00:00</th>\n",
       "      <td>122.03</td>\n",
       "      <td>146.622024</td>\n",
       "      <td>123.046653</td>\n",
       "    </tr>\n",
       "    <tr>\n",
       "      <th>2020-01-11 10:00:00</th>\n",
       "      <td>104.61</td>\n",
       "      <td>146.643273</td>\n",
       "      <td>139.668582</td>\n",
       "    </tr>\n",
       "    <tr>\n",
       "      <th>2020-01-11 11:00:00</th>\n",
       "      <td>92.43</td>\n",
       "      <td>146.793227</td>\n",
       "      <td>132.753114</td>\n",
       "    </tr>\n",
       "    <tr>\n",
       "      <th>2020-01-11 12:00:00</th>\n",
       "      <td>93.04</td>\n",
       "      <td>147.017598</td>\n",
       "      <td>119.668831</td>\n",
       "    </tr>\n",
       "    <tr>\n",
       "      <th>2020-01-11 13:00:00</th>\n",
       "      <td>93.57</td>\n",
       "      <td>147.269500</td>\n",
       "      <td>130.011345</td>\n",
       "    </tr>\n",
       "    <tr>\n",
       "      <th>2020-01-11 14:00:00</th>\n",
       "      <td>71.30</td>\n",
       "      <td>147.512935</td>\n",
       "      <td>130.776712</td>\n",
       "    </tr>\n",
       "    <tr>\n",
       "      <th>2020-01-11 15:00:00</th>\n",
       "      <td>68.58</td>\n",
       "      <td>147.724253</td>\n",
       "      <td>128.968708</td>\n",
       "    </tr>\n",
       "    <tr>\n",
       "      <th>2020-01-11 16:00:00</th>\n",
       "      <td>64.05</td>\n",
       "      <td>147.891847</td>\n",
       "      <td>119.366341</td>\n",
       "    </tr>\n",
       "    <tr>\n",
       "      <th>2020-01-11 17:00:00</th>\n",
       "      <td>70.56</td>\n",
       "      <td>148.013489</td>\n",
       "      <td>143.569826</td>\n",
       "    </tr>\n",
       "  </tbody>\n",
       "</table>\n",
       "</div>"
      ],
      "text/plain": [
       "                      PM2.5  recursive_predict  direct_predict\n",
       "date                                                          \n",
       "2020-01-10 18:00:00  152.82         105.583450      114.245677\n",
       "2020-01-10 19:00:00  199.75         118.335220      118.955459\n",
       "2020-01-10 20:00:00  238.45         129.547570      129.232630\n",
       "2020-01-10 21:00:00  173.36         138.593959      125.714647\n",
       "2020-01-10 22:00:00  107.83         145.263503      126.006795\n",
       "2020-01-10 23:00:00   99.25         149.623076      117.569168\n",
       "2020-01-11 00:00:00   96.39         151.963685      132.932914\n",
       "2020-01-11 01:00:00   95.48         152.720466      145.897469\n",
       "2020-01-11 02:00:00  101.92         152.382561      134.124635\n",
       "2020-01-11 03:00:00  119.98         151.402441      125.962918\n",
       "2020-01-11 04:00:00  145.35         150.164680      126.880435\n",
       "2020-01-11 05:00:00  152.75         148.951200      128.178778\n",
       "2020-01-11 06:00:00  174.82         147.943071      133.728104\n",
       "2020-01-11 07:00:00  214.31         147.221993      133.065456\n",
       "2020-01-11 08:00:00  185.48         146.794314      143.735365\n",
       "2020-01-11 09:00:00  122.03         146.622024      123.046653\n",
       "2020-01-11 10:00:00  104.61         146.643273      139.668582\n",
       "2020-01-11 11:00:00   92.43         146.793227      132.753114\n",
       "2020-01-11 12:00:00   93.04         147.017598      119.668831\n",
       "2020-01-11 13:00:00   93.57         147.269500      130.011345\n",
       "2020-01-11 14:00:00   71.30         147.512935      130.776712\n",
       "2020-01-11 15:00:00   68.58         147.724253      128.968708\n",
       "2020-01-11 16:00:00   64.05         147.891847      119.366341\n",
       "2020-01-11 17:00:00   70.56         148.013489      143.569826"
      ]
     },
     "execution_count": 55,
     "metadata": {},
     "output_type": "execute_result"
    }
   ],
   "source": [
    "test"
   ]
  },
  {
   "cell_type": "markdown",
   "metadata": {},
   "source": [
    "# Direct Recursive Startegy"
   ]
  },
  {
   "cell_type": "code",
   "execution_count": 56,
   "metadata": {},
   "outputs": [],
   "source": [
    "def generate_data(data, n_input, month):\n",
    "    X, y = [], []\n",
    "    for i in range(0,len(data)-(n_input+month)):\n",
    "            X.append(data[i:i+n_input+(month-1)])\n",
    "            y.append(data[i+n_input+(month-1)])\n",
    "    return np.array(X), np.array(y)"
   ]
  },
  {
   "cell_type": "code",
   "execution_count": 57,
   "metadata": {},
   "outputs": [],
   "source": [
    "def model_predict(m_no, train_data, n_input, n_features):\n",
    "    \n",
    "    model = Sequential()\n",
    "    model.add(LSTM(200, activation='relu', input_shape=(n_input+(m_no - 1), n_features)))\n",
    "    model.add(Dense(1))\n",
    "    model.compile(optimizer='adam', loss='mse')\n",
    "    \n",
    "    X, y = generate_data(train_data, n_input, m_no)\n",
    "    #print(y.dtype)\n",
    "    \n",
    "    #print(\"Model No.  - \", m_no)\n",
    "    #print(X[0], y[0])\n",
    "    #print(\"SHAPE XY : \", X.shape, y.shape)\n",
    "    \n",
    "    model.fit(X, y, epochs=3, verbose=0)\n",
    "    \n",
    "    tX = train_data[-n_input:]\n",
    "    tP = np.array(test_predictions)\n",
    "    \n",
    "    tX = np.concatenate((tX, tP), axis=None)\n",
    "    \n",
    "    #print(\"TYPE : \", type(tX), type(tP))\n",
    "    \n",
    "    #print(\"TX : \", tX)\n",
    "        \n",
    "    #print(\"SHAPE : \" , tX.shape)\n",
    "    \n",
    "    tX = tX.reshape((1, tX.shape[0], n_features))\n",
    "    \n",
    "    res = model.predict(tX)\n",
    "    \n",
    "    return res[0]"
   ]
  },
  {
   "cell_type": "code",
   "execution_count": 58,
   "metadata": {},
   "outputs": [
    {
     "data": {
      "text/plain": [
       "[array([0.20184639], dtype=float32),\n",
       " array([0.23840626], dtype=float32),\n",
       " array([0.26386443], dtype=float32),\n",
       " array([0.248038], dtype=float32),\n",
       " array([0.2493112], dtype=float32),\n",
       " array([0.2479063], dtype=float32),\n",
       " array([0.2793303], dtype=float32),\n",
       " array([0.2418971], dtype=float32),\n",
       " array([0.2323165], dtype=float32),\n",
       " array([0.24767405], dtype=float32),\n",
       " array([0.25710353], dtype=float32),\n",
       " array([0.26750106], dtype=float32),\n",
       " array([0.29079545], dtype=float32),\n",
       " array([0.29787144], dtype=float32),\n",
       " array([0.27063632], dtype=float32),\n",
       " array([0.29601562], dtype=float32),\n",
       " array([0.28799066], dtype=float32),\n",
       " array([0.30698192], dtype=float32),\n",
       " array([0.32591176], dtype=float32),\n",
       " array([0.29454857], dtype=float32),\n",
       " array([0.2964298], dtype=float32),\n",
       " array([0.28332156], dtype=float32),\n",
       " array([0.32768202], dtype=float32),\n",
       " array([0.2841945], dtype=float32)]"
      ]
     },
     "execution_count": 58,
     "metadata": {},
     "output_type": "execute_result"
    }
   ],
   "source": [
    "n_input = 24\n",
    "n_features = 1\n",
    "test_predictions = []\n",
    "\n",
    "for i in range(len(scaled_test)):\n",
    "    pred = model_predict(i+1,scaled_train,n_input, n_features)\n",
    "    test_predictions.append(pred)\n",
    "    \n",
    "test_predictions"
   ]
  },
  {
   "cell_type": "code",
   "execution_count": 59,
   "metadata": {},
   "outputs": [],
   "source": [
    "true_predictions = scaler.inverse_transform(test_predictions)\n",
    "\n",
    "test['direct_recursive_predict'] = true_predictions"
   ]
  },
  {
   "cell_type": "code",
   "execution_count": 60,
   "metadata": {},
   "outputs": [
    {
     "data": {
      "text/plain": [
       "<AxesSubplot:xlabel='date'>"
      ]
     },
     "execution_count": 60,
     "metadata": {},
     "output_type": "execute_result"
    },
    {
     "data": {
      "image/png": "[encoded data removed]",
      "text/plain": [
       "<Figure size 432x288 with 1 Axes>"
      ]
     },
     "metadata": {
      "needs_background": "light"
     },
     "output_type": "display_data"
    }
   ],
   "source": [
    "test.plot()"
   ]
  },
  {
   "cell_type": "code",
   "execution_count": 61,
   "metadata": {},
   "outputs": [
    {
     "name": "stdout",
     "output_type": "stream",
     "text": [
      "53.33013629855533\n"
     ]
    }
   ],
   "source": [
    "rmse = sqrt(mean_squared_error(test['PM2.5'], test['direct_recursive_predict']))\n",
    "print(rmse)"
   ]
  },
  {
   "cell_type": "code",
   "execution_count": 62,
   "metadata": {},
   "outputs": [
    {
     "data": {
      "text/html": [
       "<div>\n",
       "<style scoped>\n",
       "    .dataframe tbody tr th:only-of-type {\n",
       "        vertical-align: middle;\n",
       "    }\n",
       "\n",
       "    .dataframe tbody tr th {\n",
       "        vertical-align: top;\n",
       "    }\n",
       "\n",
       "    .dataframe thead th {\n",
       "        text-align: right;\n",
       "    }\n",
       "</style>\n",
       "<table border=\"1\" class=\"dataframe\">\n",
       "  <thead>\n",
       "    <tr style=\"text-align: right;\">\n",
       "      <th></th>\n",
       "      <th>PM2.5</th>\n",
       "      <th>recursive_predict</th>\n",
       "      <th>direct_predict</th>\n",
       "      <th>direct_recursive_predict</th>\n",
       "    </tr>\n",
       "    <tr>\n",
       "      <th>date</th>\n",
       "      <th></th>\n",
       "      <th></th>\n",
       "      <th></th>\n",
       "      <th></th>\n",
       "    </tr>\n",
       "  </thead>\n",
       "  <tbody>\n",
       "    <tr>\n",
       "      <th>2020-01-10 18:00:00</th>\n",
       "      <td>152.82</td>\n",
       "      <td>105.583450</td>\n",
       "      <td>114.245677</td>\n",
       "      <td>107.471360</td>\n",
       "    </tr>\n",
       "    <tr>\n",
       "      <th>2020-01-10 19:00:00</th>\n",
       "      <td>199.75</td>\n",
       "      <td>118.335220</td>\n",
       "      <td>118.955459</td>\n",
       "      <td>120.804377</td>\n",
       "    </tr>\n",
       "    <tr>\n",
       "      <th>2020-01-10 20:00:00</th>\n",
       "      <td>238.45</td>\n",
       "      <td>129.547570</td>\n",
       "      <td>129.232630</td>\n",
       "      <td>130.088718</td>\n",
       "    </tr>\n",
       "    <tr>\n",
       "      <th>2020-01-10 21:00:00</th>\n",
       "      <td>173.36</td>\n",
       "      <td>138.593959</td>\n",
       "      <td>125.714647</td>\n",
       "      <td>124.316976</td>\n",
       "    </tr>\n",
       "    <tr>\n",
       "      <th>2020-01-10 22:00:00</th>\n",
       "      <td>107.83</td>\n",
       "      <td>145.263503</td>\n",
       "      <td>126.006795</td>\n",
       "      <td>124.781299</td>\n",
       "    </tr>\n",
       "    <tr>\n",
       "      <th>2020-01-10 23:00:00</th>\n",
       "      <td>99.25</td>\n",
       "      <td>149.623076</td>\n",
       "      <td>117.569168</td>\n",
       "      <td>124.268948</td>\n",
       "    </tr>\n",
       "    <tr>\n",
       "      <th>2020-01-11 00:00:00</th>\n",
       "      <td>96.39</td>\n",
       "      <td>151.963685</td>\n",
       "      <td>132.932914</td>\n",
       "      <td>135.728972</td>\n",
       "    </tr>\n",
       "    <tr>\n",
       "      <th>2020-01-11 01:00:00</th>\n",
       "      <td>95.48</td>\n",
       "      <td>152.720466</td>\n",
       "      <td>145.897469</td>\n",
       "      <td>122.077456</td>\n",
       "    </tr>\n",
       "    <tr>\n",
       "      <th>2020-01-11 02:00:00</th>\n",
       "      <td>101.92</td>\n",
       "      <td>152.382561</td>\n",
       "      <td>134.124635</td>\n",
       "      <td>118.583502</td>\n",
       "    </tr>\n",
       "    <tr>\n",
       "      <th>2020-01-11 03:00:00</th>\n",
       "      <td>119.98</td>\n",
       "      <td>151.402441</td>\n",
       "      <td>125.962918</td>\n",
       "      <td>124.184249</td>\n",
       "    </tr>\n",
       "    <tr>\n",
       "      <th>2020-01-11 04:00:00</th>\n",
       "      <td>145.35</td>\n",
       "      <td>150.164680</td>\n",
       "      <td>126.880435</td>\n",
       "      <td>127.623087</td>\n",
       "    </tr>\n",
       "    <tr>\n",
       "      <th>2020-01-11 05:00:00</th>\n",
       "      <td>152.75</td>\n",
       "      <td>148.951200</td>\n",
       "      <td>128.178778</td>\n",
       "      <td>131.414960</td>\n",
       "    </tr>\n",
       "    <tr>\n",
       "      <th>2020-01-11 06:00:00</th>\n",
       "      <td>174.82</td>\n",
       "      <td>147.943071</td>\n",
       "      <td>133.728104</td>\n",
       "      <td>139.910191</td>\n",
       "    </tr>\n",
       "    <tr>\n",
       "      <th>2020-01-11 07:00:00</th>\n",
       "      <td>214.31</td>\n",
       "      <td>147.221993</td>\n",
       "      <td>133.065456</td>\n",
       "      <td>142.490736</td>\n",
       "    </tr>\n",
       "    <tr>\n",
       "      <th>2020-01-11 08:00:00</th>\n",
       "      <td>185.48</td>\n",
       "      <td>146.794314</td>\n",
       "      <td>143.735365</td>\n",
       "      <td>132.558360</td>\n",
       "    </tr>\n",
       "    <tr>\n",
       "      <th>2020-01-11 09:00:00</th>\n",
       "      <td>122.03</td>\n",
       "      <td>146.622024</td>\n",
       "      <td>123.046653</td>\n",
       "      <td>141.813937</td>\n",
       "    </tr>\n",
       "    <tr>\n",
       "      <th>2020-01-11 10:00:00</th>\n",
       "      <td>104.61</td>\n",
       "      <td>146.643273</td>\n",
       "      <td>139.668582</td>\n",
       "      <td>138.887314</td>\n",
       "    </tr>\n",
       "    <tr>\n",
       "      <th>2020-01-11 11:00:00</th>\n",
       "      <td>92.43</td>\n",
       "      <td>146.793227</td>\n",
       "      <td>132.753114</td>\n",
       "      <td>145.813237</td>\n",
       "    </tr>\n",
       "    <tr>\n",
       "      <th>2020-01-11 12:00:00</th>\n",
       "      <td>93.04</td>\n",
       "      <td>147.017598</td>\n",
       "      <td>119.668831</td>\n",
       "      <td>152.716760</td>\n",
       "    </tr>\n",
       "    <tr>\n",
       "      <th>2020-01-11 13:00:00</th>\n",
       "      <td>93.57</td>\n",
       "      <td>147.269500</td>\n",
       "      <td>130.011345</td>\n",
       "      <td>141.278918</td>\n",
       "    </tr>\n",
       "    <tr>\n",
       "      <th>2020-01-11 14:00:00</th>\n",
       "      <td>71.30</td>\n",
       "      <td>147.512935</td>\n",
       "      <td>130.776712</td>\n",
       "      <td>141.964988</td>\n",
       "    </tr>\n",
       "    <tr>\n",
       "      <th>2020-01-11 15:00:00</th>\n",
       "      <td>68.58</td>\n",
       "      <td>147.724253</td>\n",
       "      <td>128.968708</td>\n",
       "      <td>137.184540</td>\n",
       "    </tr>\n",
       "    <tr>\n",
       "      <th>2020-01-11 16:00:00</th>\n",
       "      <td>64.05</td>\n",
       "      <td>147.891847</td>\n",
       "      <td>119.366341</td>\n",
       "      <td>153.362355</td>\n",
       "    </tr>\n",
       "    <tr>\n",
       "      <th>2020-01-11 17:00:00</th>\n",
       "      <td>70.56</td>\n",
       "      <td>148.013489</td>\n",
       "      <td>143.569826</td>\n",
       "      <td>137.502892</td>\n",
       "    </tr>\n",
       "  </tbody>\n",
       "</table>\n",
       "</div>"
      ],
      "text/plain": [
       "                      PM2.5  recursive_predict  direct_predict  \\\n",
       "date                                                             \n",
       "2020-01-10 18:00:00  152.82         105.583450      114.245677   \n",
       "2020-01-10 19:00:00  199.75         118.335220      118.955459   \n",
       "2020-01-10 20:00:00  238.45         129.547570      129.232630   \n",
       "2020-01-10 21:00:00  173.36         138.593959      125.714647   \n",
       "2020-01-10 22:00:00  107.83         145.263503      126.006795   \n",
       "2020-01-10 23:00:00   99.25         149.623076      117.569168   \n",
       "2020-01-11 00:00:00   96.39         151.963685      132.932914   \n",
       "2020-01-11 01:00:00   95.48         152.720466      145.897469   \n",
       "2020-01-11 02:00:00  101.92         152.382561      134.124635   \n",
       "2020-01-11 03:00:00  119.98         151.402441      125.962918   \n",
       "2020-01-11 04:00:00  145.35         150.164680      126.880435   \n",
       "2020-01-11 05:00:00  152.75         148.951200      128.178778   \n",
       "2020-01-11 06:00:00  174.82         147.943071      133.728104   \n",
       "2020-01-11 07:00:00  214.31         147.221993      133.065456   \n",
       "2020-01-11 08:00:00  185.48         146.794314      143.735365   \n",
       "2020-01-11 09:00:00  122.03         146.622024      123.046653   \n",
       "2020-01-11 10:00:00  104.61         146.643273      139.668582   \n",
       "2020-01-11 11:00:00   92.43         146.793227      132.753114   \n",
       "2020-01-11 12:00:00   93.04         147.017598      119.668831   \n",
       "2020-01-11 13:00:00   93.57         147.269500      130.011345   \n",
       "2020-01-11 14:00:00   71.30         147.512935      130.776712   \n",
       "2020-01-11 15:00:00   68.58         147.724253      128.968708   \n",
       "2020-01-11 16:00:00   64.05         147.891847      119.366341   \n",
       "2020-01-11 17:00:00   70.56         148.013489      143.569826   \n",
       "\n",
       "                     direct_recursive_predict  \n",
       "date                                           \n",
       "2020-01-10 18:00:00                107.471360  \n",
       "2020-01-10 19:00:00                120.804377  \n",
       "2020-01-10 20:00:00                130.088718  \n",
       "2020-01-10 21:00:00                124.316976  \n",
       "2020-01-10 22:00:00                124.781299  \n",
       "2020-01-10 23:00:00                124.268948  \n",
       "2020-01-11 00:00:00                135.728972  \n",
       "2020-01-11 01:00:00                122.077456  \n",
       "2020-01-11 02:00:00                118.583502  \n",
       "2020-01-11 03:00:00                124.184249  \n",
       "2020-01-11 04:00:00                127.623087  \n",
       "2020-01-11 05:00:00                131.414960  \n",
       "2020-01-11 06:00:00                139.910191  \n",
       "2020-01-11 07:00:00                142.490736  \n",
       "2020-01-11 08:00:00                132.558360  \n",
       "2020-01-11 09:00:00                141.813937  \n",
       "2020-01-11 10:00:00                138.887314  \n",
       "2020-01-11 11:00:00                145.813237  \n",
       "2020-01-11 12:00:00                152.716760  \n",
       "2020-01-11 13:00:00                141.278918  \n",
       "2020-01-11 14:00:00                141.964988  \n",
       "2020-01-11 15:00:00                137.184540  \n",
       "2020-01-11 16:00:00                153.362355  \n",
       "2020-01-11 17:00:00                137.502892  "
      ]
     },
     "execution_count": 62,
     "metadata": {},
     "output_type": "execute_result"
    }
   ],
   "source": [
    "test"
   ]
  },
  {
   "cell_type": "markdown",
   "metadata": {},
   "source": [
    "# MIMO"
   ]
  },
  {
   "cell_type": "code",
   "execution_count": 63,
   "metadata": {},
   "outputs": [],
   "source": [
    "def generate_data(data, n_input, n_output):\n",
    "    X, y = [], []\n",
    "    for i in range(0,len(data)-(n_input+n_output)):\n",
    "            X.append(data[i:(i+n_input)])\n",
    "            y.append(data[i+n_input: i+n_input+n_output])\n",
    "    return np.array(X), np.array(y)"
   ]
  },
  {
   "cell_type": "code",
   "execution_count": 64,
   "metadata": {},
   "outputs": [],
   "source": [
    "n_input = 24\n",
    "n_features = 1\n",
    "n_output = len(scaled_test)\n",
    "\n",
    "X, y = generate_data(scaled_train, n_input, n_output)"
   ]
  },
  {
   "cell_type": "code",
   "execution_count": 65,
   "metadata": {},
   "outputs": [],
   "source": [
    "model = Sequential()\n",
    "model.add(LSTM(200, activation='relu', input_shape=(n_input, n_features)))\n",
    "model.add(Dense(n_output))\n",
    "model.compile(optimizer='adam', loss='mse')"
   ]
  },
  {
   "cell_type": "code",
   "execution_count": 66,
   "metadata": {},
   "outputs": [
    {
     "data": {
      "text/plain": [
       "<keras.callbacks.History at 0x235d3730b80>"
      ]
     },
     "execution_count": 66,
     "metadata": {},
     "output_type": "execute_result"
    }
   ],
   "source": [
    "model.fit(X, y, epochs=3, verbose=0)"
   ]
  },
  {
   "cell_type": "code",
   "execution_count": 67,
   "metadata": {},
   "outputs": [
    {
     "name": "stdout",
     "output_type": "stream",
     "text": [
      "Model: \"sequential_49\"\n",
      "_________________________________________________________________\n",
      "Layer (type)                 Output Shape              Param #   \n",
      "=================================================================\n",
      "lstm_49 (LSTM)               (None, 200)               161600    \n",
      "_________________________________________________________________\n",
      "dense_49 (Dense)             (None, 24)                4824      \n",
      "=================================================================\n",
      "Total params: 166,424\n",
      "Trainable params: 166,424\n",
      "Non-trainable params: 0\n",
      "_________________________________________________________________\n"
     ]
    }
   ],
   "source": [
    "model.summary()"
   ]
  },
  {
   "cell_type": "code",
   "execution_count": 68,
   "metadata": {},
   "outputs": [],
   "source": [
    "tX = scaled_train[-n_input:]\n",
    "tX = tX.reshape((1, tX.shape[0], n_features))\n",
    "\n",
    "res = model.predict(tX)\n",
    "\n",
    "res = res.reshape((res.shape[1],1))"
   ]
  },
  {
   "cell_type": "code",
   "execution_count": 69,
   "metadata": {},
   "outputs": [
    {
     "data": {
      "text/plain": [
       "(24, 1)"
      ]
     },
     "execution_count": 69,
     "metadata": {},
     "output_type": "execute_result"
    }
   ],
   "source": [
    "res.shape"
   ]
  },
  {
   "cell_type": "code",
   "execution_count": 70,
   "metadata": {},
   "outputs": [],
   "source": [
    "true_predictions = scaler.inverse_transform(res)\n",
    "\n",
    "test['MIMO_predict'] = true_predictions"
   ]
  },
  {
   "cell_type": "code",
   "execution_count": 71,
   "metadata": {},
   "outputs": [
    {
     "data": {
      "text/html": [
       "<div>\n",
       "<style scoped>\n",
       "    .dataframe tbody tr th:only-of-type {\n",
       "        vertical-align: middle;\n",
       "    }\n",
       "\n",
       "    .dataframe tbody tr th {\n",
       "        vertical-align: top;\n",
       "    }\n",
       "\n",
       "    .dataframe thead th {\n",
       "        text-align: right;\n",
       "    }\n",
       "</style>\n",
       "<table border=\"1\" class=\"dataframe\">\n",
       "  <thead>\n",
       "    <tr style=\"text-align: right;\">\n",
       "      <th></th>\n",
       "      <th>PM2.5</th>\n",
       "      <th>recursive_predict</th>\n",
       "      <th>direct_predict</th>\n",
       "      <th>direct_recursive_predict</th>\n",
       "      <th>MIMO_predict</th>\n",
       "    </tr>\n",
       "    <tr>\n",
       "      <th>date</th>\n",
       "      <th></th>\n",
       "      <th></th>\n",
       "      <th></th>\n",
       "      <th></th>\n",
       "      <th></th>\n",
       "    </tr>\n",
       "  </thead>\n",
       "  <tbody>\n",
       "    <tr>\n",
       "      <th>2020-01-10 18:00:00</th>\n",
       "      <td>152.82</td>\n",
       "      <td>105.583450</td>\n",
       "      <td>114.245677</td>\n",
       "      <td>107.471360</td>\n",
       "      <td>148.848694</td>\n",
       "    </tr>\n",
       "    <tr>\n",
       "      <th>2020-01-10 19:00:00</th>\n",
       "      <td>199.75</td>\n",
       "      <td>118.335220</td>\n",
       "      <td>118.955459</td>\n",
       "      <td>120.804377</td>\n",
       "      <td>142.164658</td>\n",
       "    </tr>\n",
       "    <tr>\n",
       "      <th>2020-01-10 20:00:00</th>\n",
       "      <td>238.45</td>\n",
       "      <td>129.547570</td>\n",
       "      <td>129.232630</td>\n",
       "      <td>130.088718</td>\n",
       "      <td>146.125961</td>\n",
       "    </tr>\n",
       "    <tr>\n",
       "      <th>2020-01-10 21:00:00</th>\n",
       "      <td>173.36</td>\n",
       "      <td>138.593959</td>\n",
       "      <td>125.714647</td>\n",
       "      <td>124.316976</td>\n",
       "      <td>147.734665</td>\n",
       "    </tr>\n",
       "    <tr>\n",
       "      <th>2020-01-10 22:00:00</th>\n",
       "      <td>107.83</td>\n",
       "      <td>145.263503</td>\n",
       "      <td>126.006795</td>\n",
       "      <td>124.781299</td>\n",
       "      <td>147.201920</td>\n",
       "    </tr>\n",
       "    <tr>\n",
       "      <th>2020-01-10 23:00:00</th>\n",
       "      <td>99.25</td>\n",
       "      <td>149.623076</td>\n",
       "      <td>117.569168</td>\n",
       "      <td>124.268948</td>\n",
       "      <td>153.053894</td>\n",
       "    </tr>\n",
       "    <tr>\n",
       "      <th>2020-01-11 00:00:00</th>\n",
       "      <td>96.39</td>\n",
       "      <td>151.963685</td>\n",
       "      <td>132.932914</td>\n",
       "      <td>135.728972</td>\n",
       "      <td>144.696899</td>\n",
       "    </tr>\n",
       "    <tr>\n",
       "      <th>2020-01-11 01:00:00</th>\n",
       "      <td>95.48</td>\n",
       "      <td>152.720466</td>\n",
       "      <td>145.897469</td>\n",
       "      <td>122.077456</td>\n",
       "      <td>139.798447</td>\n",
       "    </tr>\n",
       "    <tr>\n",
       "      <th>2020-01-11 02:00:00</th>\n",
       "      <td>101.92</td>\n",
       "      <td>152.382561</td>\n",
       "      <td>134.124635</td>\n",
       "      <td>118.583502</td>\n",
       "      <td>146.829987</td>\n",
       "    </tr>\n",
       "    <tr>\n",
       "      <th>2020-01-11 03:00:00</th>\n",
       "      <td>119.98</td>\n",
       "      <td>151.402441</td>\n",
       "      <td>125.962918</td>\n",
       "      <td>124.184249</td>\n",
       "      <td>144.260208</td>\n",
       "    </tr>\n",
       "    <tr>\n",
       "      <th>2020-01-11 04:00:00</th>\n",
       "      <td>145.35</td>\n",
       "      <td>150.164680</td>\n",
       "      <td>126.880435</td>\n",
       "      <td>127.623087</td>\n",
       "      <td>151.740204</td>\n",
       "    </tr>\n",
       "    <tr>\n",
       "      <th>2020-01-11 05:00:00</th>\n",
       "      <td>152.75</td>\n",
       "      <td>148.951200</td>\n",
       "      <td>128.178778</td>\n",
       "      <td>131.414960</td>\n",
       "      <td>149.074173</td>\n",
       "    </tr>\n",
       "    <tr>\n",
       "      <th>2020-01-11 06:00:00</th>\n",
       "      <td>174.82</td>\n",
       "      <td>147.943071</td>\n",
       "      <td>133.728104</td>\n",
       "      <td>139.910191</td>\n",
       "      <td>144.990524</td>\n",
       "    </tr>\n",
       "    <tr>\n",
       "      <th>2020-01-11 07:00:00</th>\n",
       "      <td>214.31</td>\n",
       "      <td>147.221993</td>\n",
       "      <td>133.065456</td>\n",
       "      <td>142.490736</td>\n",
       "      <td>149.414597</td>\n",
       "    </tr>\n",
       "    <tr>\n",
       "      <th>2020-01-11 08:00:00</th>\n",
       "      <td>185.48</td>\n",
       "      <td>146.794314</td>\n",
       "      <td>143.735365</td>\n",
       "      <td>132.558360</td>\n",
       "      <td>146.126389</td>\n",
       "    </tr>\n",
       "    <tr>\n",
       "      <th>2020-01-11 09:00:00</th>\n",
       "      <td>122.03</td>\n",
       "      <td>146.622024</td>\n",
       "      <td>123.046653</td>\n",
       "      <td>141.813937</td>\n",
       "      <td>149.386124</td>\n",
       "    </tr>\n",
       "    <tr>\n",
       "      <th>2020-01-11 10:00:00</th>\n",
       "      <td>104.61</td>\n",
       "      <td>146.643273</td>\n",
       "      <td>139.668582</td>\n",
       "      <td>138.887314</td>\n",
       "      <td>145.915512</td>\n",
       "    </tr>\n",
       "    <tr>\n",
       "      <th>2020-01-11 11:00:00</th>\n",
       "      <td>92.43</td>\n",
       "      <td>146.793227</td>\n",
       "      <td>132.753114</td>\n",
       "      <td>145.813237</td>\n",
       "      <td>143.895096</td>\n",
       "    </tr>\n",
       "    <tr>\n",
       "      <th>2020-01-11 12:00:00</th>\n",
       "      <td>93.04</td>\n",
       "      <td>147.017598</td>\n",
       "      <td>119.668831</td>\n",
       "      <td>152.716760</td>\n",
       "      <td>142.903336</td>\n",
       "    </tr>\n",
       "    <tr>\n",
       "      <th>2020-01-11 13:00:00</th>\n",
       "      <td>93.57</td>\n",
       "      <td>147.269500</td>\n",
       "      <td>130.011345</td>\n",
       "      <td>141.278918</td>\n",
       "      <td>146.238220</td>\n",
       "    </tr>\n",
       "    <tr>\n",
       "      <th>2020-01-11 14:00:00</th>\n",
       "      <td>71.30</td>\n",
       "      <td>147.512935</td>\n",
       "      <td>130.776712</td>\n",
       "      <td>141.964988</td>\n",
       "      <td>147.497650</td>\n",
       "    </tr>\n",
       "    <tr>\n",
       "      <th>2020-01-11 15:00:00</th>\n",
       "      <td>68.58</td>\n",
       "      <td>147.724253</td>\n",
       "      <td>128.968708</td>\n",
       "      <td>137.184540</td>\n",
       "      <td>145.830978</td>\n",
       "    </tr>\n",
       "    <tr>\n",
       "      <th>2020-01-11 16:00:00</th>\n",
       "      <td>64.05</td>\n",
       "      <td>147.891847</td>\n",
       "      <td>119.366341</td>\n",
       "      <td>153.362355</td>\n",
       "      <td>139.988983</td>\n",
       "    </tr>\n",
       "    <tr>\n",
       "      <th>2020-01-11 17:00:00</th>\n",
       "      <td>70.56</td>\n",
       "      <td>148.013489</td>\n",
       "      <td>143.569826</td>\n",
       "      <td>137.502892</td>\n",
       "      <td>142.826721</td>\n",
       "    </tr>\n",
       "  </tbody>\n",
       "</table>\n",
       "</div>"
      ],
      "text/plain": [
       "                      PM2.5  recursive_predict  direct_predict  \\\n",
       "date                                                             \n",
       "2020-01-10 18:00:00  152.82         105.583450      114.245677   \n",
       "2020-01-10 19:00:00  199.75         118.335220      118.955459   \n",
       "2020-01-10 20:00:00  238.45         129.547570      129.232630   \n",
       "2020-01-10 21:00:00  173.36         138.593959      125.714647   \n",
       "2020-01-10 22:00:00  107.83         145.263503      126.006795   \n",
       "2020-01-10 23:00:00   99.25         149.623076      117.569168   \n",
       "2020-01-11 00:00:00   96.39         151.963685      132.932914   \n",
       "2020-01-11 01:00:00   95.48         152.720466      145.897469   \n",
       "2020-01-11 02:00:00  101.92         152.382561      134.124635   \n",
       "2020-01-11 03:00:00  119.98         151.402441      125.962918   \n",
       "2020-01-11 04:00:00  145.35         150.164680      126.880435   \n",
       "2020-01-11 05:00:00  152.75         148.951200      128.178778   \n",
       "2020-01-11 06:00:00  174.82         147.943071      133.728104   \n",
       "2020-01-11 07:00:00  214.31         147.221993      133.065456   \n",
       "2020-01-11 08:00:00  185.48         146.794314      143.735365   \n",
       "2020-01-11 09:00:00  122.03         146.622024      123.046653   \n",
       "2020-01-11 10:00:00  104.61         146.643273      139.668582   \n",
       "2020-01-11 11:00:00   92.43         146.793227      132.753114   \n",
       "2020-01-11 12:00:00   93.04         147.017598      119.668831   \n",
       "2020-01-11 13:00:00   93.57         147.269500      130.011345   \n",
       "2020-01-11 14:00:00   71.30         147.512935      130.776712   \n",
       "2020-01-11 15:00:00   68.58         147.724253      128.968708   \n",
       "2020-01-11 16:00:00   64.05         147.891847      119.366341   \n",
       "2020-01-11 17:00:00   70.56         148.013489      143.569826   \n",
       "\n",
       "                     direct_recursive_predict  MIMO_predict  \n",
       "date                                                         \n",
       "2020-01-10 18:00:00                107.471360    148.848694  \n",
       "2020-01-10 19:00:00                120.804377    142.164658  \n",
       "2020-01-10 20:00:00                130.088718    146.125961  \n",
       "2020-01-10 21:00:00                124.316976    147.734665  \n",
       "2020-01-10 22:00:00                124.781299    147.201920  \n",
       "2020-01-10 23:00:00                124.268948    153.053894  \n",
       "2020-01-11 00:00:00                135.728972    144.696899  \n",
       "2020-01-11 01:00:00                122.077456    139.798447  \n",
       "2020-01-11 02:00:00                118.583502    146.829987  \n",
       "2020-01-11 03:00:00                124.184249    144.260208  \n",
       "2020-01-11 04:00:00                127.623087    151.740204  \n",
       "2020-01-11 05:00:00                131.414960    149.074173  \n",
       "2020-01-11 06:00:00                139.910191    144.990524  \n",
       "2020-01-11 07:00:00                142.490736    149.414597  \n",
       "2020-01-11 08:00:00                132.558360    146.126389  \n",
       "2020-01-11 09:00:00                141.813937    149.386124  \n",
       "2020-01-11 10:00:00                138.887314    145.915512  \n",
       "2020-01-11 11:00:00                145.813237    143.895096  \n",
       "2020-01-11 12:00:00                152.716760    142.903336  \n",
       "2020-01-11 13:00:00                141.278918    146.238220  \n",
       "2020-01-11 14:00:00                141.964988    147.497650  \n",
       "2020-01-11 15:00:00                137.184540    145.830978  \n",
       "2020-01-11 16:00:00                153.362355    139.988983  \n",
       "2020-01-11 17:00:00                137.502892    142.826721  "
      ]
     },
     "execution_count": 71,
     "metadata": {},
     "output_type": "execute_result"
    }
   ],
   "source": [
    "test"
   ]
  },
  {
   "cell_type": "code",
   "execution_count": 72,
   "metadata": {},
   "outputs": [
    {
     "data": {
      "text/plain": [
       "<AxesSubplot:xlabel='date'>"
      ]
     },
     "execution_count": 72,
     "metadata": {},
     "output_type": "execute_result"
    },
    {
     "data": {
      "image/png": "[encoded data removed]",
      "text/plain": [
       "<Figure size 432x288 with 1 Axes>"
      ]
     },
     "metadata": {
      "needs_background": "light"
     },
     "output_type": "display_data"
    }
   ],
   "source": [
    "test.plot()"
   ]
  },
  {
   "cell_type": "code",
   "execution_count": 73,
   "metadata": {},
   "outputs": [
    {
     "name": "stdout",
     "output_type": "stream",
     "text": [
      "51.51539939361756\n"
     ]
    }
   ],
   "source": [
    "rmse = sqrt(mean_squared_error(test['PM2.5'], test['MIMO_predict']))\n",
    "print(rmse)"
   ]
  },
  {
   "cell_type": "markdown",
   "metadata": {},
   "source": [
    "# Direct MIMO"
   ]
  },
  {
   "cell_type": "code",
   "execution_count": 74,
   "metadata": {},
   "outputs": [],
   "source": [
    "def generate_data(data, n_input, q_no, n_output):\n",
    "    X, y = [], []\n",
    "    for i in range(0,len(data)-(n_input + ((q_no-1)*n_output) + n_output)):\n",
    "            X.append(data[i:(i+n_input)])\n",
    "            y.append(data[i+n_input+((q_no-1)*n_output): i+n_input+((q_no-1)*n_output) + n_output])\n",
    "    return np.array(X), np.array(y)"
   ]
  },
  {
   "cell_type": "code",
   "execution_count": 75,
   "metadata": {},
   "outputs": [],
   "source": [
    "def model_predict(train_data, n_input, n_features, q_no, n_output):\n",
    "    \n",
    "    model = Sequential()\n",
    "    model.add(LSTM(200, activation='relu', input_shape=(n_input, n_features)))\n",
    "    model.add(Dense(n_output))\n",
    "    model.compile(optimizer='adam', loss='mse')\n",
    "    \n",
    "    X, y = generate_data(train_data, n_input, q_no, n_output)\n",
    "    \n",
    "    model.fit(X, y, epochs=3, verbose=0)\n",
    "    \n",
    "    tX = train_data[-n_input:]\n",
    "    \n",
    "    tX = tX.reshape((1, n_input, n_features))\n",
    "    \n",
    "    res = model.predict(tX)\n",
    "    \n",
    "    return res"
   ]
  },
  {
   "cell_type": "code",
   "execution_count": 76,
   "metadata": {},
   "outputs": [
    {
     "data": {
      "text/plain": [
       "[array([[0.2418179 , 0.25553232, 0.24042127, 0.26989415, 0.25625068,\n",
       "         0.27997467]], dtype=float32),\n",
       " array([[0.25437278, 0.25417256, 0.24648672, 0.25615752, 0.23856471,\n",
       "         0.2518484 ]], dtype=float32),\n",
       " array([[0.29878452, 0.30159456, 0.28396994, 0.28997484, 0.2907994 ,\n",
       "         0.28226757]], dtype=float32),\n",
       " array([[0.27804273, 0.27818277, 0.26352087, 0.2568782 , 0.25896114,\n",
       "         0.2583257 ]], dtype=float32)]"
      ]
     },
     "execution_count": 76,
     "metadata": {},
     "output_type": "execute_result"
    }
   ],
   "source": [
    "n_input = 12\n",
    "n_features = 1\n",
    "test_predictions = []\n",
    "\n",
    "n_output = 6\n",
    "\n",
    "q = int(len(scaled_test)/n_output)\n",
    "\n",
    "\n",
    "for i in range(q):\n",
    "    pred = model_predict(scaled_train,n_input, n_features, i+1, n_output)\n",
    "    test_predictions.append(pred)\n",
    "\n",
    "test_predictions"
   ]
  },
  {
   "cell_type": "code",
   "execution_count": null,
   "metadata": {},
   "outputs": [],
   "source": []
  },
  {
   "cell_type": "code",
   "execution_count": 77,
   "metadata": {},
   "outputs": [],
   "source": [
    "res = []\n",
    "\n",
    "for i in test_predictions:\n",
    "    for j in i:\n",
    "        for k in j:\n",
    "            res.append(k)"
   ]
  },
  {
   "cell_type": "code",
   "execution_count": 78,
   "metadata": {},
   "outputs": [
    {
     "data": {
      "text/plain": [
       "(24, 1)"
      ]
     },
     "execution_count": 78,
     "metadata": {},
     "output_type": "execute_result"
    }
   ],
   "source": [
    "res = np.array(res[:len(scaled_test)])\n",
    "res = res.reshape((res.shape[0],1))\n",
    "res.shape"
   ]
  },
  {
   "cell_type": "code",
   "execution_count": 79,
   "metadata": {},
   "outputs": [],
   "source": [
    "true_predictions = scaler.inverse_transform(res)\n",
    "\n",
    "test['Direct_MIMO_predict'] = true_predictions"
   ]
  },
  {
   "cell_type": "code",
   "execution_count": 80,
   "metadata": {},
   "outputs": [
    {
     "data": {
      "text/html": [
       "<div>\n",
       "<style scoped>\n",
       "    .dataframe tbody tr th:only-of-type {\n",
       "        vertical-align: middle;\n",
       "    }\n",
       "\n",
       "    .dataframe tbody tr th {\n",
       "        vertical-align: top;\n",
       "    }\n",
       "\n",
       "    .dataframe thead th {\n",
       "        text-align: right;\n",
       "    }\n",
       "</style>\n",
       "<table border=\"1\" class=\"dataframe\">\n",
       "  <thead>\n",
       "    <tr style=\"text-align: right;\">\n",
       "      <th></th>\n",
       "      <th>PM2.5</th>\n",
       "      <th>recursive_predict</th>\n",
       "      <th>direct_predict</th>\n",
       "      <th>direct_recursive_predict</th>\n",
       "      <th>MIMO_predict</th>\n",
       "      <th>Direct_MIMO_predict</th>\n",
       "    </tr>\n",
       "    <tr>\n",
       "      <th>date</th>\n",
       "      <th></th>\n",
       "      <th></th>\n",
       "      <th></th>\n",
       "      <th></th>\n",
       "      <th></th>\n",
       "      <th></th>\n",
       "    </tr>\n",
       "  </thead>\n",
       "  <tbody>\n",
       "    <tr>\n",
       "      <th>2020-01-10 18:00:00</th>\n",
       "      <td>152.82</td>\n",
       "      <td>105.583450</td>\n",
       "      <td>114.245677</td>\n",
       "      <td>107.471360</td>\n",
       "      <td>148.848694</td>\n",
       "      <td>122.048576</td>\n",
       "    </tr>\n",
       "    <tr>\n",
       "      <th>2020-01-10 19:00:00</th>\n",
       "      <td>199.75</td>\n",
       "      <td>118.335220</td>\n",
       "      <td>118.955459</td>\n",
       "      <td>120.804377</td>\n",
       "      <td>142.164658</td>\n",
       "      <td>127.050079</td>\n",
       "    </tr>\n",
       "    <tr>\n",
       "      <th>2020-01-10 20:00:00</th>\n",
       "      <td>238.45</td>\n",
       "      <td>129.547570</td>\n",
       "      <td>129.232630</td>\n",
       "      <td>130.088718</td>\n",
       "      <td>146.125961</td>\n",
       "      <td>121.539230</td>\n",
       "    </tr>\n",
       "    <tr>\n",
       "      <th>2020-01-10 21:00:00</th>\n",
       "      <td>173.36</td>\n",
       "      <td>138.593959</td>\n",
       "      <td>125.714647</td>\n",
       "      <td>124.316976</td>\n",
       "      <td>147.734665</td>\n",
       "      <td>132.287704</td>\n",
       "    </tr>\n",
       "    <tr>\n",
       "      <th>2020-01-10 22:00:00</th>\n",
       "      <td>107.83</td>\n",
       "      <td>145.263503</td>\n",
       "      <td>126.006795</td>\n",
       "      <td>124.781299</td>\n",
       "      <td>147.201920</td>\n",
       "      <td>127.312057</td>\n",
       "    </tr>\n",
       "    <tr>\n",
       "      <th>2020-01-10 23:00:00</th>\n",
       "      <td>99.25</td>\n",
       "      <td>149.623076</td>\n",
       "      <td>117.569168</td>\n",
       "      <td>124.268948</td>\n",
       "      <td>153.053894</td>\n",
       "      <td>135.963959</td>\n",
       "    </tr>\n",
       "    <tr>\n",
       "      <th>2020-01-11 00:00:00</th>\n",
       "      <td>96.39</td>\n",
       "      <td>151.963685</td>\n",
       "      <td>132.932914</td>\n",
       "      <td>135.728972</td>\n",
       "      <td>144.696899</td>\n",
       "      <td>126.627205</td>\n",
       "    </tr>\n",
       "    <tr>\n",
       "      <th>2020-01-11 01:00:00</th>\n",
       "      <td>95.48</td>\n",
       "      <td>152.720466</td>\n",
       "      <td>145.897469</td>\n",
       "      <td>122.077456</td>\n",
       "      <td>139.798447</td>\n",
       "      <td>126.554192</td>\n",
       "    </tr>\n",
       "    <tr>\n",
       "      <th>2020-01-11 02:00:00</th>\n",
       "      <td>101.92</td>\n",
       "      <td>152.382561</td>\n",
       "      <td>134.124635</td>\n",
       "      <td>118.583502</td>\n",
       "      <td>146.829987</td>\n",
       "      <td>123.751244</td>\n",
       "    </tr>\n",
       "    <tr>\n",
       "      <th>2020-01-11 03:00:00</th>\n",
       "      <td>119.98</td>\n",
       "      <td>151.402441</td>\n",
       "      <td>125.962918</td>\n",
       "      <td>124.184249</td>\n",
       "      <td>144.260208</td>\n",
       "      <td>127.278084</td>\n",
       "    </tr>\n",
       "    <tr>\n",
       "      <th>2020-01-11 04:00:00</th>\n",
       "      <td>145.35</td>\n",
       "      <td>150.164680</td>\n",
       "      <td>126.880435</td>\n",
       "      <td>127.623087</td>\n",
       "      <td>151.740204</td>\n",
       "      <td>120.862167</td>\n",
       "    </tr>\n",
       "    <tr>\n",
       "      <th>2020-01-11 05:00:00</th>\n",
       "      <td>152.75</td>\n",
       "      <td>148.951200</td>\n",
       "      <td>128.178778</td>\n",
       "      <td>131.414960</td>\n",
       "      <td>149.074173</td>\n",
       "      <td>125.706589</td>\n",
       "    </tr>\n",
       "    <tr>\n",
       "      <th>2020-01-11 06:00:00</th>\n",
       "      <td>174.82</td>\n",
       "      <td>147.943071</td>\n",
       "      <td>133.728104</td>\n",
       "      <td>139.910191</td>\n",
       "      <td>144.990524</td>\n",
       "      <td>142.823730</td>\n",
       "    </tr>\n",
       "    <tr>\n",
       "      <th>2020-01-11 07:00:00</th>\n",
       "      <td>214.31</td>\n",
       "      <td>147.221993</td>\n",
       "      <td>133.065456</td>\n",
       "      <td>142.490736</td>\n",
       "      <td>149.414597</td>\n",
       "      <td>143.848511</td>\n",
       "    </tr>\n",
       "    <tr>\n",
       "      <th>2020-01-11 08:00:00</th>\n",
       "      <td>185.48</td>\n",
       "      <td>146.794314</td>\n",
       "      <td>143.735365</td>\n",
       "      <td>132.558360</td>\n",
       "      <td>146.126389</td>\n",
       "      <td>137.420990</td>\n",
       "    </tr>\n",
       "    <tr>\n",
       "      <th>2020-01-11 09:00:00</th>\n",
       "      <td>122.03</td>\n",
       "      <td>146.622024</td>\n",
       "      <td>123.046653</td>\n",
       "      <td>141.813937</td>\n",
       "      <td>149.386124</td>\n",
       "      <td>139.610916</td>\n",
       "    </tr>\n",
       "    <tr>\n",
       "      <th>2020-01-11 10:00:00</th>\n",
       "      <td>104.61</td>\n",
       "      <td>146.643273</td>\n",
       "      <td>139.668582</td>\n",
       "      <td>138.887314</td>\n",
       "      <td>145.915512</td>\n",
       "      <td>139.911636</td>\n",
       "    </tr>\n",
       "    <tr>\n",
       "      <th>2020-01-11 11:00:00</th>\n",
       "      <td>92.43</td>\n",
       "      <td>146.793227</td>\n",
       "      <td>132.753114</td>\n",
       "      <td>145.813237</td>\n",
       "      <td>143.895096</td>\n",
       "      <td>136.800156</td>\n",
       "    </tr>\n",
       "    <tr>\n",
       "      <th>2020-01-11 12:00:00</th>\n",
       "      <td>93.04</td>\n",
       "      <td>147.017598</td>\n",
       "      <td>119.668831</td>\n",
       "      <td>152.716760</td>\n",
       "      <td>142.903336</td>\n",
       "      <td>135.259399</td>\n",
       "    </tr>\n",
       "    <tr>\n",
       "      <th>2020-01-11 13:00:00</th>\n",
       "      <td>93.57</td>\n",
       "      <td>147.269500</td>\n",
       "      <td>130.011345</td>\n",
       "      <td>141.278918</td>\n",
       "      <td>146.238220</td>\n",
       "      <td>135.310471</td>\n",
       "    </tr>\n",
       "    <tr>\n",
       "      <th>2020-01-11 14:00:00</th>\n",
       "      <td>71.30</td>\n",
       "      <td>147.512935</td>\n",
       "      <td>130.776712</td>\n",
       "      <td>141.964988</td>\n",
       "      <td>147.497650</td>\n",
       "      <td>129.963425</td>\n",
       "    </tr>\n",
       "    <tr>\n",
       "      <th>2020-01-11 15:00:00</th>\n",
       "      <td>68.58</td>\n",
       "      <td>147.724253</td>\n",
       "      <td>128.968708</td>\n",
       "      <td>137.184540</td>\n",
       "      <td>145.830978</td>\n",
       "      <td>127.540909</td>\n",
       "    </tr>\n",
       "    <tr>\n",
       "      <th>2020-01-11 16:00:00</th>\n",
       "      <td>64.05</td>\n",
       "      <td>147.891847</td>\n",
       "      <td>119.366341</td>\n",
       "      <td>153.362355</td>\n",
       "      <td>139.988983</td>\n",
       "      <td>128.300537</td>\n",
       "    </tr>\n",
       "    <tr>\n",
       "      <th>2020-01-11 17:00:00</th>\n",
       "      <td>70.56</td>\n",
       "      <td>148.013489</td>\n",
       "      <td>143.569826</td>\n",
       "      <td>137.502892</td>\n",
       "      <td>142.826721</td>\n",
       "      <td>128.068802</td>\n",
       "    </tr>\n",
       "  </tbody>\n",
       "</table>\n",
       "</div>"
      ],
      "text/plain": [
       "                      PM2.5  recursive_predict  direct_predict  \\\n",
       "date                                                             \n",
       "2020-01-10 18:00:00  152.82         105.583450      114.245677   \n",
       "2020-01-10 19:00:00  199.75         118.335220      118.955459   \n",
       "2020-01-10 20:00:00  238.45         129.547570      129.232630   \n",
       "2020-01-10 21:00:00  173.36         138.593959      125.714647   \n",
       "2020-01-10 22:00:00  107.83         145.263503      126.006795   \n",
       "2020-01-10 23:00:00   99.25         149.623076      117.569168   \n",
       "2020-01-11 00:00:00   96.39         151.963685      132.932914   \n",
       "2020-01-11 01:00:00   95.48         152.720466      145.897469   \n",
       "2020-01-11 02:00:00  101.92         152.382561      134.124635   \n",
       "2020-01-11 03:00:00  119.98         151.402441      125.962918   \n",
       "2020-01-11 04:00:00  145.35         150.164680      126.880435   \n",
       "2020-01-11 05:00:00  152.75         148.951200      128.178778   \n",
       "2020-01-11 06:00:00  174.82         147.943071      133.728104   \n",
       "2020-01-11 07:00:00  214.31         147.221993      133.065456   \n",
       "2020-01-11 08:00:00  185.48         146.794314      143.735365   \n",
       "2020-01-11 09:00:00  122.03         146.622024      123.046653   \n",
       "2020-01-11 10:00:00  104.61         146.643273      139.668582   \n",
       "2020-01-11 11:00:00   92.43         146.793227      132.753114   \n",
       "2020-01-11 12:00:00   93.04         147.017598      119.668831   \n",
       "2020-01-11 13:00:00   93.57         147.269500      130.011345   \n",
       "2020-01-11 14:00:00   71.30         147.512935      130.776712   \n",
       "2020-01-11 15:00:00   68.58         147.724253      128.968708   \n",
       "2020-01-11 16:00:00   64.05         147.891847      119.366341   \n",
       "2020-01-11 17:00:00   70.56         148.013489      143.569826   \n",
       "\n",
       "                     direct_recursive_predict  MIMO_predict  \\\n",
       "date                                                          \n",
       "2020-01-10 18:00:00                107.471360    148.848694   \n",
       "2020-01-10 19:00:00                120.804377    142.164658   \n",
       "2020-01-10 20:00:00                130.088718    146.125961   \n",
       "2020-01-10 21:00:00                124.316976    147.734665   \n",
       "2020-01-10 22:00:00                124.781299    147.201920   \n",
       "2020-01-10 23:00:00                124.268948    153.053894   \n",
       "2020-01-11 00:00:00                135.728972    144.696899   \n",
       "2020-01-11 01:00:00                122.077456    139.798447   \n",
       "2020-01-11 02:00:00                118.583502    146.829987   \n",
       "2020-01-11 03:00:00                124.184249    144.260208   \n",
       "2020-01-11 04:00:00                127.623087    151.740204   \n",
       "2020-01-11 05:00:00                131.414960    149.074173   \n",
       "2020-01-11 06:00:00                139.910191    144.990524   \n",
       "2020-01-11 07:00:00                142.490736    149.414597   \n",
       "2020-01-11 08:00:00                132.558360    146.126389   \n",
       "2020-01-11 09:00:00                141.813937    149.386124   \n",
       "2020-01-11 10:00:00                138.887314    145.915512   \n",
       "2020-01-11 11:00:00                145.813237    143.895096   \n",
       "2020-01-11 12:00:00                152.716760    142.903336   \n",
       "2020-01-11 13:00:00                141.278918    146.238220   \n",
       "2020-01-11 14:00:00                141.964988    147.497650   \n",
       "2020-01-11 15:00:00                137.184540    145.830978   \n",
       "2020-01-11 16:00:00                153.362355    139.988983   \n",
       "2020-01-11 17:00:00                137.502892    142.826721   \n",
       "\n",
       "                     Direct_MIMO_predict  \n",
       "date                                      \n",
       "2020-01-10 18:00:00           122.048576  \n",
       "2020-01-10 19:00:00           127.050079  \n",
       "2020-01-10 20:00:00           121.539230  \n",
       "2020-01-10 21:00:00           132.287704  \n",
       "2020-01-10 22:00:00           127.312057  \n",
       "2020-01-10 23:00:00           135.963959  \n",
       "2020-01-11 00:00:00           126.627205  \n",
       "2020-01-11 01:00:00           126.554192  \n",
       "2020-01-11 02:00:00           123.751244  \n",
       "2020-01-11 03:00:00           127.278084  \n",
       "2020-01-11 04:00:00           120.862167  \n",
       "2020-01-11 05:00:00           125.706589  \n",
       "2020-01-11 06:00:00           142.823730  \n",
       "2020-01-11 07:00:00           143.848511  \n",
       "2020-01-11 08:00:00           137.420990  \n",
       "2020-01-11 09:00:00           139.610916  \n",
       "2020-01-11 10:00:00           139.911636  \n",
       "2020-01-11 11:00:00           136.800156  \n",
       "2020-01-11 12:00:00           135.259399  \n",
       "2020-01-11 13:00:00           135.310471  \n",
       "2020-01-11 14:00:00           129.963425  \n",
       "2020-01-11 15:00:00           127.540909  \n",
       "2020-01-11 16:00:00           128.300537  \n",
       "2020-01-11 17:00:00           128.068802  "
      ]
     },
     "execution_count": 80,
     "metadata": {},
     "output_type": "execute_result"
    }
   ],
   "source": [
    "test"
   ]
  },
  {
   "cell_type": "code",
   "execution_count": 81,
   "metadata": {},
   "outputs": [
    {
     "data": {
      "text/plain": [
       "<AxesSubplot:xlabel='date'>"
      ]
     },
     "execution_count": 81,
     "metadata": {},
     "output_type": "execute_result"
    },
    {
     "data": {
      "image/png": "[encoded data removed]",
      "text/plain": [
       "<Figure size 432x288 with 1 Axes>"
      ]
     },
     "metadata": {
      "needs_background": "light"
     },
     "output_type": "display_data"
    }
   ],
   "source": [
    "test.plot()"
   ]
  },
  {
   "cell_type": "code",
   "execution_count": 82,
   "metadata": {},
   "outputs": [
    {
     "name": "stdout",
     "output_type": "stream",
     "text": [
      "48.629391665557684\n"
     ]
    }
   ],
   "source": [
    "rmse = sqrt(mean_squared_error(test['PM2.5'], test['Direct_MIMO_predict']))\n",
    "print(rmse)"
   ]
  },
  {
   "cell_type": "code",
   "execution_count": 83,
   "metadata": {},
   "outputs": [],
   "source": [
    "rec_err = abs(test['PM2.5'] - test['recursive_predict'])\n",
    "dir_err = abs(test['PM2.5'] - test['direct_predict'])\n",
    "dir_rec_err = abs(test['PM2.5'] - test['direct_recursive_predict'])\n",
    "mimo_err = abs(test['PM2.5'] - test['MIMO_predict'])\n",
    "dir_mimo_err = abs(test['PM2.5'] - test['Direct_MIMO_predict'])"
   ]
  },
  {
   "cell_type": "code",
   "execution_count": 84,
   "metadata": {},
   "outputs": [],
   "source": [
    "errors = pd.DataFrame({\n",
    "    'Recursive':rec_err,\n",
    "    'Direct':dir_err,\n",
    "    'Direct Recursive':dir_rec_err,\n",
    "    'MIMO':mimo_err,\n",
    "    'Direct MIMO':dir_mimo_err\n",
    "})"
   ]
  },
  {
   "cell_type": "code",
   "execution_count": 85,
   "metadata": {},
   "outputs": [
    {
     "data": {
      "text/html": [
       "<div>\n",
       "<style scoped>\n",
       "    .dataframe tbody tr th:only-of-type {\n",
       "        vertical-align: middle;\n",
       "    }\n",
       "\n",
       "    .dataframe tbody tr th {\n",
       "        vertical-align: top;\n",
       "    }\n",
       "\n",
       "    .dataframe thead th {\n",
       "        text-align: right;\n",
       "    }\n",
       "</style>\n",
       "<table border=\"1\" class=\"dataframe\">\n",
       "  <thead>\n",
       "    <tr style=\"text-align: right;\">\n",
       "      <th></th>\n",
       "      <th>Recursive</th>\n",
       "      <th>Direct</th>\n",
       "      <th>Direct Recursive</th>\n",
       "      <th>MIMO</th>\n",
       "      <th>Direct MIMO</th>\n",
       "    </tr>\n",
       "    <tr>\n",
       "      <th>date</th>\n",
       "      <th></th>\n",
       "      <th></th>\n",
       "      <th></th>\n",
       "      <th></th>\n",
       "      <th></th>\n",
       "    </tr>\n",
       "  </thead>\n",
       "  <tbody>\n",
       "    <tr>\n",
       "      <th>2020-01-10 18:00:00</th>\n",
       "      <td>47.236550</td>\n",
       "      <td>38.574323</td>\n",
       "      <td>45.348640</td>\n",
       "      <td>3.971306</td>\n",
       "      <td>30.771424</td>\n",
       "    </tr>\n",
       "    <tr>\n",
       "      <th>2020-01-10 19:00:00</th>\n",
       "      <td>81.414780</td>\n",
       "      <td>80.794541</td>\n",
       "      <td>78.945623</td>\n",
       "      <td>57.585342</td>\n",
       "      <td>72.699921</td>\n",
       "    </tr>\n",
       "    <tr>\n",
       "      <th>2020-01-10 20:00:00</th>\n",
       "      <td>108.902430</td>\n",
       "      <td>109.217370</td>\n",
       "      <td>108.361282</td>\n",
       "      <td>92.324039</td>\n",
       "      <td>116.910770</td>\n",
       "    </tr>\n",
       "    <tr>\n",
       "      <th>2020-01-10 21:00:00</th>\n",
       "      <td>34.766041</td>\n",
       "      <td>47.645353</td>\n",
       "      <td>49.043024</td>\n",
       "      <td>25.625335</td>\n",
       "      <td>41.072296</td>\n",
       "    </tr>\n",
       "    <tr>\n",
       "      <th>2020-01-10 22:00:00</th>\n",
       "      <td>37.433503</td>\n",
       "      <td>18.176795</td>\n",
       "      <td>16.951299</td>\n",
       "      <td>39.371920</td>\n",
       "      <td>19.482057</td>\n",
       "    </tr>\n",
       "    <tr>\n",
       "      <th>2020-01-10 23:00:00</th>\n",
       "      <td>50.373076</td>\n",
       "      <td>18.319168</td>\n",
       "      <td>25.018948</td>\n",
       "      <td>53.803894</td>\n",
       "      <td>36.713959</td>\n",
       "    </tr>\n",
       "    <tr>\n",
       "      <th>2020-01-11 00:00:00</th>\n",
       "      <td>55.573685</td>\n",
       "      <td>36.542914</td>\n",
       "      <td>39.338972</td>\n",
       "      <td>48.306899</td>\n",
       "      <td>30.237205</td>\n",
       "    </tr>\n",
       "    <tr>\n",
       "      <th>2020-01-11 01:00:00</th>\n",
       "      <td>57.240466</td>\n",
       "      <td>50.417469</td>\n",
       "      <td>26.597456</td>\n",
       "      <td>44.318447</td>\n",
       "      <td>31.074192</td>\n",
       "    </tr>\n",
       "    <tr>\n",
       "      <th>2020-01-11 02:00:00</th>\n",
       "      <td>50.462561</td>\n",
       "      <td>32.204635</td>\n",
       "      <td>16.663502</td>\n",
       "      <td>44.909987</td>\n",
       "      <td>21.831244</td>\n",
       "    </tr>\n",
       "    <tr>\n",
       "      <th>2020-01-11 03:00:00</th>\n",
       "      <td>31.422441</td>\n",
       "      <td>5.982918</td>\n",
       "      <td>4.204249</td>\n",
       "      <td>24.280208</td>\n",
       "      <td>7.298084</td>\n",
       "    </tr>\n",
       "    <tr>\n",
       "      <th>2020-01-11 04:00:00</th>\n",
       "      <td>4.814680</td>\n",
       "      <td>18.469565</td>\n",
       "      <td>17.726913</td>\n",
       "      <td>6.390204</td>\n",
       "      <td>24.487833</td>\n",
       "    </tr>\n",
       "    <tr>\n",
       "      <th>2020-01-11 05:00:00</th>\n",
       "      <td>3.798800</td>\n",
       "      <td>24.571222</td>\n",
       "      <td>21.335040</td>\n",
       "      <td>3.675827</td>\n",
       "      <td>27.043411</td>\n",
       "    </tr>\n",
       "    <tr>\n",
       "      <th>2020-01-11 06:00:00</th>\n",
       "      <td>26.876929</td>\n",
       "      <td>41.091896</td>\n",
       "      <td>34.909809</td>\n",
       "      <td>29.829476</td>\n",
       "      <td>31.996270</td>\n",
       "    </tr>\n",
       "    <tr>\n",
       "      <th>2020-01-11 07:00:00</th>\n",
       "      <td>67.088007</td>\n",
       "      <td>81.244544</td>\n",
       "      <td>71.819264</td>\n",
       "      <td>64.895403</td>\n",
       "      <td>70.461489</td>\n",
       "    </tr>\n",
       "    <tr>\n",
       "      <th>2020-01-11 08:00:00</th>\n",
       "      <td>38.685686</td>\n",
       "      <td>41.744635</td>\n",
       "      <td>52.921640</td>\n",
       "      <td>39.353611</td>\n",
       "      <td>48.059010</td>\n",
       "    </tr>\n",
       "    <tr>\n",
       "      <th>2020-01-11 09:00:00</th>\n",
       "      <td>24.592024</td>\n",
       "      <td>1.016653</td>\n",
       "      <td>19.783937</td>\n",
       "      <td>27.356124</td>\n",
       "      <td>17.580916</td>\n",
       "    </tr>\n",
       "    <tr>\n",
       "      <th>2020-01-11 10:00:00</th>\n",
       "      <td>42.033273</td>\n",
       "      <td>35.058582</td>\n",
       "      <td>34.277314</td>\n",
       "      <td>41.305512</td>\n",
       "      <td>35.301636</td>\n",
       "    </tr>\n",
       "    <tr>\n",
       "      <th>2020-01-11 11:00:00</th>\n",
       "      <td>54.363227</td>\n",
       "      <td>40.323114</td>\n",
       "      <td>53.383237</td>\n",
       "      <td>51.465096</td>\n",
       "      <td>44.370156</td>\n",
       "    </tr>\n",
       "    <tr>\n",
       "      <th>2020-01-11 12:00:00</th>\n",
       "      <td>53.977598</td>\n",
       "      <td>26.628831</td>\n",
       "      <td>59.676760</td>\n",
       "      <td>49.863336</td>\n",
       "      <td>42.219399</td>\n",
       "    </tr>\n",
       "    <tr>\n",
       "      <th>2020-01-11 13:00:00</th>\n",
       "      <td>53.699500</td>\n",
       "      <td>36.441345</td>\n",
       "      <td>47.708918</td>\n",
       "      <td>52.668220</td>\n",
       "      <td>41.740471</td>\n",
       "    </tr>\n",
       "    <tr>\n",
       "      <th>2020-01-11 14:00:00</th>\n",
       "      <td>76.212935</td>\n",
       "      <td>59.476712</td>\n",
       "      <td>70.664988</td>\n",
       "      <td>76.197650</td>\n",
       "      <td>58.663425</td>\n",
       "    </tr>\n",
       "    <tr>\n",
       "      <th>2020-01-11 15:00:00</th>\n",
       "      <td>79.144253</td>\n",
       "      <td>60.388708</td>\n",
       "      <td>68.604540</td>\n",
       "      <td>77.250978</td>\n",
       "      <td>58.960909</td>\n",
       "    </tr>\n",
       "    <tr>\n",
       "      <th>2020-01-11 16:00:00</th>\n",
       "      <td>83.841847</td>\n",
       "      <td>55.316341</td>\n",
       "      <td>89.312355</td>\n",
       "      <td>75.938983</td>\n",
       "      <td>64.250537</td>\n",
       "    </tr>\n",
       "    <tr>\n",
       "      <th>2020-01-11 17:00:00</th>\n",
       "      <td>77.453489</td>\n",
       "      <td>73.009826</td>\n",
       "      <td>66.942892</td>\n",
       "      <td>72.266721</td>\n",
       "      <td>57.508802</td>\n",
       "    </tr>\n",
       "  </tbody>\n",
       "</table>\n",
       "</div>"
      ],
      "text/plain": [
       "                      Recursive      Direct  Direct Recursive       MIMO  \\\n",
       "date                                                                       \n",
       "2020-01-10 18:00:00   47.236550   38.574323         45.348640   3.971306   \n",
       "2020-01-10 19:00:00   81.414780   80.794541         78.945623  57.585342   \n",
       "2020-01-10 20:00:00  108.902430  109.217370        108.361282  92.324039   \n",
       "2020-01-10 21:00:00   34.766041   47.645353         49.043024  25.625335   \n",
       "2020-01-10 22:00:00   37.433503   18.176795         16.951299  39.371920   \n",
       "2020-01-10 23:00:00   50.373076   18.319168         25.018948  53.803894   \n",
       "2020-01-11 00:00:00   55.573685   36.542914         39.338972  48.306899   \n",
       "2020-01-11 01:00:00   57.240466   50.417469         26.597456  44.318447   \n",
       "2020-01-11 02:00:00   50.462561   32.204635         16.663502  44.909987   \n",
       "2020-01-11 03:00:00   31.422441    5.982918          4.204249  24.280208   \n",
       "2020-01-11 04:00:00    4.814680   18.469565         17.726913   6.390204   \n",
       "2020-01-11 05:00:00    3.798800   24.571222         21.335040   3.675827   \n",
       "2020-01-11 06:00:00   26.876929   41.091896         34.909809  29.829476   \n",
       "2020-01-11 07:00:00   67.088007   81.244544         71.819264  64.895403   \n",
       "2020-01-11 08:00:00   38.685686   41.744635         52.921640  39.353611   \n",
       "2020-01-11 09:00:00   24.592024    1.016653         19.783937  27.356124   \n",
       "2020-01-11 10:00:00   42.033273   35.058582         34.277314  41.305512   \n",
       "2020-01-11 11:00:00   54.363227   40.323114         53.383237  51.465096   \n",
       "2020-01-11 12:00:00   53.977598   26.628831         59.676760  49.863336   \n",
       "2020-01-11 13:00:00   53.699500   36.441345         47.708918  52.668220   \n",
       "2020-01-11 14:00:00   76.212935   59.476712         70.664988  76.197650   \n",
       "2020-01-11 15:00:00   79.144253   60.388708         68.604540  77.250978   \n",
       "2020-01-11 16:00:00   83.841847   55.316341         89.312355  75.938983   \n",
       "2020-01-11 17:00:00   77.453489   73.009826         66.942892  72.266721   \n",
       "\n",
       "                     Direct MIMO  \n",
       "date                              \n",
       "2020-01-10 18:00:00    30.771424  \n",
       "2020-01-10 19:00:00    72.699921  \n",
       "2020-01-10 20:00:00   116.910770  \n",
       "2020-01-10 21:00:00    41.072296  \n",
       "2020-01-10 22:00:00    19.482057  \n",
       "2020-01-10 23:00:00    36.713959  \n",
       "2020-01-11 00:00:00    30.237205  \n",
       "2020-01-11 01:00:00    31.074192  \n",
       "2020-01-11 02:00:00    21.831244  \n",
       "2020-01-11 03:00:00     7.298084  \n",
       "2020-01-11 04:00:00    24.487833  \n",
       "2020-01-11 05:00:00    27.043411  \n",
       "2020-01-11 06:00:00    31.996270  \n",
       "2020-01-11 07:00:00    70.461489  \n",
       "2020-01-11 08:00:00    48.059010  \n",
       "2020-01-11 09:00:00    17.580916  \n",
       "2020-01-11 10:00:00    35.301636  \n",
       "2020-01-11 11:00:00    44.370156  \n",
       "2020-01-11 12:00:00    42.219399  \n",
       "2020-01-11 13:00:00    41.740471  \n",
       "2020-01-11 14:00:00    58.663425  \n",
       "2020-01-11 15:00:00    58.960909  \n",
       "2020-01-11 16:00:00    64.250537  \n",
       "2020-01-11 17:00:00    57.508802  "
      ]
     },
     "execution_count": 85,
     "metadata": {},
     "output_type": "execute_result"
    }
   ],
   "source": [
    "errors"
   ]
  },
  {
   "cell_type": "code",
   "execution_count": 86,
   "metadata": {},
   "outputs": [
    {
     "data": {
      "text/plain": [
       "<AxesSubplot:xlabel='date'>"
      ]
     },
     "execution_count": 86,
     "metadata": {},
     "output_type": "execute_result"
    },
    {
     "data": {
      "image/png": "[encoded data removed]",
      "text/plain": [
       "<Figure size 432x288 with 1 Axes>"
      ]
     },
     "metadata": {
      "needs_background": "light"
     },
     "output_type": "display_data"
    }
   ],
   "source": [
    "errors.plot()"
   ]
  },
  {
   "cell_type": "code",
   "execution_count": 87,
   "metadata": {},
   "outputs": [
    {
     "data": {
      "text/plain": [
       "24"
      ]
     },
     "execution_count": 87,
     "metadata": {},
     "output_type": "execute_result"
    }
   ],
   "source": [
    "len(scaled_test)"
   ]
  },
  {
   "cell_type": "code",
   "execution_count": null,
   "metadata": {},
   "outputs": [],
   "source": []
  }
 ],
 "metadata": {
  "kernelspec": {
   "display_name": "Python 3",
   "language": "python",
   "name": "python3"
  },
  "language_info": {
   "codemirror_mode": {
    "name": "ipython",
    "version": 3
   },
   "file_extension": ".py",
   "mimetype": "text/x-python",
   "name": "python",
   "nbconvert_exporter": "python",
   "pygments_lexer": "ipython3",
   "version": "3.8.5"
  }
 },
 "nbformat": 4,
 "nbformat_minor": 4
}
