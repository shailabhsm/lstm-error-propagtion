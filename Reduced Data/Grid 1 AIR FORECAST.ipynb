{
 "cells": [
  {
   "cell_type": "code",
   "execution_count": 12,
   "metadata": {},
   "outputs": [],
   "source": [
    "import pandas as pd\n",
    "import numpy as np\n",
    "import matplotlib.pyplot as plt\n",
    "from keras.models import Sequential\n",
    "from keras.layers import Dense, LSTM, Dropout\n",
    "from keras.preprocessing.sequence import TimeseriesGenerator\n",
    "from statsmodels.tsa.seasonal import seasonal_decompose\n",
    "from sklearn.preprocessing import MinMaxScaler\n",
    "from sklearn.metrics import mean_squared_error\n",
    "from math import sqrt\n",
    "import warnings\n",
    "\n",
    "warnings.filterwarnings(\"ignore\")"
   ]
  },
  {
   "cell_type": "code",
   "execution_count": 13,
   "metadata": {},
   "outputs": [],
   "source": [
    "df = pd.read_csv('C:/Users/shail/Desktop/project/raw data/Device-1.csv')\n",
    "\n",
    "df.columns = ['SNo','temp','hum','co','no2','pm2_5','pm10','date']\n",
    "date = df['date']\n",
    "df = df.drop([\"SNo\"],axis=1)\n",
    "df['date'] = pd.to_datetime(df['date'])"
   ]
  },
  {
   "cell_type": "code",
   "execution_count": 14,
   "metadata": {},
   "outputs": [
    {
     "data": {
      "text/html": [
       "<div>\n",
       "<style scoped>\n",
       "    .dataframe tbody tr th:only-of-type {\n",
       "        vertical-align: middle;\n",
       "    }\n",
       "\n",
       "    .dataframe tbody tr th {\n",
       "        vertical-align: top;\n",
       "    }\n",
       "\n",
       "    .dataframe thead th {\n",
       "        text-align: right;\n",
       "    }\n",
       "</style>\n",
       "<table border=\"1\" class=\"dataframe\">\n",
       "  <thead>\n",
       "    <tr style=\"text-align: right;\">\n",
       "      <th></th>\n",
       "      <th>temp</th>\n",
       "      <th>hum</th>\n",
       "      <th>co</th>\n",
       "      <th>no2</th>\n",
       "      <th>pm2_5</th>\n",
       "      <th>pm10</th>\n",
       "      <th>date</th>\n",
       "    </tr>\n",
       "  </thead>\n",
       "  <tbody>\n",
       "    <tr>\n",
       "      <th>0</th>\n",
       "      <td>15</td>\n",
       "      <td>50</td>\n",
       "      <td>40</td>\n",
       "      <td>1.31</td>\n",
       "      <td>53</td>\n",
       "      <td>74</td>\n",
       "      <td>2020-01-11 17:08:19</td>\n",
       "    </tr>\n",
       "    <tr>\n",
       "      <th>1</th>\n",
       "      <td>15</td>\n",
       "      <td>50</td>\n",
       "      <td>40</td>\n",
       "      <td>1.32</td>\n",
       "      <td>53</td>\n",
       "      <td>74</td>\n",
       "      <td>2020-01-11 17:08:13</td>\n",
       "    </tr>\n",
       "    <tr>\n",
       "      <th>2</th>\n",
       "      <td>15</td>\n",
       "      <td>50</td>\n",
       "      <td>40</td>\n",
       "      <td>1.32</td>\n",
       "      <td>53</td>\n",
       "      <td>74</td>\n",
       "      <td>2020-01-11 17:08:09</td>\n",
       "    </tr>\n",
       "    <tr>\n",
       "      <th>3</th>\n",
       "      <td>15</td>\n",
       "      <td>50</td>\n",
       "      <td>40</td>\n",
       "      <td>1.32</td>\n",
       "      <td>53</td>\n",
       "      <td>74</td>\n",
       "      <td>2020-01-11 17:08:03</td>\n",
       "    </tr>\n",
       "    <tr>\n",
       "      <th>4</th>\n",
       "      <td>15</td>\n",
       "      <td>50</td>\n",
       "      <td>40</td>\n",
       "      <td>1.32</td>\n",
       "      <td>53</td>\n",
       "      <td>74</td>\n",
       "      <td>2020-01-11 17:07:59</td>\n",
       "    </tr>\n",
       "  </tbody>\n",
       "</table>\n",
       "</div>"
      ],
      "text/plain": [
       "   temp  hum  co   no2  pm2_5  pm10                date\n",
       "0    15   50  40  1.31     53    74 2020-01-11 17:08:19\n",
       "1    15   50  40  1.32     53    74 2020-01-11 17:08:13\n",
       "2    15   50  40  1.32     53    74 2020-01-11 17:08:09\n",
       "3    15   50  40  1.32     53    74 2020-01-11 17:08:03\n",
       "4    15   50  40  1.32     53    74 2020-01-11 17:07:59"
      ]
     },
     "execution_count": 14,
     "metadata": {},
     "output_type": "execute_result"
    }
   ],
   "source": [
    "df.head()"
   ]
  },
  {
   "cell_type": "code",
   "execution_count": 15,
   "metadata": {},
   "outputs": [
    {
     "name": "stdout",
     "output_type": "stream",
     "text": [
      "<class 'pandas.core.frame.DataFrame'>\n",
      "RangeIndex: 872050 entries, 0 to 872049\n",
      "Data columns (total 7 columns):\n",
      " #   Column  Non-Null Count   Dtype         \n",
      "---  ------  --------------   -----         \n",
      " 0   temp    872050 non-null  int64         \n",
      " 1   hum     872050 non-null  int64         \n",
      " 2   co      872050 non-null  int64         \n",
      " 3   no2     872050 non-null  float64       \n",
      " 4   pm2_5   872050 non-null  int64         \n",
      " 5   pm10    872050 non-null  int64         \n",
      " 6   date    872050 non-null  datetime64[ns]\n",
      "dtypes: datetime64[ns](1), float64(1), int64(5)\n",
      "memory usage: 46.6 MB\n"
     ]
    }
   ],
   "source": [
    "df.info()"
   ]
  },
  {
   "cell_type": "code",
   "execution_count": 16,
   "metadata": {},
   "outputs": [],
   "source": [
    "df = df[(df['co'] > 0) & (df['no2'] > 0) & (df['pm2_5'] > 0) & (df['pm10'] > 0)]"
   ]
  },
  {
   "cell_type": "code",
   "execution_count": 17,
   "metadata": {},
   "outputs": [
    {
     "data": {
      "text/html": [
       "<div>\n",
       "<style scoped>\n",
       "    .dataframe tbody tr th:only-of-type {\n",
       "        vertical-align: middle;\n",
       "    }\n",
       "\n",
       "    .dataframe tbody tr th {\n",
       "        vertical-align: top;\n",
       "    }\n",
       "\n",
       "    .dataframe thead th {\n",
       "        text-align: right;\n",
       "    }\n",
       "</style>\n",
       "<table border=\"1\" class=\"dataframe\">\n",
       "  <thead>\n",
       "    <tr style=\"text-align: right;\">\n",
       "      <th></th>\n",
       "      <th>TEMP</th>\n",
       "      <th>HUM</th>\n",
       "      <th>CO</th>\n",
       "      <th>NO2</th>\n",
       "      <th>PM2.5</th>\n",
       "      <th>PM10</th>\n",
       "    </tr>\n",
       "    <tr>\n",
       "      <th>date</th>\n",
       "      <th></th>\n",
       "      <th></th>\n",
       "      <th></th>\n",
       "      <th></th>\n",
       "      <th></th>\n",
       "      <th></th>\n",
       "    </tr>\n",
       "  </thead>\n",
       "  <tbody>\n",
       "    <tr>\n",
       "      <th>2019-09-13 11:00:00</th>\n",
       "      <td>20.72</td>\n",
       "      <td>45.55</td>\n",
       "      <td>5.50</td>\n",
       "      <td>19.41</td>\n",
       "      <td>20.07</td>\n",
       "      <td>28.07</td>\n",
       "    </tr>\n",
       "    <tr>\n",
       "      <th>2019-09-13 12:00:00</th>\n",
       "      <td>21.68</td>\n",
       "      <td>45.55</td>\n",
       "      <td>5.22</td>\n",
       "      <td>19.42</td>\n",
       "      <td>21.99</td>\n",
       "      <td>30.39</td>\n",
       "    </tr>\n",
       "    <tr>\n",
       "      <th>2019-09-13 13:00:00</th>\n",
       "      <td>22.19</td>\n",
       "      <td>43.53</td>\n",
       "      <td>5.67</td>\n",
       "      <td>19.43</td>\n",
       "      <td>22.63</td>\n",
       "      <td>31.49</td>\n",
       "    </tr>\n",
       "    <tr>\n",
       "      <th>2019-09-13 14:00:00</th>\n",
       "      <td>21.73</td>\n",
       "      <td>44.27</td>\n",
       "      <td>4.93</td>\n",
       "      <td>19.42</td>\n",
       "      <td>24.61</td>\n",
       "      <td>34.45</td>\n",
       "    </tr>\n",
       "    <tr>\n",
       "      <th>2019-09-13 15:00:00</th>\n",
       "      <td>19.29</td>\n",
       "      <td>54.04</td>\n",
       "      <td>6.34</td>\n",
       "      <td>19.40</td>\n",
       "      <td>28.56</td>\n",
       "      <td>39.77</td>\n",
       "    </tr>\n",
       "    <tr>\n",
       "      <th>...</th>\n",
       "      <td>...</td>\n",
       "      <td>...</td>\n",
       "      <td>...</td>\n",
       "      <td>...</td>\n",
       "      <td>...</td>\n",
       "      <td>...</td>\n",
       "    </tr>\n",
       "    <tr>\n",
       "      <th>2020-01-11 13:00:00</th>\n",
       "      <td>17.92</td>\n",
       "      <td>44.29</td>\n",
       "      <td>40.00</td>\n",
       "      <td>1.38</td>\n",
       "      <td>66.62</td>\n",
       "      <td>92.64</td>\n",
       "    </tr>\n",
       "    <tr>\n",
       "      <th>2020-01-11 14:00:00</th>\n",
       "      <td>17.50</td>\n",
       "      <td>42.56</td>\n",
       "      <td>40.00</td>\n",
       "      <td>1.41</td>\n",
       "      <td>57.87</td>\n",
       "      <td>80.33</td>\n",
       "    </tr>\n",
       "    <tr>\n",
       "      <th>2020-01-11 15:00:00</th>\n",
       "      <td>16.74</td>\n",
       "      <td>44.00</td>\n",
       "      <td>40.00</td>\n",
       "      <td>1.45</td>\n",
       "      <td>53.99</td>\n",
       "      <td>74.98</td>\n",
       "    </tr>\n",
       "    <tr>\n",
       "      <th>2020-01-11 16:00:00</th>\n",
       "      <td>15.87</td>\n",
       "      <td>47.06</td>\n",
       "      <td>40.00</td>\n",
       "      <td>1.42</td>\n",
       "      <td>52.26</td>\n",
       "      <td>72.54</td>\n",
       "    </tr>\n",
       "    <tr>\n",
       "      <th>2020-01-11 17:00:00</th>\n",
       "      <td>15.00</td>\n",
       "      <td>50.00</td>\n",
       "      <td>40.00</td>\n",
       "      <td>1.31</td>\n",
       "      <td>53.56</td>\n",
       "      <td>74.77</td>\n",
       "    </tr>\n",
       "  </tbody>\n",
       "</table>\n",
       "<p>2887 rows × 6 columns</p>\n",
       "</div>"
      ],
      "text/plain": [
       "                      TEMP    HUM     CO    NO2  PM2.5   PM10\n",
       "date                                                         \n",
       "2019-09-13 11:00:00  20.72  45.55   5.50  19.41  20.07  28.07\n",
       "2019-09-13 12:00:00  21.68  45.55   5.22  19.42  21.99  30.39\n",
       "2019-09-13 13:00:00  22.19  43.53   5.67  19.43  22.63  31.49\n",
       "2019-09-13 14:00:00  21.73  44.27   4.93  19.42  24.61  34.45\n",
       "2019-09-13 15:00:00  19.29  54.04   6.34  19.40  28.56  39.77\n",
       "...                    ...    ...    ...    ...    ...    ...\n",
       "2020-01-11 13:00:00  17.92  44.29  40.00   1.38  66.62  92.64\n",
       "2020-01-11 14:00:00  17.50  42.56  40.00   1.41  57.87  80.33\n",
       "2020-01-11 15:00:00  16.74  44.00  40.00   1.45  53.99  74.98\n",
       "2020-01-11 16:00:00  15.87  47.06  40.00   1.42  52.26  72.54\n",
       "2020-01-11 17:00:00  15.00  50.00  40.00   1.31  53.56  74.77\n",
       "\n",
       "[2887 rows x 6 columns]"
      ]
     },
     "execution_count": 17,
     "metadata": {},
     "output_type": "execute_result"
    }
   ],
   "source": [
    "temp_one_hr = round(df.resample('60min',on='date').temp.mean(),2)\n",
    "hum_one_hr = round(df.resample('60min',on='date').hum.mean(),2)\n",
    "co_one_hr = round(df.resample('60min',on='date').co.mean(),2)\n",
    "no2_one_hr = round(df.resample('60min',on='date').no2.mean(),2)\n",
    "pm2_5_one_hr = round(df.resample('60min',on='date').pm2_5.mean(),2)\n",
    "pm10_one_hr = round(df.resample('60min',on='date').pm10.mean(),2)\n",
    "\n",
    "one_hr_sample = pd.DataFrame({\n",
    "    \"TEMP\":temp_one_hr,\n",
    "    \"HUM\":hum_one_hr,\n",
    "    \"CO\":co_one_hr,\n",
    "    \"NO2\":no2_one_hr,\n",
    "    \"PM2.5\":pm2_5_one_hr,\n",
    "    \"PM10\":pm10_one_hr\n",
    "})\n",
    "\n",
    "one_hr_sample"
   ]
  },
  {
   "cell_type": "code",
   "execution_count": 18,
   "metadata": {},
   "outputs": [],
   "source": [
    "pm = one_hr_sample[['PM2.5']].copy()"
   ]
  },
  {
   "cell_type": "code",
   "execution_count": 19,
   "metadata": {},
   "outputs": [
    {
     "data": {
      "text/html": [
       "<div>\n",
       "<style scoped>\n",
       "    .dataframe tbody tr th:only-of-type {\n",
       "        vertical-align: middle;\n",
       "    }\n",
       "\n",
       "    .dataframe tbody tr th {\n",
       "        vertical-align: top;\n",
       "    }\n",
       "\n",
       "    .dataframe thead th {\n",
       "        text-align: right;\n",
       "    }\n",
       "</style>\n",
       "<table border=\"1\" class=\"dataframe\">\n",
       "  <thead>\n",
       "    <tr style=\"text-align: right;\">\n",
       "      <th></th>\n",
       "      <th>PM2.5</th>\n",
       "    </tr>\n",
       "    <tr>\n",
       "      <th>date</th>\n",
       "      <th></th>\n",
       "    </tr>\n",
       "  </thead>\n",
       "  <tbody>\n",
       "    <tr>\n",
       "      <th>2019-09-13 11:00:00</th>\n",
       "      <td>20.07</td>\n",
       "    </tr>\n",
       "    <tr>\n",
       "      <th>2019-09-13 12:00:00</th>\n",
       "      <td>21.99</td>\n",
       "    </tr>\n",
       "    <tr>\n",
       "      <th>2019-09-13 13:00:00</th>\n",
       "      <td>22.63</td>\n",
       "    </tr>\n",
       "    <tr>\n",
       "      <th>2019-09-13 14:00:00</th>\n",
       "      <td>24.61</td>\n",
       "    </tr>\n",
       "    <tr>\n",
       "      <th>2019-09-13 15:00:00</th>\n",
       "      <td>28.56</td>\n",
       "    </tr>\n",
       "    <tr>\n",
       "      <th>...</th>\n",
       "      <td>...</td>\n",
       "    </tr>\n",
       "    <tr>\n",
       "      <th>2020-01-11 13:00:00</th>\n",
       "      <td>66.62</td>\n",
       "    </tr>\n",
       "    <tr>\n",
       "      <th>2020-01-11 14:00:00</th>\n",
       "      <td>57.87</td>\n",
       "    </tr>\n",
       "    <tr>\n",
       "      <th>2020-01-11 15:00:00</th>\n",
       "      <td>53.99</td>\n",
       "    </tr>\n",
       "    <tr>\n",
       "      <th>2020-01-11 16:00:00</th>\n",
       "      <td>52.26</td>\n",
       "    </tr>\n",
       "    <tr>\n",
       "      <th>2020-01-11 17:00:00</th>\n",
       "      <td>53.56</td>\n",
       "    </tr>\n",
       "  </tbody>\n",
       "</table>\n",
       "<p>2887 rows × 1 columns</p>\n",
       "</div>"
      ],
      "text/plain": [
       "                     PM2.5\n",
       "date                      \n",
       "2019-09-13 11:00:00  20.07\n",
       "2019-09-13 12:00:00  21.99\n",
       "2019-09-13 13:00:00  22.63\n",
       "2019-09-13 14:00:00  24.61\n",
       "2019-09-13 15:00:00  28.56\n",
       "...                    ...\n",
       "2020-01-11 13:00:00  66.62\n",
       "2020-01-11 14:00:00  57.87\n",
       "2020-01-11 15:00:00  53.99\n",
       "2020-01-11 16:00:00  52.26\n",
       "2020-01-11 17:00:00  53.56\n",
       "\n",
       "[2887 rows x 1 columns]"
      ]
     },
     "execution_count": 19,
     "metadata": {},
     "output_type": "execute_result"
    }
   ],
   "source": [
    "pm"
   ]
  },
  {
   "cell_type": "code",
   "execution_count": 20,
   "metadata": {},
   "outputs": [],
   "source": [
    "df = pm.copy()"
   ]
  },
  {
   "cell_type": "code",
   "execution_count": 21,
   "metadata": {},
   "outputs": [
    {
     "data": {
      "text/html": [
       "<div>\n",
       "<style scoped>\n",
       "    .dataframe tbody tr th:only-of-type {\n",
       "        vertical-align: middle;\n",
       "    }\n",
       "\n",
       "    .dataframe tbody tr th {\n",
       "        vertical-align: top;\n",
       "    }\n",
       "\n",
       "    .dataframe thead th {\n",
       "        text-align: right;\n",
       "    }\n",
       "</style>\n",
       "<table border=\"1\" class=\"dataframe\">\n",
       "  <thead>\n",
       "    <tr style=\"text-align: right;\">\n",
       "      <th></th>\n",
       "      <th>PM2.5</th>\n",
       "    </tr>\n",
       "    <tr>\n",
       "      <th>date</th>\n",
       "      <th></th>\n",
       "    </tr>\n",
       "  </thead>\n",
       "  <tbody>\n",
       "    <tr>\n",
       "      <th>2019-12-11 18:00:00</th>\n",
       "      <td>215.85</td>\n",
       "    </tr>\n",
       "    <tr>\n",
       "      <th>2019-12-11 19:00:00</th>\n",
       "      <td>173.68</td>\n",
       "    </tr>\n",
       "    <tr>\n",
       "      <th>2019-12-11 20:00:00</th>\n",
       "      <td>181.77</td>\n",
       "    </tr>\n",
       "    <tr>\n",
       "      <th>2019-12-11 21:00:00</th>\n",
       "      <td>226.29</td>\n",
       "    </tr>\n",
       "    <tr>\n",
       "      <th>2019-12-11 22:00:00</th>\n",
       "      <td>231.47</td>\n",
       "    </tr>\n",
       "    <tr>\n",
       "      <th>...</th>\n",
       "      <td>...</td>\n",
       "    </tr>\n",
       "    <tr>\n",
       "      <th>2020-01-11 13:00:00</th>\n",
       "      <td>66.62</td>\n",
       "    </tr>\n",
       "    <tr>\n",
       "      <th>2020-01-11 14:00:00</th>\n",
       "      <td>57.87</td>\n",
       "    </tr>\n",
       "    <tr>\n",
       "      <th>2020-01-11 15:00:00</th>\n",
       "      <td>53.99</td>\n",
       "    </tr>\n",
       "    <tr>\n",
       "      <th>2020-01-11 16:00:00</th>\n",
       "      <td>52.26</td>\n",
       "    </tr>\n",
       "    <tr>\n",
       "      <th>2020-01-11 17:00:00</th>\n",
       "      <td>53.56</td>\n",
       "    </tr>\n",
       "  </tbody>\n",
       "</table>\n",
       "<p>744 rows × 1 columns</p>\n",
       "</div>"
      ],
      "text/plain": [
       "                      PM2.5\n",
       "date                       \n",
       "2019-12-11 18:00:00  215.85\n",
       "2019-12-11 19:00:00  173.68\n",
       "2019-12-11 20:00:00  181.77\n",
       "2019-12-11 21:00:00  226.29\n",
       "2019-12-11 22:00:00  231.47\n",
       "...                     ...\n",
       "2020-01-11 13:00:00   66.62\n",
       "2020-01-11 14:00:00   57.87\n",
       "2020-01-11 15:00:00   53.99\n",
       "2020-01-11 16:00:00   52.26\n",
       "2020-01-11 17:00:00   53.56\n",
       "\n",
       "[744 rows x 1 columns]"
      ]
     },
     "execution_count": 21,
     "metadata": {},
     "output_type": "execute_result"
    }
   ],
   "source": [
    "df = df[-744:]\n",
    "df"
   ]
  },
  {
   "cell_type": "code",
   "execution_count": 22,
   "metadata": {},
   "outputs": [
    {
     "data": {
      "text/plain": [
       "PM2.5    226\n",
       "dtype: int64"
      ]
     },
     "execution_count": 22,
     "metadata": {},
     "output_type": "execute_result"
    }
   ],
   "source": [
    "df.isna().sum()"
   ]
  },
  {
   "cell_type": "code",
   "execution_count": 23,
   "metadata": {},
   "outputs": [],
   "source": [
    "df = df.interpolate(method ='linear')"
   ]
  },
  {
   "cell_type": "code",
   "execution_count": 24,
   "metadata": {},
   "outputs": [
    {
     "data": {
      "text/plain": [
       "<AxesSubplot:xlabel='date'>"
      ]
     },
     "execution_count": 24,
     "metadata": {},
     "output_type": "execute_result"
    },
    {
     "data": {
      "image/png": "[encoded data removed]",
      "text/plain": [
       "<Figure size 432x288 with 1 Axes>"
      ]
     },
     "metadata": {
      "needs_background": "light"
     },
     "output_type": "display_data"
    }
   ],
   "source": [
    "df.plot()"
   ]
  },
  {
   "cell_type": "code",
   "execution_count": 25,
   "metadata": {},
   "outputs": [
    {
     "data": {
      "image/png": "[encoded data removed]",
      "text/plain": [
       "<Figure size 432x288 with 4 Axes>"
      ]
     },
     "execution_count": 25,
     "metadata": {},
     "output_type": "execute_result"
    },
    {
     "data": {
      "image/png": "[encoded data removed]",
      "text/plain": [
       "<Figure size 432x288 with 4 Axes>"
      ]
     },
     "metadata": {
      "needs_background": "light"
     },
     "output_type": "display_data"
    }
   ],
   "source": [
    "results = seasonal_decompose(df['PM2.5'], freq=24)\n",
    "results.plot()"
   ]
  },
  {
   "cell_type": "code",
   "execution_count": 26,
   "metadata": {},
   "outputs": [
    {
     "data": {
      "text/plain": [
       "744"
      ]
     },
     "execution_count": 26,
     "metadata": {},
     "output_type": "execute_result"
    }
   ],
   "source": [
    "len(df)"
   ]
  },
  {
   "cell_type": "code",
   "execution_count": 27,
   "metadata": {},
   "outputs": [],
   "source": [
    "train = df.iloc[:720]\n",
    "test = df.iloc[720:]\n",
    "\n",
    "scaler = MinMaxScaler()"
   ]
  },
  {
   "cell_type": "code",
   "execution_count": 28,
   "metadata": {},
   "outputs": [
    {
     "data": {
      "text/plain": [
       "(                      PM2.5\n",
       " date                       \n",
       " 2019-12-11 18:00:00  215.85\n",
       " 2019-12-11 19:00:00  173.68\n",
       " 2019-12-11 20:00:00  181.77\n",
       " 2019-12-11 21:00:00  226.29\n",
       " 2019-12-11 22:00:00  231.47,\n",
       "                      PM2.5\n",
       " date                      \n",
       " 2020-01-11 13:00:00  66.62\n",
       " 2020-01-11 14:00:00  57.87\n",
       " 2020-01-11 15:00:00  53.99\n",
       " 2020-01-11 16:00:00  52.26\n",
       " 2020-01-11 17:00:00  53.56)"
      ]
     },
     "execution_count": 28,
     "metadata": {},
     "output_type": "execute_result"
    }
   ],
   "source": [
    "df.head(), df.tail()"
   ]
  },
  {
   "cell_type": "code",
   "execution_count": 29,
   "metadata": {},
   "outputs": [
    {
     "data": {
      "text/plain": [
       "array([[0.45110426],\n",
       "       [0.34704503],\n",
       "       [0.36700802],\n",
       "       [0.47686613],\n",
       "       [0.48964837],\n",
       "       [0.42292412],\n",
       "       [0.36809377],\n",
       "       [0.36394818],\n",
       "       [0.3545219 ],\n",
       "       [0.37399136]])"
      ]
     },
     "execution_count": 29,
     "metadata": {},
     "output_type": "execute_result"
    }
   ],
   "source": [
    "scaler.fit(train)\n",
    "scaled_train = scaler.transform(train)\n",
    "scaled_test = scaler.transform(test)\n",
    "\n",
    "scaled_train[:10]"
   ]
  },
  {
   "cell_type": "markdown",
   "metadata": {},
   "source": [
    "# Recursive Strategy"
   ]
  },
  {
   "cell_type": "code",
   "execution_count": 30,
   "metadata": {},
   "outputs": [
    {
     "data": {
      "text/plain": [
       "(array([[[0.45110426],\n",
       "         [0.34704503],\n",
       "         [0.36700802],\n",
       "         [0.47686613],\n",
       "         [0.48964837],\n",
       "         [0.42292412],\n",
       "         [0.36809377],\n",
       "         [0.36394818],\n",
       "         [0.3545219 ],\n",
       "         [0.37399136],\n",
       "         [0.38867366],\n",
       "         [0.40192474],\n",
       "         [0.41379395],\n",
       "         [0.49769278],\n",
       "         [0.42776064],\n",
       "         [0.34322023],\n",
       "         [0.25655768],\n",
       "         [0.19237508],\n",
       "         [0.1436644 ],\n",
       "         [0.18033313],\n",
       "         [0.15272054],\n",
       "         [0.15698951],\n",
       "         [0.16945096],\n",
       "         [0.2274892 ]]]),\n",
       " array([[0.29325108]]))"
      ]
     },
     "execution_count": 30,
     "metadata": {},
     "output_type": "execute_result"
    }
   ],
   "source": [
    "n_input = 24\n",
    "n_features = 1\n",
    "generator = TimeseriesGenerator(scaled_train, scaled_train,length=n_input,batch_size=1)\n",
    "\n",
    "generator[0]"
   ]
  },
  {
   "cell_type": "code",
   "execution_count": 31,
   "metadata": {},
   "outputs": [
    {
     "name": "stdout",
     "output_type": "stream",
     "text": [
      "Model: \"sequential\"\n",
      "_________________________________________________________________\n",
      "Layer (type)                 Output Shape              Param #   \n",
      "=================================================================\n",
      "lstm (LSTM)                  (None, 200)               161600    \n",
      "_________________________________________________________________\n",
      "dense (Dense)                (None, 1)                 201       \n",
      "=================================================================\n",
      "Total params: 161,801\n",
      "Trainable params: 161,801\n",
      "Non-trainable params: 0\n",
      "_________________________________________________________________\n"
     ]
    }
   ],
   "source": [
    "model = Sequential()\n",
    "model.add(LSTM(200, activation='relu', input_shape=(n_input, n_features)))\n",
    "model.add(Dense(1))\n",
    "model.compile(optimizer='adam', loss='mse')\n",
    "\n",
    "model.summary()"
   ]
  },
  {
   "cell_type": "code",
   "execution_count": 32,
   "metadata": {},
   "outputs": [
    {
     "name": "stdout",
     "output_type": "stream",
     "text": [
      "Epoch 1/10\n",
      "696/696 [==============================] - 35s 10ms/step - loss: 0.0149\n",
      "Epoch 2/10\n",
      "696/696 [==============================] - 7s 10ms/step - loss: 0.0049\n",
      "Epoch 3/10\n",
      "696/696 [==============================] - 7s 10ms/step - loss: 0.0042\n",
      "Epoch 4/10\n",
      "696/696 [==============================] - 7s 10ms/step - loss: 0.0026\n",
      "Epoch 5/10\n",
      "696/696 [==============================] - 7s 11ms/step - loss: 0.0023\n",
      "Epoch 6/10\n",
      "696/696 [==============================] - 8s 11ms/step - loss: 0.0020\n",
      "Epoch 7/10\n",
      "696/696 [==============================] - 9s 13ms/step - loss: 0.0019\n",
      "Epoch 8/10\n",
      "696/696 [==============================] - 8s 11ms/step - loss: 0.0020\n",
      "Epoch 9/10\n",
      "696/696 [==============================] - 7s 11ms/step - loss: 0.0026\n",
      "Epoch 10/10\n",
      "696/696 [==============================] - ETA: 0s - loss: 0.003 - 8s 11ms/step - loss: 0.0035\n"
     ]
    },
    {
     "data": {
      "text/plain": [
       "<keras.callbacks.History at 0x1b939017730>"
      ]
     },
     "execution_count": 32,
     "metadata": {},
     "output_type": "execute_result"
    }
   ],
   "source": [
    "model.fit(generator, epochs=10, verbose=1)"
   ]
  },
  {
   "cell_type": "code",
   "execution_count": 33,
   "metadata": {},
   "outputs": [
    {
     "data": {
      "text/plain": [
       "[<matplotlib.lines.Line2D at 0x1b935d51f70>]"
      ]
     },
     "execution_count": 33,
     "metadata": {},
     "output_type": "execute_result"
    },
    {
     "data": {
      "image/png": "[encoded data removed]",
      "text/plain": [
       "<Figure size 432x288 with 1 Axes>"
      ]
     },
     "metadata": {
      "needs_background": "light"
     },
     "output_type": "display_data"
    }
   ],
   "source": [
    "loss_per_epoch = model.history.history['loss']\n",
    "plt.plot(range(len(loss_per_epoch)), loss_per_epoch)"
   ]
  },
  {
   "cell_type": "code",
   "execution_count": 34,
   "metadata": {},
   "outputs": [
    {
     "data": {
      "text/plain": [
       "array([[0.08317323]], dtype=float32)"
      ]
     },
     "execution_count": 34,
     "metadata": {},
     "output_type": "execute_result"
    }
   ],
   "source": [
    "last_train_batch = scaled_train[-n_input:]\n",
    "\n",
    "last_train_batch = last_train_batch.reshape((1,n_input, n_features))\n",
    "\n",
    "model.predict(last_train_batch)"
   ]
  },
  {
   "cell_type": "code",
   "execution_count": 35,
   "metadata": {},
   "outputs": [
    {
     "data": {
      "text/plain": [
       "(array([0.17645898]), array([0.32542875]))"
      ]
     },
     "execution_count": 35,
     "metadata": {},
     "output_type": "execute_result"
    }
   ],
   "source": [
    "scaled_test[0], scaled_test[1]"
   ]
  },
  {
   "cell_type": "code",
   "execution_count": 36,
   "metadata": {},
   "outputs": [
    {
     "data": {
      "text/plain": [
       "[array([0.08317323], dtype=float32),\n",
       " array([0.07733886], dtype=float32),\n",
       " array([0.06833486], dtype=float32),\n",
       " array([0.05808968], dtype=float32),\n",
       " array([0.04758457], dtype=float32),\n",
       " array([0.03743706], dtype=float32),\n",
       " array([0.02792315], dtype=float32),\n",
       " array([0.01913455], dtype=float32),\n",
       " array([0.01110186], dtype=float32),\n",
       " array([0.00381548], dtype=float32),\n",
       " array([-0.00270431], dtype=float32),\n",
       " array([-0.00843843], dtype=float32),\n",
       " array([-0.01341356], dtype=float32),\n",
       " array([-0.01763479], dtype=float32),\n",
       " array([-0.02104816], dtype=float32),\n",
       " array([-0.02371966], dtype=float32),\n",
       " array([-0.02575372], dtype=float32),\n",
       " array([-0.02716417], dtype=float32),\n",
       " array([-0.02797006], dtype=float32),\n",
       " array([-0.02819784], dtype=float32),\n",
       " array([-0.02792051], dtype=float32),\n",
       " array([-0.02721172], dtype=float32),\n",
       " array([-0.02615545], dtype=float32),\n",
       " array([-0.02485398], dtype=float32)]"
      ]
     },
     "execution_count": 36,
     "metadata": {},
     "output_type": "execute_result"
    }
   ],
   "source": [
    "test_predictions = []\n",
    "\n",
    "first_eval_batch = scaled_train[-n_input:]\n",
    "current_batch = first_eval_batch.reshape((1, n_input, n_features))\n",
    "\n",
    "for i in range(len(test)):\n",
    "    current_pred = model.predict(current_batch)[0]\n",
    "    \n",
    "    test_predictions.append(current_pred)\n",
    "    \n",
    "    current_batch = np.append(current_batch[:,1:,:],[[current_pred]], axis=1)\n",
    "    \n",
    "test_predictions"
   ]
  },
  {
   "cell_type": "code",
   "execution_count": 37,
   "metadata": {},
   "outputs": [
    {
     "data": {
      "text/html": [
       "<div>\n",
       "<style scoped>\n",
       "    .dataframe tbody tr th:only-of-type {\n",
       "        vertical-align: middle;\n",
       "    }\n",
       "\n",
       "    .dataframe tbody tr th {\n",
       "        vertical-align: top;\n",
       "    }\n",
       "\n",
       "    .dataframe thead th {\n",
       "        text-align: right;\n",
       "    }\n",
       "</style>\n",
       "<table border=\"1\" class=\"dataframe\">\n",
       "  <thead>\n",
       "    <tr style=\"text-align: right;\">\n",
       "      <th></th>\n",
       "      <th>PM2.5</th>\n",
       "    </tr>\n",
       "    <tr>\n",
       "      <th>date</th>\n",
       "      <th></th>\n",
       "    </tr>\n",
       "  </thead>\n",
       "  <tbody>\n",
       "    <tr>\n",
       "      <th>2020-01-10 18:00:00</th>\n",
       "      <td>104.55</td>\n",
       "    </tr>\n",
       "    <tr>\n",
       "      <th>2020-01-10 19:00:00</th>\n",
       "      <td>164.92</td>\n",
       "    </tr>\n",
       "    <tr>\n",
       "      <th>2020-01-10 20:00:00</th>\n",
       "      <td>211.35</td>\n",
       "    </tr>\n",
       "    <tr>\n",
       "      <th>2020-01-10 21:00:00</th>\n",
       "      <td>141.20</td>\n",
       "    </tr>\n",
       "    <tr>\n",
       "      <th>2020-01-10 22:00:00</th>\n",
       "      <td>121.06</td>\n",
       "    </tr>\n",
       "  </tbody>\n",
       "</table>\n",
       "</div>"
      ],
      "text/plain": [
       "                      PM2.5\n",
       "date                       \n",
       "2020-01-10 18:00:00  104.55\n",
       "2020-01-10 19:00:00  164.92\n",
       "2020-01-10 20:00:00  211.35\n",
       "2020-01-10 21:00:00  141.20\n",
       "2020-01-10 22:00:00  121.06"
      ]
     },
     "execution_count": 37,
     "metadata": {},
     "output_type": "execute_result"
    }
   ],
   "source": [
    "test.head()"
   ]
  },
  {
   "cell_type": "code",
   "execution_count": 38,
   "metadata": {},
   "outputs": [],
   "source": [
    "true_predictions = scaler.inverse_transform(test_predictions)\n",
    "\n",
    "test['recursive_predict'] = true_predictions"
   ]
  },
  {
   "cell_type": "code",
   "execution_count": 39,
   "metadata": {},
   "outputs": [
    {
     "data": {
      "text/plain": [
       "<AxesSubplot:xlabel='date'>"
      ]
     },
     "execution_count": 39,
     "metadata": {},
     "output_type": "execute_result"
    },
    {
     "data": {
      "image/png": "[encoded data removed]",
      "text/plain": [
       "<Figure size 432x288 with 1 Axes>"
      ]
     },
     "metadata": {
      "needs_background": "light"
     },
     "output_type": "display_data"
    }
   ],
   "source": [
    "test.plot()"
   ]
  },
  {
   "cell_type": "code",
   "execution_count": 40,
   "metadata": {},
   "outputs": [
    {
     "name": "stdout",
     "output_type": "stream",
     "text": [
      "76.17475803262796\n"
     ]
    }
   ],
   "source": [
    "rmse = sqrt(mean_squared_error(test['PM2.5'], test['recursive_predict']))\n",
    "print(rmse)"
   ]
  },
  {
   "cell_type": "code",
   "execution_count": 41,
   "metadata": {},
   "outputs": [
    {
     "data": {
      "text/html": [
       "<div>\n",
       "<style scoped>\n",
       "    .dataframe tbody tr th:only-of-type {\n",
       "        vertical-align: middle;\n",
       "    }\n",
       "\n",
       "    .dataframe tbody tr th {\n",
       "        vertical-align: top;\n",
       "    }\n",
       "\n",
       "    .dataframe thead th {\n",
       "        text-align: right;\n",
       "    }\n",
       "</style>\n",
       "<table border=\"1\" class=\"dataframe\">\n",
       "  <thead>\n",
       "    <tr style=\"text-align: right;\">\n",
       "      <th></th>\n",
       "      <th>PM2.5</th>\n",
       "      <th>recursive_predict</th>\n",
       "    </tr>\n",
       "    <tr>\n",
       "      <th>date</th>\n",
       "      <th></th>\n",
       "      <th></th>\n",
       "    </tr>\n",
       "  </thead>\n",
       "  <tbody>\n",
       "    <tr>\n",
       "      <th>2020-01-10 18:00:00</th>\n",
       "      <td>104.55</td>\n",
       "      <td>66.745952</td>\n",
       "    </tr>\n",
       "    <tr>\n",
       "      <th>2020-01-10 19:00:00</th>\n",
       "      <td>164.92</td>\n",
       "      <td>64.381573</td>\n",
       "    </tr>\n",
       "    <tr>\n",
       "      <th>2020-01-10 20:00:00</th>\n",
       "      <td>211.35</td>\n",
       "      <td>60.732703</td>\n",
       "    </tr>\n",
       "    <tr>\n",
       "      <th>2020-01-10 21:00:00</th>\n",
       "      <td>141.20</td>\n",
       "      <td>56.580843</td>\n",
       "    </tr>\n",
       "    <tr>\n",
       "      <th>2020-01-10 22:00:00</th>\n",
       "      <td>121.06</td>\n",
       "      <td>52.323649</td>\n",
       "    </tr>\n",
       "    <tr>\n",
       "      <th>2020-01-10 23:00:00</th>\n",
       "      <td>119.04</td>\n",
       "      <td>48.211370</td>\n",
       "    </tr>\n",
       "    <tr>\n",
       "      <th>2020-01-11 00:00:00</th>\n",
       "      <td>98.77</td>\n",
       "      <td>44.355858</td>\n",
       "    </tr>\n",
       "    <tr>\n",
       "      <th>2020-01-11 01:00:00</th>\n",
       "      <td>80.07</td>\n",
       "      <td>40.794275</td>\n",
       "    </tr>\n",
       "    <tr>\n",
       "      <th>2020-01-11 02:00:00</th>\n",
       "      <td>86.52</td>\n",
       "      <td>37.539029</td>\n",
       "    </tr>\n",
       "    <tr>\n",
       "      <th>2020-01-11 03:00:00</th>\n",
       "      <td>99.19</td>\n",
       "      <td>34.586222</td>\n",
       "    </tr>\n",
       "    <tr>\n",
       "      <th>2020-01-11 04:00:00</th>\n",
       "      <td>106.13</td>\n",
       "      <td>31.944079</td>\n",
       "    </tr>\n",
       "    <tr>\n",
       "      <th>2020-01-11 05:00:00</th>\n",
       "      <td>119.74</td>\n",
       "      <td>29.620324</td>\n",
       "    </tr>\n",
       "    <tr>\n",
       "      <th>2020-01-11 06:00:00</th>\n",
       "      <td>147.07</td>\n",
       "      <td>27.604155</td>\n",
       "    </tr>\n",
       "    <tr>\n",
       "      <th>2020-01-11 07:00:00</th>\n",
       "      <td>152.47</td>\n",
       "      <td>25.893503</td>\n",
       "    </tr>\n",
       "    <tr>\n",
       "      <th>2020-01-11 08:00:00</th>\n",
       "      <td>137.57</td>\n",
       "      <td>24.510234</td>\n",
       "    </tr>\n",
       "    <tr>\n",
       "      <th>2020-01-11 09:00:00</th>\n",
       "      <td>98.44</td>\n",
       "      <td>23.427607</td>\n",
       "    </tr>\n",
       "    <tr>\n",
       "      <th>2020-01-11 10:00:00</th>\n",
       "      <td>81.47</td>\n",
       "      <td>22.603304</td>\n",
       "    </tr>\n",
       "    <tr>\n",
       "      <th>2020-01-11 11:00:00</th>\n",
       "      <td>74.93</td>\n",
       "      <td>22.031721</td>\n",
       "    </tr>\n",
       "    <tr>\n",
       "      <th>2020-01-11 12:00:00</th>\n",
       "      <td>69.56</td>\n",
       "      <td>21.705133</td>\n",
       "    </tr>\n",
       "    <tr>\n",
       "      <th>2020-01-11 13:00:00</th>\n",
       "      <td>66.62</td>\n",
       "      <td>21.612825</td>\n",
       "    </tr>\n",
       "    <tr>\n",
       "      <th>2020-01-11 14:00:00</th>\n",
       "      <td>57.87</td>\n",
       "      <td>21.725212</td>\n",
       "    </tr>\n",
       "    <tr>\n",
       "      <th>2020-01-11 15:00:00</th>\n",
       "      <td>53.99</td>\n",
       "      <td>22.012451</td>\n",
       "    </tr>\n",
       "    <tr>\n",
       "      <th>2020-01-11 16:00:00</th>\n",
       "      <td>52.26</td>\n",
       "      <td>22.440504</td>\n",
       "    </tr>\n",
       "    <tr>\n",
       "      <th>2020-01-11 17:00:00</th>\n",
       "      <td>53.56</td>\n",
       "      <td>22.967924</td>\n",
       "    </tr>\n",
       "  </tbody>\n",
       "</table>\n",
       "</div>"
      ],
      "text/plain": [
       "                      PM2.5  recursive_predict\n",
       "date                                          \n",
       "2020-01-10 18:00:00  104.55          66.745952\n",
       "2020-01-10 19:00:00  164.92          64.381573\n",
       "2020-01-10 20:00:00  211.35          60.732703\n",
       "2020-01-10 21:00:00  141.20          56.580843\n",
       "2020-01-10 22:00:00  121.06          52.323649\n",
       "2020-01-10 23:00:00  119.04          48.211370\n",
       "2020-01-11 00:00:00   98.77          44.355858\n",
       "2020-01-11 01:00:00   80.07          40.794275\n",
       "2020-01-11 02:00:00   86.52          37.539029\n",
       "2020-01-11 03:00:00   99.19          34.586222\n",
       "2020-01-11 04:00:00  106.13          31.944079\n",
       "2020-01-11 05:00:00  119.74          29.620324\n",
       "2020-01-11 06:00:00  147.07          27.604155\n",
       "2020-01-11 07:00:00  152.47          25.893503\n",
       "2020-01-11 08:00:00  137.57          24.510234\n",
       "2020-01-11 09:00:00   98.44          23.427607\n",
       "2020-01-11 10:00:00   81.47          22.603304\n",
       "2020-01-11 11:00:00   74.93          22.031721\n",
       "2020-01-11 12:00:00   69.56          21.705133\n",
       "2020-01-11 13:00:00   66.62          21.612825\n",
       "2020-01-11 14:00:00   57.87          21.725212\n",
       "2020-01-11 15:00:00   53.99          22.012451\n",
       "2020-01-11 16:00:00   52.26          22.440504\n",
       "2020-01-11 17:00:00   53.56          22.967924"
      ]
     },
     "execution_count": 41,
     "metadata": {},
     "output_type": "execute_result"
    }
   ],
   "source": [
    "test"
   ]
  },
  {
   "cell_type": "markdown",
   "metadata": {},
   "source": [
    "# Direct Startegy"
   ]
  },
  {
   "cell_type": "code",
   "execution_count": 42,
   "metadata": {},
   "outputs": [],
   "source": [
    "def generate_data(data, n_input, month):\n",
    "    X, y = [], []\n",
    "    for i in range(0,len(data)-(n_input+month)):\n",
    "            X.append(data[i:i+n_input])\n",
    "            y.append(data[i+n_input+(month-1)])\n",
    "    return np.array(X), np.array(y)"
   ]
  },
  {
   "cell_type": "code",
   "execution_count": 43,
   "metadata": {},
   "outputs": [],
   "source": [
    "def model_predict(m_no, train_data, n_input, n_features):\n",
    "    \n",
    "    model = Sequential()\n",
    "    model.add(LSTM(200, activation='relu', input_shape=(n_input, n_features)))\n",
    "    model.add(Dense(1))\n",
    "    model.compile(optimizer='adam', loss='mse')\n",
    "    \n",
    "    X, y = generate_data(train_data, n_input, m_no)\n",
    "    \n",
    "    #print(\"MODEL : \", m_no)\n",
    "    #print(X[0], y[0])\n",
    "    \n",
    "    model.fit(X, y, epochs=3, verbose=0)\n",
    "    \n",
    "    tX = train_data[-n_input:]\n",
    "    \n",
    "    tX = tX.reshape((1, n_input, n_features))\n",
    "    \n",
    "    res = model.predict(tX)\n",
    "    \n",
    "    return res[0]"
   ]
  },
  {
   "cell_type": "code",
   "execution_count": 44,
   "metadata": {},
   "outputs": [
    {
     "name": "stdout",
     "output_type": "stream",
     "text": [
      "WARNING:tensorflow:5 out of the last 29 calls to <function Model.make_predict_function.<locals>.predict_function at 0x000001B93A07EB80> triggered tf.function retracing. Tracing is expensive and the excessive number of tracings could be due to (1) creating @tf.function repeatedly in a loop, (2) passing tensors with different shapes, (3) passing Python objects instead of tensors. For (1), please define your @tf.function outside of the loop. For (2), @tf.function has experimental_relax_shapes=True option that relaxes argument shapes that can avoid unnecessary retracing. For (3), please refer to https://www.tensorflow.org/guide/function#controlling_retracing and https://www.tensorflow.org/api_docs/python/tf/function for  more details.\n",
      "WARNING:tensorflow:6 out of the last 30 calls to <function Model.make_predict_function.<locals>.predict_function at 0x000001B936833940> triggered tf.function retracing. Tracing is expensive and the excessive number of tracings could be due to (1) creating @tf.function repeatedly in a loop, (2) passing tensors with different shapes, (3) passing Python objects instead of tensors. For (1), please define your @tf.function outside of the loop. For (2), @tf.function has experimental_relax_shapes=True option that relaxes argument shapes that can avoid unnecessary retracing. For (3), please refer to https://www.tensorflow.org/guide/function#controlling_retracing and https://www.tensorflow.org/api_docs/python/tf/function for  more details.\n"
     ]
    },
    {
     "data": {
      "text/plain": [
       "[array([0.18581328], dtype=float32),\n",
       " array([0.18495882], dtype=float32),\n",
       " array([0.19993412], dtype=float32),\n",
       " array([0.18345244], dtype=float32),\n",
       " array([0.20755693], dtype=float32),\n",
       " array([0.21005793], dtype=float32),\n",
       " array([0.18150502], dtype=float32),\n",
       " array([0.20041227], dtype=float32),\n",
       " array([0.18457158], dtype=float32),\n",
       " array([0.20452358], dtype=float32),\n",
       " array([0.21608919], dtype=float32),\n",
       " array([0.19580926], dtype=float32),\n",
       " array([0.23126024], dtype=float32),\n",
       " array([0.17971168], dtype=float32),\n",
       " array([0.20914222], dtype=float32),\n",
       " array([0.20000617], dtype=float32),\n",
       " array([0.20226696], dtype=float32),\n",
       " array([0.1925233], dtype=float32),\n",
       " array([0.18046525], dtype=float32),\n",
       " array([0.1923417], dtype=float32),\n",
       " array([0.16128123], dtype=float32),\n",
       " array([0.17900914], dtype=float32),\n",
       " array([0.19741112], dtype=float32),\n",
       " array([0.18692552], dtype=float32)]"
      ]
     },
     "execution_count": 44,
     "metadata": {},
     "output_type": "execute_result"
    }
   ],
   "source": [
    "n_input = 24\n",
    "n_features = 1\n",
    "test_predictions = []\n",
    "\n",
    "for i in range(len(scaled_test)):\n",
    "    test_predictions.append(model_predict(i+1,scaled_train,n_input, n_features))\n",
    "    \n",
    "test_predictions"
   ]
  },
  {
   "cell_type": "code",
   "execution_count": 45,
   "metadata": {},
   "outputs": [],
   "source": [
    "true_predictions = scaler.inverse_transform(test_predictions)\n",
    "\n",
    "test['direct_predict'] = true_predictions"
   ]
  },
  {
   "cell_type": "code",
   "execution_count": 46,
   "metadata": {},
   "outputs": [
    {
     "data": {
      "text/plain": [
       "<AxesSubplot:xlabel='date'>"
      ]
     },
     "execution_count": 46,
     "metadata": {},
     "output_type": "execute_result"
    },
    {
     "data": {
      "image/png": "[encoded data removed]",
      "text/plain": [
       "<Figure size 432x288 with 1 Axes>"
      ]
     },
     "metadata": {
      "needs_background": "light"
     },
     "output_type": "display_data"
    }
   ],
   "source": [
    "test.plot()"
   ]
  },
  {
   "cell_type": "code",
   "execution_count": 47,
   "metadata": {},
   "outputs": [
    {
     "name": "stdout",
     "output_type": "stream",
     "text": [
      "38.79222450750476\n"
     ]
    }
   ],
   "source": [
    "rmse = sqrt(mean_squared_error(test['PM2.5'], test['direct_predict']))\n",
    "print(rmse)"
   ]
  },
  {
   "cell_type": "code",
   "execution_count": 48,
   "metadata": {},
   "outputs": [
    {
     "data": {
      "text/html": [
       "<div>\n",
       "<style scoped>\n",
       "    .dataframe tbody tr th:only-of-type {\n",
       "        vertical-align: middle;\n",
       "    }\n",
       "\n",
       "    .dataframe tbody tr th {\n",
       "        vertical-align: top;\n",
       "    }\n",
       "\n",
       "    .dataframe thead th {\n",
       "        text-align: right;\n",
       "    }\n",
       "</style>\n",
       "<table border=\"1\" class=\"dataframe\">\n",
       "  <thead>\n",
       "    <tr style=\"text-align: right;\">\n",
       "      <th></th>\n",
       "      <th>PM2.5</th>\n",
       "      <th>recursive_predict</th>\n",
       "      <th>direct_predict</th>\n",
       "    </tr>\n",
       "    <tr>\n",
       "      <th>date</th>\n",
       "      <th></th>\n",
       "      <th></th>\n",
       "      <th></th>\n",
       "    </tr>\n",
       "  </thead>\n",
       "  <tbody>\n",
       "    <tr>\n",
       "      <th>2020-01-10 18:00:00</th>\n",
       "      <td>104.55</td>\n",
       "      <td>66.745952</td>\n",
       "      <td>108.340831</td>\n",
       "    </tr>\n",
       "    <tr>\n",
       "      <th>2020-01-10 19:00:00</th>\n",
       "      <td>164.92</td>\n",
       "      <td>64.381573</td>\n",
       "      <td>107.994560</td>\n",
       "    </tr>\n",
       "    <tr>\n",
       "      <th>2020-01-10 20:00:00</th>\n",
       "      <td>211.35</td>\n",
       "      <td>60.732703</td>\n",
       "      <td>114.063304</td>\n",
       "    </tr>\n",
       "    <tr>\n",
       "      <th>2020-01-10 21:00:00</th>\n",
       "      <td>141.20</td>\n",
       "      <td>56.580843</td>\n",
       "      <td>107.384102</td>\n",
       "    </tr>\n",
       "    <tr>\n",
       "      <th>2020-01-10 22:00:00</th>\n",
       "      <td>121.06</td>\n",
       "      <td>52.323649</td>\n",
       "      <td>117.152447</td>\n",
       "    </tr>\n",
       "    <tr>\n",
       "      <th>2020-01-10 23:00:00</th>\n",
       "      <td>119.04</td>\n",
       "      <td>48.211370</td>\n",
       "      <td>118.165976</td>\n",
       "    </tr>\n",
       "    <tr>\n",
       "      <th>2020-01-11 00:00:00</th>\n",
       "      <td>98.77</td>\n",
       "      <td>44.355858</td>\n",
       "      <td>106.594911</td>\n",
       "    </tr>\n",
       "    <tr>\n",
       "      <th>2020-01-11 01:00:00</th>\n",
       "      <td>80.07</td>\n",
       "      <td>40.794275</td>\n",
       "      <td>114.257074</td>\n",
       "    </tr>\n",
       "    <tr>\n",
       "      <th>2020-01-11 02:00:00</th>\n",
       "      <td>86.52</td>\n",
       "      <td>37.539029</td>\n",
       "      <td>107.837632</td>\n",
       "    </tr>\n",
       "    <tr>\n",
       "      <th>2020-01-11 03:00:00</th>\n",
       "      <td>99.19</td>\n",
       "      <td>34.586222</td>\n",
       "      <td>115.923180</td>\n",
       "    </tr>\n",
       "    <tr>\n",
       "      <th>2020-01-11 04:00:00</th>\n",
       "      <td>106.13</td>\n",
       "      <td>31.944079</td>\n",
       "      <td>120.610144</td>\n",
       "    </tr>\n",
       "    <tr>\n",
       "      <th>2020-01-11 05:00:00</th>\n",
       "      <td>119.74</td>\n",
       "      <td>29.620324</td>\n",
       "      <td>112.391703</td>\n",
       "    </tr>\n",
       "    <tr>\n",
       "      <th>2020-01-11 06:00:00</th>\n",
       "      <td>147.07</td>\n",
       "      <td>27.604155</td>\n",
       "      <td>126.758212</td>\n",
       "    </tr>\n",
       "    <tr>\n",
       "      <th>2020-01-11 07:00:00</th>\n",
       "      <td>152.47</td>\n",
       "      <td>25.893503</td>\n",
       "      <td>105.868160</td>\n",
       "    </tr>\n",
       "    <tr>\n",
       "      <th>2020-01-11 08:00:00</th>\n",
       "      <td>137.57</td>\n",
       "      <td>24.510234</td>\n",
       "      <td>117.794886</td>\n",
       "    </tr>\n",
       "    <tr>\n",
       "      <th>2020-01-11 09:00:00</th>\n",
       "      <td>98.44</td>\n",
       "      <td>23.427607</td>\n",
       "      <td>114.092501</td>\n",
       "    </tr>\n",
       "    <tr>\n",
       "      <th>2020-01-11 10:00:00</th>\n",
       "      <td>81.47</td>\n",
       "      <td>22.603304</td>\n",
       "      <td>115.008686</td>\n",
       "    </tr>\n",
       "    <tr>\n",
       "      <th>2020-01-11 11:00:00</th>\n",
       "      <td>74.93</td>\n",
       "      <td>22.031721</td>\n",
       "      <td>111.060068</td>\n",
       "    </tr>\n",
       "    <tr>\n",
       "      <th>2020-01-11 12:00:00</th>\n",
       "      <td>69.56</td>\n",
       "      <td>21.705133</td>\n",
       "      <td>106.173543</td>\n",
       "    </tr>\n",
       "    <tr>\n",
       "      <th>2020-01-11 13:00:00</th>\n",
       "      <td>66.62</td>\n",
       "      <td>21.612825</td>\n",
       "      <td>110.986474</td>\n",
       "    </tr>\n",
       "    <tr>\n",
       "      <th>2020-01-11 14:00:00</th>\n",
       "      <td>57.87</td>\n",
       "      <td>21.725212</td>\n",
       "      <td>98.399218</td>\n",
       "    </tr>\n",
       "    <tr>\n",
       "      <th>2020-01-11 15:00:00</th>\n",
       "      <td>53.99</td>\n",
       "      <td>22.012451</td>\n",
       "      <td>105.583454</td>\n",
       "    </tr>\n",
       "    <tr>\n",
       "      <th>2020-01-11 16:00:00</th>\n",
       "      <td>52.26</td>\n",
       "      <td>22.440504</td>\n",
       "      <td>113.040856</td>\n",
       "    </tr>\n",
       "    <tr>\n",
       "      <th>2020-01-11 17:00:00</th>\n",
       "      <td>53.56</td>\n",
       "      <td>22.967924</td>\n",
       "      <td>108.791565</td>\n",
       "    </tr>\n",
       "  </tbody>\n",
       "</table>\n",
       "</div>"
      ],
      "text/plain": [
       "                      PM2.5  recursive_predict  direct_predict\n",
       "date                                                          \n",
       "2020-01-10 18:00:00  104.55          66.745952      108.340831\n",
       "2020-01-10 19:00:00  164.92          64.381573      107.994560\n",
       "2020-01-10 20:00:00  211.35          60.732703      114.063304\n",
       "2020-01-10 21:00:00  141.20          56.580843      107.384102\n",
       "2020-01-10 22:00:00  121.06          52.323649      117.152447\n",
       "2020-01-10 23:00:00  119.04          48.211370      118.165976\n",
       "2020-01-11 00:00:00   98.77          44.355858      106.594911\n",
       "2020-01-11 01:00:00   80.07          40.794275      114.257074\n",
       "2020-01-11 02:00:00   86.52          37.539029      107.837632\n",
       "2020-01-11 03:00:00   99.19          34.586222      115.923180\n",
       "2020-01-11 04:00:00  106.13          31.944079      120.610144\n",
       "2020-01-11 05:00:00  119.74          29.620324      112.391703\n",
       "2020-01-11 06:00:00  147.07          27.604155      126.758212\n",
       "2020-01-11 07:00:00  152.47          25.893503      105.868160\n",
       "2020-01-11 08:00:00  137.57          24.510234      117.794886\n",
       "2020-01-11 09:00:00   98.44          23.427607      114.092501\n",
       "2020-01-11 10:00:00   81.47          22.603304      115.008686\n",
       "2020-01-11 11:00:00   74.93          22.031721      111.060068\n",
       "2020-01-11 12:00:00   69.56          21.705133      106.173543\n",
       "2020-01-11 13:00:00   66.62          21.612825      110.986474\n",
       "2020-01-11 14:00:00   57.87          21.725212       98.399218\n",
       "2020-01-11 15:00:00   53.99          22.012451      105.583454\n",
       "2020-01-11 16:00:00   52.26          22.440504      113.040856\n",
       "2020-01-11 17:00:00   53.56          22.967924      108.791565"
      ]
     },
     "execution_count": 48,
     "metadata": {},
     "output_type": "execute_result"
    }
   ],
   "source": [
    "test"
   ]
  },
  {
   "cell_type": "markdown",
   "metadata": {},
   "source": [
    "# Direct Recursive Startegy"
   ]
  },
  {
   "cell_type": "code",
   "execution_count": 49,
   "metadata": {},
   "outputs": [],
   "source": [
    "def generate_data(data, n_input, month):\n",
    "    X, y = [], []\n",
    "    for i in range(0,len(data)-(n_input+month)):\n",
    "            X.append(data[i:i+n_input+(month-1)])\n",
    "            y.append(data[i+n_input+(month-1)])\n",
    "    return np.array(X), np.array(y)"
   ]
  },
  {
   "cell_type": "code",
   "execution_count": 50,
   "metadata": {},
   "outputs": [],
   "source": [
    "def model_predict(m_no, train_data, n_input, n_features):\n",
    "    \n",
    "    model = Sequential()\n",
    "    model.add(LSTM(200, activation='relu', input_shape=(n_input+(m_no - 1), n_features)))\n",
    "    model.add(Dense(1))\n",
    "    model.compile(optimizer='adam', loss='mse')\n",
    "    \n",
    "    X, y = generate_data(train_data, n_input, m_no)\n",
    "    #print(y.dtype)\n",
    "    \n",
    "    #print(\"Model No.  - \", m_no)\n",
    "    #print(X[0], y[0])\n",
    "    #print(\"SHAPE XY : \", X.shape, y.shape)\n",
    "    \n",
    "    model.fit(X, y, epochs=3, verbose=0)\n",
    "    \n",
    "    tX = train_data[-n_input:]\n",
    "    tP = np.array(test_predictions)\n",
    "    \n",
    "    tX = np.concatenate((tX, tP), axis=None)\n",
    "    \n",
    "    #print(\"TYPE : \", type(tX), type(tP))\n",
    "    \n",
    "    #print(\"TX : \", tX)\n",
    "        \n",
    "    #print(\"SHAPE : \" , tX.shape)\n",
    "    \n",
    "    tX = tX.reshape((1, tX.shape[0], n_features))\n",
    "    \n",
    "    res = model.predict(tX)\n",
    "    \n",
    "    return res[0]"
   ]
  },
  {
   "cell_type": "code",
   "execution_count": 51,
   "metadata": {},
   "outputs": [
    {
     "data": {
      "text/plain": [
       "[array([0.16197288], dtype=float32),\n",
       " array([0.17858016], dtype=float32),\n",
       " array([0.17302358], dtype=float32),\n",
       " array([0.16714299], dtype=float32),\n",
       " array([0.18923494], dtype=float32),\n",
       " array([0.19718002], dtype=float32),\n",
       " array([0.20354964], dtype=float32),\n",
       " array([0.19522564], dtype=float32),\n",
       " array([0.21561992], dtype=float32),\n",
       " array([0.20246167], dtype=float32),\n",
       " array([0.21147944], dtype=float32),\n",
       " array([0.20290236], dtype=float32),\n",
       " array([0.19373295], dtype=float32),\n",
       " array([0.21246123], dtype=float32),\n",
       " array([0.22285679], dtype=float32),\n",
       " array([0.23515286], dtype=float32),\n",
       " array([0.23571382], dtype=float32),\n",
       " array([0.2247427], dtype=float32),\n",
       " array([0.21902855], dtype=float32),\n",
       " array([0.21695192], dtype=float32),\n",
       " array([0.21924327], dtype=float32),\n",
       " array([0.20950727], dtype=float32),\n",
       " array([0.22242975], dtype=float32),\n",
       " array([0.23055227], dtype=float32)]"
      ]
     },
     "execution_count": 51,
     "metadata": {},
     "output_type": "execute_result"
    }
   ],
   "source": [
    "n_input = 24\n",
    "n_features = 1\n",
    "test_predictions = []\n",
    "\n",
    "for i in range(len(scaled_test)):\n",
    "    pred = model_predict(i+1,scaled_train,n_input, n_features)\n",
    "    test_predictions.append(pred)\n",
    "    \n",
    "test_predictions"
   ]
  },
  {
   "cell_type": "code",
   "execution_count": 52,
   "metadata": {},
   "outputs": [],
   "source": [
    "true_predictions = scaler.inverse_transform(test_predictions)\n",
    "\n",
    "test['direct_recursive_predict'] = true_predictions"
   ]
  },
  {
   "cell_type": "code",
   "execution_count": 53,
   "metadata": {},
   "outputs": [
    {
     "data": {
      "text/plain": [
       "<AxesSubplot:xlabel='date'>"
      ]
     },
     "execution_count": 53,
     "metadata": {},
     "output_type": "execute_result"
    },
    {
     "data": {
      "image/png": "[encoded data removed]",
      "text/plain": [
       "<Figure size 432x288 with 1 Axes>"
      ]
     },
     "metadata": {
      "needs_background": "light"
     },
     "output_type": "display_data"
    }
   ],
   "source": [
    "test.plot()"
   ]
  },
  {
   "cell_type": "code",
   "execution_count": 54,
   "metadata": {},
   "outputs": [
    {
     "name": "stdout",
     "output_type": "stream",
     "text": [
      "46.67889178243332\n"
     ]
    }
   ],
   "source": [
    "rmse = sqrt(mean_squared_error(test['PM2.5'], test['direct_recursive_predict']))\n",
    "print(rmse)"
   ]
  },
  {
   "cell_type": "code",
   "execution_count": 55,
   "metadata": {},
   "outputs": [
    {
     "data": {
      "text/html": [
       "<div>\n",
       "<style scoped>\n",
       "    .dataframe tbody tr th:only-of-type {\n",
       "        vertical-align: middle;\n",
       "    }\n",
       "\n",
       "    .dataframe tbody tr th {\n",
       "        vertical-align: top;\n",
       "    }\n",
       "\n",
       "    .dataframe thead th {\n",
       "        text-align: right;\n",
       "    }\n",
       "</style>\n",
       "<table border=\"1\" class=\"dataframe\">\n",
       "  <thead>\n",
       "    <tr style=\"text-align: right;\">\n",
       "      <th></th>\n",
       "      <th>PM2.5</th>\n",
       "      <th>recursive_predict</th>\n",
       "      <th>direct_predict</th>\n",
       "      <th>direct_recursive_predict</th>\n",
       "    </tr>\n",
       "    <tr>\n",
       "      <th>date</th>\n",
       "      <th></th>\n",
       "      <th></th>\n",
       "      <th></th>\n",
       "      <th></th>\n",
       "    </tr>\n",
       "  </thead>\n",
       "  <tbody>\n",
       "    <tr>\n",
       "      <th>2020-01-10 18:00:00</th>\n",
       "      <td>104.55</td>\n",
       "      <td>66.745952</td>\n",
       "      <td>108.340831</td>\n",
       "      <td>98.679510</td>\n",
       "    </tr>\n",
       "    <tr>\n",
       "      <th>2020-01-10 19:00:00</th>\n",
       "      <td>164.92</td>\n",
       "      <td>64.381573</td>\n",
       "      <td>107.994560</td>\n",
       "      <td>105.409612</td>\n",
       "    </tr>\n",
       "    <tr>\n",
       "      <th>2020-01-10 20:00:00</th>\n",
       "      <td>211.35</td>\n",
       "      <td>60.732703</td>\n",
       "      <td>114.063304</td>\n",
       "      <td>103.157806</td>\n",
       "    </tr>\n",
       "    <tr>\n",
       "      <th>2020-01-10 21:00:00</th>\n",
       "      <td>141.20</td>\n",
       "      <td>56.580843</td>\n",
       "      <td>107.384102</td>\n",
       "      <td>100.774696</td>\n",
       "    </tr>\n",
       "    <tr>\n",
       "      <th>2020-01-10 22:00:00</th>\n",
       "      <td>121.06</td>\n",
       "      <td>52.323649</td>\n",
       "      <td>117.152447</td>\n",
       "      <td>109.727460</td>\n",
       "    </tr>\n",
       "    <tr>\n",
       "      <th>2020-01-10 23:00:00</th>\n",
       "      <td>119.04</td>\n",
       "      <td>48.211370</td>\n",
       "      <td>118.165976</td>\n",
       "      <td>112.947202</td>\n",
       "    </tr>\n",
       "    <tr>\n",
       "      <th>2020-01-11 00:00:00</th>\n",
       "      <td>98.77</td>\n",
       "      <td>44.355858</td>\n",
       "      <td>106.594911</td>\n",
       "      <td>115.528491</td>\n",
       "    </tr>\n",
       "    <tr>\n",
       "      <th>2020-01-11 01:00:00</th>\n",
       "      <td>80.07</td>\n",
       "      <td>40.794275</td>\n",
       "      <td>114.257074</td>\n",
       "      <td>112.155191</td>\n",
       "    </tr>\n",
       "    <tr>\n",
       "      <th>2020-01-11 02:00:00</th>\n",
       "      <td>86.52</td>\n",
       "      <td>37.539029</td>\n",
       "      <td>107.837632</td>\n",
       "      <td>120.419973</td>\n",
       "    </tr>\n",
       "    <tr>\n",
       "      <th>2020-01-11 03:00:00</th>\n",
       "      <td>99.19</td>\n",
       "      <td>34.586222</td>\n",
       "      <td>115.923180</td>\n",
       "      <td>115.087594</td>\n",
       "    </tr>\n",
       "    <tr>\n",
       "      <th>2020-01-11 04:00:00</th>\n",
       "      <td>106.13</td>\n",
       "      <td>31.944079</td>\n",
       "      <td>120.610144</td>\n",
       "      <td>118.742043</td>\n",
       "    </tr>\n",
       "    <tr>\n",
       "      <th>2020-01-11 05:00:00</th>\n",
       "      <td>119.74</td>\n",
       "      <td>29.620324</td>\n",
       "      <td>112.391703</td>\n",
       "      <td>115.266182</td>\n",
       "    </tr>\n",
       "    <tr>\n",
       "      <th>2020-01-11 06:00:00</th>\n",
       "      <td>147.07</td>\n",
       "      <td>27.604155</td>\n",
       "      <td>126.758212</td>\n",
       "      <td>111.550277</td>\n",
       "    </tr>\n",
       "    <tr>\n",
       "      <th>2020-01-11 07:00:00</th>\n",
       "      <td>152.47</td>\n",
       "      <td>25.893503</td>\n",
       "      <td>105.868160</td>\n",
       "      <td>119.139915</td>\n",
       "    </tr>\n",
       "    <tr>\n",
       "      <th>2020-01-11 08:00:00</th>\n",
       "      <td>137.57</td>\n",
       "      <td>24.510234</td>\n",
       "      <td>117.794886</td>\n",
       "      <td>123.352714</td>\n",
       "    </tr>\n",
       "    <tr>\n",
       "      <th>2020-01-11 09:00:00</th>\n",
       "      <td>98.44</td>\n",
       "      <td>23.427607</td>\n",
       "      <td>114.092501</td>\n",
       "      <td>128.335695</td>\n",
       "    </tr>\n",
       "    <tr>\n",
       "      <th>2020-01-11 10:00:00</th>\n",
       "      <td>81.47</td>\n",
       "      <td>22.603304</td>\n",
       "      <td>115.008686</td>\n",
       "      <td>128.563027</td>\n",
       "    </tr>\n",
       "    <tr>\n",
       "      <th>2020-01-11 11:00:00</th>\n",
       "      <td>74.93</td>\n",
       "      <td>22.031721</td>\n",
       "      <td>111.060068</td>\n",
       "      <td>124.116977</td>\n",
       "    </tr>\n",
       "    <tr>\n",
       "      <th>2020-01-11 12:00:00</th>\n",
       "      <td>69.56</td>\n",
       "      <td>21.705133</td>\n",
       "      <td>106.173543</td>\n",
       "      <td>121.801319</td>\n",
       "    </tr>\n",
       "    <tr>\n",
       "      <th>2020-01-11 13:00:00</th>\n",
       "      <td>66.62</td>\n",
       "      <td>21.612825</td>\n",
       "      <td>110.986474</td>\n",
       "      <td>120.959766</td>\n",
       "    </tr>\n",
       "    <tr>\n",
       "      <th>2020-01-11 14:00:00</th>\n",
       "      <td>57.87</td>\n",
       "      <td>21.725212</td>\n",
       "      <td>98.399218</td>\n",
       "      <td>121.888336</td>\n",
       "    </tr>\n",
       "    <tr>\n",
       "      <th>2020-01-11 15:00:00</th>\n",
       "      <td>53.99</td>\n",
       "      <td>22.012451</td>\n",
       "      <td>105.583454</td>\n",
       "      <td>117.942822</td>\n",
       "    </tr>\n",
       "    <tr>\n",
       "      <th>2020-01-11 16:00:00</th>\n",
       "      <td>52.26</td>\n",
       "      <td>22.440504</td>\n",
       "      <td>113.040856</td>\n",
       "      <td>123.179657</td>\n",
       "    </tr>\n",
       "    <tr>\n",
       "      <th>2020-01-11 17:00:00</th>\n",
       "      <td>53.56</td>\n",
       "      <td>22.967924</td>\n",
       "      <td>108.791565</td>\n",
       "      <td>126.471308</td>\n",
       "    </tr>\n",
       "  </tbody>\n",
       "</table>\n",
       "</div>"
      ],
      "text/plain": [
       "                      PM2.5  recursive_predict  direct_predict  \\\n",
       "date                                                             \n",
       "2020-01-10 18:00:00  104.55          66.745952      108.340831   \n",
       "2020-01-10 19:00:00  164.92          64.381573      107.994560   \n",
       "2020-01-10 20:00:00  211.35          60.732703      114.063304   \n",
       "2020-01-10 21:00:00  141.20          56.580843      107.384102   \n",
       "2020-01-10 22:00:00  121.06          52.323649      117.152447   \n",
       "2020-01-10 23:00:00  119.04          48.211370      118.165976   \n",
       "2020-01-11 00:00:00   98.77          44.355858      106.594911   \n",
       "2020-01-11 01:00:00   80.07          40.794275      114.257074   \n",
       "2020-01-11 02:00:00   86.52          37.539029      107.837632   \n",
       "2020-01-11 03:00:00   99.19          34.586222      115.923180   \n",
       "2020-01-11 04:00:00  106.13          31.944079      120.610144   \n",
       "2020-01-11 05:00:00  119.74          29.620324      112.391703   \n",
       "2020-01-11 06:00:00  147.07          27.604155      126.758212   \n",
       "2020-01-11 07:00:00  152.47          25.893503      105.868160   \n",
       "2020-01-11 08:00:00  137.57          24.510234      117.794886   \n",
       "2020-01-11 09:00:00   98.44          23.427607      114.092501   \n",
       "2020-01-11 10:00:00   81.47          22.603304      115.008686   \n",
       "2020-01-11 11:00:00   74.93          22.031721      111.060068   \n",
       "2020-01-11 12:00:00   69.56          21.705133      106.173543   \n",
       "2020-01-11 13:00:00   66.62          21.612825      110.986474   \n",
       "2020-01-11 14:00:00   57.87          21.725212       98.399218   \n",
       "2020-01-11 15:00:00   53.99          22.012451      105.583454   \n",
       "2020-01-11 16:00:00   52.26          22.440504      113.040856   \n",
       "2020-01-11 17:00:00   53.56          22.967924      108.791565   \n",
       "\n",
       "                     direct_recursive_predict  \n",
       "date                                           \n",
       "2020-01-10 18:00:00                 98.679510  \n",
       "2020-01-10 19:00:00                105.409612  \n",
       "2020-01-10 20:00:00                103.157806  \n",
       "2020-01-10 21:00:00                100.774696  \n",
       "2020-01-10 22:00:00                109.727460  \n",
       "2020-01-10 23:00:00                112.947202  \n",
       "2020-01-11 00:00:00                115.528491  \n",
       "2020-01-11 01:00:00                112.155191  \n",
       "2020-01-11 02:00:00                120.419973  \n",
       "2020-01-11 03:00:00                115.087594  \n",
       "2020-01-11 04:00:00                118.742043  \n",
       "2020-01-11 05:00:00                115.266182  \n",
       "2020-01-11 06:00:00                111.550277  \n",
       "2020-01-11 07:00:00                119.139915  \n",
       "2020-01-11 08:00:00                123.352714  \n",
       "2020-01-11 09:00:00                128.335695  \n",
       "2020-01-11 10:00:00                128.563027  \n",
       "2020-01-11 11:00:00                124.116977  \n",
       "2020-01-11 12:00:00                121.801319  \n",
       "2020-01-11 13:00:00                120.959766  \n",
       "2020-01-11 14:00:00                121.888336  \n",
       "2020-01-11 15:00:00                117.942822  \n",
       "2020-01-11 16:00:00                123.179657  \n",
       "2020-01-11 17:00:00                126.471308  "
      ]
     },
     "execution_count": 55,
     "metadata": {},
     "output_type": "execute_result"
    }
   ],
   "source": [
    "test"
   ]
  },
  {
   "cell_type": "markdown",
   "metadata": {},
   "source": [
    "# MIMO"
   ]
  },
  {
   "cell_type": "code",
   "execution_count": 56,
   "metadata": {},
   "outputs": [],
   "source": [
    "def generate_data(data, n_input, n_output):\n",
    "    X, y = [], []\n",
    "    for i in range(0,len(data)-(n_input+n_output)):\n",
    "            X.append(data[i:(i+n_input)])\n",
    "            y.append(data[i+n_input: i+n_input+n_output])\n",
    "    return np.array(X), np.array(y)"
   ]
  },
  {
   "cell_type": "code",
   "execution_count": 57,
   "metadata": {},
   "outputs": [],
   "source": [
    "n_input = 24\n",
    "n_features = 1\n",
    "n_output = len(scaled_test)\n",
    "\n",
    "X, y = generate_data(scaled_train, n_input, n_output)"
   ]
  },
  {
   "cell_type": "code",
   "execution_count": 58,
   "metadata": {},
   "outputs": [],
   "source": [
    "model = Sequential()\n",
    "model.add(LSTM(200, activation='relu', input_shape=(n_input, n_features)))\n",
    "model.add(Dense(n_output))\n",
    "model.compile(optimizer='adam', loss='mse')"
   ]
  },
  {
   "cell_type": "code",
   "execution_count": 59,
   "metadata": {},
   "outputs": [
    {
     "data": {
      "text/plain": [
       "<keras.callbacks.History at 0x1b9388e8d90>"
      ]
     },
     "execution_count": 59,
     "metadata": {},
     "output_type": "execute_result"
    }
   ],
   "source": [
    "model.fit(X, y, epochs=3, verbose=0)"
   ]
  },
  {
   "cell_type": "code",
   "execution_count": 60,
   "metadata": {},
   "outputs": [
    {
     "name": "stdout",
     "output_type": "stream",
     "text": [
      "Model: \"sequential_49\"\n",
      "_________________________________________________________________\n",
      "Layer (type)                 Output Shape              Param #   \n",
      "=================================================================\n",
      "lstm_49 (LSTM)               (None, 200)               161600    \n",
      "_________________________________________________________________\n",
      "dense_49 (Dense)             (None, 24)                4824      \n",
      "=================================================================\n",
      "Total params: 166,424\n",
      "Trainable params: 166,424\n",
      "Non-trainable params: 0\n",
      "_________________________________________________________________\n"
     ]
    }
   ],
   "source": [
    "model.summary()"
   ]
  },
  {
   "cell_type": "code",
   "execution_count": 61,
   "metadata": {},
   "outputs": [],
   "source": [
    "tX = scaled_train[-n_input:]\n",
    "tX = tX.reshape((1, tX.shape[0], n_features))\n",
    "\n",
    "res = model.predict(tX)\n",
    "\n",
    "res = res.reshape((res.shape[1],1))"
   ]
  },
  {
   "cell_type": "code",
   "execution_count": 62,
   "metadata": {},
   "outputs": [
    {
     "data": {
      "text/plain": [
       "(24, 1)"
      ]
     },
     "execution_count": 62,
     "metadata": {},
     "output_type": "execute_result"
    }
   ],
   "source": [
    "res.shape"
   ]
  },
  {
   "cell_type": "code",
   "execution_count": 63,
   "metadata": {},
   "outputs": [],
   "source": [
    "true_predictions = scaler.inverse_transform(res)\n",
    "\n",
    "test['MIMO_predict'] = true_predictions"
   ]
  },
  {
   "cell_type": "code",
   "execution_count": 64,
   "metadata": {},
   "outputs": [
    {
     "data": {
      "text/html": [
       "<div>\n",
       "<style scoped>\n",
       "    .dataframe tbody tr th:only-of-type {\n",
       "        vertical-align: middle;\n",
       "    }\n",
       "\n",
       "    .dataframe tbody tr th {\n",
       "        vertical-align: top;\n",
       "    }\n",
       "\n",
       "    .dataframe thead th {\n",
       "        text-align: right;\n",
       "    }\n",
       "</style>\n",
       "<table border=\"1\" class=\"dataframe\">\n",
       "  <thead>\n",
       "    <tr style=\"text-align: right;\">\n",
       "      <th></th>\n",
       "      <th>PM2.5</th>\n",
       "      <th>recursive_predict</th>\n",
       "      <th>direct_predict</th>\n",
       "      <th>direct_recursive_predict</th>\n",
       "      <th>MIMO_predict</th>\n",
       "    </tr>\n",
       "    <tr>\n",
       "      <th>date</th>\n",
       "      <th></th>\n",
       "      <th></th>\n",
       "      <th></th>\n",
       "      <th></th>\n",
       "      <th></th>\n",
       "    </tr>\n",
       "  </thead>\n",
       "  <tbody>\n",
       "    <tr>\n",
       "      <th>2020-01-10 18:00:00</th>\n",
       "      <td>104.55</td>\n",
       "      <td>66.745952</td>\n",
       "      <td>108.340831</td>\n",
       "      <td>98.679510</td>\n",
       "      <td>134.397842</td>\n",
       "    </tr>\n",
       "    <tr>\n",
       "      <th>2020-01-10 19:00:00</th>\n",
       "      <td>164.92</td>\n",
       "      <td>64.381573</td>\n",
       "      <td>107.994560</td>\n",
       "      <td>105.409612</td>\n",
       "      <td>129.340073</td>\n",
       "    </tr>\n",
       "    <tr>\n",
       "      <th>2020-01-10 20:00:00</th>\n",
       "      <td>211.35</td>\n",
       "      <td>60.732703</td>\n",
       "      <td>114.063304</td>\n",
       "      <td>103.157806</td>\n",
       "      <td>129.658905</td>\n",
       "    </tr>\n",
       "    <tr>\n",
       "      <th>2020-01-10 21:00:00</th>\n",
       "      <td>141.20</td>\n",
       "      <td>56.580843</td>\n",
       "      <td>107.384102</td>\n",
       "      <td>100.774696</td>\n",
       "      <td>136.322266</td>\n",
       "    </tr>\n",
       "    <tr>\n",
       "      <th>2020-01-10 22:00:00</th>\n",
       "      <td>121.06</td>\n",
       "      <td>52.323649</td>\n",
       "      <td>117.152447</td>\n",
       "      <td>109.727460</td>\n",
       "      <td>129.196533</td>\n",
       "    </tr>\n",
       "    <tr>\n",
       "      <th>2020-01-10 23:00:00</th>\n",
       "      <td>119.04</td>\n",
       "      <td>48.211370</td>\n",
       "      <td>118.165976</td>\n",
       "      <td>112.947202</td>\n",
       "      <td>132.671356</td>\n",
       "    </tr>\n",
       "    <tr>\n",
       "      <th>2020-01-11 00:00:00</th>\n",
       "      <td>98.77</td>\n",
       "      <td>44.355858</td>\n",
       "      <td>106.594911</td>\n",
       "      <td>115.528491</td>\n",
       "      <td>131.840439</td>\n",
       "    </tr>\n",
       "    <tr>\n",
       "      <th>2020-01-11 01:00:00</th>\n",
       "      <td>80.07</td>\n",
       "      <td>40.794275</td>\n",
       "      <td>114.257074</td>\n",
       "      <td>112.155191</td>\n",
       "      <td>135.598434</td>\n",
       "    </tr>\n",
       "    <tr>\n",
       "      <th>2020-01-11 02:00:00</th>\n",
       "      <td>86.52</td>\n",
       "      <td>37.539029</td>\n",
       "      <td>107.837632</td>\n",
       "      <td>120.419973</td>\n",
       "      <td>130.972626</td>\n",
       "    </tr>\n",
       "    <tr>\n",
       "      <th>2020-01-11 03:00:00</th>\n",
       "      <td>99.19</td>\n",
       "      <td>34.586222</td>\n",
       "      <td>115.923180</td>\n",
       "      <td>115.087594</td>\n",
       "      <td>133.474747</td>\n",
       "    </tr>\n",
       "    <tr>\n",
       "      <th>2020-01-11 04:00:00</th>\n",
       "      <td>106.13</td>\n",
       "      <td>31.944079</td>\n",
       "      <td>120.610144</td>\n",
       "      <td>118.742043</td>\n",
       "      <td>128.308334</td>\n",
       "    </tr>\n",
       "    <tr>\n",
       "      <th>2020-01-11 05:00:00</th>\n",
       "      <td>119.74</td>\n",
       "      <td>29.620324</td>\n",
       "      <td>112.391703</td>\n",
       "      <td>115.266182</td>\n",
       "      <td>134.409363</td>\n",
       "    </tr>\n",
       "    <tr>\n",
       "      <th>2020-01-11 06:00:00</th>\n",
       "      <td>147.07</td>\n",
       "      <td>27.604155</td>\n",
       "      <td>126.758212</td>\n",
       "      <td>111.550277</td>\n",
       "      <td>127.013542</td>\n",
       "    </tr>\n",
       "    <tr>\n",
       "      <th>2020-01-11 07:00:00</th>\n",
       "      <td>152.47</td>\n",
       "      <td>25.893503</td>\n",
       "      <td>105.868160</td>\n",
       "      <td>119.139915</td>\n",
       "      <td>125.790573</td>\n",
       "    </tr>\n",
       "    <tr>\n",
       "      <th>2020-01-11 08:00:00</th>\n",
       "      <td>137.57</td>\n",
       "      <td>24.510234</td>\n",
       "      <td>117.794886</td>\n",
       "      <td>123.352714</td>\n",
       "      <td>135.513382</td>\n",
       "    </tr>\n",
       "    <tr>\n",
       "      <th>2020-01-11 09:00:00</th>\n",
       "      <td>98.44</td>\n",
       "      <td>23.427607</td>\n",
       "      <td>114.092501</td>\n",
       "      <td>128.335695</td>\n",
       "      <td>134.828293</td>\n",
       "    </tr>\n",
       "    <tr>\n",
       "      <th>2020-01-11 10:00:00</th>\n",
       "      <td>81.47</td>\n",
       "      <td>22.603304</td>\n",
       "      <td>115.008686</td>\n",
       "      <td>128.563027</td>\n",
       "      <td>128.068359</td>\n",
       "    </tr>\n",
       "    <tr>\n",
       "      <th>2020-01-11 11:00:00</th>\n",
       "      <td>74.93</td>\n",
       "      <td>22.031721</td>\n",
       "      <td>111.060068</td>\n",
       "      <td>124.116977</td>\n",
       "      <td>131.352692</td>\n",
       "    </tr>\n",
       "    <tr>\n",
       "      <th>2020-01-11 12:00:00</th>\n",
       "      <td>69.56</td>\n",
       "      <td>21.705133</td>\n",
       "      <td>106.173543</td>\n",
       "      <td>121.801319</td>\n",
       "      <td>131.786484</td>\n",
       "    </tr>\n",
       "    <tr>\n",
       "      <th>2020-01-11 13:00:00</th>\n",
       "      <td>66.62</td>\n",
       "      <td>21.612825</td>\n",
       "      <td>110.986474</td>\n",
       "      <td>120.959766</td>\n",
       "      <td>125.363670</td>\n",
       "    </tr>\n",
       "    <tr>\n",
       "      <th>2020-01-11 14:00:00</th>\n",
       "      <td>57.87</td>\n",
       "      <td>21.725212</td>\n",
       "      <td>98.399218</td>\n",
       "      <td>121.888336</td>\n",
       "      <td>127.120895</td>\n",
       "    </tr>\n",
       "    <tr>\n",
       "      <th>2020-01-11 15:00:00</th>\n",
       "      <td>53.99</td>\n",
       "      <td>22.012451</td>\n",
       "      <td>105.583454</td>\n",
       "      <td>117.942822</td>\n",
       "      <td>126.631340</td>\n",
       "    </tr>\n",
       "    <tr>\n",
       "      <th>2020-01-11 16:00:00</th>\n",
       "      <td>52.26</td>\n",
       "      <td>22.440504</td>\n",
       "      <td>113.040856</td>\n",
       "      <td>123.179657</td>\n",
       "      <td>125.012306</td>\n",
       "    </tr>\n",
       "    <tr>\n",
       "      <th>2020-01-11 17:00:00</th>\n",
       "      <td>53.56</td>\n",
       "      <td>22.967924</td>\n",
       "      <td>108.791565</td>\n",
       "      <td>126.471308</td>\n",
       "      <td>124.780365</td>\n",
       "    </tr>\n",
       "  </tbody>\n",
       "</table>\n",
       "</div>"
      ],
      "text/plain": [
       "                      PM2.5  recursive_predict  direct_predict  \\\n",
       "date                                                             \n",
       "2020-01-10 18:00:00  104.55          66.745952      108.340831   \n",
       "2020-01-10 19:00:00  164.92          64.381573      107.994560   \n",
       "2020-01-10 20:00:00  211.35          60.732703      114.063304   \n",
       "2020-01-10 21:00:00  141.20          56.580843      107.384102   \n",
       "2020-01-10 22:00:00  121.06          52.323649      117.152447   \n",
       "2020-01-10 23:00:00  119.04          48.211370      118.165976   \n",
       "2020-01-11 00:00:00   98.77          44.355858      106.594911   \n",
       "2020-01-11 01:00:00   80.07          40.794275      114.257074   \n",
       "2020-01-11 02:00:00   86.52          37.539029      107.837632   \n",
       "2020-01-11 03:00:00   99.19          34.586222      115.923180   \n",
       "2020-01-11 04:00:00  106.13          31.944079      120.610144   \n",
       "2020-01-11 05:00:00  119.74          29.620324      112.391703   \n",
       "2020-01-11 06:00:00  147.07          27.604155      126.758212   \n",
       "2020-01-11 07:00:00  152.47          25.893503      105.868160   \n",
       "2020-01-11 08:00:00  137.57          24.510234      117.794886   \n",
       "2020-01-11 09:00:00   98.44          23.427607      114.092501   \n",
       "2020-01-11 10:00:00   81.47          22.603304      115.008686   \n",
       "2020-01-11 11:00:00   74.93          22.031721      111.060068   \n",
       "2020-01-11 12:00:00   69.56          21.705133      106.173543   \n",
       "2020-01-11 13:00:00   66.62          21.612825      110.986474   \n",
       "2020-01-11 14:00:00   57.87          21.725212       98.399218   \n",
       "2020-01-11 15:00:00   53.99          22.012451      105.583454   \n",
       "2020-01-11 16:00:00   52.26          22.440504      113.040856   \n",
       "2020-01-11 17:00:00   53.56          22.967924      108.791565   \n",
       "\n",
       "                     direct_recursive_predict  MIMO_predict  \n",
       "date                                                         \n",
       "2020-01-10 18:00:00                 98.679510    134.397842  \n",
       "2020-01-10 19:00:00                105.409612    129.340073  \n",
       "2020-01-10 20:00:00                103.157806    129.658905  \n",
       "2020-01-10 21:00:00                100.774696    136.322266  \n",
       "2020-01-10 22:00:00                109.727460    129.196533  \n",
       "2020-01-10 23:00:00                112.947202    132.671356  \n",
       "2020-01-11 00:00:00                115.528491    131.840439  \n",
       "2020-01-11 01:00:00                112.155191    135.598434  \n",
       "2020-01-11 02:00:00                120.419973    130.972626  \n",
       "2020-01-11 03:00:00                115.087594    133.474747  \n",
       "2020-01-11 04:00:00                118.742043    128.308334  \n",
       "2020-01-11 05:00:00                115.266182    134.409363  \n",
       "2020-01-11 06:00:00                111.550277    127.013542  \n",
       "2020-01-11 07:00:00                119.139915    125.790573  \n",
       "2020-01-11 08:00:00                123.352714    135.513382  \n",
       "2020-01-11 09:00:00                128.335695    134.828293  \n",
       "2020-01-11 10:00:00                128.563027    128.068359  \n",
       "2020-01-11 11:00:00                124.116977    131.352692  \n",
       "2020-01-11 12:00:00                121.801319    131.786484  \n",
       "2020-01-11 13:00:00                120.959766    125.363670  \n",
       "2020-01-11 14:00:00                121.888336    127.120895  \n",
       "2020-01-11 15:00:00                117.942822    126.631340  \n",
       "2020-01-11 16:00:00                123.179657    125.012306  \n",
       "2020-01-11 17:00:00                126.471308    124.780365  "
      ]
     },
     "execution_count": 64,
     "metadata": {},
     "output_type": "execute_result"
    }
   ],
   "source": [
    "test"
   ]
  },
  {
   "cell_type": "code",
   "execution_count": 65,
   "metadata": {},
   "outputs": [
    {
     "data": {
      "text/plain": [
       "<AxesSubplot:xlabel='date'>"
      ]
     },
     "execution_count": 65,
     "metadata": {},
     "output_type": "execute_result"
    },
    {
     "data": {
      "image/png": "[encoded data removed]",
      "text/plain": [
       "<Figure size 432x288 with 1 Axes>"
      ]
     },
     "metadata": {
      "needs_background": "light"
     },
     "output_type": "display_data"
    }
   ],
   "source": [
    "test.plot()"
   ]
  },
  {
   "cell_type": "code",
   "execution_count": 66,
   "metadata": {},
   "outputs": [
    {
     "name": "stdout",
     "output_type": "stream",
     "text": [
      "46.859559742484194\n"
     ]
    }
   ],
   "source": [
    "rmse = sqrt(mean_squared_error(test['PM2.5'], test['MIMO_predict']))\n",
    "print(rmse)"
   ]
  },
  {
   "cell_type": "markdown",
   "metadata": {},
   "source": [
    "# Direct MIMO"
   ]
  },
  {
   "cell_type": "code",
   "execution_count": 67,
   "metadata": {},
   "outputs": [],
   "source": [
    "def generate_data(data, n_input, q_no, n_output):\n",
    "    X, y = [], []\n",
    "    for i in range(0,len(data)-(n_input + ((q_no-1)*n_output) + n_output)):\n",
    "            X.append(data[i:(i+n_input)])\n",
    "            y.append(data[i+n_input+((q_no-1)*n_output): i+n_input+((q_no-1)*n_output) + n_output])\n",
    "    return np.array(X), np.array(y)"
   ]
  },
  {
   "cell_type": "code",
   "execution_count": 68,
   "metadata": {},
   "outputs": [],
   "source": [
    "def model_predict(train_data, n_input, n_features, q_no, n_output):\n",
    "    \n",
    "    model = Sequential()\n",
    "    model.add(LSTM(200, activation='relu', input_shape=(n_input, n_features)))\n",
    "    model.add(Dense(n_output))\n",
    "    model.compile(optimizer='adam', loss='mse')\n",
    "    \n",
    "    X, y = generate_data(train_data, n_input, q_no, n_output)\n",
    "    \n",
    "    model.fit(X, y, epochs=3, verbose=0)\n",
    "    \n",
    "    tX = train_data[-n_input:]\n",
    "    \n",
    "    tX = tX.reshape((1, n_input, n_features))\n",
    "    \n",
    "    res = model.predict(tX)\n",
    "    \n",
    "    return res"
   ]
  },
  {
   "cell_type": "code",
   "execution_count": 70,
   "metadata": {},
   "outputs": [
    {
     "data": {
      "text/plain": [
       "[array([[0.21694164, 0.22533119, 0.22838312, 0.21442744, 0.2348451 ,\n",
       "         0.24214786]], dtype=float32),\n",
       " array([[0.21965382, 0.2123121 , 0.21357262, 0.22599857, 0.22391811,\n",
       "         0.23134787]], dtype=float32),\n",
       " array([[0.21950829, 0.21704109, 0.22087887, 0.20961821, 0.21905413,\n",
       "         0.19842863]], dtype=float32),\n",
       " array([[0.22226661, 0.20567565, 0.20023647, 0.19364133, 0.18649538,\n",
       "         0.20641494]], dtype=float32)]"
      ]
     },
     "execution_count": 70,
     "metadata": {},
     "output_type": "execute_result"
    }
   ],
   "source": [
    "n_input = 12\n",
    "n_features = 1\n",
    "test_predictions = []\n",
    "\n",
    "n_output = 6\n",
    "\n",
    "q = int(len(scaled_test)/n_output)\n",
    "\n",
    "\n",
    "for i in range(q):\n",
    "    pred = model_predict(scaled_train,n_input, n_features, i+1, n_output)\n",
    "    test_predictions.append(pred)\n",
    "\n",
    "test_predictions"
   ]
  },
  {
   "cell_type": "code",
   "execution_count": 71,
   "metadata": {},
   "outputs": [],
   "source": [
    "res = []\n",
    "\n",
    "for i in test_predictions:\n",
    "    for j in i:\n",
    "        for k in j:\n",
    "            res.append(k)"
   ]
  },
  {
   "cell_type": "code",
   "execution_count": 72,
   "metadata": {},
   "outputs": [
    {
     "data": {
      "text/plain": [
       "(24, 1)"
      ]
     },
     "execution_count": 72,
     "metadata": {},
     "output_type": "execute_result"
    }
   ],
   "source": [
    "res = np.array(res)\n",
    "res = res.reshape((res.shape[0],1))\n",
    "res.shape"
   ]
  },
  {
   "cell_type": "code",
   "execution_count": 73,
   "metadata": {},
   "outputs": [],
   "source": [
    "true_predictions = scaler.inverse_transform(res)\n",
    "\n",
    "test['Direct_MIMO_predict'] = true_predictions"
   ]
  },
  {
   "cell_type": "code",
   "execution_count": 74,
   "metadata": {},
   "outputs": [
    {
     "data": {
      "text/html": [
       "<div>\n",
       "<style scoped>\n",
       "    .dataframe tbody tr th:only-of-type {\n",
       "        vertical-align: middle;\n",
       "    }\n",
       "\n",
       "    .dataframe tbody tr th {\n",
       "        vertical-align: top;\n",
       "    }\n",
       "\n",
       "    .dataframe thead th {\n",
       "        text-align: right;\n",
       "    }\n",
       "</style>\n",
       "<table border=\"1\" class=\"dataframe\">\n",
       "  <thead>\n",
       "    <tr style=\"text-align: right;\">\n",
       "      <th></th>\n",
       "      <th>PM2.5</th>\n",
       "      <th>recursive_predict</th>\n",
       "      <th>direct_predict</th>\n",
       "      <th>direct_recursive_predict</th>\n",
       "      <th>MIMO_predict</th>\n",
       "      <th>Direct_MIMO_predict</th>\n",
       "    </tr>\n",
       "    <tr>\n",
       "      <th>date</th>\n",
       "      <th></th>\n",
       "      <th></th>\n",
       "      <th></th>\n",
       "      <th></th>\n",
       "      <th></th>\n",
       "      <th></th>\n",
       "    </tr>\n",
       "  </thead>\n",
       "  <tbody>\n",
       "    <tr>\n",
       "      <th>2020-01-10 18:00:00</th>\n",
       "      <td>104.55</td>\n",
       "      <td>66.745952</td>\n",
       "      <td>108.340831</td>\n",
       "      <td>98.679510</td>\n",
       "      <td>134.397842</td>\n",
       "      <td>120.955605</td>\n",
       "    </tr>\n",
       "    <tr>\n",
       "      <th>2020-01-10 19:00:00</th>\n",
       "      <td>164.92</td>\n",
       "      <td>64.381573</td>\n",
       "      <td>107.994560</td>\n",
       "      <td>105.409612</td>\n",
       "      <td>129.340073</td>\n",
       "      <td>124.355461</td>\n",
       "    </tr>\n",
       "    <tr>\n",
       "      <th>2020-01-10 20:00:00</th>\n",
       "      <td>211.35</td>\n",
       "      <td>60.732703</td>\n",
       "      <td>114.063304</td>\n",
       "      <td>103.157806</td>\n",
       "      <td>129.658905</td>\n",
       "      <td>125.592262</td>\n",
       "    </tr>\n",
       "    <tr>\n",
       "      <th>2020-01-10 21:00:00</th>\n",
       "      <td>141.20</td>\n",
       "      <td>56.580843</td>\n",
       "      <td>107.384102</td>\n",
       "      <td>100.774696</td>\n",
       "      <td>136.322266</td>\n",
       "      <td>119.936722</td>\n",
       "    </tr>\n",
       "    <tr>\n",
       "      <th>2020-01-10 22:00:00</th>\n",
       "      <td>121.06</td>\n",
       "      <td>52.323649</td>\n",
       "      <td>117.152447</td>\n",
       "      <td>109.727460</td>\n",
       "      <td>129.196533</td>\n",
       "      <td>128.210983</td>\n",
       "    </tr>\n",
       "    <tr>\n",
       "      <th>2020-01-10 23:00:00</th>\n",
       "      <td>119.04</td>\n",
       "      <td>48.211370</td>\n",
       "      <td>118.165976</td>\n",
       "      <td>112.947202</td>\n",
       "      <td>132.671356</td>\n",
       "      <td>131.170425</td>\n",
       "    </tr>\n",
       "    <tr>\n",
       "      <th>2020-01-11 00:00:00</th>\n",
       "      <td>98.77</td>\n",
       "      <td>44.355858</td>\n",
       "      <td>106.594911</td>\n",
       "      <td>115.528491</td>\n",
       "      <td>131.840439</td>\n",
       "      <td>122.054710</td>\n",
       "    </tr>\n",
       "    <tr>\n",
       "      <th>2020-01-11 01:00:00</th>\n",
       "      <td>80.07</td>\n",
       "      <td>40.794275</td>\n",
       "      <td>114.257074</td>\n",
       "      <td>112.155191</td>\n",
       "      <td>135.598434</td>\n",
       "      <td>119.079475</td>\n",
       "    </tr>\n",
       "    <tr>\n",
       "      <th>2020-01-11 02:00:00</th>\n",
       "      <td>86.52</td>\n",
       "      <td>37.539029</td>\n",
       "      <td>107.837632</td>\n",
       "      <td>120.419973</td>\n",
       "      <td>130.972626</td>\n",
       "      <td>119.590302</td>\n",
       "    </tr>\n",
       "    <tr>\n",
       "      <th>2020-01-11 03:00:00</th>\n",
       "      <td>99.19</td>\n",
       "      <td>34.586222</td>\n",
       "      <td>115.923180</td>\n",
       "      <td>115.087594</td>\n",
       "      <td>133.474747</td>\n",
       "      <td>124.625923</td>\n",
       "    </tr>\n",
       "    <tr>\n",
       "      <th>2020-01-11 04:00:00</th>\n",
       "      <td>106.13</td>\n",
       "      <td>31.944079</td>\n",
       "      <td>120.610144</td>\n",
       "      <td>118.742043</td>\n",
       "      <td>128.308334</td>\n",
       "      <td>123.782814</td>\n",
       "    </tr>\n",
       "    <tr>\n",
       "      <th>2020-01-11 05:00:00</th>\n",
       "      <td>119.74</td>\n",
       "      <td>29.620324</td>\n",
       "      <td>112.391703</td>\n",
       "      <td>115.266182</td>\n",
       "      <td>134.409363</td>\n",
       "      <td>126.793732</td>\n",
       "    </tr>\n",
       "    <tr>\n",
       "      <th>2020-01-11 06:00:00</th>\n",
       "      <td>147.07</td>\n",
       "      <td>27.604155</td>\n",
       "      <td>126.758212</td>\n",
       "      <td>111.550277</td>\n",
       "      <td>127.013542</td>\n",
       "      <td>121.995735</td>\n",
       "    </tr>\n",
       "    <tr>\n",
       "      <th>2020-01-11 07:00:00</th>\n",
       "      <td>152.47</td>\n",
       "      <td>25.893503</td>\n",
       "      <td>105.868160</td>\n",
       "      <td>119.139915</td>\n",
       "      <td>125.790573</td>\n",
       "      <td>120.995903</td>\n",
       "    </tr>\n",
       "    <tr>\n",
       "      <th>2020-01-11 08:00:00</th>\n",
       "      <td>137.57</td>\n",
       "      <td>24.510234</td>\n",
       "      <td>117.794886</td>\n",
       "      <td>123.352714</td>\n",
       "      <td>135.513382</td>\n",
       "      <td>122.551163</td>\n",
       "    </tr>\n",
       "    <tr>\n",
       "      <th>2020-01-11 09:00:00</th>\n",
       "      <td>98.44</td>\n",
       "      <td>23.427607</td>\n",
       "      <td>114.092501</td>\n",
       "      <td>128.335695</td>\n",
       "      <td>134.828293</td>\n",
       "      <td>117.987778</td>\n",
       "    </tr>\n",
       "    <tr>\n",
       "      <th>2020-01-11 10:00:00</th>\n",
       "      <td>81.47</td>\n",
       "      <td>22.603304</td>\n",
       "      <td>115.008686</td>\n",
       "      <td>128.563027</td>\n",
       "      <td>128.068359</td>\n",
       "      <td>121.811684</td>\n",
       "    </tr>\n",
       "    <tr>\n",
       "      <th>2020-01-11 11:00:00</th>\n",
       "      <td>74.93</td>\n",
       "      <td>22.031721</td>\n",
       "      <td>111.060068</td>\n",
       "      <td>124.116977</td>\n",
       "      <td>131.352692</td>\n",
       "      <td>113.453201</td>\n",
       "    </tr>\n",
       "    <tr>\n",
       "      <th>2020-01-11 12:00:00</th>\n",
       "      <td>69.56</td>\n",
       "      <td>21.705133</td>\n",
       "      <td>106.173543</td>\n",
       "      <td>121.801319</td>\n",
       "      <td>131.786484</td>\n",
       "      <td>123.113541</td>\n",
       "    </tr>\n",
       "    <tr>\n",
       "      <th>2020-01-11 13:00:00</th>\n",
       "      <td>66.62</td>\n",
       "      <td>21.612825</td>\n",
       "      <td>110.986474</td>\n",
       "      <td>120.959766</td>\n",
       "      <td>125.363670</td>\n",
       "      <td>116.390060</td>\n",
       "    </tr>\n",
       "    <tr>\n",
       "      <th>2020-01-11 14:00:00</th>\n",
       "      <td>57.87</td>\n",
       "      <td>21.725212</td>\n",
       "      <td>98.399218</td>\n",
       "      <td>121.888336</td>\n",
       "      <td>127.120895</td>\n",
       "      <td>114.185829</td>\n",
       "    </tr>\n",
       "    <tr>\n",
       "      <th>2020-01-11 15:00:00</th>\n",
       "      <td>53.99</td>\n",
       "      <td>22.012451</td>\n",
       "      <td>105.583454</td>\n",
       "      <td>117.942822</td>\n",
       "      <td>126.631340</td>\n",
       "      <td>111.513145</td>\n",
       "    </tr>\n",
       "    <tr>\n",
       "      <th>2020-01-11 16:00:00</th>\n",
       "      <td>52.26</td>\n",
       "      <td>22.440504</td>\n",
       "      <td>113.040856</td>\n",
       "      <td>123.179657</td>\n",
       "      <td>125.012306</td>\n",
       "      <td>108.617256</td>\n",
       "    </tr>\n",
       "    <tr>\n",
       "      <th>2020-01-11 17:00:00</th>\n",
       "      <td>53.56</td>\n",
       "      <td>22.967924</td>\n",
       "      <td>108.791565</td>\n",
       "      <td>126.471308</td>\n",
       "      <td>124.780365</td>\n",
       "      <td>116.689651</td>\n",
       "    </tr>\n",
       "  </tbody>\n",
       "</table>\n",
       "</div>"
      ],
      "text/plain": [
       "                      PM2.5  recursive_predict  direct_predict  \\\n",
       "date                                                             \n",
       "2020-01-10 18:00:00  104.55          66.745952      108.340831   \n",
       "2020-01-10 19:00:00  164.92          64.381573      107.994560   \n",
       "2020-01-10 20:00:00  211.35          60.732703      114.063304   \n",
       "2020-01-10 21:00:00  141.20          56.580843      107.384102   \n",
       "2020-01-10 22:00:00  121.06          52.323649      117.152447   \n",
       "2020-01-10 23:00:00  119.04          48.211370      118.165976   \n",
       "2020-01-11 00:00:00   98.77          44.355858      106.594911   \n",
       "2020-01-11 01:00:00   80.07          40.794275      114.257074   \n",
       "2020-01-11 02:00:00   86.52          37.539029      107.837632   \n",
       "2020-01-11 03:00:00   99.19          34.586222      115.923180   \n",
       "2020-01-11 04:00:00  106.13          31.944079      120.610144   \n",
       "2020-01-11 05:00:00  119.74          29.620324      112.391703   \n",
       "2020-01-11 06:00:00  147.07          27.604155      126.758212   \n",
       "2020-01-11 07:00:00  152.47          25.893503      105.868160   \n",
       "2020-01-11 08:00:00  137.57          24.510234      117.794886   \n",
       "2020-01-11 09:00:00   98.44          23.427607      114.092501   \n",
       "2020-01-11 10:00:00   81.47          22.603304      115.008686   \n",
       "2020-01-11 11:00:00   74.93          22.031721      111.060068   \n",
       "2020-01-11 12:00:00   69.56          21.705133      106.173543   \n",
       "2020-01-11 13:00:00   66.62          21.612825      110.986474   \n",
       "2020-01-11 14:00:00   57.87          21.725212       98.399218   \n",
       "2020-01-11 15:00:00   53.99          22.012451      105.583454   \n",
       "2020-01-11 16:00:00   52.26          22.440504      113.040856   \n",
       "2020-01-11 17:00:00   53.56          22.967924      108.791565   \n",
       "\n",
       "                     direct_recursive_predict  MIMO_predict  \\\n",
       "date                                                          \n",
       "2020-01-10 18:00:00                 98.679510    134.397842   \n",
       "2020-01-10 19:00:00                105.409612    129.340073   \n",
       "2020-01-10 20:00:00                103.157806    129.658905   \n",
       "2020-01-10 21:00:00                100.774696    136.322266   \n",
       "2020-01-10 22:00:00                109.727460    129.196533   \n",
       "2020-01-10 23:00:00                112.947202    132.671356   \n",
       "2020-01-11 00:00:00                115.528491    131.840439   \n",
       "2020-01-11 01:00:00                112.155191    135.598434   \n",
       "2020-01-11 02:00:00                120.419973    130.972626   \n",
       "2020-01-11 03:00:00                115.087594    133.474747   \n",
       "2020-01-11 04:00:00                118.742043    128.308334   \n",
       "2020-01-11 05:00:00                115.266182    134.409363   \n",
       "2020-01-11 06:00:00                111.550277    127.013542   \n",
       "2020-01-11 07:00:00                119.139915    125.790573   \n",
       "2020-01-11 08:00:00                123.352714    135.513382   \n",
       "2020-01-11 09:00:00                128.335695    134.828293   \n",
       "2020-01-11 10:00:00                128.563027    128.068359   \n",
       "2020-01-11 11:00:00                124.116977    131.352692   \n",
       "2020-01-11 12:00:00                121.801319    131.786484   \n",
       "2020-01-11 13:00:00                120.959766    125.363670   \n",
       "2020-01-11 14:00:00                121.888336    127.120895   \n",
       "2020-01-11 15:00:00                117.942822    126.631340   \n",
       "2020-01-11 16:00:00                123.179657    125.012306   \n",
       "2020-01-11 17:00:00                126.471308    124.780365   \n",
       "\n",
       "                     Direct_MIMO_predict  \n",
       "date                                      \n",
       "2020-01-10 18:00:00           120.955605  \n",
       "2020-01-10 19:00:00           124.355461  \n",
       "2020-01-10 20:00:00           125.592262  \n",
       "2020-01-10 21:00:00           119.936722  \n",
       "2020-01-10 22:00:00           128.210983  \n",
       "2020-01-10 23:00:00           131.170425  \n",
       "2020-01-11 00:00:00           122.054710  \n",
       "2020-01-11 01:00:00           119.079475  \n",
       "2020-01-11 02:00:00           119.590302  \n",
       "2020-01-11 03:00:00           124.625923  \n",
       "2020-01-11 04:00:00           123.782814  \n",
       "2020-01-11 05:00:00           126.793732  \n",
       "2020-01-11 06:00:00           121.995735  \n",
       "2020-01-11 07:00:00           120.995903  \n",
       "2020-01-11 08:00:00           122.551163  \n",
       "2020-01-11 09:00:00           117.987778  \n",
       "2020-01-11 10:00:00           121.811684  \n",
       "2020-01-11 11:00:00           113.453201  \n",
       "2020-01-11 12:00:00           123.113541  \n",
       "2020-01-11 13:00:00           116.390060  \n",
       "2020-01-11 14:00:00           114.185829  \n",
       "2020-01-11 15:00:00           111.513145  \n",
       "2020-01-11 16:00:00           108.617256  \n",
       "2020-01-11 17:00:00           116.689651  "
      ]
     },
     "execution_count": 74,
     "metadata": {},
     "output_type": "execute_result"
    }
   ],
   "source": [
    "test"
   ]
  },
  {
   "cell_type": "code",
   "execution_count": 75,
   "metadata": {},
   "outputs": [
    {
     "data": {
      "text/plain": [
       "<AxesSubplot:xlabel='date'>"
      ]
     },
     "execution_count": 75,
     "metadata": {},
     "output_type": "execute_result"
    },
    {
     "data": {
      "image/png": "[encoded data removed]",
      "text/plain": [
       "<Figure size 432x288 with 1 Axes>"
      ]
     },
     "metadata": {
      "needs_background": "light"
     },
     "output_type": "display_data"
    }
   ],
   "source": [
    "test.plot()"
   ]
  },
  {
   "cell_type": "code",
   "execution_count": 76,
   "metadata": {},
   "outputs": [
    {
     "name": "stdout",
     "output_type": "stream",
     "text": [
      "40.005612512275356\n"
     ]
    }
   ],
   "source": [
    "rmse = sqrt(mean_squared_error(test['PM2.5'], test['Direct_MIMO_predict']))\n",
    "print(rmse)"
   ]
  },
  {
   "cell_type": "code",
   "execution_count": 77,
   "metadata": {},
   "outputs": [],
   "source": [
    "rec_err = abs(test['PM2.5'] - test['recursive_predict'])\n",
    "dir_err = abs(test['PM2.5'] - test['direct_predict'])\n",
    "dir_rec_err = abs(test['PM2.5'] - test['direct_recursive_predict'])\n",
    "mimo_err = abs(test['PM2.5'] - test['MIMO_predict'])\n",
    "dir_mimo_err = abs(test['PM2.5'] - test['Direct_MIMO_predict'])"
   ]
  },
  {
   "cell_type": "code",
   "execution_count": 78,
   "metadata": {},
   "outputs": [],
   "source": [
    "errors = pd.DataFrame({\n",
    "    'Recursive':rec_err,\n",
    "    'Direct':dir_err,\n",
    "    'Direct Recursive':dir_rec_err,\n",
    "    'MIMO':mimo_err,\n",
    "    'Direct MIMO':dir_mimo_err\n",
    "})"
   ]
  },
  {
   "cell_type": "code",
   "execution_count": 79,
   "metadata": {},
   "outputs": [
    {
     "data": {
      "text/html": [
       "<div>\n",
       "<style scoped>\n",
       "    .dataframe tbody tr th:only-of-type {\n",
       "        vertical-align: middle;\n",
       "    }\n",
       "\n",
       "    .dataframe tbody tr th {\n",
       "        vertical-align: top;\n",
       "    }\n",
       "\n",
       "    .dataframe thead th {\n",
       "        text-align: right;\n",
       "    }\n",
       "</style>\n",
       "<table border=\"1\" class=\"dataframe\">\n",
       "  <thead>\n",
       "    <tr style=\"text-align: right;\">\n",
       "      <th></th>\n",
       "      <th>Recursive</th>\n",
       "      <th>Direct</th>\n",
       "      <th>Direct Recursive</th>\n",
       "      <th>MIMO</th>\n",
       "      <th>Direct MIMO</th>\n",
       "    </tr>\n",
       "    <tr>\n",
       "      <th>date</th>\n",
       "      <th></th>\n",
       "      <th></th>\n",
       "      <th></th>\n",
       "      <th></th>\n",
       "      <th></th>\n",
       "    </tr>\n",
       "  </thead>\n",
       "  <tbody>\n",
       "    <tr>\n",
       "      <th>2020-01-10 18:00:00</th>\n",
       "      <td>37.804048</td>\n",
       "      <td>3.790831</td>\n",
       "      <td>5.870490</td>\n",
       "      <td>29.847842</td>\n",
       "      <td>16.405605</td>\n",
       "    </tr>\n",
       "    <tr>\n",
       "      <th>2020-01-10 19:00:00</th>\n",
       "      <td>100.538427</td>\n",
       "      <td>56.925440</td>\n",
       "      <td>59.510388</td>\n",
       "      <td>35.579927</td>\n",
       "      <td>40.564539</td>\n",
       "    </tr>\n",
       "    <tr>\n",
       "      <th>2020-01-10 20:00:00</th>\n",
       "      <td>150.617297</td>\n",
       "      <td>97.286696</td>\n",
       "      <td>108.192194</td>\n",
       "      <td>81.691095</td>\n",
       "      <td>85.757738</td>\n",
       "    </tr>\n",
       "    <tr>\n",
       "      <th>2020-01-10 21:00:00</th>\n",
       "      <td>84.619157</td>\n",
       "      <td>33.815898</td>\n",
       "      <td>40.425304</td>\n",
       "      <td>4.877734</td>\n",
       "      <td>21.263278</td>\n",
       "    </tr>\n",
       "    <tr>\n",
       "      <th>2020-01-10 22:00:00</th>\n",
       "      <td>68.736351</td>\n",
       "      <td>3.907553</td>\n",
       "      <td>11.332540</td>\n",
       "      <td>8.136533</td>\n",
       "      <td>7.150983</td>\n",
       "    </tr>\n",
       "    <tr>\n",
       "      <th>2020-01-10 23:00:00</th>\n",
       "      <td>70.828630</td>\n",
       "      <td>0.874024</td>\n",
       "      <td>6.092798</td>\n",
       "      <td>13.631356</td>\n",
       "      <td>12.130425</td>\n",
       "    </tr>\n",
       "    <tr>\n",
       "      <th>2020-01-11 00:00:00</th>\n",
       "      <td>54.414142</td>\n",
       "      <td>7.824911</td>\n",
       "      <td>16.758491</td>\n",
       "      <td>33.070439</td>\n",
       "      <td>23.284710</td>\n",
       "    </tr>\n",
       "    <tr>\n",
       "      <th>2020-01-11 01:00:00</th>\n",
       "      <td>39.275725</td>\n",
       "      <td>34.187074</td>\n",
       "      <td>32.085191</td>\n",
       "      <td>55.528434</td>\n",
       "      <td>39.009475</td>\n",
       "    </tr>\n",
       "    <tr>\n",
       "      <th>2020-01-11 02:00:00</th>\n",
       "      <td>48.980971</td>\n",
       "      <td>21.317632</td>\n",
       "      <td>33.899973</td>\n",
       "      <td>44.452626</td>\n",
       "      <td>33.070302</td>\n",
       "    </tr>\n",
       "    <tr>\n",
       "      <th>2020-01-11 03:00:00</th>\n",
       "      <td>64.603778</td>\n",
       "      <td>16.733180</td>\n",
       "      <td>15.897594</td>\n",
       "      <td>34.284747</td>\n",
       "      <td>25.435923</td>\n",
       "    </tr>\n",
       "    <tr>\n",
       "      <th>2020-01-11 04:00:00</th>\n",
       "      <td>74.185921</td>\n",
       "      <td>14.480144</td>\n",
       "      <td>12.612043</td>\n",
       "      <td>22.178334</td>\n",
       "      <td>17.652814</td>\n",
       "    </tr>\n",
       "    <tr>\n",
       "      <th>2020-01-11 05:00:00</th>\n",
       "      <td>90.119676</td>\n",
       "      <td>7.348297</td>\n",
       "      <td>4.473818</td>\n",
       "      <td>14.669363</td>\n",
       "      <td>7.053732</td>\n",
       "    </tr>\n",
       "    <tr>\n",
       "      <th>2020-01-11 06:00:00</th>\n",
       "      <td>119.465845</td>\n",
       "      <td>20.311788</td>\n",
       "      <td>35.519723</td>\n",
       "      <td>20.056458</td>\n",
       "      <td>25.074265</td>\n",
       "    </tr>\n",
       "    <tr>\n",
       "      <th>2020-01-11 07:00:00</th>\n",
       "      <td>126.576497</td>\n",
       "      <td>46.601840</td>\n",
       "      <td>33.330085</td>\n",
       "      <td>26.679427</td>\n",
       "      <td>31.474097</td>\n",
       "    </tr>\n",
       "    <tr>\n",
       "      <th>2020-01-11 08:00:00</th>\n",
       "      <td>113.059766</td>\n",
       "      <td>19.775114</td>\n",
       "      <td>14.217286</td>\n",
       "      <td>2.056618</td>\n",
       "      <td>15.018837</td>\n",
       "    </tr>\n",
       "    <tr>\n",
       "      <th>2020-01-11 09:00:00</th>\n",
       "      <td>75.012393</td>\n",
       "      <td>15.652501</td>\n",
       "      <td>29.895695</td>\n",
       "      <td>36.388293</td>\n",
       "      <td>19.547778</td>\n",
       "    </tr>\n",
       "    <tr>\n",
       "      <th>2020-01-11 10:00:00</th>\n",
       "      <td>58.866696</td>\n",
       "      <td>33.538686</td>\n",
       "      <td>47.093027</td>\n",
       "      <td>46.598359</td>\n",
       "      <td>40.341684</td>\n",
       "    </tr>\n",
       "    <tr>\n",
       "      <th>2020-01-11 11:00:00</th>\n",
       "      <td>52.898279</td>\n",
       "      <td>36.130068</td>\n",
       "      <td>49.186977</td>\n",
       "      <td>56.422692</td>\n",
       "      <td>38.523201</td>\n",
       "    </tr>\n",
       "    <tr>\n",
       "      <th>2020-01-11 12:00:00</th>\n",
       "      <td>47.854867</td>\n",
       "      <td>36.613543</td>\n",
       "      <td>52.241319</td>\n",
       "      <td>62.226484</td>\n",
       "      <td>53.553541</td>\n",
       "    </tr>\n",
       "    <tr>\n",
       "      <th>2020-01-11 13:00:00</th>\n",
       "      <td>45.007175</td>\n",
       "      <td>44.366474</td>\n",
       "      <td>54.339766</td>\n",
       "      <td>58.743670</td>\n",
       "      <td>49.770060</td>\n",
       "    </tr>\n",
       "    <tr>\n",
       "      <th>2020-01-11 14:00:00</th>\n",
       "      <td>36.144788</td>\n",
       "      <td>40.529218</td>\n",
       "      <td>64.018336</td>\n",
       "      <td>69.250895</td>\n",
       "      <td>56.315829</td>\n",
       "    </tr>\n",
       "    <tr>\n",
       "      <th>2020-01-11 15:00:00</th>\n",
       "      <td>31.977549</td>\n",
       "      <td>51.593454</td>\n",
       "      <td>63.952822</td>\n",
       "      <td>72.641340</td>\n",
       "      <td>57.523145</td>\n",
       "    </tr>\n",
       "    <tr>\n",
       "      <th>2020-01-11 16:00:00</th>\n",
       "      <td>29.819496</td>\n",
       "      <td>60.780856</td>\n",
       "      <td>70.919657</td>\n",
       "      <td>72.752306</td>\n",
       "      <td>56.357256</td>\n",
       "    </tr>\n",
       "    <tr>\n",
       "      <th>2020-01-11 17:00:00</th>\n",
       "      <td>30.592076</td>\n",
       "      <td>55.231565</td>\n",
       "      <td>72.911308</td>\n",
       "      <td>71.220365</td>\n",
       "      <td>63.129651</td>\n",
       "    </tr>\n",
       "  </tbody>\n",
       "</table>\n",
       "</div>"
      ],
      "text/plain": [
       "                      Recursive     Direct  Direct Recursive       MIMO  \\\n",
       "date                                                                      \n",
       "2020-01-10 18:00:00   37.804048   3.790831          5.870490  29.847842   \n",
       "2020-01-10 19:00:00  100.538427  56.925440         59.510388  35.579927   \n",
       "2020-01-10 20:00:00  150.617297  97.286696        108.192194  81.691095   \n",
       "2020-01-10 21:00:00   84.619157  33.815898         40.425304   4.877734   \n",
       "2020-01-10 22:00:00   68.736351   3.907553         11.332540   8.136533   \n",
       "2020-01-10 23:00:00   70.828630   0.874024          6.092798  13.631356   \n",
       "2020-01-11 00:00:00   54.414142   7.824911         16.758491  33.070439   \n",
       "2020-01-11 01:00:00   39.275725  34.187074         32.085191  55.528434   \n",
       "2020-01-11 02:00:00   48.980971  21.317632         33.899973  44.452626   \n",
       "2020-01-11 03:00:00   64.603778  16.733180         15.897594  34.284747   \n",
       "2020-01-11 04:00:00   74.185921  14.480144         12.612043  22.178334   \n",
       "2020-01-11 05:00:00   90.119676   7.348297          4.473818  14.669363   \n",
       "2020-01-11 06:00:00  119.465845  20.311788         35.519723  20.056458   \n",
       "2020-01-11 07:00:00  126.576497  46.601840         33.330085  26.679427   \n",
       "2020-01-11 08:00:00  113.059766  19.775114         14.217286   2.056618   \n",
       "2020-01-11 09:00:00   75.012393  15.652501         29.895695  36.388293   \n",
       "2020-01-11 10:00:00   58.866696  33.538686         47.093027  46.598359   \n",
       "2020-01-11 11:00:00   52.898279  36.130068         49.186977  56.422692   \n",
       "2020-01-11 12:00:00   47.854867  36.613543         52.241319  62.226484   \n",
       "2020-01-11 13:00:00   45.007175  44.366474         54.339766  58.743670   \n",
       "2020-01-11 14:00:00   36.144788  40.529218         64.018336  69.250895   \n",
       "2020-01-11 15:00:00   31.977549  51.593454         63.952822  72.641340   \n",
       "2020-01-11 16:00:00   29.819496  60.780856         70.919657  72.752306   \n",
       "2020-01-11 17:00:00   30.592076  55.231565         72.911308  71.220365   \n",
       "\n",
       "                     Direct MIMO  \n",
       "date                              \n",
       "2020-01-10 18:00:00    16.405605  \n",
       "2020-01-10 19:00:00    40.564539  \n",
       "2020-01-10 20:00:00    85.757738  \n",
       "2020-01-10 21:00:00    21.263278  \n",
       "2020-01-10 22:00:00     7.150983  \n",
       "2020-01-10 23:00:00    12.130425  \n",
       "2020-01-11 00:00:00    23.284710  \n",
       "2020-01-11 01:00:00    39.009475  \n",
       "2020-01-11 02:00:00    33.070302  \n",
       "2020-01-11 03:00:00    25.435923  \n",
       "2020-01-11 04:00:00    17.652814  \n",
       "2020-01-11 05:00:00     7.053732  \n",
       "2020-01-11 06:00:00    25.074265  \n",
       "2020-01-11 07:00:00    31.474097  \n",
       "2020-01-11 08:00:00    15.018837  \n",
       "2020-01-11 09:00:00    19.547778  \n",
       "2020-01-11 10:00:00    40.341684  \n",
       "2020-01-11 11:00:00    38.523201  \n",
       "2020-01-11 12:00:00    53.553541  \n",
       "2020-01-11 13:00:00    49.770060  \n",
       "2020-01-11 14:00:00    56.315829  \n",
       "2020-01-11 15:00:00    57.523145  \n",
       "2020-01-11 16:00:00    56.357256  \n",
       "2020-01-11 17:00:00    63.129651  "
      ]
     },
     "execution_count": 79,
     "metadata": {},
     "output_type": "execute_result"
    }
   ],
   "source": [
    "errors"
   ]
  },
  {
   "cell_type": "code",
   "execution_count": 80,
   "metadata": {},
   "outputs": [
    {
     "data": {
      "text/plain": [
       "<AxesSubplot:xlabel='date'>"
      ]
     },
     "execution_count": 80,
     "metadata": {},
     "output_type": "execute_result"
    },
    {
     "data": {
      "image/png": "[encoded data removed]",
      "text/plain": [
       "<Figure size 432x288 with 1 Axes>"
      ]
     },
     "metadata": {
      "needs_background": "light"
     },
     "output_type": "display_data"
    }
   ],
   "source": [
    "errors.plot()"
   ]
  },
  {
   "cell_type": "code",
   "execution_count": 81,
   "metadata": {},
   "outputs": [
    {
     "data": {
      "text/plain": [
       "24"
      ]
     },
     "execution_count": 81,
     "metadata": {},
     "output_type": "execute_result"
    }
   ],
   "source": [
    "len(scaled_test)"
   ]
  },
  {
   "cell_type": "code",
   "execution_count": null,
   "metadata": {},
   "outputs": [],
   "source": []
  }
 ],
 "metadata": {
  "kernelspec": {
   "display_name": "Python 3",
   "language": "python",
   "name": "python3"
  },
  "language_info": {
   "codemirror_mode": {
    "name": "ipython",
    "version": 3
   },
   "file_extension": ".py",
   "mimetype": "text/x-python",
   "name": "python",
   "nbconvert_exporter": "python",
   "pygments_lexer": "ipython3",
   "version": "3.8.5"
  }
 },
 "nbformat": 4,
 "nbformat_minor": 4
}
