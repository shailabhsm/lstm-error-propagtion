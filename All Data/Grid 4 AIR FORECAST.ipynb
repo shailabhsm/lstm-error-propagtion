{
 "cells": [
  {
   "cell_type": "code",
   "execution_count": 1,
   "metadata": {},
   "outputs": [],
   "source": [
    "import pandas as pd\n",
    "import numpy as np\n",
    "import matplotlib.pyplot as plt\n",
    "from keras.models import Sequential\n",
    "from keras.layers import Dense, LSTM, Dropout\n",
    "from keras.preprocessing.sequence import TimeseriesGenerator\n",
    "from statsmodels.tsa.seasonal import seasonal_decompose\n",
    "from sklearn.preprocessing import MinMaxScaler\n",
    "from sklearn.metrics import mean_squared_error\n",
    "from math import sqrt\n",
    "import warnings\n",
    "\n",
    "warnings.filterwarnings(\"ignore\")"
   ]
  },
  {
   "cell_type": "code",
   "execution_count": 2,
   "metadata": {},
   "outputs": [],
   "source": [
    "df = pd.read_csv('C:/Users/shail/Desktop/project/raw data/Device-4.csv')\n",
    "\n",
    "df.columns = ['SNo','temp','hum','co','no2','pm2_5','pm10','date']\n",
    "date = df['date']\n",
    "df = df.drop([\"SNo\"],axis=1)\n",
    "df['date'] = pd.to_datetime(df['date'])"
   ]
  },
  {
   "cell_type": "code",
   "execution_count": 3,
   "metadata": {},
   "outputs": [
    {
     "data": {
      "text/html": [
       "<div>\n",
       "<style scoped>\n",
       "    .dataframe tbody tr th:only-of-type {\n",
       "        vertical-align: middle;\n",
       "    }\n",
       "\n",
       "    .dataframe tbody tr th {\n",
       "        vertical-align: top;\n",
       "    }\n",
       "\n",
       "    .dataframe thead th {\n",
       "        text-align: right;\n",
       "    }\n",
       "</style>\n",
       "<table border=\"1\" class=\"dataframe\">\n",
       "  <thead>\n",
       "    <tr style=\"text-align: right;\">\n",
       "      <th></th>\n",
       "      <th>temp</th>\n",
       "      <th>hum</th>\n",
       "      <th>co</th>\n",
       "      <th>no2</th>\n",
       "      <th>pm2_5</th>\n",
       "      <th>pm10</th>\n",
       "      <th>date</th>\n",
       "    </tr>\n",
       "  </thead>\n",
       "  <tbody>\n",
       "    <tr>\n",
       "      <th>0</th>\n",
       "      <td>13</td>\n",
       "      <td>52</td>\n",
       "      <td>44</td>\n",
       "      <td>0.88</td>\n",
       "      <td>91</td>\n",
       "      <td>127</td>\n",
       "      <td>2020-01-11 17:07:49</td>\n",
       "    </tr>\n",
       "    <tr>\n",
       "      <th>1</th>\n",
       "      <td>13</td>\n",
       "      <td>52</td>\n",
       "      <td>44</td>\n",
       "      <td>0.88</td>\n",
       "      <td>91</td>\n",
       "      <td>127</td>\n",
       "      <td>2020-01-11 17:07:46</td>\n",
       "    </tr>\n",
       "    <tr>\n",
       "      <th>2</th>\n",
       "      <td>13</td>\n",
       "      <td>52</td>\n",
       "      <td>44</td>\n",
       "      <td>0.88</td>\n",
       "      <td>91</td>\n",
       "      <td>127</td>\n",
       "      <td>2020-01-11 17:07:39</td>\n",
       "    </tr>\n",
       "    <tr>\n",
       "      <th>3</th>\n",
       "      <td>13</td>\n",
       "      <td>52</td>\n",
       "      <td>44</td>\n",
       "      <td>0.90</td>\n",
       "      <td>91</td>\n",
       "      <td>127</td>\n",
       "      <td>2020-01-11 17:07:30</td>\n",
       "    </tr>\n",
       "    <tr>\n",
       "      <th>4</th>\n",
       "      <td>13</td>\n",
       "      <td>52</td>\n",
       "      <td>44</td>\n",
       "      <td>0.90</td>\n",
       "      <td>91</td>\n",
       "      <td>127</td>\n",
       "      <td>2020-01-11 17:07:24</td>\n",
       "    </tr>\n",
       "  </tbody>\n",
       "</table>\n",
       "</div>"
      ],
      "text/plain": [
       "   temp  hum  co   no2  pm2_5  pm10                date\n",
       "0    13   52  44  0.88     91   127 2020-01-11 17:07:49\n",
       "1    13   52  44  0.88     91   127 2020-01-11 17:07:46\n",
       "2    13   52  44  0.88     91   127 2020-01-11 17:07:39\n",
       "3    13   52  44  0.90     91   127 2020-01-11 17:07:30\n",
       "4    13   52  44  0.90     91   127 2020-01-11 17:07:24"
      ]
     },
     "execution_count": 3,
     "metadata": {},
     "output_type": "execute_result"
    }
   ],
   "source": [
    "df.head()"
   ]
  },
  {
   "cell_type": "code",
   "execution_count": 4,
   "metadata": {},
   "outputs": [
    {
     "name": "stdout",
     "output_type": "stream",
     "text": [
      "<class 'pandas.core.frame.DataFrame'>\n",
      "RangeIndex: 1121348 entries, 0 to 1121347\n",
      "Data columns (total 7 columns):\n",
      " #   Column  Non-Null Count    Dtype         \n",
      "---  ------  --------------    -----         \n",
      " 0   temp    1121348 non-null  int64         \n",
      " 1   hum     1121348 non-null  int64         \n",
      " 2   co      1121348 non-null  int64         \n",
      " 3   no2     1121348 non-null  float64       \n",
      " 4   pm2_5   1121348 non-null  int64         \n",
      " 5   pm10    1121348 non-null  int64         \n",
      " 6   date    1121348 non-null  datetime64[ns]\n",
      "dtypes: datetime64[ns](1), float64(1), int64(5)\n",
      "memory usage: 59.9 MB\n"
     ]
    }
   ],
   "source": [
    "df.info()"
   ]
  },
  {
   "cell_type": "code",
   "execution_count": 5,
   "metadata": {},
   "outputs": [],
   "source": [
    "df = df[(df['co'] > 0) & (df['no2'] > 0) & (df['pm2_5'] > 0) & (df['pm10'] > 0)]"
   ]
  },
  {
   "cell_type": "code",
   "execution_count": 6,
   "metadata": {},
   "outputs": [
    {
     "data": {
      "text/html": [
       "<div>\n",
       "<style scoped>\n",
       "    .dataframe tbody tr th:only-of-type {\n",
       "        vertical-align: middle;\n",
       "    }\n",
       "\n",
       "    .dataframe tbody tr th {\n",
       "        vertical-align: top;\n",
       "    }\n",
       "\n",
       "    .dataframe thead th {\n",
       "        text-align: right;\n",
       "    }\n",
       "</style>\n",
       "<table border=\"1\" class=\"dataframe\">\n",
       "  <thead>\n",
       "    <tr style=\"text-align: right;\">\n",
       "      <th></th>\n",
       "      <th>TEMP</th>\n",
       "      <th>HUM</th>\n",
       "      <th>CO</th>\n",
       "      <th>NO2</th>\n",
       "      <th>PM2.5</th>\n",
       "      <th>PM10</th>\n",
       "    </tr>\n",
       "    <tr>\n",
       "      <th>date</th>\n",
       "      <th></th>\n",
       "      <th></th>\n",
       "      <th></th>\n",
       "      <th></th>\n",
       "      <th></th>\n",
       "      <th></th>\n",
       "    </tr>\n",
       "  </thead>\n",
       "  <tbody>\n",
       "    <tr>\n",
       "      <th>2019-09-13 16:00:00</th>\n",
       "      <td>17.69</td>\n",
       "      <td>61.16</td>\n",
       "      <td>6.32</td>\n",
       "      <td>19.40</td>\n",
       "      <td>32.73</td>\n",
       "      <td>45.76</td>\n",
       "    </tr>\n",
       "    <tr>\n",
       "      <th>2019-09-13 17:00:00</th>\n",
       "      <td>16.80</td>\n",
       "      <td>67.48</td>\n",
       "      <td>6.43</td>\n",
       "      <td>19.40</td>\n",
       "      <td>38.32</td>\n",
       "      <td>53.31</td>\n",
       "    </tr>\n",
       "    <tr>\n",
       "      <th>2019-09-13 18:00:00</th>\n",
       "      <td>17.00</td>\n",
       "      <td>66.82</td>\n",
       "      <td>6.21</td>\n",
       "      <td>19.40</td>\n",
       "      <td>27.65</td>\n",
       "      <td>38.68</td>\n",
       "    </tr>\n",
       "    <tr>\n",
       "      <th>2019-09-13 19:00:00</th>\n",
       "      <td>16.40</td>\n",
       "      <td>63.55</td>\n",
       "      <td>5.78</td>\n",
       "      <td>19.39</td>\n",
       "      <td>22.28</td>\n",
       "      <td>31.30</td>\n",
       "    </tr>\n",
       "    <tr>\n",
       "      <th>2019-09-13 20:00:00</th>\n",
       "      <td>15.73</td>\n",
       "      <td>66.26</td>\n",
       "      <td>6.06</td>\n",
       "      <td>19.39</td>\n",
       "      <td>22.89</td>\n",
       "      <td>31.97</td>\n",
       "    </tr>\n",
       "    <tr>\n",
       "      <th>...</th>\n",
       "      <td>...</td>\n",
       "      <td>...</td>\n",
       "      <td>...</td>\n",
       "      <td>...</td>\n",
       "      <td>...</td>\n",
       "      <td>...</td>\n",
       "    </tr>\n",
       "    <tr>\n",
       "      <th>2020-01-11 13:00:00</th>\n",
       "      <td>16.18</td>\n",
       "      <td>44.28</td>\n",
       "      <td>44.00</td>\n",
       "      <td>1.32</td>\n",
       "      <td>78.92</td>\n",
       "      <td>109.69</td>\n",
       "    </tr>\n",
       "    <tr>\n",
       "      <th>2020-01-11 14:00:00</th>\n",
       "      <td>20.59</td>\n",
       "      <td>31.49</td>\n",
       "      <td>44.00</td>\n",
       "      <td>1.27</td>\n",
       "      <td>65.24</td>\n",
       "      <td>90.83</td>\n",
       "    </tr>\n",
       "    <tr>\n",
       "      <th>2020-01-11 15:00:00</th>\n",
       "      <td>19.94</td>\n",
       "      <td>31.55</td>\n",
       "      <td>44.00</td>\n",
       "      <td>1.20</td>\n",
       "      <td>54.23</td>\n",
       "      <td>75.30</td>\n",
       "    </tr>\n",
       "    <tr>\n",
       "      <th>2020-01-11 16:00:00</th>\n",
       "      <td>15.12</td>\n",
       "      <td>44.14</td>\n",
       "      <td>44.00</td>\n",
       "      <td>1.27</td>\n",
       "      <td>52.97</td>\n",
       "      <td>73.66</td>\n",
       "    </tr>\n",
       "    <tr>\n",
       "      <th>2020-01-11 17:00:00</th>\n",
       "      <td>13.61</td>\n",
       "      <td>48.00</td>\n",
       "      <td>44.00</td>\n",
       "      <td>1.13</td>\n",
       "      <td>77.85</td>\n",
       "      <td>108.38</td>\n",
       "    </tr>\n",
       "  </tbody>\n",
       "</table>\n",
       "<p>2882 rows × 6 columns</p>\n",
       "</div>"
      ],
      "text/plain": [
       "                      TEMP    HUM     CO    NO2  PM2.5    PM10\n",
       "date                                                          \n",
       "2019-09-13 16:00:00  17.69  61.16   6.32  19.40  32.73   45.76\n",
       "2019-09-13 17:00:00  16.80  67.48   6.43  19.40  38.32   53.31\n",
       "2019-09-13 18:00:00  17.00  66.82   6.21  19.40  27.65   38.68\n",
       "2019-09-13 19:00:00  16.40  63.55   5.78  19.39  22.28   31.30\n",
       "2019-09-13 20:00:00  15.73  66.26   6.06  19.39  22.89   31.97\n",
       "...                    ...    ...    ...    ...    ...     ...\n",
       "2020-01-11 13:00:00  16.18  44.28  44.00   1.32  78.92  109.69\n",
       "2020-01-11 14:00:00  20.59  31.49  44.00   1.27  65.24   90.83\n",
       "2020-01-11 15:00:00  19.94  31.55  44.00   1.20  54.23   75.30\n",
       "2020-01-11 16:00:00  15.12  44.14  44.00   1.27  52.97   73.66\n",
       "2020-01-11 17:00:00  13.61  48.00  44.00   1.13  77.85  108.38\n",
       "\n",
       "[2882 rows x 6 columns]"
      ]
     },
     "execution_count": 6,
     "metadata": {},
     "output_type": "execute_result"
    }
   ],
   "source": [
    "temp_one_hr = round(df.resample('60min',on='date').temp.mean(),2)\n",
    "hum_one_hr = round(df.resample('60min',on='date').hum.mean(),2)\n",
    "co_one_hr = round(df.resample('60min',on='date').co.mean(),2)\n",
    "no2_one_hr = round(df.resample('60min',on='date').no2.mean(),2)\n",
    "pm2_5_one_hr = round(df.resample('60min',on='date').pm2_5.mean(),2)\n",
    "pm10_one_hr = round(df.resample('60min',on='date').pm10.mean(),2)\n",
    "\n",
    "one_hr_sample = pd.DataFrame({\n",
    "    \"TEMP\":temp_one_hr,\n",
    "    \"HUM\":hum_one_hr,\n",
    "    \"CO\":co_one_hr,\n",
    "    \"NO2\":no2_one_hr,\n",
    "    \"PM2.5\":pm2_5_one_hr,\n",
    "    \"PM10\":pm10_one_hr\n",
    "})\n",
    "\n",
    "one_hr_sample"
   ]
  },
  {
   "cell_type": "code",
   "execution_count": 7,
   "metadata": {},
   "outputs": [],
   "source": [
    "pm = one_hr_sample[['PM2.5']].copy()"
   ]
  },
  {
   "cell_type": "code",
   "execution_count": 8,
   "metadata": {},
   "outputs": [
    {
     "data": {
      "text/html": [
       "<div>\n",
       "<style scoped>\n",
       "    .dataframe tbody tr th:only-of-type {\n",
       "        vertical-align: middle;\n",
       "    }\n",
       "\n",
       "    .dataframe tbody tr th {\n",
       "        vertical-align: top;\n",
       "    }\n",
       "\n",
       "    .dataframe thead th {\n",
       "        text-align: right;\n",
       "    }\n",
       "</style>\n",
       "<table border=\"1\" class=\"dataframe\">\n",
       "  <thead>\n",
       "    <tr style=\"text-align: right;\">\n",
       "      <th></th>\n",
       "      <th>PM2.5</th>\n",
       "    </tr>\n",
       "    <tr>\n",
       "      <th>date</th>\n",
       "      <th></th>\n",
       "    </tr>\n",
       "  </thead>\n",
       "  <tbody>\n",
       "    <tr>\n",
       "      <th>2019-09-13 16:00:00</th>\n",
       "      <td>32.73</td>\n",
       "    </tr>\n",
       "    <tr>\n",
       "      <th>2019-09-13 17:00:00</th>\n",
       "      <td>38.32</td>\n",
       "    </tr>\n",
       "    <tr>\n",
       "      <th>2019-09-13 18:00:00</th>\n",
       "      <td>27.65</td>\n",
       "    </tr>\n",
       "    <tr>\n",
       "      <th>2019-09-13 19:00:00</th>\n",
       "      <td>22.28</td>\n",
       "    </tr>\n",
       "    <tr>\n",
       "      <th>2019-09-13 20:00:00</th>\n",
       "      <td>22.89</td>\n",
       "    </tr>\n",
       "    <tr>\n",
       "      <th>...</th>\n",
       "      <td>...</td>\n",
       "    </tr>\n",
       "    <tr>\n",
       "      <th>2020-01-11 13:00:00</th>\n",
       "      <td>78.92</td>\n",
       "    </tr>\n",
       "    <tr>\n",
       "      <th>2020-01-11 14:00:00</th>\n",
       "      <td>65.24</td>\n",
       "    </tr>\n",
       "    <tr>\n",
       "      <th>2020-01-11 15:00:00</th>\n",
       "      <td>54.23</td>\n",
       "    </tr>\n",
       "    <tr>\n",
       "      <th>2020-01-11 16:00:00</th>\n",
       "      <td>52.97</td>\n",
       "    </tr>\n",
       "    <tr>\n",
       "      <th>2020-01-11 17:00:00</th>\n",
       "      <td>77.85</td>\n",
       "    </tr>\n",
       "  </tbody>\n",
       "</table>\n",
       "<p>2882 rows × 1 columns</p>\n",
       "</div>"
      ],
      "text/plain": [
       "                     PM2.5\n",
       "date                      \n",
       "2019-09-13 16:00:00  32.73\n",
       "2019-09-13 17:00:00  38.32\n",
       "2019-09-13 18:00:00  27.65\n",
       "2019-09-13 19:00:00  22.28\n",
       "2019-09-13 20:00:00  22.89\n",
       "...                    ...\n",
       "2020-01-11 13:00:00  78.92\n",
       "2020-01-11 14:00:00  65.24\n",
       "2020-01-11 15:00:00  54.23\n",
       "2020-01-11 16:00:00  52.97\n",
       "2020-01-11 17:00:00  77.85\n",
       "\n",
       "[2882 rows x 1 columns]"
      ]
     },
     "execution_count": 8,
     "metadata": {},
     "output_type": "execute_result"
    }
   ],
   "source": [
    "pm"
   ]
  },
  {
   "cell_type": "code",
   "execution_count": 9,
   "metadata": {},
   "outputs": [],
   "source": [
    "df = pm.copy()"
   ]
  },
  {
   "cell_type": "code",
   "execution_count": 10,
   "metadata": {},
   "outputs": [
    {
     "data": {
      "text/html": [
       "<div>\n",
       "<style scoped>\n",
       "    .dataframe tbody tr th:only-of-type {\n",
       "        vertical-align: middle;\n",
       "    }\n",
       "\n",
       "    .dataframe tbody tr th {\n",
       "        vertical-align: top;\n",
       "    }\n",
       "\n",
       "    .dataframe thead th {\n",
       "        text-align: right;\n",
       "    }\n",
       "</style>\n",
       "<table border=\"1\" class=\"dataframe\">\n",
       "  <thead>\n",
       "    <tr style=\"text-align: right;\">\n",
       "      <th></th>\n",
       "      <th>PM2.5</th>\n",
       "    </tr>\n",
       "    <tr>\n",
       "      <th>date</th>\n",
       "      <th></th>\n",
       "    </tr>\n",
       "  </thead>\n",
       "  <tbody>\n",
       "    <tr>\n",
       "      <th>2019-09-13 16:00:00</th>\n",
       "      <td>32.73</td>\n",
       "    </tr>\n",
       "    <tr>\n",
       "      <th>2019-09-13 17:00:00</th>\n",
       "      <td>38.32</td>\n",
       "    </tr>\n",
       "    <tr>\n",
       "      <th>2019-09-13 18:00:00</th>\n",
       "      <td>27.65</td>\n",
       "    </tr>\n",
       "    <tr>\n",
       "      <th>2019-09-13 19:00:00</th>\n",
       "      <td>22.28</td>\n",
       "    </tr>\n",
       "    <tr>\n",
       "      <th>2019-09-13 20:00:00</th>\n",
       "      <td>22.89</td>\n",
       "    </tr>\n",
       "    <tr>\n",
       "      <th>...</th>\n",
       "      <td>...</td>\n",
       "    </tr>\n",
       "    <tr>\n",
       "      <th>2020-01-11 13:00:00</th>\n",
       "      <td>78.92</td>\n",
       "    </tr>\n",
       "    <tr>\n",
       "      <th>2020-01-11 14:00:00</th>\n",
       "      <td>65.24</td>\n",
       "    </tr>\n",
       "    <tr>\n",
       "      <th>2020-01-11 15:00:00</th>\n",
       "      <td>54.23</td>\n",
       "    </tr>\n",
       "    <tr>\n",
       "      <th>2020-01-11 16:00:00</th>\n",
       "      <td>52.97</td>\n",
       "    </tr>\n",
       "    <tr>\n",
       "      <th>2020-01-11 17:00:00</th>\n",
       "      <td>77.85</td>\n",
       "    </tr>\n",
       "  </tbody>\n",
       "</table>\n",
       "<p>2882 rows × 1 columns</p>\n",
       "</div>"
      ],
      "text/plain": [
       "                     PM2.5\n",
       "date                      \n",
       "2019-09-13 16:00:00  32.73\n",
       "2019-09-13 17:00:00  38.32\n",
       "2019-09-13 18:00:00  27.65\n",
       "2019-09-13 19:00:00  22.28\n",
       "2019-09-13 20:00:00  22.89\n",
       "...                    ...\n",
       "2020-01-11 13:00:00  78.92\n",
       "2020-01-11 14:00:00  65.24\n",
       "2020-01-11 15:00:00  54.23\n",
       "2020-01-11 16:00:00  52.97\n",
       "2020-01-11 17:00:00  77.85\n",
       "\n",
       "[2882 rows x 1 columns]"
      ]
     },
     "execution_count": 10,
     "metadata": {},
     "output_type": "execute_result"
    }
   ],
   "source": [
    "#df = df[:2886]\n",
    "df"
   ]
  },
  {
   "cell_type": "code",
   "execution_count": 11,
   "metadata": {},
   "outputs": [
    {
     "data": {
      "text/plain": [
       "PM2.5    1157\n",
       "dtype: int64"
      ]
     },
     "execution_count": 11,
     "metadata": {},
     "output_type": "execute_result"
    }
   ],
   "source": [
    "df.isna().sum()"
   ]
  },
  {
   "cell_type": "code",
   "execution_count": 12,
   "metadata": {},
   "outputs": [],
   "source": [
    "df = df.interpolate(method ='linear')"
   ]
  },
  {
   "cell_type": "code",
   "execution_count": 13,
   "metadata": {},
   "outputs": [
    {
     "data": {
      "text/plain": [
       "<AxesSubplot:xlabel='date'>"
      ]
     },
     "execution_count": 13,
     "metadata": {},
     "output_type": "execute_result"
    },
    {
     "data": {
      "image/png": "[encoded data removed]",
      "text/plain": [
       "<Figure size 432x288 with 1 Axes>"
      ]
     },
     "metadata": {
      "needs_background": "light"
     },
     "output_type": "display_data"
    }
   ],
   "source": [
    "df.plot()"
   ]
  },
  {
   "cell_type": "code",
   "execution_count": 14,
   "metadata": {},
   "outputs": [
    {
     "data": {
      "image/png": "[encoded data removed]",
      "text/plain": [
       "<Figure size 432x288 with 4 Axes>"
      ]
     },
     "execution_count": 14,
     "metadata": {},
     "output_type": "execute_result"
    },
    {
     "data": {
      "image/png": "[encoded data removed]",
      "text/plain": [
       "<Figure size 432x288 with 4 Axes>"
      ]
     },
     "metadata": {
      "needs_background": "light"
     },
     "output_type": "display_data"
    }
   ],
   "source": [
    "results = seasonal_decompose(df['PM2.5'], freq=24)\n",
    "results.plot()"
   ]
  },
  {
   "cell_type": "code",
   "execution_count": 15,
   "metadata": {},
   "outputs": [
    {
     "data": {
      "text/plain": [
       "2882"
      ]
     },
     "execution_count": 15,
     "metadata": {},
     "output_type": "execute_result"
    }
   ],
   "source": [
    "len(df)"
   ]
  },
  {
   "cell_type": "code",
   "execution_count": 16,
   "metadata": {},
   "outputs": [],
   "source": [
    "train = df.iloc[:2858]\n",
    "test = df.iloc[2858:]\n",
    "\n",
    "scaler = MinMaxScaler()"
   ]
  },
  {
   "cell_type": "code",
   "execution_count": 17,
   "metadata": {},
   "outputs": [
    {
     "data": {
      "text/plain": [
       "(                     PM2.5\n",
       " date                      \n",
       " 2019-09-13 16:00:00  32.73\n",
       " 2019-09-13 17:00:00  38.32\n",
       " 2019-09-13 18:00:00  27.65\n",
       " 2019-09-13 19:00:00  22.28\n",
       " 2019-09-13 20:00:00  22.89,\n",
       "                      PM2.5\n",
       " date                      \n",
       " 2020-01-11 13:00:00  78.92\n",
       " 2020-01-11 14:00:00  65.24\n",
       " 2020-01-11 15:00:00  54.23\n",
       " 2020-01-11 16:00:00  52.97\n",
       " 2020-01-11 17:00:00  77.85)"
      ]
     },
     "execution_count": 17,
     "metadata": {},
     "output_type": "execute_result"
    }
   ],
   "source": [
    "df.head(), df.tail()"
   ]
  },
  {
   "cell_type": "code",
   "execution_count": 18,
   "metadata": {},
   "outputs": [
    {
     "data": {
      "text/plain": [
       "array([[0.04936329],\n",
       "       [0.05861995],\n",
       "       [0.04095117],\n",
       "       [0.03205882],\n",
       "       [0.03306894],\n",
       "       [0.03868254],\n",
       "       [0.04333571],\n",
       "       [0.05739456],\n",
       "       [0.05696402],\n",
       "       [0.05128417]])"
      ]
     },
     "execution_count": 18,
     "metadata": {},
     "output_type": "execute_result"
    }
   ],
   "source": [
    "scaler.fit(train)\n",
    "scaled_train = scaler.transform(train)\n",
    "scaled_test = scaler.transform(test)\n",
    "\n",
    "scaled_train[:10]"
   ]
  },
  {
   "cell_type": "markdown",
   "metadata": {},
   "source": [
    "# Recursive Strategy"
   ]
  },
  {
   "cell_type": "code",
   "execution_count": 20,
   "metadata": {},
   "outputs": [
    {
     "data": {
      "text/plain": [
       "(array([[[0.04936329],\n",
       "         [0.05861995],\n",
       "         [0.04095117],\n",
       "         [0.03205882],\n",
       "         [0.03306894],\n",
       "         [0.03868254],\n",
       "         [0.04333571],\n",
       "         [0.05739456],\n",
       "         [0.05696402],\n",
       "         [0.05128417],\n",
       "         [0.05822252],\n",
       "         [0.05709649],\n",
       "         [0.05368527],\n",
       "         [0.05355611],\n",
       "         [0.05342695],\n",
       "         [0.05329779],\n",
       "         [0.05316862],\n",
       "         [0.05303946],\n",
       "         [0.0529103 ],\n",
       "         [0.05278114],\n",
       "         [0.05265197],\n",
       "         [0.05252281],\n",
       "         [0.05239365],\n",
       "         [0.05226449]]]),\n",
       " array([[0.05213532]]))"
      ]
     },
     "execution_count": 20,
     "metadata": {},
     "output_type": "execute_result"
    }
   ],
   "source": [
    "n_input = 24\n",
    "n_features = 1\n",
    "generator = TimeseriesGenerator(scaled_train, scaled_train,length=n_input,batch_size=1)\n",
    "\n",
    "generator[0]"
   ]
  },
  {
   "cell_type": "code",
   "execution_count": 21,
   "metadata": {},
   "outputs": [
    {
     "name": "stdout",
     "output_type": "stream",
     "text": [
      "Model: \"sequential\"\n",
      "_________________________________________________________________\n",
      "Layer (type)                 Output Shape              Param #   \n",
      "=================================================================\n",
      "lstm (LSTM)                  (None, 200)               161600    \n",
      "_________________________________________________________________\n",
      "dense (Dense)                (None, 1)                 201       \n",
      "=================================================================\n",
      "Total params: 161,801\n",
      "Trainable params: 161,801\n",
      "Non-trainable params: 0\n",
      "_________________________________________________________________\n"
     ]
    }
   ],
   "source": [
    "model = Sequential()\n",
    "model.add(LSTM(200, activation='relu', input_shape=(n_input, n_features)))\n",
    "model.add(Dense(1))\n",
    "model.compile(optimizer='adam', loss='mse')\n",
    "\n",
    "model.summary()"
   ]
  },
  {
   "cell_type": "code",
   "execution_count": 22,
   "metadata": {},
   "outputs": [
    {
     "name": "stdout",
     "output_type": "stream",
     "text": [
      "Epoch 1/10\n",
      "2834/2834 [==============================] - 60s 10ms/step - loss: 0.0035\n",
      "Epoch 2/10\n",
      "2834/2834 [==============================] - 28s 10ms/step - loss: 0.0015\n",
      "Epoch 3/10\n",
      "2834/2834 [==============================] - 28s 10ms/step - loss: 0.0013\n",
      "Epoch 4/10\n",
      "2834/2834 [==============================] - 28s 10ms/step - loss: 0.0012\n",
      "Epoch 5/10\n",
      "2834/2834 [==============================] - 29s 10ms/step - loss: 9.6386e-04\n",
      "Epoch 6/10\n",
      "2834/2834 [==============================] - 29s 10ms/step - loss: 9.7833e-04\n",
      "Epoch 7/10\n",
      "2834/2834 [==============================] - 29s 10ms/step - loss: 9.3207e-04\n",
      "Epoch 8/10\n",
      "2834/2834 [==============================] - 29s 10ms/step - loss: 0.0010\n",
      "Epoch 9/10\n",
      "2834/2834 [==============================] - 29s 10ms/step - loss: 0.0012\n",
      "Epoch 10/10\n",
      "2834/2834 [==============================] - 29s 10ms/step - loss: 0.0011\n"
     ]
    },
    {
     "data": {
      "text/plain": [
       "<keras.callbacks.History at 0x21f98736d00>"
      ]
     },
     "execution_count": 22,
     "metadata": {},
     "output_type": "execute_result"
    }
   ],
   "source": [
    "model.fit(generator, epochs=10, verbose=1)"
   ]
  },
  {
   "cell_type": "code",
   "execution_count": 23,
   "metadata": {},
   "outputs": [
    {
     "data": {
      "text/plain": [
       "[<matplotlib.lines.Line2D at 0x21fa655e5e0>]"
      ]
     },
     "execution_count": 23,
     "metadata": {},
     "output_type": "execute_result"
    },
    {
     "data": {
      "image/png": "[encoded data removed]",
      "text/plain": [
       "<Figure size 432x288 with 1 Axes>"
      ]
     },
     "metadata": {
      "needs_background": "light"
     },
     "output_type": "display_data"
    }
   ],
   "source": [
    "loss_per_epoch = model.history.history['loss']\n",
    "plt.plot(range(len(loss_per_epoch)), loss_per_epoch)"
   ]
  },
  {
   "cell_type": "code",
   "execution_count": 24,
   "metadata": {},
   "outputs": [
    {
     "data": {
      "text/plain": [
       "array([[0.13814436]], dtype=float32)"
      ]
     },
     "execution_count": 24,
     "metadata": {},
     "output_type": "execute_result"
    }
   ],
   "source": [
    "last_train_batch = scaled_train[-n_input:]\n",
    "\n",
    "last_train_batch = last_train_batch.reshape((1,n_input, n_features))\n",
    "\n",
    "model.predict(last_train_batch)"
   ]
  },
  {
   "cell_type": "code",
   "execution_count": 25,
   "metadata": {},
   "outputs": [
    {
     "data": {
      "text/plain": [
       "(array([0.20010267]), array([0.31954495]))"
      ]
     },
     "execution_count": 25,
     "metadata": {},
     "output_type": "execute_result"
    }
   ],
   "source": [
    "scaled_test[0], scaled_test[1]"
   ]
  },
  {
   "cell_type": "code",
   "execution_count": 26,
   "metadata": {},
   "outputs": [
    {
     "data": {
      "text/plain": [
       "[array([0.13814436], dtype=float32),\n",
       " array([0.1454454], dtype=float32),\n",
       " array([0.14912975], dtype=float32),\n",
       " array([0.15019104], dtype=float32),\n",
       " array([0.15130723], dtype=float32),\n",
       " array([0.15308514], dtype=float32),\n",
       " array([0.15768892], dtype=float32),\n",
       " array([0.17031232], dtype=float32),\n",
       " array([0.17709239], dtype=float32),\n",
       " array([0.17608511], dtype=float32),\n",
       " array([0.17231342], dtype=float32),\n",
       " array([0.16823867], dtype=float32),\n",
       " array([0.16577134], dtype=float32),\n",
       " array([0.16476269], dtype=float32),\n",
       " array([0.16450888], dtype=float32),\n",
       " array([0.16270927], dtype=float32),\n",
       " array([0.15929298], dtype=float32),\n",
       " array([0.15438005], dtype=float32),\n",
       " array([0.14850563], dtype=float32),\n",
       " array([0.14208624], dtype=float32),\n",
       " array([0.13579398], dtype=float32),\n",
       " array([0.12994489], dtype=float32),\n",
       " array([0.124602], dtype=float32),\n",
       " array([0.12110268], dtype=float32)]"
      ]
     },
     "execution_count": 26,
     "metadata": {},
     "output_type": "execute_result"
    }
   ],
   "source": [
    "test_predictions = []\n",
    "\n",
    "first_eval_batch = scaled_train[-n_input:]\n",
    "current_batch = first_eval_batch.reshape((1, n_input, n_features))\n",
    "\n",
    "for i in range(len(test)):\n",
    "    current_pred = model.predict(current_batch)[0]\n",
    "    \n",
    "    test_predictions.append(current_pred)\n",
    "    \n",
    "    current_batch = np.append(current_batch[:,1:,:],[[current_pred]], axis=1)\n",
    "    \n",
    "test_predictions"
   ]
  },
  {
   "cell_type": "code",
   "execution_count": 27,
   "metadata": {},
   "outputs": [
    {
     "data": {
      "text/html": [
       "<div>\n",
       "<style scoped>\n",
       "    .dataframe tbody tr th:only-of-type {\n",
       "        vertical-align: middle;\n",
       "    }\n",
       "\n",
       "    .dataframe tbody tr th {\n",
       "        vertical-align: top;\n",
       "    }\n",
       "\n",
       "    .dataframe thead th {\n",
       "        text-align: right;\n",
       "    }\n",
       "</style>\n",
       "<table border=\"1\" class=\"dataframe\">\n",
       "  <thead>\n",
       "    <tr style=\"text-align: right;\">\n",
       "      <th></th>\n",
       "      <th>PM2.5</th>\n",
       "    </tr>\n",
       "    <tr>\n",
       "      <th>date</th>\n",
       "      <th></th>\n",
       "    </tr>\n",
       "  </thead>\n",
       "  <tbody>\n",
       "    <tr>\n",
       "      <th>2020-01-10 18:00:00</th>\n",
       "      <td>123.76</td>\n",
       "    </tr>\n",
       "    <tr>\n",
       "      <th>2020-01-10 19:00:00</th>\n",
       "      <td>195.89</td>\n",
       "    </tr>\n",
       "    <tr>\n",
       "      <th>2020-01-10 20:00:00</th>\n",
       "      <td>214.24</td>\n",
       "    </tr>\n",
       "    <tr>\n",
       "      <th>2020-01-10 21:00:00</th>\n",
       "      <td>141.64</td>\n",
       "    </tr>\n",
       "    <tr>\n",
       "      <th>2020-01-10 22:00:00</th>\n",
       "      <td>91.89</td>\n",
       "    </tr>\n",
       "  </tbody>\n",
       "</table>\n",
       "</div>"
      ],
      "text/plain": [
       "                      PM2.5\n",
       "date                       \n",
       "2020-01-10 18:00:00  123.76\n",
       "2020-01-10 19:00:00  195.89\n",
       "2020-01-10 20:00:00  214.24\n",
       "2020-01-10 21:00:00  141.64\n",
       "2020-01-10 22:00:00   91.89"
      ]
     },
     "execution_count": 27,
     "metadata": {},
     "output_type": "execute_result"
    }
   ],
   "source": [
    "test.head()"
   ]
  },
  {
   "cell_type": "code",
   "execution_count": 28,
   "metadata": {},
   "outputs": [],
   "source": [
    "true_predictions = scaler.inverse_transform(test_predictions)\n",
    "\n",
    "test['recursive_predict'] = true_predictions"
   ]
  },
  {
   "cell_type": "code",
   "execution_count": 29,
   "metadata": {},
   "outputs": [
    {
     "data": {
      "text/plain": [
       "<AxesSubplot:xlabel='date'>"
      ]
     },
     "execution_count": 29,
     "metadata": {},
     "output_type": "execute_result"
    },
    {
     "data": {
      "image/png": "[encoded data removed]",
      "text/plain": [
       "<Figure size 432x288 with 1 Axes>"
      ]
     },
     "metadata": {
      "needs_background": "light"
     },
     "output_type": "display_data"
    }
   ],
   "source": [
    "test.plot()"
   ]
  },
  {
   "cell_type": "code",
   "execution_count": 30,
   "metadata": {},
   "outputs": [
    {
     "name": "stdout",
     "output_type": "stream",
     "text": [
      "41.98603663756128\n"
     ]
    }
   ],
   "source": [
    "rmse = sqrt(mean_squared_error(test['PM2.5'], test['recursive_predict']))\n",
    "print(rmse)"
   ]
  },
  {
   "cell_type": "code",
   "execution_count": 31,
   "metadata": {},
   "outputs": [
    {
     "data": {
      "text/html": [
       "<div>\n",
       "<style scoped>\n",
       "    .dataframe tbody tr th:only-of-type {\n",
       "        vertical-align: middle;\n",
       "    }\n",
       "\n",
       "    .dataframe tbody tr th {\n",
       "        vertical-align: top;\n",
       "    }\n",
       "\n",
       "    .dataframe thead th {\n",
       "        text-align: right;\n",
       "    }\n",
       "</style>\n",
       "<table border=\"1\" class=\"dataframe\">\n",
       "  <thead>\n",
       "    <tr style=\"text-align: right;\">\n",
       "      <th></th>\n",
       "      <th>PM2.5</th>\n",
       "      <th>recursive_predict</th>\n",
       "    </tr>\n",
       "    <tr>\n",
       "      <th>date</th>\n",
       "      <th></th>\n",
       "      <th></th>\n",
       "    </tr>\n",
       "  </thead>\n",
       "  <tbody>\n",
       "    <tr>\n",
       "      <th>2020-01-10 18:00:00</th>\n",
       "      <td>123.76</td>\n",
       "      <td>86.343997</td>\n",
       "    </tr>\n",
       "    <tr>\n",
       "      <th>2020-01-10 19:00:00</th>\n",
       "      <td>195.89</td>\n",
       "      <td>90.753026</td>\n",
       "    </tr>\n",
       "    <tr>\n",
       "      <th>2020-01-10 20:00:00</th>\n",
       "      <td>214.24</td>\n",
       "      <td>92.977964</td>\n",
       "    </tr>\n",
       "    <tr>\n",
       "      <th>2020-01-10 21:00:00</th>\n",
       "      <td>141.64</td>\n",
       "      <td>93.618866</td>\n",
       "    </tr>\n",
       "    <tr>\n",
       "      <th>2020-01-10 22:00:00</th>\n",
       "      <td>91.89</td>\n",
       "      <td>94.292920</td>\n",
       "    </tr>\n",
       "    <tr>\n",
       "      <th>2020-01-10 23:00:00</th>\n",
       "      <td>87.37</td>\n",
       "      <td>95.366587</td>\n",
       "    </tr>\n",
       "    <tr>\n",
       "      <th>2020-01-11 00:00:00</th>\n",
       "      <td>83.57</td>\n",
       "      <td>98.146759</td>\n",
       "    </tr>\n",
       "    <tr>\n",
       "      <th>2020-01-11 01:00:00</th>\n",
       "      <td>84.33</td>\n",
       "      <td>105.769904</td>\n",
       "    </tr>\n",
       "    <tr>\n",
       "      <th>2020-01-11 02:00:00</th>\n",
       "      <td>90.69</td>\n",
       "      <td>109.864322</td>\n",
       "    </tr>\n",
       "    <tr>\n",
       "      <th>2020-01-11 03:00:00</th>\n",
       "      <td>108.71</td>\n",
       "      <td>109.256040</td>\n",
       "    </tr>\n",
       "    <tr>\n",
       "      <th>2020-01-11 04:00:00</th>\n",
       "      <td>125.15</td>\n",
       "      <td>106.978352</td>\n",
       "    </tr>\n",
       "    <tr>\n",
       "      <th>2020-01-11 05:00:00</th>\n",
       "      <td>144.42</td>\n",
       "      <td>104.517650</td>\n",
       "    </tr>\n",
       "    <tr>\n",
       "      <th>2020-01-11 06:00:00</th>\n",
       "      <td>140.14</td>\n",
       "      <td>103.027652</td>\n",
       "    </tr>\n",
       "    <tr>\n",
       "      <th>2020-01-11 07:00:00</th>\n",
       "      <td>163.75</td>\n",
       "      <td>102.418541</td>\n",
       "    </tr>\n",
       "    <tr>\n",
       "      <th>2020-01-11 08:00:00</th>\n",
       "      <td>148.61</td>\n",
       "      <td>102.265267</td>\n",
       "    </tr>\n",
       "    <tr>\n",
       "      <th>2020-01-11 09:00:00</th>\n",
       "      <td>96.82</td>\n",
       "      <td>101.178499</td>\n",
       "    </tr>\n",
       "    <tr>\n",
       "      <th>2020-01-11 10:00:00</th>\n",
       "      <td>88.51</td>\n",
       "      <td>99.115438</td>\n",
       "    </tr>\n",
       "    <tr>\n",
       "      <th>2020-01-11 11:00:00</th>\n",
       "      <td>82.18</td>\n",
       "      <td>96.148570</td>\n",
       "    </tr>\n",
       "    <tr>\n",
       "      <th>2020-01-11 12:00:00</th>\n",
       "      <td>74.20</td>\n",
       "      <td>92.601064</td>\n",
       "    </tr>\n",
       "    <tr>\n",
       "      <th>2020-01-11 13:00:00</th>\n",
       "      <td>78.92</td>\n",
       "      <td>88.724458</td>\n",
       "    </tr>\n",
       "    <tr>\n",
       "      <th>2020-01-11 14:00:00</th>\n",
       "      <td>65.24</td>\n",
       "      <td>84.924629</td>\n",
       "    </tr>\n",
       "    <tr>\n",
       "      <th>2020-01-11 15:00:00</th>\n",
       "      <td>54.23</td>\n",
       "      <td>81.392420</td>\n",
       "    </tr>\n",
       "    <tr>\n",
       "      <th>2020-01-11 16:00:00</th>\n",
       "      <td>52.97</td>\n",
       "      <td>78.165905</td>\n",
       "    </tr>\n",
       "    <tr>\n",
       "      <th>2020-01-11 17:00:00</th>\n",
       "      <td>77.85</td>\n",
       "      <td>76.052695</td>\n",
       "    </tr>\n",
       "  </tbody>\n",
       "</table>\n",
       "</div>"
      ],
      "text/plain": [
       "                      PM2.5  recursive_predict\n",
       "date                                          \n",
       "2020-01-10 18:00:00  123.76          86.343997\n",
       "2020-01-10 19:00:00  195.89          90.753026\n",
       "2020-01-10 20:00:00  214.24          92.977964\n",
       "2020-01-10 21:00:00  141.64          93.618866\n",
       "2020-01-10 22:00:00   91.89          94.292920\n",
       "2020-01-10 23:00:00   87.37          95.366587\n",
       "2020-01-11 00:00:00   83.57          98.146759\n",
       "2020-01-11 01:00:00   84.33         105.769904\n",
       "2020-01-11 02:00:00   90.69         109.864322\n",
       "2020-01-11 03:00:00  108.71         109.256040\n",
       "2020-01-11 04:00:00  125.15         106.978352\n",
       "2020-01-11 05:00:00  144.42         104.517650\n",
       "2020-01-11 06:00:00  140.14         103.027652\n",
       "2020-01-11 07:00:00  163.75         102.418541\n",
       "2020-01-11 08:00:00  148.61         102.265267\n",
       "2020-01-11 09:00:00   96.82         101.178499\n",
       "2020-01-11 10:00:00   88.51          99.115438\n",
       "2020-01-11 11:00:00   82.18          96.148570\n",
       "2020-01-11 12:00:00   74.20          92.601064\n",
       "2020-01-11 13:00:00   78.92          88.724458\n",
       "2020-01-11 14:00:00   65.24          84.924629\n",
       "2020-01-11 15:00:00   54.23          81.392420\n",
       "2020-01-11 16:00:00   52.97          78.165905\n",
       "2020-01-11 17:00:00   77.85          76.052695"
      ]
     },
     "execution_count": 31,
     "metadata": {},
     "output_type": "execute_result"
    }
   ],
   "source": [
    "test"
   ]
  },
  {
   "cell_type": "markdown",
   "metadata": {},
   "source": [
    "# Direct Startegy"
   ]
  },
  {
   "cell_type": "code",
   "execution_count": 32,
   "metadata": {},
   "outputs": [],
   "source": [
    "def generate_data(data, n_input, month):\n",
    "    X, y = [], []\n",
    "    for i in range(0,len(data)-(n_input+month)):\n",
    "            X.append(data[i:i+n_input])\n",
    "            y.append(data[i+n_input+(month-1)])\n",
    "    return np.array(X), np.array(y)"
   ]
  },
  {
   "cell_type": "code",
   "execution_count": 33,
   "metadata": {},
   "outputs": [],
   "source": [
    "def model_predict(m_no, train_data, n_input, n_features):\n",
    "    \n",
    "    model = Sequential()\n",
    "    model.add(LSTM(200, activation='relu', input_shape=(n_input, n_features)))\n",
    "    model.add(Dense(1))\n",
    "    model.compile(optimizer='adam', loss='mse')\n",
    "    \n",
    "    X, y = generate_data(train_data, n_input, m_no)\n",
    "    \n",
    "    #print(\"MODEL : \", m_no)\n",
    "    #print(X[0], y[0])\n",
    "    \n",
    "    model.fit(X, y, epochs=3, verbose=0)\n",
    "    \n",
    "    tX = train_data[-n_input:]\n",
    "    \n",
    "    tX = tX.reshape((1, n_input, n_features))\n",
    "    \n",
    "    res = model.predict(tX)\n",
    "    \n",
    "    return res[0]"
   ]
  },
  {
   "cell_type": "code",
   "execution_count": 34,
   "metadata": {},
   "outputs": [
    {
     "name": "stdout",
     "output_type": "stream",
     "text": [
      "WARNING:tensorflow:5 out of the last 29 calls to <function Model.make_predict_function.<locals>.predict_function at 0x0000021FAB5243A0> triggered tf.function retracing. Tracing is expensive and the excessive number of tracings could be due to (1) creating @tf.function repeatedly in a loop, (2) passing tensors with different shapes, (3) passing Python objects instead of tensors. For (1), please define your @tf.function outside of the loop. For (2), @tf.function has experimental_relax_shapes=True option that relaxes argument shapes that can avoid unnecessary retracing. For (3), please refer to https://www.tensorflow.org/guide/function#controlling_retracing and https://www.tensorflow.org/api_docs/python/tf/function for  more details.\n",
      "WARNING:tensorflow:6 out of the last 30 calls to <function Model.make_predict_function.<locals>.predict_function at 0x0000021FA80E75E0> triggered tf.function retracing. Tracing is expensive and the excessive number of tracings could be due to (1) creating @tf.function repeatedly in a loop, (2) passing tensors with different shapes, (3) passing Python objects instead of tensors. For (1), please define your @tf.function outside of the loop. For (2), @tf.function has experimental_relax_shapes=True option that relaxes argument shapes that can avoid unnecessary retracing. For (3), please refer to https://www.tensorflow.org/guide/function#controlling_retracing and https://www.tensorflow.org/api_docs/python/tf/function for  more details.\n"
     ]
    },
    {
     "data": {
      "text/plain": [
       "[array([0.11304981], dtype=float32),\n",
       " array([0.15353599], dtype=float32),\n",
       " array([0.16164991], dtype=float32),\n",
       " array([0.17401999], dtype=float32),\n",
       " array([0.20823714], dtype=float32),\n",
       " array([0.18194973], dtype=float32),\n",
       " array([0.15836743], dtype=float32),\n",
       " array([0.19047871], dtype=float32),\n",
       " array([0.20703119], dtype=float32),\n",
       " array([0.21674249], dtype=float32),\n",
       " array([0.1719078], dtype=float32),\n",
       " array([0.1697276], dtype=float32),\n",
       " array([0.18758008], dtype=float32),\n",
       " array([0.22746663], dtype=float32),\n",
       " array([0.15857558], dtype=float32),\n",
       " array([0.17778936], dtype=float32),\n",
       " array([0.16725832], dtype=float32),\n",
       " array([0.14817442], dtype=float32),\n",
       " array([0.15215713], dtype=float32),\n",
       " array([0.12918684], dtype=float32),\n",
       " array([0.13151926], dtype=float32),\n",
       " array([0.12358306], dtype=float32),\n",
       " array([0.12553003], dtype=float32),\n",
       " array([0.14511828], dtype=float32)]"
      ]
     },
     "execution_count": 34,
     "metadata": {},
     "output_type": "execute_result"
    }
   ],
   "source": [
    "n_input = 24\n",
    "n_features = 1\n",
    "test_predictions = []\n",
    "\n",
    "for i in range(len(scaled_test)):\n",
    "    test_predictions.append(model_predict(i+1,scaled_train,n_input, n_features))\n",
    "    \n",
    "test_predictions"
   ]
  },
  {
   "cell_type": "code",
   "execution_count": 35,
   "metadata": {},
   "outputs": [],
   "source": [
    "true_predictions = scaler.inverse_transform(test_predictions)\n",
    "\n",
    "test['direct_predict'] = true_predictions"
   ]
  },
  {
   "cell_type": "code",
   "execution_count": 36,
   "metadata": {},
   "outputs": [
    {
     "data": {
      "text/plain": [
       "<AxesSubplot:xlabel='date'>"
      ]
     },
     "execution_count": 36,
     "metadata": {},
     "output_type": "execute_result"
    },
    {
     "data": {
      "image/png": "[encoded data removed]",
      "text/plain": [
       "<Figure size 432x288 with 1 Axes>"
      ]
     },
     "metadata": {
      "needs_background": "light"
     },
     "output_type": "display_data"
    }
   ],
   "source": [
    "test.plot()"
   ]
  },
  {
   "cell_type": "code",
   "execution_count": 37,
   "metadata": {},
   "outputs": [
    {
     "name": "stdout",
     "output_type": "stream",
     "text": [
      "40.99561758745931\n"
     ]
    }
   ],
   "source": [
    "rmse = sqrt(mean_squared_error(test['PM2.5'], test['direct_predict']))\n",
    "print(rmse)"
   ]
  },
  {
   "cell_type": "code",
   "execution_count": 38,
   "metadata": {},
   "outputs": [
    {
     "data": {
      "text/html": [
       "<div>\n",
       "<style scoped>\n",
       "    .dataframe tbody tr th:only-of-type {\n",
       "        vertical-align: middle;\n",
       "    }\n",
       "\n",
       "    .dataframe tbody tr th {\n",
       "        vertical-align: top;\n",
       "    }\n",
       "\n",
       "    .dataframe thead th {\n",
       "        text-align: right;\n",
       "    }\n",
       "</style>\n",
       "<table border=\"1\" class=\"dataframe\">\n",
       "  <thead>\n",
       "    <tr style=\"text-align: right;\">\n",
       "      <th></th>\n",
       "      <th>PM2.5</th>\n",
       "      <th>recursive_predict</th>\n",
       "      <th>direct_predict</th>\n",
       "    </tr>\n",
       "    <tr>\n",
       "      <th>date</th>\n",
       "      <th></th>\n",
       "      <th></th>\n",
       "      <th></th>\n",
       "    </tr>\n",
       "  </thead>\n",
       "  <tbody>\n",
       "    <tr>\n",
       "      <th>2020-01-10 18:00:00</th>\n",
       "      <td>123.76</td>\n",
       "      <td>86.343997</td>\n",
       "      <td>71.189651</td>\n",
       "    </tr>\n",
       "    <tr>\n",
       "      <th>2020-01-10 19:00:00</th>\n",
       "      <td>195.89</td>\n",
       "      <td>90.753026</td>\n",
       "      <td>95.638850</td>\n",
       "    </tr>\n",
       "    <tr>\n",
       "      <th>2020-01-10 20:00:00</th>\n",
       "      <td>214.24</td>\n",
       "      <td>92.977964</td>\n",
       "      <td>100.538766</td>\n",
       "    </tr>\n",
       "    <tr>\n",
       "      <th>2020-01-10 21:00:00</th>\n",
       "      <td>141.64</td>\n",
       "      <td>93.618866</td>\n",
       "      <td>108.008933</td>\n",
       "    </tr>\n",
       "    <tr>\n",
       "      <th>2020-01-10 22:00:00</th>\n",
       "      <td>91.89</td>\n",
       "      <td>94.292920</td>\n",
       "      <td>128.672327</td>\n",
       "    </tr>\n",
       "    <tr>\n",
       "      <th>2020-01-10 23:00:00</th>\n",
       "      <td>87.37</td>\n",
       "      <td>95.366587</td>\n",
       "      <td>112.797625</td>\n",
       "    </tr>\n",
       "    <tr>\n",
       "      <th>2020-01-11 00:00:00</th>\n",
       "      <td>83.57</td>\n",
       "      <td>98.146759</td>\n",
       "      <td>98.556504</td>\n",
       "    </tr>\n",
       "    <tr>\n",
       "      <th>2020-01-11 01:00:00</th>\n",
       "      <td>84.33</td>\n",
       "      <td>105.769904</td>\n",
       "      <td>117.948190</td>\n",
       "    </tr>\n",
       "    <tr>\n",
       "      <th>2020-01-11 02:00:00</th>\n",
       "      <td>90.69</td>\n",
       "      <td>109.864322</td>\n",
       "      <td>127.944066</td>\n",
       "    </tr>\n",
       "    <tr>\n",
       "      <th>2020-01-11 03:00:00</th>\n",
       "      <td>108.71</td>\n",
       "      <td>109.256040</td>\n",
       "      <td>133.808620</td>\n",
       "    </tr>\n",
       "    <tr>\n",
       "      <th>2020-01-11 04:00:00</th>\n",
       "      <td>125.15</td>\n",
       "      <td>106.978352</td>\n",
       "      <td>106.733400</td>\n",
       "    </tr>\n",
       "    <tr>\n",
       "      <th>2020-01-11 05:00:00</th>\n",
       "      <td>144.42</td>\n",
       "      <td>104.517650</td>\n",
       "      <td>105.416797</td>\n",
       "    </tr>\n",
       "    <tr>\n",
       "      <th>2020-01-11 06:00:00</th>\n",
       "      <td>140.14</td>\n",
       "      <td>103.027652</td>\n",
       "      <td>116.197734</td>\n",
       "    </tr>\n",
       "    <tr>\n",
       "      <th>2020-01-11 07:00:00</th>\n",
       "      <td>163.75</td>\n",
       "      <td>102.418541</td>\n",
       "      <td>140.284822</td>\n",
       "    </tr>\n",
       "    <tr>\n",
       "      <th>2020-01-11 08:00:00</th>\n",
       "      <td>148.61</td>\n",
       "      <td>102.265267</td>\n",
       "      <td>98.682207</td>\n",
       "    </tr>\n",
       "    <tr>\n",
       "      <th>2020-01-11 09:00:00</th>\n",
       "      <td>96.82</td>\n",
       "      <td>101.178499</td>\n",
       "      <td>110.285217</td>\n",
       "    </tr>\n",
       "    <tr>\n",
       "      <th>2020-01-11 10:00:00</th>\n",
       "      <td>88.51</td>\n",
       "      <td>99.115438</td>\n",
       "      <td>103.925628</td>\n",
       "    </tr>\n",
       "    <tr>\n",
       "      <th>2020-01-11 11:00:00</th>\n",
       "      <td>82.18</td>\n",
       "      <td>96.148570</td>\n",
       "      <td>92.401050</td>\n",
       "    </tr>\n",
       "    <tr>\n",
       "      <th>2020-01-11 12:00:00</th>\n",
       "      <td>74.20</td>\n",
       "      <td>92.601064</td>\n",
       "      <td>94.806168</td>\n",
       "    </tr>\n",
       "    <tr>\n",
       "      <th>2020-01-11 13:00:00</th>\n",
       "      <td>78.92</td>\n",
       "      <td>88.724458</td>\n",
       "      <td>80.934640</td>\n",
       "    </tr>\n",
       "    <tr>\n",
       "      <th>2020-01-11 14:00:00</th>\n",
       "      <td>65.24</td>\n",
       "      <td>84.924629</td>\n",
       "      <td>82.343165</td>\n",
       "    </tr>\n",
       "    <tr>\n",
       "      <th>2020-01-11 15:00:00</th>\n",
       "      <td>54.23</td>\n",
       "      <td>81.392420</td>\n",
       "      <td>77.550576</td>\n",
       "    </tr>\n",
       "    <tr>\n",
       "      <th>2020-01-11 16:00:00</th>\n",
       "      <td>52.97</td>\n",
       "      <td>78.165905</td>\n",
       "      <td>78.726332</td>\n",
       "    </tr>\n",
       "    <tr>\n",
       "      <th>2020-01-11 17:00:00</th>\n",
       "      <td>77.85</td>\n",
       "      <td>76.052695</td>\n",
       "      <td>90.555479</td>\n",
       "    </tr>\n",
       "  </tbody>\n",
       "</table>\n",
       "</div>"
      ],
      "text/plain": [
       "                      PM2.5  recursive_predict  direct_predict\n",
       "date                                                          \n",
       "2020-01-10 18:00:00  123.76          86.343997       71.189651\n",
       "2020-01-10 19:00:00  195.89          90.753026       95.638850\n",
       "2020-01-10 20:00:00  214.24          92.977964      100.538766\n",
       "2020-01-10 21:00:00  141.64          93.618866      108.008933\n",
       "2020-01-10 22:00:00   91.89          94.292920      128.672327\n",
       "2020-01-10 23:00:00   87.37          95.366587      112.797625\n",
       "2020-01-11 00:00:00   83.57          98.146759       98.556504\n",
       "2020-01-11 01:00:00   84.33         105.769904      117.948190\n",
       "2020-01-11 02:00:00   90.69         109.864322      127.944066\n",
       "2020-01-11 03:00:00  108.71         109.256040      133.808620\n",
       "2020-01-11 04:00:00  125.15         106.978352      106.733400\n",
       "2020-01-11 05:00:00  144.42         104.517650      105.416797\n",
       "2020-01-11 06:00:00  140.14         103.027652      116.197734\n",
       "2020-01-11 07:00:00  163.75         102.418541      140.284822\n",
       "2020-01-11 08:00:00  148.61         102.265267       98.682207\n",
       "2020-01-11 09:00:00   96.82         101.178499      110.285217\n",
       "2020-01-11 10:00:00   88.51          99.115438      103.925628\n",
       "2020-01-11 11:00:00   82.18          96.148570       92.401050\n",
       "2020-01-11 12:00:00   74.20          92.601064       94.806168\n",
       "2020-01-11 13:00:00   78.92          88.724458       80.934640\n",
       "2020-01-11 14:00:00   65.24          84.924629       82.343165\n",
       "2020-01-11 15:00:00   54.23          81.392420       77.550576\n",
       "2020-01-11 16:00:00   52.97          78.165905       78.726332\n",
       "2020-01-11 17:00:00   77.85          76.052695       90.555479"
      ]
     },
     "execution_count": 38,
     "metadata": {},
     "output_type": "execute_result"
    }
   ],
   "source": [
    "test"
   ]
  },
  {
   "cell_type": "markdown",
   "metadata": {},
   "source": [
    "# Direct Recursive Startegy"
   ]
  },
  {
   "cell_type": "code",
   "execution_count": 39,
   "metadata": {},
   "outputs": [],
   "source": [
    "def generate_data(data, n_input, month):\n",
    "    X, y = [], []\n",
    "    for i in range(0,len(data)-(n_input+month)):\n",
    "            X.append(data[i:i+n_input+(month-1)])\n",
    "            y.append(data[i+n_input+(month-1)])\n",
    "    return np.array(X), np.array(y)"
   ]
  },
  {
   "cell_type": "code",
   "execution_count": 40,
   "metadata": {},
   "outputs": [],
   "source": [
    "def model_predict(m_no, train_data, n_input, n_features):\n",
    "    \n",
    "    model = Sequential()\n",
    "    model.add(LSTM(200, activation='relu', input_shape=(n_input+(m_no - 1), n_features)))\n",
    "    model.add(Dense(1))\n",
    "    model.compile(optimizer='adam', loss='mse')\n",
    "    \n",
    "    X, y = generate_data(train_data, n_input, m_no)\n",
    "    #print(y.dtype)\n",
    "    \n",
    "    #print(\"Model No.  - \", m_no)\n",
    "    #print(X[0], y[0])\n",
    "    #print(\"SHAPE XY : \", X.shape, y.shape)\n",
    "    \n",
    "    model.fit(X, y, epochs=3, verbose=0)\n",
    "    \n",
    "    tX = train_data[-n_input:]\n",
    "    tP = np.array(test_predictions)\n",
    "    \n",
    "    tX = np.concatenate((tX, tP), axis=None)\n",
    "    \n",
    "    #print(\"TYPE : \", type(tX), type(tP))\n",
    "    \n",
    "    #print(\"TX : \", tX)\n",
    "        \n",
    "    #print(\"SHAPE : \" , tX.shape)\n",
    "    \n",
    "    tX = tX.reshape((1, tX.shape[0], n_features))\n",
    "    \n",
    "    res = model.predict(tX)\n",
    "    \n",
    "    return res[0]"
   ]
  },
  {
   "cell_type": "code",
   "execution_count": 41,
   "metadata": {},
   "outputs": [
    {
     "data": {
      "text/plain": [
       "[array([0.14393722], dtype=float32),\n",
       " array([0.16663332], dtype=float32),\n",
       " array([0.16722399], dtype=float32),\n",
       " array([0.15924913], dtype=float32),\n",
       " array([0.16682342], dtype=float32),\n",
       " array([0.17412187], dtype=float32),\n",
       " array([0.1869414], dtype=float32),\n",
       " array([0.17518201], dtype=float32),\n",
       " array([0.1959384], dtype=float32),\n",
       " array([0.17371412], dtype=float32),\n",
       " array([0.16082112], dtype=float32),\n",
       " array([0.195977], dtype=float32),\n",
       " array([0.18119036], dtype=float32),\n",
       " array([0.17202023], dtype=float32),\n",
       " array([0.17027083], dtype=float32),\n",
       " array([0.19156191], dtype=float32),\n",
       " array([0.15778781], dtype=float32),\n",
       " array([0.17425275], dtype=float32),\n",
       " array([0.15495026], dtype=float32),\n",
       " array([0.16018556], dtype=float32),\n",
       " array([0.15347253], dtype=float32),\n",
       " array([0.14131555], dtype=float32),\n",
       " array([0.14819978], dtype=float32),\n",
       " array([0.1857179], dtype=float32)]"
      ]
     },
     "execution_count": 41,
     "metadata": {},
     "output_type": "execute_result"
    }
   ],
   "source": [
    "n_input = 24\n",
    "n_features = 1\n",
    "test_predictions = []\n",
    "\n",
    "for i in range(len(scaled_test)):\n",
    "    pred = model_predict(i+1,scaled_train,n_input, n_features)\n",
    "    test_predictions.append(pred)\n",
    "    \n",
    "test_predictions"
   ]
  },
  {
   "cell_type": "code",
   "execution_count": 42,
   "metadata": {},
   "outputs": [],
   "source": [
    "true_predictions = scaler.inverse_transform(test_predictions)\n",
    "\n",
    "test['direct_recursive_predict'] = true_predictions"
   ]
  },
  {
   "cell_type": "code",
   "execution_count": 43,
   "metadata": {},
   "outputs": [
    {
     "data": {
      "text/plain": [
       "<AxesSubplot:xlabel='date'>"
      ]
     },
     "execution_count": 43,
     "metadata": {},
     "output_type": "execute_result"
    },
    {
     "data": {
      "image/png": "[encoded data removed]",
      "text/plain": [
       "<Figure size 432x288 with 1 Axes>"
      ]
     },
     "metadata": {
      "needs_background": "light"
     },
     "output_type": "display_data"
    }
   ],
   "source": [
    "test.plot()"
   ]
  },
  {
   "cell_type": "code",
   "execution_count": 44,
   "metadata": {},
   "outputs": [
    {
     "name": "stdout",
     "output_type": "stream",
     "text": [
      "41.33627775742116\n"
     ]
    }
   ],
   "source": [
    "rmse = sqrt(mean_squared_error(test['PM2.5'], test['direct_recursive_predict']))\n",
    "print(rmse)"
   ]
  },
  {
   "cell_type": "code",
   "execution_count": 45,
   "metadata": {},
   "outputs": [
    {
     "data": {
      "text/html": [
       "<div>\n",
       "<style scoped>\n",
       "    .dataframe tbody tr th:only-of-type {\n",
       "        vertical-align: middle;\n",
       "    }\n",
       "\n",
       "    .dataframe tbody tr th {\n",
       "        vertical-align: top;\n",
       "    }\n",
       "\n",
       "    .dataframe thead th {\n",
       "        text-align: right;\n",
       "    }\n",
       "</style>\n",
       "<table border=\"1\" class=\"dataframe\">\n",
       "  <thead>\n",
       "    <tr style=\"text-align: right;\">\n",
       "      <th></th>\n",
       "      <th>PM2.5</th>\n",
       "      <th>recursive_predict</th>\n",
       "      <th>direct_predict</th>\n",
       "      <th>direct_recursive_predict</th>\n",
       "    </tr>\n",
       "    <tr>\n",
       "      <th>date</th>\n",
       "      <th></th>\n",
       "      <th></th>\n",
       "      <th></th>\n",
       "      <th></th>\n",
       "    </tr>\n",
       "  </thead>\n",
       "  <tbody>\n",
       "    <tr>\n",
       "      <th>2020-01-10 18:00:00</th>\n",
       "      <td>123.76</td>\n",
       "      <td>86.343997</td>\n",
       "      <td>71.189651</td>\n",
       "      <td>89.842245</td>\n",
       "    </tr>\n",
       "    <tr>\n",
       "      <th>2020-01-10 19:00:00</th>\n",
       "      <td>195.89</td>\n",
       "      <td>90.753026</td>\n",
       "      <td>95.638850</td>\n",
       "      <td>103.548197</td>\n",
       "    </tr>\n",
       "    <tr>\n",
       "      <th>2020-01-10 20:00:00</th>\n",
       "      <td>214.24</td>\n",
       "      <td>92.977964</td>\n",
       "      <td>100.538766</td>\n",
       "      <td>103.904895</td>\n",
       "    </tr>\n",
       "    <tr>\n",
       "      <th>2020-01-10 21:00:00</th>\n",
       "      <td>141.64</td>\n",
       "      <td>93.618866</td>\n",
       "      <td>108.008933</td>\n",
       "      <td>99.088955</td>\n",
       "    </tr>\n",
       "    <tr>\n",
       "      <th>2020-01-10 22:00:00</th>\n",
       "      <td>91.89</td>\n",
       "      <td>94.292920</td>\n",
       "      <td>128.672327</td>\n",
       "      <td>103.662993</td>\n",
       "    </tr>\n",
       "    <tr>\n",
       "      <th>2020-01-10 23:00:00</th>\n",
       "      <td>87.37</td>\n",
       "      <td>95.366587</td>\n",
       "      <td>112.797625</td>\n",
       "      <td>108.070457</td>\n",
       "    </tr>\n",
       "    <tr>\n",
       "      <th>2020-01-11 00:00:00</th>\n",
       "      <td>83.57</td>\n",
       "      <td>98.146759</td>\n",
       "      <td>98.556504</td>\n",
       "      <td>115.812042</td>\n",
       "    </tr>\n",
       "    <tr>\n",
       "      <th>2020-01-11 01:00:00</th>\n",
       "      <td>84.33</td>\n",
       "      <td>105.769904</td>\n",
       "      <td>117.948190</td>\n",
       "      <td>108.710667</td>\n",
       "    </tr>\n",
       "    <tr>\n",
       "      <th>2020-01-11 02:00:00</th>\n",
       "      <td>90.69</td>\n",
       "      <td>109.864322</td>\n",
       "      <td>127.944066</td>\n",
       "      <td>121.245236</td>\n",
       "    </tr>\n",
       "    <tr>\n",
       "      <th>2020-01-11 03:00:00</th>\n",
       "      <td>108.71</td>\n",
       "      <td>109.256040</td>\n",
       "      <td>133.808620</td>\n",
       "      <td>107.824218</td>\n",
       "    </tr>\n",
       "    <tr>\n",
       "      <th>2020-01-11 04:00:00</th>\n",
       "      <td>125.15</td>\n",
       "      <td>106.978352</td>\n",
       "      <td>106.733400</td>\n",
       "      <td>100.038269</td>\n",
       "    </tr>\n",
       "    <tr>\n",
       "      <th>2020-01-11 05:00:00</th>\n",
       "      <td>144.42</td>\n",
       "      <td>104.517650</td>\n",
       "      <td>105.416797</td>\n",
       "      <td>121.268552</td>\n",
       "    </tr>\n",
       "    <tr>\n",
       "      <th>2020-01-11 06:00:00</th>\n",
       "      <td>140.14</td>\n",
       "      <td>103.027652</td>\n",
       "      <td>116.197734</td>\n",
       "      <td>112.339044</td>\n",
       "    </tr>\n",
       "    <tr>\n",
       "      <th>2020-01-11 07:00:00</th>\n",
       "      <td>163.75</td>\n",
       "      <td>102.418541</td>\n",
       "      <td>140.284822</td>\n",
       "      <td>106.801295</td>\n",
       "    </tr>\n",
       "    <tr>\n",
       "      <th>2020-01-11 08:00:00</th>\n",
       "      <td>148.61</td>\n",
       "      <td>102.265267</td>\n",
       "      <td>98.682207</td>\n",
       "      <td>105.744852</td>\n",
       "    </tr>\n",
       "    <tr>\n",
       "      <th>2020-01-11 09:00:00</th>\n",
       "      <td>96.82</td>\n",
       "      <td>101.178499</td>\n",
       "      <td>110.285217</td>\n",
       "      <td>118.602320</td>\n",
       "    </tr>\n",
       "    <tr>\n",
       "      <th>2020-01-11 10:00:00</th>\n",
       "      <td>88.51</td>\n",
       "      <td>99.115438</td>\n",
       "      <td>103.925628</td>\n",
       "      <td>98.206483</td>\n",
       "    </tr>\n",
       "    <tr>\n",
       "      <th>2020-01-11 11:00:00</th>\n",
       "      <td>82.18</td>\n",
       "      <td>96.148570</td>\n",
       "      <td>92.401050</td>\n",
       "      <td>108.149492</td>\n",
       "    </tr>\n",
       "    <tr>\n",
       "      <th>2020-01-11 12:00:00</th>\n",
       "      <td>74.20</td>\n",
       "      <td>92.601064</td>\n",
       "      <td>94.806168</td>\n",
       "      <td>96.492913</td>\n",
       "    </tr>\n",
       "    <tr>\n",
       "      <th>2020-01-11 13:00:00</th>\n",
       "      <td>78.92</td>\n",
       "      <td>88.724458</td>\n",
       "      <td>80.934640</td>\n",
       "      <td>99.654458</td>\n",
       "    </tr>\n",
       "    <tr>\n",
       "      <th>2020-01-11 14:00:00</th>\n",
       "      <td>65.24</td>\n",
       "      <td>84.924629</td>\n",
       "      <td>82.343165</td>\n",
       "      <td>95.600525</td>\n",
       "    </tr>\n",
       "    <tr>\n",
       "      <th>2020-01-11 15:00:00</th>\n",
       "      <td>54.23</td>\n",
       "      <td>81.392420</td>\n",
       "      <td>77.550576</td>\n",
       "      <td>88.259047</td>\n",
       "    </tr>\n",
       "    <tr>\n",
       "      <th>2020-01-11 16:00:00</th>\n",
       "      <td>52.97</td>\n",
       "      <td>78.165905</td>\n",
       "      <td>78.726332</td>\n",
       "      <td>92.416366</td>\n",
       "    </tr>\n",
       "    <tr>\n",
       "      <th>2020-01-11 17:00:00</th>\n",
       "      <td>77.85</td>\n",
       "      <td>76.052695</td>\n",
       "      <td>90.555479</td>\n",
       "      <td>115.073180</td>\n",
       "    </tr>\n",
       "  </tbody>\n",
       "</table>\n",
       "</div>"
      ],
      "text/plain": [
       "                      PM2.5  recursive_predict  direct_predict  \\\n",
       "date                                                             \n",
       "2020-01-10 18:00:00  123.76          86.343997       71.189651   \n",
       "2020-01-10 19:00:00  195.89          90.753026       95.638850   \n",
       "2020-01-10 20:00:00  214.24          92.977964      100.538766   \n",
       "2020-01-10 21:00:00  141.64          93.618866      108.008933   \n",
       "2020-01-10 22:00:00   91.89          94.292920      128.672327   \n",
       "2020-01-10 23:00:00   87.37          95.366587      112.797625   \n",
       "2020-01-11 00:00:00   83.57          98.146759       98.556504   \n",
       "2020-01-11 01:00:00   84.33         105.769904      117.948190   \n",
       "2020-01-11 02:00:00   90.69         109.864322      127.944066   \n",
       "2020-01-11 03:00:00  108.71         109.256040      133.808620   \n",
       "2020-01-11 04:00:00  125.15         106.978352      106.733400   \n",
       "2020-01-11 05:00:00  144.42         104.517650      105.416797   \n",
       "2020-01-11 06:00:00  140.14         103.027652      116.197734   \n",
       "2020-01-11 07:00:00  163.75         102.418541      140.284822   \n",
       "2020-01-11 08:00:00  148.61         102.265267       98.682207   \n",
       "2020-01-11 09:00:00   96.82         101.178499      110.285217   \n",
       "2020-01-11 10:00:00   88.51          99.115438      103.925628   \n",
       "2020-01-11 11:00:00   82.18          96.148570       92.401050   \n",
       "2020-01-11 12:00:00   74.20          92.601064       94.806168   \n",
       "2020-01-11 13:00:00   78.92          88.724458       80.934640   \n",
       "2020-01-11 14:00:00   65.24          84.924629       82.343165   \n",
       "2020-01-11 15:00:00   54.23          81.392420       77.550576   \n",
       "2020-01-11 16:00:00   52.97          78.165905       78.726332   \n",
       "2020-01-11 17:00:00   77.85          76.052695       90.555479   \n",
       "\n",
       "                     direct_recursive_predict  \n",
       "date                                           \n",
       "2020-01-10 18:00:00                 89.842245  \n",
       "2020-01-10 19:00:00                103.548197  \n",
       "2020-01-10 20:00:00                103.904895  \n",
       "2020-01-10 21:00:00                 99.088955  \n",
       "2020-01-10 22:00:00                103.662993  \n",
       "2020-01-10 23:00:00                108.070457  \n",
       "2020-01-11 00:00:00                115.812042  \n",
       "2020-01-11 01:00:00                108.710667  \n",
       "2020-01-11 02:00:00                121.245236  \n",
       "2020-01-11 03:00:00                107.824218  \n",
       "2020-01-11 04:00:00                100.038269  \n",
       "2020-01-11 05:00:00                121.268552  \n",
       "2020-01-11 06:00:00                112.339044  \n",
       "2020-01-11 07:00:00                106.801295  \n",
       "2020-01-11 08:00:00                105.744852  \n",
       "2020-01-11 09:00:00                118.602320  \n",
       "2020-01-11 10:00:00                 98.206483  \n",
       "2020-01-11 11:00:00                108.149492  \n",
       "2020-01-11 12:00:00                 96.492913  \n",
       "2020-01-11 13:00:00                 99.654458  \n",
       "2020-01-11 14:00:00                 95.600525  \n",
       "2020-01-11 15:00:00                 88.259047  \n",
       "2020-01-11 16:00:00                 92.416366  \n",
       "2020-01-11 17:00:00                115.073180  "
      ]
     },
     "execution_count": 45,
     "metadata": {},
     "output_type": "execute_result"
    }
   ],
   "source": [
    "test"
   ]
  },
  {
   "cell_type": "markdown",
   "metadata": {},
   "source": [
    "# MIMO"
   ]
  },
  {
   "cell_type": "code",
   "execution_count": 46,
   "metadata": {},
   "outputs": [],
   "source": [
    "def generate_data(data, n_input, n_output):\n",
    "    X, y = [], []\n",
    "    for i in range(0,len(data)-(n_input+n_output)):\n",
    "            X.append(data[i:(i+n_input)])\n",
    "            y.append(data[i+n_input: i+n_input+n_output])\n",
    "    return np.array(X), np.array(y)"
   ]
  },
  {
   "cell_type": "code",
   "execution_count": 47,
   "metadata": {},
   "outputs": [],
   "source": [
    "n_input = 24\n",
    "n_features = 1\n",
    "n_output = len(scaled_test)\n",
    "\n",
    "X, y = generate_data(scaled_train, n_input, n_output)"
   ]
  },
  {
   "cell_type": "code",
   "execution_count": 48,
   "metadata": {},
   "outputs": [],
   "source": [
    "model = Sequential()\n",
    "model.add(LSTM(200, activation='relu', input_shape=(n_input, n_features)))\n",
    "model.add(Dense(n_output))\n",
    "model.compile(optimizer='adam', loss='mse')"
   ]
  },
  {
   "cell_type": "code",
   "execution_count": 49,
   "metadata": {},
   "outputs": [
    {
     "data": {
      "text/plain": [
       "<keras.callbacks.History at 0x21faa9e98b0>"
      ]
     },
     "execution_count": 49,
     "metadata": {},
     "output_type": "execute_result"
    }
   ],
   "source": [
    "model.fit(X, y, epochs=3, verbose=0)"
   ]
  },
  {
   "cell_type": "code",
   "execution_count": 50,
   "metadata": {},
   "outputs": [
    {
     "name": "stdout",
     "output_type": "stream",
     "text": [
      "Model: \"sequential_49\"\n",
      "_________________________________________________________________\n",
      "Layer (type)                 Output Shape              Param #   \n",
      "=================================================================\n",
      "lstm_49 (LSTM)               (None, 200)               161600    \n",
      "_________________________________________________________________\n",
      "dense_49 (Dense)             (None, 24)                4824      \n",
      "=================================================================\n",
      "Total params: 166,424\n",
      "Trainable params: 166,424\n",
      "Non-trainable params: 0\n",
      "_________________________________________________________________\n"
     ]
    }
   ],
   "source": [
    "model.summary()"
   ]
  },
  {
   "cell_type": "code",
   "execution_count": 51,
   "metadata": {},
   "outputs": [],
   "source": [
    "tX = scaled_train[-n_input:]\n",
    "tX = tX.reshape((1, tX.shape[0], n_features))\n",
    "\n",
    "res = model.predict(tX)\n",
    "\n",
    "res = res.reshape((res.shape[1],1))"
   ]
  },
  {
   "cell_type": "code",
   "execution_count": 52,
   "metadata": {},
   "outputs": [
    {
     "data": {
      "text/plain": [
       "(24, 1)"
      ]
     },
     "execution_count": 52,
     "metadata": {},
     "output_type": "execute_result"
    }
   ],
   "source": [
    "res.shape"
   ]
  },
  {
   "cell_type": "code",
   "execution_count": 53,
   "metadata": {},
   "outputs": [],
   "source": [
    "true_predictions = scaler.inverse_transform(res)\n",
    "\n",
    "test['MIMO_predict'] = true_predictions"
   ]
  },
  {
   "cell_type": "code",
   "execution_count": 54,
   "metadata": {},
   "outputs": [
    {
     "data": {
      "text/html": [
       "<div>\n",
       "<style scoped>\n",
       "    .dataframe tbody tr th:only-of-type {\n",
       "        vertical-align: middle;\n",
       "    }\n",
       "\n",
       "    .dataframe tbody tr th {\n",
       "        vertical-align: top;\n",
       "    }\n",
       "\n",
       "    .dataframe thead th {\n",
       "        text-align: right;\n",
       "    }\n",
       "</style>\n",
       "<table border=\"1\" class=\"dataframe\">\n",
       "  <thead>\n",
       "    <tr style=\"text-align: right;\">\n",
       "      <th></th>\n",
       "      <th>PM2.5</th>\n",
       "      <th>recursive_predict</th>\n",
       "      <th>direct_predict</th>\n",
       "      <th>direct_recursive_predict</th>\n",
       "      <th>MIMO_predict</th>\n",
       "    </tr>\n",
       "    <tr>\n",
       "      <th>date</th>\n",
       "      <th></th>\n",
       "      <th></th>\n",
       "      <th></th>\n",
       "      <th></th>\n",
       "      <th></th>\n",
       "    </tr>\n",
       "  </thead>\n",
       "  <tbody>\n",
       "    <tr>\n",
       "      <th>2020-01-10 18:00:00</th>\n",
       "      <td>123.76</td>\n",
       "      <td>86.343997</td>\n",
       "      <td>71.189651</td>\n",
       "      <td>89.842245</td>\n",
       "      <td>91.846985</td>\n",
       "    </tr>\n",
       "    <tr>\n",
       "      <th>2020-01-10 19:00:00</th>\n",
       "      <td>195.89</td>\n",
       "      <td>90.753026</td>\n",
       "      <td>95.638850</td>\n",
       "      <td>103.548197</td>\n",
       "      <td>97.782272</td>\n",
       "    </tr>\n",
       "    <tr>\n",
       "      <th>2020-01-10 20:00:00</th>\n",
       "      <td>214.24</td>\n",
       "      <td>92.977964</td>\n",
       "      <td>100.538766</td>\n",
       "      <td>103.904895</td>\n",
       "      <td>105.751633</td>\n",
       "    </tr>\n",
       "    <tr>\n",
       "      <th>2020-01-10 21:00:00</th>\n",
       "      <td>141.64</td>\n",
       "      <td>93.618866</td>\n",
       "      <td>108.008933</td>\n",
       "      <td>99.088955</td>\n",
       "      <td>120.732422</td>\n",
       "    </tr>\n",
       "    <tr>\n",
       "      <th>2020-01-10 22:00:00</th>\n",
       "      <td>91.89</td>\n",
       "      <td>94.292920</td>\n",
       "      <td>128.672327</td>\n",
       "      <td>103.662993</td>\n",
       "      <td>127.803391</td>\n",
       "    </tr>\n",
       "    <tr>\n",
       "      <th>2020-01-10 23:00:00</th>\n",
       "      <td>87.37</td>\n",
       "      <td>95.366587</td>\n",
       "      <td>112.797625</td>\n",
       "      <td>108.070457</td>\n",
       "      <td>125.512321</td>\n",
       "    </tr>\n",
       "    <tr>\n",
       "      <th>2020-01-11 00:00:00</th>\n",
       "      <td>83.57</td>\n",
       "      <td>98.146759</td>\n",
       "      <td>98.556504</td>\n",
       "      <td>115.812042</td>\n",
       "      <td>121.792343</td>\n",
       "    </tr>\n",
       "    <tr>\n",
       "      <th>2020-01-11 01:00:00</th>\n",
       "      <td>84.33</td>\n",
       "      <td>105.769904</td>\n",
       "      <td>117.948190</td>\n",
       "      <td>108.710667</td>\n",
       "      <td>120.877533</td>\n",
       "    </tr>\n",
       "    <tr>\n",
       "      <th>2020-01-11 02:00:00</th>\n",
       "      <td>90.69</td>\n",
       "      <td>109.864322</td>\n",
       "      <td>127.944066</td>\n",
       "      <td>121.245236</td>\n",
       "      <td>125.074692</td>\n",
       "    </tr>\n",
       "    <tr>\n",
       "      <th>2020-01-11 03:00:00</th>\n",
       "      <td>108.71</td>\n",
       "      <td>109.256040</td>\n",
       "      <td>133.808620</td>\n",
       "      <td>107.824218</td>\n",
       "      <td>133.512802</td>\n",
       "    </tr>\n",
       "    <tr>\n",
       "      <th>2020-01-11 04:00:00</th>\n",
       "      <td>125.15</td>\n",
       "      <td>106.978352</td>\n",
       "      <td>106.733400</td>\n",
       "      <td>100.038269</td>\n",
       "      <td>129.993332</td>\n",
       "    </tr>\n",
       "    <tr>\n",
       "      <th>2020-01-11 05:00:00</th>\n",
       "      <td>144.42</td>\n",
       "      <td>104.517650</td>\n",
       "      <td>105.416797</td>\n",
       "      <td>121.268552</td>\n",
       "      <td>120.070976</td>\n",
       "    </tr>\n",
       "    <tr>\n",
       "      <th>2020-01-11 06:00:00</th>\n",
       "      <td>140.14</td>\n",
       "      <td>103.027652</td>\n",
       "      <td>116.197734</td>\n",
       "      <td>112.339044</td>\n",
       "      <td>118.501328</td>\n",
       "    </tr>\n",
       "    <tr>\n",
       "      <th>2020-01-11 07:00:00</th>\n",
       "      <td>163.75</td>\n",
       "      <td>102.418541</td>\n",
       "      <td>140.284822</td>\n",
       "      <td>106.801295</td>\n",
       "      <td>121.557266</td>\n",
       "    </tr>\n",
       "    <tr>\n",
       "      <th>2020-01-11 08:00:00</th>\n",
       "      <td>148.61</td>\n",
       "      <td>102.265267</td>\n",
       "      <td>98.682207</td>\n",
       "      <td>105.744852</td>\n",
       "      <td>116.772095</td>\n",
       "    </tr>\n",
       "    <tr>\n",
       "      <th>2020-01-11 09:00:00</th>\n",
       "      <td>96.82</td>\n",
       "      <td>101.178499</td>\n",
       "      <td>110.285217</td>\n",
       "      <td>118.602320</td>\n",
       "      <td>112.988365</td>\n",
       "    </tr>\n",
       "    <tr>\n",
       "      <th>2020-01-11 10:00:00</th>\n",
       "      <td>88.51</td>\n",
       "      <td>99.115438</td>\n",
       "      <td>103.925628</td>\n",
       "      <td>98.206483</td>\n",
       "      <td>103.398567</td>\n",
       "    </tr>\n",
       "    <tr>\n",
       "      <th>2020-01-11 11:00:00</th>\n",
       "      <td>82.18</td>\n",
       "      <td>96.148570</td>\n",
       "      <td>92.401050</td>\n",
       "      <td>108.149492</td>\n",
       "      <td>99.537903</td>\n",
       "    </tr>\n",
       "    <tr>\n",
       "      <th>2020-01-11 12:00:00</th>\n",
       "      <td>74.20</td>\n",
       "      <td>92.601064</td>\n",
       "      <td>94.806168</td>\n",
       "      <td>96.492913</td>\n",
       "      <td>89.261719</td>\n",
       "    </tr>\n",
       "    <tr>\n",
       "      <th>2020-01-11 13:00:00</th>\n",
       "      <td>78.92</td>\n",
       "      <td>88.724458</td>\n",
       "      <td>80.934640</td>\n",
       "      <td>99.654458</td>\n",
       "      <td>94.264702</td>\n",
       "    </tr>\n",
       "    <tr>\n",
       "      <th>2020-01-11 14:00:00</th>\n",
       "      <td>65.24</td>\n",
       "      <td>84.924629</td>\n",
       "      <td>82.343165</td>\n",
       "      <td>95.600525</td>\n",
       "      <td>82.785828</td>\n",
       "    </tr>\n",
       "    <tr>\n",
       "      <th>2020-01-11 15:00:00</th>\n",
       "      <td>54.23</td>\n",
       "      <td>81.392420</td>\n",
       "      <td>77.550576</td>\n",
       "      <td>88.259047</td>\n",
       "      <td>88.728050</td>\n",
       "    </tr>\n",
       "    <tr>\n",
       "      <th>2020-01-11 16:00:00</th>\n",
       "      <td>52.97</td>\n",
       "      <td>78.165905</td>\n",
       "      <td>78.726332</td>\n",
       "      <td>92.416366</td>\n",
       "      <td>82.733078</td>\n",
       "    </tr>\n",
       "    <tr>\n",
       "      <th>2020-01-11 17:00:00</th>\n",
       "      <td>77.85</td>\n",
       "      <td>76.052695</td>\n",
       "      <td>90.555479</td>\n",
       "      <td>115.073180</td>\n",
       "      <td>86.458382</td>\n",
       "    </tr>\n",
       "  </tbody>\n",
       "</table>\n",
       "</div>"
      ],
      "text/plain": [
       "                      PM2.5  recursive_predict  direct_predict  \\\n",
       "date                                                             \n",
       "2020-01-10 18:00:00  123.76          86.343997       71.189651   \n",
       "2020-01-10 19:00:00  195.89          90.753026       95.638850   \n",
       "2020-01-10 20:00:00  214.24          92.977964      100.538766   \n",
       "2020-01-10 21:00:00  141.64          93.618866      108.008933   \n",
       "2020-01-10 22:00:00   91.89          94.292920      128.672327   \n",
       "2020-01-10 23:00:00   87.37          95.366587      112.797625   \n",
       "2020-01-11 00:00:00   83.57          98.146759       98.556504   \n",
       "2020-01-11 01:00:00   84.33         105.769904      117.948190   \n",
       "2020-01-11 02:00:00   90.69         109.864322      127.944066   \n",
       "2020-01-11 03:00:00  108.71         109.256040      133.808620   \n",
       "2020-01-11 04:00:00  125.15         106.978352      106.733400   \n",
       "2020-01-11 05:00:00  144.42         104.517650      105.416797   \n",
       "2020-01-11 06:00:00  140.14         103.027652      116.197734   \n",
       "2020-01-11 07:00:00  163.75         102.418541      140.284822   \n",
       "2020-01-11 08:00:00  148.61         102.265267       98.682207   \n",
       "2020-01-11 09:00:00   96.82         101.178499      110.285217   \n",
       "2020-01-11 10:00:00   88.51          99.115438      103.925628   \n",
       "2020-01-11 11:00:00   82.18          96.148570       92.401050   \n",
       "2020-01-11 12:00:00   74.20          92.601064       94.806168   \n",
       "2020-01-11 13:00:00   78.92          88.724458       80.934640   \n",
       "2020-01-11 14:00:00   65.24          84.924629       82.343165   \n",
       "2020-01-11 15:00:00   54.23          81.392420       77.550576   \n",
       "2020-01-11 16:00:00   52.97          78.165905       78.726332   \n",
       "2020-01-11 17:00:00   77.85          76.052695       90.555479   \n",
       "\n",
       "                     direct_recursive_predict  MIMO_predict  \n",
       "date                                                         \n",
       "2020-01-10 18:00:00                 89.842245     91.846985  \n",
       "2020-01-10 19:00:00                103.548197     97.782272  \n",
       "2020-01-10 20:00:00                103.904895    105.751633  \n",
       "2020-01-10 21:00:00                 99.088955    120.732422  \n",
       "2020-01-10 22:00:00                103.662993    127.803391  \n",
       "2020-01-10 23:00:00                108.070457    125.512321  \n",
       "2020-01-11 00:00:00                115.812042    121.792343  \n",
       "2020-01-11 01:00:00                108.710667    120.877533  \n",
       "2020-01-11 02:00:00                121.245236    125.074692  \n",
       "2020-01-11 03:00:00                107.824218    133.512802  \n",
       "2020-01-11 04:00:00                100.038269    129.993332  \n",
       "2020-01-11 05:00:00                121.268552    120.070976  \n",
       "2020-01-11 06:00:00                112.339044    118.501328  \n",
       "2020-01-11 07:00:00                106.801295    121.557266  \n",
       "2020-01-11 08:00:00                105.744852    116.772095  \n",
       "2020-01-11 09:00:00                118.602320    112.988365  \n",
       "2020-01-11 10:00:00                 98.206483    103.398567  \n",
       "2020-01-11 11:00:00                108.149492     99.537903  \n",
       "2020-01-11 12:00:00                 96.492913     89.261719  \n",
       "2020-01-11 13:00:00                 99.654458     94.264702  \n",
       "2020-01-11 14:00:00                 95.600525     82.785828  \n",
       "2020-01-11 15:00:00                 88.259047     88.728050  \n",
       "2020-01-11 16:00:00                 92.416366     82.733078  \n",
       "2020-01-11 17:00:00                115.073180     86.458382  "
      ]
     },
     "execution_count": 54,
     "metadata": {},
     "output_type": "execute_result"
    }
   ],
   "source": [
    "test"
   ]
  },
  {
   "cell_type": "code",
   "execution_count": 55,
   "metadata": {},
   "outputs": [
    {
     "data": {
      "text/plain": [
       "<AxesSubplot:xlabel='date'>"
      ]
     },
     "execution_count": 55,
     "metadata": {},
     "output_type": "execute_result"
    },
    {
     "data": {
      "image/png": "[encoded data removed]",
      "text/plain": [
       "<Figure size 432x288 with 1 Axes>"
      ]
     },
     "metadata": {
      "needs_background": "light"
     },
     "output_type": "display_data"
    }
   ],
   "source": [
    "test.plot()"
   ]
  },
  {
   "cell_type": "code",
   "execution_count": 56,
   "metadata": {},
   "outputs": [
    {
     "name": "stdout",
     "output_type": "stream",
     "text": [
      "39.67169513798476\n"
     ]
    }
   ],
   "source": [
    "rmse = sqrt(mean_squared_error(test['PM2.5'], test['MIMO_predict']))\n",
    "print(rmse)"
   ]
  },
  {
   "cell_type": "markdown",
   "metadata": {},
   "source": [
    "# Direct MIMO"
   ]
  },
  {
   "cell_type": "code",
   "execution_count": 57,
   "metadata": {},
   "outputs": [],
   "source": [
    "def generate_data(data, n_input, q_no, n_output):\n",
    "    X, y = [], []\n",
    "    for i in range(0,len(data)-(n_input + ((q_no-1)*n_output) + n_output)):\n",
    "            X.append(data[i:(i+n_input)])\n",
    "            y.append(data[i+n_input+((q_no-1)*n_output): i+n_input+((q_no-1)*n_output) + n_output])\n",
    "    return np.array(X), np.array(y)"
   ]
  },
  {
   "cell_type": "code",
   "execution_count": 58,
   "metadata": {},
   "outputs": [],
   "source": [
    "def model_predict(train_data, n_input, n_features, q_no, n_output):\n",
    "    \n",
    "    model = Sequential()\n",
    "    model.add(LSTM(200, activation='relu', input_shape=(n_input, n_features)))\n",
    "    model.add(Dense(n_output))\n",
    "    model.compile(optimizer='adam', loss='mse')\n",
    "    \n",
    "    X, y = generate_data(train_data, n_input, q_no, n_output)\n",
    "    \n",
    "    model.fit(X, y, epochs=3, verbose=0)\n",
    "    \n",
    "    tX = train_data[-n_input:]\n",
    "    \n",
    "    tX = tX.reshape((1, n_input, n_features))\n",
    "    \n",
    "    res = model.predict(tX)\n",
    "    \n",
    "    return res"
   ]
  },
  {
   "cell_type": "code",
   "execution_count": 59,
   "metadata": {},
   "outputs": [
    {
     "data": {
      "text/plain": [
       "[array([[0.12681954, 0.13784778, 0.14044446, 0.14500667, 0.13920164,\n",
       "         0.14507021]], dtype=float32),\n",
       " array([[0.15631215, 0.16308492, 0.16226083, 0.16581969, 0.17378338,\n",
       "         0.17936812]], dtype=float32),\n",
       " array([[0.21113819, 0.21459964, 0.21446976, 0.21060938, 0.20416638,\n",
       "         0.19904219]], dtype=float32),\n",
       " array([[0.1447876 , 0.13619083, 0.13053852, 0.12595564, 0.1249162 ,\n",
       "         0.12918873]], dtype=float32),\n",
       " array([[0.14525233, 0.14351271, 0.14898306, 0.14444856, 0.15186006,\n",
       "         0.1571408 ]], dtype=float32),\n",
       " array([[0.18472555, 0.18665463, 0.18430658, 0.18472731, 0.18582559,\n",
       "         0.18573374]], dtype=float32)]"
      ]
     },
     "execution_count": 59,
     "metadata": {},
     "output_type": "execute_result"
    }
   ],
   "source": [
    "n_input = 12\n",
    "n_features = 1\n",
    "test_predictions = []\n",
    "\n",
    "q = int(len(scaled_test)/4)\n",
    "\n",
    "n_output = q\n",
    "\n",
    "for i in range(q):\n",
    "    pred = model_predict(scaled_train,n_input, n_features, i+1, n_output)\n",
    "    test_predictions.append(pred)\n",
    "\n",
    "test_predictions"
   ]
  },
  {
   "cell_type": "code",
   "execution_count": 60,
   "metadata": {},
   "outputs": [],
   "source": [
    "res = []\n",
    "\n",
    "for i in test_predictions:\n",
    "    for j in i:\n",
    "        for k in j:\n",
    "            res.append(k)"
   ]
  },
  {
   "cell_type": "code",
   "execution_count": 61,
   "metadata": {},
   "outputs": [
    {
     "data": {
      "text/plain": [
       "(24, 1)"
      ]
     },
     "execution_count": 61,
     "metadata": {},
     "output_type": "execute_result"
    }
   ],
   "source": [
    "res = np.array(res[:len(scaled_test)])\n",
    "res = res.reshape((res.shape[0],1))\n",
    "res.shape"
   ]
  },
  {
   "cell_type": "code",
   "execution_count": 62,
   "metadata": {},
   "outputs": [],
   "source": [
    "true_predictions = scaler.inverse_transform(res)\n",
    "\n",
    "test['Direct_MIMO_predict'] = true_predictions"
   ]
  },
  {
   "cell_type": "code",
   "execution_count": 63,
   "metadata": {},
   "outputs": [
    {
     "data": {
      "text/html": [
       "<div>\n",
       "<style scoped>\n",
       "    .dataframe tbody tr th:only-of-type {\n",
       "        vertical-align: middle;\n",
       "    }\n",
       "\n",
       "    .dataframe tbody tr th {\n",
       "        vertical-align: top;\n",
       "    }\n",
       "\n",
       "    .dataframe thead th {\n",
       "        text-align: right;\n",
       "    }\n",
       "</style>\n",
       "<table border=\"1\" class=\"dataframe\">\n",
       "  <thead>\n",
       "    <tr style=\"text-align: right;\">\n",
       "      <th></th>\n",
       "      <th>PM2.5</th>\n",
       "      <th>recursive_predict</th>\n",
       "      <th>direct_predict</th>\n",
       "      <th>direct_recursive_predict</th>\n",
       "      <th>MIMO_predict</th>\n",
       "      <th>Direct_MIMO_predict</th>\n",
       "    </tr>\n",
       "    <tr>\n",
       "      <th>date</th>\n",
       "      <th></th>\n",
       "      <th></th>\n",
       "      <th></th>\n",
       "      <th></th>\n",
       "      <th></th>\n",
       "      <th></th>\n",
       "    </tr>\n",
       "  </thead>\n",
       "  <tbody>\n",
       "    <tr>\n",
       "      <th>2020-01-10 18:00:00</th>\n",
       "      <td>123.76</td>\n",
       "      <td>86.343997</td>\n",
       "      <td>71.189651</td>\n",
       "      <td>89.842245</td>\n",
       "      <td>91.846985</td>\n",
       "      <td>79.505051</td>\n",
       "    </tr>\n",
       "    <tr>\n",
       "      <th>2020-01-10 19:00:00</th>\n",
       "      <td>195.89</td>\n",
       "      <td>90.753026</td>\n",
       "      <td>95.638850</td>\n",
       "      <td>103.548197</td>\n",
       "      <td>97.782272</td>\n",
       "      <td>86.164902</td>\n",
       "    </tr>\n",
       "    <tr>\n",
       "      <th>2020-01-10 20:00:00</th>\n",
       "      <td>214.24</td>\n",
       "      <td>92.977964</td>\n",
       "      <td>100.538766</td>\n",
       "      <td>103.904895</td>\n",
       "      <td>105.751633</td>\n",
       "      <td>87.733009</td>\n",
       "    </tr>\n",
       "    <tr>\n",
       "      <th>2020-01-10 21:00:00</th>\n",
       "      <td>141.64</td>\n",
       "      <td>93.618866</td>\n",
       "      <td>108.008933</td>\n",
       "      <td>99.088955</td>\n",
       "      <td>120.732422</td>\n",
       "      <td>90.488083</td>\n",
       "    </tr>\n",
       "    <tr>\n",
       "      <th>2020-01-10 22:00:00</th>\n",
       "      <td>91.89</td>\n",
       "      <td>94.292920</td>\n",
       "      <td>128.672327</td>\n",
       "      <td>103.662993</td>\n",
       "      <td>127.803391</td>\n",
       "      <td>86.982483</td>\n",
       "    </tr>\n",
       "    <tr>\n",
       "      <th>2020-01-10 23:00:00</th>\n",
       "      <td>87.37</td>\n",
       "      <td>95.366587</td>\n",
       "      <td>112.797625</td>\n",
       "      <td>108.070457</td>\n",
       "      <td>125.512321</td>\n",
       "      <td>90.526451</td>\n",
       "    </tr>\n",
       "    <tr>\n",
       "      <th>2020-01-11 00:00:00</th>\n",
       "      <td>83.57</td>\n",
       "      <td>98.146759</td>\n",
       "      <td>98.556504</td>\n",
       "      <td>115.812042</td>\n",
       "      <td>121.792343</td>\n",
       "      <td>97.315346</td>\n",
       "    </tr>\n",
       "    <tr>\n",
       "      <th>2020-01-11 01:00:00</th>\n",
       "      <td>84.33</td>\n",
       "      <td>105.769904</td>\n",
       "      <td>117.948190</td>\n",
       "      <td>108.710667</td>\n",
       "      <td>120.877533</td>\n",
       "      <td>101.405357</td>\n",
       "    </tr>\n",
       "    <tr>\n",
       "      <th>2020-01-11 02:00:00</th>\n",
       "      <td>90.69</td>\n",
       "      <td>109.864322</td>\n",
       "      <td>127.944066</td>\n",
       "      <td>121.245236</td>\n",
       "      <td>125.074692</td>\n",
       "      <td>100.907700</td>\n",
       "    </tr>\n",
       "    <tr>\n",
       "      <th>2020-01-11 03:00:00</th>\n",
       "      <td>108.71</td>\n",
       "      <td>109.256040</td>\n",
       "      <td>133.808620</td>\n",
       "      <td>107.824218</td>\n",
       "      <td>133.512802</td>\n",
       "      <td>103.056854</td>\n",
       "    </tr>\n",
       "    <tr>\n",
       "      <th>2020-01-11 04:00:00</th>\n",
       "      <td>125.15</td>\n",
       "      <td>106.978352</td>\n",
       "      <td>106.733400</td>\n",
       "      <td>100.038269</td>\n",
       "      <td>129.993332</td>\n",
       "      <td>107.866043</td>\n",
       "    </tr>\n",
       "    <tr>\n",
       "      <th>2020-01-11 05:00:00</th>\n",
       "      <td>144.42</td>\n",
       "      <td>104.517650</td>\n",
       "      <td>105.416797</td>\n",
       "      <td>121.268552</td>\n",
       "      <td>120.070976</td>\n",
       "      <td>111.238617</td>\n",
       "    </tr>\n",
       "    <tr>\n",
       "      <th>2020-01-11 06:00:00</th>\n",
       "      <td>140.14</td>\n",
       "      <td>103.027652</td>\n",
       "      <td>116.197734</td>\n",
       "      <td>112.339044</td>\n",
       "      <td>118.501328</td>\n",
       "      <td>130.424240</td>\n",
       "    </tr>\n",
       "    <tr>\n",
       "      <th>2020-01-11 07:00:00</th>\n",
       "      <td>163.75</td>\n",
       "      <td>102.418541</td>\n",
       "      <td>140.284822</td>\n",
       "      <td>106.801295</td>\n",
       "      <td>121.557266</td>\n",
       "      <td>132.514572</td>\n",
       "    </tr>\n",
       "    <tr>\n",
       "      <th>2020-01-11 08:00:00</th>\n",
       "      <td>148.61</td>\n",
       "      <td>102.265267</td>\n",
       "      <td>98.682207</td>\n",
       "      <td>105.744852</td>\n",
       "      <td>116.772095</td>\n",
       "      <td>132.436142</td>\n",
       "    </tr>\n",
       "    <tr>\n",
       "      <th>2020-01-11 09:00:00</th>\n",
       "      <td>96.82</td>\n",
       "      <td>101.178499</td>\n",
       "      <td>110.285217</td>\n",
       "      <td>118.602320</td>\n",
       "      <td>112.988365</td>\n",
       "      <td>130.104904</td>\n",
       "    </tr>\n",
       "    <tr>\n",
       "      <th>2020-01-11 10:00:00</th>\n",
       "      <td>88.51</td>\n",
       "      <td>99.115438</td>\n",
       "      <td>103.925628</td>\n",
       "      <td>98.206483</td>\n",
       "      <td>103.398567</td>\n",
       "      <td>126.214043</td>\n",
       "    </tr>\n",
       "    <tr>\n",
       "      <th>2020-01-11 11:00:00</th>\n",
       "      <td>82.18</td>\n",
       "      <td>96.148570</td>\n",
       "      <td>92.401050</td>\n",
       "      <td>108.149492</td>\n",
       "      <td>99.537903</td>\n",
       "      <td>123.119591</td>\n",
       "    </tr>\n",
       "    <tr>\n",
       "      <th>2020-01-11 12:00:00</th>\n",
       "      <td>74.20</td>\n",
       "      <td>92.601064</td>\n",
       "      <td>94.806168</td>\n",
       "      <td>96.492913</td>\n",
       "      <td>89.261719</td>\n",
       "      <td>90.355782</td>\n",
       "    </tr>\n",
       "    <tr>\n",
       "      <th>2020-01-11 13:00:00</th>\n",
       "      <td>78.92</td>\n",
       "      <td>88.724458</td>\n",
       "      <td>80.934640</td>\n",
       "      <td>99.654458</td>\n",
       "      <td>94.264702</td>\n",
       "      <td>85.164284</td>\n",
       "    </tr>\n",
       "    <tr>\n",
       "      <th>2020-01-11 14:00:00</th>\n",
       "      <td>65.24</td>\n",
       "      <td>84.924629</td>\n",
       "      <td>82.343165</td>\n",
       "      <td>95.600525</td>\n",
       "      <td>82.785828</td>\n",
       "      <td>81.750908</td>\n",
       "    </tr>\n",
       "    <tr>\n",
       "      <th>2020-01-11 15:00:00</th>\n",
       "      <td>54.23</td>\n",
       "      <td>81.392420</td>\n",
       "      <td>77.550576</td>\n",
       "      <td>88.259047</td>\n",
       "      <td>88.728050</td>\n",
       "      <td>78.983353</td>\n",
       "    </tr>\n",
       "    <tr>\n",
       "      <th>2020-01-11 16:00:00</th>\n",
       "      <td>52.97</td>\n",
       "      <td>78.165905</td>\n",
       "      <td>78.726332</td>\n",
       "      <td>92.416366</td>\n",
       "      <td>82.733078</td>\n",
       "      <td>78.355644</td>\n",
       "    </tr>\n",
       "    <tr>\n",
       "      <th>2020-01-11 17:00:00</th>\n",
       "      <td>77.85</td>\n",
       "      <td>76.052695</td>\n",
       "      <td>90.555479</td>\n",
       "      <td>115.073180</td>\n",
       "      <td>86.458382</td>\n",
       "      <td>80.935783</td>\n",
       "    </tr>\n",
       "  </tbody>\n",
       "</table>\n",
       "</div>"
      ],
      "text/plain": [
       "                      PM2.5  recursive_predict  direct_predict  \\\n",
       "date                                                             \n",
       "2020-01-10 18:00:00  123.76          86.343997       71.189651   \n",
       "2020-01-10 19:00:00  195.89          90.753026       95.638850   \n",
       "2020-01-10 20:00:00  214.24          92.977964      100.538766   \n",
       "2020-01-10 21:00:00  141.64          93.618866      108.008933   \n",
       "2020-01-10 22:00:00   91.89          94.292920      128.672327   \n",
       "2020-01-10 23:00:00   87.37          95.366587      112.797625   \n",
       "2020-01-11 00:00:00   83.57          98.146759       98.556504   \n",
       "2020-01-11 01:00:00   84.33         105.769904      117.948190   \n",
       "2020-01-11 02:00:00   90.69         109.864322      127.944066   \n",
       "2020-01-11 03:00:00  108.71         109.256040      133.808620   \n",
       "2020-01-11 04:00:00  125.15         106.978352      106.733400   \n",
       "2020-01-11 05:00:00  144.42         104.517650      105.416797   \n",
       "2020-01-11 06:00:00  140.14         103.027652      116.197734   \n",
       "2020-01-11 07:00:00  163.75         102.418541      140.284822   \n",
       "2020-01-11 08:00:00  148.61         102.265267       98.682207   \n",
       "2020-01-11 09:00:00   96.82         101.178499      110.285217   \n",
       "2020-01-11 10:00:00   88.51          99.115438      103.925628   \n",
       "2020-01-11 11:00:00   82.18          96.148570       92.401050   \n",
       "2020-01-11 12:00:00   74.20          92.601064       94.806168   \n",
       "2020-01-11 13:00:00   78.92          88.724458       80.934640   \n",
       "2020-01-11 14:00:00   65.24          84.924629       82.343165   \n",
       "2020-01-11 15:00:00   54.23          81.392420       77.550576   \n",
       "2020-01-11 16:00:00   52.97          78.165905       78.726332   \n",
       "2020-01-11 17:00:00   77.85          76.052695       90.555479   \n",
       "\n",
       "                     direct_recursive_predict  MIMO_predict  \\\n",
       "date                                                          \n",
       "2020-01-10 18:00:00                 89.842245     91.846985   \n",
       "2020-01-10 19:00:00                103.548197     97.782272   \n",
       "2020-01-10 20:00:00                103.904895    105.751633   \n",
       "2020-01-10 21:00:00                 99.088955    120.732422   \n",
       "2020-01-10 22:00:00                103.662993    127.803391   \n",
       "2020-01-10 23:00:00                108.070457    125.512321   \n",
       "2020-01-11 00:00:00                115.812042    121.792343   \n",
       "2020-01-11 01:00:00                108.710667    120.877533   \n",
       "2020-01-11 02:00:00                121.245236    125.074692   \n",
       "2020-01-11 03:00:00                107.824218    133.512802   \n",
       "2020-01-11 04:00:00                100.038269    129.993332   \n",
       "2020-01-11 05:00:00                121.268552    120.070976   \n",
       "2020-01-11 06:00:00                112.339044    118.501328   \n",
       "2020-01-11 07:00:00                106.801295    121.557266   \n",
       "2020-01-11 08:00:00                105.744852    116.772095   \n",
       "2020-01-11 09:00:00                118.602320    112.988365   \n",
       "2020-01-11 10:00:00                 98.206483    103.398567   \n",
       "2020-01-11 11:00:00                108.149492     99.537903   \n",
       "2020-01-11 12:00:00                 96.492913     89.261719   \n",
       "2020-01-11 13:00:00                 99.654458     94.264702   \n",
       "2020-01-11 14:00:00                 95.600525     82.785828   \n",
       "2020-01-11 15:00:00                 88.259047     88.728050   \n",
       "2020-01-11 16:00:00                 92.416366     82.733078   \n",
       "2020-01-11 17:00:00                115.073180     86.458382   \n",
       "\n",
       "                     Direct_MIMO_predict  \n",
       "date                                      \n",
       "2020-01-10 18:00:00            79.505051  \n",
       "2020-01-10 19:00:00            86.164902  \n",
       "2020-01-10 20:00:00            87.733009  \n",
       "2020-01-10 21:00:00            90.488083  \n",
       "2020-01-10 22:00:00            86.982483  \n",
       "2020-01-10 23:00:00            90.526451  \n",
       "2020-01-11 00:00:00            97.315346  \n",
       "2020-01-11 01:00:00           101.405357  \n",
       "2020-01-11 02:00:00           100.907700  \n",
       "2020-01-11 03:00:00           103.056854  \n",
       "2020-01-11 04:00:00           107.866043  \n",
       "2020-01-11 05:00:00           111.238617  \n",
       "2020-01-11 06:00:00           130.424240  \n",
       "2020-01-11 07:00:00           132.514572  \n",
       "2020-01-11 08:00:00           132.436142  \n",
       "2020-01-11 09:00:00           130.104904  \n",
       "2020-01-11 10:00:00           126.214043  \n",
       "2020-01-11 11:00:00           123.119591  \n",
       "2020-01-11 12:00:00            90.355782  \n",
       "2020-01-11 13:00:00            85.164284  \n",
       "2020-01-11 14:00:00            81.750908  \n",
       "2020-01-11 15:00:00            78.983353  \n",
       "2020-01-11 16:00:00            78.355644  \n",
       "2020-01-11 17:00:00            80.935783  "
      ]
     },
     "execution_count": 63,
     "metadata": {},
     "output_type": "execute_result"
    }
   ],
   "source": [
    "test"
   ]
  },
  {
   "cell_type": "code",
   "execution_count": 64,
   "metadata": {},
   "outputs": [
    {
     "data": {
      "text/plain": [
       "<AxesSubplot:xlabel='date'>"
      ]
     },
     "execution_count": 64,
     "metadata": {},
     "output_type": "execute_result"
    },
    {
     "data": {
      "image/png": "[encoded data removed]",
      "text/plain": [
       "<Figure size 432x288 with 1 Axes>"
      ]
     },
     "metadata": {
      "needs_background": "light"
     },
     "output_type": "display_data"
    }
   ],
   "source": [
    "test.plot()"
   ]
  },
  {
   "cell_type": "code",
   "execution_count": 65,
   "metadata": {},
   "outputs": [
    {
     "name": "stdout",
     "output_type": "stream",
     "text": [
      "41.85577737527422\n"
     ]
    }
   ],
   "source": [
    "rmse = sqrt(mean_squared_error(test['PM2.5'], test['Direct_MIMO_predict']))\n",
    "print(rmse)"
   ]
  },
  {
   "cell_type": "code",
   "execution_count": 66,
   "metadata": {},
   "outputs": [],
   "source": [
    "rec_err = abs(test['PM2.5'] - test['recursive_predict'])\n",
    "dir_err = abs(test['PM2.5'] - test['direct_predict'])\n",
    "dir_rec_err = abs(test['PM2.5'] - test['direct_recursive_predict'])\n",
    "mimo_err = abs(test['PM2.5'] - test['MIMO_predict'])\n",
    "dir_mimo_err = abs(test['PM2.5'] - test['Direct_MIMO_predict'])"
   ]
  },
  {
   "cell_type": "code",
   "execution_count": 67,
   "metadata": {},
   "outputs": [],
   "source": [
    "errors = pd.DataFrame({\n",
    "    'Recursive':rec_err,\n",
    "    'Direct':dir_err,\n",
    "    'Direct Recursive':dir_rec_err,\n",
    "    'MIMO':mimo_err,\n",
    "    'Direct MIMO':dir_mimo_err\n",
    "})"
   ]
  },
  {
   "cell_type": "code",
   "execution_count": 68,
   "metadata": {},
   "outputs": [
    {
     "data": {
      "text/html": [
       "<div>\n",
       "<style scoped>\n",
       "    .dataframe tbody tr th:only-of-type {\n",
       "        vertical-align: middle;\n",
       "    }\n",
       "\n",
       "    .dataframe tbody tr th {\n",
       "        vertical-align: top;\n",
       "    }\n",
       "\n",
       "    .dataframe thead th {\n",
       "        text-align: right;\n",
       "    }\n",
       "</style>\n",
       "<table border=\"1\" class=\"dataframe\">\n",
       "  <thead>\n",
       "    <tr style=\"text-align: right;\">\n",
       "      <th></th>\n",
       "      <th>Recursive</th>\n",
       "      <th>Direct</th>\n",
       "      <th>Direct Recursive</th>\n",
       "      <th>MIMO</th>\n",
       "      <th>Direct MIMO</th>\n",
       "    </tr>\n",
       "    <tr>\n",
       "      <th>date</th>\n",
       "      <th></th>\n",
       "      <th></th>\n",
       "      <th></th>\n",
       "      <th></th>\n",
       "      <th></th>\n",
       "    </tr>\n",
       "  </thead>\n",
       "  <tbody>\n",
       "    <tr>\n",
       "      <th>2020-01-10 18:00:00</th>\n",
       "      <td>37.416003</td>\n",
       "      <td>52.570349</td>\n",
       "      <td>33.917755</td>\n",
       "      <td>31.913015</td>\n",
       "      <td>44.254949</td>\n",
       "    </tr>\n",
       "    <tr>\n",
       "      <th>2020-01-10 19:00:00</th>\n",
       "      <td>105.136974</td>\n",
       "      <td>100.251150</td>\n",
       "      <td>92.341803</td>\n",
       "      <td>98.107728</td>\n",
       "      <td>109.725098</td>\n",
       "    </tr>\n",
       "    <tr>\n",
       "      <th>2020-01-10 20:00:00</th>\n",
       "      <td>121.262036</td>\n",
       "      <td>113.701234</td>\n",
       "      <td>110.335105</td>\n",
       "      <td>108.488367</td>\n",
       "      <td>126.506991</td>\n",
       "    </tr>\n",
       "    <tr>\n",
       "      <th>2020-01-10 21:00:00</th>\n",
       "      <td>48.021134</td>\n",
       "      <td>33.631067</td>\n",
       "      <td>42.551045</td>\n",
       "      <td>20.907578</td>\n",
       "      <td>51.151917</td>\n",
       "    </tr>\n",
       "    <tr>\n",
       "      <th>2020-01-10 22:00:00</th>\n",
       "      <td>2.402920</td>\n",
       "      <td>36.782327</td>\n",
       "      <td>11.772993</td>\n",
       "      <td>35.913391</td>\n",
       "      <td>4.907517</td>\n",
       "    </tr>\n",
       "    <tr>\n",
       "      <th>2020-01-10 23:00:00</th>\n",
       "      <td>7.996587</td>\n",
       "      <td>25.427625</td>\n",
       "      <td>20.700457</td>\n",
       "      <td>38.142321</td>\n",
       "      <td>3.156451</td>\n",
       "    </tr>\n",
       "    <tr>\n",
       "      <th>2020-01-11 00:00:00</th>\n",
       "      <td>14.576759</td>\n",
       "      <td>14.986504</td>\n",
       "      <td>32.242042</td>\n",
       "      <td>38.222343</td>\n",
       "      <td>13.745346</td>\n",
       "    </tr>\n",
       "    <tr>\n",
       "      <th>2020-01-11 01:00:00</th>\n",
       "      <td>21.439904</td>\n",
       "      <td>33.618190</td>\n",
       "      <td>24.380667</td>\n",
       "      <td>36.547533</td>\n",
       "      <td>17.075357</td>\n",
       "    </tr>\n",
       "    <tr>\n",
       "      <th>2020-01-11 02:00:00</th>\n",
       "      <td>19.174322</td>\n",
       "      <td>37.254066</td>\n",
       "      <td>30.555236</td>\n",
       "      <td>34.384692</td>\n",
       "      <td>10.217700</td>\n",
       "    </tr>\n",
       "    <tr>\n",
       "      <th>2020-01-11 03:00:00</th>\n",
       "      <td>0.546040</td>\n",
       "      <td>25.098620</td>\n",
       "      <td>0.885782</td>\n",
       "      <td>24.802802</td>\n",
       "      <td>5.653146</td>\n",
       "    </tr>\n",
       "    <tr>\n",
       "      <th>2020-01-11 04:00:00</th>\n",
       "      <td>18.171648</td>\n",
       "      <td>18.416600</td>\n",
       "      <td>25.111731</td>\n",
       "      <td>4.843332</td>\n",
       "      <td>17.283957</td>\n",
       "    </tr>\n",
       "    <tr>\n",
       "      <th>2020-01-11 05:00:00</th>\n",
       "      <td>39.902350</td>\n",
       "      <td>39.003203</td>\n",
       "      <td>23.151448</td>\n",
       "      <td>24.349024</td>\n",
       "      <td>33.181383</td>\n",
       "    </tr>\n",
       "    <tr>\n",
       "      <th>2020-01-11 06:00:00</th>\n",
       "      <td>37.112348</td>\n",
       "      <td>23.942266</td>\n",
       "      <td>27.800956</td>\n",
       "      <td>21.638672</td>\n",
       "      <td>9.715760</td>\n",
       "    </tr>\n",
       "    <tr>\n",
       "      <th>2020-01-11 07:00:00</th>\n",
       "      <td>61.331459</td>\n",
       "      <td>23.465178</td>\n",
       "      <td>56.948705</td>\n",
       "      <td>42.192734</td>\n",
       "      <td>31.235428</td>\n",
       "    </tr>\n",
       "    <tr>\n",
       "      <th>2020-01-11 08:00:00</th>\n",
       "      <td>46.344733</td>\n",
       "      <td>49.927793</td>\n",
       "      <td>42.865148</td>\n",
       "      <td>31.837905</td>\n",
       "      <td>16.173858</td>\n",
       "    </tr>\n",
       "    <tr>\n",
       "      <th>2020-01-11 09:00:00</th>\n",
       "      <td>4.358499</td>\n",
       "      <td>13.465217</td>\n",
       "      <td>21.782320</td>\n",
       "      <td>16.168365</td>\n",
       "      <td>33.284904</td>\n",
       "    </tr>\n",
       "    <tr>\n",
       "      <th>2020-01-11 10:00:00</th>\n",
       "      <td>10.605438</td>\n",
       "      <td>15.415628</td>\n",
       "      <td>9.696483</td>\n",
       "      <td>14.888567</td>\n",
       "      <td>37.704043</td>\n",
       "    </tr>\n",
       "    <tr>\n",
       "      <th>2020-01-11 11:00:00</th>\n",
       "      <td>13.968570</td>\n",
       "      <td>10.221050</td>\n",
       "      <td>25.969492</td>\n",
       "      <td>17.357903</td>\n",
       "      <td>40.939591</td>\n",
       "    </tr>\n",
       "    <tr>\n",
       "      <th>2020-01-11 12:00:00</th>\n",
       "      <td>18.401064</td>\n",
       "      <td>20.606168</td>\n",
       "      <td>22.292913</td>\n",
       "      <td>15.061719</td>\n",
       "      <td>16.155782</td>\n",
       "    </tr>\n",
       "    <tr>\n",
       "      <th>2020-01-11 13:00:00</th>\n",
       "      <td>9.804458</td>\n",
       "      <td>2.014640</td>\n",
       "      <td>20.734458</td>\n",
       "      <td>15.344702</td>\n",
       "      <td>6.244284</td>\n",
       "    </tr>\n",
       "    <tr>\n",
       "      <th>2020-01-11 14:00:00</th>\n",
       "      <td>19.684629</td>\n",
       "      <td>17.103165</td>\n",
       "      <td>30.360525</td>\n",
       "      <td>17.545828</td>\n",
       "      <td>16.510908</td>\n",
       "    </tr>\n",
       "    <tr>\n",
       "      <th>2020-01-11 15:00:00</th>\n",
       "      <td>27.162420</td>\n",
       "      <td>23.320576</td>\n",
       "      <td>34.029047</td>\n",
       "      <td>34.498050</td>\n",
       "      <td>24.753353</td>\n",
       "    </tr>\n",
       "    <tr>\n",
       "      <th>2020-01-11 16:00:00</th>\n",
       "      <td>25.195905</td>\n",
       "      <td>25.756332</td>\n",
       "      <td>39.446366</td>\n",
       "      <td>29.763078</td>\n",
       "      <td>25.385644</td>\n",
       "    </tr>\n",
       "    <tr>\n",
       "      <th>2020-01-11 17:00:00</th>\n",
       "      <td>1.797305</td>\n",
       "      <td>12.705479</td>\n",
       "      <td>37.223180</td>\n",
       "      <td>8.608382</td>\n",
       "      <td>3.085783</td>\n",
       "    </tr>\n",
       "  </tbody>\n",
       "</table>\n",
       "</div>"
      ],
      "text/plain": [
       "                      Recursive      Direct  Direct Recursive        MIMO  \\\n",
       "date                                                                        \n",
       "2020-01-10 18:00:00   37.416003   52.570349         33.917755   31.913015   \n",
       "2020-01-10 19:00:00  105.136974  100.251150         92.341803   98.107728   \n",
       "2020-01-10 20:00:00  121.262036  113.701234        110.335105  108.488367   \n",
       "2020-01-10 21:00:00   48.021134   33.631067         42.551045   20.907578   \n",
       "2020-01-10 22:00:00    2.402920   36.782327         11.772993   35.913391   \n",
       "2020-01-10 23:00:00    7.996587   25.427625         20.700457   38.142321   \n",
       "2020-01-11 00:00:00   14.576759   14.986504         32.242042   38.222343   \n",
       "2020-01-11 01:00:00   21.439904   33.618190         24.380667   36.547533   \n",
       "2020-01-11 02:00:00   19.174322   37.254066         30.555236   34.384692   \n",
       "2020-01-11 03:00:00    0.546040   25.098620          0.885782   24.802802   \n",
       "2020-01-11 04:00:00   18.171648   18.416600         25.111731    4.843332   \n",
       "2020-01-11 05:00:00   39.902350   39.003203         23.151448   24.349024   \n",
       "2020-01-11 06:00:00   37.112348   23.942266         27.800956   21.638672   \n",
       "2020-01-11 07:00:00   61.331459   23.465178         56.948705   42.192734   \n",
       "2020-01-11 08:00:00   46.344733   49.927793         42.865148   31.837905   \n",
       "2020-01-11 09:00:00    4.358499   13.465217         21.782320   16.168365   \n",
       "2020-01-11 10:00:00   10.605438   15.415628          9.696483   14.888567   \n",
       "2020-01-11 11:00:00   13.968570   10.221050         25.969492   17.357903   \n",
       "2020-01-11 12:00:00   18.401064   20.606168         22.292913   15.061719   \n",
       "2020-01-11 13:00:00    9.804458    2.014640         20.734458   15.344702   \n",
       "2020-01-11 14:00:00   19.684629   17.103165         30.360525   17.545828   \n",
       "2020-01-11 15:00:00   27.162420   23.320576         34.029047   34.498050   \n",
       "2020-01-11 16:00:00   25.195905   25.756332         39.446366   29.763078   \n",
       "2020-01-11 17:00:00    1.797305   12.705479         37.223180    8.608382   \n",
       "\n",
       "                     Direct MIMO  \n",
       "date                              \n",
       "2020-01-10 18:00:00    44.254949  \n",
       "2020-01-10 19:00:00   109.725098  \n",
       "2020-01-10 20:00:00   126.506991  \n",
       "2020-01-10 21:00:00    51.151917  \n",
       "2020-01-10 22:00:00     4.907517  \n",
       "2020-01-10 23:00:00     3.156451  \n",
       "2020-01-11 00:00:00    13.745346  \n",
       "2020-01-11 01:00:00    17.075357  \n",
       "2020-01-11 02:00:00    10.217700  \n",
       "2020-01-11 03:00:00     5.653146  \n",
       "2020-01-11 04:00:00    17.283957  \n",
       "2020-01-11 05:00:00    33.181383  \n",
       "2020-01-11 06:00:00     9.715760  \n",
       "2020-01-11 07:00:00    31.235428  \n",
       "2020-01-11 08:00:00    16.173858  \n",
       "2020-01-11 09:00:00    33.284904  \n",
       "2020-01-11 10:00:00    37.704043  \n",
       "2020-01-11 11:00:00    40.939591  \n",
       "2020-01-11 12:00:00    16.155782  \n",
       "2020-01-11 13:00:00     6.244284  \n",
       "2020-01-11 14:00:00    16.510908  \n",
       "2020-01-11 15:00:00    24.753353  \n",
       "2020-01-11 16:00:00    25.385644  \n",
       "2020-01-11 17:00:00     3.085783  "
      ]
     },
     "execution_count": 68,
     "metadata": {},
     "output_type": "execute_result"
    }
   ],
   "source": [
    "errors"
   ]
  },
  {
   "cell_type": "code",
   "execution_count": 69,
   "metadata": {},
   "outputs": [
    {
     "data": {
      "text/plain": [
       "<AxesSubplot:xlabel='date'>"
      ]
     },
     "execution_count": 69,
     "metadata": {},
     "output_type": "execute_result"
    },
    {
     "data": {
      "image/png": "[encoded data removed]",
      "text/plain": [
       "<Figure size 432x288 with 1 Axes>"
      ]
     },
     "metadata": {
      "needs_background": "light"
     },
     "output_type": "display_data"
    }
   ],
   "source": [
    "errors.plot()"
   ]
  },
  {
   "cell_type": "code",
   "execution_count": 70,
   "metadata": {},
   "outputs": [
    {
     "data": {
      "text/plain": [
       "24"
      ]
     },
     "execution_count": 70,
     "metadata": {},
     "output_type": "execute_result"
    }
   ],
   "source": [
    "len(scaled_test)"
   ]
  },
  {
   "cell_type": "code",
   "execution_count": null,
   "metadata": {},
   "outputs": [],
   "source": []
  }
 ],
 "metadata": {
  "kernelspec": {
   "display_name": "Python 3",
   "language": "python",
   "name": "python3"
  },
  "language_info": {
   "codemirror_mode": {
    "name": "ipython",
    "version": 3
   },
   "file_extension": ".py",
   "mimetype": "text/x-python",
   "name": "python",
   "nbconvert_exporter": "python",
   "pygments_lexer": "ipython3",
   "version": "3.8.5"
  }
 },
 "nbformat": 4,
 "nbformat_minor": 4
}
