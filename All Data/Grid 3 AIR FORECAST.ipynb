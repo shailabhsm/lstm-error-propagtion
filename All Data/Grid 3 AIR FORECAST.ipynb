{
 "cells": [
  {
   "cell_type": "code",
   "execution_count": 1,
   "metadata": {},
   "outputs": [],
   "source": [
    "import pandas as pd\n",
    "import numpy as np\n",
    "import matplotlib.pyplot as plt\n",
    "from keras.models import Sequential\n",
    "from keras.layers import Dense, LSTM, Dropout\n",
    "from keras.preprocessing.sequence import TimeseriesGenerator\n",
    "from statsmodels.tsa.seasonal import seasonal_decompose\n",
    "from sklearn.preprocessing import MinMaxScaler\n",
    "from sklearn.metrics import mean_squared_error\n",
    "from math import sqrt\n",
    "import warnings\n",
    "\n",
    "warnings.filterwarnings(\"ignore\")"
   ]
  },
  {
   "cell_type": "code",
   "execution_count": 2,
   "metadata": {},
   "outputs": [],
   "source": [
    "df = pd.read_csv('C:/Users/shail/Desktop/project/raw data/Device-3.csv')\n",
    "\n",
    "df.columns = ['SNo','temp','hum','co','no2','pm2_5','pm10','date']\n",
    "date = df['date']\n",
    "df = df.drop([\"SNo\"],axis=1)\n",
    "df['date'] = pd.to_datetime(df['date'])"
   ]
  },
  {
   "cell_type": "code",
   "execution_count": 3,
   "metadata": {},
   "outputs": [
    {
     "data": {
      "text/html": [
       "<div>\n",
       "<style scoped>\n",
       "    .dataframe tbody tr th:only-of-type {\n",
       "        vertical-align: middle;\n",
       "    }\n",
       "\n",
       "    .dataframe tbody tr th {\n",
       "        vertical-align: top;\n",
       "    }\n",
       "\n",
       "    .dataframe thead th {\n",
       "        text-align: right;\n",
       "    }\n",
       "</style>\n",
       "<table border=\"1\" class=\"dataframe\">\n",
       "  <thead>\n",
       "    <tr style=\"text-align: right;\">\n",
       "      <th></th>\n",
       "      <th>temp</th>\n",
       "      <th>hum</th>\n",
       "      <th>co</th>\n",
       "      <th>no2</th>\n",
       "      <th>pm2_5</th>\n",
       "      <th>pm10</th>\n",
       "      <th>date</th>\n",
       "    </tr>\n",
       "  </thead>\n",
       "  <tbody>\n",
       "    <tr>\n",
       "      <th>0</th>\n",
       "      <td>14</td>\n",
       "      <td>49</td>\n",
       "      <td>43</td>\n",
       "      <td>1.24</td>\n",
       "      <td>68</td>\n",
       "      <td>95</td>\n",
       "      <td>2020-01-11 17:08:37</td>\n",
       "    </tr>\n",
       "    <tr>\n",
       "      <th>1</th>\n",
       "      <td>14</td>\n",
       "      <td>49</td>\n",
       "      <td>43</td>\n",
       "      <td>1.22</td>\n",
       "      <td>68</td>\n",
       "      <td>95</td>\n",
       "      <td>2020-01-11 17:08:19</td>\n",
       "    </tr>\n",
       "    <tr>\n",
       "      <th>2</th>\n",
       "      <td>14</td>\n",
       "      <td>49</td>\n",
       "      <td>43</td>\n",
       "      <td>1.20</td>\n",
       "      <td>70</td>\n",
       "      <td>97</td>\n",
       "      <td>2020-01-11 17:07:39</td>\n",
       "    </tr>\n",
       "    <tr>\n",
       "      <th>3</th>\n",
       "      <td>14</td>\n",
       "      <td>49</td>\n",
       "      <td>43</td>\n",
       "      <td>1.18</td>\n",
       "      <td>70</td>\n",
       "      <td>97</td>\n",
       "      <td>2020-01-11 17:07:25</td>\n",
       "    </tr>\n",
       "    <tr>\n",
       "      <th>4</th>\n",
       "      <td>14</td>\n",
       "      <td>49</td>\n",
       "      <td>43</td>\n",
       "      <td>1.18</td>\n",
       "      <td>70</td>\n",
       "      <td>97</td>\n",
       "      <td>2020-01-11 17:06:55</td>\n",
       "    </tr>\n",
       "  </tbody>\n",
       "</table>\n",
       "</div>"
      ],
      "text/plain": [
       "   temp  hum  co   no2  pm2_5  pm10                date\n",
       "0    14   49  43  1.24     68    95 2020-01-11 17:08:37\n",
       "1    14   49  43  1.22     68    95 2020-01-11 17:08:19\n",
       "2    14   49  43  1.20     70    97 2020-01-11 17:07:39\n",
       "3    14   49  43  1.18     70    97 2020-01-11 17:07:25\n",
       "4    14   49  43  1.18     70    97 2020-01-11 17:06:55"
      ]
     },
     "execution_count": 3,
     "metadata": {},
     "output_type": "execute_result"
    }
   ],
   "source": [
    "df.head()"
   ]
  },
  {
   "cell_type": "code",
   "execution_count": 5,
   "metadata": {},
   "outputs": [
    {
     "name": "stdout",
     "output_type": "stream",
     "text": [
      "<class 'pandas.core.frame.DataFrame'>\n",
      "RangeIndex: 1096922 entries, 0 to 1096921\n",
      "Data columns (total 7 columns):\n",
      " #   Column  Non-Null Count    Dtype         \n",
      "---  ------  --------------    -----         \n",
      " 0   temp    1096922 non-null  int64         \n",
      " 1   hum     1096922 non-null  int64         \n",
      " 2   co      1096922 non-null  int64         \n",
      " 3   no2     1096922 non-null  float64       \n",
      " 4   pm2_5   1096922 non-null  int64         \n",
      " 5   pm10    1096922 non-null  int64         \n",
      " 6   date    1096922 non-null  datetime64[ns]\n",
      "dtypes: datetime64[ns](1), float64(1), int64(5)\n",
      "memory usage: 58.6 MB\n"
     ]
    }
   ],
   "source": [
    "df.info()"
   ]
  },
  {
   "cell_type": "code",
   "execution_count": 6,
   "metadata": {},
   "outputs": [],
   "source": [
    "df = df[(df['co'] > 0) & (df['no2'] > 0) & (df['pm2_5'] > 0) & (df['pm10'] > 0)]"
   ]
  },
  {
   "cell_type": "code",
   "execution_count": 7,
   "metadata": {},
   "outputs": [
    {
     "data": {
      "text/html": [
       "<div>\n",
       "<style scoped>\n",
       "    .dataframe tbody tr th:only-of-type {\n",
       "        vertical-align: middle;\n",
       "    }\n",
       "\n",
       "    .dataframe tbody tr th {\n",
       "        vertical-align: top;\n",
       "    }\n",
       "\n",
       "    .dataframe thead th {\n",
       "        text-align: right;\n",
       "    }\n",
       "</style>\n",
       "<table border=\"1\" class=\"dataframe\">\n",
       "  <thead>\n",
       "    <tr style=\"text-align: right;\">\n",
       "      <th></th>\n",
       "      <th>TEMP</th>\n",
       "      <th>HUM</th>\n",
       "      <th>CO</th>\n",
       "      <th>NO2</th>\n",
       "      <th>PM2.5</th>\n",
       "      <th>PM10</th>\n",
       "    </tr>\n",
       "    <tr>\n",
       "      <th>date</th>\n",
       "      <th></th>\n",
       "      <th></th>\n",
       "      <th></th>\n",
       "      <th></th>\n",
       "      <th></th>\n",
       "      <th></th>\n",
       "    </tr>\n",
       "  </thead>\n",
       "  <tbody>\n",
       "    <tr>\n",
       "      <th>2019-09-13 16:00:00</th>\n",
       "      <td>17.69</td>\n",
       "      <td>61.16</td>\n",
       "      <td>6.32</td>\n",
       "      <td>19.40</td>\n",
       "      <td>32.73</td>\n",
       "      <td>45.76</td>\n",
       "    </tr>\n",
       "    <tr>\n",
       "      <th>2019-09-13 17:00:00</th>\n",
       "      <td>16.80</td>\n",
       "      <td>67.48</td>\n",
       "      <td>6.43</td>\n",
       "      <td>19.40</td>\n",
       "      <td>38.32</td>\n",
       "      <td>53.31</td>\n",
       "    </tr>\n",
       "    <tr>\n",
       "      <th>2019-09-13 18:00:00</th>\n",
       "      <td>17.00</td>\n",
       "      <td>66.82</td>\n",
       "      <td>6.21</td>\n",
       "      <td>19.40</td>\n",
       "      <td>27.65</td>\n",
       "      <td>38.68</td>\n",
       "    </tr>\n",
       "    <tr>\n",
       "      <th>2019-09-13 19:00:00</th>\n",
       "      <td>16.40</td>\n",
       "      <td>63.55</td>\n",
       "      <td>5.78</td>\n",
       "      <td>19.39</td>\n",
       "      <td>22.28</td>\n",
       "      <td>31.30</td>\n",
       "    </tr>\n",
       "    <tr>\n",
       "      <th>2019-09-13 20:00:00</th>\n",
       "      <td>15.73</td>\n",
       "      <td>66.26</td>\n",
       "      <td>6.06</td>\n",
       "      <td>19.39</td>\n",
       "      <td>22.89</td>\n",
       "      <td>31.97</td>\n",
       "    </tr>\n",
       "    <tr>\n",
       "      <th>...</th>\n",
       "      <td>...</td>\n",
       "      <td>...</td>\n",
       "      <td>...</td>\n",
       "      <td>...</td>\n",
       "      <td>...</td>\n",
       "      <td>...</td>\n",
       "    </tr>\n",
       "    <tr>\n",
       "      <th>2020-01-11 13:00:00</th>\n",
       "      <td>23.58</td>\n",
       "      <td>28.62</td>\n",
       "      <td>41.87</td>\n",
       "      <td>1.08</td>\n",
       "      <td>93.57</td>\n",
       "      <td>130.05</td>\n",
       "    </tr>\n",
       "    <tr>\n",
       "      <th>2020-01-11 14:00:00</th>\n",
       "      <td>23.81</td>\n",
       "      <td>25.91</td>\n",
       "      <td>42.29</td>\n",
       "      <td>1.07</td>\n",
       "      <td>71.30</td>\n",
       "      <td>99.06</td>\n",
       "    </tr>\n",
       "    <tr>\n",
       "      <th>2020-01-11 15:00:00</th>\n",
       "      <td>19.66</td>\n",
       "      <td>33.67</td>\n",
       "      <td>43.16</td>\n",
       "      <td>1.30</td>\n",
       "      <td>68.58</td>\n",
       "      <td>95.50</td>\n",
       "    </tr>\n",
       "    <tr>\n",
       "      <th>2020-01-11 16:00:00</th>\n",
       "      <td>16.08</td>\n",
       "      <td>42.67</td>\n",
       "      <td>43.00</td>\n",
       "      <td>1.39</td>\n",
       "      <td>64.05</td>\n",
       "      <td>89.35</td>\n",
       "    </tr>\n",
       "    <tr>\n",
       "      <th>2020-01-11 17:00:00</th>\n",
       "      <td>14.01</td>\n",
       "      <td>49.81</td>\n",
       "      <td>43.00</td>\n",
       "      <td>1.22</td>\n",
       "      <td>70.56</td>\n",
       "      <td>97.91</td>\n",
       "    </tr>\n",
       "  </tbody>\n",
       "</table>\n",
       "<p>2882 rows × 6 columns</p>\n",
       "</div>"
      ],
      "text/plain": [
       "                      TEMP    HUM     CO    NO2  PM2.5    PM10\n",
       "date                                                          \n",
       "2019-09-13 16:00:00  17.69  61.16   6.32  19.40  32.73   45.76\n",
       "2019-09-13 17:00:00  16.80  67.48   6.43  19.40  38.32   53.31\n",
       "2019-09-13 18:00:00  17.00  66.82   6.21  19.40  27.65   38.68\n",
       "2019-09-13 19:00:00  16.40  63.55   5.78  19.39  22.28   31.30\n",
       "2019-09-13 20:00:00  15.73  66.26   6.06  19.39  22.89   31.97\n",
       "...                    ...    ...    ...    ...    ...     ...\n",
       "2020-01-11 13:00:00  23.58  28.62  41.87   1.08  93.57  130.05\n",
       "2020-01-11 14:00:00  23.81  25.91  42.29   1.07  71.30   99.06\n",
       "2020-01-11 15:00:00  19.66  33.67  43.16   1.30  68.58   95.50\n",
       "2020-01-11 16:00:00  16.08  42.67  43.00   1.39  64.05   89.35\n",
       "2020-01-11 17:00:00  14.01  49.81  43.00   1.22  70.56   97.91\n",
       "\n",
       "[2882 rows x 6 columns]"
      ]
     },
     "execution_count": 7,
     "metadata": {},
     "output_type": "execute_result"
    }
   ],
   "source": [
    "temp_one_hr = round(df.resample('60min',on='date').temp.mean(),2)\n",
    "hum_one_hr = round(df.resample('60min',on='date').hum.mean(),2)\n",
    "co_one_hr = round(df.resample('60min',on='date').co.mean(),2)\n",
    "no2_one_hr = round(df.resample('60min',on='date').no2.mean(),2)\n",
    "pm2_5_one_hr = round(df.resample('60min',on='date').pm2_5.mean(),2)\n",
    "pm10_one_hr = round(df.resample('60min',on='date').pm10.mean(),2)\n",
    "\n",
    "one_hr_sample = pd.DataFrame({\n",
    "    \"TEMP\":temp_one_hr,\n",
    "    \"HUM\":hum_one_hr,\n",
    "    \"CO\":co_one_hr,\n",
    "    \"NO2\":no2_one_hr,\n",
    "    \"PM2.5\":pm2_5_one_hr,\n",
    "    \"PM10\":pm10_one_hr\n",
    "})\n",
    "\n",
    "one_hr_sample"
   ]
  },
  {
   "cell_type": "code",
   "execution_count": 8,
   "metadata": {},
   "outputs": [],
   "source": [
    "pm = one_hr_sample[['PM2.5']].copy()"
   ]
  },
  {
   "cell_type": "code",
   "execution_count": 9,
   "metadata": {},
   "outputs": [
    {
     "data": {
      "text/html": [
       "<div>\n",
       "<style scoped>\n",
       "    .dataframe tbody tr th:only-of-type {\n",
       "        vertical-align: middle;\n",
       "    }\n",
       "\n",
       "    .dataframe tbody tr th {\n",
       "        vertical-align: top;\n",
       "    }\n",
       "\n",
       "    .dataframe thead th {\n",
       "        text-align: right;\n",
       "    }\n",
       "</style>\n",
       "<table border=\"1\" class=\"dataframe\">\n",
       "  <thead>\n",
       "    <tr style=\"text-align: right;\">\n",
       "      <th></th>\n",
       "      <th>PM2.5</th>\n",
       "    </tr>\n",
       "    <tr>\n",
       "      <th>date</th>\n",
       "      <th></th>\n",
       "    </tr>\n",
       "  </thead>\n",
       "  <tbody>\n",
       "    <tr>\n",
       "      <th>2019-09-13 16:00:00</th>\n",
       "      <td>32.73</td>\n",
       "    </tr>\n",
       "    <tr>\n",
       "      <th>2019-09-13 17:00:00</th>\n",
       "      <td>38.32</td>\n",
       "    </tr>\n",
       "    <tr>\n",
       "      <th>2019-09-13 18:00:00</th>\n",
       "      <td>27.65</td>\n",
       "    </tr>\n",
       "    <tr>\n",
       "      <th>2019-09-13 19:00:00</th>\n",
       "      <td>22.28</td>\n",
       "    </tr>\n",
       "    <tr>\n",
       "      <th>2019-09-13 20:00:00</th>\n",
       "      <td>22.89</td>\n",
       "    </tr>\n",
       "    <tr>\n",
       "      <th>...</th>\n",
       "      <td>...</td>\n",
       "    </tr>\n",
       "    <tr>\n",
       "      <th>2020-01-11 13:00:00</th>\n",
       "      <td>93.57</td>\n",
       "    </tr>\n",
       "    <tr>\n",
       "      <th>2020-01-11 14:00:00</th>\n",
       "      <td>71.30</td>\n",
       "    </tr>\n",
       "    <tr>\n",
       "      <th>2020-01-11 15:00:00</th>\n",
       "      <td>68.58</td>\n",
       "    </tr>\n",
       "    <tr>\n",
       "      <th>2020-01-11 16:00:00</th>\n",
       "      <td>64.05</td>\n",
       "    </tr>\n",
       "    <tr>\n",
       "      <th>2020-01-11 17:00:00</th>\n",
       "      <td>70.56</td>\n",
       "    </tr>\n",
       "  </tbody>\n",
       "</table>\n",
       "<p>2882 rows × 1 columns</p>\n",
       "</div>"
      ],
      "text/plain": [
       "                     PM2.5\n",
       "date                      \n",
       "2019-09-13 16:00:00  32.73\n",
       "2019-09-13 17:00:00  38.32\n",
       "2019-09-13 18:00:00  27.65\n",
       "2019-09-13 19:00:00  22.28\n",
       "2019-09-13 20:00:00  22.89\n",
       "...                    ...\n",
       "2020-01-11 13:00:00  93.57\n",
       "2020-01-11 14:00:00  71.30\n",
       "2020-01-11 15:00:00  68.58\n",
       "2020-01-11 16:00:00  64.05\n",
       "2020-01-11 17:00:00  70.56\n",
       "\n",
       "[2882 rows x 1 columns]"
      ]
     },
     "execution_count": 9,
     "metadata": {},
     "output_type": "execute_result"
    }
   ],
   "source": [
    "pm"
   ]
  },
  {
   "cell_type": "code",
   "execution_count": 10,
   "metadata": {},
   "outputs": [],
   "source": [
    "df = pm.copy()"
   ]
  },
  {
   "cell_type": "code",
   "execution_count": 11,
   "metadata": {},
   "outputs": [
    {
     "data": {
      "text/html": [
       "<div>\n",
       "<style scoped>\n",
       "    .dataframe tbody tr th:only-of-type {\n",
       "        vertical-align: middle;\n",
       "    }\n",
       "\n",
       "    .dataframe tbody tr th {\n",
       "        vertical-align: top;\n",
       "    }\n",
       "\n",
       "    .dataframe thead th {\n",
       "        text-align: right;\n",
       "    }\n",
       "</style>\n",
       "<table border=\"1\" class=\"dataframe\">\n",
       "  <thead>\n",
       "    <tr style=\"text-align: right;\">\n",
       "      <th></th>\n",
       "      <th>PM2.5</th>\n",
       "    </tr>\n",
       "    <tr>\n",
       "      <th>date</th>\n",
       "      <th></th>\n",
       "    </tr>\n",
       "  </thead>\n",
       "  <tbody>\n",
       "    <tr>\n",
       "      <th>2019-09-13 16:00:00</th>\n",
       "      <td>32.73</td>\n",
       "    </tr>\n",
       "    <tr>\n",
       "      <th>2019-09-13 17:00:00</th>\n",
       "      <td>38.32</td>\n",
       "    </tr>\n",
       "    <tr>\n",
       "      <th>2019-09-13 18:00:00</th>\n",
       "      <td>27.65</td>\n",
       "    </tr>\n",
       "    <tr>\n",
       "      <th>2019-09-13 19:00:00</th>\n",
       "      <td>22.28</td>\n",
       "    </tr>\n",
       "    <tr>\n",
       "      <th>2019-09-13 20:00:00</th>\n",
       "      <td>22.89</td>\n",
       "    </tr>\n",
       "    <tr>\n",
       "      <th>...</th>\n",
       "      <td>...</td>\n",
       "    </tr>\n",
       "    <tr>\n",
       "      <th>2020-01-11 13:00:00</th>\n",
       "      <td>93.57</td>\n",
       "    </tr>\n",
       "    <tr>\n",
       "      <th>2020-01-11 14:00:00</th>\n",
       "      <td>71.30</td>\n",
       "    </tr>\n",
       "    <tr>\n",
       "      <th>2020-01-11 15:00:00</th>\n",
       "      <td>68.58</td>\n",
       "    </tr>\n",
       "    <tr>\n",
       "      <th>2020-01-11 16:00:00</th>\n",
       "      <td>64.05</td>\n",
       "    </tr>\n",
       "    <tr>\n",
       "      <th>2020-01-11 17:00:00</th>\n",
       "      <td>70.56</td>\n",
       "    </tr>\n",
       "  </tbody>\n",
       "</table>\n",
       "<p>2882 rows × 1 columns</p>\n",
       "</div>"
      ],
      "text/plain": [
       "                     PM2.5\n",
       "date                      \n",
       "2019-09-13 16:00:00  32.73\n",
       "2019-09-13 17:00:00  38.32\n",
       "2019-09-13 18:00:00  27.65\n",
       "2019-09-13 19:00:00  22.28\n",
       "2019-09-13 20:00:00  22.89\n",
       "...                    ...\n",
       "2020-01-11 13:00:00  93.57\n",
       "2020-01-11 14:00:00  71.30\n",
       "2020-01-11 15:00:00  68.58\n",
       "2020-01-11 16:00:00  64.05\n",
       "2020-01-11 17:00:00  70.56\n",
       "\n",
       "[2882 rows x 1 columns]"
      ]
     },
     "execution_count": 11,
     "metadata": {},
     "output_type": "execute_result"
    }
   ],
   "source": [
    "#df = df[:2886]\n",
    "df"
   ]
  },
  {
   "cell_type": "code",
   "execution_count": 12,
   "metadata": {},
   "outputs": [
    {
     "data": {
      "text/plain": [
       "PM2.5    1187\n",
       "dtype: int64"
      ]
     },
     "execution_count": 12,
     "metadata": {},
     "output_type": "execute_result"
    }
   ],
   "source": [
    "df.isna().sum()"
   ]
  },
  {
   "cell_type": "code",
   "execution_count": 13,
   "metadata": {},
   "outputs": [],
   "source": [
    "df = df.interpolate(method ='linear')"
   ]
  },
  {
   "cell_type": "code",
   "execution_count": 14,
   "metadata": {},
   "outputs": [
    {
     "data": {
      "text/plain": [
       "<AxesSubplot:xlabel='date'>"
      ]
     },
     "execution_count": 14,
     "metadata": {},
     "output_type": "execute_result"
    },
    {
     "data": {
      "image/png": "[encoded data removed]",
      "text/plain": [
       "<Figure size 432x288 with 1 Axes>"
      ]
     },
     "metadata": {
      "needs_background": "light"
     },
     "output_type": "display_data"
    }
   ],
   "source": [
    "df.plot()"
   ]
  },
  {
   "cell_type": "code",
   "execution_count": 15,
   "metadata": {},
   "outputs": [
    {
     "data": {
      "image/png": "[encoded data removed]",
      "text/plain": [
       "<Figure size 432x288 with 4 Axes>"
      ]
     },
     "execution_count": 15,
     "metadata": {},
     "output_type": "execute_result"
    },
    {
     "data": {
      "image/png": "[encoded data removed]",
      "text/plain": [
       "<Figure size 432x288 with 4 Axes>"
      ]
     },
     "metadata": {
      "needs_background": "light"
     },
     "output_type": "display_data"
    }
   ],
   "source": [
    "results = seasonal_decompose(df['PM2.5'], freq=24)\n",
    "results.plot()"
   ]
  },
  {
   "cell_type": "code",
   "execution_count": 16,
   "metadata": {},
   "outputs": [
    {
     "data": {
      "text/plain": [
       "2882"
      ]
     },
     "execution_count": 16,
     "metadata": {},
     "output_type": "execute_result"
    }
   ],
   "source": [
    "len(df)"
   ]
  },
  {
   "cell_type": "code",
   "execution_count": 17,
   "metadata": {},
   "outputs": [],
   "source": [
    "train = df.iloc[:2858]\n",
    "test = df.iloc[2858:]\n",
    "\n",
    "scaler = MinMaxScaler()"
   ]
  },
  {
   "cell_type": "code",
   "execution_count": 18,
   "metadata": {},
   "outputs": [
    {
     "data": {
      "text/plain": [
       "(                     PM2.5\n",
       " date                      \n",
       " 2019-09-13 16:00:00  32.73\n",
       " 2019-09-13 17:00:00  38.32\n",
       " 2019-09-13 18:00:00  27.65\n",
       " 2019-09-13 19:00:00  22.28\n",
       " 2019-09-13 20:00:00  22.89,\n",
       "                      PM2.5\n",
       " date                      \n",
       " 2020-01-11 13:00:00  93.57\n",
       " 2020-01-11 14:00:00  71.30\n",
       " 2020-01-11 15:00:00  68.58\n",
       " 2020-01-11 16:00:00  64.05\n",
       " 2020-01-11 17:00:00  70.56)"
      ]
     },
     "execution_count": 18,
     "metadata": {},
     "output_type": "execute_result"
    }
   ],
   "source": [
    "df.head(), df.tail()"
   ]
  },
  {
   "cell_type": "code",
   "execution_count": 19,
   "metadata": {},
   "outputs": [
    {
     "data": {
      "text/plain": [
       "array([[0.04342874],\n",
       "       [0.05180578],\n",
       "       [0.03581597],\n",
       "       [0.02776862],\n",
       "       [0.02868275],\n",
       "       [0.03376293],\n",
       "       [0.03797392],\n",
       "       [0.05069684],\n",
       "       [0.05030721],\n",
       "       [0.04516709]])"
      ]
     },
     "execution_count": 19,
     "metadata": {},
     "output_type": "execute_result"
    }
   ],
   "source": [
    "scaler.fit(train)\n",
    "scaled_train = scaler.transform(train)\n",
    "scaled_test = scaler.transform(test)\n",
    "\n",
    "scaled_train[:10]"
   ]
  },
  {
   "cell_type": "markdown",
   "metadata": {},
   "source": [
    "# Recursive Strategy"
   ]
  },
  {
   "cell_type": "code",
   "execution_count": 20,
   "metadata": {},
   "outputs": [
    {
     "data": {
      "text/plain": [
       "(array([[[0.04342874],\n",
       "         [0.05180578],\n",
       "         [0.03581597],\n",
       "         [0.02776862],\n",
       "         [0.02868275],\n",
       "         [0.03376293],\n",
       "         [0.03797392],\n",
       "         [0.05069684],\n",
       "         [0.05030721],\n",
       "         [0.04516709],\n",
       "         [0.05144613],\n",
       "         [0.05042709],\n",
       "         [0.04734003],\n",
       "         [0.04722314],\n",
       "         [0.04710625],\n",
       "         [0.04698936],\n",
       "         [0.04687247],\n",
       "         [0.04675558],\n",
       "         [0.04663869],\n",
       "         [0.0465218 ],\n",
       "         [0.04640492],\n",
       "         [0.04628803],\n",
       "         [0.04617114],\n",
       "         [0.04605425]]]),\n",
       " array([[0.04593736]]))"
      ]
     },
     "execution_count": 20,
     "metadata": {},
     "output_type": "execute_result"
    }
   ],
   "source": [
    "n_input = 24\n",
    "n_features = 1\n",
    "generator = TimeseriesGenerator(scaled_train, scaled_train,length=n_input,batch_size=1)\n",
    "\n",
    "generator[0]"
   ]
  },
  {
   "cell_type": "code",
   "execution_count": 21,
   "metadata": {},
   "outputs": [
    {
     "name": "stdout",
     "output_type": "stream",
     "text": [
      "Model: \"sequential\"\n",
      "_________________________________________________________________\n",
      "Layer (type)                 Output Shape              Param #   \n",
      "=================================================================\n",
      "lstm (LSTM)                  (None, 200)               161600    \n",
      "_________________________________________________________________\n",
      "dense (Dense)                (None, 1)                 201       \n",
      "=================================================================\n",
      "Total params: 161,801\n",
      "Trainable params: 161,801\n",
      "Non-trainable params: 0\n",
      "_________________________________________________________________\n"
     ]
    }
   ],
   "source": [
    "model = Sequential()\n",
    "model.add(LSTM(200, activation='relu', input_shape=(n_input, n_features)))\n",
    "model.add(Dense(1))\n",
    "model.compile(optimizer='adam', loss='mse')\n",
    "\n",
    "model.summary()"
   ]
  },
  {
   "cell_type": "code",
   "execution_count": 22,
   "metadata": {},
   "outputs": [
    {
     "name": "stdout",
     "output_type": "stream",
     "text": [
      "Epoch 1/10\n",
      "2834/2834 [==============================] - 63s 10ms/step - loss: 0.0052\n",
      "Epoch 2/10\n",
      "2834/2834 [==============================] - 29s 10ms/step - loss: 0.0016\n",
      "Epoch 3/10\n",
      "2834/2834 [==============================] - 29s 10ms/step - loss: 0.0016\n",
      "Epoch 4/10\n",
      "2834/2834 [==============================] - 30s 10ms/step - loss: 0.0015\n",
      "Epoch 5/10\n",
      "2834/2834 [==============================] - 30s 10ms/step - loss: 0.0013\n",
      "Epoch 6/10\n",
      "2834/2834 [==============================] - 29s 10ms/step - loss: 0.0013\n",
      "Epoch 7/10\n",
      "2834/2834 [==============================] - 30s 11ms/step - loss: 0.0013\n",
      "Epoch 8/10\n",
      "2834/2834 [==============================] - 30s 10ms/step - loss: 0.0013\n",
      "Epoch 9/10\n",
      "2834/2834 [==============================] - 30s 11ms/step - loss: 0.0012\n",
      "Epoch 10/10\n",
      "2834/2834 [==============================] - 30s 11ms/step - loss: 0.0015\n"
     ]
    },
    {
     "data": {
      "text/plain": [
       "<keras.callbacks.History at 0x2b9536d25e0>"
      ]
     },
     "execution_count": 22,
     "metadata": {},
     "output_type": "execute_result"
    }
   ],
   "source": [
    "model.fit(generator, epochs=10, verbose=1)"
   ]
  },
  {
   "cell_type": "code",
   "execution_count": 23,
   "metadata": {},
   "outputs": [
    {
     "data": {
      "text/plain": [
       "[<matplotlib.lines.Line2D at 0x2b961c57a90>]"
      ]
     },
     "execution_count": 23,
     "metadata": {},
     "output_type": "execute_result"
    },
    {
     "data": {
      "image/png": "[encoded data removed]",
      "text/plain": [
       "<Figure size 432x288 with 1 Axes>"
      ]
     },
     "metadata": {
      "needs_background": "light"
     },
     "output_type": "display_data"
    }
   ],
   "source": [
    "loss_per_epoch = model.history.history['loss']\n",
    "plt.plot(range(len(loss_per_epoch)), loss_per_epoch)"
   ]
  },
  {
   "cell_type": "code",
   "execution_count": 24,
   "metadata": {},
   "outputs": [
    {
     "data": {
      "text/plain": [
       "array([[0.14050412]], dtype=float32)"
      ]
     },
     "execution_count": 24,
     "metadata": {},
     "output_type": "execute_result"
    }
   ],
   "source": [
    "last_train_batch = scaled_train[-n_input:]\n",
    "\n",
    "last_train_batch = last_train_batch.reshape((1,n_input, n_features))\n",
    "\n",
    "model.predict(last_train_batch)"
   ]
  },
  {
   "cell_type": "code",
   "execution_count": 25,
   "metadata": {},
   "outputs": [
    {
     "data": {
      "text/plain": [
       "(array([0.22339278]), array([0.29372097]))"
      ]
     },
     "execution_count": 25,
     "metadata": {},
     "output_type": "execute_result"
    }
   ],
   "source": [
    "scaled_test[0], scaled_test[1]"
   ]
  },
  {
   "cell_type": "code",
   "execution_count": 26,
   "metadata": {},
   "outputs": [
    {
     "data": {
      "text/plain": [
       "[array([0.14050412], dtype=float32),\n",
       " array([0.14316076], dtype=float32),\n",
       " array([0.14277554], dtype=float32),\n",
       " array([0.14039351], dtype=float32),\n",
       " array([0.1366076], dtype=float32),\n",
       " array([0.13184723], dtype=float32),\n",
       " array([0.12645523], dtype=float32),\n",
       " array([0.12068126], dtype=float32),\n",
       " array([0.11469512], dtype=float32),\n",
       " array([0.10859948], dtype=float32),\n",
       " array([0.10244751], dtype=float32),\n",
       " array([0.09625813], dtype=float32),\n",
       " array([0.09002915], dtype=float32),\n",
       " array([0.08375292], dtype=float32),\n",
       " array([0.077491], dtype=float32),\n",
       " array([0.07120465], dtype=float32),\n",
       " array([0.06431796], dtype=float32),\n",
       " array([0.05667392], dtype=float32),\n",
       " array([0.04832263], dtype=float32),\n",
       " array([0.0395001], dtype=float32),\n",
       " array([0.03089672], dtype=float32),\n",
       " array([0.02269281], dtype=float32),\n",
       " array([0.01511696], dtype=float32),\n",
       " array([0.00938037], dtype=float32)]"
      ]
     },
     "execution_count": 26,
     "metadata": {},
     "output_type": "execute_result"
    }
   ],
   "source": [
    "test_predictions = []\n",
    "\n",
    "first_eval_batch = scaled_train[-n_input:]\n",
    "current_batch = first_eval_batch.reshape((1, n_input, n_features))\n",
    "\n",
    "for i in range(len(test)):\n",
    "    current_pred = model.predict(current_batch)[0]\n",
    "    \n",
    "    test_predictions.append(current_pred)\n",
    "    \n",
    "    current_batch = np.append(current_batch[:,1:,:],[[current_pred]], axis=1)\n",
    "    \n",
    "test_predictions"
   ]
  },
  {
   "cell_type": "code",
   "execution_count": 27,
   "metadata": {},
   "outputs": [
    {
     "data": {
      "text/html": [
       "<div>\n",
       "<style scoped>\n",
       "    .dataframe tbody tr th:only-of-type {\n",
       "        vertical-align: middle;\n",
       "    }\n",
       "\n",
       "    .dataframe tbody tr th {\n",
       "        vertical-align: top;\n",
       "    }\n",
       "\n",
       "    .dataframe thead th {\n",
       "        text-align: right;\n",
       "    }\n",
       "</style>\n",
       "<table border=\"1\" class=\"dataframe\">\n",
       "  <thead>\n",
       "    <tr style=\"text-align: right;\">\n",
       "      <th></th>\n",
       "      <th>PM2.5</th>\n",
       "    </tr>\n",
       "    <tr>\n",
       "      <th>date</th>\n",
       "      <th></th>\n",
       "    </tr>\n",
       "  </thead>\n",
       "  <tbody>\n",
       "    <tr>\n",
       "      <th>2020-01-10 18:00:00</th>\n",
       "      <td>152.82</td>\n",
       "    </tr>\n",
       "    <tr>\n",
       "      <th>2020-01-10 19:00:00</th>\n",
       "      <td>199.75</td>\n",
       "    </tr>\n",
       "    <tr>\n",
       "      <th>2020-01-10 20:00:00</th>\n",
       "      <td>238.45</td>\n",
       "    </tr>\n",
       "    <tr>\n",
       "      <th>2020-01-10 21:00:00</th>\n",
       "      <td>173.36</td>\n",
       "    </tr>\n",
       "    <tr>\n",
       "      <th>2020-01-10 22:00:00</th>\n",
       "      <td>107.83</td>\n",
       "    </tr>\n",
       "  </tbody>\n",
       "</table>\n",
       "</div>"
      ],
      "text/plain": [
       "                      PM2.5\n",
       "date                       \n",
       "2020-01-10 18:00:00  152.82\n",
       "2020-01-10 19:00:00  199.75\n",
       "2020-01-10 20:00:00  238.45\n",
       "2020-01-10 21:00:00  173.36\n",
       "2020-01-10 22:00:00  107.83"
      ]
     },
     "execution_count": 27,
     "metadata": {},
     "output_type": "execute_result"
    }
   ],
   "source": [
    "test.head()"
   ]
  },
  {
   "cell_type": "code",
   "execution_count": 28,
   "metadata": {},
   "outputs": [],
   "source": [
    "true_predictions = scaler.inverse_transform(test_predictions)\n",
    "\n",
    "test['recursive_predict'] = true_predictions"
   ]
  },
  {
   "cell_type": "code",
   "execution_count": 29,
   "metadata": {},
   "outputs": [
    {
     "data": {
      "text/plain": [
       "<AxesSubplot:xlabel='date'>"
      ]
     },
     "execution_count": 29,
     "metadata": {},
     "output_type": "execute_result"
    },
    {
     "data": {
      "image/png": "[encoded data removed]",
      "text/plain": [
       "<Figure size 432x288 with 1 Axes>"
      ]
     },
     "metadata": {
      "needs_background": "light"
     },
     "output_type": "display_data"
    }
   ],
   "source": [
    "test.plot()"
   ]
  },
  {
   "cell_type": "code",
   "execution_count": 30,
   "metadata": {},
   "outputs": [
    {
     "name": "stdout",
     "output_type": "stream",
     "text": [
      "75.26267533418977\n"
     ]
    }
   ],
   "source": [
    "rmse = sqrt(mean_squared_error(test['PM2.5'], test['recursive_predict']))\n",
    "print(rmse)"
   ]
  },
  {
   "cell_type": "code",
   "execution_count": 31,
   "metadata": {},
   "outputs": [
    {
     "data": {
      "text/html": [
       "<div>\n",
       "<style scoped>\n",
       "    .dataframe tbody tr th:only-of-type {\n",
       "        vertical-align: middle;\n",
       "    }\n",
       "\n",
       "    .dataframe tbody tr th {\n",
       "        vertical-align: top;\n",
       "    }\n",
       "\n",
       "    .dataframe thead th {\n",
       "        text-align: right;\n",
       "    }\n",
       "</style>\n",
       "<table border=\"1\" class=\"dataframe\">\n",
       "  <thead>\n",
       "    <tr style=\"text-align: right;\">\n",
       "      <th></th>\n",
       "      <th>PM2.5</th>\n",
       "      <th>recursive_predict</th>\n",
       "    </tr>\n",
       "    <tr>\n",
       "      <th>date</th>\n",
       "      <th></th>\n",
       "      <th></th>\n",
       "    </tr>\n",
       "  </thead>\n",
       "  <tbody>\n",
       "    <tr>\n",
       "      <th>2020-01-10 18:00:00</th>\n",
       "      <td>152.82</td>\n",
       "      <td>97.508400</td>\n",
       "    </tr>\n",
       "    <tr>\n",
       "      <th>2020-01-10 19:00:00</th>\n",
       "      <td>199.75</td>\n",
       "      <td>99.281175</td>\n",
       "    </tr>\n",
       "    <tr>\n",
       "      <th>2020-01-10 20:00:00</th>\n",
       "      <td>238.45</td>\n",
       "      <td>99.024115</td>\n",
       "    </tr>\n",
       "    <tr>\n",
       "      <th>2020-01-10 21:00:00</th>\n",
       "      <td>173.36</td>\n",
       "      <td>97.434590</td>\n",
       "    </tr>\n",
       "    <tr>\n",
       "      <th>2020-01-10 22:00:00</th>\n",
       "      <td>107.83</td>\n",
       "      <td>94.908253</td>\n",
       "    </tr>\n",
       "    <tr>\n",
       "      <th>2020-01-10 23:00:00</th>\n",
       "      <td>99.25</td>\n",
       "      <td>91.731658</td>\n",
       "    </tr>\n",
       "    <tr>\n",
       "      <th>2020-01-11 00:00:00</th>\n",
       "      <td>96.39</td>\n",
       "      <td>88.133577</td>\n",
       "    </tr>\n",
       "    <tr>\n",
       "      <th>2020-01-11 01:00:00</th>\n",
       "      <td>95.48</td>\n",
       "      <td>84.280602</td>\n",
       "    </tr>\n",
       "    <tr>\n",
       "      <th>2020-01-11 02:00:00</th>\n",
       "      <td>101.92</td>\n",
       "      <td>80.286056</td>\n",
       "    </tr>\n",
       "    <tr>\n",
       "      <th>2020-01-11 03:00:00</th>\n",
       "      <td>119.98</td>\n",
       "      <td>76.218436</td>\n",
       "    </tr>\n",
       "    <tr>\n",
       "      <th>2020-01-11 04:00:00</th>\n",
       "      <td>145.35</td>\n",
       "      <td>72.113223</td>\n",
       "    </tr>\n",
       "    <tr>\n",
       "      <th>2020-01-11 05:00:00</th>\n",
       "      <td>152.75</td>\n",
       "      <td>67.983053</td>\n",
       "    </tr>\n",
       "    <tr>\n",
       "      <th>2020-01-11 06:00:00</th>\n",
       "      <td>174.82</td>\n",
       "      <td>63.826452</td>\n",
       "    </tr>\n",
       "    <tr>\n",
       "      <th>2020-01-11 07:00:00</th>\n",
       "      <td>214.31</td>\n",
       "      <td>59.638320</td>\n",
       "    </tr>\n",
       "    <tr>\n",
       "      <th>2020-01-11 08:00:00</th>\n",
       "      <td>185.48</td>\n",
       "      <td>55.459744</td>\n",
       "    </tr>\n",
       "    <tr>\n",
       "      <th>2020-01-11 09:00:00</th>\n",
       "      <td>122.03</td>\n",
       "      <td>51.264861</td>\n",
       "    </tr>\n",
       "    <tr>\n",
       "      <th>2020-01-11 10:00:00</th>\n",
       "      <td>104.61</td>\n",
       "      <td>46.669377</td>\n",
       "    </tr>\n",
       "    <tr>\n",
       "      <th>2020-01-11 11:00:00</th>\n",
       "      <td>92.43</td>\n",
       "      <td>41.568508</td>\n",
       "    </tr>\n",
       "    <tr>\n",
       "      <th>2020-01-11 12:00:00</th>\n",
       "      <td>93.04</td>\n",
       "      <td>35.995693</td>\n",
       "    </tr>\n",
       "    <tr>\n",
       "      <th>2020-01-11 13:00:00</th>\n",
       "      <td>93.57</td>\n",
       "      <td>30.108418</td>\n",
       "    </tr>\n",
       "    <tr>\n",
       "      <th>2020-01-11 14:00:00</th>\n",
       "      <td>71.30</td>\n",
       "      <td>24.367378</td>\n",
       "    </tr>\n",
       "    <tr>\n",
       "      <th>2020-01-11 15:00:00</th>\n",
       "      <td>68.58</td>\n",
       "      <td>18.892910</td>\n",
       "    </tr>\n",
       "    <tr>\n",
       "      <th>2020-01-11 16:00:00</th>\n",
       "      <td>64.05</td>\n",
       "      <td>13.837547</td>\n",
       "    </tr>\n",
       "    <tr>\n",
       "      <th>2020-01-11 17:00:00</th>\n",
       "      <td>70.56</td>\n",
       "      <td>10.009521</td>\n",
       "    </tr>\n",
       "  </tbody>\n",
       "</table>\n",
       "</div>"
      ],
      "text/plain": [
       "                      PM2.5  recursive_predict\n",
       "date                                          \n",
       "2020-01-10 18:00:00  152.82          97.508400\n",
       "2020-01-10 19:00:00  199.75          99.281175\n",
       "2020-01-10 20:00:00  238.45          99.024115\n",
       "2020-01-10 21:00:00  173.36          97.434590\n",
       "2020-01-10 22:00:00  107.83          94.908253\n",
       "2020-01-10 23:00:00   99.25          91.731658\n",
       "2020-01-11 00:00:00   96.39          88.133577\n",
       "2020-01-11 01:00:00   95.48          84.280602\n",
       "2020-01-11 02:00:00  101.92          80.286056\n",
       "2020-01-11 03:00:00  119.98          76.218436\n",
       "2020-01-11 04:00:00  145.35          72.113223\n",
       "2020-01-11 05:00:00  152.75          67.983053\n",
       "2020-01-11 06:00:00  174.82          63.826452\n",
       "2020-01-11 07:00:00  214.31          59.638320\n",
       "2020-01-11 08:00:00  185.48          55.459744\n",
       "2020-01-11 09:00:00  122.03          51.264861\n",
       "2020-01-11 10:00:00  104.61          46.669377\n",
       "2020-01-11 11:00:00   92.43          41.568508\n",
       "2020-01-11 12:00:00   93.04          35.995693\n",
       "2020-01-11 13:00:00   93.57          30.108418\n",
       "2020-01-11 14:00:00   71.30          24.367378\n",
       "2020-01-11 15:00:00   68.58          18.892910\n",
       "2020-01-11 16:00:00   64.05          13.837547\n",
       "2020-01-11 17:00:00   70.56          10.009521"
      ]
     },
     "execution_count": 31,
     "metadata": {},
     "output_type": "execute_result"
    }
   ],
   "source": [
    "test"
   ]
  },
  {
   "cell_type": "markdown",
   "metadata": {},
   "source": [
    "# Direct Startegy"
   ]
  },
  {
   "cell_type": "code",
   "execution_count": 32,
   "metadata": {},
   "outputs": [],
   "source": [
    "def generate_data(data, n_input, month):\n",
    "    X, y = [], []\n",
    "    for i in range(0,len(data)-(n_input+month)):\n",
    "            X.append(data[i:i+n_input])\n",
    "            y.append(data[i+n_input+(month-1)])\n",
    "    return np.array(X), np.array(y)"
   ]
  },
  {
   "cell_type": "code",
   "execution_count": 33,
   "metadata": {},
   "outputs": [],
   "source": [
    "def model_predict(m_no, train_data, n_input, n_features):\n",
    "    \n",
    "    model = Sequential()\n",
    "    model.add(LSTM(200, activation='relu', input_shape=(n_input, n_features)))\n",
    "    model.add(Dense(1))\n",
    "    model.compile(optimizer='adam', loss='mse')\n",
    "    \n",
    "    X, y = generate_data(train_data, n_input, m_no)\n",
    "    \n",
    "    #print(\"MODEL : \", m_no)\n",
    "    #print(X[0], y[0])\n",
    "    \n",
    "    model.fit(X, y, epochs=3, verbose=0)\n",
    "    \n",
    "    tX = train_data[-n_input:]\n",
    "    \n",
    "    tX = tX.reshape((1, n_input, n_features))\n",
    "    \n",
    "    res = model.predict(tX)\n",
    "    \n",
    "    return res[0]"
   ]
  },
  {
   "cell_type": "code",
   "execution_count": 34,
   "metadata": {},
   "outputs": [
    {
     "name": "stdout",
     "output_type": "stream",
     "text": [
      "WARNING:tensorflow:5 out of the last 29 calls to <function Model.make_predict_function.<locals>.predict_function at 0x000002B96ED7E820> triggered tf.function retracing. Tracing is expensive and the excessive number of tracings could be due to (1) creating @tf.function repeatedly in a loop, (2) passing tensors with different shapes, (3) passing Python objects instead of tensors. For (1), please define your @tf.function outside of the loop. For (2), @tf.function has experimental_relax_shapes=True option that relaxes argument shapes that can avoid unnecessary retracing. For (3), please refer to https://www.tensorflow.org/guide/function#controlling_retracing and https://www.tensorflow.org/api_docs/python/tf/function for  more details.\n",
      "WARNING:tensorflow:6 out of the last 30 calls to <function Model.make_predict_function.<locals>.predict_function at 0x000002B960C70820> triggered tf.function retracing. Tracing is expensive and the excessive number of tracings could be due to (1) creating @tf.function repeatedly in a loop, (2) passing tensors with different shapes, (3) passing Python objects instead of tensors. For (1), please define your @tf.function outside of the loop. For (2), @tf.function has experimental_relax_shapes=True option that relaxes argument shapes that can avoid unnecessary retracing. For (3), please refer to https://www.tensorflow.org/guide/function#controlling_retracing and https://www.tensorflow.org/api_docs/python/tf/function for  more details.\n"
     ]
    },
    {
     "data": {
      "text/plain": [
       "[array([0.15217194], dtype=float32),\n",
       " array([0.17842603], dtype=float32),\n",
       " array([0.1674121], dtype=float32),\n",
       " array([0.22264825], dtype=float32),\n",
       " array([0.19734855], dtype=float32),\n",
       " array([0.24130952], dtype=float32),\n",
       " array([0.19153963], dtype=float32),\n",
       " array([0.18126744], dtype=float32),\n",
       " array([0.23506139], dtype=float32),\n",
       " array([0.22180118], dtype=float32),\n",
       " array([0.26256877], dtype=float32),\n",
       " array([0.22498403], dtype=float32),\n",
       " array([0.20678164], dtype=float32),\n",
       " array([0.19417734], dtype=float32),\n",
       " array([0.18439886], dtype=float32),\n",
       " array([0.23728584], dtype=float32),\n",
       " array([0.15297526], dtype=float32),\n",
       " array([0.16301557], dtype=float32),\n",
       " array([0.14636408], dtype=float32),\n",
       " array([0.13727893], dtype=float32),\n",
       " array([0.13417973], dtype=float32),\n",
       " array([0.14508669], dtype=float32),\n",
       " array([0.12687624], dtype=float32),\n",
       " array([0.15577379], dtype=float32)]"
      ]
     },
     "execution_count": 34,
     "metadata": {},
     "output_type": "execute_result"
    }
   ],
   "source": [
    "n_input = 24\n",
    "n_features = 1\n",
    "test_predictions = []\n",
    "\n",
    "for i in range(len(scaled_test)):\n",
    "    test_predictions.append(model_predict(i+1,scaled_train,n_input, n_features))\n",
    "    \n",
    "test_predictions"
   ]
  },
  {
   "cell_type": "code",
   "execution_count": 35,
   "metadata": {},
   "outputs": [],
   "source": [
    "true_predictions = scaler.inverse_transform(test_predictions)\n",
    "\n",
    "test['direct_predict'] = true_predictions"
   ]
  },
  {
   "cell_type": "code",
   "execution_count": 36,
   "metadata": {},
   "outputs": [
    {
     "data": {
      "text/plain": [
       "<AxesSubplot:xlabel='date'>"
      ]
     },
     "execution_count": 36,
     "metadata": {},
     "output_type": "execute_result"
    },
    {
     "data": {
      "image/png": "[encoded data removed]",
      "text/plain": [
       "<Figure size 432x288 with 1 Axes>"
      ]
     },
     "metadata": {
      "needs_background": "light"
     },
     "output_type": "display_data"
    }
   ],
   "source": [
    "test.plot()"
   ]
  },
  {
   "cell_type": "code",
   "execution_count": 37,
   "metadata": {},
   "outputs": [
    {
     "name": "stdout",
     "output_type": "stream",
     "text": [
      "47.05424501800697\n"
     ]
    }
   ],
   "source": [
    "rmse = sqrt(mean_squared_error(test['PM2.5'], test['direct_predict']))\n",
    "print(rmse)"
   ]
  },
  {
   "cell_type": "code",
   "execution_count": 38,
   "metadata": {},
   "outputs": [
    {
     "data": {
      "text/html": [
       "<div>\n",
       "<style scoped>\n",
       "    .dataframe tbody tr th:only-of-type {\n",
       "        vertical-align: middle;\n",
       "    }\n",
       "\n",
       "    .dataframe tbody tr th {\n",
       "        vertical-align: top;\n",
       "    }\n",
       "\n",
       "    .dataframe thead th {\n",
       "        text-align: right;\n",
       "    }\n",
       "</style>\n",
       "<table border=\"1\" class=\"dataframe\">\n",
       "  <thead>\n",
       "    <tr style=\"text-align: right;\">\n",
       "      <th></th>\n",
       "      <th>PM2.5</th>\n",
       "      <th>recursive_predict</th>\n",
       "      <th>direct_predict</th>\n",
       "    </tr>\n",
       "    <tr>\n",
       "      <th>date</th>\n",
       "      <th></th>\n",
       "      <th></th>\n",
       "      <th></th>\n",
       "    </tr>\n",
       "  </thead>\n",
       "  <tbody>\n",
       "    <tr>\n",
       "      <th>2020-01-10 18:00:00</th>\n",
       "      <td>152.82</td>\n",
       "      <td>97.508400</td>\n",
       "      <td>105.294335</td>\n",
       "    </tr>\n",
       "    <tr>\n",
       "      <th>2020-01-10 19:00:00</th>\n",
       "      <td>199.75</td>\n",
       "      <td>99.281175</td>\n",
       "      <td>122.813688</td>\n",
       "    </tr>\n",
       "    <tr>\n",
       "      <th>2020-01-10 20:00:00</th>\n",
       "      <td>238.45</td>\n",
       "      <td>99.024115</td>\n",
       "      <td>115.464096</td>\n",
       "    </tr>\n",
       "    <tr>\n",
       "      <th>2020-01-10 21:00:00</th>\n",
       "      <td>173.36</td>\n",
       "      <td>97.434590</td>\n",
       "      <td>152.323176</td>\n",
       "    </tr>\n",
       "    <tr>\n",
       "      <th>2020-01-10 22:00:00</th>\n",
       "      <td>107.83</td>\n",
       "      <td>94.908253</td>\n",
       "      <td>135.440687</td>\n",
       "    </tr>\n",
       "    <tr>\n",
       "      <th>2020-01-10 23:00:00</th>\n",
       "      <td>99.25</td>\n",
       "      <td>91.731658</td>\n",
       "      <td>164.775845</td>\n",
       "    </tr>\n",
       "    <tr>\n",
       "      <th>2020-01-11 00:00:00</th>\n",
       "      <td>96.39</td>\n",
       "      <td>88.133577</td>\n",
       "      <td>131.564395</td>\n",
       "    </tr>\n",
       "    <tr>\n",
       "      <th>2020-01-11 01:00:00</th>\n",
       "      <td>95.48</td>\n",
       "      <td>84.280602</td>\n",
       "      <td>124.709763</td>\n",
       "    </tr>\n",
       "    <tr>\n",
       "      <th>2020-01-11 02:00:00</th>\n",
       "      <td>101.92</td>\n",
       "      <td>80.286056</td>\n",
       "      <td>160.606467</td>\n",
       "    </tr>\n",
       "    <tr>\n",
       "      <th>2020-01-11 03:00:00</th>\n",
       "      <td>119.98</td>\n",
       "      <td>76.218436</td>\n",
       "      <td>151.757925</td>\n",
       "    </tr>\n",
       "    <tr>\n",
       "      <th>2020-01-11 04:00:00</th>\n",
       "      <td>145.35</td>\n",
       "      <td>72.113223</td>\n",
       "      <td>178.962141</td>\n",
       "    </tr>\n",
       "    <tr>\n",
       "      <th>2020-01-11 05:00:00</th>\n",
       "      <td>152.75</td>\n",
       "      <td>67.983053</td>\n",
       "      <td>153.881846</td>\n",
       "    </tr>\n",
       "    <tr>\n",
       "      <th>2020-01-11 06:00:00</th>\n",
       "      <td>174.82</td>\n",
       "      <td>63.826452</td>\n",
       "      <td>141.735389</td>\n",
       "    </tr>\n",
       "    <tr>\n",
       "      <th>2020-01-11 07:00:00</th>\n",
       "      <td>214.31</td>\n",
       "      <td>59.638320</td>\n",
       "      <td>133.324542</td>\n",
       "    </tr>\n",
       "    <tr>\n",
       "      <th>2020-01-11 08:00:00</th>\n",
       "      <td>185.48</td>\n",
       "      <td>55.459744</td>\n",
       "      <td>126.799359</td>\n",
       "    </tr>\n",
       "    <tr>\n",
       "      <th>2020-01-11 09:00:00</th>\n",
       "      <td>122.03</td>\n",
       "      <td>51.264861</td>\n",
       "      <td>162.090839</td>\n",
       "    </tr>\n",
       "    <tr>\n",
       "      <th>2020-01-11 10:00:00</th>\n",
       "      <td>104.61</td>\n",
       "      <td>46.669377</td>\n",
       "      <td>105.830392</td>\n",
       "    </tr>\n",
       "    <tr>\n",
       "      <th>2020-01-11 11:00:00</th>\n",
       "      <td>92.43</td>\n",
       "      <td>41.568508</td>\n",
       "      <td>112.530293</td>\n",
       "    </tr>\n",
       "    <tr>\n",
       "      <th>2020-01-11 12:00:00</th>\n",
       "      <td>93.04</td>\n",
       "      <td>35.995693</td>\n",
       "      <td>101.418749</td>\n",
       "    </tr>\n",
       "    <tr>\n",
       "      <th>2020-01-11 13:00:00</th>\n",
       "      <td>93.57</td>\n",
       "      <td>30.108418</td>\n",
       "      <td>95.356230</td>\n",
       "    </tr>\n",
       "    <tr>\n",
       "      <th>2020-01-11 14:00:00</th>\n",
       "      <td>71.30</td>\n",
       "      <td>24.367378</td>\n",
       "      <td>93.288131</td>\n",
       "    </tr>\n",
       "    <tr>\n",
       "      <th>2020-01-11 15:00:00</th>\n",
       "      <td>68.58</td>\n",
       "      <td>18.892910</td>\n",
       "      <td>100.566349</td>\n",
       "    </tr>\n",
       "    <tr>\n",
       "      <th>2020-01-11 16:00:00</th>\n",
       "      <td>64.05</td>\n",
       "      <td>13.837547</td>\n",
       "      <td>88.414512</td>\n",
       "    </tr>\n",
       "    <tr>\n",
       "      <th>2020-01-11 17:00:00</th>\n",
       "      <td>70.56</td>\n",
       "      <td>10.009521</td>\n",
       "      <td>107.697849</td>\n",
       "    </tr>\n",
       "  </tbody>\n",
       "</table>\n",
       "</div>"
      ],
      "text/plain": [
       "                      PM2.5  recursive_predict  direct_predict\n",
       "date                                                          \n",
       "2020-01-10 18:00:00  152.82          97.508400      105.294335\n",
       "2020-01-10 19:00:00  199.75          99.281175      122.813688\n",
       "2020-01-10 20:00:00  238.45          99.024115      115.464096\n",
       "2020-01-10 21:00:00  173.36          97.434590      152.323176\n",
       "2020-01-10 22:00:00  107.83          94.908253      135.440687\n",
       "2020-01-10 23:00:00   99.25          91.731658      164.775845\n",
       "2020-01-11 00:00:00   96.39          88.133577      131.564395\n",
       "2020-01-11 01:00:00   95.48          84.280602      124.709763\n",
       "2020-01-11 02:00:00  101.92          80.286056      160.606467\n",
       "2020-01-11 03:00:00  119.98          76.218436      151.757925\n",
       "2020-01-11 04:00:00  145.35          72.113223      178.962141\n",
       "2020-01-11 05:00:00  152.75          67.983053      153.881846\n",
       "2020-01-11 06:00:00  174.82          63.826452      141.735389\n",
       "2020-01-11 07:00:00  214.31          59.638320      133.324542\n",
       "2020-01-11 08:00:00  185.48          55.459744      126.799359\n",
       "2020-01-11 09:00:00  122.03          51.264861      162.090839\n",
       "2020-01-11 10:00:00  104.61          46.669377      105.830392\n",
       "2020-01-11 11:00:00   92.43          41.568508      112.530293\n",
       "2020-01-11 12:00:00   93.04          35.995693      101.418749\n",
       "2020-01-11 13:00:00   93.57          30.108418       95.356230\n",
       "2020-01-11 14:00:00   71.30          24.367378       93.288131\n",
       "2020-01-11 15:00:00   68.58          18.892910      100.566349\n",
       "2020-01-11 16:00:00   64.05          13.837547       88.414512\n",
       "2020-01-11 17:00:00   70.56          10.009521      107.697849"
      ]
     },
     "execution_count": 38,
     "metadata": {},
     "output_type": "execute_result"
    }
   ],
   "source": [
    "test"
   ]
  },
  {
   "cell_type": "markdown",
   "metadata": {},
   "source": [
    "# Direct Recursive Startegy"
   ]
  },
  {
   "cell_type": "code",
   "execution_count": 39,
   "metadata": {},
   "outputs": [],
   "source": [
    "def generate_data(data, n_input, month):\n",
    "    X, y = [], []\n",
    "    for i in range(0,len(data)-(n_input+month)):\n",
    "            X.append(data[i:i+n_input+(month-1)])\n",
    "            y.append(data[i+n_input+(month-1)])\n",
    "    return np.array(X), np.array(y)"
   ]
  },
  {
   "cell_type": "code",
   "execution_count": 40,
   "metadata": {},
   "outputs": [],
   "source": [
    "def model_predict(m_no, train_data, n_input, n_features):\n",
    "    \n",
    "    model = Sequential()\n",
    "    model.add(LSTM(200, activation='relu', input_shape=(n_input+(m_no - 1), n_features)))\n",
    "    model.add(Dense(1))\n",
    "    model.compile(optimizer='adam', loss='mse')\n",
    "    \n",
    "    X, y = generate_data(train_data, n_input, m_no)\n",
    "    #print(y.dtype)\n",
    "    \n",
    "    #print(\"Model No.  - \", m_no)\n",
    "    #print(X[0], y[0])\n",
    "    #print(\"SHAPE XY : \", X.shape, y.shape)\n",
    "    \n",
    "    model.fit(X, y, epochs=3, verbose=0)\n",
    "    \n",
    "    tX = train_data[-n_input:]\n",
    "    tP = np.array(test_predictions)\n",
    "    \n",
    "    tX = np.concatenate((tX, tP), axis=None)\n",
    "    \n",
    "    #print(\"TYPE : \", type(tX), type(tP))\n",
    "    \n",
    "    #print(\"TX : \", tX)\n",
    "        \n",
    "    #print(\"SHAPE : \" , tX.shape)\n",
    "    \n",
    "    tX = tX.reshape((1, tX.shape[0], n_features))\n",
    "    \n",
    "    res = model.predict(tX)\n",
    "    \n",
    "    return res[0]"
   ]
  },
  {
   "cell_type": "code",
   "execution_count": 41,
   "metadata": {},
   "outputs": [
    {
     "data": {
      "text/plain": [
       "[array([0.12044968], dtype=float32),\n",
       " array([0.15317869], dtype=float32),\n",
       " array([0.14912018], dtype=float32),\n",
       " array([0.14505056], dtype=float32),\n",
       " array([0.16824582], dtype=float32),\n",
       " array([0.18679388], dtype=float32),\n",
       " array([0.22700843], dtype=float32),\n",
       " array([0.22106019], dtype=float32),\n",
       " array([0.22668165], dtype=float32),\n",
       " array([0.22715999], dtype=float32),\n",
       " array([0.23160799], dtype=float32),\n",
       " array([0.2288967], dtype=float32),\n",
       " array([0.30765626], dtype=float32),\n",
       " array([0.24234687], dtype=float32),\n",
       " array([0.25045663], dtype=float32),\n",
       " array([0.25042734], dtype=float32),\n",
       " array([0.22093485], dtype=float32),\n",
       " array([0.22908293], dtype=float32),\n",
       " array([0.22728595], dtype=float32),\n",
       " array([0.22301435], dtype=float32),\n",
       " array([0.21119915], dtype=float32),\n",
       " array([0.2119728], dtype=float32),\n",
       " array([0.2108076], dtype=float32),\n",
       " array([0.21441355], dtype=float32)]"
      ]
     },
     "execution_count": 41,
     "metadata": {},
     "output_type": "execute_result"
    }
   ],
   "source": [
    "n_input = 24\n",
    "n_features = 1\n",
    "test_predictions = []\n",
    "\n",
    "for i in range(len(scaled_test)):\n",
    "    pred = model_predict(i+1,scaled_train,n_input, n_features)\n",
    "    test_predictions.append(pred)\n",
    "    \n",
    "test_predictions"
   ]
  },
  {
   "cell_type": "code",
   "execution_count": 42,
   "metadata": {},
   "outputs": [],
   "source": [
    "true_predictions = scaler.inverse_transform(test_predictions)\n",
    "\n",
    "test['direct_recursive_predict'] = true_predictions"
   ]
  },
  {
   "cell_type": "code",
   "execution_count": 43,
   "metadata": {},
   "outputs": [
    {
     "data": {
      "text/plain": [
       "<AxesSubplot:xlabel='date'>"
      ]
     },
     "execution_count": 43,
     "metadata": {},
     "output_type": "execute_result"
    },
    {
     "data": {
      "image/png": "[encoded data removed]",
      "text/plain": [
       "<Figure size 432x288 with 1 Axes>"
      ]
     },
     "metadata": {
      "needs_background": "light"
     },
     "output_type": "display_data"
    }
   ],
   "source": [
    "test.plot()"
   ]
  },
  {
   "cell_type": "code",
   "execution_count": 44,
   "metadata": {},
   "outputs": [
    {
     "name": "stdout",
     "output_type": "stream",
     "text": [
      "61.975291253175165\n"
     ]
    }
   ],
   "source": [
    "rmse = sqrt(mean_squared_error(test['PM2.5'], test['direct_recursive_predict']))\n",
    "print(rmse)"
   ]
  },
  {
   "cell_type": "code",
   "execution_count": 45,
   "metadata": {},
   "outputs": [
    {
     "data": {
      "text/html": [
       "<div>\n",
       "<style scoped>\n",
       "    .dataframe tbody tr th:only-of-type {\n",
       "        vertical-align: middle;\n",
       "    }\n",
       "\n",
       "    .dataframe tbody tr th {\n",
       "        vertical-align: top;\n",
       "    }\n",
       "\n",
       "    .dataframe thead th {\n",
       "        text-align: right;\n",
       "    }\n",
       "</style>\n",
       "<table border=\"1\" class=\"dataframe\">\n",
       "  <thead>\n",
       "    <tr style=\"text-align: right;\">\n",
       "      <th></th>\n",
       "      <th>PM2.5</th>\n",
       "      <th>recursive_predict</th>\n",
       "      <th>direct_predict</th>\n",
       "      <th>direct_recursive_predict</th>\n",
       "    </tr>\n",
       "    <tr>\n",
       "      <th>date</th>\n",
       "      <th></th>\n",
       "      <th></th>\n",
       "      <th></th>\n",
       "      <th></th>\n",
       "    </tr>\n",
       "  </thead>\n",
       "  <tbody>\n",
       "    <tr>\n",
       "      <th>2020-01-10 18:00:00</th>\n",
       "      <td>152.82</td>\n",
       "      <td>97.508400</td>\n",
       "      <td>105.294335</td>\n",
       "      <td>84.126075</td>\n",
       "    </tr>\n",
       "    <tr>\n",
       "      <th>2020-01-10 19:00:00</th>\n",
       "      <td>199.75</td>\n",
       "      <td>99.281175</td>\n",
       "      <td>122.813688</td>\n",
       "      <td>105.966141</td>\n",
       "    </tr>\n",
       "    <tr>\n",
       "      <th>2020-01-10 20:00:00</th>\n",
       "      <td>238.45</td>\n",
       "      <td>99.024115</td>\n",
       "      <td>115.464096</td>\n",
       "      <td>103.257897</td>\n",
       "    </tr>\n",
       "    <tr>\n",
       "      <th>2020-01-10 21:00:00</th>\n",
       "      <td>173.36</td>\n",
       "      <td>97.434590</td>\n",
       "      <td>152.323176</td>\n",
       "      <td>100.542236</td>\n",
       "    </tr>\n",
       "    <tr>\n",
       "      <th>2020-01-10 22:00:00</th>\n",
       "      <td>107.83</td>\n",
       "      <td>94.908253</td>\n",
       "      <td>135.440687</td>\n",
       "      <td>116.020437</td>\n",
       "    </tr>\n",
       "    <tr>\n",
       "      <th>2020-01-10 23:00:00</th>\n",
       "      <td>99.25</td>\n",
       "      <td>91.731658</td>\n",
       "      <td>164.775845</td>\n",
       "      <td>128.397555</td>\n",
       "    </tr>\n",
       "    <tr>\n",
       "      <th>2020-01-11 00:00:00</th>\n",
       "      <td>96.39</td>\n",
       "      <td>88.133577</td>\n",
       "      <td>131.564395</td>\n",
       "      <td>155.232727</td>\n",
       "    </tr>\n",
       "    <tr>\n",
       "      <th>2020-01-11 01:00:00</th>\n",
       "      <td>95.48</td>\n",
       "      <td>84.280602</td>\n",
       "      <td>124.709763</td>\n",
       "      <td>151.263463</td>\n",
       "    </tr>\n",
       "    <tr>\n",
       "      <th>2020-01-11 02:00:00</th>\n",
       "      <td>101.92</td>\n",
       "      <td>80.286056</td>\n",
       "      <td>160.606467</td>\n",
       "      <td>155.014665</td>\n",
       "    </tr>\n",
       "    <tr>\n",
       "      <th>2020-01-11 03:00:00</th>\n",
       "      <td>119.98</td>\n",
       "      <td>76.218436</td>\n",
       "      <td>151.757925</td>\n",
       "      <td>155.333863</td>\n",
       "    </tr>\n",
       "    <tr>\n",
       "      <th>2020-01-11 04:00:00</th>\n",
       "      <td>145.35</td>\n",
       "      <td>72.113223</td>\n",
       "      <td>178.962141</td>\n",
       "      <td>158.302011</td>\n",
       "    </tr>\n",
       "    <tr>\n",
       "      <th>2020-01-11 05:00:00</th>\n",
       "      <td>152.75</td>\n",
       "      <td>67.983053</td>\n",
       "      <td>153.881846</td>\n",
       "      <td>156.492773</td>\n",
       "    </tr>\n",
       "    <tr>\n",
       "      <th>2020-01-11 06:00:00</th>\n",
       "      <td>174.82</td>\n",
       "      <td>63.826452</td>\n",
       "      <td>141.735389</td>\n",
       "      <td>209.049021</td>\n",
       "    </tr>\n",
       "    <tr>\n",
       "      <th>2020-01-11 07:00:00</th>\n",
       "      <td>214.31</td>\n",
       "      <td>59.638320</td>\n",
       "      <td>133.324542</td>\n",
       "      <td>165.468065</td>\n",
       "    </tr>\n",
       "    <tr>\n",
       "      <th>2020-01-11 08:00:00</th>\n",
       "      <td>185.48</td>\n",
       "      <td>55.459744</td>\n",
       "      <td>126.799359</td>\n",
       "      <td>170.879710</td>\n",
       "    </tr>\n",
       "    <tr>\n",
       "      <th>2020-01-11 09:00:00</th>\n",
       "      <td>122.03</td>\n",
       "      <td>51.264861</td>\n",
       "      <td>162.090839</td>\n",
       "      <td>170.860161</td>\n",
       "    </tr>\n",
       "    <tr>\n",
       "      <th>2020-01-11 10:00:00</th>\n",
       "      <td>104.61</td>\n",
       "      <td>46.669377</td>\n",
       "      <td>105.830392</td>\n",
       "      <td>151.179827</td>\n",
       "    </tr>\n",
       "    <tr>\n",
       "      <th>2020-01-11 11:00:00</th>\n",
       "      <td>92.43</td>\n",
       "      <td>41.568508</td>\n",
       "      <td>112.530293</td>\n",
       "      <td>156.617037</td>\n",
       "    </tr>\n",
       "    <tr>\n",
       "      <th>2020-01-11 12:00:00</th>\n",
       "      <td>93.04</td>\n",
       "      <td>35.995693</td>\n",
       "      <td>101.418749</td>\n",
       "      <td>155.417915</td>\n",
       "    </tr>\n",
       "    <tr>\n",
       "      <th>2020-01-11 13:00:00</th>\n",
       "      <td>93.57</td>\n",
       "      <td>30.108418</td>\n",
       "      <td>95.356230</td>\n",
       "      <td>152.567479</td>\n",
       "    </tr>\n",
       "    <tr>\n",
       "      <th>2020-01-11 14:00:00</th>\n",
       "      <td>71.30</td>\n",
       "      <td>24.367378</td>\n",
       "      <td>93.288131</td>\n",
       "      <td>144.683192</td>\n",
       "    </tr>\n",
       "    <tr>\n",
       "      <th>2020-01-11 15:00:00</th>\n",
       "      <td>68.58</td>\n",
       "      <td>18.892910</td>\n",
       "      <td>100.566349</td>\n",
       "      <td>145.199451</td>\n",
       "    </tr>\n",
       "    <tr>\n",
       "      <th>2020-01-11 16:00:00</th>\n",
       "      <td>64.05</td>\n",
       "      <td>13.837547</td>\n",
       "      <td>88.414512</td>\n",
       "      <td>144.421916</td>\n",
       "    </tr>\n",
       "    <tr>\n",
       "      <th>2020-01-11 17:00:00</th>\n",
       "      <td>70.56</td>\n",
       "      <td>10.009521</td>\n",
       "      <td>107.697849</td>\n",
       "      <td>146.828164</td>\n",
       "    </tr>\n",
       "  </tbody>\n",
       "</table>\n",
       "</div>"
      ],
      "text/plain": [
       "                      PM2.5  recursive_predict  direct_predict  \\\n",
       "date                                                             \n",
       "2020-01-10 18:00:00  152.82          97.508400      105.294335   \n",
       "2020-01-10 19:00:00  199.75          99.281175      122.813688   \n",
       "2020-01-10 20:00:00  238.45          99.024115      115.464096   \n",
       "2020-01-10 21:00:00  173.36          97.434590      152.323176   \n",
       "2020-01-10 22:00:00  107.83          94.908253      135.440687   \n",
       "2020-01-10 23:00:00   99.25          91.731658      164.775845   \n",
       "2020-01-11 00:00:00   96.39          88.133577      131.564395   \n",
       "2020-01-11 01:00:00   95.48          84.280602      124.709763   \n",
       "2020-01-11 02:00:00  101.92          80.286056      160.606467   \n",
       "2020-01-11 03:00:00  119.98          76.218436      151.757925   \n",
       "2020-01-11 04:00:00  145.35          72.113223      178.962141   \n",
       "2020-01-11 05:00:00  152.75          67.983053      153.881846   \n",
       "2020-01-11 06:00:00  174.82          63.826452      141.735389   \n",
       "2020-01-11 07:00:00  214.31          59.638320      133.324542   \n",
       "2020-01-11 08:00:00  185.48          55.459744      126.799359   \n",
       "2020-01-11 09:00:00  122.03          51.264861      162.090839   \n",
       "2020-01-11 10:00:00  104.61          46.669377      105.830392   \n",
       "2020-01-11 11:00:00   92.43          41.568508      112.530293   \n",
       "2020-01-11 12:00:00   93.04          35.995693      101.418749   \n",
       "2020-01-11 13:00:00   93.57          30.108418       95.356230   \n",
       "2020-01-11 14:00:00   71.30          24.367378       93.288131   \n",
       "2020-01-11 15:00:00   68.58          18.892910      100.566349   \n",
       "2020-01-11 16:00:00   64.05          13.837547       88.414512   \n",
       "2020-01-11 17:00:00   70.56          10.009521      107.697849   \n",
       "\n",
       "                     direct_recursive_predict  \n",
       "date                                           \n",
       "2020-01-10 18:00:00                 84.126075  \n",
       "2020-01-10 19:00:00                105.966141  \n",
       "2020-01-10 20:00:00                103.257897  \n",
       "2020-01-10 21:00:00                100.542236  \n",
       "2020-01-10 22:00:00                116.020437  \n",
       "2020-01-10 23:00:00                128.397555  \n",
       "2020-01-11 00:00:00                155.232727  \n",
       "2020-01-11 01:00:00                151.263463  \n",
       "2020-01-11 02:00:00                155.014665  \n",
       "2020-01-11 03:00:00                155.333863  \n",
       "2020-01-11 04:00:00                158.302011  \n",
       "2020-01-11 05:00:00                156.492773  \n",
       "2020-01-11 06:00:00                209.049021  \n",
       "2020-01-11 07:00:00                165.468065  \n",
       "2020-01-11 08:00:00                170.879710  \n",
       "2020-01-11 09:00:00                170.860161  \n",
       "2020-01-11 10:00:00                151.179827  \n",
       "2020-01-11 11:00:00                156.617037  \n",
       "2020-01-11 12:00:00                155.417915  \n",
       "2020-01-11 13:00:00                152.567479  \n",
       "2020-01-11 14:00:00                144.683192  \n",
       "2020-01-11 15:00:00                145.199451  \n",
       "2020-01-11 16:00:00                144.421916  \n",
       "2020-01-11 17:00:00                146.828164  "
      ]
     },
     "execution_count": 45,
     "metadata": {},
     "output_type": "execute_result"
    }
   ],
   "source": [
    "test"
   ]
  },
  {
   "cell_type": "markdown",
   "metadata": {},
   "source": [
    "# MIMO"
   ]
  },
  {
   "cell_type": "code",
   "execution_count": 46,
   "metadata": {},
   "outputs": [],
   "source": [
    "def generate_data(data, n_input, n_output):\n",
    "    X, y = [], []\n",
    "    for i in range(0,len(data)-(n_input+n_output)):\n",
    "            X.append(data[i:(i+n_input)])\n",
    "            y.append(data[i+n_input: i+n_input+n_output])\n",
    "    return np.array(X), np.array(y)"
   ]
  },
  {
   "cell_type": "code",
   "execution_count": 47,
   "metadata": {},
   "outputs": [],
   "source": [
    "n_input = 24\n",
    "n_features = 1\n",
    "n_output = len(scaled_test)\n",
    "\n",
    "X, y = generate_data(scaled_train, n_input, n_output)"
   ]
  },
  {
   "cell_type": "code",
   "execution_count": 48,
   "metadata": {},
   "outputs": [],
   "source": [
    "model = Sequential()\n",
    "model.add(LSTM(200, activation='relu', input_shape=(n_input, n_features)))\n",
    "model.add(Dense(n_output))\n",
    "model.compile(optimizer='adam', loss='mse')"
   ]
  },
  {
   "cell_type": "code",
   "execution_count": 49,
   "metadata": {},
   "outputs": [
    {
     "data": {
      "text/plain": [
       "<keras.callbacks.History at 0x2b965729af0>"
      ]
     },
     "execution_count": 49,
     "metadata": {},
     "output_type": "execute_result"
    }
   ],
   "source": [
    "model.fit(X, y, epochs=3, verbose=0)"
   ]
  },
  {
   "cell_type": "code",
   "execution_count": 50,
   "metadata": {},
   "outputs": [
    {
     "name": "stdout",
     "output_type": "stream",
     "text": [
      "Model: \"sequential_49\"\n",
      "_________________________________________________________________\n",
      "Layer (type)                 Output Shape              Param #   \n",
      "=================================================================\n",
      "lstm_49 (LSTM)               (None, 200)               161600    \n",
      "_________________________________________________________________\n",
      "dense_49 (Dense)             (None, 24)                4824      \n",
      "=================================================================\n",
      "Total params: 166,424\n",
      "Trainable params: 166,424\n",
      "Non-trainable params: 0\n",
      "_________________________________________________________________\n"
     ]
    }
   ],
   "source": [
    "model.summary()"
   ]
  },
  {
   "cell_type": "code",
   "execution_count": 51,
   "metadata": {},
   "outputs": [],
   "source": [
    "tX = scaled_train[-n_input:]\n",
    "tX = tX.reshape((1, tX.shape[0], n_features))\n",
    "\n",
    "res = model.predict(tX)\n",
    "\n",
    "res = res.reshape((res.shape[1],1))"
   ]
  },
  {
   "cell_type": "code",
   "execution_count": 52,
   "metadata": {},
   "outputs": [
    {
     "data": {
      "text/plain": [
       "(24, 1)"
      ]
     },
     "execution_count": 52,
     "metadata": {},
     "output_type": "execute_result"
    }
   ],
   "source": [
    "res.shape"
   ]
  },
  {
   "cell_type": "code",
   "execution_count": 53,
   "metadata": {},
   "outputs": [],
   "source": [
    "true_predictions = scaler.inverse_transform(res)\n",
    "\n",
    "test['MIMO_predict'] = true_predictions"
   ]
  },
  {
   "cell_type": "code",
   "execution_count": 54,
   "metadata": {},
   "outputs": [
    {
     "data": {
      "text/html": [
       "<div>\n",
       "<style scoped>\n",
       "    .dataframe tbody tr th:only-of-type {\n",
       "        vertical-align: middle;\n",
       "    }\n",
       "\n",
       "    .dataframe tbody tr th {\n",
       "        vertical-align: top;\n",
       "    }\n",
       "\n",
       "    .dataframe thead th {\n",
       "        text-align: right;\n",
       "    }\n",
       "</style>\n",
       "<table border=\"1\" class=\"dataframe\">\n",
       "  <thead>\n",
       "    <tr style=\"text-align: right;\">\n",
       "      <th></th>\n",
       "      <th>PM2.5</th>\n",
       "      <th>recursive_predict</th>\n",
       "      <th>direct_predict</th>\n",
       "      <th>direct_recursive_predict</th>\n",
       "      <th>MIMO_predict</th>\n",
       "    </tr>\n",
       "    <tr>\n",
       "      <th>date</th>\n",
       "      <th></th>\n",
       "      <th></th>\n",
       "      <th></th>\n",
       "      <th></th>\n",
       "      <th></th>\n",
       "    </tr>\n",
       "  </thead>\n",
       "  <tbody>\n",
       "    <tr>\n",
       "      <th>2020-01-10 18:00:00</th>\n",
       "      <td>152.82</td>\n",
       "      <td>97.508400</td>\n",
       "      <td>105.294335</td>\n",
       "      <td>84.126075</td>\n",
       "      <td>114.530678</td>\n",
       "    </tr>\n",
       "    <tr>\n",
       "      <th>2020-01-10 19:00:00</th>\n",
       "      <td>199.75</td>\n",
       "      <td>99.281175</td>\n",
       "      <td>122.813688</td>\n",
       "      <td>105.966141</td>\n",
       "      <td>136.377213</td>\n",
       "    </tr>\n",
       "    <tr>\n",
       "      <th>2020-01-10 20:00:00</th>\n",
       "      <td>238.45</td>\n",
       "      <td>99.024115</td>\n",
       "      <td>115.464096</td>\n",
       "      <td>103.257897</td>\n",
       "      <td>144.604919</td>\n",
       "    </tr>\n",
       "    <tr>\n",
       "      <th>2020-01-10 21:00:00</th>\n",
       "      <td>173.36</td>\n",
       "      <td>97.434590</td>\n",
       "      <td>152.323176</td>\n",
       "      <td>100.542236</td>\n",
       "      <td>157.933136</td>\n",
       "    </tr>\n",
       "    <tr>\n",
       "      <th>2020-01-10 22:00:00</th>\n",
       "      <td>107.83</td>\n",
       "      <td>94.908253</td>\n",
       "      <td>135.440687</td>\n",
       "      <td>116.020437</td>\n",
       "      <td>167.994446</td>\n",
       "    </tr>\n",
       "    <tr>\n",
       "      <th>2020-01-10 23:00:00</th>\n",
       "      <td>99.25</td>\n",
       "      <td>91.731658</td>\n",
       "      <td>164.775845</td>\n",
       "      <td>128.397555</td>\n",
       "      <td>171.147125</td>\n",
       "    </tr>\n",
       "    <tr>\n",
       "      <th>2020-01-11 00:00:00</th>\n",
       "      <td>96.39</td>\n",
       "      <td>88.133577</td>\n",
       "      <td>131.564395</td>\n",
       "      <td>155.232727</td>\n",
       "      <td>171.783203</td>\n",
       "    </tr>\n",
       "    <tr>\n",
       "      <th>2020-01-11 01:00:00</th>\n",
       "      <td>95.48</td>\n",
       "      <td>84.280602</td>\n",
       "      <td>124.709763</td>\n",
       "      <td>151.263463</td>\n",
       "      <td>170.118774</td>\n",
       "    </tr>\n",
       "    <tr>\n",
       "      <th>2020-01-11 02:00:00</th>\n",
       "      <td>101.92</td>\n",
       "      <td>80.286056</td>\n",
       "      <td>160.606467</td>\n",
       "      <td>155.014665</td>\n",
       "      <td>175.395584</td>\n",
       "    </tr>\n",
       "    <tr>\n",
       "      <th>2020-01-11 03:00:00</th>\n",
       "      <td>119.98</td>\n",
       "      <td>76.218436</td>\n",
       "      <td>151.757925</td>\n",
       "      <td>155.333863</td>\n",
       "      <td>168.025070</td>\n",
       "    </tr>\n",
       "    <tr>\n",
       "      <th>2020-01-11 04:00:00</th>\n",
       "      <td>145.35</td>\n",
       "      <td>72.113223</td>\n",
       "      <td>178.962141</td>\n",
       "      <td>158.302011</td>\n",
       "      <td>170.184708</td>\n",
       "    </tr>\n",
       "    <tr>\n",
       "      <th>2020-01-11 05:00:00</th>\n",
       "      <td>152.75</td>\n",
       "      <td>67.983053</td>\n",
       "      <td>153.881846</td>\n",
       "      <td>156.492773</td>\n",
       "      <td>170.696640</td>\n",
       "    </tr>\n",
       "    <tr>\n",
       "      <th>2020-01-11 06:00:00</th>\n",
       "      <td>174.82</td>\n",
       "      <td>63.826452</td>\n",
       "      <td>141.735389</td>\n",
       "      <td>209.049021</td>\n",
       "      <td>165.956451</td>\n",
       "    </tr>\n",
       "    <tr>\n",
       "      <th>2020-01-11 07:00:00</th>\n",
       "      <td>214.31</td>\n",
       "      <td>59.638320</td>\n",
       "      <td>133.324542</td>\n",
       "      <td>165.468065</td>\n",
       "      <td>158.456100</td>\n",
       "    </tr>\n",
       "    <tr>\n",
       "      <th>2020-01-11 08:00:00</th>\n",
       "      <td>185.48</td>\n",
       "      <td>55.459744</td>\n",
       "      <td>126.799359</td>\n",
       "      <td>170.879710</td>\n",
       "      <td>157.198181</td>\n",
       "    </tr>\n",
       "    <tr>\n",
       "      <th>2020-01-11 09:00:00</th>\n",
       "      <td>122.03</td>\n",
       "      <td>51.264861</td>\n",
       "      <td>162.090839</td>\n",
       "      <td>170.860161</td>\n",
       "      <td>152.903519</td>\n",
       "    </tr>\n",
       "    <tr>\n",
       "      <th>2020-01-11 10:00:00</th>\n",
       "      <td>104.61</td>\n",
       "      <td>46.669377</td>\n",
       "      <td>105.830392</td>\n",
       "      <td>151.179827</td>\n",
       "      <td>149.077499</td>\n",
       "    </tr>\n",
       "    <tr>\n",
       "      <th>2020-01-11 11:00:00</th>\n",
       "      <td>92.43</td>\n",
       "      <td>41.568508</td>\n",
       "      <td>112.530293</td>\n",
       "      <td>156.617037</td>\n",
       "      <td>134.333313</td>\n",
       "    </tr>\n",
       "    <tr>\n",
       "      <th>2020-01-11 12:00:00</th>\n",
       "      <td>93.04</td>\n",
       "      <td>35.995693</td>\n",
       "      <td>101.418749</td>\n",
       "      <td>155.417915</td>\n",
       "      <td>131.278473</td>\n",
       "    </tr>\n",
       "    <tr>\n",
       "      <th>2020-01-11 13:00:00</th>\n",
       "      <td>93.57</td>\n",
       "      <td>30.108418</td>\n",
       "      <td>95.356230</td>\n",
       "      <td>152.567479</td>\n",
       "      <td>121.609306</td>\n",
       "    </tr>\n",
       "    <tr>\n",
       "      <th>2020-01-11 14:00:00</th>\n",
       "      <td>71.30</td>\n",
       "      <td>24.367378</td>\n",
       "      <td>93.288131</td>\n",
       "      <td>144.683192</td>\n",
       "      <td>124.025269</td>\n",
       "    </tr>\n",
       "    <tr>\n",
       "      <th>2020-01-11 15:00:00</th>\n",
       "      <td>68.58</td>\n",
       "      <td>18.892910</td>\n",
       "      <td>100.566349</td>\n",
       "      <td>145.199451</td>\n",
       "      <td>116.375076</td>\n",
       "    </tr>\n",
       "    <tr>\n",
       "      <th>2020-01-11 16:00:00</th>\n",
       "      <td>64.05</td>\n",
       "      <td>13.837547</td>\n",
       "      <td>88.414512</td>\n",
       "      <td>144.421916</td>\n",
       "      <td>118.762077</td>\n",
       "    </tr>\n",
       "    <tr>\n",
       "      <th>2020-01-11 17:00:00</th>\n",
       "      <td>70.56</td>\n",
       "      <td>10.009521</td>\n",
       "      <td>107.697849</td>\n",
       "      <td>146.828164</td>\n",
       "      <td>118.272377</td>\n",
       "    </tr>\n",
       "  </tbody>\n",
       "</table>\n",
       "</div>"
      ],
      "text/plain": [
       "                      PM2.5  recursive_predict  direct_predict  \\\n",
       "date                                                             \n",
       "2020-01-10 18:00:00  152.82          97.508400      105.294335   \n",
       "2020-01-10 19:00:00  199.75          99.281175      122.813688   \n",
       "2020-01-10 20:00:00  238.45          99.024115      115.464096   \n",
       "2020-01-10 21:00:00  173.36          97.434590      152.323176   \n",
       "2020-01-10 22:00:00  107.83          94.908253      135.440687   \n",
       "2020-01-10 23:00:00   99.25          91.731658      164.775845   \n",
       "2020-01-11 00:00:00   96.39          88.133577      131.564395   \n",
       "2020-01-11 01:00:00   95.48          84.280602      124.709763   \n",
       "2020-01-11 02:00:00  101.92          80.286056      160.606467   \n",
       "2020-01-11 03:00:00  119.98          76.218436      151.757925   \n",
       "2020-01-11 04:00:00  145.35          72.113223      178.962141   \n",
       "2020-01-11 05:00:00  152.75          67.983053      153.881846   \n",
       "2020-01-11 06:00:00  174.82          63.826452      141.735389   \n",
       "2020-01-11 07:00:00  214.31          59.638320      133.324542   \n",
       "2020-01-11 08:00:00  185.48          55.459744      126.799359   \n",
       "2020-01-11 09:00:00  122.03          51.264861      162.090839   \n",
       "2020-01-11 10:00:00  104.61          46.669377      105.830392   \n",
       "2020-01-11 11:00:00   92.43          41.568508      112.530293   \n",
       "2020-01-11 12:00:00   93.04          35.995693      101.418749   \n",
       "2020-01-11 13:00:00   93.57          30.108418       95.356230   \n",
       "2020-01-11 14:00:00   71.30          24.367378       93.288131   \n",
       "2020-01-11 15:00:00   68.58          18.892910      100.566349   \n",
       "2020-01-11 16:00:00   64.05          13.837547       88.414512   \n",
       "2020-01-11 17:00:00   70.56          10.009521      107.697849   \n",
       "\n",
       "                     direct_recursive_predict  MIMO_predict  \n",
       "date                                                         \n",
       "2020-01-10 18:00:00                 84.126075    114.530678  \n",
       "2020-01-10 19:00:00                105.966141    136.377213  \n",
       "2020-01-10 20:00:00                103.257897    144.604919  \n",
       "2020-01-10 21:00:00                100.542236    157.933136  \n",
       "2020-01-10 22:00:00                116.020437    167.994446  \n",
       "2020-01-10 23:00:00                128.397555    171.147125  \n",
       "2020-01-11 00:00:00                155.232727    171.783203  \n",
       "2020-01-11 01:00:00                151.263463    170.118774  \n",
       "2020-01-11 02:00:00                155.014665    175.395584  \n",
       "2020-01-11 03:00:00                155.333863    168.025070  \n",
       "2020-01-11 04:00:00                158.302011    170.184708  \n",
       "2020-01-11 05:00:00                156.492773    170.696640  \n",
       "2020-01-11 06:00:00                209.049021    165.956451  \n",
       "2020-01-11 07:00:00                165.468065    158.456100  \n",
       "2020-01-11 08:00:00                170.879710    157.198181  \n",
       "2020-01-11 09:00:00                170.860161    152.903519  \n",
       "2020-01-11 10:00:00                151.179827    149.077499  \n",
       "2020-01-11 11:00:00                156.617037    134.333313  \n",
       "2020-01-11 12:00:00                155.417915    131.278473  \n",
       "2020-01-11 13:00:00                152.567479    121.609306  \n",
       "2020-01-11 14:00:00                144.683192    124.025269  \n",
       "2020-01-11 15:00:00                145.199451    116.375076  \n",
       "2020-01-11 16:00:00                144.421916    118.762077  \n",
       "2020-01-11 17:00:00                146.828164    118.272377  "
      ]
     },
     "execution_count": 54,
     "metadata": {},
     "output_type": "execute_result"
    }
   ],
   "source": [
    "test"
   ]
  },
  {
   "cell_type": "code",
   "execution_count": 55,
   "metadata": {},
   "outputs": [
    {
     "data": {
      "text/plain": [
       "<AxesSubplot:xlabel='date'>"
      ]
     },
     "execution_count": 55,
     "metadata": {},
     "output_type": "execute_result"
    },
    {
     "data": {
      "image/png": "[encoded data removed]",
      "text/plain": [
       "<Figure size 432x288 with 1 Axes>"
      ]
     },
     "metadata": {
      "needs_background": "light"
     },
     "output_type": "display_data"
    }
   ],
   "source": [
    "test.plot()"
   ]
  },
  {
   "cell_type": "code",
   "execution_count": 56,
   "metadata": {},
   "outputs": [
    {
     "name": "stdout",
     "output_type": "stream",
     "text": [
      "51.83468699759117\n"
     ]
    }
   ],
   "source": [
    "rmse = sqrt(mean_squared_error(test['PM2.5'], test['MIMO_predict']))\n",
    "print(rmse)"
   ]
  },
  {
   "cell_type": "markdown",
   "metadata": {},
   "source": [
    "# Direct MIMO"
   ]
  },
  {
   "cell_type": "code",
   "execution_count": 57,
   "metadata": {},
   "outputs": [],
   "source": [
    "def generate_data(data, n_input, q_no, n_output):\n",
    "    X, y = [], []\n",
    "    for i in range(0,len(data)-(n_input + ((q_no-1)*n_output) + n_output)):\n",
    "            X.append(data[i:(i+n_input)])\n",
    "            y.append(data[i+n_input+((q_no-1)*n_output): i+n_input+((q_no-1)*n_output) + n_output])\n",
    "    return np.array(X), np.array(y)"
   ]
  },
  {
   "cell_type": "code",
   "execution_count": 58,
   "metadata": {},
   "outputs": [],
   "source": [
    "def model_predict(train_data, n_input, n_features, q_no, n_output):\n",
    "    \n",
    "    model = Sequential()\n",
    "    model.add(LSTM(200, activation='relu', input_shape=(n_input, n_features)))\n",
    "    model.add(Dense(n_output))\n",
    "    model.compile(optimizer='adam', loss='mse')\n",
    "    \n",
    "    X, y = generate_data(train_data, n_input, q_no, n_output)\n",
    "    \n",
    "    model.fit(X, y, epochs=3, verbose=0)\n",
    "    \n",
    "    tX = train_data[-n_input:]\n",
    "    \n",
    "    tX = tX.reshape((1, n_input, n_features))\n",
    "    \n",
    "    res = model.predict(tX)\n",
    "    \n",
    "    return res"
   ]
  },
  {
   "cell_type": "code",
   "execution_count": 59,
   "metadata": {},
   "outputs": [
    {
     "data": {
      "text/plain": [
       "[array([[0.15134218, 0.15751542, 0.15620682, 0.15714797, 0.15786693,\n",
       "         0.16806997]], dtype=float32),\n",
       " array([[0.21080735, 0.21630871, 0.2178929 , 0.21435559, 0.21608041,\n",
       "         0.22576731]], dtype=float32),\n",
       " array([[0.19181749, 0.19476914, 0.2006101 , 0.20394443, 0.19754007,\n",
       "         0.2001457 ]], dtype=float32),\n",
       " array([[0.1447088 , 0.13293263, 0.14366351, 0.14140585, 0.13908301,\n",
       "         0.13740514]], dtype=float32),\n",
       " array([[0.17592882, 0.17795551, 0.1849135 , 0.18346827, 0.18381971,\n",
       "         0.18152133]], dtype=float32),\n",
       " array([[0.20043384, 0.20486231, 0.2075672 , 0.20156066, 0.20828491,\n",
       "         0.21214594]], dtype=float32)]"
      ]
     },
     "execution_count": 59,
     "metadata": {},
     "output_type": "execute_result"
    }
   ],
   "source": [
    "n_input = 12\n",
    "n_features = 1\n",
    "test_predictions = []\n",
    "\n",
    "q = int(len(scaled_test)/4)\n",
    "\n",
    "n_output = q\n",
    "\n",
    "for i in range(q):\n",
    "    pred = model_predict(scaled_train,n_input, n_features, i+1, n_output)\n",
    "    test_predictions.append(pred)\n",
    "\n",
    "test_predictions"
   ]
  },
  {
   "cell_type": "code",
   "execution_count": 60,
   "metadata": {},
   "outputs": [],
   "source": [
    "res = []\n",
    "\n",
    "for i in test_predictions:\n",
    "    for j in i:\n",
    "        for k in j:\n",
    "            res.append(k)"
   ]
  },
  {
   "cell_type": "code",
   "execution_count": 61,
   "metadata": {},
   "outputs": [
    {
     "data": {
      "text/plain": [
       "(24, 1)"
      ]
     },
     "execution_count": 61,
     "metadata": {},
     "output_type": "execute_result"
    }
   ],
   "source": [
    "res = np.array(res[:len(scaled_test)])\n",
    "res = res.reshape((res.shape[0],1))\n",
    "res.shape"
   ]
  },
  {
   "cell_type": "code",
   "execution_count": 62,
   "metadata": {},
   "outputs": [],
   "source": [
    "true_predictions = scaler.inverse_transform(res)\n",
    "\n",
    "test['Direct_MIMO_predict'] = true_predictions"
   ]
  },
  {
   "cell_type": "code",
   "execution_count": 63,
   "metadata": {},
   "outputs": [
    {
     "data": {
      "text/html": [
       "<div>\n",
       "<style scoped>\n",
       "    .dataframe tbody tr th:only-of-type {\n",
       "        vertical-align: middle;\n",
       "    }\n",
       "\n",
       "    .dataframe tbody tr th {\n",
       "        vertical-align: top;\n",
       "    }\n",
       "\n",
       "    .dataframe thead th {\n",
       "        text-align: right;\n",
       "    }\n",
       "</style>\n",
       "<table border=\"1\" class=\"dataframe\">\n",
       "  <thead>\n",
       "    <tr style=\"text-align: right;\">\n",
       "      <th></th>\n",
       "      <th>PM2.5</th>\n",
       "      <th>recursive_predict</th>\n",
       "      <th>direct_predict</th>\n",
       "      <th>direct_recursive_predict</th>\n",
       "      <th>MIMO_predict</th>\n",
       "      <th>Direct_MIMO_predict</th>\n",
       "    </tr>\n",
       "    <tr>\n",
       "      <th>date</th>\n",
       "      <th></th>\n",
       "      <th></th>\n",
       "      <th></th>\n",
       "      <th></th>\n",
       "      <th></th>\n",
       "      <th></th>\n",
       "    </tr>\n",
       "  </thead>\n",
       "  <tbody>\n",
       "    <tr>\n",
       "      <th>2020-01-10 18:00:00</th>\n",
       "      <td>152.82</td>\n",
       "      <td>97.508400</td>\n",
       "      <td>105.294335</td>\n",
       "      <td>84.126075</td>\n",
       "      <td>114.530678</td>\n",
       "      <td>104.740639</td>\n",
       "    </tr>\n",
       "    <tr>\n",
       "      <th>2020-01-10 19:00:00</th>\n",
       "      <td>199.75</td>\n",
       "      <td>99.281175</td>\n",
       "      <td>122.813688</td>\n",
       "      <td>105.966141</td>\n",
       "      <td>136.377213</td>\n",
       "      <td>108.860039</td>\n",
       "    </tr>\n",
       "    <tr>\n",
       "      <th>2020-01-10 20:00:00</th>\n",
       "      <td>238.45</td>\n",
       "      <td>99.024115</td>\n",
       "      <td>115.464096</td>\n",
       "      <td>103.257897</td>\n",
       "      <td>144.604919</td>\n",
       "      <td>107.986809</td>\n",
       "    </tr>\n",
       "    <tr>\n",
       "      <th>2020-01-10 21:00:00</th>\n",
       "      <td>173.36</td>\n",
       "      <td>97.434590</td>\n",
       "      <td>152.323176</td>\n",
       "      <td>100.542236</td>\n",
       "      <td>157.933136</td>\n",
       "      <td>108.614845</td>\n",
       "    </tr>\n",
       "    <tr>\n",
       "      <th>2020-01-10 22:00:00</th>\n",
       "      <td>107.83</td>\n",
       "      <td>94.908253</td>\n",
       "      <td>135.440687</td>\n",
       "      <td>116.020437</td>\n",
       "      <td>167.994446</td>\n",
       "      <td>109.094597</td>\n",
       "    </tr>\n",
       "    <tr>\n",
       "      <th>2020-01-10 23:00:00</th>\n",
       "      <td>99.25</td>\n",
       "      <td>91.731658</td>\n",
       "      <td>164.775845</td>\n",
       "      <td>128.397555</td>\n",
       "      <td>171.147125</td>\n",
       "      <td>115.903091</td>\n",
       "    </tr>\n",
       "    <tr>\n",
       "      <th>2020-01-11 00:00:00</th>\n",
       "      <td>96.39</td>\n",
       "      <td>88.133577</td>\n",
       "      <td>131.564395</td>\n",
       "      <td>155.232727</td>\n",
       "      <td>171.783203</td>\n",
       "      <td>144.421753</td>\n",
       "    </tr>\n",
       "    <tr>\n",
       "      <th>2020-01-11 01:00:00</th>\n",
       "      <td>95.48</td>\n",
       "      <td>84.280602</td>\n",
       "      <td>124.709763</td>\n",
       "      <td>151.263463</td>\n",
       "      <td>170.118774</td>\n",
       "      <td>148.092804</td>\n",
       "    </tr>\n",
       "    <tr>\n",
       "      <th>2020-01-11 02:00:00</th>\n",
       "      <td>101.92</td>\n",
       "      <td>80.286056</td>\n",
       "      <td>160.606467</td>\n",
       "      <td>155.014665</td>\n",
       "      <td>175.395584</td>\n",
       "      <td>149.149933</td>\n",
       "    </tr>\n",
       "    <tr>\n",
       "      <th>2020-01-11 03:00:00</th>\n",
       "      <td>119.98</td>\n",
       "      <td>76.218436</td>\n",
       "      <td>151.757925</td>\n",
       "      <td>155.333863</td>\n",
       "      <td>168.025070</td>\n",
       "      <td>146.789490</td>\n",
       "    </tr>\n",
       "    <tr>\n",
       "      <th>2020-01-11 04:00:00</th>\n",
       "      <td>145.35</td>\n",
       "      <td>72.113223</td>\n",
       "      <td>178.962141</td>\n",
       "      <td>158.302011</td>\n",
       "      <td>170.184708</td>\n",
       "      <td>147.940460</td>\n",
       "    </tr>\n",
       "    <tr>\n",
       "      <th>2020-01-11 05:00:00</th>\n",
       "      <td>152.75</td>\n",
       "      <td>67.983053</td>\n",
       "      <td>153.881846</td>\n",
       "      <td>156.492773</td>\n",
       "      <td>170.696640</td>\n",
       "      <td>154.404526</td>\n",
       "    </tr>\n",
       "    <tr>\n",
       "      <th>2020-01-11 06:00:00</th>\n",
       "      <td>174.82</td>\n",
       "      <td>63.826452</td>\n",
       "      <td>141.735389</td>\n",
       "      <td>209.049021</td>\n",
       "      <td>165.956451</td>\n",
       "      <td>131.749817</td>\n",
       "    </tr>\n",
       "    <tr>\n",
       "      <th>2020-01-11 07:00:00</th>\n",
       "      <td>214.31</td>\n",
       "      <td>59.638320</td>\n",
       "      <td>133.324542</td>\n",
       "      <td>165.468065</td>\n",
       "      <td>158.456100</td>\n",
       "      <td>133.719452</td>\n",
       "    </tr>\n",
       "    <tr>\n",
       "      <th>2020-01-11 08:00:00</th>\n",
       "      <td>185.48</td>\n",
       "      <td>55.459744</td>\n",
       "      <td>126.799359</td>\n",
       "      <td>170.879710</td>\n",
       "      <td>157.198181</td>\n",
       "      <td>137.617126</td>\n",
       "    </tr>\n",
       "    <tr>\n",
       "      <th>2020-01-11 09:00:00</th>\n",
       "      <td>122.03</td>\n",
       "      <td>51.264861</td>\n",
       "      <td>162.090839</td>\n",
       "      <td>170.860161</td>\n",
       "      <td>152.903519</td>\n",
       "      <td>139.842117</td>\n",
       "    </tr>\n",
       "    <tr>\n",
       "      <th>2020-01-11 10:00:00</th>\n",
       "      <td>104.61</td>\n",
       "      <td>46.669377</td>\n",
       "      <td>105.830392</td>\n",
       "      <td>151.179827</td>\n",
       "      <td>149.077499</td>\n",
       "      <td>135.568497</td>\n",
       "    </tr>\n",
       "    <tr>\n",
       "      <th>2020-01-11 11:00:00</th>\n",
       "      <td>92.43</td>\n",
       "      <td>41.568508</td>\n",
       "      <td>112.530293</td>\n",
       "      <td>156.617037</td>\n",
       "      <td>134.333313</td>\n",
       "      <td>137.307236</td>\n",
       "    </tr>\n",
       "    <tr>\n",
       "      <th>2020-01-11 12:00:00</th>\n",
       "      <td>93.04</td>\n",
       "      <td>35.995693</td>\n",
       "      <td>101.418749</td>\n",
       "      <td>155.417915</td>\n",
       "      <td>131.278473</td>\n",
       "      <td>100.314178</td>\n",
       "    </tr>\n",
       "    <tr>\n",
       "      <th>2020-01-11 13:00:00</th>\n",
       "      <td>93.57</td>\n",
       "      <td>30.108418</td>\n",
       "      <td>95.356230</td>\n",
       "      <td>152.567479</td>\n",
       "      <td>121.609306</td>\n",
       "      <td>92.455948</td>\n",
       "    </tr>\n",
       "    <tr>\n",
       "      <th>2020-01-11 14:00:00</th>\n",
       "      <td>71.30</td>\n",
       "      <td>24.367378</td>\n",
       "      <td>93.288131</td>\n",
       "      <td>144.683192</td>\n",
       "      <td>124.025269</td>\n",
       "      <td>99.616661</td>\n",
       "    </tr>\n",
       "    <tr>\n",
       "      <th>2020-01-11 15:00:00</th>\n",
       "      <td>68.58</td>\n",
       "      <td>18.892910</td>\n",
       "      <td>100.566349</td>\n",
       "      <td>145.199451</td>\n",
       "      <td>116.375076</td>\n",
       "      <td>98.110123</td>\n",
       "    </tr>\n",
       "    <tr>\n",
       "      <th>2020-01-11 16:00:00</th>\n",
       "      <td>64.05</td>\n",
       "      <td>13.837547</td>\n",
       "      <td>88.414512</td>\n",
       "      <td>144.421916</td>\n",
       "      <td>118.762077</td>\n",
       "      <td>96.560097</td>\n",
       "    </tr>\n",
       "    <tr>\n",
       "      <th>2020-01-11 17:00:00</th>\n",
       "      <td>70.56</td>\n",
       "      <td>10.009521</td>\n",
       "      <td>107.697849</td>\n",
       "      <td>146.828164</td>\n",
       "      <td>118.272377</td>\n",
       "      <td>95.440453</td>\n",
       "    </tr>\n",
       "  </tbody>\n",
       "</table>\n",
       "</div>"
      ],
      "text/plain": [
       "                      PM2.5  recursive_predict  direct_predict  \\\n",
       "date                                                             \n",
       "2020-01-10 18:00:00  152.82          97.508400      105.294335   \n",
       "2020-01-10 19:00:00  199.75          99.281175      122.813688   \n",
       "2020-01-10 20:00:00  238.45          99.024115      115.464096   \n",
       "2020-01-10 21:00:00  173.36          97.434590      152.323176   \n",
       "2020-01-10 22:00:00  107.83          94.908253      135.440687   \n",
       "2020-01-10 23:00:00   99.25          91.731658      164.775845   \n",
       "2020-01-11 00:00:00   96.39          88.133577      131.564395   \n",
       "2020-01-11 01:00:00   95.48          84.280602      124.709763   \n",
       "2020-01-11 02:00:00  101.92          80.286056      160.606467   \n",
       "2020-01-11 03:00:00  119.98          76.218436      151.757925   \n",
       "2020-01-11 04:00:00  145.35          72.113223      178.962141   \n",
       "2020-01-11 05:00:00  152.75          67.983053      153.881846   \n",
       "2020-01-11 06:00:00  174.82          63.826452      141.735389   \n",
       "2020-01-11 07:00:00  214.31          59.638320      133.324542   \n",
       "2020-01-11 08:00:00  185.48          55.459744      126.799359   \n",
       "2020-01-11 09:00:00  122.03          51.264861      162.090839   \n",
       "2020-01-11 10:00:00  104.61          46.669377      105.830392   \n",
       "2020-01-11 11:00:00   92.43          41.568508      112.530293   \n",
       "2020-01-11 12:00:00   93.04          35.995693      101.418749   \n",
       "2020-01-11 13:00:00   93.57          30.108418       95.356230   \n",
       "2020-01-11 14:00:00   71.30          24.367378       93.288131   \n",
       "2020-01-11 15:00:00   68.58          18.892910      100.566349   \n",
       "2020-01-11 16:00:00   64.05          13.837547       88.414512   \n",
       "2020-01-11 17:00:00   70.56          10.009521      107.697849   \n",
       "\n",
       "                     direct_recursive_predict  MIMO_predict  \\\n",
       "date                                                          \n",
       "2020-01-10 18:00:00                 84.126075    114.530678   \n",
       "2020-01-10 19:00:00                105.966141    136.377213   \n",
       "2020-01-10 20:00:00                103.257897    144.604919   \n",
       "2020-01-10 21:00:00                100.542236    157.933136   \n",
       "2020-01-10 22:00:00                116.020437    167.994446   \n",
       "2020-01-10 23:00:00                128.397555    171.147125   \n",
       "2020-01-11 00:00:00                155.232727    171.783203   \n",
       "2020-01-11 01:00:00                151.263463    170.118774   \n",
       "2020-01-11 02:00:00                155.014665    175.395584   \n",
       "2020-01-11 03:00:00                155.333863    168.025070   \n",
       "2020-01-11 04:00:00                158.302011    170.184708   \n",
       "2020-01-11 05:00:00                156.492773    170.696640   \n",
       "2020-01-11 06:00:00                209.049021    165.956451   \n",
       "2020-01-11 07:00:00                165.468065    158.456100   \n",
       "2020-01-11 08:00:00                170.879710    157.198181   \n",
       "2020-01-11 09:00:00                170.860161    152.903519   \n",
       "2020-01-11 10:00:00                151.179827    149.077499   \n",
       "2020-01-11 11:00:00                156.617037    134.333313   \n",
       "2020-01-11 12:00:00                155.417915    131.278473   \n",
       "2020-01-11 13:00:00                152.567479    121.609306   \n",
       "2020-01-11 14:00:00                144.683192    124.025269   \n",
       "2020-01-11 15:00:00                145.199451    116.375076   \n",
       "2020-01-11 16:00:00                144.421916    118.762077   \n",
       "2020-01-11 17:00:00                146.828164    118.272377   \n",
       "\n",
       "                     Direct_MIMO_predict  \n",
       "date                                      \n",
       "2020-01-10 18:00:00           104.740639  \n",
       "2020-01-10 19:00:00           108.860039  \n",
       "2020-01-10 20:00:00           107.986809  \n",
       "2020-01-10 21:00:00           108.614845  \n",
       "2020-01-10 22:00:00           109.094597  \n",
       "2020-01-10 23:00:00           115.903091  \n",
       "2020-01-11 00:00:00           144.421753  \n",
       "2020-01-11 01:00:00           148.092804  \n",
       "2020-01-11 02:00:00           149.149933  \n",
       "2020-01-11 03:00:00           146.789490  \n",
       "2020-01-11 04:00:00           147.940460  \n",
       "2020-01-11 05:00:00           154.404526  \n",
       "2020-01-11 06:00:00           131.749817  \n",
       "2020-01-11 07:00:00           133.719452  \n",
       "2020-01-11 08:00:00           137.617126  \n",
       "2020-01-11 09:00:00           139.842117  \n",
       "2020-01-11 10:00:00           135.568497  \n",
       "2020-01-11 11:00:00           137.307236  \n",
       "2020-01-11 12:00:00           100.314178  \n",
       "2020-01-11 13:00:00            92.455948  \n",
       "2020-01-11 14:00:00            99.616661  \n",
       "2020-01-11 15:00:00            98.110123  \n",
       "2020-01-11 16:00:00            96.560097  \n",
       "2020-01-11 17:00:00            95.440453  "
      ]
     },
     "execution_count": 63,
     "metadata": {},
     "output_type": "execute_result"
    }
   ],
   "source": [
    "test"
   ]
  },
  {
   "cell_type": "code",
   "execution_count": 64,
   "metadata": {},
   "outputs": [
    {
     "data": {
      "text/plain": [
       "<AxesSubplot:xlabel='date'>"
      ]
     },
     "execution_count": 64,
     "metadata": {},
     "output_type": "execute_result"
    },
    {
     "data": {
      "image/png": "[encoded data removed]",
      "text/plain": [
       "<Figure size 432x288 with 1 Axes>"
      ]
     },
     "metadata": {
      "needs_background": "light"
     },
     "output_type": "display_data"
    }
   ],
   "source": [
    "test.plot()"
   ]
  },
  {
   "cell_type": "code",
   "execution_count": 65,
   "metadata": {},
   "outputs": [
    {
     "name": "stdout",
     "output_type": "stream",
     "text": [
      "48.91850847998071\n"
     ]
    }
   ],
   "source": [
    "rmse = sqrt(mean_squared_error(test['PM2.5'], test['Direct_MIMO_predict']))\n",
    "print(rmse)"
   ]
  },
  {
   "cell_type": "code",
   "execution_count": 66,
   "metadata": {},
   "outputs": [],
   "source": [
    "rec_err = abs(test['PM2.5'] - test['recursive_predict'])\n",
    "dir_err = abs(test['PM2.5'] - test['direct_predict'])\n",
    "dir_rec_err = abs(test['PM2.5'] - test['direct_recursive_predict'])\n",
    "mimo_err = abs(test['PM2.5'] - test['MIMO_predict'])\n",
    "dir_mimo_err = abs(test['PM2.5'] - test['Direct_MIMO_predict'])"
   ]
  },
  {
   "cell_type": "code",
   "execution_count": 67,
   "metadata": {},
   "outputs": [],
   "source": [
    "errors = pd.DataFrame({\n",
    "    'Recursive':rec_err,\n",
    "    'Direct':dir_err,\n",
    "    'Direct Recursive':dir_rec_err,\n",
    "    'MIMO':mimo_err,\n",
    "    'Direct MIMO':dir_mimo_err\n",
    "})"
   ]
  },
  {
   "cell_type": "code",
   "execution_count": 68,
   "metadata": {},
   "outputs": [
    {
     "data": {
      "text/html": [
       "<div>\n",
       "<style scoped>\n",
       "    .dataframe tbody tr th:only-of-type {\n",
       "        vertical-align: middle;\n",
       "    }\n",
       "\n",
       "    .dataframe tbody tr th {\n",
       "        vertical-align: top;\n",
       "    }\n",
       "\n",
       "    .dataframe thead th {\n",
       "        text-align: right;\n",
       "    }\n",
       "</style>\n",
       "<table border=\"1\" class=\"dataframe\">\n",
       "  <thead>\n",
       "    <tr style=\"text-align: right;\">\n",
       "      <th></th>\n",
       "      <th>Recursive</th>\n",
       "      <th>Direct</th>\n",
       "      <th>Direct Recursive</th>\n",
       "      <th>MIMO</th>\n",
       "      <th>Direct MIMO</th>\n",
       "    </tr>\n",
       "    <tr>\n",
       "      <th>date</th>\n",
       "      <th></th>\n",
       "      <th></th>\n",
       "      <th></th>\n",
       "      <th></th>\n",
       "      <th></th>\n",
       "    </tr>\n",
       "  </thead>\n",
       "  <tbody>\n",
       "    <tr>\n",
       "      <th>2020-01-10 18:00:00</th>\n",
       "      <td>55.311600</td>\n",
       "      <td>47.525665</td>\n",
       "      <td>68.693925</td>\n",
       "      <td>38.289322</td>\n",
       "      <td>48.079361</td>\n",
       "    </tr>\n",
       "    <tr>\n",
       "      <th>2020-01-10 19:00:00</th>\n",
       "      <td>100.468825</td>\n",
       "      <td>76.936312</td>\n",
       "      <td>93.783859</td>\n",
       "      <td>63.372787</td>\n",
       "      <td>90.889961</td>\n",
       "    </tr>\n",
       "    <tr>\n",
       "      <th>2020-01-10 20:00:00</th>\n",
       "      <td>139.425885</td>\n",
       "      <td>122.985904</td>\n",
       "      <td>135.192103</td>\n",
       "      <td>93.845081</td>\n",
       "      <td>130.463191</td>\n",
       "    </tr>\n",
       "    <tr>\n",
       "      <th>2020-01-10 21:00:00</th>\n",
       "      <td>75.925410</td>\n",
       "      <td>21.036824</td>\n",
       "      <td>72.817764</td>\n",
       "      <td>15.426864</td>\n",
       "      <td>64.745155</td>\n",
       "    </tr>\n",
       "    <tr>\n",
       "      <th>2020-01-10 22:00:00</th>\n",
       "      <td>12.921747</td>\n",
       "      <td>27.610687</td>\n",
       "      <td>8.190437</td>\n",
       "      <td>60.164446</td>\n",
       "      <td>1.264597</td>\n",
       "    </tr>\n",
       "    <tr>\n",
       "      <th>2020-01-10 23:00:00</th>\n",
       "      <td>7.518342</td>\n",
       "      <td>65.525845</td>\n",
       "      <td>29.147555</td>\n",
       "      <td>71.897125</td>\n",
       "      <td>16.653091</td>\n",
       "    </tr>\n",
       "    <tr>\n",
       "      <th>2020-01-11 00:00:00</th>\n",
       "      <td>8.256423</td>\n",
       "      <td>35.174395</td>\n",
       "      <td>58.842727</td>\n",
       "      <td>75.393203</td>\n",
       "      <td>48.031753</td>\n",
       "    </tr>\n",
       "    <tr>\n",
       "      <th>2020-01-11 01:00:00</th>\n",
       "      <td>11.199398</td>\n",
       "      <td>29.229763</td>\n",
       "      <td>55.783463</td>\n",
       "      <td>74.638774</td>\n",
       "      <td>52.612804</td>\n",
       "    </tr>\n",
       "    <tr>\n",
       "      <th>2020-01-11 02:00:00</th>\n",
       "      <td>21.633944</td>\n",
       "      <td>58.686467</td>\n",
       "      <td>53.094665</td>\n",
       "      <td>73.475584</td>\n",
       "      <td>47.229933</td>\n",
       "    </tr>\n",
       "    <tr>\n",
       "      <th>2020-01-11 03:00:00</th>\n",
       "      <td>43.761564</td>\n",
       "      <td>31.777925</td>\n",
       "      <td>35.353863</td>\n",
       "      <td>48.045070</td>\n",
       "      <td>26.809490</td>\n",
       "    </tr>\n",
       "    <tr>\n",
       "      <th>2020-01-11 04:00:00</th>\n",
       "      <td>73.236777</td>\n",
       "      <td>33.612141</td>\n",
       "      <td>12.952011</td>\n",
       "      <td>24.834708</td>\n",
       "      <td>2.590460</td>\n",
       "    </tr>\n",
       "    <tr>\n",
       "      <th>2020-01-11 05:00:00</th>\n",
       "      <td>84.766947</td>\n",
       "      <td>1.131846</td>\n",
       "      <td>3.742773</td>\n",
       "      <td>17.946640</td>\n",
       "      <td>1.654526</td>\n",
       "    </tr>\n",
       "    <tr>\n",
       "      <th>2020-01-11 06:00:00</th>\n",
       "      <td>110.993548</td>\n",
       "      <td>33.084611</td>\n",
       "      <td>34.229021</td>\n",
       "      <td>8.863549</td>\n",
       "      <td>43.070183</td>\n",
       "    </tr>\n",
       "    <tr>\n",
       "      <th>2020-01-11 07:00:00</th>\n",
       "      <td>154.671680</td>\n",
       "      <td>80.985458</td>\n",
       "      <td>48.841935</td>\n",
       "      <td>55.853900</td>\n",
       "      <td>80.590548</td>\n",
       "    </tr>\n",
       "    <tr>\n",
       "      <th>2020-01-11 08:00:00</th>\n",
       "      <td>130.020256</td>\n",
       "      <td>58.680641</td>\n",
       "      <td>14.600290</td>\n",
       "      <td>28.281819</td>\n",
       "      <td>47.862874</td>\n",
       "    </tr>\n",
       "    <tr>\n",
       "      <th>2020-01-11 09:00:00</th>\n",
       "      <td>70.765139</td>\n",
       "      <td>40.060839</td>\n",
       "      <td>48.830161</td>\n",
       "      <td>30.873519</td>\n",
       "      <td>17.812117</td>\n",
       "    </tr>\n",
       "    <tr>\n",
       "      <th>2020-01-11 10:00:00</th>\n",
       "      <td>57.940623</td>\n",
       "      <td>1.220392</td>\n",
       "      <td>46.569827</td>\n",
       "      <td>44.467499</td>\n",
       "      <td>30.958497</td>\n",
       "    </tr>\n",
       "    <tr>\n",
       "      <th>2020-01-11 11:00:00</th>\n",
       "      <td>50.861492</td>\n",
       "      <td>20.100293</td>\n",
       "      <td>64.187037</td>\n",
       "      <td>41.903313</td>\n",
       "      <td>44.877236</td>\n",
       "    </tr>\n",
       "    <tr>\n",
       "      <th>2020-01-11 12:00:00</th>\n",
       "      <td>57.044307</td>\n",
       "      <td>8.378749</td>\n",
       "      <td>62.377915</td>\n",
       "      <td>38.238473</td>\n",
       "      <td>7.274178</td>\n",
       "    </tr>\n",
       "    <tr>\n",
       "      <th>2020-01-11 13:00:00</th>\n",
       "      <td>63.461582</td>\n",
       "      <td>1.786230</td>\n",
       "      <td>58.997479</td>\n",
       "      <td>28.039306</td>\n",
       "      <td>1.114052</td>\n",
       "    </tr>\n",
       "    <tr>\n",
       "      <th>2020-01-11 14:00:00</th>\n",
       "      <td>46.932622</td>\n",
       "      <td>21.988131</td>\n",
       "      <td>73.383192</td>\n",
       "      <td>52.725269</td>\n",
       "      <td>28.316661</td>\n",
       "    </tr>\n",
       "    <tr>\n",
       "      <th>2020-01-11 15:00:00</th>\n",
       "      <td>49.687090</td>\n",
       "      <td>31.986349</td>\n",
       "      <td>76.619451</td>\n",
       "      <td>47.795076</td>\n",
       "      <td>29.530123</td>\n",
       "    </tr>\n",
       "    <tr>\n",
       "      <th>2020-01-11 16:00:00</th>\n",
       "      <td>50.212453</td>\n",
       "      <td>24.364512</td>\n",
       "      <td>80.371916</td>\n",
       "      <td>54.712077</td>\n",
       "      <td>32.510097</td>\n",
       "    </tr>\n",
       "    <tr>\n",
       "      <th>2020-01-11 17:00:00</th>\n",
       "      <td>60.550479</td>\n",
       "      <td>37.137849</td>\n",
       "      <td>76.268164</td>\n",
       "      <td>47.712377</td>\n",
       "      <td>24.880453</td>\n",
       "    </tr>\n",
       "  </tbody>\n",
       "</table>\n",
       "</div>"
      ],
      "text/plain": [
       "                      Recursive      Direct  Direct Recursive       MIMO  \\\n",
       "date                                                                       \n",
       "2020-01-10 18:00:00   55.311600   47.525665         68.693925  38.289322   \n",
       "2020-01-10 19:00:00  100.468825   76.936312         93.783859  63.372787   \n",
       "2020-01-10 20:00:00  139.425885  122.985904        135.192103  93.845081   \n",
       "2020-01-10 21:00:00   75.925410   21.036824         72.817764  15.426864   \n",
       "2020-01-10 22:00:00   12.921747   27.610687          8.190437  60.164446   \n",
       "2020-01-10 23:00:00    7.518342   65.525845         29.147555  71.897125   \n",
       "2020-01-11 00:00:00    8.256423   35.174395         58.842727  75.393203   \n",
       "2020-01-11 01:00:00   11.199398   29.229763         55.783463  74.638774   \n",
       "2020-01-11 02:00:00   21.633944   58.686467         53.094665  73.475584   \n",
       "2020-01-11 03:00:00   43.761564   31.777925         35.353863  48.045070   \n",
       "2020-01-11 04:00:00   73.236777   33.612141         12.952011  24.834708   \n",
       "2020-01-11 05:00:00   84.766947    1.131846          3.742773  17.946640   \n",
       "2020-01-11 06:00:00  110.993548   33.084611         34.229021   8.863549   \n",
       "2020-01-11 07:00:00  154.671680   80.985458         48.841935  55.853900   \n",
       "2020-01-11 08:00:00  130.020256   58.680641         14.600290  28.281819   \n",
       "2020-01-11 09:00:00   70.765139   40.060839         48.830161  30.873519   \n",
       "2020-01-11 10:00:00   57.940623    1.220392         46.569827  44.467499   \n",
       "2020-01-11 11:00:00   50.861492   20.100293         64.187037  41.903313   \n",
       "2020-01-11 12:00:00   57.044307    8.378749         62.377915  38.238473   \n",
       "2020-01-11 13:00:00   63.461582    1.786230         58.997479  28.039306   \n",
       "2020-01-11 14:00:00   46.932622   21.988131         73.383192  52.725269   \n",
       "2020-01-11 15:00:00   49.687090   31.986349         76.619451  47.795076   \n",
       "2020-01-11 16:00:00   50.212453   24.364512         80.371916  54.712077   \n",
       "2020-01-11 17:00:00   60.550479   37.137849         76.268164  47.712377   \n",
       "\n",
       "                     Direct MIMO  \n",
       "date                              \n",
       "2020-01-10 18:00:00    48.079361  \n",
       "2020-01-10 19:00:00    90.889961  \n",
       "2020-01-10 20:00:00   130.463191  \n",
       "2020-01-10 21:00:00    64.745155  \n",
       "2020-01-10 22:00:00     1.264597  \n",
       "2020-01-10 23:00:00    16.653091  \n",
       "2020-01-11 00:00:00    48.031753  \n",
       "2020-01-11 01:00:00    52.612804  \n",
       "2020-01-11 02:00:00    47.229933  \n",
       "2020-01-11 03:00:00    26.809490  \n",
       "2020-01-11 04:00:00     2.590460  \n",
       "2020-01-11 05:00:00     1.654526  \n",
       "2020-01-11 06:00:00    43.070183  \n",
       "2020-01-11 07:00:00    80.590548  \n",
       "2020-01-11 08:00:00    47.862874  \n",
       "2020-01-11 09:00:00    17.812117  \n",
       "2020-01-11 10:00:00    30.958497  \n",
       "2020-01-11 11:00:00    44.877236  \n",
       "2020-01-11 12:00:00     7.274178  \n",
       "2020-01-11 13:00:00     1.114052  \n",
       "2020-01-11 14:00:00    28.316661  \n",
       "2020-01-11 15:00:00    29.530123  \n",
       "2020-01-11 16:00:00    32.510097  \n",
       "2020-01-11 17:00:00    24.880453  "
      ]
     },
     "execution_count": 68,
     "metadata": {},
     "output_type": "execute_result"
    }
   ],
   "source": [
    "errors"
   ]
  },
  {
   "cell_type": "code",
   "execution_count": 69,
   "metadata": {},
   "outputs": [
    {
     "data": {
      "text/plain": [
       "<AxesSubplot:xlabel='date'>"
      ]
     },
     "execution_count": 69,
     "metadata": {},
     "output_type": "execute_result"
    },
    {
     "data": {
      "image/png": "[encoded data removed]",
      "text/plain": [
       "<Figure size 432x288 with 1 Axes>"
      ]
     },
     "metadata": {
      "needs_background": "light"
     },
     "output_type": "display_data"
    }
   ],
   "source": [
    "errors.plot()"
   ]
  },
  {
   "cell_type": "code",
   "execution_count": 70,
   "metadata": {},
   "outputs": [
    {
     "data": {
      "text/plain": [
       "24"
      ]
     },
     "execution_count": 70,
     "metadata": {},
     "output_type": "execute_result"
    }
   ],
   "source": [
    "len(scaled_test)"
   ]
  },
  {
   "cell_type": "code",
   "execution_count": null,
   "metadata": {},
   "outputs": [],
   "source": []
  }
 ],
 "metadata": {
  "kernelspec": {
   "display_name": "Python 3",
   "language": "python",
   "name": "python3"
  },
  "language_info": {
   "codemirror_mode": {
    "name": "ipython",
    "version": 3
   },
   "file_extension": ".py",
   "mimetype": "text/x-python",
   "name": "python",
   "nbconvert_exporter": "python",
   "pygments_lexer": "ipython3",
   "version": "3.8.5"
  }
 },
 "nbformat": 4,
 "nbformat_minor": 4
}
