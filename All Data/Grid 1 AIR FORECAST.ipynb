{
 "cells": [
  {
   "cell_type": "code",
   "execution_count": 22,
   "metadata": {},
   "outputs": [],
   "source": [
    "import pandas as pd\n",
    "import numpy as np\n",
    "import matplotlib.pyplot as plt\n",
    "from keras.models import Sequential\n",
    "from keras.layers import Dense, LSTM, Dropout\n",
    "from keras.preprocessing.sequence import TimeseriesGenerator\n",
    "from statsmodels.tsa.seasonal import seasonal_decompose\n",
    "from sklearn.preprocessing import MinMaxScaler\n",
    "from sklearn.metrics import mean_squared_error\n",
    "from math import sqrt\n",
    "import warnings\n",
    "\n",
    "warnings.filterwarnings(\"ignore\")"
   ]
  },
  {
   "cell_type": "code",
   "execution_count": 23,
   "metadata": {},
   "outputs": [],
   "source": [
    "df = pd.read_csv('C:/Users/shail/Desktop/project/raw data/Device-1.csv')\n",
    "\n",
    "df.columns = ['SNo','temp','hum','co','no2','pm2_5','pm10','date']\n",
    "date = df['date']\n",
    "df = df.drop([\"SNo\"],axis=1)\n",
    "df['date'] = pd.to_datetime(df['date'])"
   ]
  },
  {
   "cell_type": "code",
   "execution_count": 24,
   "metadata": {},
   "outputs": [
    {
     "data": {
      "text/html": [
       "<div>\n",
       "<style scoped>\n",
       "    .dataframe tbody tr th:only-of-type {\n",
       "        vertical-align: middle;\n",
       "    }\n",
       "\n",
       "    .dataframe tbody tr th {\n",
       "        vertical-align: top;\n",
       "    }\n",
       "\n",
       "    .dataframe thead th {\n",
       "        text-align: right;\n",
       "    }\n",
       "</style>\n",
       "<table border=\"1\" class=\"dataframe\">\n",
       "  <thead>\n",
       "    <tr style=\"text-align: right;\">\n",
       "      <th></th>\n",
       "      <th>temp</th>\n",
       "      <th>hum</th>\n",
       "      <th>co</th>\n",
       "      <th>no2</th>\n",
       "      <th>pm2_5</th>\n",
       "      <th>pm10</th>\n",
       "      <th>date</th>\n",
       "    </tr>\n",
       "  </thead>\n",
       "  <tbody>\n",
       "    <tr>\n",
       "      <th>0</th>\n",
       "      <td>15</td>\n",
       "      <td>50</td>\n",
       "      <td>40</td>\n",
       "      <td>1.31</td>\n",
       "      <td>53</td>\n",
       "      <td>74</td>\n",
       "      <td>2020-01-11 17:08:19</td>\n",
       "    </tr>\n",
       "    <tr>\n",
       "      <th>1</th>\n",
       "      <td>15</td>\n",
       "      <td>50</td>\n",
       "      <td>40</td>\n",
       "      <td>1.32</td>\n",
       "      <td>53</td>\n",
       "      <td>74</td>\n",
       "      <td>2020-01-11 17:08:13</td>\n",
       "    </tr>\n",
       "    <tr>\n",
       "      <th>2</th>\n",
       "      <td>15</td>\n",
       "      <td>50</td>\n",
       "      <td>40</td>\n",
       "      <td>1.32</td>\n",
       "      <td>53</td>\n",
       "      <td>74</td>\n",
       "      <td>2020-01-11 17:08:09</td>\n",
       "    </tr>\n",
       "    <tr>\n",
       "      <th>3</th>\n",
       "      <td>15</td>\n",
       "      <td>50</td>\n",
       "      <td>40</td>\n",
       "      <td>1.32</td>\n",
       "      <td>53</td>\n",
       "      <td>74</td>\n",
       "      <td>2020-01-11 17:08:03</td>\n",
       "    </tr>\n",
       "    <tr>\n",
       "      <th>4</th>\n",
       "      <td>15</td>\n",
       "      <td>50</td>\n",
       "      <td>40</td>\n",
       "      <td>1.32</td>\n",
       "      <td>53</td>\n",
       "      <td>74</td>\n",
       "      <td>2020-01-11 17:07:59</td>\n",
       "    </tr>\n",
       "  </tbody>\n",
       "</table>\n",
       "</div>"
      ],
      "text/plain": [
       "   temp  hum  co   no2  pm2_5  pm10                date\n",
       "0    15   50  40  1.31     53    74 2020-01-11 17:08:19\n",
       "1    15   50  40  1.32     53    74 2020-01-11 17:08:13\n",
       "2    15   50  40  1.32     53    74 2020-01-11 17:08:09\n",
       "3    15   50  40  1.32     53    74 2020-01-11 17:08:03\n",
       "4    15   50  40  1.32     53    74 2020-01-11 17:07:59"
      ]
     },
     "execution_count": 24,
     "metadata": {},
     "output_type": "execute_result"
    }
   ],
   "source": [
    "df.head()"
   ]
  },
  {
   "cell_type": "code",
   "execution_count": 25,
   "metadata": {},
   "outputs": [
    {
     "name": "stdout",
     "output_type": "stream",
     "text": [
      "<class 'pandas.core.frame.DataFrame'>\n",
      "RangeIndex: 872050 entries, 0 to 872049\n",
      "Data columns (total 7 columns):\n",
      " #   Column  Non-Null Count   Dtype         \n",
      "---  ------  --------------   -----         \n",
      " 0   temp    872050 non-null  int64         \n",
      " 1   hum     872050 non-null  int64         \n",
      " 2   co      872050 non-null  int64         \n",
      " 3   no2     872050 non-null  float64       \n",
      " 4   pm2_5   872050 non-null  int64         \n",
      " 5   pm10    872050 non-null  int64         \n",
      " 6   date    872050 non-null  datetime64[ns]\n",
      "dtypes: datetime64[ns](1), float64(1), int64(5)\n",
      "memory usage: 46.6 MB\n"
     ]
    }
   ],
   "source": [
    "df.info()"
   ]
  },
  {
   "cell_type": "code",
   "execution_count": 26,
   "metadata": {},
   "outputs": [],
   "source": [
    "df = df[(df['co'] > 0) & (df['no2'] > 0) & (df['pm2_5'] > 0) & (df['pm10'] > 0)]"
   ]
  },
  {
   "cell_type": "code",
   "execution_count": 27,
   "metadata": {},
   "outputs": [
    {
     "data": {
      "text/html": [
       "<div>\n",
       "<style scoped>\n",
       "    .dataframe tbody tr th:only-of-type {\n",
       "        vertical-align: middle;\n",
       "    }\n",
       "\n",
       "    .dataframe tbody tr th {\n",
       "        vertical-align: top;\n",
       "    }\n",
       "\n",
       "    .dataframe thead th {\n",
       "        text-align: right;\n",
       "    }\n",
       "</style>\n",
       "<table border=\"1\" class=\"dataframe\">\n",
       "  <thead>\n",
       "    <tr style=\"text-align: right;\">\n",
       "      <th></th>\n",
       "      <th>TEMP</th>\n",
       "      <th>HUM</th>\n",
       "      <th>CO</th>\n",
       "      <th>NO2</th>\n",
       "      <th>PM2.5</th>\n",
       "      <th>PM10</th>\n",
       "    </tr>\n",
       "    <tr>\n",
       "      <th>date</th>\n",
       "      <th></th>\n",
       "      <th></th>\n",
       "      <th></th>\n",
       "      <th></th>\n",
       "      <th></th>\n",
       "      <th></th>\n",
       "    </tr>\n",
       "  </thead>\n",
       "  <tbody>\n",
       "    <tr>\n",
       "      <th>2019-09-13 11:00:00</th>\n",
       "      <td>20.72</td>\n",
       "      <td>45.55</td>\n",
       "      <td>5.50</td>\n",
       "      <td>19.41</td>\n",
       "      <td>20.07</td>\n",
       "      <td>28.07</td>\n",
       "    </tr>\n",
       "    <tr>\n",
       "      <th>2019-09-13 12:00:00</th>\n",
       "      <td>21.68</td>\n",
       "      <td>45.55</td>\n",
       "      <td>5.22</td>\n",
       "      <td>19.42</td>\n",
       "      <td>21.99</td>\n",
       "      <td>30.39</td>\n",
       "    </tr>\n",
       "    <tr>\n",
       "      <th>2019-09-13 13:00:00</th>\n",
       "      <td>22.19</td>\n",
       "      <td>43.53</td>\n",
       "      <td>5.67</td>\n",
       "      <td>19.43</td>\n",
       "      <td>22.63</td>\n",
       "      <td>31.49</td>\n",
       "    </tr>\n",
       "    <tr>\n",
       "      <th>2019-09-13 14:00:00</th>\n",
       "      <td>21.73</td>\n",
       "      <td>44.27</td>\n",
       "      <td>4.93</td>\n",
       "      <td>19.42</td>\n",
       "      <td>24.61</td>\n",
       "      <td>34.45</td>\n",
       "    </tr>\n",
       "    <tr>\n",
       "      <th>2019-09-13 15:00:00</th>\n",
       "      <td>19.29</td>\n",
       "      <td>54.04</td>\n",
       "      <td>6.34</td>\n",
       "      <td>19.40</td>\n",
       "      <td>28.56</td>\n",
       "      <td>39.77</td>\n",
       "    </tr>\n",
       "    <tr>\n",
       "      <th>...</th>\n",
       "      <td>...</td>\n",
       "      <td>...</td>\n",
       "      <td>...</td>\n",
       "      <td>...</td>\n",
       "      <td>...</td>\n",
       "      <td>...</td>\n",
       "    </tr>\n",
       "    <tr>\n",
       "      <th>2020-01-11 13:00:00</th>\n",
       "      <td>17.92</td>\n",
       "      <td>44.29</td>\n",
       "      <td>40.00</td>\n",
       "      <td>1.38</td>\n",
       "      <td>66.62</td>\n",
       "      <td>92.64</td>\n",
       "    </tr>\n",
       "    <tr>\n",
       "      <th>2020-01-11 14:00:00</th>\n",
       "      <td>17.50</td>\n",
       "      <td>42.56</td>\n",
       "      <td>40.00</td>\n",
       "      <td>1.41</td>\n",
       "      <td>57.87</td>\n",
       "      <td>80.33</td>\n",
       "    </tr>\n",
       "    <tr>\n",
       "      <th>2020-01-11 15:00:00</th>\n",
       "      <td>16.74</td>\n",
       "      <td>44.00</td>\n",
       "      <td>40.00</td>\n",
       "      <td>1.45</td>\n",
       "      <td>53.99</td>\n",
       "      <td>74.98</td>\n",
       "    </tr>\n",
       "    <tr>\n",
       "      <th>2020-01-11 16:00:00</th>\n",
       "      <td>15.87</td>\n",
       "      <td>47.06</td>\n",
       "      <td>40.00</td>\n",
       "      <td>1.42</td>\n",
       "      <td>52.26</td>\n",
       "      <td>72.54</td>\n",
       "    </tr>\n",
       "    <tr>\n",
       "      <th>2020-01-11 17:00:00</th>\n",
       "      <td>15.00</td>\n",
       "      <td>50.00</td>\n",
       "      <td>40.00</td>\n",
       "      <td>1.31</td>\n",
       "      <td>53.56</td>\n",
       "      <td>74.77</td>\n",
       "    </tr>\n",
       "  </tbody>\n",
       "</table>\n",
       "<p>2887 rows × 6 columns</p>\n",
       "</div>"
      ],
      "text/plain": [
       "                      TEMP    HUM     CO    NO2  PM2.5   PM10\n",
       "date                                                         \n",
       "2019-09-13 11:00:00  20.72  45.55   5.50  19.41  20.07  28.07\n",
       "2019-09-13 12:00:00  21.68  45.55   5.22  19.42  21.99  30.39\n",
       "2019-09-13 13:00:00  22.19  43.53   5.67  19.43  22.63  31.49\n",
       "2019-09-13 14:00:00  21.73  44.27   4.93  19.42  24.61  34.45\n",
       "2019-09-13 15:00:00  19.29  54.04   6.34  19.40  28.56  39.77\n",
       "...                    ...    ...    ...    ...    ...    ...\n",
       "2020-01-11 13:00:00  17.92  44.29  40.00   1.38  66.62  92.64\n",
       "2020-01-11 14:00:00  17.50  42.56  40.00   1.41  57.87  80.33\n",
       "2020-01-11 15:00:00  16.74  44.00  40.00   1.45  53.99  74.98\n",
       "2020-01-11 16:00:00  15.87  47.06  40.00   1.42  52.26  72.54\n",
       "2020-01-11 17:00:00  15.00  50.00  40.00   1.31  53.56  74.77\n",
       "\n",
       "[2887 rows x 6 columns]"
      ]
     },
     "execution_count": 27,
     "metadata": {},
     "output_type": "execute_result"
    }
   ],
   "source": [
    "temp_one_hr = round(df.resample('60min',on='date').temp.mean(),2)\n",
    "hum_one_hr = round(df.resample('60min',on='date').hum.mean(),2)\n",
    "co_one_hr = round(df.resample('60min',on='date').co.mean(),2)\n",
    "no2_one_hr = round(df.resample('60min',on='date').no2.mean(),2)\n",
    "pm2_5_one_hr = round(df.resample('60min',on='date').pm2_5.mean(),2)\n",
    "pm10_one_hr = round(df.resample('60min',on='date').pm10.mean(),2)\n",
    "\n",
    "one_hr_sample = pd.DataFrame({\n",
    "    \"TEMP\":temp_one_hr,\n",
    "    \"HUM\":hum_one_hr,\n",
    "    \"CO\":co_one_hr,\n",
    "    \"NO2\":no2_one_hr,\n",
    "    \"PM2.5\":pm2_5_one_hr,\n",
    "    \"PM10\":pm10_one_hr\n",
    "})\n",
    "\n",
    "one_hr_sample"
   ]
  },
  {
   "cell_type": "code",
   "execution_count": 28,
   "metadata": {},
   "outputs": [],
   "source": [
    "pm = one_hr_sample[['PM2.5']].copy()"
   ]
  },
  {
   "cell_type": "code",
   "execution_count": 29,
   "metadata": {},
   "outputs": [
    {
     "data": {
      "text/html": [
       "<div>\n",
       "<style scoped>\n",
       "    .dataframe tbody tr th:only-of-type {\n",
       "        vertical-align: middle;\n",
       "    }\n",
       "\n",
       "    .dataframe tbody tr th {\n",
       "        vertical-align: top;\n",
       "    }\n",
       "\n",
       "    .dataframe thead th {\n",
       "        text-align: right;\n",
       "    }\n",
       "</style>\n",
       "<table border=\"1\" class=\"dataframe\">\n",
       "  <thead>\n",
       "    <tr style=\"text-align: right;\">\n",
       "      <th></th>\n",
       "      <th>PM2.5</th>\n",
       "    </tr>\n",
       "    <tr>\n",
       "      <th>date</th>\n",
       "      <th></th>\n",
       "    </tr>\n",
       "  </thead>\n",
       "  <tbody>\n",
       "    <tr>\n",
       "      <th>2019-09-13 11:00:00</th>\n",
       "      <td>20.07</td>\n",
       "    </tr>\n",
       "    <tr>\n",
       "      <th>2019-09-13 12:00:00</th>\n",
       "      <td>21.99</td>\n",
       "    </tr>\n",
       "    <tr>\n",
       "      <th>2019-09-13 13:00:00</th>\n",
       "      <td>22.63</td>\n",
       "    </tr>\n",
       "    <tr>\n",
       "      <th>2019-09-13 14:00:00</th>\n",
       "      <td>24.61</td>\n",
       "    </tr>\n",
       "    <tr>\n",
       "      <th>2019-09-13 15:00:00</th>\n",
       "      <td>28.56</td>\n",
       "    </tr>\n",
       "    <tr>\n",
       "      <th>...</th>\n",
       "      <td>...</td>\n",
       "    </tr>\n",
       "    <tr>\n",
       "      <th>2020-01-11 13:00:00</th>\n",
       "      <td>66.62</td>\n",
       "    </tr>\n",
       "    <tr>\n",
       "      <th>2020-01-11 14:00:00</th>\n",
       "      <td>57.87</td>\n",
       "    </tr>\n",
       "    <tr>\n",
       "      <th>2020-01-11 15:00:00</th>\n",
       "      <td>53.99</td>\n",
       "    </tr>\n",
       "    <tr>\n",
       "      <th>2020-01-11 16:00:00</th>\n",
       "      <td>52.26</td>\n",
       "    </tr>\n",
       "    <tr>\n",
       "      <th>2020-01-11 17:00:00</th>\n",
       "      <td>53.56</td>\n",
       "    </tr>\n",
       "  </tbody>\n",
       "</table>\n",
       "<p>2887 rows × 1 columns</p>\n",
       "</div>"
      ],
      "text/plain": [
       "                     PM2.5\n",
       "date                      \n",
       "2019-09-13 11:00:00  20.07\n",
       "2019-09-13 12:00:00  21.99\n",
       "2019-09-13 13:00:00  22.63\n",
       "2019-09-13 14:00:00  24.61\n",
       "2019-09-13 15:00:00  28.56\n",
       "...                    ...\n",
       "2020-01-11 13:00:00  66.62\n",
       "2020-01-11 14:00:00  57.87\n",
       "2020-01-11 15:00:00  53.99\n",
       "2020-01-11 16:00:00  52.26\n",
       "2020-01-11 17:00:00  53.56\n",
       "\n",
       "[2887 rows x 1 columns]"
      ]
     },
     "execution_count": 29,
     "metadata": {},
     "output_type": "execute_result"
    }
   ],
   "source": [
    "pm"
   ]
  },
  {
   "cell_type": "code",
   "execution_count": 30,
   "metadata": {},
   "outputs": [],
   "source": [
    "df = pm.copy()"
   ]
  },
  {
   "cell_type": "code",
   "execution_count": 31,
   "metadata": {},
   "outputs": [
    {
     "data": {
      "text/html": [
       "<div>\n",
       "<style scoped>\n",
       "    .dataframe tbody tr th:only-of-type {\n",
       "        vertical-align: middle;\n",
       "    }\n",
       "\n",
       "    .dataframe tbody tr th {\n",
       "        vertical-align: top;\n",
       "    }\n",
       "\n",
       "    .dataframe thead th {\n",
       "        text-align: right;\n",
       "    }\n",
       "</style>\n",
       "<table border=\"1\" class=\"dataframe\">\n",
       "  <thead>\n",
       "    <tr style=\"text-align: right;\">\n",
       "      <th></th>\n",
       "      <th>PM2.5</th>\n",
       "    </tr>\n",
       "    <tr>\n",
       "      <th>date</th>\n",
       "      <th></th>\n",
       "    </tr>\n",
       "  </thead>\n",
       "  <tbody>\n",
       "    <tr>\n",
       "      <th>2019-09-13 11:00:00</th>\n",
       "      <td>20.07</td>\n",
       "    </tr>\n",
       "    <tr>\n",
       "      <th>2019-09-13 12:00:00</th>\n",
       "      <td>21.99</td>\n",
       "    </tr>\n",
       "    <tr>\n",
       "      <th>2019-09-13 13:00:00</th>\n",
       "      <td>22.63</td>\n",
       "    </tr>\n",
       "    <tr>\n",
       "      <th>2019-09-13 14:00:00</th>\n",
       "      <td>24.61</td>\n",
       "    </tr>\n",
       "    <tr>\n",
       "      <th>2019-09-13 15:00:00</th>\n",
       "      <td>28.56</td>\n",
       "    </tr>\n",
       "    <tr>\n",
       "      <th>...</th>\n",
       "      <td>...</td>\n",
       "    </tr>\n",
       "    <tr>\n",
       "      <th>2020-01-11 13:00:00</th>\n",
       "      <td>66.62</td>\n",
       "    </tr>\n",
       "    <tr>\n",
       "      <th>2020-01-11 14:00:00</th>\n",
       "      <td>57.87</td>\n",
       "    </tr>\n",
       "    <tr>\n",
       "      <th>2020-01-11 15:00:00</th>\n",
       "      <td>53.99</td>\n",
       "    </tr>\n",
       "    <tr>\n",
       "      <th>2020-01-11 16:00:00</th>\n",
       "      <td>52.26</td>\n",
       "    </tr>\n",
       "    <tr>\n",
       "      <th>2020-01-11 17:00:00</th>\n",
       "      <td>53.56</td>\n",
       "    </tr>\n",
       "  </tbody>\n",
       "</table>\n",
       "<p>2887 rows × 1 columns</p>\n",
       "</div>"
      ],
      "text/plain": [
       "                     PM2.5\n",
       "date                      \n",
       "2019-09-13 11:00:00  20.07\n",
       "2019-09-13 12:00:00  21.99\n",
       "2019-09-13 13:00:00  22.63\n",
       "2019-09-13 14:00:00  24.61\n",
       "2019-09-13 15:00:00  28.56\n",
       "...                    ...\n",
       "2020-01-11 13:00:00  66.62\n",
       "2020-01-11 14:00:00  57.87\n",
       "2020-01-11 15:00:00  53.99\n",
       "2020-01-11 16:00:00  52.26\n",
       "2020-01-11 17:00:00  53.56\n",
       "\n",
       "[2887 rows x 1 columns]"
      ]
     },
     "execution_count": 31,
     "metadata": {},
     "output_type": "execute_result"
    }
   ],
   "source": [
    "#df = df[:2886]\n",
    "df"
   ]
  },
  {
   "cell_type": "code",
   "execution_count": 32,
   "metadata": {},
   "outputs": [
    {
     "data": {
      "text/plain": [
       "PM2.5    1439\n",
       "dtype: int64"
      ]
     },
     "execution_count": 32,
     "metadata": {},
     "output_type": "execute_result"
    }
   ],
   "source": [
    "df.isna().sum()"
   ]
  },
  {
   "cell_type": "code",
   "execution_count": 33,
   "metadata": {},
   "outputs": [],
   "source": [
    "df = df.interpolate(method ='linear')"
   ]
  },
  {
   "cell_type": "code",
   "execution_count": 34,
   "metadata": {},
   "outputs": [
    {
     "data": {
      "text/plain": [
       "<AxesSubplot:xlabel='date'>"
      ]
     },
     "execution_count": 34,
     "metadata": {},
     "output_type": "execute_result"
    },
    {
     "data": {
      "image/png": "[encoded data removed]",
      "text/plain": [
       "<Figure size 432x288 with 1 Axes>"
      ]
     },
     "metadata": {
      "needs_background": "light"
     },
     "output_type": "display_data"
    }
   ],
   "source": [
    "df.plot()"
   ]
  },
  {
   "cell_type": "code",
   "execution_count": 35,
   "metadata": {},
   "outputs": [
    {
     "data": {
      "image/png": "[encoded data removed]",
      "text/plain": [
       "<Figure size 432x288 with 4 Axes>"
      ]
     },
     "execution_count": 35,
     "metadata": {},
     "output_type": "execute_result"
    },
    {
     "data": {
      "image/png": "[encoded data removed]",
      "text/plain": [
       "<Figure size 432x288 with 4 Axes>"
      ]
     },
     "metadata": {
      "needs_background": "light"
     },
     "output_type": "display_data"
    }
   ],
   "source": [
    "results = seasonal_decompose(df['PM2.5'], freq=24)\n",
    "results.plot()"
   ]
  },
  {
   "cell_type": "code",
   "execution_count": 36,
   "metadata": {},
   "outputs": [
    {
     "data": {
      "text/plain": [
       "2887"
      ]
     },
     "execution_count": 36,
     "metadata": {},
     "output_type": "execute_result"
    }
   ],
   "source": [
    "len(df)"
   ]
  },
  {
   "cell_type": "code",
   "execution_count": 37,
   "metadata": {},
   "outputs": [],
   "source": [
    "train = df.iloc[:2863]\n",
    "test = df.iloc[2863:]\n",
    "\n",
    "scaler = MinMaxScaler()"
   ]
  },
  {
   "cell_type": "code",
   "execution_count": 38,
   "metadata": {},
   "outputs": [
    {
     "data": {
      "text/plain": [
       "(                     PM2.5\n",
       " date                      \n",
       " 2019-09-13 11:00:00  20.07\n",
       " 2019-09-13 12:00:00  21.99\n",
       " 2019-09-13 13:00:00  22.63\n",
       " 2019-09-13 14:00:00  24.61\n",
       " 2019-09-13 15:00:00  28.56,\n",
       "                      PM2.5\n",
       " date                      \n",
       " 2020-01-11 13:00:00  66.62\n",
       " 2020-01-11 14:00:00  57.87\n",
       " 2020-01-11 15:00:00  53.99\n",
       " 2020-01-11 16:00:00  52.26\n",
       " 2020-01-11 17:00:00  53.56)"
      ]
     },
     "execution_count": 38,
     "metadata": {},
     "output_type": "execute_result"
    }
   ],
   "source": [
    "df.head(), df.tail()"
   ]
  },
  {
   "cell_type": "code",
   "execution_count": 39,
   "metadata": {},
   "outputs": [
    {
     "data": {
      "text/plain": [
       "array([[0.01930962],\n",
       "       [0.02155248],\n",
       "       [0.0223001 ],\n",
       "       [0.02461305],\n",
       "       [0.02922726],\n",
       "       [0.03384148],\n",
       "       [0.04062847],\n",
       "       [0.02816424],\n",
       "       [0.02189124],\n",
       "       [0.02260382]])"
      ]
     },
     "execution_count": 39,
     "metadata": {},
     "output_type": "execute_result"
    }
   ],
   "source": [
    "scaler.fit(train)\n",
    "scaled_train = scaler.transform(train)\n",
    "scaled_test = scaler.transform(test)\n",
    "\n",
    "scaled_train[:10]"
   ]
  },
  {
   "cell_type": "markdown",
   "metadata": {},
   "source": [
    "# Recursive Strategy"
   ]
  },
  {
   "cell_type": "code",
   "execution_count": 40,
   "metadata": {},
   "outputs": [
    {
     "data": {
      "text/plain": [
       "(array([[[0.01930962],\n",
       "         [0.02155248],\n",
       "         [0.0223001 ],\n",
       "         [0.02461305],\n",
       "         [0.02922726],\n",
       "         [0.03384148],\n",
       "         [0.04062847],\n",
       "         [0.02816424],\n",
       "         [0.02189124],\n",
       "         [0.02260382],\n",
       "         [0.02656387],\n",
       "         [0.02984639],\n",
       "         [0.03976403],\n",
       "         [0.03946031],\n",
       "         [0.03545354],\n",
       "         [0.04034811],\n",
       "         [0.03955376],\n",
       "         [0.03714736],\n",
       "         [0.03705625],\n",
       "         [0.03696513],\n",
       "         [0.03687401],\n",
       "         [0.0367829 ],\n",
       "         [0.03669178],\n",
       "         [0.03660067]]]),\n",
       " array([[0.03650955]]))"
      ]
     },
     "execution_count": 40,
     "metadata": {},
     "output_type": "execute_result"
    }
   ],
   "source": [
    "n_input = 24\n",
    "n_features = 1\n",
    "generator = TimeseriesGenerator(scaled_train, scaled_train,length=n_input,batch_size=1)\n",
    "\n",
    "generator[0]"
   ]
  },
  {
   "cell_type": "code",
   "execution_count": 41,
   "metadata": {},
   "outputs": [
    {
     "name": "stdout",
     "output_type": "stream",
     "text": [
      "Model: \"sequential_1\"\n",
      "_________________________________________________________________\n",
      "Layer (type)                 Output Shape              Param #   \n",
      "=================================================================\n",
      "lstm_1 (LSTM)                (None, 200)               161600    \n",
      "_________________________________________________________________\n",
      "dense_1 (Dense)              (None, 1)                 201       \n",
      "=================================================================\n",
      "Total params: 161,801\n",
      "Trainable params: 161,801\n",
      "Non-trainable params: 0\n",
      "_________________________________________________________________\n"
     ]
    }
   ],
   "source": [
    "model = Sequential()\n",
    "model.add(LSTM(200, activation='relu', input_shape=(n_input, n_features)))\n",
    "model.add(Dense(1))\n",
    "model.compile(optimizer='adam', loss='mse')\n",
    "\n",
    "model.summary()"
   ]
  },
  {
   "cell_type": "code",
   "execution_count": 42,
   "metadata": {},
   "outputs": [
    {
     "name": "stdout",
     "output_type": "stream",
     "text": [
      "Epoch 1/10\n",
      "2839/2839 [==============================] - 32s 10ms/step - loss: 0.0023\n",
      "Epoch 2/10\n",
      "2839/2839 [==============================] - 29s 10ms/step - loss: 0.0010\n",
      "Epoch 3/10\n",
      "2839/2839 [==============================] - 30s 11ms/step - loss: 8.9415e-04\n",
      "Epoch 4/10\n",
      "2839/2839 [==============================] - 32s 11ms/step - loss: 7.9042e-04\n",
      "Epoch 5/10\n",
      "2839/2839 [==============================] - 32s 11ms/step - loss: 6.3491e-04\n",
      "Epoch 6/10\n",
      "2839/2839 [==============================] - 32s 11ms/step - loss: 9.1674e-04\n",
      "Epoch 7/10\n",
      "2839/2839 [==============================] - 32s 11ms/step - loss: 4.7612e-04\n",
      "Epoch 8/10\n",
      "2839/2839 [==============================] - 32s 11ms/step - loss: 7.8479e-04\n",
      "Epoch 9/10\n",
      "2839/2839 [==============================] - 32s 11ms/step - loss: 5.3301e-04\n",
      "Epoch 10/10\n",
      "2839/2839 [==============================] - 32s 11ms/step - loss: 6.6061e-04\n"
     ]
    },
    {
     "data": {
      "text/plain": [
       "<keras.callbacks.History at 0x126b5559ee0>"
      ]
     },
     "execution_count": 42,
     "metadata": {},
     "output_type": "execute_result"
    }
   ],
   "source": [
    "model.fit(generator, epochs=10, verbose=1)"
   ]
  },
  {
   "cell_type": "code",
   "execution_count": 43,
   "metadata": {},
   "outputs": [
    {
     "data": {
      "text/plain": [
       "[<matplotlib.lines.Line2D at 0x126aff10520>]"
      ]
     },
     "execution_count": 43,
     "metadata": {},
     "output_type": "execute_result"
    },
    {
     "data": {
      "image/png": "[encoded data removed]",
      "text/plain": [
       "<Figure size 432x288 with 1 Axes>"
      ]
     },
     "metadata": {
      "needs_background": "light"
     },
     "output_type": "display_data"
    }
   ],
   "source": [
    "loss_per_epoch = model.history.history['loss']\n",
    "plt.plot(range(len(loss_per_epoch)), loss_per_epoch)"
   ]
  },
  {
   "cell_type": "code",
   "execution_count": 44,
   "metadata": {},
   "outputs": [
    {
     "data": {
      "text/plain": [
       "array([[0.08486632]], dtype=float32)"
      ]
     },
     "execution_count": 44,
     "metadata": {},
     "output_type": "execute_result"
    }
   ],
   "source": [
    "last_train_batch = scaled_train[-n_input:]\n",
    "\n",
    "last_train_batch = last_train_batch.reshape((1,n_input, n_features))\n",
    "\n",
    "model.predict(last_train_batch)"
   ]
  },
  {
   "cell_type": "code",
   "execution_count": 45,
   "metadata": {},
   "outputs": [
    {
     "data": {
      "text/plain": [
       "(array([0.11799544]), array([0.18851703]))"
      ]
     },
     "execution_count": 45,
     "metadata": {},
     "output_type": "execute_result"
    }
   ],
   "source": [
    "scaled_test[0], scaled_test[1]"
   ]
  },
  {
   "cell_type": "code",
   "execution_count": 46,
   "metadata": {},
   "outputs": [
    {
     "data": {
      "text/plain": [
       "[array([0.08486632], dtype=float32),\n",
       " array([0.0914579], dtype=float32),\n",
       " array([0.09561844], dtype=float32),\n",
       " array([0.09753516], dtype=float32),\n",
       " array([0.09827799], dtype=float32),\n",
       " array([0.09895188], dtype=float32),\n",
       " array([0.10027478], dtype=float32),\n",
       " array([0.1023092], dtype=float32),\n",
       " array([0.10476705], dtype=float32),\n",
       " array([0.10728566], dtype=float32),\n",
       " array([0.10961036], dtype=float32),\n",
       " array([0.11165263], dtype=float32),\n",
       " array([0.11345541], dtype=float32),\n",
       " array([0.11511939], dtype=float32),\n",
       " array([0.11673698], dtype=float32),\n",
       " array([0.11835834], dtype=float32),\n",
       " array([0.1199899], dtype=float32),\n",
       " array([0.12161103], dtype=float32),\n",
       " array([0.12319482], dtype=float32),\n",
       " array([0.12472227], dtype=float32),\n",
       " array([0.12618712], dtype=float32),\n",
       " array([0.12759328], dtype=float32),\n",
       " array([0.12894933], dtype=float32),\n",
       " array([0.13026348], dtype=float32)]"
      ]
     },
     "execution_count": 46,
     "metadata": {},
     "output_type": "execute_result"
    }
   ],
   "source": [
    "test_predictions = []\n",
    "\n",
    "first_eval_batch = scaled_train[-n_input:]\n",
    "current_batch = first_eval_batch.reshape((1, n_input, n_features))\n",
    "\n",
    "for i in range(len(test)):\n",
    "    current_pred = model.predict(current_batch)[0]\n",
    "    \n",
    "    test_predictions.append(current_pred)\n",
    "    \n",
    "    current_batch = np.append(current_batch[:,1:,:],[[current_pred]], axis=1)\n",
    "    \n",
    "test_predictions"
   ]
  },
  {
   "cell_type": "code",
   "execution_count": 47,
   "metadata": {},
   "outputs": [
    {
     "data": {
      "text/html": [
       "<div>\n",
       "<style scoped>\n",
       "    .dataframe tbody tr th:only-of-type {\n",
       "        vertical-align: middle;\n",
       "    }\n",
       "\n",
       "    .dataframe tbody tr th {\n",
       "        vertical-align: top;\n",
       "    }\n",
       "\n",
       "    .dataframe thead th {\n",
       "        text-align: right;\n",
       "    }\n",
       "</style>\n",
       "<table border=\"1\" class=\"dataframe\">\n",
       "  <thead>\n",
       "    <tr style=\"text-align: right;\">\n",
       "      <th></th>\n",
       "      <th>PM2.5</th>\n",
       "    </tr>\n",
       "    <tr>\n",
       "      <th>date</th>\n",
       "      <th></th>\n",
       "    </tr>\n",
       "  </thead>\n",
       "  <tbody>\n",
       "    <tr>\n",
       "      <th>2020-01-10 18:00:00</th>\n",
       "      <td>104.55</td>\n",
       "    </tr>\n",
       "    <tr>\n",
       "      <th>2020-01-10 19:00:00</th>\n",
       "      <td>164.92</td>\n",
       "    </tr>\n",
       "    <tr>\n",
       "      <th>2020-01-10 20:00:00</th>\n",
       "      <td>211.35</td>\n",
       "    </tr>\n",
       "    <tr>\n",
       "      <th>2020-01-10 21:00:00</th>\n",
       "      <td>141.20</td>\n",
       "    </tr>\n",
       "    <tr>\n",
       "      <th>2020-01-10 22:00:00</th>\n",
       "      <td>121.06</td>\n",
       "    </tr>\n",
       "  </tbody>\n",
       "</table>\n",
       "</div>"
      ],
      "text/plain": [
       "                      PM2.5\n",
       "date                       \n",
       "2020-01-10 18:00:00  104.55\n",
       "2020-01-10 19:00:00  164.92\n",
       "2020-01-10 20:00:00  211.35\n",
       "2020-01-10 21:00:00  141.20\n",
       "2020-01-10 22:00:00  121.06"
      ]
     },
     "execution_count": 47,
     "metadata": {},
     "output_type": "execute_result"
    }
   ],
   "source": [
    "test.head()"
   ]
  },
  {
   "cell_type": "code",
   "execution_count": 48,
   "metadata": {},
   "outputs": [],
   "source": [
    "true_predictions = scaler.inverse_transform(test_predictions)\n",
    "\n",
    "test['recursive_predict'] = true_predictions"
   ]
  },
  {
   "cell_type": "code",
   "execution_count": 49,
   "metadata": {},
   "outputs": [
    {
     "data": {
      "text/plain": [
       "<AxesSubplot:xlabel='date'>"
      ]
     },
     "execution_count": 49,
     "metadata": {},
     "output_type": "execute_result"
    },
    {
     "data": {
      "image/png": "[encoded data removed]",
      "text/plain": [
       "<Figure size 432x288 with 1 Axes>"
      ]
     },
     "metadata": {
      "needs_background": "light"
     },
     "output_type": "display_data"
    }
   ],
   "source": [
    "test.plot()"
   ]
  },
  {
   "cell_type": "code",
   "execution_count": 50,
   "metadata": {},
   "outputs": [
    {
     "name": "stdout",
     "output_type": "stream",
     "text": [
      "47.56905490400867\n"
     ]
    }
   ],
   "source": [
    "rmse = sqrt(mean_squared_error(test['PM2.5'], test['recursive_predict']))\n",
    "print(rmse)"
   ]
  },
  {
   "cell_type": "code",
   "execution_count": 51,
   "metadata": {},
   "outputs": [
    {
     "data": {
      "text/html": [
       "<div>\n",
       "<style scoped>\n",
       "    .dataframe tbody tr th:only-of-type {\n",
       "        vertical-align: middle;\n",
       "    }\n",
       "\n",
       "    .dataframe tbody tr th {\n",
       "        vertical-align: top;\n",
       "    }\n",
       "\n",
       "    .dataframe thead th {\n",
       "        text-align: right;\n",
       "    }\n",
       "</style>\n",
       "<table border=\"1\" class=\"dataframe\">\n",
       "  <thead>\n",
       "    <tr style=\"text-align: right;\">\n",
       "      <th></th>\n",
       "      <th>PM2.5</th>\n",
       "      <th>recursive_predict</th>\n",
       "    </tr>\n",
       "    <tr>\n",
       "      <th>date</th>\n",
       "      <th></th>\n",
       "      <th></th>\n",
       "    </tr>\n",
       "  </thead>\n",
       "  <tbody>\n",
       "    <tr>\n",
       "      <th>2020-01-10 18:00:00</th>\n",
       "      <td>104.55</td>\n",
       "      <td>76.189809</td>\n",
       "    </tr>\n",
       "    <tr>\n",
       "      <th>2020-01-10 19:00:00</th>\n",
       "      <td>164.92</td>\n",
       "      <td>81.832538</td>\n",
       "    </tr>\n",
       "    <tr>\n",
       "      <th>2020-01-10 20:00:00</th>\n",
       "      <td>211.35</td>\n",
       "      <td>85.394167</td>\n",
       "    </tr>\n",
       "    <tr>\n",
       "      <th>2020-01-10 21:00:00</th>\n",
       "      <td>141.20</td>\n",
       "      <td>87.034970</td>\n",
       "    </tr>\n",
       "    <tr>\n",
       "      <th>2020-01-10 22:00:00</th>\n",
       "      <td>121.06</td>\n",
       "      <td>87.670870</td>\n",
       "    </tr>\n",
       "    <tr>\n",
       "      <th>2020-01-10 23:00:00</th>\n",
       "      <td>119.04</td>\n",
       "      <td>88.247754</td>\n",
       "    </tr>\n",
       "    <tr>\n",
       "      <th>2020-01-11 00:00:00</th>\n",
       "      <td>98.77</td>\n",
       "      <td>89.380224</td>\n",
       "    </tr>\n",
       "    <tr>\n",
       "      <th>2020-01-11 01:00:00</th>\n",
       "      <td>80.07</td>\n",
       "      <td>91.121795</td>\n",
       "    </tr>\n",
       "    <tr>\n",
       "      <th>2020-01-11 02:00:00</th>\n",
       "      <td>86.52</td>\n",
       "      <td>93.225830</td>\n",
       "    </tr>\n",
       "    <tr>\n",
       "      <th>2020-01-11 03:00:00</th>\n",
       "      <td>99.19</td>\n",
       "      <td>95.381892</td>\n",
       "    </tr>\n",
       "    <tr>\n",
       "      <th>2020-01-11 04:00:00</th>\n",
       "      <td>106.13</td>\n",
       "      <td>97.371946</td>\n",
       "    </tr>\n",
       "    <tr>\n",
       "      <th>2020-01-11 05:00:00</th>\n",
       "      <td>119.74</td>\n",
       "      <td>99.120232</td>\n",
       "    </tr>\n",
       "    <tr>\n",
       "      <th>2020-01-11 06:00:00</th>\n",
       "      <td>147.07</td>\n",
       "      <td>100.663508</td>\n",
       "    </tr>\n",
       "    <tr>\n",
       "      <th>2020-01-11 07:00:00</th>\n",
       "      <td>152.47</td>\n",
       "      <td>102.087954</td>\n",
       "    </tr>\n",
       "    <tr>\n",
       "      <th>2020-01-11 08:00:00</th>\n",
       "      <td>137.57</td>\n",
       "      <td>103.472690</td>\n",
       "    </tr>\n",
       "    <tr>\n",
       "      <th>2020-01-11 09:00:00</th>\n",
       "      <td>98.44</td>\n",
       "      <td>104.860660</td>\n",
       "    </tr>\n",
       "    <tr>\n",
       "      <th>2020-01-11 10:00:00</th>\n",
       "      <td>81.47</td>\n",
       "      <td>106.257355</td>\n",
       "    </tr>\n",
       "    <tr>\n",
       "      <th>2020-01-11 11:00:00</th>\n",
       "      <td>74.93</td>\n",
       "      <td>107.645121</td>\n",
       "    </tr>\n",
       "    <tr>\n",
       "      <th>2020-01-11 12:00:00</th>\n",
       "      <td>69.56</td>\n",
       "      <td>109.000927</td>\n",
       "    </tr>\n",
       "    <tr>\n",
       "      <th>2020-01-11 13:00:00</th>\n",
       "      <td>66.62</td>\n",
       "      <td>110.308501</td>\n",
       "    </tr>\n",
       "    <tr>\n",
       "      <th>2020-01-11 14:00:00</th>\n",
       "      <td>57.87</td>\n",
       "      <td>111.562481</td>\n",
       "    </tr>\n",
       "    <tr>\n",
       "      <th>2020-01-11 15:00:00</th>\n",
       "      <td>53.99</td>\n",
       "      <td>112.766226</td>\n",
       "    </tr>\n",
       "    <tr>\n",
       "      <th>2020-01-11 16:00:00</th>\n",
       "      <td>52.26</td>\n",
       "      <td>113.927073</td>\n",
       "    </tr>\n",
       "    <tr>\n",
       "      <th>2020-01-11 17:00:00</th>\n",
       "      <td>53.56</td>\n",
       "      <td>115.052050</td>\n",
       "    </tr>\n",
       "  </tbody>\n",
       "</table>\n",
       "</div>"
      ],
      "text/plain": [
       "                      PM2.5  recursive_predict\n",
       "date                                          \n",
       "2020-01-10 18:00:00  104.55          76.189809\n",
       "2020-01-10 19:00:00  164.92          81.832538\n",
       "2020-01-10 20:00:00  211.35          85.394167\n",
       "2020-01-10 21:00:00  141.20          87.034970\n",
       "2020-01-10 22:00:00  121.06          87.670870\n",
       "2020-01-10 23:00:00  119.04          88.247754\n",
       "2020-01-11 00:00:00   98.77          89.380224\n",
       "2020-01-11 01:00:00   80.07          91.121795\n",
       "2020-01-11 02:00:00   86.52          93.225830\n",
       "2020-01-11 03:00:00   99.19          95.381892\n",
       "2020-01-11 04:00:00  106.13          97.371946\n",
       "2020-01-11 05:00:00  119.74          99.120232\n",
       "2020-01-11 06:00:00  147.07         100.663508\n",
       "2020-01-11 07:00:00  152.47         102.087954\n",
       "2020-01-11 08:00:00  137.57         103.472690\n",
       "2020-01-11 09:00:00   98.44         104.860660\n",
       "2020-01-11 10:00:00   81.47         106.257355\n",
       "2020-01-11 11:00:00   74.93         107.645121\n",
       "2020-01-11 12:00:00   69.56         109.000927\n",
       "2020-01-11 13:00:00   66.62         110.308501\n",
       "2020-01-11 14:00:00   57.87         111.562481\n",
       "2020-01-11 15:00:00   53.99         112.766226\n",
       "2020-01-11 16:00:00   52.26         113.927073\n",
       "2020-01-11 17:00:00   53.56         115.052050"
      ]
     },
     "execution_count": 51,
     "metadata": {},
     "output_type": "execute_result"
    }
   ],
   "source": [
    "test"
   ]
  },
  {
   "cell_type": "markdown",
   "metadata": {},
   "source": [
    "# Direct Startegy"
   ]
  },
  {
   "cell_type": "code",
   "execution_count": 52,
   "metadata": {},
   "outputs": [],
   "source": [
    "def generate_data(data, n_input, month):\n",
    "    X, y = [], []\n",
    "    for i in range(0,len(data)-(n_input+month)):\n",
    "            X.append(data[i:i+n_input])\n",
    "            y.append(data[i+n_input+(month-1)])\n",
    "    return np.array(X), np.array(y)"
   ]
  },
  {
   "cell_type": "code",
   "execution_count": 53,
   "metadata": {},
   "outputs": [],
   "source": [
    "def model_predict(m_no, train_data, n_input, n_features):\n",
    "    \n",
    "    model = Sequential()\n",
    "    model.add(LSTM(200, activation='relu', input_shape=(n_input, n_features)))\n",
    "    model.add(Dense(1))\n",
    "    model.compile(optimizer='adam', loss='mse')\n",
    "    \n",
    "    X, y = generate_data(train_data, n_input, m_no)\n",
    "    \n",
    "    #print(\"MODEL : \", m_no)\n",
    "    #print(X[0], y[0])\n",
    "    \n",
    "    model.fit(X, y, epochs=3, verbose=0)\n",
    "    \n",
    "    tX = train_data[-n_input:]\n",
    "    \n",
    "    tX = tX.reshape((1, n_input, n_features))\n",
    "    \n",
    "    res = model.predict(tX)\n",
    "    \n",
    "    return res[0]"
   ]
  },
  {
   "cell_type": "code",
   "execution_count": 54,
   "metadata": {},
   "outputs": [
    {
     "name": "stdout",
     "output_type": "stream",
     "text": [
      "WARNING:tensorflow:5 out of the last 29 calls to <function Model.make_predict_function.<locals>.predict_function at 0x00000126B22A65E0> triggered tf.function retracing. Tracing is expensive and the excessive number of tracings could be due to (1) creating @tf.function repeatedly in a loop, (2) passing tensors with different shapes, (3) passing Python objects instead of tensors. For (1), please define your @tf.function outside of the loop. For (2), @tf.function has experimental_relax_shapes=True option that relaxes argument shapes that can avoid unnecessary retracing. For (3), please refer to https://www.tensorflow.org/guide/function#controlling_retracing and https://www.tensorflow.org/api_docs/python/tf/function for  more details.\n",
      "WARNING:tensorflow:6 out of the last 30 calls to <function Model.make_predict_function.<locals>.predict_function at 0x00000126B52679D0> triggered tf.function retracing. Tracing is expensive and the excessive number of tracings could be due to (1) creating @tf.function repeatedly in a loop, (2) passing tensors with different shapes, (3) passing Python objects instead of tensors. For (1), please define your @tf.function outside of the loop. For (2), @tf.function has experimental_relax_shapes=True option that relaxes argument shapes that can avoid unnecessary retracing. For (3), please refer to https://www.tensorflow.org/guide/function#controlling_retracing and https://www.tensorflow.org/api_docs/python/tf/function for  more details.\n"
     ]
    },
    {
     "data": {
      "text/plain": [
       "[array([0.07418448], dtype=float32),\n",
       " array([0.1111533], dtype=float32),\n",
       " array([0.12528037], dtype=float32),\n",
       " array([0.1066903], dtype=float32),\n",
       " array([0.13270858], dtype=float32),\n",
       " array([0.15586141], dtype=float32),\n",
       " array([0.15526721], dtype=float32),\n",
       " array([0.16325717], dtype=float32),\n",
       " array([0.1398445], dtype=float32),\n",
       " array([0.12928241], dtype=float32),\n",
       " array([0.14983943], dtype=float32),\n",
       " array([0.11991017], dtype=float32),\n",
       " array([0.14040703], dtype=float32),\n",
       " array([0.15925129], dtype=float32),\n",
       " array([0.09874257], dtype=float32),\n",
       " array([0.10821271], dtype=float32),\n",
       " array([0.12013597], dtype=float32),\n",
       " array([0.11259069], dtype=float32),\n",
       " array([0.1042766], dtype=float32),\n",
       " array([0.12376004], dtype=float32),\n",
       " array([0.09517863], dtype=float32),\n",
       " array([0.09852502], dtype=float32),\n",
       " array([0.09346238], dtype=float32),\n",
       " array([0.09065542], dtype=float32)]"
      ]
     },
     "execution_count": 54,
     "metadata": {},
     "output_type": "execute_result"
    }
   ],
   "source": [
    "n_input = 24\n",
    "n_features = 1\n",
    "test_predictions = []\n",
    "\n",
    "for i in range(len(scaled_test)):\n",
    "    test_predictions.append(model_predict(i+1,scaled_train,n_input, n_features))\n",
    "    \n",
    "test_predictions"
   ]
  },
  {
   "cell_type": "code",
   "execution_count": 55,
   "metadata": {},
   "outputs": [],
   "source": [
    "true_predictions = scaler.inverse_transform(test_predictions)\n",
    "\n",
    "test['direct_predict'] = true_predictions"
   ]
  },
  {
   "cell_type": "code",
   "execution_count": 56,
   "metadata": {},
   "outputs": [
    {
     "data": {
      "text/plain": [
       "<AxesSubplot:xlabel='date'>"
      ]
     },
     "execution_count": 56,
     "metadata": {},
     "output_type": "execute_result"
    },
    {
     "data": {
      "image/png": "[encoded data removed]",
      "text/plain": [
       "<Figure size 432x288 with 1 Axes>"
      ]
     },
     "metadata": {
      "needs_background": "light"
     },
     "output_type": "display_data"
    }
   ],
   "source": [
    "test.plot()"
   ]
  },
  {
   "cell_type": "code",
   "execution_count": 57,
   "metadata": {},
   "outputs": [
    {
     "name": "stdout",
     "output_type": "stream",
     "text": [
      "39.06836439361655\n"
     ]
    }
   ],
   "source": [
    "rmse = sqrt(mean_squared_error(test['PM2.5'], test['direct_predict']))\n",
    "print(rmse)"
   ]
  },
  {
   "cell_type": "code",
   "execution_count": 58,
   "metadata": {},
   "outputs": [
    {
     "data": {
      "text/html": [
       "<div>\n",
       "<style scoped>\n",
       "    .dataframe tbody tr th:only-of-type {\n",
       "        vertical-align: middle;\n",
       "    }\n",
       "\n",
       "    .dataframe tbody tr th {\n",
       "        vertical-align: top;\n",
       "    }\n",
       "\n",
       "    .dataframe thead th {\n",
       "        text-align: right;\n",
       "    }\n",
       "</style>\n",
       "<table border=\"1\" class=\"dataframe\">\n",
       "  <thead>\n",
       "    <tr style=\"text-align: right;\">\n",
       "      <th></th>\n",
       "      <th>PM2.5</th>\n",
       "      <th>recursive_predict</th>\n",
       "      <th>direct_predict</th>\n",
       "    </tr>\n",
       "    <tr>\n",
       "      <th>date</th>\n",
       "      <th></th>\n",
       "      <th></th>\n",
       "      <th></th>\n",
       "    </tr>\n",
       "  </thead>\n",
       "  <tbody>\n",
       "    <tr>\n",
       "      <th>2020-01-10 18:00:00</th>\n",
       "      <td>104.55</td>\n",
       "      <td>76.189809</td>\n",
       "      <td>67.045622</td>\n",
       "    </tr>\n",
       "    <tr>\n",
       "      <th>2020-01-10 19:00:00</th>\n",
       "      <td>164.92</td>\n",
       "      <td>81.832538</td>\n",
       "      <td>98.692786</td>\n",
       "    </tr>\n",
       "    <tr>\n",
       "      <th>2020-01-10 20:00:00</th>\n",
       "      <td>211.35</td>\n",
       "      <td>85.394167</td>\n",
       "      <td>110.786257</td>\n",
       "    </tr>\n",
       "    <tr>\n",
       "      <th>2020-01-10 21:00:00</th>\n",
       "      <td>141.20</td>\n",
       "      <td>87.034970</td>\n",
       "      <td>94.872233</td>\n",
       "    </tr>\n",
       "    <tr>\n",
       "      <th>2020-01-10 22:00:00</th>\n",
       "      <td>121.06</td>\n",
       "      <td>87.670870</td>\n",
       "      <td>117.145179</td>\n",
       "    </tr>\n",
       "    <tr>\n",
       "      <th>2020-01-10 23:00:00</th>\n",
       "      <td>119.04</td>\n",
       "      <td>88.247754</td>\n",
       "      <td>136.965158</td>\n",
       "    </tr>\n",
       "    <tr>\n",
       "      <th>2020-01-11 00:00:00</th>\n",
       "      <td>98.77</td>\n",
       "      <td>89.380224</td>\n",
       "      <td>136.456494</td>\n",
       "    </tr>\n",
       "    <tr>\n",
       "      <th>2020-01-11 01:00:00</th>\n",
       "      <td>80.07</td>\n",
       "      <td>91.121795</td>\n",
       "      <td>143.296298</td>\n",
       "    </tr>\n",
       "    <tr>\n",
       "      <th>2020-01-11 02:00:00</th>\n",
       "      <td>86.52</td>\n",
       "      <td>93.225830</td>\n",
       "      <td>123.253890</td>\n",
       "    </tr>\n",
       "    <tr>\n",
       "      <th>2020-01-11 03:00:00</th>\n",
       "      <td>99.19</td>\n",
       "      <td>95.381892</td>\n",
       "      <td>114.212211</td>\n",
       "    </tr>\n",
       "    <tr>\n",
       "      <th>2020-01-11 04:00:00</th>\n",
       "      <td>106.13</td>\n",
       "      <td>97.371946</td>\n",
       "      <td>131.810045</td>\n",
       "    </tr>\n",
       "    <tr>\n",
       "      <th>2020-01-11 05:00:00</th>\n",
       "      <td>119.74</td>\n",
       "      <td>99.120232</td>\n",
       "      <td>106.189097</td>\n",
       "    </tr>\n",
       "    <tr>\n",
       "      <th>2020-01-11 06:00:00</th>\n",
       "      <td>147.07</td>\n",
       "      <td>100.663508</td>\n",
       "      <td>123.735434</td>\n",
       "    </tr>\n",
       "    <tr>\n",
       "      <th>2020-01-11 07:00:00</th>\n",
       "      <td>152.47</td>\n",
       "      <td>102.087954</td>\n",
       "      <td>139.867065</td>\n",
       "    </tr>\n",
       "    <tr>\n",
       "      <th>2020-01-11 08:00:00</th>\n",
       "      <td>137.57</td>\n",
       "      <td>103.472690</td>\n",
       "      <td>88.068581</td>\n",
       "    </tr>\n",
       "    <tr>\n",
       "      <th>2020-01-11 09:00:00</th>\n",
       "      <td>98.44</td>\n",
       "      <td>104.860660</td>\n",
       "      <td>96.175490</td>\n",
       "    </tr>\n",
       "    <tr>\n",
       "      <th>2020-01-11 10:00:00</th>\n",
       "      <td>81.47</td>\n",
       "      <td>106.257355</td>\n",
       "      <td>106.382397</td>\n",
       "    </tr>\n",
       "    <tr>\n",
       "      <th>2020-01-11 11:00:00</th>\n",
       "      <td>74.93</td>\n",
       "      <td>107.645121</td>\n",
       "      <td>99.923256</td>\n",
       "    </tr>\n",
       "    <tr>\n",
       "      <th>2020-01-11 12:00:00</th>\n",
       "      <td>69.56</td>\n",
       "      <td>109.000927</td>\n",
       "      <td>92.805988</td>\n",
       "    </tr>\n",
       "    <tr>\n",
       "      <th>2020-01-11 13:00:00</th>\n",
       "      <td>66.62</td>\n",
       "      <td>110.308501</td>\n",
       "      <td>109.484780</td>\n",
       "    </tr>\n",
       "    <tr>\n",
       "      <th>2020-01-11 14:00:00</th>\n",
       "      <td>57.87</td>\n",
       "      <td>111.562481</td>\n",
       "      <td>85.017663</td>\n",
       "    </tr>\n",
       "    <tr>\n",
       "      <th>2020-01-11 15:00:00</th>\n",
       "      <td>53.99</td>\n",
       "      <td>112.766226</td>\n",
       "      <td>87.882348</td>\n",
       "    </tr>\n",
       "    <tr>\n",
       "      <th>2020-01-11 16:00:00</th>\n",
       "      <td>52.26</td>\n",
       "      <td>113.927073</td>\n",
       "      <td>83.548469</td>\n",
       "    </tr>\n",
       "    <tr>\n",
       "      <th>2020-01-11 17:00:00</th>\n",
       "      <td>53.56</td>\n",
       "      <td>115.052050</td>\n",
       "      <td>81.145569</td>\n",
       "    </tr>\n",
       "  </tbody>\n",
       "</table>\n",
       "</div>"
      ],
      "text/plain": [
       "                      PM2.5  recursive_predict  direct_predict\n",
       "date                                                          \n",
       "2020-01-10 18:00:00  104.55          76.189809       67.045622\n",
       "2020-01-10 19:00:00  164.92          81.832538       98.692786\n",
       "2020-01-10 20:00:00  211.35          85.394167      110.786257\n",
       "2020-01-10 21:00:00  141.20          87.034970       94.872233\n",
       "2020-01-10 22:00:00  121.06          87.670870      117.145179\n",
       "2020-01-10 23:00:00  119.04          88.247754      136.965158\n",
       "2020-01-11 00:00:00   98.77          89.380224      136.456494\n",
       "2020-01-11 01:00:00   80.07          91.121795      143.296298\n",
       "2020-01-11 02:00:00   86.52          93.225830      123.253890\n",
       "2020-01-11 03:00:00   99.19          95.381892      114.212211\n",
       "2020-01-11 04:00:00  106.13          97.371946      131.810045\n",
       "2020-01-11 05:00:00  119.74          99.120232      106.189097\n",
       "2020-01-11 06:00:00  147.07         100.663508      123.735434\n",
       "2020-01-11 07:00:00  152.47         102.087954      139.867065\n",
       "2020-01-11 08:00:00  137.57         103.472690       88.068581\n",
       "2020-01-11 09:00:00   98.44         104.860660       96.175490\n",
       "2020-01-11 10:00:00   81.47         106.257355      106.382397\n",
       "2020-01-11 11:00:00   74.93         107.645121       99.923256\n",
       "2020-01-11 12:00:00   69.56         109.000927       92.805988\n",
       "2020-01-11 13:00:00   66.62         110.308501      109.484780\n",
       "2020-01-11 14:00:00   57.87         111.562481       85.017663\n",
       "2020-01-11 15:00:00   53.99         112.766226       87.882348\n",
       "2020-01-11 16:00:00   52.26         113.927073       83.548469\n",
       "2020-01-11 17:00:00   53.56         115.052050       81.145569"
      ]
     },
     "execution_count": 58,
     "metadata": {},
     "output_type": "execute_result"
    }
   ],
   "source": [
    "test"
   ]
  },
  {
   "cell_type": "markdown",
   "metadata": {},
   "source": [
    "# Direct Recursive Startegy"
   ]
  },
  {
   "cell_type": "code",
   "execution_count": 59,
   "metadata": {},
   "outputs": [],
   "source": [
    "def generate_data(data, n_input, month):\n",
    "    X, y = [], []\n",
    "    for i in range(0,len(data)-(n_input+month)):\n",
    "            X.append(data[i:i+n_input+(month-1)])\n",
    "            y.append(data[i+n_input+(month-1)])\n",
    "    return np.array(X), np.array(y)"
   ]
  },
  {
   "cell_type": "code",
   "execution_count": 60,
   "metadata": {},
   "outputs": [],
   "source": [
    "def model_predict(m_no, train_data, n_input, n_features):\n",
    "    \n",
    "    model = Sequential()\n",
    "    model.add(LSTM(200, activation='relu', input_shape=(n_input+(m_no - 1), n_features)))\n",
    "    model.add(Dense(1))\n",
    "    model.compile(optimizer='adam', loss='mse')\n",
    "    \n",
    "    X, y = generate_data(train_data, n_input, m_no)\n",
    "    #print(y.dtype)\n",
    "    \n",
    "    #print(\"Model No.  - \", m_no)\n",
    "    #print(X[0], y[0])\n",
    "    #print(\"SHAPE XY : \", X.shape, y.shape)\n",
    "    \n",
    "    model.fit(X, y, epochs=3, verbose=0)\n",
    "    \n",
    "    tX = train_data[-n_input:]\n",
    "    tP = np.array(test_predictions)\n",
    "    \n",
    "    tX = np.concatenate((tX, tP), axis=None)\n",
    "    \n",
    "    #print(\"TYPE : \", type(tX), type(tP))\n",
    "    \n",
    "    #print(\"TX : \", tX)\n",
    "        \n",
    "    #print(\"SHAPE : \" , tX.shape)\n",
    "    \n",
    "    tX = tX.reshape((1, tX.shape[0], n_features))\n",
    "    \n",
    "    res = model.predict(tX)\n",
    "    \n",
    "    return res[0]"
   ]
  },
  {
   "cell_type": "code",
   "execution_count": 61,
   "metadata": {},
   "outputs": [
    {
     "data": {
      "text/plain": [
       "[array([0.08701425], dtype=float32),\n",
       " array([0.0889023], dtype=float32),\n",
       " array([0.09371018], dtype=float32),\n",
       " array([0.10258907], dtype=float32),\n",
       " array([0.110614], dtype=float32),\n",
       " array([0.11692544], dtype=float32),\n",
       " array([0.11854862], dtype=float32),\n",
       " array([0.10694307], dtype=float32),\n",
       " array([0.11705755], dtype=float32),\n",
       " array([0.12117421], dtype=float32),\n",
       " array([0.11150634], dtype=float32),\n",
       " array([0.13057669], dtype=float32),\n",
       " array([0.14194535], dtype=float32),\n",
       " array([0.1202958], dtype=float32),\n",
       " array([0.12165014], dtype=float32),\n",
       " array([0.1319478], dtype=float32),\n",
       " array([0.12017237], dtype=float32),\n",
       " array([0.12512074], dtype=float32),\n",
       " array([0.11701664], dtype=float32),\n",
       " array([0.12642546], dtype=float32),\n",
       " array([0.10179558], dtype=float32),\n",
       " array([0.10833962], dtype=float32),\n",
       " array([0.12617774], dtype=float32),\n",
       " array([0.12072013], dtype=float32)]"
      ]
     },
     "execution_count": 61,
     "metadata": {},
     "output_type": "execute_result"
    }
   ],
   "source": [
    "n_input = 24\n",
    "n_features = 1\n",
    "test_predictions = []\n",
    "\n",
    "for i in range(len(scaled_test)):\n",
    "    pred = model_predict(i+1,scaled_train,n_input, n_features)\n",
    "    test_predictions.append(pred)\n",
    "    \n",
    "test_predictions"
   ]
  },
  {
   "cell_type": "code",
   "execution_count": 62,
   "metadata": {},
   "outputs": [],
   "source": [
    "true_predictions = scaler.inverse_transform(test_predictions)\n",
    "\n",
    "test['direct_recursive_predict'] = true_predictions"
   ]
  },
  {
   "cell_type": "code",
   "execution_count": 63,
   "metadata": {},
   "outputs": [
    {
     "data": {
      "text/plain": [
       "<AxesSubplot:xlabel='date'>"
      ]
     },
     "execution_count": 63,
     "metadata": {},
     "output_type": "execute_result"
    },
    {
     "data": {
      "image/png": "[encoded data removed]",
      "text/plain": [
       "<Figure size 432x288 with 1 Axes>"
      ]
     },
     "metadata": {
      "needs_background": "light"
     },
     "output_type": "display_data"
    }
   ],
   "source": [
    "test.plot()"
   ]
  },
  {
   "cell_type": "code",
   "execution_count": 64,
   "metadata": {},
   "outputs": [
    {
     "name": "stdout",
     "output_type": "stream",
     "text": [
      "43.93971268930352\n"
     ]
    }
   ],
   "source": [
    "rmse = sqrt(mean_squared_error(test['PM2.5'], test['direct_recursive_predict']))\n",
    "print(rmse)"
   ]
  },
  {
   "cell_type": "code",
   "execution_count": 65,
   "metadata": {},
   "outputs": [
    {
     "data": {
      "text/html": [
       "<div>\n",
       "<style scoped>\n",
       "    .dataframe tbody tr th:only-of-type {\n",
       "        vertical-align: middle;\n",
       "    }\n",
       "\n",
       "    .dataframe tbody tr th {\n",
       "        vertical-align: top;\n",
       "    }\n",
       "\n",
       "    .dataframe thead th {\n",
       "        text-align: right;\n",
       "    }\n",
       "</style>\n",
       "<table border=\"1\" class=\"dataframe\">\n",
       "  <thead>\n",
       "    <tr style=\"text-align: right;\">\n",
       "      <th></th>\n",
       "      <th>PM2.5</th>\n",
       "      <th>recursive_predict</th>\n",
       "      <th>direct_predict</th>\n",
       "      <th>direct_recursive_predict</th>\n",
       "    </tr>\n",
       "    <tr>\n",
       "      <th>date</th>\n",
       "      <th></th>\n",
       "      <th></th>\n",
       "      <th></th>\n",
       "      <th></th>\n",
       "    </tr>\n",
       "  </thead>\n",
       "  <tbody>\n",
       "    <tr>\n",
       "      <th>2020-01-10 18:00:00</th>\n",
       "      <td>104.55</td>\n",
       "      <td>76.189809</td>\n",
       "      <td>67.045622</td>\n",
       "      <td>78.028549</td>\n",
       "    </tr>\n",
       "    <tr>\n",
       "      <th>2020-01-10 19:00:00</th>\n",
       "      <td>164.92</td>\n",
       "      <td>81.832538</td>\n",
       "      <td>98.692786</td>\n",
       "      <td>79.644816</td>\n",
       "    </tr>\n",
       "    <tr>\n",
       "      <th>2020-01-10 20:00:00</th>\n",
       "      <td>211.35</td>\n",
       "      <td>85.394167</td>\n",
       "      <td>110.786257</td>\n",
       "      <td>83.760603</td>\n",
       "    </tr>\n",
       "    <tr>\n",
       "      <th>2020-01-10 21:00:00</th>\n",
       "      <td>141.20</td>\n",
       "      <td>87.034970</td>\n",
       "      <td>94.872233</td>\n",
       "      <td>91.361374</td>\n",
       "    </tr>\n",
       "    <tr>\n",
       "      <th>2020-01-10 22:00:00</th>\n",
       "      <td>121.06</td>\n",
       "      <td>87.670870</td>\n",
       "      <td>117.145179</td>\n",
       "      <td>98.231116</td>\n",
       "    </tr>\n",
       "    <tr>\n",
       "      <th>2020-01-10 23:00:00</th>\n",
       "      <td>119.04</td>\n",
       "      <td>88.247754</td>\n",
       "      <td>136.965158</td>\n",
       "      <td>103.634024</td>\n",
       "    </tr>\n",
       "    <tr>\n",
       "      <th>2020-01-11 00:00:00</th>\n",
       "      <td>98.77</td>\n",
       "      <td>89.380224</td>\n",
       "      <td>136.456494</td>\n",
       "      <td>105.023543</td>\n",
       "    </tr>\n",
       "    <tr>\n",
       "      <th>2020-01-11 01:00:00</th>\n",
       "      <td>80.07</td>\n",
       "      <td>91.121795</td>\n",
       "      <td>143.296298</td>\n",
       "      <td>95.088616</td>\n",
       "    </tr>\n",
       "    <tr>\n",
       "      <th>2020-01-11 02:00:00</th>\n",
       "      <td>86.52</td>\n",
       "      <td>93.225830</td>\n",
       "      <td>123.253890</td>\n",
       "      <td>103.747119</td>\n",
       "    </tr>\n",
       "    <tr>\n",
       "      <th>2020-01-11 03:00:00</th>\n",
       "      <td>99.19</td>\n",
       "      <td>95.381892</td>\n",
       "      <td>114.212211</td>\n",
       "      <td>107.271181</td>\n",
       "    </tr>\n",
       "    <tr>\n",
       "      <th>2020-01-11 04:00:00</th>\n",
       "      <td>106.13</td>\n",
       "      <td>97.371946</td>\n",
       "      <td>131.810045</td>\n",
       "      <td>98.994998</td>\n",
       "    </tr>\n",
       "    <tr>\n",
       "      <th>2020-01-11 05:00:00</th>\n",
       "      <td>119.74</td>\n",
       "      <td>99.120232</td>\n",
       "      <td>106.189097</td>\n",
       "      <td>115.320171</td>\n",
       "    </tr>\n",
       "    <tr>\n",
       "      <th>2020-01-11 06:00:00</th>\n",
       "      <td>147.07</td>\n",
       "      <td>100.663508</td>\n",
       "      <td>123.735434</td>\n",
       "      <td>125.052314</td>\n",
       "    </tr>\n",
       "    <tr>\n",
       "      <th>2020-01-11 07:00:00</th>\n",
       "      <td>152.47</td>\n",
       "      <td>102.087954</td>\n",
       "      <td>139.867065</td>\n",
       "      <td>106.519220</td>\n",
       "    </tr>\n",
       "    <tr>\n",
       "      <th>2020-01-11 08:00:00</th>\n",
       "      <td>137.57</td>\n",
       "      <td>103.472690</td>\n",
       "      <td>88.068581</td>\n",
       "      <td>107.678606</td>\n",
       "    </tr>\n",
       "    <tr>\n",
       "      <th>2020-01-11 09:00:00</th>\n",
       "      <td>98.44</td>\n",
       "      <td>104.860660</td>\n",
       "      <td>96.175490</td>\n",
       "      <td>116.493915</td>\n",
       "    </tr>\n",
       "    <tr>\n",
       "      <th>2020-01-11 10:00:00</th>\n",
       "      <td>81.47</td>\n",
       "      <td>106.257355</td>\n",
       "      <td>106.382397</td>\n",
       "      <td>106.413554</td>\n",
       "    </tr>\n",
       "    <tr>\n",
       "      <th>2020-01-11 11:00:00</th>\n",
       "      <td>74.93</td>\n",
       "      <td>107.645121</td>\n",
       "      <td>99.923256</td>\n",
       "      <td>110.649613</td>\n",
       "    </tr>\n",
       "    <tr>\n",
       "      <th>2020-01-11 12:00:00</th>\n",
       "      <td>69.56</td>\n",
       "      <td>109.000927</td>\n",
       "      <td>92.805988</td>\n",
       "      <td>103.712097</td>\n",
       "    </tr>\n",
       "    <tr>\n",
       "      <th>2020-01-11 13:00:00</th>\n",
       "      <td>66.62</td>\n",
       "      <td>110.308501</td>\n",
       "      <td>109.484780</td>\n",
       "      <td>111.766515</td>\n",
       "    </tr>\n",
       "    <tr>\n",
       "      <th>2020-01-11 14:00:00</th>\n",
       "      <td>57.87</td>\n",
       "      <td>111.562481</td>\n",
       "      <td>85.017663</td>\n",
       "      <td>90.682110</td>\n",
       "    </tr>\n",
       "    <tr>\n",
       "      <th>2020-01-11 15:00:00</th>\n",
       "      <td>53.99</td>\n",
       "      <td>112.766226</td>\n",
       "      <td>87.882348</td>\n",
       "      <td>96.284134</td>\n",
       "    </tr>\n",
       "    <tr>\n",
       "      <th>2020-01-11 16:00:00</th>\n",
       "      <td>52.26</td>\n",
       "      <td>113.927073</td>\n",
       "      <td>83.548469</td>\n",
       "      <td>111.554457</td>\n",
       "    </tr>\n",
       "    <tr>\n",
       "      <th>2020-01-11 17:00:00</th>\n",
       "      <td>53.56</td>\n",
       "      <td>115.052050</td>\n",
       "      <td>81.145569</td>\n",
       "      <td>106.882464</td>\n",
       "    </tr>\n",
       "  </tbody>\n",
       "</table>\n",
       "</div>"
      ],
      "text/plain": [
       "                      PM2.5  recursive_predict  direct_predict  \\\n",
       "date                                                             \n",
       "2020-01-10 18:00:00  104.55          76.189809       67.045622   \n",
       "2020-01-10 19:00:00  164.92          81.832538       98.692786   \n",
       "2020-01-10 20:00:00  211.35          85.394167      110.786257   \n",
       "2020-01-10 21:00:00  141.20          87.034970       94.872233   \n",
       "2020-01-10 22:00:00  121.06          87.670870      117.145179   \n",
       "2020-01-10 23:00:00  119.04          88.247754      136.965158   \n",
       "2020-01-11 00:00:00   98.77          89.380224      136.456494   \n",
       "2020-01-11 01:00:00   80.07          91.121795      143.296298   \n",
       "2020-01-11 02:00:00   86.52          93.225830      123.253890   \n",
       "2020-01-11 03:00:00   99.19          95.381892      114.212211   \n",
       "2020-01-11 04:00:00  106.13          97.371946      131.810045   \n",
       "2020-01-11 05:00:00  119.74          99.120232      106.189097   \n",
       "2020-01-11 06:00:00  147.07         100.663508      123.735434   \n",
       "2020-01-11 07:00:00  152.47         102.087954      139.867065   \n",
       "2020-01-11 08:00:00  137.57         103.472690       88.068581   \n",
       "2020-01-11 09:00:00   98.44         104.860660       96.175490   \n",
       "2020-01-11 10:00:00   81.47         106.257355      106.382397   \n",
       "2020-01-11 11:00:00   74.93         107.645121       99.923256   \n",
       "2020-01-11 12:00:00   69.56         109.000927       92.805988   \n",
       "2020-01-11 13:00:00   66.62         110.308501      109.484780   \n",
       "2020-01-11 14:00:00   57.87         111.562481       85.017663   \n",
       "2020-01-11 15:00:00   53.99         112.766226       87.882348   \n",
       "2020-01-11 16:00:00   52.26         113.927073       83.548469   \n",
       "2020-01-11 17:00:00   53.56         115.052050       81.145569   \n",
       "\n",
       "                     direct_recursive_predict  \n",
       "date                                           \n",
       "2020-01-10 18:00:00                 78.028549  \n",
       "2020-01-10 19:00:00                 79.644816  \n",
       "2020-01-10 20:00:00                 83.760603  \n",
       "2020-01-10 21:00:00                 91.361374  \n",
       "2020-01-10 22:00:00                 98.231116  \n",
       "2020-01-10 23:00:00                103.634024  \n",
       "2020-01-11 00:00:00                105.023543  \n",
       "2020-01-11 01:00:00                 95.088616  \n",
       "2020-01-11 02:00:00                103.747119  \n",
       "2020-01-11 03:00:00                107.271181  \n",
       "2020-01-11 04:00:00                 98.994998  \n",
       "2020-01-11 05:00:00                115.320171  \n",
       "2020-01-11 06:00:00                125.052314  \n",
       "2020-01-11 07:00:00                106.519220  \n",
       "2020-01-11 08:00:00                107.678606  \n",
       "2020-01-11 09:00:00                116.493915  \n",
       "2020-01-11 10:00:00                106.413554  \n",
       "2020-01-11 11:00:00                110.649613  \n",
       "2020-01-11 12:00:00                103.712097  \n",
       "2020-01-11 13:00:00                111.766515  \n",
       "2020-01-11 14:00:00                 90.682110  \n",
       "2020-01-11 15:00:00                 96.284134  \n",
       "2020-01-11 16:00:00                111.554457  \n",
       "2020-01-11 17:00:00                106.882464  "
      ]
     },
     "execution_count": 65,
     "metadata": {},
     "output_type": "execute_result"
    }
   ],
   "source": [
    "test"
   ]
  },
  {
   "cell_type": "markdown",
   "metadata": {},
   "source": [
    "# MIMO"
   ]
  },
  {
   "cell_type": "code",
   "execution_count": 66,
   "metadata": {},
   "outputs": [],
   "source": [
    "def generate_data(data, n_input, n_output):\n",
    "    X, y = [], []\n",
    "    for i in range(0,len(data)-(n_input+n_output)):\n",
    "            X.append(data[i:(i+n_input)])\n",
    "            y.append(data[i+n_input: i+n_input+n_output])\n",
    "    return np.array(X), np.array(y)"
   ]
  },
  {
   "cell_type": "code",
   "execution_count": 67,
   "metadata": {},
   "outputs": [],
   "source": [
    "n_input = 24\n",
    "n_features = 1\n",
    "n_output = len(scaled_test)\n",
    "\n",
    "X, y = generate_data(scaled_train, n_input, n_output)"
   ]
  },
  {
   "cell_type": "code",
   "execution_count": 68,
   "metadata": {},
   "outputs": [],
   "source": [
    "model = Sequential()\n",
    "model.add(LSTM(200, activation='relu', input_shape=(n_input, n_features)))\n",
    "model.add(Dense(n_output))\n",
    "model.compile(optimizer='adam', loss='mse')"
   ]
  },
  {
   "cell_type": "code",
   "execution_count": 69,
   "metadata": {},
   "outputs": [
    {
     "data": {
      "text/plain": [
       "<keras.callbacks.History at 0x126b5106910>"
      ]
     },
     "execution_count": 69,
     "metadata": {},
     "output_type": "execute_result"
    }
   ],
   "source": [
    "model.fit(X, y, epochs=3, verbose=0)"
   ]
  },
  {
   "cell_type": "code",
   "execution_count": 70,
   "metadata": {},
   "outputs": [
    {
     "name": "stdout",
     "output_type": "stream",
     "text": [
      "Model: \"sequential_50\"\n",
      "_________________________________________________________________\n",
      "Layer (type)                 Output Shape              Param #   \n",
      "=================================================================\n",
      "lstm_50 (LSTM)               (None, 200)               161600    \n",
      "_________________________________________________________________\n",
      "dense_50 (Dense)             (None, 24)                4824      \n",
      "=================================================================\n",
      "Total params: 166,424\n",
      "Trainable params: 166,424\n",
      "Non-trainable params: 0\n",
      "_________________________________________________________________\n"
     ]
    }
   ],
   "source": [
    "model.summary()"
   ]
  },
  {
   "cell_type": "code",
   "execution_count": 71,
   "metadata": {},
   "outputs": [],
   "source": [
    "tX = scaled_train[-n_input:]\n",
    "tX = tX.reshape((1, tX.shape[0], n_features))\n",
    "\n",
    "res = model.predict(tX)\n",
    "\n",
    "res = res.reshape((res.shape[1],1))"
   ]
  },
  {
   "cell_type": "code",
   "execution_count": 72,
   "metadata": {},
   "outputs": [
    {
     "data": {
      "text/plain": [
       "(24, 1)"
      ]
     },
     "execution_count": 72,
     "metadata": {},
     "output_type": "execute_result"
    }
   ],
   "source": [
    "res.shape"
   ]
  },
  {
   "cell_type": "code",
   "execution_count": 73,
   "metadata": {},
   "outputs": [],
   "source": [
    "true_predictions = scaler.inverse_transform(res)\n",
    "\n",
    "test['MIMO_predict'] = true_predictions"
   ]
  },
  {
   "cell_type": "code",
   "execution_count": 74,
   "metadata": {},
   "outputs": [
    {
     "data": {
      "text/html": [
       "<div>\n",
       "<style scoped>\n",
       "    .dataframe tbody tr th:only-of-type {\n",
       "        vertical-align: middle;\n",
       "    }\n",
       "\n",
       "    .dataframe tbody tr th {\n",
       "        vertical-align: top;\n",
       "    }\n",
       "\n",
       "    .dataframe thead th {\n",
       "        text-align: right;\n",
       "    }\n",
       "</style>\n",
       "<table border=\"1\" class=\"dataframe\">\n",
       "  <thead>\n",
       "    <tr style=\"text-align: right;\">\n",
       "      <th></th>\n",
       "      <th>PM2.5</th>\n",
       "      <th>recursive_predict</th>\n",
       "      <th>direct_predict</th>\n",
       "      <th>direct_recursive_predict</th>\n",
       "      <th>MIMO_predict</th>\n",
       "    </tr>\n",
       "    <tr>\n",
       "      <th>date</th>\n",
       "      <th></th>\n",
       "      <th></th>\n",
       "      <th></th>\n",
       "      <th></th>\n",
       "      <th></th>\n",
       "    </tr>\n",
       "  </thead>\n",
       "  <tbody>\n",
       "    <tr>\n",
       "      <th>2020-01-10 18:00:00</th>\n",
       "      <td>104.55</td>\n",
       "      <td>76.189809</td>\n",
       "      <td>67.045622</td>\n",
       "      <td>78.028549</td>\n",
       "      <td>85.068443</td>\n",
       "    </tr>\n",
       "    <tr>\n",
       "      <th>2020-01-10 19:00:00</th>\n",
       "      <td>164.92</td>\n",
       "      <td>81.832538</td>\n",
       "      <td>98.692786</td>\n",
       "      <td>79.644816</td>\n",
       "      <td>91.302292</td>\n",
       "    </tr>\n",
       "    <tr>\n",
       "      <th>2020-01-10 20:00:00</th>\n",
       "      <td>211.35</td>\n",
       "      <td>85.394167</td>\n",
       "      <td>110.786257</td>\n",
       "      <td>83.760603</td>\n",
       "      <td>104.261391</td>\n",
       "    </tr>\n",
       "    <tr>\n",
       "      <th>2020-01-10 21:00:00</th>\n",
       "      <td>141.20</td>\n",
       "      <td>87.034970</td>\n",
       "      <td>94.872233</td>\n",
       "      <td>91.361374</td>\n",
       "      <td>97.049576</td>\n",
       "    </tr>\n",
       "    <tr>\n",
       "      <th>2020-01-10 22:00:00</th>\n",
       "      <td>121.06</td>\n",
       "      <td>87.670870</td>\n",
       "      <td>117.145179</td>\n",
       "      <td>98.231116</td>\n",
       "      <td>106.081772</td>\n",
       "    </tr>\n",
       "    <tr>\n",
       "      <th>2020-01-10 23:00:00</th>\n",
       "      <td>119.04</td>\n",
       "      <td>88.247754</td>\n",
       "      <td>136.965158</td>\n",
       "      <td>103.634024</td>\n",
       "      <td>107.136887</td>\n",
       "    </tr>\n",
       "    <tr>\n",
       "      <th>2020-01-11 00:00:00</th>\n",
       "      <td>98.77</td>\n",
       "      <td>89.380224</td>\n",
       "      <td>136.456494</td>\n",
       "      <td>105.023543</td>\n",
       "      <td>108.801575</td>\n",
       "    </tr>\n",
       "    <tr>\n",
       "      <th>2020-01-11 01:00:00</th>\n",
       "      <td>80.07</td>\n",
       "      <td>91.121795</td>\n",
       "      <td>143.296298</td>\n",
       "      <td>95.088616</td>\n",
       "      <td>108.861923</td>\n",
       "    </tr>\n",
       "    <tr>\n",
       "      <th>2020-01-11 02:00:00</th>\n",
       "      <td>86.52</td>\n",
       "      <td>93.225830</td>\n",
       "      <td>123.253890</td>\n",
       "      <td>103.747119</td>\n",
       "      <td>108.982368</td>\n",
       "    </tr>\n",
       "    <tr>\n",
       "      <th>2020-01-11 03:00:00</th>\n",
       "      <td>99.19</td>\n",
       "      <td>95.381892</td>\n",
       "      <td>114.212211</td>\n",
       "      <td>107.271181</td>\n",
       "      <td>113.538895</td>\n",
       "    </tr>\n",
       "    <tr>\n",
       "      <th>2020-01-11 04:00:00</th>\n",
       "      <td>106.13</td>\n",
       "      <td>97.371946</td>\n",
       "      <td>131.810045</td>\n",
       "      <td>98.994998</td>\n",
       "      <td>112.374222</td>\n",
       "    </tr>\n",
       "    <tr>\n",
       "      <th>2020-01-11 05:00:00</th>\n",
       "      <td>119.74</td>\n",
       "      <td>99.120232</td>\n",
       "      <td>106.189097</td>\n",
       "      <td>115.320171</td>\n",
       "      <td>113.493553</td>\n",
       "    </tr>\n",
       "    <tr>\n",
       "      <th>2020-01-11 06:00:00</th>\n",
       "      <td>147.07</td>\n",
       "      <td>100.663508</td>\n",
       "      <td>123.735434</td>\n",
       "      <td>125.052314</td>\n",
       "      <td>111.079346</td>\n",
       "    </tr>\n",
       "    <tr>\n",
       "      <th>2020-01-11 07:00:00</th>\n",
       "      <td>152.47</td>\n",
       "      <td>102.087954</td>\n",
       "      <td>139.867065</td>\n",
       "      <td>106.519220</td>\n",
       "      <td>113.322426</td>\n",
       "    </tr>\n",
       "    <tr>\n",
       "      <th>2020-01-11 08:00:00</th>\n",
       "      <td>137.57</td>\n",
       "      <td>103.472690</td>\n",
       "      <td>88.068581</td>\n",
       "      <td>107.678606</td>\n",
       "      <td>116.081467</td>\n",
       "    </tr>\n",
       "    <tr>\n",
       "      <th>2020-01-11 09:00:00</th>\n",
       "      <td>98.44</td>\n",
       "      <td>104.860660</td>\n",
       "      <td>96.175490</td>\n",
       "      <td>116.493915</td>\n",
       "      <td>99.909981</td>\n",
       "    </tr>\n",
       "    <tr>\n",
       "      <th>2020-01-11 10:00:00</th>\n",
       "      <td>81.47</td>\n",
       "      <td>106.257355</td>\n",
       "      <td>106.382397</td>\n",
       "      <td>106.413554</td>\n",
       "      <td>102.618767</td>\n",
       "    </tr>\n",
       "    <tr>\n",
       "      <th>2020-01-11 11:00:00</th>\n",
       "      <td>74.93</td>\n",
       "      <td>107.645121</td>\n",
       "      <td>99.923256</td>\n",
       "      <td>110.649613</td>\n",
       "      <td>94.802391</td>\n",
       "    </tr>\n",
       "    <tr>\n",
       "      <th>2020-01-11 12:00:00</th>\n",
       "      <td>69.56</td>\n",
       "      <td>109.000927</td>\n",
       "      <td>92.805988</td>\n",
       "      <td>103.712097</td>\n",
       "      <td>92.217697</td>\n",
       "    </tr>\n",
       "    <tr>\n",
       "      <th>2020-01-11 13:00:00</th>\n",
       "      <td>66.62</td>\n",
       "      <td>110.308501</td>\n",
       "      <td>109.484780</td>\n",
       "      <td>111.766515</td>\n",
       "      <td>95.932693</td>\n",
       "    </tr>\n",
       "    <tr>\n",
       "      <th>2020-01-11 14:00:00</th>\n",
       "      <td>57.87</td>\n",
       "      <td>111.562481</td>\n",
       "      <td>85.017663</td>\n",
       "      <td>90.682110</td>\n",
       "      <td>92.940468</td>\n",
       "    </tr>\n",
       "    <tr>\n",
       "      <th>2020-01-11 15:00:00</th>\n",
       "      <td>53.99</td>\n",
       "      <td>112.766226</td>\n",
       "      <td>87.882348</td>\n",
       "      <td>96.284134</td>\n",
       "      <td>89.647423</td>\n",
       "    </tr>\n",
       "    <tr>\n",
       "      <th>2020-01-11 16:00:00</th>\n",
       "      <td>52.26</td>\n",
       "      <td>113.927073</td>\n",
       "      <td>83.548469</td>\n",
       "      <td>111.554457</td>\n",
       "      <td>88.821732</td>\n",
       "    </tr>\n",
       "    <tr>\n",
       "      <th>2020-01-11 17:00:00</th>\n",
       "      <td>53.56</td>\n",
       "      <td>115.052050</td>\n",
       "      <td>81.145569</td>\n",
       "      <td>106.882464</td>\n",
       "      <td>93.026947</td>\n",
       "    </tr>\n",
       "  </tbody>\n",
       "</table>\n",
       "</div>"
      ],
      "text/plain": [
       "                      PM2.5  recursive_predict  direct_predict  \\\n",
       "date                                                             \n",
       "2020-01-10 18:00:00  104.55          76.189809       67.045622   \n",
       "2020-01-10 19:00:00  164.92          81.832538       98.692786   \n",
       "2020-01-10 20:00:00  211.35          85.394167      110.786257   \n",
       "2020-01-10 21:00:00  141.20          87.034970       94.872233   \n",
       "2020-01-10 22:00:00  121.06          87.670870      117.145179   \n",
       "2020-01-10 23:00:00  119.04          88.247754      136.965158   \n",
       "2020-01-11 00:00:00   98.77          89.380224      136.456494   \n",
       "2020-01-11 01:00:00   80.07          91.121795      143.296298   \n",
       "2020-01-11 02:00:00   86.52          93.225830      123.253890   \n",
       "2020-01-11 03:00:00   99.19          95.381892      114.212211   \n",
       "2020-01-11 04:00:00  106.13          97.371946      131.810045   \n",
       "2020-01-11 05:00:00  119.74          99.120232      106.189097   \n",
       "2020-01-11 06:00:00  147.07         100.663508      123.735434   \n",
       "2020-01-11 07:00:00  152.47         102.087954      139.867065   \n",
       "2020-01-11 08:00:00  137.57         103.472690       88.068581   \n",
       "2020-01-11 09:00:00   98.44         104.860660       96.175490   \n",
       "2020-01-11 10:00:00   81.47         106.257355      106.382397   \n",
       "2020-01-11 11:00:00   74.93         107.645121       99.923256   \n",
       "2020-01-11 12:00:00   69.56         109.000927       92.805988   \n",
       "2020-01-11 13:00:00   66.62         110.308501      109.484780   \n",
       "2020-01-11 14:00:00   57.87         111.562481       85.017663   \n",
       "2020-01-11 15:00:00   53.99         112.766226       87.882348   \n",
       "2020-01-11 16:00:00   52.26         113.927073       83.548469   \n",
       "2020-01-11 17:00:00   53.56         115.052050       81.145569   \n",
       "\n",
       "                     direct_recursive_predict  MIMO_predict  \n",
       "date                                                         \n",
       "2020-01-10 18:00:00                 78.028549     85.068443  \n",
       "2020-01-10 19:00:00                 79.644816     91.302292  \n",
       "2020-01-10 20:00:00                 83.760603    104.261391  \n",
       "2020-01-10 21:00:00                 91.361374     97.049576  \n",
       "2020-01-10 22:00:00                 98.231116    106.081772  \n",
       "2020-01-10 23:00:00                103.634024    107.136887  \n",
       "2020-01-11 00:00:00                105.023543    108.801575  \n",
       "2020-01-11 01:00:00                 95.088616    108.861923  \n",
       "2020-01-11 02:00:00                103.747119    108.982368  \n",
       "2020-01-11 03:00:00                107.271181    113.538895  \n",
       "2020-01-11 04:00:00                 98.994998    112.374222  \n",
       "2020-01-11 05:00:00                115.320171    113.493553  \n",
       "2020-01-11 06:00:00                125.052314    111.079346  \n",
       "2020-01-11 07:00:00                106.519220    113.322426  \n",
       "2020-01-11 08:00:00                107.678606    116.081467  \n",
       "2020-01-11 09:00:00                116.493915     99.909981  \n",
       "2020-01-11 10:00:00                106.413554    102.618767  \n",
       "2020-01-11 11:00:00                110.649613     94.802391  \n",
       "2020-01-11 12:00:00                103.712097     92.217697  \n",
       "2020-01-11 13:00:00                111.766515     95.932693  \n",
       "2020-01-11 14:00:00                 90.682110     92.940468  \n",
       "2020-01-11 15:00:00                 96.284134     89.647423  \n",
       "2020-01-11 16:00:00                111.554457     88.821732  \n",
       "2020-01-11 17:00:00                106.882464     93.026947  "
      ]
     },
     "execution_count": 74,
     "metadata": {},
     "output_type": "execute_result"
    }
   ],
   "source": [
    "test"
   ]
  },
  {
   "cell_type": "code",
   "execution_count": 75,
   "metadata": {},
   "outputs": [
    {
     "data": {
      "text/plain": [
       "<AxesSubplot:xlabel='date'>"
      ]
     },
     "execution_count": 75,
     "metadata": {},
     "output_type": "execute_result"
    },
    {
     "data": {
      "image/png": "[encoded data removed]",
      "text/plain": [
       "<Figure size 432x288 with 1 Axes>"
      ]
     },
     "metadata": {
      "needs_background": "light"
     },
     "output_type": "display_data"
    }
   ],
   "source": [
    "test.plot()"
   ]
  },
  {
   "cell_type": "code",
   "execution_count": 76,
   "metadata": {},
   "outputs": [
    {
     "name": "stdout",
     "output_type": "stream",
     "text": [
      "36.63034884057802\n"
     ]
    }
   ],
   "source": [
    "rmse = sqrt(mean_squared_error(test['PM2.5'], test['MIMO_predict']))\n",
    "print(rmse)"
   ]
  },
  {
   "cell_type": "markdown",
   "metadata": {},
   "source": [
    "# Direct MIMO"
   ]
  },
  {
   "cell_type": "code",
   "execution_count": 77,
   "metadata": {},
   "outputs": [],
   "source": [
    "def generate_data(data, n_input, q_no, n_output):\n",
    "    X, y = [], []\n",
    "    for i in range(0,len(data)-(n_input + ((q_no-1)*n_output) + n_output)):\n",
    "            X.append(data[i:(i+n_input)])\n",
    "            y.append(data[i+n_input+((q_no-1)*n_output): i+n_input+((q_no-1)*n_output) + n_output])\n",
    "    return np.array(X), np.array(y)"
   ]
  },
  {
   "cell_type": "code",
   "execution_count": 78,
   "metadata": {},
   "outputs": [],
   "source": [
    "def model_predict(train_data, n_input, n_features, q_no, n_output):\n",
    "    \n",
    "    model = Sequential()\n",
    "    model.add(LSTM(200, activation='relu', input_shape=(n_input, n_features)))\n",
    "    model.add(Dense(n_output))\n",
    "    model.compile(optimizer='adam', loss='mse')\n",
    "    \n",
    "    X, y = generate_data(train_data, n_input, q_no, n_output)\n",
    "    \n",
    "    model.fit(X, y, epochs=3, verbose=0)\n",
    "    \n",
    "    tX = train_data[-n_input:]\n",
    "    \n",
    "    tX = tX.reshape((1, n_input, n_features))\n",
    "    \n",
    "    res = model.predict(tX)\n",
    "    \n",
    "    return res"
   ]
  },
  {
   "cell_type": "code",
   "execution_count": 83,
   "metadata": {},
   "outputs": [
    {
     "data": {
      "text/plain": [
       "[array([[0.07793869, 0.08491721, 0.09533188, 0.10553111, 0.1074985 ,\n",
       "         0.10989892]], dtype=float32),\n",
       " array([[0.15164313, 0.15014768, 0.15287152, 0.15245299, 0.15140277,\n",
       "         0.14952116]], dtype=float32),\n",
       " array([[0.13371618, 0.13083352, 0.1303435 , 0.13877296, 0.13337165,\n",
       "         0.13231644]], dtype=float32),\n",
       " array([[0.108464  , 0.1026604 , 0.0999949 , 0.09678162, 0.08797863,\n",
       "         0.09331675]], dtype=float32),\n",
       " array([[0.09690911, 0.0991304 , 0.10307395, 0.10411263, 0.10397749,\n",
       "         0.1055245 ]], dtype=float32),\n",
       " array([[0.11326189, 0.11586719, 0.11919577, 0.11878791, 0.11967532,\n",
       "         0.12220628]], dtype=float32)]"
      ]
     },
     "execution_count": 83,
     "metadata": {},
     "output_type": "execute_result"
    }
   ],
   "source": [
    "n_input = 12\n",
    "n_features = 1\n",
    "test_predictions = []\n",
    "\n",
    "q = int(len(scaled_test)/4)\n",
    "\n",
    "n_output = q\n",
    "\n",
    "for i in range(q):\n",
    "    pred = model_predict(scaled_train,n_input, n_features, i+1, n_output)\n",
    "    test_predictions.append(pred)\n",
    "\n",
    "test_predictions"
   ]
  },
  {
   "cell_type": "code",
   "execution_count": 84,
   "metadata": {},
   "outputs": [],
   "source": [
    "res = []\n",
    "\n",
    "for i in test_predictions:\n",
    "    for j in i:\n",
    "        for k in j:\n",
    "            res.append(k)"
   ]
  },
  {
   "cell_type": "code",
   "execution_count": 85,
   "metadata": {},
   "outputs": [
    {
     "data": {
      "text/plain": [
       "(24, 1)"
      ]
     },
     "execution_count": 85,
     "metadata": {},
     "output_type": "execute_result"
    }
   ],
   "source": [
    "res = np.array(res[:len(scaled_test)])\n",
    "res = res.reshape((res.shape[0],1))\n",
    "res.shape"
   ]
  },
  {
   "cell_type": "code",
   "execution_count": 86,
   "metadata": {},
   "outputs": [],
   "source": [
    "true_predictions = scaler.inverse_transform(res)\n",
    "\n",
    "test['Direct_MIMO_predict'] = true_predictions"
   ]
  },
  {
   "cell_type": "code",
   "execution_count": 87,
   "metadata": {},
   "outputs": [
    {
     "data": {
      "text/html": [
       "<div>\n",
       "<style scoped>\n",
       "    .dataframe tbody tr th:only-of-type {\n",
       "        vertical-align: middle;\n",
       "    }\n",
       "\n",
       "    .dataframe tbody tr th {\n",
       "        vertical-align: top;\n",
       "    }\n",
       "\n",
       "    .dataframe thead th {\n",
       "        text-align: right;\n",
       "    }\n",
       "</style>\n",
       "<table border=\"1\" class=\"dataframe\">\n",
       "  <thead>\n",
       "    <tr style=\"text-align: right;\">\n",
       "      <th></th>\n",
       "      <th>PM2.5</th>\n",
       "      <th>recursive_predict</th>\n",
       "      <th>direct_predict</th>\n",
       "      <th>direct_recursive_predict</th>\n",
       "      <th>MIMO_predict</th>\n",
       "      <th>Direct_MIMO_predict</th>\n",
       "    </tr>\n",
       "    <tr>\n",
       "      <th>date</th>\n",
       "      <th></th>\n",
       "      <th></th>\n",
       "      <th></th>\n",
       "      <th></th>\n",
       "      <th></th>\n",
       "      <th></th>\n",
       "    </tr>\n",
       "  </thead>\n",
       "  <tbody>\n",
       "    <tr>\n",
       "      <th>2020-01-10 18:00:00</th>\n",
       "      <td>104.55</td>\n",
       "      <td>76.189809</td>\n",
       "      <td>67.045622</td>\n",
       "      <td>78.028549</td>\n",
       "      <td>85.068443</td>\n",
       "      <td>70.259415</td>\n",
       "    </tr>\n",
       "    <tr>\n",
       "      <th>2020-01-10 19:00:00</th>\n",
       "      <td>164.92</td>\n",
       "      <td>81.832538</td>\n",
       "      <td>98.692786</td>\n",
       "      <td>79.644816</td>\n",
       "      <td>91.302292</td>\n",
       "      <td>76.233376</td>\n",
       "    </tr>\n",
       "    <tr>\n",
       "      <th>2020-01-10 20:00:00</th>\n",
       "      <td>211.35</td>\n",
       "      <td>85.394167</td>\n",
       "      <td>110.786257</td>\n",
       "      <td>83.760603</td>\n",
       "      <td>104.261391</td>\n",
       "      <td>85.148857</td>\n",
       "    </tr>\n",
       "    <tr>\n",
       "      <th>2020-01-10 21:00:00</th>\n",
       "      <td>141.20</td>\n",
       "      <td>87.034970</td>\n",
       "      <td>94.872233</td>\n",
       "      <td>91.361374</td>\n",
       "      <td>97.049576</td>\n",
       "      <td>93.879906</td>\n",
       "    </tr>\n",
       "    <tr>\n",
       "      <th>2020-01-10 22:00:00</th>\n",
       "      <td>121.06</td>\n",
       "      <td>87.670870</td>\n",
       "      <td>117.145179</td>\n",
       "      <td>98.231116</td>\n",
       "      <td>106.081772</td>\n",
       "      <td>95.564087</td>\n",
       "    </tr>\n",
       "    <tr>\n",
       "      <th>2020-01-10 23:00:00</th>\n",
       "      <td>119.04</td>\n",
       "      <td>88.247754</td>\n",
       "      <td>136.965158</td>\n",
       "      <td>103.634024</td>\n",
       "      <td>107.136887</td>\n",
       "      <td>97.618973</td>\n",
       "    </tr>\n",
       "    <tr>\n",
       "      <th>2020-01-11 00:00:00</th>\n",
       "      <td>98.77</td>\n",
       "      <td>89.380224</td>\n",
       "      <td>136.456494</td>\n",
       "      <td>105.023543</td>\n",
       "      <td>108.801575</td>\n",
       "      <td>133.354095</td>\n",
       "    </tr>\n",
       "    <tr>\n",
       "      <th>2020-01-11 01:00:00</th>\n",
       "      <td>80.07</td>\n",
       "      <td>91.121795</td>\n",
       "      <td>143.296298</td>\n",
       "      <td>95.088616</td>\n",
       "      <td>108.861923</td>\n",
       "      <td>132.073914</td>\n",
       "    </tr>\n",
       "    <tr>\n",
       "      <th>2020-01-11 02:00:00</th>\n",
       "      <td>86.52</td>\n",
       "      <td>93.225830</td>\n",
       "      <td>123.253890</td>\n",
       "      <td>103.747119</td>\n",
       "      <td>108.982368</td>\n",
       "      <td>134.405655</td>\n",
       "    </tr>\n",
       "    <tr>\n",
       "      <th>2020-01-11 03:00:00</th>\n",
       "      <td>99.19</td>\n",
       "      <td>95.381892</td>\n",
       "      <td>114.212211</td>\n",
       "      <td>107.271181</td>\n",
       "      <td>113.538895</td>\n",
       "      <td>134.047379</td>\n",
       "    </tr>\n",
       "    <tr>\n",
       "      <th>2020-01-11 04:00:00</th>\n",
       "      <td>106.13</td>\n",
       "      <td>97.371946</td>\n",
       "      <td>131.810045</td>\n",
       "      <td>98.994998</td>\n",
       "      <td>112.374222</td>\n",
       "      <td>133.148331</td>\n",
       "    </tr>\n",
       "    <tr>\n",
       "      <th>2020-01-11 05:00:00</th>\n",
       "      <td>119.74</td>\n",
       "      <td>99.120232</td>\n",
       "      <td>106.189097</td>\n",
       "      <td>115.320171</td>\n",
       "      <td>113.493553</td>\n",
       "      <td>131.537582</td>\n",
       "    </tr>\n",
       "    <tr>\n",
       "      <th>2020-01-11 06:00:00</th>\n",
       "      <td>147.07</td>\n",
       "      <td>100.663508</td>\n",
       "      <td>123.735434</td>\n",
       "      <td>125.052314</td>\n",
       "      <td>111.079346</td>\n",
       "      <td>118.007729</td>\n",
       "    </tr>\n",
       "    <tr>\n",
       "      <th>2020-01-11 07:00:00</th>\n",
       "      <td>152.47</td>\n",
       "      <td>102.087954</td>\n",
       "      <td>139.867065</td>\n",
       "      <td>106.519220</td>\n",
       "      <td>113.322426</td>\n",
       "      <td>115.540031</td>\n",
       "    </tr>\n",
       "    <tr>\n",
       "      <th>2020-01-11 08:00:00</th>\n",
       "      <td>137.57</td>\n",
       "      <td>103.472690</td>\n",
       "      <td>88.068581</td>\n",
       "      <td>107.678606</td>\n",
       "      <td>116.081467</td>\n",
       "      <td>115.120544</td>\n",
       "    </tr>\n",
       "    <tr>\n",
       "      <th>2020-01-11 09:00:00</th>\n",
       "      <td>98.44</td>\n",
       "      <td>104.860660</td>\n",
       "      <td>96.175490</td>\n",
       "      <td>116.493915</td>\n",
       "      <td>99.909981</td>\n",
       "      <td>122.336594</td>\n",
       "    </tr>\n",
       "    <tr>\n",
       "      <th>2020-01-11 10:00:00</th>\n",
       "      <td>81.47</td>\n",
       "      <td>106.257355</td>\n",
       "      <td>106.382397</td>\n",
       "      <td>106.413554</td>\n",
       "      <td>102.618767</td>\n",
       "      <td>117.712799</td>\n",
       "    </tr>\n",
       "    <tr>\n",
       "      <th>2020-01-11 11:00:00</th>\n",
       "      <td>74.93</td>\n",
       "      <td>107.645121</td>\n",
       "      <td>99.923256</td>\n",
       "      <td>110.649613</td>\n",
       "      <td>94.802391</td>\n",
       "      <td>116.809486</td>\n",
       "    </tr>\n",
       "    <tr>\n",
       "      <th>2020-01-11 12:00:00</th>\n",
       "      <td>69.56</td>\n",
       "      <td>109.000927</td>\n",
       "      <td>92.805988</td>\n",
       "      <td>103.712097</td>\n",
       "      <td>92.217697</td>\n",
       "      <td>96.390610</td>\n",
       "    </tr>\n",
       "    <tr>\n",
       "      <th>2020-01-11 13:00:00</th>\n",
       "      <td>66.62</td>\n",
       "      <td>110.308501</td>\n",
       "      <td>109.484780</td>\n",
       "      <td>111.766515</td>\n",
       "      <td>95.932693</td>\n",
       "      <td>91.422440</td>\n",
       "    </tr>\n",
       "    <tr>\n",
       "      <th>2020-01-11 14:00:00</th>\n",
       "      <td>57.87</td>\n",
       "      <td>111.562481</td>\n",
       "      <td>85.017663</td>\n",
       "      <td>90.682110</td>\n",
       "      <td>92.940468</td>\n",
       "      <td>89.140633</td>\n",
       "    </tr>\n",
       "    <tr>\n",
       "      <th>2020-01-11 15:00:00</th>\n",
       "      <td>53.99</td>\n",
       "      <td>112.766226</td>\n",
       "      <td>87.882348</td>\n",
       "      <td>96.284134</td>\n",
       "      <td>89.647423</td>\n",
       "      <td>86.389908</td>\n",
       "    </tr>\n",
       "    <tr>\n",
       "      <th>2020-01-11 16:00:00</th>\n",
       "      <td>52.26</td>\n",
       "      <td>113.927073</td>\n",
       "      <td>83.548469</td>\n",
       "      <td>111.554457</td>\n",
       "      <td>88.821732</td>\n",
       "      <td>78.854111</td>\n",
       "    </tr>\n",
       "    <tr>\n",
       "      <th>2020-01-11 17:00:00</th>\n",
       "      <td>53.56</td>\n",
       "      <td>115.052050</td>\n",
       "      <td>81.145569</td>\n",
       "      <td>106.882464</td>\n",
       "      <td>93.026947</td>\n",
       "      <td>83.423805</td>\n",
       "    </tr>\n",
       "  </tbody>\n",
       "</table>\n",
       "</div>"
      ],
      "text/plain": [
       "                      PM2.5  recursive_predict  direct_predict  \\\n",
       "date                                                             \n",
       "2020-01-10 18:00:00  104.55          76.189809       67.045622   \n",
       "2020-01-10 19:00:00  164.92          81.832538       98.692786   \n",
       "2020-01-10 20:00:00  211.35          85.394167      110.786257   \n",
       "2020-01-10 21:00:00  141.20          87.034970       94.872233   \n",
       "2020-01-10 22:00:00  121.06          87.670870      117.145179   \n",
       "2020-01-10 23:00:00  119.04          88.247754      136.965158   \n",
       "2020-01-11 00:00:00   98.77          89.380224      136.456494   \n",
       "2020-01-11 01:00:00   80.07          91.121795      143.296298   \n",
       "2020-01-11 02:00:00   86.52          93.225830      123.253890   \n",
       "2020-01-11 03:00:00   99.19          95.381892      114.212211   \n",
       "2020-01-11 04:00:00  106.13          97.371946      131.810045   \n",
       "2020-01-11 05:00:00  119.74          99.120232      106.189097   \n",
       "2020-01-11 06:00:00  147.07         100.663508      123.735434   \n",
       "2020-01-11 07:00:00  152.47         102.087954      139.867065   \n",
       "2020-01-11 08:00:00  137.57         103.472690       88.068581   \n",
       "2020-01-11 09:00:00   98.44         104.860660       96.175490   \n",
       "2020-01-11 10:00:00   81.47         106.257355      106.382397   \n",
       "2020-01-11 11:00:00   74.93         107.645121       99.923256   \n",
       "2020-01-11 12:00:00   69.56         109.000927       92.805988   \n",
       "2020-01-11 13:00:00   66.62         110.308501      109.484780   \n",
       "2020-01-11 14:00:00   57.87         111.562481       85.017663   \n",
       "2020-01-11 15:00:00   53.99         112.766226       87.882348   \n",
       "2020-01-11 16:00:00   52.26         113.927073       83.548469   \n",
       "2020-01-11 17:00:00   53.56         115.052050       81.145569   \n",
       "\n",
       "                     direct_recursive_predict  MIMO_predict  \\\n",
       "date                                                          \n",
       "2020-01-10 18:00:00                 78.028549     85.068443   \n",
       "2020-01-10 19:00:00                 79.644816     91.302292   \n",
       "2020-01-10 20:00:00                 83.760603    104.261391   \n",
       "2020-01-10 21:00:00                 91.361374     97.049576   \n",
       "2020-01-10 22:00:00                 98.231116    106.081772   \n",
       "2020-01-10 23:00:00                103.634024    107.136887   \n",
       "2020-01-11 00:00:00                105.023543    108.801575   \n",
       "2020-01-11 01:00:00                 95.088616    108.861923   \n",
       "2020-01-11 02:00:00                103.747119    108.982368   \n",
       "2020-01-11 03:00:00                107.271181    113.538895   \n",
       "2020-01-11 04:00:00                 98.994998    112.374222   \n",
       "2020-01-11 05:00:00                115.320171    113.493553   \n",
       "2020-01-11 06:00:00                125.052314    111.079346   \n",
       "2020-01-11 07:00:00                106.519220    113.322426   \n",
       "2020-01-11 08:00:00                107.678606    116.081467   \n",
       "2020-01-11 09:00:00                116.493915     99.909981   \n",
       "2020-01-11 10:00:00                106.413554    102.618767   \n",
       "2020-01-11 11:00:00                110.649613     94.802391   \n",
       "2020-01-11 12:00:00                103.712097     92.217697   \n",
       "2020-01-11 13:00:00                111.766515     95.932693   \n",
       "2020-01-11 14:00:00                 90.682110     92.940468   \n",
       "2020-01-11 15:00:00                 96.284134     89.647423   \n",
       "2020-01-11 16:00:00                111.554457     88.821732   \n",
       "2020-01-11 17:00:00                106.882464     93.026947   \n",
       "\n",
       "                     Direct_MIMO_predict  \n",
       "date                                      \n",
       "2020-01-10 18:00:00            70.259415  \n",
       "2020-01-10 19:00:00            76.233376  \n",
       "2020-01-10 20:00:00            85.148857  \n",
       "2020-01-10 21:00:00            93.879906  \n",
       "2020-01-10 22:00:00            95.564087  \n",
       "2020-01-10 23:00:00            97.618973  \n",
       "2020-01-11 00:00:00           133.354095  \n",
       "2020-01-11 01:00:00           132.073914  \n",
       "2020-01-11 02:00:00           134.405655  \n",
       "2020-01-11 03:00:00           134.047379  \n",
       "2020-01-11 04:00:00           133.148331  \n",
       "2020-01-11 05:00:00           131.537582  \n",
       "2020-01-11 06:00:00           118.007729  \n",
       "2020-01-11 07:00:00           115.540031  \n",
       "2020-01-11 08:00:00           115.120544  \n",
       "2020-01-11 09:00:00           122.336594  \n",
       "2020-01-11 10:00:00           117.712799  \n",
       "2020-01-11 11:00:00           116.809486  \n",
       "2020-01-11 12:00:00            96.390610  \n",
       "2020-01-11 13:00:00            91.422440  \n",
       "2020-01-11 14:00:00            89.140633  \n",
       "2020-01-11 15:00:00            86.389908  \n",
       "2020-01-11 16:00:00            78.854111  \n",
       "2020-01-11 17:00:00            83.423805  "
      ]
     },
     "execution_count": 87,
     "metadata": {},
     "output_type": "execute_result"
    }
   ],
   "source": [
    "test"
   ]
  },
  {
   "cell_type": "code",
   "execution_count": 88,
   "metadata": {},
   "outputs": [
    {
     "data": {
      "text/plain": [
       "<AxesSubplot:xlabel='date'>"
      ]
     },
     "execution_count": 88,
     "metadata": {},
     "output_type": "execute_result"
    },
    {
     "data": {
      "image/png": "[encoded data removed]",
      "text/plain": [
       "<Figure size 432x288 with 1 Axes>"
      ]
     },
     "metadata": {
      "needs_background": "light"
     },
     "output_type": "display_data"
    }
   ],
   "source": [
    "test.plot()"
   ]
  },
  {
   "cell_type": "code",
   "execution_count": 89,
   "metadata": {},
   "outputs": [
    {
     "name": "stdout",
     "output_type": "stream",
     "text": [
      "44.677704174818004\n"
     ]
    }
   ],
   "source": [
    "rmse = sqrt(mean_squared_error(test['PM2.5'], test['Direct_MIMO_predict']))\n",
    "print(rmse)"
   ]
  },
  {
   "cell_type": "code",
   "execution_count": 90,
   "metadata": {},
   "outputs": [],
   "source": [
    "rec_err = abs(test['PM2.5'] - test['recursive_predict'])\n",
    "dir_err = abs(test['PM2.5'] - test['direct_predict'])\n",
    "dir_rec_err = abs(test['PM2.5'] - test['direct_recursive_predict'])\n",
    "mimo_err = abs(test['PM2.5'] - test['MIMO_predict'])\n",
    "dir_mimo_err = abs(test['PM2.5'] - test['Direct_MIMO_predict'])"
   ]
  },
  {
   "cell_type": "code",
   "execution_count": 91,
   "metadata": {},
   "outputs": [],
   "source": [
    "errors = pd.DataFrame({\n",
    "    'Recursive':rec_err,\n",
    "    'Direct':dir_err,\n",
    "    'Direct Recursive':dir_rec_err,\n",
    "    'MIMO':mimo_err,\n",
    "    'Direct MIMO':dir_mimo_err\n",
    "})"
   ]
  },
  {
   "cell_type": "code",
   "execution_count": 92,
   "metadata": {},
   "outputs": [
    {
     "data": {
      "text/html": [
       "<div>\n",
       "<style scoped>\n",
       "    .dataframe tbody tr th:only-of-type {\n",
       "        vertical-align: middle;\n",
       "    }\n",
       "\n",
       "    .dataframe tbody tr th {\n",
       "        vertical-align: top;\n",
       "    }\n",
       "\n",
       "    .dataframe thead th {\n",
       "        text-align: right;\n",
       "    }\n",
       "</style>\n",
       "<table border=\"1\" class=\"dataframe\">\n",
       "  <thead>\n",
       "    <tr style=\"text-align: right;\">\n",
       "      <th></th>\n",
       "      <th>Recursive</th>\n",
       "      <th>Direct</th>\n",
       "      <th>Direct Recursive</th>\n",
       "      <th>MIMO</th>\n",
       "      <th>Direct MIMO</th>\n",
       "    </tr>\n",
       "    <tr>\n",
       "      <th>date</th>\n",
       "      <th></th>\n",
       "      <th></th>\n",
       "      <th></th>\n",
       "      <th></th>\n",
       "      <th></th>\n",
       "    </tr>\n",
       "  </thead>\n",
       "  <tbody>\n",
       "    <tr>\n",
       "      <th>2020-01-10 18:00:00</th>\n",
       "      <td>28.360191</td>\n",
       "      <td>37.504378</td>\n",
       "      <td>26.521451</td>\n",
       "      <td>19.481557</td>\n",
       "      <td>34.290585</td>\n",
       "    </tr>\n",
       "    <tr>\n",
       "      <th>2020-01-10 19:00:00</th>\n",
       "      <td>83.087462</td>\n",
       "      <td>66.227214</td>\n",
       "      <td>85.275184</td>\n",
       "      <td>73.617708</td>\n",
       "      <td>88.686624</td>\n",
       "    </tr>\n",
       "    <tr>\n",
       "      <th>2020-01-10 20:00:00</th>\n",
       "      <td>125.955833</td>\n",
       "      <td>100.563743</td>\n",
       "      <td>127.589397</td>\n",
       "      <td>107.088609</td>\n",
       "      <td>126.201143</td>\n",
       "    </tr>\n",
       "    <tr>\n",
       "      <th>2020-01-10 21:00:00</th>\n",
       "      <td>54.165030</td>\n",
       "      <td>46.327767</td>\n",
       "      <td>49.838626</td>\n",
       "      <td>44.150424</td>\n",
       "      <td>47.320094</td>\n",
       "    </tr>\n",
       "    <tr>\n",
       "      <th>2020-01-10 22:00:00</th>\n",
       "      <td>33.389130</td>\n",
       "      <td>3.914821</td>\n",
       "      <td>22.828884</td>\n",
       "      <td>14.978228</td>\n",
       "      <td>25.495913</td>\n",
       "    </tr>\n",
       "    <tr>\n",
       "      <th>2020-01-10 23:00:00</th>\n",
       "      <td>30.792246</td>\n",
       "      <td>17.925158</td>\n",
       "      <td>15.405976</td>\n",
       "      <td>11.903113</td>\n",
       "      <td>21.421027</td>\n",
       "    </tr>\n",
       "    <tr>\n",
       "      <th>2020-01-11 00:00:00</th>\n",
       "      <td>9.389776</td>\n",
       "      <td>37.686494</td>\n",
       "      <td>6.253543</td>\n",
       "      <td>10.031575</td>\n",
       "      <td>34.584095</td>\n",
       "    </tr>\n",
       "    <tr>\n",
       "      <th>2020-01-11 01:00:00</th>\n",
       "      <td>11.051795</td>\n",
       "      <td>63.226298</td>\n",
       "      <td>15.018616</td>\n",
       "      <td>28.791923</td>\n",
       "      <td>52.003914</td>\n",
       "    </tr>\n",
       "    <tr>\n",
       "      <th>2020-01-11 02:00:00</th>\n",
       "      <td>6.705830</td>\n",
       "      <td>36.733890</td>\n",
       "      <td>17.227119</td>\n",
       "      <td>22.462368</td>\n",
       "      <td>47.885655</td>\n",
       "    </tr>\n",
       "    <tr>\n",
       "      <th>2020-01-11 03:00:00</th>\n",
       "      <td>3.808108</td>\n",
       "      <td>15.022211</td>\n",
       "      <td>8.081181</td>\n",
       "      <td>14.348895</td>\n",
       "      <td>34.857379</td>\n",
       "    </tr>\n",
       "    <tr>\n",
       "      <th>2020-01-11 04:00:00</th>\n",
       "      <td>8.758054</td>\n",
       "      <td>25.680045</td>\n",
       "      <td>7.135002</td>\n",
       "      <td>6.244222</td>\n",
       "      <td>27.018331</td>\n",
       "    </tr>\n",
       "    <tr>\n",
       "      <th>2020-01-11 05:00:00</th>\n",
       "      <td>20.619768</td>\n",
       "      <td>13.550903</td>\n",
       "      <td>4.419829</td>\n",
       "      <td>6.246447</td>\n",
       "      <td>11.797582</td>\n",
       "    </tr>\n",
       "    <tr>\n",
       "      <th>2020-01-11 06:00:00</th>\n",
       "      <td>46.406492</td>\n",
       "      <td>23.334566</td>\n",
       "      <td>22.017686</td>\n",
       "      <td>35.990654</td>\n",
       "      <td>29.062271</td>\n",
       "    </tr>\n",
       "    <tr>\n",
       "      <th>2020-01-11 07:00:00</th>\n",
       "      <td>50.382046</td>\n",
       "      <td>12.602935</td>\n",
       "      <td>45.950780</td>\n",
       "      <td>39.147574</td>\n",
       "      <td>36.929969</td>\n",
       "    </tr>\n",
       "    <tr>\n",
       "      <th>2020-01-11 08:00:00</th>\n",
       "      <td>34.097310</td>\n",
       "      <td>49.501419</td>\n",
       "      <td>29.891394</td>\n",
       "      <td>21.488533</td>\n",
       "      <td>22.449456</td>\n",
       "    </tr>\n",
       "    <tr>\n",
       "      <th>2020-01-11 09:00:00</th>\n",
       "      <td>6.420660</td>\n",
       "      <td>2.264510</td>\n",
       "      <td>18.053915</td>\n",
       "      <td>1.469981</td>\n",
       "      <td>23.896594</td>\n",
       "    </tr>\n",
       "    <tr>\n",
       "      <th>2020-01-11 10:00:00</th>\n",
       "      <td>24.787355</td>\n",
       "      <td>24.912397</td>\n",
       "      <td>24.943554</td>\n",
       "      <td>21.148767</td>\n",
       "      <td>36.242799</td>\n",
       "    </tr>\n",
       "    <tr>\n",
       "      <th>2020-01-11 11:00:00</th>\n",
       "      <td>32.715121</td>\n",
       "      <td>24.993256</td>\n",
       "      <td>35.719613</td>\n",
       "      <td>19.872391</td>\n",
       "      <td>41.879486</td>\n",
       "    </tr>\n",
       "    <tr>\n",
       "      <th>2020-01-11 12:00:00</th>\n",
       "      <td>39.440927</td>\n",
       "      <td>23.245988</td>\n",
       "      <td>34.152097</td>\n",
       "      <td>22.657697</td>\n",
       "      <td>26.830610</td>\n",
       "    </tr>\n",
       "    <tr>\n",
       "      <th>2020-01-11 13:00:00</th>\n",
       "      <td>43.688501</td>\n",
       "      <td>42.864780</td>\n",
       "      <td>45.146515</td>\n",
       "      <td>29.312693</td>\n",
       "      <td>24.802440</td>\n",
       "    </tr>\n",
       "    <tr>\n",
       "      <th>2020-01-11 14:00:00</th>\n",
       "      <td>53.692481</td>\n",
       "      <td>27.147663</td>\n",
       "      <td>32.812110</td>\n",
       "      <td>35.070468</td>\n",
       "      <td>31.270633</td>\n",
       "    </tr>\n",
       "    <tr>\n",
       "      <th>2020-01-11 15:00:00</th>\n",
       "      <td>58.776226</td>\n",
       "      <td>33.892348</td>\n",
       "      <td>42.294134</td>\n",
       "      <td>35.657423</td>\n",
       "      <td>32.399908</td>\n",
       "    </tr>\n",
       "    <tr>\n",
       "      <th>2020-01-11 16:00:00</th>\n",
       "      <td>61.667073</td>\n",
       "      <td>31.288469</td>\n",
       "      <td>59.294457</td>\n",
       "      <td>36.561732</td>\n",
       "      <td>26.594111</td>\n",
       "    </tr>\n",
       "    <tr>\n",
       "      <th>2020-01-11 17:00:00</th>\n",
       "      <td>61.492050</td>\n",
       "      <td>27.585569</td>\n",
       "      <td>53.322464</td>\n",
       "      <td>39.466947</td>\n",
       "      <td>29.863805</td>\n",
       "    </tr>\n",
       "  </tbody>\n",
       "</table>\n",
       "</div>"
      ],
      "text/plain": [
       "                      Recursive      Direct  Direct Recursive        MIMO  \\\n",
       "date                                                                        \n",
       "2020-01-10 18:00:00   28.360191   37.504378         26.521451   19.481557   \n",
       "2020-01-10 19:00:00   83.087462   66.227214         85.275184   73.617708   \n",
       "2020-01-10 20:00:00  125.955833  100.563743        127.589397  107.088609   \n",
       "2020-01-10 21:00:00   54.165030   46.327767         49.838626   44.150424   \n",
       "2020-01-10 22:00:00   33.389130    3.914821         22.828884   14.978228   \n",
       "2020-01-10 23:00:00   30.792246   17.925158         15.405976   11.903113   \n",
       "2020-01-11 00:00:00    9.389776   37.686494          6.253543   10.031575   \n",
       "2020-01-11 01:00:00   11.051795   63.226298         15.018616   28.791923   \n",
       "2020-01-11 02:00:00    6.705830   36.733890         17.227119   22.462368   \n",
       "2020-01-11 03:00:00    3.808108   15.022211          8.081181   14.348895   \n",
       "2020-01-11 04:00:00    8.758054   25.680045          7.135002    6.244222   \n",
       "2020-01-11 05:00:00   20.619768   13.550903          4.419829    6.246447   \n",
       "2020-01-11 06:00:00   46.406492   23.334566         22.017686   35.990654   \n",
       "2020-01-11 07:00:00   50.382046   12.602935         45.950780   39.147574   \n",
       "2020-01-11 08:00:00   34.097310   49.501419         29.891394   21.488533   \n",
       "2020-01-11 09:00:00    6.420660    2.264510         18.053915    1.469981   \n",
       "2020-01-11 10:00:00   24.787355   24.912397         24.943554   21.148767   \n",
       "2020-01-11 11:00:00   32.715121   24.993256         35.719613   19.872391   \n",
       "2020-01-11 12:00:00   39.440927   23.245988         34.152097   22.657697   \n",
       "2020-01-11 13:00:00   43.688501   42.864780         45.146515   29.312693   \n",
       "2020-01-11 14:00:00   53.692481   27.147663         32.812110   35.070468   \n",
       "2020-01-11 15:00:00   58.776226   33.892348         42.294134   35.657423   \n",
       "2020-01-11 16:00:00   61.667073   31.288469         59.294457   36.561732   \n",
       "2020-01-11 17:00:00   61.492050   27.585569         53.322464   39.466947   \n",
       "\n",
       "                     Direct MIMO  \n",
       "date                              \n",
       "2020-01-10 18:00:00    34.290585  \n",
       "2020-01-10 19:00:00    88.686624  \n",
       "2020-01-10 20:00:00   126.201143  \n",
       "2020-01-10 21:00:00    47.320094  \n",
       "2020-01-10 22:00:00    25.495913  \n",
       "2020-01-10 23:00:00    21.421027  \n",
       "2020-01-11 00:00:00    34.584095  \n",
       "2020-01-11 01:00:00    52.003914  \n",
       "2020-01-11 02:00:00    47.885655  \n",
       "2020-01-11 03:00:00    34.857379  \n",
       "2020-01-11 04:00:00    27.018331  \n",
       "2020-01-11 05:00:00    11.797582  \n",
       "2020-01-11 06:00:00    29.062271  \n",
       "2020-01-11 07:00:00    36.929969  \n",
       "2020-01-11 08:00:00    22.449456  \n",
       "2020-01-11 09:00:00    23.896594  \n",
       "2020-01-11 10:00:00    36.242799  \n",
       "2020-01-11 11:00:00    41.879486  \n",
       "2020-01-11 12:00:00    26.830610  \n",
       "2020-01-11 13:00:00    24.802440  \n",
       "2020-01-11 14:00:00    31.270633  \n",
       "2020-01-11 15:00:00    32.399908  \n",
       "2020-01-11 16:00:00    26.594111  \n",
       "2020-01-11 17:00:00    29.863805  "
      ]
     },
     "execution_count": 92,
     "metadata": {},
     "output_type": "execute_result"
    }
   ],
   "source": [
    "errors"
   ]
  },
  {
   "cell_type": "code",
   "execution_count": 93,
   "metadata": {},
   "outputs": [
    {
     "data": {
      "text/plain": [
       "<AxesSubplot:xlabel='date'>"
      ]
     },
     "execution_count": 93,
     "metadata": {},
     "output_type": "execute_result"
    },
    {
     "data": {
      "image/png": "[encoded data removed]",
      "text/plain": [
       "<Figure size 432x288 with 1 Axes>"
      ]
     },
     "metadata": {
      "needs_background": "light"
     },
     "output_type": "display_data"
    }
   ],
   "source": [
    "errors.plot()"
   ]
  },
  {
   "cell_type": "code",
   "execution_count": 94,
   "metadata": {},
   "outputs": [
    {
     "data": {
      "text/plain": [
       "24"
      ]
     },
     "execution_count": 94,
     "metadata": {},
     "output_type": "execute_result"
    }
   ],
   "source": [
    "len(scaled_test)"
   ]
  },
  {
   "cell_type": "code",
   "execution_count": null,
   "metadata": {},
   "outputs": [],
   "source": []
  }
 ],
 "metadata": {
  "kernelspec": {
   "display_name": "Python 3",
   "language": "python",
   "name": "python3"
  },
  "language_info": {
   "codemirror_mode": {
    "name": "ipython",
    "version": 3
   },
   "file_extension": ".py",
   "mimetype": "text/x-python",
   "name": "python",
   "nbconvert_exporter": "python",
   "pygments_lexer": "ipython3",
   "version": "3.8.5"
  }
 },
 "nbformat": 4,
 "nbformat_minor": 4
}
