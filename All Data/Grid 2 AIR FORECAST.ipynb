{
 "cells": [
  {
   "cell_type": "code",
   "execution_count": 1,
   "metadata": {},
   "outputs": [],
   "source": [
    "import pandas as pd\n",
    "import numpy as np\n",
    "import matplotlib.pyplot as plt\n",
    "from keras.models import Sequential\n",
    "from keras.layers import Dense, LSTM, Dropout\n",
    "from keras.preprocessing.sequence import TimeseriesGenerator\n",
    "from statsmodels.tsa.seasonal import seasonal_decompose\n",
    "from sklearn.preprocessing import MinMaxScaler\n",
    "from sklearn.metrics import mean_squared_error\n",
    "from math import sqrt\n",
    "import warnings\n",
    "\n",
    "warnings.filterwarnings(\"ignore\")"
   ]
  },
  {
   "cell_type": "code",
   "execution_count": 2,
   "metadata": {},
   "outputs": [],
   "source": [
    "df = pd.read_csv('C:/Users/shail/Desktop/project/raw data/Device-2.csv')\n",
    "\n",
    "df.columns = ['SNo','temp','hum','co','no2','pm2_5','pm10','date']\n",
    "date = df['date']\n",
    "df = df.drop([\"SNo\"],axis=1)\n",
    "df['date'] = pd.to_datetime(df['date'])"
   ]
  },
  {
   "cell_type": "code",
   "execution_count": 3,
   "metadata": {},
   "outputs": [
    {
     "data": {
      "text/html": [
       "<div>\n",
       "<style scoped>\n",
       "    .dataframe tbody tr th:only-of-type {\n",
       "        vertical-align: middle;\n",
       "    }\n",
       "\n",
       "    .dataframe tbody tr th {\n",
       "        vertical-align: top;\n",
       "    }\n",
       "\n",
       "    .dataframe thead th {\n",
       "        text-align: right;\n",
       "    }\n",
       "</style>\n",
       "<table border=\"1\" class=\"dataframe\">\n",
       "  <thead>\n",
       "    <tr style=\"text-align: right;\">\n",
       "      <th></th>\n",
       "      <th>temp</th>\n",
       "      <th>hum</th>\n",
       "      <th>co</th>\n",
       "      <th>no2</th>\n",
       "      <th>pm2_5</th>\n",
       "      <th>pm10</th>\n",
       "      <th>date</th>\n",
       "    </tr>\n",
       "  </thead>\n",
       "  <tbody>\n",
       "    <tr>\n",
       "      <th>0</th>\n",
       "      <td>18</td>\n",
       "      <td>50</td>\n",
       "      <td>41</td>\n",
       "      <td>1.49</td>\n",
       "      <td>59</td>\n",
       "      <td>82</td>\n",
       "      <td>2020-01-11 17:07:49</td>\n",
       "    </tr>\n",
       "    <tr>\n",
       "      <th>1</th>\n",
       "      <td>18</td>\n",
       "      <td>50</td>\n",
       "      <td>41</td>\n",
       "      <td>1.50</td>\n",
       "      <td>59</td>\n",
       "      <td>82</td>\n",
       "      <td>2020-01-11 17:07:43</td>\n",
       "    </tr>\n",
       "    <tr>\n",
       "      <th>2</th>\n",
       "      <td>18</td>\n",
       "      <td>50</td>\n",
       "      <td>41</td>\n",
       "      <td>1.50</td>\n",
       "      <td>59</td>\n",
       "      <td>82</td>\n",
       "      <td>2020-01-11 17:07:39</td>\n",
       "    </tr>\n",
       "    <tr>\n",
       "      <th>3</th>\n",
       "      <td>18</td>\n",
       "      <td>50</td>\n",
       "      <td>41</td>\n",
       "      <td>1.50</td>\n",
       "      <td>60</td>\n",
       "      <td>83</td>\n",
       "      <td>2020-01-11 17:07:28</td>\n",
       "    </tr>\n",
       "    <tr>\n",
       "      <th>4</th>\n",
       "      <td>18</td>\n",
       "      <td>50</td>\n",
       "      <td>41</td>\n",
       "      <td>1.50</td>\n",
       "      <td>60</td>\n",
       "      <td>83</td>\n",
       "      <td>2020-01-11 17:07:24</td>\n",
       "    </tr>\n",
       "  </tbody>\n",
       "</table>\n",
       "</div>"
      ],
      "text/plain": [
       "   temp  hum  co   no2  pm2_5  pm10                date\n",
       "0    18   50  41  1.49     59    82 2020-01-11 17:07:49\n",
       "1    18   50  41  1.50     59    82 2020-01-11 17:07:43\n",
       "2    18   50  41  1.50     59    82 2020-01-11 17:07:39\n",
       "3    18   50  41  1.50     60    83 2020-01-11 17:07:28\n",
       "4    18   50  41  1.50     60    83 2020-01-11 17:07:24"
      ]
     },
     "execution_count": 3,
     "metadata": {},
     "output_type": "execute_result"
    }
   ],
   "source": [
    "df.head()"
   ]
  },
  {
   "cell_type": "code",
   "execution_count": 4,
   "metadata": {},
   "outputs": [
    {
     "name": "stdout",
     "output_type": "stream",
     "text": [
      "<class 'pandas.core.frame.DataFrame'>\n",
      "RangeIndex: 1089280 entries, 0 to 1089279\n",
      "Data columns (total 7 columns):\n",
      " #   Column  Non-Null Count    Dtype         \n",
      "---  ------  --------------    -----         \n",
      " 0   temp    1089280 non-null  int64         \n",
      " 1   hum     1089280 non-null  int64         \n",
      " 2   co      1089280 non-null  int64         \n",
      " 3   no2     1089280 non-null  float64       \n",
      " 4   pm2_5   1089280 non-null  int64         \n",
      " 5   pm10    1089280 non-null  int64         \n",
      " 6   date    1089280 non-null  datetime64[ns]\n",
      "dtypes: datetime64[ns](1), float64(1), int64(5)\n",
      "memory usage: 58.2 MB\n"
     ]
    }
   ],
   "source": [
    "df.info()"
   ]
  },
  {
   "cell_type": "code",
   "execution_count": 5,
   "metadata": {},
   "outputs": [],
   "source": [
    "df = df[(df['co'] > 0) & (df['no2'] > 0) & (df['pm2_5'] > 0) & (df['pm10'] > 0)]"
   ]
  },
  {
   "cell_type": "code",
   "execution_count": 6,
   "metadata": {},
   "outputs": [
    {
     "data": {
      "text/html": [
       "<div>\n",
       "<style scoped>\n",
       "    .dataframe tbody tr th:only-of-type {\n",
       "        vertical-align: middle;\n",
       "    }\n",
       "\n",
       "    .dataframe tbody tr th {\n",
       "        vertical-align: top;\n",
       "    }\n",
       "\n",
       "    .dataframe thead th {\n",
       "        text-align: right;\n",
       "    }\n",
       "</style>\n",
       "<table border=\"1\" class=\"dataframe\">\n",
       "  <thead>\n",
       "    <tr style=\"text-align: right;\">\n",
       "      <th></th>\n",
       "      <th>TEMP</th>\n",
       "      <th>HUM</th>\n",
       "      <th>CO</th>\n",
       "      <th>NO2</th>\n",
       "      <th>PM2.5</th>\n",
       "      <th>PM10</th>\n",
       "    </tr>\n",
       "    <tr>\n",
       "      <th>date</th>\n",
       "      <th></th>\n",
       "      <th></th>\n",
       "      <th></th>\n",
       "      <th></th>\n",
       "      <th></th>\n",
       "      <th></th>\n",
       "    </tr>\n",
       "  </thead>\n",
       "  <tbody>\n",
       "    <tr>\n",
       "      <th>2019-09-13 05:00:00</th>\n",
       "      <td>23.00</td>\n",
       "      <td>89.00</td>\n",
       "      <td>15.76</td>\n",
       "      <td>19.25</td>\n",
       "      <td>28.34</td>\n",
       "      <td>39.31</td>\n",
       "    </tr>\n",
       "    <tr>\n",
       "      <th>2019-09-13 06:00:00</th>\n",
       "      <td>23.14</td>\n",
       "      <td>87.31</td>\n",
       "      <td>16.27</td>\n",
       "      <td>19.25</td>\n",
       "      <td>32.36</td>\n",
       "      <td>44.94</td>\n",
       "    </tr>\n",
       "    <tr>\n",
       "      <th>2019-09-13 07:00:00</th>\n",
       "      <td>24.23</td>\n",
       "      <td>83.01</td>\n",
       "      <td>16.25</td>\n",
       "      <td>19.26</td>\n",
       "      <td>58.58</td>\n",
       "      <td>82.12</td>\n",
       "    </tr>\n",
       "    <tr>\n",
       "      <th>2019-09-13 08:00:00</th>\n",
       "      <td>25.45</td>\n",
       "      <td>76.43</td>\n",
       "      <td>16.15</td>\n",
       "      <td>19.26</td>\n",
       "      <td>43.30</td>\n",
       "      <td>60.28</td>\n",
       "    </tr>\n",
       "    <tr>\n",
       "      <th>2019-09-13 09:00:00</th>\n",
       "      <td>27.85</td>\n",
       "      <td>66.55</td>\n",
       "      <td>16.39</td>\n",
       "      <td>19.25</td>\n",
       "      <td>48.00</td>\n",
       "      <td>66.76</td>\n",
       "    </tr>\n",
       "    <tr>\n",
       "      <th>...</th>\n",
       "      <td>...</td>\n",
       "      <td>...</td>\n",
       "      <td>...</td>\n",
       "      <td>...</td>\n",
       "      <td>...</td>\n",
       "      <td>...</td>\n",
       "    </tr>\n",
       "    <tr>\n",
       "      <th>2020-01-11 13:00:00</th>\n",
       "      <td>18.88</td>\n",
       "      <td>48.85</td>\n",
       "      <td>41.00</td>\n",
       "      <td>1.38</td>\n",
       "      <td>89.39</td>\n",
       "      <td>124.32</td>\n",
       "    </tr>\n",
       "    <tr>\n",
       "      <th>2020-01-11 14:00:00</th>\n",
       "      <td>19.03</td>\n",
       "      <td>47.54</td>\n",
       "      <td>41.00</td>\n",
       "      <td>1.43</td>\n",
       "      <td>77.89</td>\n",
       "      <td>108.28</td>\n",
       "    </tr>\n",
       "    <tr>\n",
       "      <th>2020-01-11 15:00:00</th>\n",
       "      <td>19.00</td>\n",
       "      <td>46.44</td>\n",
       "      <td>41.00</td>\n",
       "      <td>1.47</td>\n",
       "      <td>64.70</td>\n",
       "      <td>89.90</td>\n",
       "    </tr>\n",
       "    <tr>\n",
       "      <th>2020-01-11 16:00:00</th>\n",
       "      <td>18.39</td>\n",
       "      <td>48.06</td>\n",
       "      <td>41.00</td>\n",
       "      <td>1.48</td>\n",
       "      <td>64.13</td>\n",
       "      <td>89.20</td>\n",
       "    </tr>\n",
       "    <tr>\n",
       "      <th>2020-01-11 17:00:00</th>\n",
       "      <td>18.00</td>\n",
       "      <td>49.74</td>\n",
       "      <td>41.00</td>\n",
       "      <td>1.48</td>\n",
       "      <td>60.89</td>\n",
       "      <td>84.70</td>\n",
       "    </tr>\n",
       "  </tbody>\n",
       "</table>\n",
       "<p>2893 rows × 6 columns</p>\n",
       "</div>"
      ],
      "text/plain": [
       "                      TEMP    HUM     CO    NO2  PM2.5    PM10\n",
       "date                                                          \n",
       "2019-09-13 05:00:00  23.00  89.00  15.76  19.25  28.34   39.31\n",
       "2019-09-13 06:00:00  23.14  87.31  16.27  19.25  32.36   44.94\n",
       "2019-09-13 07:00:00  24.23  83.01  16.25  19.26  58.58   82.12\n",
       "2019-09-13 08:00:00  25.45  76.43  16.15  19.26  43.30   60.28\n",
       "2019-09-13 09:00:00  27.85  66.55  16.39  19.25  48.00   66.76\n",
       "...                    ...    ...    ...    ...    ...     ...\n",
       "2020-01-11 13:00:00  18.88  48.85  41.00   1.38  89.39  124.32\n",
       "2020-01-11 14:00:00  19.03  47.54  41.00   1.43  77.89  108.28\n",
       "2020-01-11 15:00:00  19.00  46.44  41.00   1.47  64.70   89.90\n",
       "2020-01-11 16:00:00  18.39  48.06  41.00   1.48  64.13   89.20\n",
       "2020-01-11 17:00:00  18.00  49.74  41.00   1.48  60.89   84.70\n",
       "\n",
       "[2893 rows x 6 columns]"
      ]
     },
     "execution_count": 6,
     "metadata": {},
     "output_type": "execute_result"
    }
   ],
   "source": [
    "temp_one_hr = round(df.resample('60min',on='date').temp.mean(),2)\n",
    "hum_one_hr = round(df.resample('60min',on='date').hum.mean(),2)\n",
    "co_one_hr = round(df.resample('60min',on='date').co.mean(),2)\n",
    "no2_one_hr = round(df.resample('60min',on='date').no2.mean(),2)\n",
    "pm2_5_one_hr = round(df.resample('60min',on='date').pm2_5.mean(),2)\n",
    "pm10_one_hr = round(df.resample('60min',on='date').pm10.mean(),2)\n",
    "\n",
    "one_hr_sample = pd.DataFrame({\n",
    "    \"TEMP\":temp_one_hr,\n",
    "    \"HUM\":hum_one_hr,\n",
    "    \"CO\":co_one_hr,\n",
    "    \"NO2\":no2_one_hr,\n",
    "    \"PM2.5\":pm2_5_one_hr,\n",
    "    \"PM10\":pm10_one_hr\n",
    "})\n",
    "\n",
    "one_hr_sample"
   ]
  },
  {
   "cell_type": "code",
   "execution_count": 7,
   "metadata": {},
   "outputs": [],
   "source": [
    "pm = one_hr_sample[['PM2.5']].copy()"
   ]
  },
  {
   "cell_type": "code",
   "execution_count": 8,
   "metadata": {},
   "outputs": [
    {
     "data": {
      "text/html": [
       "<div>\n",
       "<style scoped>\n",
       "    .dataframe tbody tr th:only-of-type {\n",
       "        vertical-align: middle;\n",
       "    }\n",
       "\n",
       "    .dataframe tbody tr th {\n",
       "        vertical-align: top;\n",
       "    }\n",
       "\n",
       "    .dataframe thead th {\n",
       "        text-align: right;\n",
       "    }\n",
       "</style>\n",
       "<table border=\"1\" class=\"dataframe\">\n",
       "  <thead>\n",
       "    <tr style=\"text-align: right;\">\n",
       "      <th></th>\n",
       "      <th>PM2.5</th>\n",
       "    </tr>\n",
       "    <tr>\n",
       "      <th>date</th>\n",
       "      <th></th>\n",
       "    </tr>\n",
       "  </thead>\n",
       "  <tbody>\n",
       "    <tr>\n",
       "      <th>2019-09-13 05:00:00</th>\n",
       "      <td>28.34</td>\n",
       "    </tr>\n",
       "    <tr>\n",
       "      <th>2019-09-13 06:00:00</th>\n",
       "      <td>32.36</td>\n",
       "    </tr>\n",
       "    <tr>\n",
       "      <th>2019-09-13 07:00:00</th>\n",
       "      <td>58.58</td>\n",
       "    </tr>\n",
       "    <tr>\n",
       "      <th>2019-09-13 08:00:00</th>\n",
       "      <td>43.30</td>\n",
       "    </tr>\n",
       "    <tr>\n",
       "      <th>2019-09-13 09:00:00</th>\n",
       "      <td>48.00</td>\n",
       "    </tr>\n",
       "    <tr>\n",
       "      <th>...</th>\n",
       "      <td>...</td>\n",
       "    </tr>\n",
       "    <tr>\n",
       "      <th>2020-01-11 13:00:00</th>\n",
       "      <td>89.39</td>\n",
       "    </tr>\n",
       "    <tr>\n",
       "      <th>2020-01-11 14:00:00</th>\n",
       "      <td>77.89</td>\n",
       "    </tr>\n",
       "    <tr>\n",
       "      <th>2020-01-11 15:00:00</th>\n",
       "      <td>64.70</td>\n",
       "    </tr>\n",
       "    <tr>\n",
       "      <th>2020-01-11 16:00:00</th>\n",
       "      <td>64.13</td>\n",
       "    </tr>\n",
       "    <tr>\n",
       "      <th>2020-01-11 17:00:00</th>\n",
       "      <td>60.89</td>\n",
       "    </tr>\n",
       "  </tbody>\n",
       "</table>\n",
       "<p>2893 rows × 1 columns</p>\n",
       "</div>"
      ],
      "text/plain": [
       "                     PM2.5\n",
       "date                      \n",
       "2019-09-13 05:00:00  28.34\n",
       "2019-09-13 06:00:00  32.36\n",
       "2019-09-13 07:00:00  58.58\n",
       "2019-09-13 08:00:00  43.30\n",
       "2019-09-13 09:00:00  48.00\n",
       "...                    ...\n",
       "2020-01-11 13:00:00  89.39\n",
       "2020-01-11 14:00:00  77.89\n",
       "2020-01-11 15:00:00  64.70\n",
       "2020-01-11 16:00:00  64.13\n",
       "2020-01-11 17:00:00  60.89\n",
       "\n",
       "[2893 rows x 1 columns]"
      ]
     },
     "execution_count": 8,
     "metadata": {},
     "output_type": "execute_result"
    }
   ],
   "source": [
    "pm"
   ]
  },
  {
   "cell_type": "code",
   "execution_count": 9,
   "metadata": {},
   "outputs": [],
   "source": [
    "df = pm.copy()"
   ]
  },
  {
   "cell_type": "code",
   "execution_count": 10,
   "metadata": {},
   "outputs": [
    {
     "data": {
      "text/html": [
       "<div>\n",
       "<style scoped>\n",
       "    .dataframe tbody tr th:only-of-type {\n",
       "        vertical-align: middle;\n",
       "    }\n",
       "\n",
       "    .dataframe tbody tr th {\n",
       "        vertical-align: top;\n",
       "    }\n",
       "\n",
       "    .dataframe thead th {\n",
       "        text-align: right;\n",
       "    }\n",
       "</style>\n",
       "<table border=\"1\" class=\"dataframe\">\n",
       "  <thead>\n",
       "    <tr style=\"text-align: right;\">\n",
       "      <th></th>\n",
       "      <th>PM2.5</th>\n",
       "    </tr>\n",
       "    <tr>\n",
       "      <th>date</th>\n",
       "      <th></th>\n",
       "    </tr>\n",
       "  </thead>\n",
       "  <tbody>\n",
       "    <tr>\n",
       "      <th>2019-09-13 05:00:00</th>\n",
       "      <td>28.34</td>\n",
       "    </tr>\n",
       "    <tr>\n",
       "      <th>2019-09-13 06:00:00</th>\n",
       "      <td>32.36</td>\n",
       "    </tr>\n",
       "    <tr>\n",
       "      <th>2019-09-13 07:00:00</th>\n",
       "      <td>58.58</td>\n",
       "    </tr>\n",
       "    <tr>\n",
       "      <th>2019-09-13 08:00:00</th>\n",
       "      <td>43.30</td>\n",
       "    </tr>\n",
       "    <tr>\n",
       "      <th>2019-09-13 09:00:00</th>\n",
       "      <td>48.00</td>\n",
       "    </tr>\n",
       "    <tr>\n",
       "      <th>...</th>\n",
       "      <td>...</td>\n",
       "    </tr>\n",
       "    <tr>\n",
       "      <th>2020-01-11 13:00:00</th>\n",
       "      <td>89.39</td>\n",
       "    </tr>\n",
       "    <tr>\n",
       "      <th>2020-01-11 14:00:00</th>\n",
       "      <td>77.89</td>\n",
       "    </tr>\n",
       "    <tr>\n",
       "      <th>2020-01-11 15:00:00</th>\n",
       "      <td>64.70</td>\n",
       "    </tr>\n",
       "    <tr>\n",
       "      <th>2020-01-11 16:00:00</th>\n",
       "      <td>64.13</td>\n",
       "    </tr>\n",
       "    <tr>\n",
       "      <th>2020-01-11 17:00:00</th>\n",
       "      <td>60.89</td>\n",
       "    </tr>\n",
       "  </tbody>\n",
       "</table>\n",
       "<p>2893 rows × 1 columns</p>\n",
       "</div>"
      ],
      "text/plain": [
       "                     PM2.5\n",
       "date                      \n",
       "2019-09-13 05:00:00  28.34\n",
       "2019-09-13 06:00:00  32.36\n",
       "2019-09-13 07:00:00  58.58\n",
       "2019-09-13 08:00:00  43.30\n",
       "2019-09-13 09:00:00  48.00\n",
       "...                    ...\n",
       "2020-01-11 13:00:00  89.39\n",
       "2020-01-11 14:00:00  77.89\n",
       "2020-01-11 15:00:00  64.70\n",
       "2020-01-11 16:00:00  64.13\n",
       "2020-01-11 17:00:00  60.89\n",
       "\n",
       "[2893 rows x 1 columns]"
      ]
     },
     "execution_count": 10,
     "metadata": {},
     "output_type": "execute_result"
    }
   ],
   "source": [
    "#df = df[:2886]\n",
    "df"
   ]
  },
  {
   "cell_type": "code",
   "execution_count": 11,
   "metadata": {},
   "outputs": [
    {
     "data": {
      "text/plain": [
       "PM2.5    1142\n",
       "dtype: int64"
      ]
     },
     "execution_count": 11,
     "metadata": {},
     "output_type": "execute_result"
    }
   ],
   "source": [
    "df.isna().sum()"
   ]
  },
  {
   "cell_type": "code",
   "execution_count": 12,
   "metadata": {},
   "outputs": [],
   "source": [
    "df = df.interpolate(method ='linear')"
   ]
  },
  {
   "cell_type": "code",
   "execution_count": 13,
   "metadata": {},
   "outputs": [
    {
     "data": {
      "text/plain": [
       "<AxesSubplot:xlabel='date'>"
      ]
     },
     "execution_count": 13,
     "metadata": {},
     "output_type": "execute_result"
    },
    {
     "data": {
      "image/png": "[encoded data removed]",
      "text/plain": [
       "<Figure size 432x288 with 1 Axes>"
      ]
     },
     "metadata": {
      "needs_background": "light"
     },
     "output_type": "display_data"
    }
   ],
   "source": [
    "df.plot()"
   ]
  },
  {
   "cell_type": "code",
   "execution_count": 14,
   "metadata": {},
   "outputs": [
    {
     "data": {
      "image/png": "[encoded data removed]",
      "text/plain": [
       "<Figure size 432x288 with 4 Axes>"
      ]
     },
     "execution_count": 14,
     "metadata": {},
     "output_type": "execute_result"
    },
    {
     "data": {
      "image/png": "[encoded data removed]",
      "text/plain": [
       "<Figure size 432x288 with 4 Axes>"
      ]
     },
     "metadata": {
      "needs_background": "light"
     },
     "output_type": "display_data"
    }
   ],
   "source": [
    "results = seasonal_decompose(df['PM2.5'], freq=24)\n",
    "results.plot()"
   ]
  },
  {
   "cell_type": "code",
   "execution_count": 15,
   "metadata": {},
   "outputs": [
    {
     "data": {
      "text/plain": [
       "2893"
      ]
     },
     "execution_count": 15,
     "metadata": {},
     "output_type": "execute_result"
    }
   ],
   "source": [
    "len(df)"
   ]
  },
  {
   "cell_type": "code",
   "execution_count": 16,
   "metadata": {},
   "outputs": [],
   "source": [
    "train = df.iloc[:2869]\n",
    "test = df.iloc[2869:]\n",
    "\n",
    "scaler = MinMaxScaler()"
   ]
  },
  {
   "cell_type": "code",
   "execution_count": 17,
   "metadata": {},
   "outputs": [
    {
     "data": {
      "text/plain": [
       "(                     PM2.5\n",
       " date                      \n",
       " 2019-09-13 05:00:00  28.34\n",
       " 2019-09-13 06:00:00  32.36\n",
       " 2019-09-13 07:00:00  58.58\n",
       " 2019-09-13 08:00:00  43.30\n",
       " 2019-09-13 09:00:00  48.00,\n",
       "                      PM2.5\n",
       " date                      \n",
       " 2020-01-11 13:00:00  89.39\n",
       " 2020-01-11 14:00:00  77.89\n",
       " 2020-01-11 15:00:00  64.70\n",
       " 2020-01-11 16:00:00  64.13\n",
       " 2020-01-11 17:00:00  60.89)"
      ]
     },
     "execution_count": 17,
     "metadata": {},
     "output_type": "execute_result"
    }
   ],
   "source": [
    "df.head(), df.tail()"
   ]
  },
  {
   "cell_type": "code",
   "execution_count": 18,
   "metadata": {},
   "outputs": [
    {
     "data": {
      "text/plain": [
       "array([[0.02829435],\n",
       "       [0.03288078],\n",
       "       [0.06279521],\n",
       "       [0.04536224],\n",
       "       [0.05072447],\n",
       "       [0.04333143],\n",
       "       [0.03057616],\n",
       "       [0.03297205],\n",
       "       [0.03249287],\n",
       "       [0.02310325]])"
      ]
     },
     "execution_count": 18,
     "metadata": {},
     "output_type": "execute_result"
    }
   ],
   "source": [
    "scaler.fit(train)\n",
    "scaled_train = scaler.transform(train)\n",
    "scaled_test = scaler.transform(test)\n",
    "\n",
    "scaled_train[:10]"
   ]
  },
  {
   "cell_type": "markdown",
   "metadata": {},
   "source": [
    "# Recursive Strategy"
   ]
  },
  {
   "cell_type": "code",
   "execution_count": 19,
   "metadata": {},
   "outputs": [
    {
     "data": {
      "text/plain": [
       "(array([[[0.02829435],\n",
       "         [0.03288078],\n",
       "         [0.06279521],\n",
       "         [0.04536224],\n",
       "         [0.05072447],\n",
       "         [0.04333143],\n",
       "         [0.03057616],\n",
       "         [0.03297205],\n",
       "         [0.03249287],\n",
       "         [0.02310325],\n",
       "         [0.02780376],\n",
       "         [0.03410154],\n",
       "         [0.04109527],\n",
       "         [0.03640616],\n",
       "         [0.02851112],\n",
       "         [0.02158585],\n",
       "         [0.02287507],\n",
       "         [0.02459783],\n",
       "         [0.02989161],\n",
       "         [0.03270964],\n",
       "         [0.03437536],\n",
       "         [0.03888192],\n",
       "         [0.04152881],\n",
       "         [0.04274957]]]),\n",
       " array([[0.04358243]]))"
      ]
     },
     "execution_count": 19,
     "metadata": {},
     "output_type": "execute_result"
    }
   ],
   "source": [
    "n_input = 24\n",
    "n_features = 1\n",
    "generator = TimeseriesGenerator(scaled_train, scaled_train,length=n_input,batch_size=1)\n",
    "\n",
    "generator[0]"
   ]
  },
  {
   "cell_type": "code",
   "execution_count": 20,
   "metadata": {},
   "outputs": [
    {
     "name": "stdout",
     "output_type": "stream",
     "text": [
      "Model: \"sequential\"\n",
      "_________________________________________________________________\n",
      "Layer (type)                 Output Shape              Param #   \n",
      "=================================================================\n",
      "lstm (LSTM)                  (None, 200)               161600    \n",
      "_________________________________________________________________\n",
      "dense (Dense)                (None, 1)                 201       \n",
      "=================================================================\n",
      "Total params: 161,801\n",
      "Trainable params: 161,801\n",
      "Non-trainable params: 0\n",
      "_________________________________________________________________\n"
     ]
    }
   ],
   "source": [
    "model = Sequential()\n",
    "model.add(LSTM(200, activation='relu', input_shape=(n_input, n_features)))\n",
    "model.add(Dense(1))\n",
    "model.compile(optimizer='adam', loss='mse')\n",
    "\n",
    "model.summary()"
   ]
  },
  {
   "cell_type": "code",
   "execution_count": 21,
   "metadata": {},
   "outputs": [
    {
     "name": "stdout",
     "output_type": "stream",
     "text": [
      "Epoch 1/10\n",
      "2845/2845 [==============================] - 88s 15ms/step - loss: 0.0039\n",
      "Epoch 2/10\n",
      "2845/2845 [==============================] - 42s 15ms/step - loss: 0.0019\n",
      "Epoch 3/10\n",
      "2845/2845 [==============================] - 29s 10ms/step - loss: 0.0015\n",
      "Epoch 4/10\n",
      "2845/2845 [==============================] - 29s 10ms/step - loss: 0.0014\n",
      "Epoch 5/10\n",
      "2845/2845 [==============================] - 29s 10ms/step - loss: 0.0015\n",
      "Epoch 6/10\n",
      "2845/2845 [==============================] - 30s 10ms/step - loss: 0.0017\n",
      "Epoch 7/10\n",
      "2845/2845 [==============================] - 30s 11ms/step - loss: 0.0014\n",
      "Epoch 8/10\n",
      "2845/2845 [==============================] - 30s 11ms/step - loss: 0.0014\n",
      "Epoch 9/10\n",
      "2845/2845 [==============================] - 30s 10ms/step - loss: 0.0018\n",
      "Epoch 10/10\n",
      "2845/2845 [==============================] - 30s 10ms/step - loss: 0.0016\n"
     ]
    },
    {
     "data": {
      "text/plain": [
       "<keras.callbacks.History at 0x151013435b0>"
      ]
     },
     "execution_count": 21,
     "metadata": {},
     "output_type": "execute_result"
    }
   ],
   "source": [
    "model.fit(generator, epochs=10, verbose=1)"
   ]
  },
  {
   "cell_type": "code",
   "execution_count": 22,
   "metadata": {},
   "outputs": [
    {
     "data": {
      "text/plain": [
       "[<matplotlib.lines.Line2D at 0x151039ff040>]"
      ]
     },
     "execution_count": 22,
     "metadata": {},
     "output_type": "execute_result"
    },
    {
     "data": {
      "image/png": "[encoded data removed]",
      "text/plain": [
       "<Figure size 432x288 with 1 Axes>"
      ]
     },
     "metadata": {
      "needs_background": "light"
     },
     "output_type": "display_data"
    }
   ],
   "source": [
    "loss_per_epoch = model.history.history['loss']\n",
    "plt.plot(range(len(loss_per_epoch)), loss_per_epoch)"
   ]
  },
  {
   "cell_type": "code",
   "execution_count": 23,
   "metadata": {},
   "outputs": [
    {
     "data": {
      "text/plain": [
       "array([[0.15397304]], dtype=float32)"
      ]
     },
     "execution_count": 23,
     "metadata": {},
     "output_type": "execute_result"
    }
   ],
   "source": [
    "last_train_batch = scaled_train[-n_input:]\n",
    "\n",
    "last_train_batch = last_train_batch.reshape((1,n_input, n_features))\n",
    "\n",
    "model.predict(last_train_batch)"
   ]
  },
  {
   "cell_type": "code",
   "execution_count": 24,
   "metadata": {},
   "outputs": [
    {
     "data": {
      "text/plain": [
       "(array([0.22958357]), array([0.2803765]))"
      ]
     },
     "execution_count": 24,
     "metadata": {},
     "output_type": "execute_result"
    }
   ],
   "source": [
    "scaled_test[0], scaled_test[1]"
   ]
  },
  {
   "cell_type": "code",
   "execution_count": 25,
   "metadata": {},
   "outputs": [
    {
     "data": {
      "text/plain": [
       "[array([0.15397304], dtype=float32),\n",
       " array([0.1777727], dtype=float32),\n",
       " array([0.19226106], dtype=float32),\n",
       " array([0.19935656], dtype=float32),\n",
       " array([0.20029578], dtype=float32),\n",
       " array([0.19691144], dtype=float32),\n",
       " array([0.19091193], dtype=float32),\n",
       " array([0.18385231], dtype=float32),\n",
       " array([0.1772392], dtype=float32),\n",
       " array([0.17221273], dtype=float32),\n",
       " array([0.16951078], dtype=float32),\n",
       " array([0.16917217], dtype=float32),\n",
       " array([0.17095904], dtype=float32),\n",
       " array([0.17432487], dtype=float32),\n",
       " array([0.17860697], dtype=float32),\n",
       " array([0.1831694], dtype=float32),\n",
       " array([0.1875379], dtype=float32),\n",
       " array([0.19135126], dtype=float32),\n",
       " array([0.19446369], dtype=float32),\n",
       " array([0.19686781], dtype=float32),\n",
       " array([0.19867533], dtype=float32),\n",
       " array([0.20005843], dtype=float32),\n",
       " array([0.20120767], dtype=float32),\n",
       " array([0.20234752], dtype=float32)]"
      ]
     },
     "execution_count": 25,
     "metadata": {},
     "output_type": "execute_result"
    }
   ],
   "source": [
    "test_predictions = []\n",
    "\n",
    "first_eval_batch = scaled_train[-n_input:]\n",
    "current_batch = first_eval_batch.reshape((1, n_input, n_features))\n",
    "\n",
    "for i in range(len(test)):\n",
    "    current_pred = model.predict(current_batch)[0]\n",
    "    \n",
    "    test_predictions.append(current_pred)\n",
    "    \n",
    "    current_batch = np.append(current_batch[:,1:,:],[[current_pred]], axis=1)\n",
    "    \n",
    "test_predictions"
   ]
  },
  {
   "cell_type": "code",
   "execution_count": 26,
   "metadata": {},
   "outputs": [
    {
     "data": {
      "text/html": [
       "<div>\n",
       "<style scoped>\n",
       "    .dataframe tbody tr th:only-of-type {\n",
       "        vertical-align: middle;\n",
       "    }\n",
       "\n",
       "    .dataframe tbody tr th {\n",
       "        vertical-align: top;\n",
       "    }\n",
       "\n",
       "    .dataframe thead th {\n",
       "        text-align: right;\n",
       "    }\n",
       "</style>\n",
       "<table border=\"1\" class=\"dataframe\">\n",
       "  <thead>\n",
       "    <tr style=\"text-align: right;\">\n",
       "      <th></th>\n",
       "      <th>PM2.5</th>\n",
       "    </tr>\n",
       "    <tr>\n",
       "      <th>date</th>\n",
       "      <th></th>\n",
       "    </tr>\n",
       "  </thead>\n",
       "  <tbody>\n",
       "    <tr>\n",
       "      <th>2020-01-10 18:00:00</th>\n",
       "      <td>204.77</td>\n",
       "    </tr>\n",
       "    <tr>\n",
       "      <th>2020-01-10 19:00:00</th>\n",
       "      <td>249.29</td>\n",
       "    </tr>\n",
       "    <tr>\n",
       "      <th>2020-01-10 20:00:00</th>\n",
       "      <td>231.89</td>\n",
       "    </tr>\n",
       "    <tr>\n",
       "      <th>2020-01-10 21:00:00</th>\n",
       "      <td>131.43</td>\n",
       "    </tr>\n",
       "    <tr>\n",
       "      <th>2020-01-10 22:00:00</th>\n",
       "      <td>106.64</td>\n",
       "    </tr>\n",
       "  </tbody>\n",
       "</table>\n",
       "</div>"
      ],
      "text/plain": [
       "                      PM2.5\n",
       "date                       \n",
       "2020-01-10 18:00:00  204.77\n",
       "2020-01-10 19:00:00  249.29\n",
       "2020-01-10 20:00:00  231.89\n",
       "2020-01-10 21:00:00  131.43\n",
       "2020-01-10 22:00:00  106.64"
      ]
     },
     "execution_count": 26,
     "metadata": {},
     "output_type": "execute_result"
    }
   ],
   "source": [
    "test.head()"
   ]
  },
  {
   "cell_type": "code",
   "execution_count": 27,
   "metadata": {},
   "outputs": [],
   "source": [
    "true_predictions = scaler.inverse_transform(test_predictions)\n",
    "\n",
    "test['recursive_predict'] = true_predictions"
   ]
  },
  {
   "cell_type": "code",
   "execution_count": 28,
   "metadata": {},
   "outputs": [
    {
     "data": {
      "text/plain": [
       "<AxesSubplot:xlabel='date'>"
      ]
     },
     "execution_count": 28,
     "metadata": {},
     "output_type": "execute_result"
    },
    {
     "data": {
      "image/png": "[encoded data removed]",
      "text/plain": [
       "<Figure size 432x288 with 1 Axes>"
      ]
     },
     "metadata": {
      "needs_background": "light"
     },
     "output_type": "display_data"
    }
   ],
   "source": [
    "test.plot()"
   ]
  },
  {
   "cell_type": "code",
   "execution_count": 29,
   "metadata": {},
   "outputs": [
    {
     "name": "stdout",
     "output_type": "stream",
     "text": [
      "72.04750339555416\n"
     ]
    }
   ],
   "source": [
    "rmse = sqrt(mean_squared_error(test['PM2.5'], test['recursive_predict']))\n",
    "print(rmse)"
   ]
  },
  {
   "cell_type": "code",
   "execution_count": 30,
   "metadata": {},
   "outputs": [
    {
     "data": {
      "text/html": [
       "<div>\n",
       "<style scoped>\n",
       "    .dataframe tbody tr th:only-of-type {\n",
       "        vertical-align: middle;\n",
       "    }\n",
       "\n",
       "    .dataframe tbody tr th {\n",
       "        vertical-align: top;\n",
       "    }\n",
       "\n",
       "    .dataframe thead th {\n",
       "        text-align: right;\n",
       "    }\n",
       "</style>\n",
       "<table border=\"1\" class=\"dataframe\">\n",
       "  <thead>\n",
       "    <tr style=\"text-align: right;\">\n",
       "      <th></th>\n",
       "      <th>PM2.5</th>\n",
       "      <th>recursive_predict</th>\n",
       "    </tr>\n",
       "    <tr>\n",
       "      <th>date</th>\n",
       "      <th></th>\n",
       "      <th></th>\n",
       "    </tr>\n",
       "  </thead>\n",
       "  <tbody>\n",
       "    <tr>\n",
       "      <th>2020-01-10 18:00:00</th>\n",
       "      <td>204.77</td>\n",
       "      <td>138.497372</td>\n",
       "    </tr>\n",
       "    <tr>\n",
       "      <th>2020-01-10 19:00:00</th>\n",
       "      <td>249.29</td>\n",
       "      <td>159.357772</td>\n",
       "    </tr>\n",
       "    <tr>\n",
       "      <th>2020-01-10 20:00:00</th>\n",
       "      <td>231.89</td>\n",
       "      <td>172.056815</td>\n",
       "    </tr>\n",
       "    <tr>\n",
       "      <th>2020-01-10 21:00:00</th>\n",
       "      <td>131.43</td>\n",
       "      <td>178.276021</td>\n",
       "    </tr>\n",
       "    <tr>\n",
       "      <th>2020-01-10 22:00:00</th>\n",
       "      <td>106.64</td>\n",
       "      <td>179.099248</td>\n",
       "    </tr>\n",
       "    <tr>\n",
       "      <th>2020-01-10 23:00:00</th>\n",
       "      <td>101.65</td>\n",
       "      <td>176.132877</td>\n",
       "    </tr>\n",
       "    <tr>\n",
       "      <th>2020-01-11 00:00:00</th>\n",
       "      <td>99.95</td>\n",
       "      <td>170.874310</td>\n",
       "    </tr>\n",
       "    <tr>\n",
       "      <th>2020-01-11 01:00:00</th>\n",
       "      <td>100.23</td>\n",
       "      <td>164.686554</td>\n",
       "    </tr>\n",
       "    <tr>\n",
       "      <th>2020-01-11 02:00:00</th>\n",
       "      <td>105.74</td>\n",
       "      <td>158.890154</td>\n",
       "    </tr>\n",
       "    <tr>\n",
       "      <th>2020-01-11 03:00:00</th>\n",
       "      <td>149.26</td>\n",
       "      <td>154.484462</td>\n",
       "    </tr>\n",
       "    <tr>\n",
       "      <th>2020-01-11 04:00:00</th>\n",
       "      <td>151.59</td>\n",
       "      <td>152.116200</td>\n",
       "    </tr>\n",
       "    <tr>\n",
       "      <th>2020-01-11 05:00:00</th>\n",
       "      <td>186.50</td>\n",
       "      <td>151.819405</td>\n",
       "    </tr>\n",
       "    <tr>\n",
       "      <th>2020-01-11 06:00:00</th>\n",
       "      <td>174.40</td>\n",
       "      <td>153.385599</td>\n",
       "    </tr>\n",
       "    <tr>\n",
       "      <th>2020-01-11 07:00:00</th>\n",
       "      <td>241.11</td>\n",
       "      <td>156.335749</td>\n",
       "    </tr>\n",
       "    <tr>\n",
       "      <th>2020-01-11 08:00:00</th>\n",
       "      <td>174.19</td>\n",
       "      <td>160.089011</td>\n",
       "    </tr>\n",
       "    <tr>\n",
       "      <th>2020-01-11 09:00:00</th>\n",
       "      <td>120.95</td>\n",
       "      <td>164.087974</td>\n",
       "    </tr>\n",
       "    <tr>\n",
       "      <th>2020-01-11 10:00:00</th>\n",
       "      <td>109.48</td>\n",
       "      <td>167.916964</td>\n",
       "    </tr>\n",
       "    <tr>\n",
       "      <th>2020-01-11 11:00:00</th>\n",
       "      <td>99.97</td>\n",
       "      <td>171.259384</td>\n",
       "    </tr>\n",
       "    <tr>\n",
       "      <th>2020-01-11 12:00:00</th>\n",
       "      <td>97.94</td>\n",
       "      <td>173.987420</td>\n",
       "    </tr>\n",
       "    <tr>\n",
       "      <th>2020-01-11 13:00:00</th>\n",
       "      <td>89.39</td>\n",
       "      <td>176.094634</td>\n",
       "    </tr>\n",
       "    <tr>\n",
       "      <th>2020-01-11 14:00:00</th>\n",
       "      <td>77.89</td>\n",
       "      <td>177.678931</td>\n",
       "    </tr>\n",
       "    <tr>\n",
       "      <th>2020-01-11 15:00:00</th>\n",
       "      <td>64.70</td>\n",
       "      <td>178.891214</td>\n",
       "    </tr>\n",
       "    <tr>\n",
       "      <th>2020-01-11 16:00:00</th>\n",
       "      <td>64.13</td>\n",
       "      <td>179.898521</td>\n",
       "    </tr>\n",
       "    <tr>\n",
       "      <th>2020-01-11 17:00:00</th>\n",
       "      <td>60.89</td>\n",
       "      <td>180.897599</td>\n",
       "    </tr>\n",
       "  </tbody>\n",
       "</table>\n",
       "</div>"
      ],
      "text/plain": [
       "                      PM2.5  recursive_predict\n",
       "date                                          \n",
       "2020-01-10 18:00:00  204.77         138.497372\n",
       "2020-01-10 19:00:00  249.29         159.357772\n",
       "2020-01-10 20:00:00  231.89         172.056815\n",
       "2020-01-10 21:00:00  131.43         178.276021\n",
       "2020-01-10 22:00:00  106.64         179.099248\n",
       "2020-01-10 23:00:00  101.65         176.132877\n",
       "2020-01-11 00:00:00   99.95         170.874310\n",
       "2020-01-11 01:00:00  100.23         164.686554\n",
       "2020-01-11 02:00:00  105.74         158.890154\n",
       "2020-01-11 03:00:00  149.26         154.484462\n",
       "2020-01-11 04:00:00  151.59         152.116200\n",
       "2020-01-11 05:00:00  186.50         151.819405\n",
       "2020-01-11 06:00:00  174.40         153.385599\n",
       "2020-01-11 07:00:00  241.11         156.335749\n",
       "2020-01-11 08:00:00  174.19         160.089011\n",
       "2020-01-11 09:00:00  120.95         164.087974\n",
       "2020-01-11 10:00:00  109.48         167.916964\n",
       "2020-01-11 11:00:00   99.97         171.259384\n",
       "2020-01-11 12:00:00   97.94         173.987420\n",
       "2020-01-11 13:00:00   89.39         176.094634\n",
       "2020-01-11 14:00:00   77.89         177.678931\n",
       "2020-01-11 15:00:00   64.70         178.891214\n",
       "2020-01-11 16:00:00   64.13         179.898521\n",
       "2020-01-11 17:00:00   60.89         180.897599"
      ]
     },
     "execution_count": 30,
     "metadata": {},
     "output_type": "execute_result"
    }
   ],
   "source": [
    "test"
   ]
  },
  {
   "cell_type": "markdown",
   "metadata": {},
   "source": [
    "# Direct Startegy"
   ]
  },
  {
   "cell_type": "code",
   "execution_count": 31,
   "metadata": {},
   "outputs": [],
   "source": [
    "def generate_data(data, n_input, month):\n",
    "    X, y = [], []\n",
    "    for i in range(0,len(data)-(n_input+month)):\n",
    "            X.append(data[i:i+n_input])\n",
    "            y.append(data[i+n_input+(month-1)])\n",
    "    return np.array(X), np.array(y)"
   ]
  },
  {
   "cell_type": "code",
   "execution_count": 32,
   "metadata": {},
   "outputs": [],
   "source": [
    "def model_predict(m_no, train_data, n_input, n_features):\n",
    "    \n",
    "    model = Sequential()\n",
    "    model.add(LSTM(200, activation='relu', input_shape=(n_input, n_features)))\n",
    "    model.add(Dense(1))\n",
    "    model.compile(optimizer='adam', loss='mse')\n",
    "    \n",
    "    X, y = generate_data(train_data, n_input, m_no)\n",
    "    \n",
    "    #print(\"MODEL : \", m_no)\n",
    "    #print(X[0], y[0])\n",
    "    \n",
    "    model.fit(X, y, epochs=3, verbose=0)\n",
    "    \n",
    "    tX = train_data[-n_input:]\n",
    "    \n",
    "    tX = tX.reshape((1, n_input, n_features))\n",
    "    \n",
    "    res = model.predict(tX)\n",
    "    \n",
    "    return res[0]"
   ]
  },
  {
   "cell_type": "code",
   "execution_count": 33,
   "metadata": {},
   "outputs": [
    {
     "name": "stdout",
     "output_type": "stream",
     "text": [
      "WARNING:tensorflow:5 out of the last 29 calls to <function Model.make_predict_function.<locals>.predict_function at 0x0000015110B403A0> triggered tf.function retracing. Tracing is expensive and the excessive number of tracings could be due to (1) creating @tf.function repeatedly in a loop, (2) passing tensors with different shapes, (3) passing Python objects instead of tensors. For (1), please define your @tf.function outside of the loop. For (2), @tf.function has experimental_relax_shapes=True option that relaxes argument shapes that can avoid unnecessary retracing. For (3), please refer to https://www.tensorflow.org/guide/function#controlling_retracing and https://www.tensorflow.org/api_docs/python/tf/function for  more details.\n",
      "WARNING:tensorflow:6 out of the last 30 calls to <function Model.make_predict_function.<locals>.predict_function at 0x0000015103979040> triggered tf.function retracing. Tracing is expensive and the excessive number of tracings could be due to (1) creating @tf.function repeatedly in a loop, (2) passing tensors with different shapes, (3) passing Python objects instead of tensors. For (1), please define your @tf.function outside of the loop. For (2), @tf.function has experimental_relax_shapes=True option that relaxes argument shapes that can avoid unnecessary retracing. For (3), please refer to https://www.tensorflow.org/guide/function#controlling_retracing and https://www.tensorflow.org/api_docs/python/tf/function for  more details.\n"
     ]
    },
    {
     "data": {
      "text/plain": [
       "[array([0.11286788], dtype=float32),\n",
       " array([0.14272141], dtype=float32),\n",
       " array([0.14220916], dtype=float32),\n",
       " array([0.14809327], dtype=float32),\n",
       " array([0.16921516], dtype=float32),\n",
       " array([0.20805717], dtype=float32),\n",
       " array([0.17313673], dtype=float32),\n",
       " array([0.1539914], dtype=float32),\n",
       " array([0.18308167], dtype=float32),\n",
       " array([0.15546317], dtype=float32),\n",
       " array([0.1732721], dtype=float32),\n",
       " array([0.17034449], dtype=float32),\n",
       " array([0.16661142], dtype=float32),\n",
       " array([0.19131051], dtype=float32),\n",
       " array([0.13500184], dtype=float32),\n",
       " array([0.14565286], dtype=float32),\n",
       " array([0.14897473], dtype=float32),\n",
       " array([0.16521546], dtype=float32),\n",
       " array([0.12686408], dtype=float32),\n",
       " array([0.13537015], dtype=float32),\n",
       " array([0.12565334], dtype=float32),\n",
       " array([0.12988304], dtype=float32),\n",
       " array([0.126276], dtype=float32),\n",
       " array([0.14438073], dtype=float32)]"
      ]
     },
     "execution_count": 33,
     "metadata": {},
     "output_type": "execute_result"
    }
   ],
   "source": [
    "n_input = 24\n",
    "n_features = 1\n",
    "test_predictions = []\n",
    "\n",
    "for i in range(len(scaled_test)):\n",
    "    test_predictions.append(model_predict(i+1,scaled_train,n_input, n_features))\n",
    "    \n",
    "test_predictions"
   ]
  },
  {
   "cell_type": "code",
   "execution_count": 34,
   "metadata": {},
   "outputs": [],
   "source": [
    "true_predictions = scaler.inverse_transform(test_predictions)\n",
    "\n",
    "test['direct_predict'] = true_predictions"
   ]
  },
  {
   "cell_type": "code",
   "execution_count": 35,
   "metadata": {},
   "outputs": [
    {
     "data": {
      "text/plain": [
       "<AxesSubplot:xlabel='date'>"
      ]
     },
     "execution_count": 35,
     "metadata": {},
     "output_type": "execute_result"
    },
    {
     "data": {
      "image/png": "[encoded data removed]",
      "text/plain": [
       "<Figure size 432x288 with 1 Axes>"
      ]
     },
     "metadata": {
      "needs_background": "light"
     },
     "output_type": "display_data"
    }
   ],
   "source": [
    "test.plot()"
   ]
  },
  {
   "cell_type": "code",
   "execution_count": 36,
   "metadata": {},
   "outputs": [
    {
     "name": "stdout",
     "output_type": "stream",
     "text": [
      "57.04072569584779\n"
     ]
    }
   ],
   "source": [
    "rmse = sqrt(mean_squared_error(test['PM2.5'], test['direct_predict']))\n",
    "print(rmse)"
   ]
  },
  {
   "cell_type": "code",
   "execution_count": 37,
   "metadata": {},
   "outputs": [
    {
     "data": {
      "text/html": [
       "<div>\n",
       "<style scoped>\n",
       "    .dataframe tbody tr th:only-of-type {\n",
       "        vertical-align: middle;\n",
       "    }\n",
       "\n",
       "    .dataframe tbody tr th {\n",
       "        vertical-align: top;\n",
       "    }\n",
       "\n",
       "    .dataframe thead th {\n",
       "        text-align: right;\n",
       "    }\n",
       "</style>\n",
       "<table border=\"1\" class=\"dataframe\">\n",
       "  <thead>\n",
       "    <tr style=\"text-align: right;\">\n",
       "      <th></th>\n",
       "      <th>PM2.5</th>\n",
       "      <th>recursive_predict</th>\n",
       "      <th>direct_predict</th>\n",
       "    </tr>\n",
       "    <tr>\n",
       "      <th>date</th>\n",
       "      <th></th>\n",
       "      <th></th>\n",
       "      <th></th>\n",
       "    </tr>\n",
       "  </thead>\n",
       "  <tbody>\n",
       "    <tr>\n",
       "      <th>2020-01-10 18:00:00</th>\n",
       "      <td>204.77</td>\n",
       "      <td>138.497372</td>\n",
       "      <td>102.468694</td>\n",
       "    </tr>\n",
       "    <tr>\n",
       "      <th>2020-01-10 19:00:00</th>\n",
       "      <td>249.29</td>\n",
       "      <td>159.357772</td>\n",
       "      <td>128.635320</td>\n",
       "    </tr>\n",
       "    <tr>\n",
       "      <th>2020-01-10 20:00:00</th>\n",
       "      <td>231.89</td>\n",
       "      <td>172.056815</td>\n",
       "      <td>128.186326</td>\n",
       "    </tr>\n",
       "    <tr>\n",
       "      <th>2020-01-10 21:00:00</th>\n",
       "      <td>131.43</td>\n",
       "      <td>178.276021</td>\n",
       "      <td>133.343750</td>\n",
       "    </tr>\n",
       "    <tr>\n",
       "      <th>2020-01-10 22:00:00</th>\n",
       "      <td>106.64</td>\n",
       "      <td>179.099248</td>\n",
       "      <td>151.857086</td>\n",
       "    </tr>\n",
       "    <tr>\n",
       "      <th>2020-01-10 23:00:00</th>\n",
       "      <td>101.65</td>\n",
       "      <td>176.132877</td>\n",
       "      <td>185.902105</td>\n",
       "    </tr>\n",
       "    <tr>\n",
       "      <th>2020-01-11 00:00:00</th>\n",
       "      <td>99.95</td>\n",
       "      <td>170.874310</td>\n",
       "      <td>155.294340</td>\n",
       "    </tr>\n",
       "    <tr>\n",
       "      <th>2020-01-11 01:00:00</th>\n",
       "      <td>100.23</td>\n",
       "      <td>164.686554</td>\n",
       "      <td>138.513463</td>\n",
       "    </tr>\n",
       "    <tr>\n",
       "      <th>2020-01-11 02:00:00</th>\n",
       "      <td>105.74</td>\n",
       "      <td>158.890154</td>\n",
       "      <td>164.011085</td>\n",
       "    </tr>\n",
       "    <tr>\n",
       "      <th>2020-01-11 03:00:00</th>\n",
       "      <td>149.26</td>\n",
       "      <td>154.484462</td>\n",
       "      <td>139.803472</td>\n",
       "    </tr>\n",
       "    <tr>\n",
       "      <th>2020-01-11 04:00:00</th>\n",
       "      <td>151.59</td>\n",
       "      <td>152.116200</td>\n",
       "      <td>155.412998</td>\n",
       "    </tr>\n",
       "    <tr>\n",
       "      <th>2020-01-11 05:00:00</th>\n",
       "      <td>186.50</td>\n",
       "      <td>151.819405</td>\n",
       "      <td>152.846943</td>\n",
       "    </tr>\n",
       "    <tr>\n",
       "      <th>2020-01-11 06:00:00</th>\n",
       "      <td>174.40</td>\n",
       "      <td>153.385599</td>\n",
       "      <td>149.574908</td>\n",
       "    </tr>\n",
       "    <tr>\n",
       "      <th>2020-01-11 07:00:00</th>\n",
       "      <td>241.11</td>\n",
       "      <td>156.335749</td>\n",
       "      <td>171.223662</td>\n",
       "    </tr>\n",
       "    <tr>\n",
       "      <th>2020-01-11 08:00:00</th>\n",
       "      <td>174.19</td>\n",
       "      <td>160.089011</td>\n",
       "      <td>121.869111</td>\n",
       "    </tr>\n",
       "    <tr>\n",
       "      <th>2020-01-11 09:00:00</th>\n",
       "      <td>120.95</td>\n",
       "      <td>164.087974</td>\n",
       "      <td>131.204732</td>\n",
       "    </tr>\n",
       "    <tr>\n",
       "      <th>2020-01-11 10:00:00</th>\n",
       "      <td>109.48</td>\n",
       "      <td>167.916964</td>\n",
       "      <td>134.116352</td>\n",
       "    </tr>\n",
       "    <tr>\n",
       "      <th>2020-01-11 11:00:00</th>\n",
       "      <td>99.97</td>\n",
       "      <td>171.259384</td>\n",
       "      <td>148.351353</td>\n",
       "    </tr>\n",
       "    <tr>\n",
       "      <th>2020-01-11 12:00:00</th>\n",
       "      <td>97.94</td>\n",
       "      <td>173.987420</td>\n",
       "      <td>114.736362</td>\n",
       "    </tr>\n",
       "    <tr>\n",
       "      <th>2020-01-11 13:00:00</th>\n",
       "      <td>89.39</td>\n",
       "      <td>176.094634</td>\n",
       "      <td>122.191937</td>\n",
       "    </tr>\n",
       "    <tr>\n",
       "      <th>2020-01-11 14:00:00</th>\n",
       "      <td>77.89</td>\n",
       "      <td>177.678931</td>\n",
       "      <td>113.675154</td>\n",
       "    </tr>\n",
       "    <tr>\n",
       "      <th>2020-01-11 15:00:00</th>\n",
       "      <td>64.70</td>\n",
       "      <td>178.891214</td>\n",
       "      <td>117.382481</td>\n",
       "    </tr>\n",
       "    <tr>\n",
       "      <th>2020-01-11 16:00:00</th>\n",
       "      <td>64.13</td>\n",
       "      <td>179.898521</td>\n",
       "      <td>114.220915</td>\n",
       "    </tr>\n",
       "    <tr>\n",
       "      <th>2020-01-11 17:00:00</th>\n",
       "      <td>60.89</td>\n",
       "      <td>180.897599</td>\n",
       "      <td>130.089713</td>\n",
       "    </tr>\n",
       "  </tbody>\n",
       "</table>\n",
       "</div>"
      ],
      "text/plain": [
       "                      PM2.5  recursive_predict  direct_predict\n",
       "date                                                          \n",
       "2020-01-10 18:00:00  204.77         138.497372      102.468694\n",
       "2020-01-10 19:00:00  249.29         159.357772      128.635320\n",
       "2020-01-10 20:00:00  231.89         172.056815      128.186326\n",
       "2020-01-10 21:00:00  131.43         178.276021      133.343750\n",
       "2020-01-10 22:00:00  106.64         179.099248      151.857086\n",
       "2020-01-10 23:00:00  101.65         176.132877      185.902105\n",
       "2020-01-11 00:00:00   99.95         170.874310      155.294340\n",
       "2020-01-11 01:00:00  100.23         164.686554      138.513463\n",
       "2020-01-11 02:00:00  105.74         158.890154      164.011085\n",
       "2020-01-11 03:00:00  149.26         154.484462      139.803472\n",
       "2020-01-11 04:00:00  151.59         152.116200      155.412998\n",
       "2020-01-11 05:00:00  186.50         151.819405      152.846943\n",
       "2020-01-11 06:00:00  174.40         153.385599      149.574908\n",
       "2020-01-11 07:00:00  241.11         156.335749      171.223662\n",
       "2020-01-11 08:00:00  174.19         160.089011      121.869111\n",
       "2020-01-11 09:00:00  120.95         164.087974      131.204732\n",
       "2020-01-11 10:00:00  109.48         167.916964      134.116352\n",
       "2020-01-11 11:00:00   99.97         171.259384      148.351353\n",
       "2020-01-11 12:00:00   97.94         173.987420      114.736362\n",
       "2020-01-11 13:00:00   89.39         176.094634      122.191937\n",
       "2020-01-11 14:00:00   77.89         177.678931      113.675154\n",
       "2020-01-11 15:00:00   64.70         178.891214      117.382481\n",
       "2020-01-11 16:00:00   64.13         179.898521      114.220915\n",
       "2020-01-11 17:00:00   60.89         180.897599      130.089713"
      ]
     },
     "execution_count": 37,
     "metadata": {},
     "output_type": "execute_result"
    }
   ],
   "source": [
    "test"
   ]
  },
  {
   "cell_type": "markdown",
   "metadata": {},
   "source": [
    "# Direct Recursive Startegy"
   ]
  },
  {
   "cell_type": "code",
   "execution_count": 38,
   "metadata": {},
   "outputs": [],
   "source": [
    "def generate_data(data, n_input, month):\n",
    "    X, y = [], []\n",
    "    for i in range(0,len(data)-(n_input+month)):\n",
    "            X.append(data[i:i+n_input+(month-1)])\n",
    "            y.append(data[i+n_input+(month-1)])\n",
    "    return np.array(X), np.array(y)"
   ]
  },
  {
   "cell_type": "code",
   "execution_count": 39,
   "metadata": {},
   "outputs": [],
   "source": [
    "def model_predict(m_no, train_data, n_input, n_features):\n",
    "    \n",
    "    model = Sequential()\n",
    "    model.add(LSTM(200, activation='relu', input_shape=(n_input+(m_no - 1), n_features)))\n",
    "    model.add(Dense(1))\n",
    "    model.compile(optimizer='adam', loss='mse')\n",
    "    \n",
    "    X, y = generate_data(train_data, n_input, m_no)\n",
    "    #print(y.dtype)\n",
    "    \n",
    "    #print(\"Model No.  - \", m_no)\n",
    "    #print(X[0], y[0])\n",
    "    #print(\"SHAPE XY : \", X.shape, y.shape)\n",
    "    \n",
    "    model.fit(X, y, epochs=3, verbose=0)\n",
    "    \n",
    "    tX = train_data[-n_input:]\n",
    "    tP = np.array(test_predictions)\n",
    "    \n",
    "    tX = np.concatenate((tX, tP), axis=None)\n",
    "    \n",
    "    #print(\"TYPE : \", type(tX), type(tP))\n",
    "    \n",
    "    #print(\"TX : \", tX)\n",
    "        \n",
    "    #print(\"SHAPE : \" , tX.shape)\n",
    "    \n",
    "    tX = tX.reshape((1, tX.shape[0], n_features))\n",
    "    \n",
    "    res = model.predict(tX)\n",
    "    \n",
    "    return res[0]"
   ]
  },
  {
   "cell_type": "code",
   "execution_count": 40,
   "metadata": {},
   "outputs": [
    {
     "data": {
      "text/plain": [
       "[array([0.10942153], dtype=float32),\n",
       " array([0.12865989], dtype=float32),\n",
       " array([0.14693537], dtype=float32),\n",
       " array([0.16676255], dtype=float32),\n",
       " array([0.16712418], dtype=float32),\n",
       " array([0.16473453], dtype=float32),\n",
       " array([0.18092895], dtype=float32),\n",
       " array([0.18361536], dtype=float32),\n",
       " array([0.19024502], dtype=float32),\n",
       " array([0.17326057], dtype=float32),\n",
       " array([0.16187865], dtype=float32),\n",
       " array([0.18665506], dtype=float32),\n",
       " array([0.18781607], dtype=float32),\n",
       " array([0.20146567], dtype=float32),\n",
       " array([0.17907248], dtype=float32),\n",
       " array([0.17037694], dtype=float32),\n",
       " array([0.15754381], dtype=float32),\n",
       " array([0.18082666], dtype=float32),\n",
       " array([0.17940801], dtype=float32),\n",
       " array([0.18442118], dtype=float32),\n",
       " array([0.15357615], dtype=float32),\n",
       " array([0.17571566], dtype=float32),\n",
       " array([0.16702528], dtype=float32),\n",
       " array([0.1568292], dtype=float32)]"
      ]
     },
     "execution_count": 40,
     "metadata": {},
     "output_type": "execute_result"
    }
   ],
   "source": [
    "n_input = 24\n",
    "n_features = 1\n",
    "test_predictions = []\n",
    "\n",
    "for i in range(len(scaled_test)):\n",
    "    pred = model_predict(i+1,scaled_train,n_input, n_features)\n",
    "    test_predictions.append(pred)\n",
    "    \n",
    "test_predictions"
   ]
  },
  {
   "cell_type": "code",
   "execution_count": 41,
   "metadata": {},
   "outputs": [],
   "source": [
    "true_predictions = scaler.inverse_transform(test_predictions)\n",
    "\n",
    "test['direct_recursive_predict'] = true_predictions"
   ]
  },
  {
   "cell_type": "code",
   "execution_count": 42,
   "metadata": {},
   "outputs": [
    {
     "data": {
      "text/plain": [
       "<AxesSubplot:xlabel='date'>"
      ]
     },
     "execution_count": 42,
     "metadata": {},
     "output_type": "execute_result"
    },
    {
     "data": {
      "image/png": "[encoded data removed]",
      "text/plain": [
       "<Figure size 432x288 with 1 Axes>"
      ]
     },
     "metadata": {
      "needs_background": "light"
     },
     "output_type": "display_data"
    }
   ],
   "source": [
    "test.plot()"
   ]
  },
  {
   "cell_type": "code",
   "execution_count": 43,
   "metadata": {},
   "outputs": [
    {
     "name": "stdout",
     "output_type": "stream",
     "text": [
      "64.94768409397079\n"
     ]
    }
   ],
   "source": [
    "rmse = sqrt(mean_squared_error(test['PM2.5'], test['direct_recursive_predict']))\n",
    "print(rmse)"
   ]
  },
  {
   "cell_type": "code",
   "execution_count": 44,
   "metadata": {},
   "outputs": [
    {
     "data": {
      "text/html": [
       "<div>\n",
       "<style scoped>\n",
       "    .dataframe tbody tr th:only-of-type {\n",
       "        vertical-align: middle;\n",
       "    }\n",
       "\n",
       "    .dataframe tbody tr th {\n",
       "        vertical-align: top;\n",
       "    }\n",
       "\n",
       "    .dataframe thead th {\n",
       "        text-align: right;\n",
       "    }\n",
       "</style>\n",
       "<table border=\"1\" class=\"dataframe\">\n",
       "  <thead>\n",
       "    <tr style=\"text-align: right;\">\n",
       "      <th></th>\n",
       "      <th>PM2.5</th>\n",
       "      <th>recursive_predict</th>\n",
       "      <th>direct_predict</th>\n",
       "      <th>direct_recursive_predict</th>\n",
       "    </tr>\n",
       "    <tr>\n",
       "      <th>date</th>\n",
       "      <th></th>\n",
       "      <th></th>\n",
       "      <th></th>\n",
       "      <th></th>\n",
       "    </tr>\n",
       "  </thead>\n",
       "  <tbody>\n",
       "    <tr>\n",
       "      <th>2020-01-10 18:00:00</th>\n",
       "      <td>204.77</td>\n",
       "      <td>138.497372</td>\n",
       "      <td>102.468694</td>\n",
       "      <td>99.447970</td>\n",
       "    </tr>\n",
       "    <tr>\n",
       "      <th>2020-01-10 19:00:00</th>\n",
       "      <td>249.29</td>\n",
       "      <td>159.357772</td>\n",
       "      <td>128.635320</td>\n",
       "      <td>116.310393</td>\n",
       "    </tr>\n",
       "    <tr>\n",
       "      <th>2020-01-10 20:00:00</th>\n",
       "      <td>231.89</td>\n",
       "      <td>172.056815</td>\n",
       "      <td>128.186326</td>\n",
       "      <td>132.328855</td>\n",
       "    </tr>\n",
       "    <tr>\n",
       "      <th>2020-01-10 21:00:00</th>\n",
       "      <td>131.43</td>\n",
       "      <td>178.276021</td>\n",
       "      <td>133.343750</td>\n",
       "      <td>149.707371</td>\n",
       "    </tr>\n",
       "    <tr>\n",
       "      <th>2020-01-10 22:00:00</th>\n",
       "      <td>106.64</td>\n",
       "      <td>179.099248</td>\n",
       "      <td>151.857086</td>\n",
       "      <td>150.024346</td>\n",
       "    </tr>\n",
       "    <tr>\n",
       "      <th>2020-01-10 23:00:00</th>\n",
       "      <td>101.65</td>\n",
       "      <td>176.132877</td>\n",
       "      <td>185.902105</td>\n",
       "      <td>147.929813</td>\n",
       "    </tr>\n",
       "    <tr>\n",
       "      <th>2020-01-11 00:00:00</th>\n",
       "      <td>99.95</td>\n",
       "      <td>170.874310</td>\n",
       "      <td>155.294340</td>\n",
       "      <td>162.124221</td>\n",
       "    </tr>\n",
       "    <tr>\n",
       "      <th>2020-01-11 01:00:00</th>\n",
       "      <td>100.23</td>\n",
       "      <td>164.686554</td>\n",
       "      <td>138.513463</td>\n",
       "      <td>164.478860</td>\n",
       "    </tr>\n",
       "    <tr>\n",
       "      <th>2020-01-11 02:00:00</th>\n",
       "      <td>105.74</td>\n",
       "      <td>158.890154</td>\n",
       "      <td>164.011085</td>\n",
       "      <td>170.289758</td>\n",
       "    </tr>\n",
       "    <tr>\n",
       "      <th>2020-01-11 03:00:00</th>\n",
       "      <td>149.26</td>\n",
       "      <td>154.484462</td>\n",
       "      <td>139.803472</td>\n",
       "      <td>155.402889</td>\n",
       "    </tr>\n",
       "    <tr>\n",
       "      <th>2020-01-11 04:00:00</th>\n",
       "      <td>151.59</td>\n",
       "      <td>152.116200</td>\n",
       "      <td>155.412998</td>\n",
       "      <td>145.426633</td>\n",
       "    </tr>\n",
       "    <tr>\n",
       "      <th>2020-01-11 05:00:00</th>\n",
       "      <td>186.50</td>\n",
       "      <td>151.819405</td>\n",
       "      <td>152.846943</td>\n",
       "      <td>167.143160</td>\n",
       "    </tr>\n",
       "    <tr>\n",
       "      <th>2020-01-11 06:00:00</th>\n",
       "      <td>174.40</td>\n",
       "      <td>153.385599</td>\n",
       "      <td>149.574908</td>\n",
       "      <td>168.160784</td>\n",
       "    </tr>\n",
       "    <tr>\n",
       "      <th>2020-01-11 07:00:00</th>\n",
       "      <td>241.11</td>\n",
       "      <td>156.335749</td>\n",
       "      <td>171.223662</td>\n",
       "      <td>180.124657</td>\n",
       "    </tr>\n",
       "    <tr>\n",
       "      <th>2020-01-11 08:00:00</th>\n",
       "      <td>174.19</td>\n",
       "      <td>160.089011</td>\n",
       "      <td>121.869111</td>\n",
       "      <td>160.497033</td>\n",
       "    </tr>\n",
       "    <tr>\n",
       "      <th>2020-01-11 09:00:00</th>\n",
       "      <td>120.95</td>\n",
       "      <td>164.087974</td>\n",
       "      <td>131.204732</td>\n",
       "      <td>152.875389</td>\n",
       "    </tr>\n",
       "    <tr>\n",
       "      <th>2020-01-11 10:00:00</th>\n",
       "      <td>109.48</td>\n",
       "      <td>167.916964</td>\n",
       "      <td>134.116352</td>\n",
       "      <td>141.627148</td>\n",
       "    </tr>\n",
       "    <tr>\n",
       "      <th>2020-01-11 11:00:00</th>\n",
       "      <td>99.97</td>\n",
       "      <td>171.259384</td>\n",
       "      <td>148.351353</td>\n",
       "      <td>162.034571</td>\n",
       "    </tr>\n",
       "    <tr>\n",
       "      <th>2020-01-11 12:00:00</th>\n",
       "      <td>97.94</td>\n",
       "      <td>173.987420</td>\n",
       "      <td>114.736362</td>\n",
       "      <td>160.791124</td>\n",
       "    </tr>\n",
       "    <tr>\n",
       "      <th>2020-01-11 13:00:00</th>\n",
       "      <td>89.39</td>\n",
       "      <td>176.094634</td>\n",
       "      <td>122.191937</td>\n",
       "      <td>165.185166</td>\n",
       "    </tr>\n",
       "    <tr>\n",
       "      <th>2020-01-11 14:00:00</th>\n",
       "      <td>77.89</td>\n",
       "      <td>177.678931</td>\n",
       "      <td>113.675154</td>\n",
       "      <td>138.149496</td>\n",
       "    </tr>\n",
       "    <tr>\n",
       "      <th>2020-01-11 15:00:00</th>\n",
       "      <td>64.70</td>\n",
       "      <td>178.891214</td>\n",
       "      <td>117.382481</td>\n",
       "      <td>157.554772</td>\n",
       "    </tr>\n",
       "    <tr>\n",
       "      <th>2020-01-11 16:00:00</th>\n",
       "      <td>64.13</td>\n",
       "      <td>179.898521</td>\n",
       "      <td>114.220915</td>\n",
       "      <td>149.937661</td>\n",
       "    </tr>\n",
       "    <tr>\n",
       "      <th>2020-01-11 17:00:00</th>\n",
       "      <td>60.89</td>\n",
       "      <td>180.897599</td>\n",
       "      <td>130.089713</td>\n",
       "      <td>141.000788</td>\n",
       "    </tr>\n",
       "  </tbody>\n",
       "</table>\n",
       "</div>"
      ],
      "text/plain": [
       "                      PM2.5  recursive_predict  direct_predict  \\\n",
       "date                                                             \n",
       "2020-01-10 18:00:00  204.77         138.497372      102.468694   \n",
       "2020-01-10 19:00:00  249.29         159.357772      128.635320   \n",
       "2020-01-10 20:00:00  231.89         172.056815      128.186326   \n",
       "2020-01-10 21:00:00  131.43         178.276021      133.343750   \n",
       "2020-01-10 22:00:00  106.64         179.099248      151.857086   \n",
       "2020-01-10 23:00:00  101.65         176.132877      185.902105   \n",
       "2020-01-11 00:00:00   99.95         170.874310      155.294340   \n",
       "2020-01-11 01:00:00  100.23         164.686554      138.513463   \n",
       "2020-01-11 02:00:00  105.74         158.890154      164.011085   \n",
       "2020-01-11 03:00:00  149.26         154.484462      139.803472   \n",
       "2020-01-11 04:00:00  151.59         152.116200      155.412998   \n",
       "2020-01-11 05:00:00  186.50         151.819405      152.846943   \n",
       "2020-01-11 06:00:00  174.40         153.385599      149.574908   \n",
       "2020-01-11 07:00:00  241.11         156.335749      171.223662   \n",
       "2020-01-11 08:00:00  174.19         160.089011      121.869111   \n",
       "2020-01-11 09:00:00  120.95         164.087974      131.204732   \n",
       "2020-01-11 10:00:00  109.48         167.916964      134.116352   \n",
       "2020-01-11 11:00:00   99.97         171.259384      148.351353   \n",
       "2020-01-11 12:00:00   97.94         173.987420      114.736362   \n",
       "2020-01-11 13:00:00   89.39         176.094634      122.191937   \n",
       "2020-01-11 14:00:00   77.89         177.678931      113.675154   \n",
       "2020-01-11 15:00:00   64.70         178.891214      117.382481   \n",
       "2020-01-11 16:00:00   64.13         179.898521      114.220915   \n",
       "2020-01-11 17:00:00   60.89         180.897599      130.089713   \n",
       "\n",
       "                     direct_recursive_predict  \n",
       "date                                           \n",
       "2020-01-10 18:00:00                 99.447970  \n",
       "2020-01-10 19:00:00                116.310393  \n",
       "2020-01-10 20:00:00                132.328855  \n",
       "2020-01-10 21:00:00                149.707371  \n",
       "2020-01-10 22:00:00                150.024346  \n",
       "2020-01-10 23:00:00                147.929813  \n",
       "2020-01-11 00:00:00                162.124221  \n",
       "2020-01-11 01:00:00                164.478860  \n",
       "2020-01-11 02:00:00                170.289758  \n",
       "2020-01-11 03:00:00                155.402889  \n",
       "2020-01-11 04:00:00                145.426633  \n",
       "2020-01-11 05:00:00                167.143160  \n",
       "2020-01-11 06:00:00                168.160784  \n",
       "2020-01-11 07:00:00                180.124657  \n",
       "2020-01-11 08:00:00                160.497033  \n",
       "2020-01-11 09:00:00                152.875389  \n",
       "2020-01-11 10:00:00                141.627148  \n",
       "2020-01-11 11:00:00                162.034571  \n",
       "2020-01-11 12:00:00                160.791124  \n",
       "2020-01-11 13:00:00                165.185166  \n",
       "2020-01-11 14:00:00                138.149496  \n",
       "2020-01-11 15:00:00                157.554772  \n",
       "2020-01-11 16:00:00                149.937661  \n",
       "2020-01-11 17:00:00                141.000788  "
      ]
     },
     "execution_count": 44,
     "metadata": {},
     "output_type": "execute_result"
    }
   ],
   "source": [
    "test"
   ]
  },
  {
   "cell_type": "markdown",
   "metadata": {},
   "source": [
    "# MIMO"
   ]
  },
  {
   "cell_type": "code",
   "execution_count": 45,
   "metadata": {},
   "outputs": [],
   "source": [
    "def generate_data(data, n_input, n_output):\n",
    "    X, y = [], []\n",
    "    for i in range(0,len(data)-(n_input+n_output)):\n",
    "            X.append(data[i:(i+n_input)])\n",
    "            y.append(data[i+n_input: i+n_input+n_output])\n",
    "    return np.array(X), np.array(y)"
   ]
  },
  {
   "cell_type": "code",
   "execution_count": 46,
   "metadata": {},
   "outputs": [],
   "source": [
    "n_input = 24\n",
    "n_features = 1\n",
    "n_output = len(scaled_test)\n",
    "\n",
    "X, y = generate_data(scaled_train, n_input, n_output)"
   ]
  },
  {
   "cell_type": "code",
   "execution_count": 47,
   "metadata": {},
   "outputs": [],
   "source": [
    "model = Sequential()\n",
    "model.add(LSTM(200, activation='relu', input_shape=(n_input, n_features)))\n",
    "model.add(Dense(n_output))\n",
    "model.compile(optimizer='adam', loss='mse')"
   ]
  },
  {
   "cell_type": "code",
   "execution_count": 48,
   "metadata": {},
   "outputs": [
    {
     "data": {
      "text/plain": [
       "<keras.callbacks.History at 0x15111ed0c40>"
      ]
     },
     "execution_count": 48,
     "metadata": {},
     "output_type": "execute_result"
    }
   ],
   "source": [
    "model.fit(X, y, epochs=3, verbose=0)"
   ]
  },
  {
   "cell_type": "code",
   "execution_count": 49,
   "metadata": {},
   "outputs": [
    {
     "name": "stdout",
     "output_type": "stream",
     "text": [
      "Model: \"sequential_49\"\n",
      "_________________________________________________________________\n",
      "Layer (type)                 Output Shape              Param #   \n",
      "=================================================================\n",
      "lstm_49 (LSTM)               (None, 200)               161600    \n",
      "_________________________________________________________________\n",
      "dense_49 (Dense)             (None, 24)                4824      \n",
      "=================================================================\n",
      "Total params: 166,424\n",
      "Trainable params: 166,424\n",
      "Non-trainable params: 0\n",
      "_________________________________________________________________\n"
     ]
    }
   ],
   "source": [
    "model.summary()"
   ]
  },
  {
   "cell_type": "code",
   "execution_count": 50,
   "metadata": {},
   "outputs": [],
   "source": [
    "tX = scaled_train[-n_input:]\n",
    "tX = tX.reshape((1, tX.shape[0], n_features))\n",
    "\n",
    "res = model.predict(tX)\n",
    "\n",
    "res = res.reshape((res.shape[1],1))"
   ]
  },
  {
   "cell_type": "code",
   "execution_count": 51,
   "metadata": {},
   "outputs": [
    {
     "data": {
      "text/plain": [
       "(24, 1)"
      ]
     },
     "execution_count": 51,
     "metadata": {},
     "output_type": "execute_result"
    }
   ],
   "source": [
    "res.shape"
   ]
  },
  {
   "cell_type": "code",
   "execution_count": 52,
   "metadata": {},
   "outputs": [],
   "source": [
    "true_predictions = scaler.inverse_transform(res)\n",
    "\n",
    "test['MIMO_predict'] = true_predictions"
   ]
  },
  {
   "cell_type": "code",
   "execution_count": 53,
   "metadata": {},
   "outputs": [
    {
     "data": {
      "text/html": [
       "<div>\n",
       "<style scoped>\n",
       "    .dataframe tbody tr th:only-of-type {\n",
       "        vertical-align: middle;\n",
       "    }\n",
       "\n",
       "    .dataframe tbody tr th {\n",
       "        vertical-align: top;\n",
       "    }\n",
       "\n",
       "    .dataframe thead th {\n",
       "        text-align: right;\n",
       "    }\n",
       "</style>\n",
       "<table border=\"1\" class=\"dataframe\">\n",
       "  <thead>\n",
       "    <tr style=\"text-align: right;\">\n",
       "      <th></th>\n",
       "      <th>PM2.5</th>\n",
       "      <th>recursive_predict</th>\n",
       "      <th>direct_predict</th>\n",
       "      <th>direct_recursive_predict</th>\n",
       "      <th>MIMO_predict</th>\n",
       "    </tr>\n",
       "    <tr>\n",
       "      <th>date</th>\n",
       "      <th></th>\n",
       "      <th></th>\n",
       "      <th></th>\n",
       "      <th></th>\n",
       "      <th></th>\n",
       "    </tr>\n",
       "  </thead>\n",
       "  <tbody>\n",
       "    <tr>\n",
       "      <th>2020-01-10 18:00:00</th>\n",
       "      <td>204.77</td>\n",
       "      <td>138.497372</td>\n",
       "      <td>102.468694</td>\n",
       "      <td>99.447970</td>\n",
       "      <td>122.061226</td>\n",
       "    </tr>\n",
       "    <tr>\n",
       "      <th>2020-01-10 19:00:00</th>\n",
       "      <td>249.29</td>\n",
       "      <td>159.357772</td>\n",
       "      <td>128.635320</td>\n",
       "      <td>116.310393</td>\n",
       "      <td>138.497055</td>\n",
       "    </tr>\n",
       "    <tr>\n",
       "      <th>2020-01-10 20:00:00</th>\n",
       "      <td>231.89</td>\n",
       "      <td>172.056815</td>\n",
       "      <td>128.186326</td>\n",
       "      <td>132.328855</td>\n",
       "      <td>138.115662</td>\n",
       "    </tr>\n",
       "    <tr>\n",
       "      <th>2020-01-10 21:00:00</th>\n",
       "      <td>131.43</td>\n",
       "      <td>178.276021</td>\n",
       "      <td>133.343750</td>\n",
       "      <td>149.707371</td>\n",
       "      <td>148.640854</td>\n",
       "    </tr>\n",
       "    <tr>\n",
       "      <th>2020-01-10 22:00:00</th>\n",
       "      <td>106.64</td>\n",
       "      <td>179.099248</td>\n",
       "      <td>151.857086</td>\n",
       "      <td>150.024346</td>\n",
       "      <td>147.734680</td>\n",
       "    </tr>\n",
       "    <tr>\n",
       "      <th>2020-01-10 23:00:00</th>\n",
       "      <td>101.65</td>\n",
       "      <td>176.132877</td>\n",
       "      <td>185.902105</td>\n",
       "      <td>147.929813</td>\n",
       "      <td>145.476593</td>\n",
       "    </tr>\n",
       "    <tr>\n",
       "      <th>2020-01-11 00:00:00</th>\n",
       "      <td>99.95</td>\n",
       "      <td>170.874310</td>\n",
       "      <td>155.294340</td>\n",
       "      <td>162.124221</td>\n",
       "      <td>145.410431</td>\n",
       "    </tr>\n",
       "    <tr>\n",
       "      <th>2020-01-11 01:00:00</th>\n",
       "      <td>100.23</td>\n",
       "      <td>164.686554</td>\n",
       "      <td>138.513463</td>\n",
       "      <td>164.478860</td>\n",
       "      <td>142.472305</td>\n",
       "    </tr>\n",
       "    <tr>\n",
       "      <th>2020-01-11 02:00:00</th>\n",
       "      <td>105.74</td>\n",
       "      <td>158.890154</td>\n",
       "      <td>164.011085</td>\n",
       "      <td>170.289758</td>\n",
       "      <td>133.790894</td>\n",
       "    </tr>\n",
       "    <tr>\n",
       "      <th>2020-01-11 03:00:00</th>\n",
       "      <td>149.26</td>\n",
       "      <td>154.484462</td>\n",
       "      <td>139.803472</td>\n",
       "      <td>155.402889</td>\n",
       "      <td>135.205688</td>\n",
       "    </tr>\n",
       "    <tr>\n",
       "      <th>2020-01-11 04:00:00</th>\n",
       "      <td>151.59</td>\n",
       "      <td>152.116200</td>\n",
       "      <td>155.412998</td>\n",
       "      <td>145.426633</td>\n",
       "      <td>143.133118</td>\n",
       "    </tr>\n",
       "    <tr>\n",
       "      <th>2020-01-11 05:00:00</th>\n",
       "      <td>186.50</td>\n",
       "      <td>151.819405</td>\n",
       "      <td>152.846943</td>\n",
       "      <td>167.143160</td>\n",
       "      <td>145.799316</td>\n",
       "    </tr>\n",
       "    <tr>\n",
       "      <th>2020-01-11 06:00:00</th>\n",
       "      <td>174.40</td>\n",
       "      <td>153.385599</td>\n",
       "      <td>149.574908</td>\n",
       "      <td>168.160784</td>\n",
       "      <td>153.120468</td>\n",
       "    </tr>\n",
       "    <tr>\n",
       "      <th>2020-01-11 07:00:00</th>\n",
       "      <td>241.11</td>\n",
       "      <td>156.335749</td>\n",
       "      <td>171.223662</td>\n",
       "      <td>180.124657</td>\n",
       "      <td>151.376358</td>\n",
       "    </tr>\n",
       "    <tr>\n",
       "      <th>2020-01-11 08:00:00</th>\n",
       "      <td>174.19</td>\n",
       "      <td>160.089011</td>\n",
       "      <td>121.869111</td>\n",
       "      <td>160.497033</td>\n",
       "      <td>162.248871</td>\n",
       "    </tr>\n",
       "    <tr>\n",
       "      <th>2020-01-11 09:00:00</th>\n",
       "      <td>120.95</td>\n",
       "      <td>164.087974</td>\n",
       "      <td>131.204732</td>\n",
       "      <td>152.875389</td>\n",
       "      <td>152.865311</td>\n",
       "    </tr>\n",
       "    <tr>\n",
       "      <th>2020-01-11 10:00:00</th>\n",
       "      <td>109.48</td>\n",
       "      <td>167.916964</td>\n",
       "      <td>134.116352</td>\n",
       "      <td>141.627148</td>\n",
       "      <td>147.899094</td>\n",
       "    </tr>\n",
       "    <tr>\n",
       "      <th>2020-01-11 11:00:00</th>\n",
       "      <td>99.97</td>\n",
       "      <td>171.259384</td>\n",
       "      <td>148.351353</td>\n",
       "      <td>162.034571</td>\n",
       "      <td>143.846710</td>\n",
       "    </tr>\n",
       "    <tr>\n",
       "      <th>2020-01-11 12:00:00</th>\n",
       "      <td>97.94</td>\n",
       "      <td>173.987420</td>\n",
       "      <td>114.736362</td>\n",
       "      <td>160.791124</td>\n",
       "      <td>139.254440</td>\n",
       "    </tr>\n",
       "    <tr>\n",
       "      <th>2020-01-11 13:00:00</th>\n",
       "      <td>89.39</td>\n",
       "      <td>176.094634</td>\n",
       "      <td>122.191937</td>\n",
       "      <td>165.185166</td>\n",
       "      <td>133.025101</td>\n",
       "    </tr>\n",
       "    <tr>\n",
       "      <th>2020-01-11 14:00:00</th>\n",
       "      <td>77.89</td>\n",
       "      <td>177.678931</td>\n",
       "      <td>113.675154</td>\n",
       "      <td>138.149496</td>\n",
       "      <td>127.726341</td>\n",
       "    </tr>\n",
       "    <tr>\n",
       "      <th>2020-01-11 15:00:00</th>\n",
       "      <td>64.70</td>\n",
       "      <td>178.891214</td>\n",
       "      <td>117.382481</td>\n",
       "      <td>157.554772</td>\n",
       "      <td>124.069481</td>\n",
       "    </tr>\n",
       "    <tr>\n",
       "      <th>2020-01-11 16:00:00</th>\n",
       "      <td>64.13</td>\n",
       "      <td>179.898521</td>\n",
       "      <td>114.220915</td>\n",
       "      <td>149.937661</td>\n",
       "      <td>117.750725</td>\n",
       "    </tr>\n",
       "    <tr>\n",
       "      <th>2020-01-11 17:00:00</th>\n",
       "      <td>60.89</td>\n",
       "      <td>180.897599</td>\n",
       "      <td>130.089713</td>\n",
       "      <td>141.000788</td>\n",
       "      <td>125.386345</td>\n",
       "    </tr>\n",
       "  </tbody>\n",
       "</table>\n",
       "</div>"
      ],
      "text/plain": [
       "                      PM2.5  recursive_predict  direct_predict  \\\n",
       "date                                                             \n",
       "2020-01-10 18:00:00  204.77         138.497372      102.468694   \n",
       "2020-01-10 19:00:00  249.29         159.357772      128.635320   \n",
       "2020-01-10 20:00:00  231.89         172.056815      128.186326   \n",
       "2020-01-10 21:00:00  131.43         178.276021      133.343750   \n",
       "2020-01-10 22:00:00  106.64         179.099248      151.857086   \n",
       "2020-01-10 23:00:00  101.65         176.132877      185.902105   \n",
       "2020-01-11 00:00:00   99.95         170.874310      155.294340   \n",
       "2020-01-11 01:00:00  100.23         164.686554      138.513463   \n",
       "2020-01-11 02:00:00  105.74         158.890154      164.011085   \n",
       "2020-01-11 03:00:00  149.26         154.484462      139.803472   \n",
       "2020-01-11 04:00:00  151.59         152.116200      155.412998   \n",
       "2020-01-11 05:00:00  186.50         151.819405      152.846943   \n",
       "2020-01-11 06:00:00  174.40         153.385599      149.574908   \n",
       "2020-01-11 07:00:00  241.11         156.335749      171.223662   \n",
       "2020-01-11 08:00:00  174.19         160.089011      121.869111   \n",
       "2020-01-11 09:00:00  120.95         164.087974      131.204732   \n",
       "2020-01-11 10:00:00  109.48         167.916964      134.116352   \n",
       "2020-01-11 11:00:00   99.97         171.259384      148.351353   \n",
       "2020-01-11 12:00:00   97.94         173.987420      114.736362   \n",
       "2020-01-11 13:00:00   89.39         176.094634      122.191937   \n",
       "2020-01-11 14:00:00   77.89         177.678931      113.675154   \n",
       "2020-01-11 15:00:00   64.70         178.891214      117.382481   \n",
       "2020-01-11 16:00:00   64.13         179.898521      114.220915   \n",
       "2020-01-11 17:00:00   60.89         180.897599      130.089713   \n",
       "\n",
       "                     direct_recursive_predict  MIMO_predict  \n",
       "date                                                         \n",
       "2020-01-10 18:00:00                 99.447970    122.061226  \n",
       "2020-01-10 19:00:00                116.310393    138.497055  \n",
       "2020-01-10 20:00:00                132.328855    138.115662  \n",
       "2020-01-10 21:00:00                149.707371    148.640854  \n",
       "2020-01-10 22:00:00                150.024346    147.734680  \n",
       "2020-01-10 23:00:00                147.929813    145.476593  \n",
       "2020-01-11 00:00:00                162.124221    145.410431  \n",
       "2020-01-11 01:00:00                164.478860    142.472305  \n",
       "2020-01-11 02:00:00                170.289758    133.790894  \n",
       "2020-01-11 03:00:00                155.402889    135.205688  \n",
       "2020-01-11 04:00:00                145.426633    143.133118  \n",
       "2020-01-11 05:00:00                167.143160    145.799316  \n",
       "2020-01-11 06:00:00                168.160784    153.120468  \n",
       "2020-01-11 07:00:00                180.124657    151.376358  \n",
       "2020-01-11 08:00:00                160.497033    162.248871  \n",
       "2020-01-11 09:00:00                152.875389    152.865311  \n",
       "2020-01-11 10:00:00                141.627148    147.899094  \n",
       "2020-01-11 11:00:00                162.034571    143.846710  \n",
       "2020-01-11 12:00:00                160.791124    139.254440  \n",
       "2020-01-11 13:00:00                165.185166    133.025101  \n",
       "2020-01-11 14:00:00                138.149496    127.726341  \n",
       "2020-01-11 15:00:00                157.554772    124.069481  \n",
       "2020-01-11 16:00:00                149.937661    117.750725  \n",
       "2020-01-11 17:00:00                141.000788    125.386345  "
      ]
     },
     "execution_count": 53,
     "metadata": {},
     "output_type": "execute_result"
    }
   ],
   "source": [
    "test"
   ]
  },
  {
   "cell_type": "code",
   "execution_count": 54,
   "metadata": {},
   "outputs": [
    {
     "data": {
      "text/plain": [
       "<AxesSubplot:xlabel='date'>"
      ]
     },
     "execution_count": 54,
     "metadata": {},
     "output_type": "execute_result"
    },
    {
     "data": {
      "image/png": "[encoded data removed]",
      "text/plain": [
       "<Figure size 432x288 with 1 Axes>"
      ]
     },
     "metadata": {
      "needs_background": "light"
     },
     "output_type": "display_data"
    }
   ],
   "source": [
    "test.plot()"
   ]
  },
  {
   "cell_type": "code",
   "execution_count": 55,
   "metadata": {},
   "outputs": [
    {
     "name": "stdout",
     "output_type": "stream",
     "text": [
      "53.26829958512823\n"
     ]
    }
   ],
   "source": [
    "rmse = sqrt(mean_squared_error(test['PM2.5'], test['MIMO_predict']))\n",
    "print(rmse)"
   ]
  },
  {
   "cell_type": "markdown",
   "metadata": {},
   "source": [
    "# Direct MIMO"
   ]
  },
  {
   "cell_type": "code",
   "execution_count": 56,
   "metadata": {},
   "outputs": [],
   "source": [
    "def generate_data(data, n_input, q_no, n_output):\n",
    "    X, y = [], []\n",
    "    for i in range(0,len(data)-(n_input + ((q_no-1)*n_output) + n_output)):\n",
    "            X.append(data[i:(i+n_input)])\n",
    "            y.append(data[i+n_input+((q_no-1)*n_output): i+n_input+((q_no-1)*n_output) + n_output])\n",
    "    return np.array(X), np.array(y)"
   ]
  },
  {
   "cell_type": "code",
   "execution_count": 57,
   "metadata": {},
   "outputs": [],
   "source": [
    "def model_predict(train_data, n_input, n_features, q_no, n_output):\n",
    "    \n",
    "    model = Sequential()\n",
    "    model.add(LSTM(200, activation='relu', input_shape=(n_input, n_features)))\n",
    "    model.add(Dense(n_output))\n",
    "    model.compile(optimizer='adam', loss='mse')\n",
    "    \n",
    "    X, y = generate_data(train_data, n_input, q_no, n_output)\n",
    "    \n",
    "    model.fit(X, y, epochs=3, verbose=0)\n",
    "    \n",
    "    tX = train_data[-n_input:]\n",
    "    \n",
    "    tX = tX.reshape((1, n_input, n_features))\n",
    "    \n",
    "    res = model.predict(tX)\n",
    "    \n",
    "    return res"
   ]
  },
  {
   "cell_type": "code",
   "execution_count": 58,
   "metadata": {},
   "outputs": [
    {
     "data": {
      "text/plain": [
       "[array([[0.12932847, 0.14040755, 0.15406427, 0.15721732, 0.16096638,\n",
       "         0.1691166 ]], dtype=float32),\n",
       " array([[0.14570582, 0.14563002, 0.15671703, 0.15856622, 0.15915018,\n",
       "         0.15413041]], dtype=float32),\n",
       " array([[0.19427615, 0.19510314, 0.19525029, 0.19146794, 0.1868712 ,\n",
       "         0.17057921]], dtype=float32),\n",
       " array([[0.14589836, 0.13686758, 0.12785704, 0.12300353, 0.12025112,\n",
       "         0.1308246 ]], dtype=float32),\n",
       " array([[0.1623332 , 0.16622156, 0.17255853, 0.18245636, 0.1759014 ,\n",
       "         0.17884171]], dtype=float32),\n",
       " array([[0.14521356, 0.14951494, 0.14933665, 0.14626983, 0.14697258,\n",
       "         0.14464353]], dtype=float32)]"
      ]
     },
     "execution_count": 58,
     "metadata": {},
     "output_type": "execute_result"
    }
   ],
   "source": [
    "n_input = 12\n",
    "n_features = 1\n",
    "test_predictions = []\n",
    "\n",
    "q = int(len(scaled_test)/4)\n",
    "\n",
    "n_output = q\n",
    "\n",
    "for i in range(q):\n",
    "    pred = model_predict(scaled_train,n_input, n_features, i+1, n_output)\n",
    "    test_predictions.append(pred)\n",
    "\n",
    "test_predictions"
   ]
  },
  {
   "cell_type": "code",
   "execution_count": 59,
   "metadata": {},
   "outputs": [],
   "source": [
    "res = []\n",
    "\n",
    "for i in test_predictions:\n",
    "    for j in i:\n",
    "        for k in j:\n",
    "            res.append(k)"
   ]
  },
  {
   "cell_type": "code",
   "execution_count": 60,
   "metadata": {},
   "outputs": [
    {
     "data": {
      "text/plain": [
       "(24, 1)"
      ]
     },
     "execution_count": 60,
     "metadata": {},
     "output_type": "execute_result"
    }
   ],
   "source": [
    "res = np.array(res[:len(scaled_test)])\n",
    "res = res.reshape((res.shape[0],1))\n",
    "res.shape"
   ]
  },
  {
   "cell_type": "code",
   "execution_count": 61,
   "metadata": {},
   "outputs": [],
   "source": [
    "true_predictions = scaler.inverse_transform(res)\n",
    "\n",
    "test['Direct_MIMO_predict'] = true_predictions"
   ]
  },
  {
   "cell_type": "code",
   "execution_count": 62,
   "metadata": {},
   "outputs": [
    {
     "data": {
      "text/html": [
       "<div>\n",
       "<style scoped>\n",
       "    .dataframe tbody tr th:only-of-type {\n",
       "        vertical-align: middle;\n",
       "    }\n",
       "\n",
       "    .dataframe tbody tr th {\n",
       "        vertical-align: top;\n",
       "    }\n",
       "\n",
       "    .dataframe thead th {\n",
       "        text-align: right;\n",
       "    }\n",
       "</style>\n",
       "<table border=\"1\" class=\"dataframe\">\n",
       "  <thead>\n",
       "    <tr style=\"text-align: right;\">\n",
       "      <th></th>\n",
       "      <th>PM2.5</th>\n",
       "      <th>recursive_predict</th>\n",
       "      <th>direct_predict</th>\n",
       "      <th>direct_recursive_predict</th>\n",
       "      <th>MIMO_predict</th>\n",
       "      <th>Direct_MIMO_predict</th>\n",
       "    </tr>\n",
       "    <tr>\n",
       "      <th>date</th>\n",
       "      <th></th>\n",
       "      <th></th>\n",
       "      <th></th>\n",
       "      <th></th>\n",
       "      <th></th>\n",
       "      <th></th>\n",
       "    </tr>\n",
       "  </thead>\n",
       "  <tbody>\n",
       "    <tr>\n",
       "      <th>2020-01-10 18:00:00</th>\n",
       "      <td>204.77</td>\n",
       "      <td>138.497372</td>\n",
       "      <td>102.468694</td>\n",
       "      <td>99.447970</td>\n",
       "      <td>122.061226</td>\n",
       "      <td>116.896416</td>\n",
       "    </tr>\n",
       "    <tr>\n",
       "      <th>2020-01-10 19:00:00</th>\n",
       "      <td>249.29</td>\n",
       "      <td>159.357772</td>\n",
       "      <td>128.635320</td>\n",
       "      <td>116.310393</td>\n",
       "      <td>138.497055</td>\n",
       "      <td>126.607224</td>\n",
       "    </tr>\n",
       "    <tr>\n",
       "      <th>2020-01-10 20:00:00</th>\n",
       "      <td>231.89</td>\n",
       "      <td>172.056815</td>\n",
       "      <td>128.186326</td>\n",
       "      <td>132.328855</td>\n",
       "      <td>138.115662</td>\n",
       "      <td>138.577332</td>\n",
       "    </tr>\n",
       "    <tr>\n",
       "      <th>2020-01-10 21:00:00</th>\n",
       "      <td>131.43</td>\n",
       "      <td>178.276021</td>\n",
       "      <td>133.343750</td>\n",
       "      <td>149.707371</td>\n",
       "      <td>148.640854</td>\n",
       "      <td>141.340988</td>\n",
       "    </tr>\n",
       "    <tr>\n",
       "      <th>2020-01-10 22:00:00</th>\n",
       "      <td>106.64</td>\n",
       "      <td>179.099248</td>\n",
       "      <td>151.857086</td>\n",
       "      <td>150.024346</td>\n",
       "      <td>147.734680</td>\n",
       "      <td>144.627045</td>\n",
       "    </tr>\n",
       "    <tr>\n",
       "      <th>2020-01-10 23:00:00</th>\n",
       "      <td>101.65</td>\n",
       "      <td>176.132877</td>\n",
       "      <td>185.902105</td>\n",
       "      <td>147.929813</td>\n",
       "      <td>145.476593</td>\n",
       "      <td>151.770706</td>\n",
       "    </tr>\n",
       "    <tr>\n",
       "      <th>2020-01-11 00:00:00</th>\n",
       "      <td>99.95</td>\n",
       "      <td>170.874310</td>\n",
       "      <td>155.294340</td>\n",
       "      <td>162.124221</td>\n",
       "      <td>145.410431</td>\n",
       "      <td>131.251160</td>\n",
       "    </tr>\n",
       "    <tr>\n",
       "      <th>2020-01-11 01:00:00</th>\n",
       "      <td>100.23</td>\n",
       "      <td>164.686554</td>\n",
       "      <td>138.513463</td>\n",
       "      <td>164.478860</td>\n",
       "      <td>142.472305</td>\n",
       "      <td>131.184708</td>\n",
       "    </tr>\n",
       "    <tr>\n",
       "      <th>2020-01-11 02:00:00</th>\n",
       "      <td>105.74</td>\n",
       "      <td>158.890154</td>\n",
       "      <td>164.011085</td>\n",
       "      <td>170.289758</td>\n",
       "      <td>133.790894</td>\n",
       "      <td>140.902481</td>\n",
       "    </tr>\n",
       "    <tr>\n",
       "      <th>2020-01-11 03:00:00</th>\n",
       "      <td>149.26</td>\n",
       "      <td>154.484462</td>\n",
       "      <td>139.803472</td>\n",
       "      <td>155.402889</td>\n",
       "      <td>135.205688</td>\n",
       "      <td>142.523300</td>\n",
       "    </tr>\n",
       "    <tr>\n",
       "      <th>2020-01-11 04:00:00</th>\n",
       "      <td>151.59</td>\n",
       "      <td>152.116200</td>\n",
       "      <td>155.412998</td>\n",
       "      <td>145.426633</td>\n",
       "      <td>143.133118</td>\n",
       "      <td>143.035141</td>\n",
       "    </tr>\n",
       "    <tr>\n",
       "      <th>2020-01-11 05:00:00</th>\n",
       "      <td>186.50</td>\n",
       "      <td>151.819405</td>\n",
       "      <td>152.846943</td>\n",
       "      <td>167.143160</td>\n",
       "      <td>145.799316</td>\n",
       "      <td>138.635315</td>\n",
       "    </tr>\n",
       "    <tr>\n",
       "      <th>2020-01-11 06:00:00</th>\n",
       "      <td>174.40</td>\n",
       "      <td>153.385599</td>\n",
       "      <td>149.574908</td>\n",
       "      <td>168.160784</td>\n",
       "      <td>153.120468</td>\n",
       "      <td>173.823059</td>\n",
       "    </tr>\n",
       "    <tr>\n",
       "      <th>2020-01-11 07:00:00</th>\n",
       "      <td>241.11</td>\n",
       "      <td>156.335749</td>\n",
       "      <td>171.223662</td>\n",
       "      <td>180.124657</td>\n",
       "      <td>151.376358</td>\n",
       "      <td>174.547913</td>\n",
       "    </tr>\n",
       "    <tr>\n",
       "      <th>2020-01-11 08:00:00</th>\n",
       "      <td>174.19</td>\n",
       "      <td>160.089011</td>\n",
       "      <td>121.869111</td>\n",
       "      <td>160.497033</td>\n",
       "      <td>162.248871</td>\n",
       "      <td>174.676880</td>\n",
       "    </tr>\n",
       "    <tr>\n",
       "      <th>2020-01-11 09:00:00</th>\n",
       "      <td>120.95</td>\n",
       "      <td>164.087974</td>\n",
       "      <td>131.204732</td>\n",
       "      <td>152.875389</td>\n",
       "      <td>152.865311</td>\n",
       "      <td>171.361649</td>\n",
       "    </tr>\n",
       "    <tr>\n",
       "      <th>2020-01-11 10:00:00</th>\n",
       "      <td>109.48</td>\n",
       "      <td>167.916964</td>\n",
       "      <td>134.116352</td>\n",
       "      <td>141.627148</td>\n",
       "      <td>147.899094</td>\n",
       "      <td>167.332611</td>\n",
       "    </tr>\n",
       "    <tr>\n",
       "      <th>2020-01-11 11:00:00</th>\n",
       "      <td>99.97</td>\n",
       "      <td>171.259384</td>\n",
       "      <td>148.351353</td>\n",
       "      <td>162.034571</td>\n",
       "      <td>143.846710</td>\n",
       "      <td>153.052689</td>\n",
       "    </tr>\n",
       "    <tr>\n",
       "      <th>2020-01-11 12:00:00</th>\n",
       "      <td>97.94</td>\n",
       "      <td>173.987420</td>\n",
       "      <td>114.736362</td>\n",
       "      <td>160.791124</td>\n",
       "      <td>139.254440</td>\n",
       "      <td>131.419922</td>\n",
       "    </tr>\n",
       "    <tr>\n",
       "      <th>2020-01-11 13:00:00</th>\n",
       "      <td>89.39</td>\n",
       "      <td>176.094634</td>\n",
       "      <td>122.191937</td>\n",
       "      <td>165.185166</td>\n",
       "      <td>133.025101</td>\n",
       "      <td>123.504440</td>\n",
       "    </tr>\n",
       "    <tr>\n",
       "      <th>2020-01-11 14:00:00</th>\n",
       "      <td>77.89</td>\n",
       "      <td>177.678931</td>\n",
       "      <td>113.675154</td>\n",
       "      <td>138.149496</td>\n",
       "      <td>127.726341</td>\n",
       "      <td>115.606705</td>\n",
       "    </tr>\n",
       "    <tr>\n",
       "      <th>2020-01-11 15:00:00</th>\n",
       "      <td>64.70</td>\n",
       "      <td>178.891214</td>\n",
       "      <td>117.382481</td>\n",
       "      <td>157.554772</td>\n",
       "      <td>124.069481</td>\n",
       "      <td>111.352600</td>\n",
       "    </tr>\n",
       "    <tr>\n",
       "      <th>2020-01-11 16:00:00</th>\n",
       "      <td>64.13</td>\n",
       "      <td>179.898521</td>\n",
       "      <td>114.220915</td>\n",
       "      <td>149.937661</td>\n",
       "      <td>117.750725</td>\n",
       "      <td>108.940102</td>\n",
       "    </tr>\n",
       "    <tr>\n",
       "      <th>2020-01-11 17:00:00</th>\n",
       "      <td>60.89</td>\n",
       "      <td>180.897599</td>\n",
       "      <td>130.089713</td>\n",
       "      <td>141.000788</td>\n",
       "      <td>125.386345</td>\n",
       "      <td>118.207764</td>\n",
       "    </tr>\n",
       "  </tbody>\n",
       "</table>\n",
       "</div>"
      ],
      "text/plain": [
       "                      PM2.5  recursive_predict  direct_predict  \\\n",
       "date                                                             \n",
       "2020-01-10 18:00:00  204.77         138.497372      102.468694   \n",
       "2020-01-10 19:00:00  249.29         159.357772      128.635320   \n",
       "2020-01-10 20:00:00  231.89         172.056815      128.186326   \n",
       "2020-01-10 21:00:00  131.43         178.276021      133.343750   \n",
       "2020-01-10 22:00:00  106.64         179.099248      151.857086   \n",
       "2020-01-10 23:00:00  101.65         176.132877      185.902105   \n",
       "2020-01-11 00:00:00   99.95         170.874310      155.294340   \n",
       "2020-01-11 01:00:00  100.23         164.686554      138.513463   \n",
       "2020-01-11 02:00:00  105.74         158.890154      164.011085   \n",
       "2020-01-11 03:00:00  149.26         154.484462      139.803472   \n",
       "2020-01-11 04:00:00  151.59         152.116200      155.412998   \n",
       "2020-01-11 05:00:00  186.50         151.819405      152.846943   \n",
       "2020-01-11 06:00:00  174.40         153.385599      149.574908   \n",
       "2020-01-11 07:00:00  241.11         156.335749      171.223662   \n",
       "2020-01-11 08:00:00  174.19         160.089011      121.869111   \n",
       "2020-01-11 09:00:00  120.95         164.087974      131.204732   \n",
       "2020-01-11 10:00:00  109.48         167.916964      134.116352   \n",
       "2020-01-11 11:00:00   99.97         171.259384      148.351353   \n",
       "2020-01-11 12:00:00   97.94         173.987420      114.736362   \n",
       "2020-01-11 13:00:00   89.39         176.094634      122.191937   \n",
       "2020-01-11 14:00:00   77.89         177.678931      113.675154   \n",
       "2020-01-11 15:00:00   64.70         178.891214      117.382481   \n",
       "2020-01-11 16:00:00   64.13         179.898521      114.220915   \n",
       "2020-01-11 17:00:00   60.89         180.897599      130.089713   \n",
       "\n",
       "                     direct_recursive_predict  MIMO_predict  \\\n",
       "date                                                          \n",
       "2020-01-10 18:00:00                 99.447970    122.061226   \n",
       "2020-01-10 19:00:00                116.310393    138.497055   \n",
       "2020-01-10 20:00:00                132.328855    138.115662   \n",
       "2020-01-10 21:00:00                149.707371    148.640854   \n",
       "2020-01-10 22:00:00                150.024346    147.734680   \n",
       "2020-01-10 23:00:00                147.929813    145.476593   \n",
       "2020-01-11 00:00:00                162.124221    145.410431   \n",
       "2020-01-11 01:00:00                164.478860    142.472305   \n",
       "2020-01-11 02:00:00                170.289758    133.790894   \n",
       "2020-01-11 03:00:00                155.402889    135.205688   \n",
       "2020-01-11 04:00:00                145.426633    143.133118   \n",
       "2020-01-11 05:00:00                167.143160    145.799316   \n",
       "2020-01-11 06:00:00                168.160784    153.120468   \n",
       "2020-01-11 07:00:00                180.124657    151.376358   \n",
       "2020-01-11 08:00:00                160.497033    162.248871   \n",
       "2020-01-11 09:00:00                152.875389    152.865311   \n",
       "2020-01-11 10:00:00                141.627148    147.899094   \n",
       "2020-01-11 11:00:00                162.034571    143.846710   \n",
       "2020-01-11 12:00:00                160.791124    139.254440   \n",
       "2020-01-11 13:00:00                165.185166    133.025101   \n",
       "2020-01-11 14:00:00                138.149496    127.726341   \n",
       "2020-01-11 15:00:00                157.554772    124.069481   \n",
       "2020-01-11 16:00:00                149.937661    117.750725   \n",
       "2020-01-11 17:00:00                141.000788    125.386345   \n",
       "\n",
       "                     Direct_MIMO_predict  \n",
       "date                                      \n",
       "2020-01-10 18:00:00           116.896416  \n",
       "2020-01-10 19:00:00           126.607224  \n",
       "2020-01-10 20:00:00           138.577332  \n",
       "2020-01-10 21:00:00           141.340988  \n",
       "2020-01-10 22:00:00           144.627045  \n",
       "2020-01-10 23:00:00           151.770706  \n",
       "2020-01-11 00:00:00           131.251160  \n",
       "2020-01-11 01:00:00           131.184708  \n",
       "2020-01-11 02:00:00           140.902481  \n",
       "2020-01-11 03:00:00           142.523300  \n",
       "2020-01-11 04:00:00           143.035141  \n",
       "2020-01-11 05:00:00           138.635315  \n",
       "2020-01-11 06:00:00           173.823059  \n",
       "2020-01-11 07:00:00           174.547913  \n",
       "2020-01-11 08:00:00           174.676880  \n",
       "2020-01-11 09:00:00           171.361649  \n",
       "2020-01-11 10:00:00           167.332611  \n",
       "2020-01-11 11:00:00           153.052689  \n",
       "2020-01-11 12:00:00           131.419922  \n",
       "2020-01-11 13:00:00           123.504440  \n",
       "2020-01-11 14:00:00           115.606705  \n",
       "2020-01-11 15:00:00           111.352600  \n",
       "2020-01-11 16:00:00           108.940102  \n",
       "2020-01-11 17:00:00           118.207764  "
      ]
     },
     "execution_count": 62,
     "metadata": {},
     "output_type": "execute_result"
    }
   ],
   "source": [
    "test"
   ]
  },
  {
   "cell_type": "code",
   "execution_count": 63,
   "metadata": {},
   "outputs": [
    {
     "data": {
      "text/plain": [
       "<AxesSubplot:xlabel='date'>"
      ]
     },
     "execution_count": 63,
     "metadata": {},
     "output_type": "execute_result"
    },
    {
     "data": {
      "image/png": "[encoded data removed]",
      "text/plain": [
       "<Figure size 432x288 with 1 Axes>"
      ]
     },
     "metadata": {
      "needs_background": "light"
     },
     "output_type": "display_data"
    }
   ],
   "source": [
    "test.plot()"
   ]
  },
  {
   "cell_type": "code",
   "execution_count": 64,
   "metadata": {},
   "outputs": [
    {
     "name": "stdout",
     "output_type": "stream",
     "text": [
      "52.214088497245115\n"
     ]
    }
   ],
   "source": [
    "rmse = sqrt(mean_squared_error(test['PM2.5'], test['Direct_MIMO_predict']))\n",
    "print(rmse)"
   ]
  },
  {
   "cell_type": "code",
   "execution_count": 65,
   "metadata": {},
   "outputs": [],
   "source": [
    "rec_err = abs(test['PM2.5'] - test['recursive_predict'])\n",
    "dir_err = abs(test['PM2.5'] - test['direct_predict'])\n",
    "dir_rec_err = abs(test['PM2.5'] - test['direct_recursive_predict'])\n",
    "mimo_err = abs(test['PM2.5'] - test['MIMO_predict'])\n",
    "dir_mimo_err = abs(test['PM2.5'] - test['Direct_MIMO_predict'])"
   ]
  },
  {
   "cell_type": "code",
   "execution_count": 66,
   "metadata": {},
   "outputs": [],
   "source": [
    "errors = pd.DataFrame({\n",
    "    'Recursive':rec_err,\n",
    "    'Direct':dir_err,\n",
    "    'Direct Recursive':dir_rec_err,\n",
    "    'MIMO':mimo_err,\n",
    "    'Direct MIMO':dir_mimo_err\n",
    "})"
   ]
  },
  {
   "cell_type": "code",
   "execution_count": 67,
   "metadata": {},
   "outputs": [
    {
     "data": {
      "text/html": [
       "<div>\n",
       "<style scoped>\n",
       "    .dataframe tbody tr th:only-of-type {\n",
       "        vertical-align: middle;\n",
       "    }\n",
       "\n",
       "    .dataframe tbody tr th {\n",
       "        vertical-align: top;\n",
       "    }\n",
       "\n",
       "    .dataframe thead th {\n",
       "        text-align: right;\n",
       "    }\n",
       "</style>\n",
       "<table border=\"1\" class=\"dataframe\">\n",
       "  <thead>\n",
       "    <tr style=\"text-align: right;\">\n",
       "      <th></th>\n",
       "      <th>Recursive</th>\n",
       "      <th>Direct</th>\n",
       "      <th>Direct Recursive</th>\n",
       "      <th>MIMO</th>\n",
       "      <th>Direct MIMO</th>\n",
       "    </tr>\n",
       "    <tr>\n",
       "      <th>date</th>\n",
       "      <th></th>\n",
       "      <th></th>\n",
       "      <th></th>\n",
       "      <th></th>\n",
       "      <th></th>\n",
       "    </tr>\n",
       "  </thead>\n",
       "  <tbody>\n",
       "    <tr>\n",
       "      <th>2020-01-10 18:00:00</th>\n",
       "      <td>66.272628</td>\n",
       "      <td>102.301306</td>\n",
       "      <td>105.322030</td>\n",
       "      <td>82.708774</td>\n",
       "      <td>87.873584</td>\n",
       "    </tr>\n",
       "    <tr>\n",
       "      <th>2020-01-10 19:00:00</th>\n",
       "      <td>89.932228</td>\n",
       "      <td>120.654680</td>\n",
       "      <td>132.979607</td>\n",
       "      <td>110.792945</td>\n",
       "      <td>122.682776</td>\n",
       "    </tr>\n",
       "    <tr>\n",
       "      <th>2020-01-10 20:00:00</th>\n",
       "      <td>59.833185</td>\n",
       "      <td>103.703674</td>\n",
       "      <td>99.561145</td>\n",
       "      <td>93.774338</td>\n",
       "      <td>93.312668</td>\n",
       "    </tr>\n",
       "    <tr>\n",
       "      <th>2020-01-10 21:00:00</th>\n",
       "      <td>46.846021</td>\n",
       "      <td>1.913750</td>\n",
       "      <td>18.277371</td>\n",
       "      <td>17.210854</td>\n",
       "      <td>9.910988</td>\n",
       "    </tr>\n",
       "    <tr>\n",
       "      <th>2020-01-10 22:00:00</th>\n",
       "      <td>72.459248</td>\n",
       "      <td>45.217086</td>\n",
       "      <td>43.384346</td>\n",
       "      <td>41.094680</td>\n",
       "      <td>37.987045</td>\n",
       "    </tr>\n",
       "    <tr>\n",
       "      <th>2020-01-10 23:00:00</th>\n",
       "      <td>74.482877</td>\n",
       "      <td>84.252105</td>\n",
       "      <td>46.279813</td>\n",
       "      <td>43.826593</td>\n",
       "      <td>50.120706</td>\n",
       "    </tr>\n",
       "    <tr>\n",
       "      <th>2020-01-11 00:00:00</th>\n",
       "      <td>70.924310</td>\n",
       "      <td>55.344340</td>\n",
       "      <td>62.174221</td>\n",
       "      <td>45.460431</td>\n",
       "      <td>31.301160</td>\n",
       "    </tr>\n",
       "    <tr>\n",
       "      <th>2020-01-11 01:00:00</th>\n",
       "      <td>64.456554</td>\n",
       "      <td>38.283463</td>\n",
       "      <td>64.248860</td>\n",
       "      <td>42.242305</td>\n",
       "      <td>30.954708</td>\n",
       "    </tr>\n",
       "    <tr>\n",
       "      <th>2020-01-11 02:00:00</th>\n",
       "      <td>53.150154</td>\n",
       "      <td>58.271085</td>\n",
       "      <td>64.549758</td>\n",
       "      <td>28.050894</td>\n",
       "      <td>35.162481</td>\n",
       "    </tr>\n",
       "    <tr>\n",
       "      <th>2020-01-11 03:00:00</th>\n",
       "      <td>5.224462</td>\n",
       "      <td>9.456528</td>\n",
       "      <td>6.142889</td>\n",
       "      <td>14.054312</td>\n",
       "      <td>6.736700</td>\n",
       "    </tr>\n",
       "    <tr>\n",
       "      <th>2020-01-11 04:00:00</th>\n",
       "      <td>0.526200</td>\n",
       "      <td>3.822998</td>\n",
       "      <td>6.163367</td>\n",
       "      <td>8.456882</td>\n",
       "      <td>8.554859</td>\n",
       "    </tr>\n",
       "    <tr>\n",
       "      <th>2020-01-11 05:00:00</th>\n",
       "      <td>34.680595</td>\n",
       "      <td>33.653057</td>\n",
       "      <td>19.356840</td>\n",
       "      <td>40.700684</td>\n",
       "      <td>47.864685</td>\n",
       "    </tr>\n",
       "    <tr>\n",
       "      <th>2020-01-11 06:00:00</th>\n",
       "      <td>21.014401</td>\n",
       "      <td>24.825092</td>\n",
       "      <td>6.239216</td>\n",
       "      <td>21.279532</td>\n",
       "      <td>0.576941</td>\n",
       "    </tr>\n",
       "    <tr>\n",
       "      <th>2020-01-11 07:00:00</th>\n",
       "      <td>84.774251</td>\n",
       "      <td>69.886338</td>\n",
       "      <td>60.985343</td>\n",
       "      <td>89.733642</td>\n",
       "      <td>66.562087</td>\n",
       "    </tr>\n",
       "    <tr>\n",
       "      <th>2020-01-11 08:00:00</th>\n",
       "      <td>14.100989</td>\n",
       "      <td>52.320889</td>\n",
       "      <td>13.692967</td>\n",
       "      <td>11.941129</td>\n",
       "      <td>0.486880</td>\n",
       "    </tr>\n",
       "    <tr>\n",
       "      <th>2020-01-11 09:00:00</th>\n",
       "      <td>43.137974</td>\n",
       "      <td>10.254732</td>\n",
       "      <td>31.925389</td>\n",
       "      <td>31.915311</td>\n",
       "      <td>50.411649</td>\n",
       "    </tr>\n",
       "    <tr>\n",
       "      <th>2020-01-11 10:00:00</th>\n",
       "      <td>58.436964</td>\n",
       "      <td>24.636352</td>\n",
       "      <td>32.147148</td>\n",
       "      <td>38.419094</td>\n",
       "      <td>57.852611</td>\n",
       "    </tr>\n",
       "    <tr>\n",
       "      <th>2020-01-11 11:00:00</th>\n",
       "      <td>71.289384</td>\n",
       "      <td>48.381353</td>\n",
       "      <td>62.064571</td>\n",
       "      <td>43.876710</td>\n",
       "      <td>53.082689</td>\n",
       "    </tr>\n",
       "    <tr>\n",
       "      <th>2020-01-11 12:00:00</th>\n",
       "      <td>76.047420</td>\n",
       "      <td>16.796362</td>\n",
       "      <td>62.851124</td>\n",
       "      <td>41.314440</td>\n",
       "      <td>33.479922</td>\n",
       "    </tr>\n",
       "    <tr>\n",
       "      <th>2020-01-11 13:00:00</th>\n",
       "      <td>86.704634</td>\n",
       "      <td>32.801937</td>\n",
       "      <td>75.795166</td>\n",
       "      <td>43.635101</td>\n",
       "      <td>34.114440</td>\n",
       "    </tr>\n",
       "    <tr>\n",
       "      <th>2020-01-11 14:00:00</th>\n",
       "      <td>99.788931</td>\n",
       "      <td>35.785154</td>\n",
       "      <td>60.259496</td>\n",
       "      <td>49.836341</td>\n",
       "      <td>37.716705</td>\n",
       "    </tr>\n",
       "    <tr>\n",
       "      <th>2020-01-11 15:00:00</th>\n",
       "      <td>114.191214</td>\n",
       "      <td>52.682481</td>\n",
       "      <td>92.854772</td>\n",
       "      <td>59.369481</td>\n",
       "      <td>46.652600</td>\n",
       "    </tr>\n",
       "    <tr>\n",
       "      <th>2020-01-11 16:00:00</th>\n",
       "      <td>115.768521</td>\n",
       "      <td>50.090915</td>\n",
       "      <td>85.807661</td>\n",
       "      <td>53.620725</td>\n",
       "      <td>44.810102</td>\n",
       "    </tr>\n",
       "    <tr>\n",
       "      <th>2020-01-11 17:00:00</th>\n",
       "      <td>120.007599</td>\n",
       "      <td>69.199713</td>\n",
       "      <td>80.110788</td>\n",
       "      <td>64.496345</td>\n",
       "      <td>57.317764</td>\n",
       "    </tr>\n",
       "  </tbody>\n",
       "</table>\n",
       "</div>"
      ],
      "text/plain": [
       "                      Recursive      Direct  Direct Recursive        MIMO  \\\n",
       "date                                                                        \n",
       "2020-01-10 18:00:00   66.272628  102.301306        105.322030   82.708774   \n",
       "2020-01-10 19:00:00   89.932228  120.654680        132.979607  110.792945   \n",
       "2020-01-10 20:00:00   59.833185  103.703674         99.561145   93.774338   \n",
       "2020-01-10 21:00:00   46.846021    1.913750         18.277371   17.210854   \n",
       "2020-01-10 22:00:00   72.459248   45.217086         43.384346   41.094680   \n",
       "2020-01-10 23:00:00   74.482877   84.252105         46.279813   43.826593   \n",
       "2020-01-11 00:00:00   70.924310   55.344340         62.174221   45.460431   \n",
       "2020-01-11 01:00:00   64.456554   38.283463         64.248860   42.242305   \n",
       "2020-01-11 02:00:00   53.150154   58.271085         64.549758   28.050894   \n",
       "2020-01-11 03:00:00    5.224462    9.456528          6.142889   14.054312   \n",
       "2020-01-11 04:00:00    0.526200    3.822998          6.163367    8.456882   \n",
       "2020-01-11 05:00:00   34.680595   33.653057         19.356840   40.700684   \n",
       "2020-01-11 06:00:00   21.014401   24.825092          6.239216   21.279532   \n",
       "2020-01-11 07:00:00   84.774251   69.886338         60.985343   89.733642   \n",
       "2020-01-11 08:00:00   14.100989   52.320889         13.692967   11.941129   \n",
       "2020-01-11 09:00:00   43.137974   10.254732         31.925389   31.915311   \n",
       "2020-01-11 10:00:00   58.436964   24.636352         32.147148   38.419094   \n",
       "2020-01-11 11:00:00   71.289384   48.381353         62.064571   43.876710   \n",
       "2020-01-11 12:00:00   76.047420   16.796362         62.851124   41.314440   \n",
       "2020-01-11 13:00:00   86.704634   32.801937         75.795166   43.635101   \n",
       "2020-01-11 14:00:00   99.788931   35.785154         60.259496   49.836341   \n",
       "2020-01-11 15:00:00  114.191214   52.682481         92.854772   59.369481   \n",
       "2020-01-11 16:00:00  115.768521   50.090915         85.807661   53.620725   \n",
       "2020-01-11 17:00:00  120.007599   69.199713         80.110788   64.496345   \n",
       "\n",
       "                     Direct MIMO  \n",
       "date                              \n",
       "2020-01-10 18:00:00    87.873584  \n",
       "2020-01-10 19:00:00   122.682776  \n",
       "2020-01-10 20:00:00    93.312668  \n",
       "2020-01-10 21:00:00     9.910988  \n",
       "2020-01-10 22:00:00    37.987045  \n",
       "2020-01-10 23:00:00    50.120706  \n",
       "2020-01-11 00:00:00    31.301160  \n",
       "2020-01-11 01:00:00    30.954708  \n",
       "2020-01-11 02:00:00    35.162481  \n",
       "2020-01-11 03:00:00     6.736700  \n",
       "2020-01-11 04:00:00     8.554859  \n",
       "2020-01-11 05:00:00    47.864685  \n",
       "2020-01-11 06:00:00     0.576941  \n",
       "2020-01-11 07:00:00    66.562087  \n",
       "2020-01-11 08:00:00     0.486880  \n",
       "2020-01-11 09:00:00    50.411649  \n",
       "2020-01-11 10:00:00    57.852611  \n",
       "2020-01-11 11:00:00    53.082689  \n",
       "2020-01-11 12:00:00    33.479922  \n",
       "2020-01-11 13:00:00    34.114440  \n",
       "2020-01-11 14:00:00    37.716705  \n",
       "2020-01-11 15:00:00    46.652600  \n",
       "2020-01-11 16:00:00    44.810102  \n",
       "2020-01-11 17:00:00    57.317764  "
      ]
     },
     "execution_count": 67,
     "metadata": {},
     "output_type": "execute_result"
    }
   ],
   "source": [
    "errors"
   ]
  },
  {
   "cell_type": "code",
   "execution_count": 68,
   "metadata": {},
   "outputs": [
    {
     "data": {
      "text/plain": [
       "<AxesSubplot:xlabel='date'>"
      ]
     },
     "execution_count": 68,
     "metadata": {},
     "output_type": "execute_result"
    },
    {
     "data": {
      "image/png": "[encoded data removed]",
      "text/plain": [
       "<Figure size 432x288 with 1 Axes>"
      ]
     },
     "metadata": {
      "needs_background": "light"
     },
     "output_type": "display_data"
    }
   ],
   "source": [
    "errors.plot()"
   ]
  },
  {
   "cell_type": "code",
   "execution_count": 69,
   "metadata": {},
   "outputs": [
    {
     "data": {
      "text/plain": [
       "24"
      ]
     },
     "execution_count": 69,
     "metadata": {},
     "output_type": "execute_result"
    }
   ],
   "source": [
    "len(scaled_test)"
   ]
  },
  {
   "cell_type": "code",
   "execution_count": null,
   "metadata": {},
   "outputs": [],
   "source": []
  }
 ],
 "metadata": {
  "kernelspec": {
   "display_name": "Python 3",
   "language": "python",
   "name": "python3"
  },
  "language_info": {
   "codemirror_mode": {
    "name": "ipython",
    "version": 3
   },
   "file_extension": ".py",
   "mimetype": "text/x-python",
   "name": "python",
   "nbconvert_exporter": "python",
   "pygments_lexer": "ipython3",
   "version": "3.8.5"
  }
 },
 "nbformat": 4,
 "nbformat_minor": 4
}
